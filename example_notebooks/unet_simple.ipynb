{
 "cells": [
  {
   "cell_type": "markdown",
   "metadata": {
    "colab_type": "text",
    "id": "X4zCPfG4HmmP"
   },
   "source": [
    "# `segmed`: Medical image segmentation\n",
    "\n",
    "`segmed` is a package that makes it very easy to train, evaluate and analyse image segmentation tasks. By using a high-level API, `segmed` can be used to create all kinds of architectures and designs, all custom-built for the end user."
   ]
  },
  {
   "cell_type": "markdown",
   "metadata": {
    "colab_type": "text",
    "id": "PTSlOFpGIiC1"
   },
   "source": [
    "## _Case study:_ The ISBI 2012 image segmentation challenge.\n",
    "\n",
    "[The ISBI 2012 image segmentation challenge](http://brainiac2.mit.edu/isbi_challenge/home) was launched to motivate people to create machine learning algorithms that could succesfully segment histological images.\n",
    "\n",
    "In this challenge, a full stack of electronic microscopy (EM) slices were released to train machine learning algorithms for the purpose of automatic segmentation of neural structures.\n",
    "\n",
    "In this notebook we will use this dataset to train a [U-Net](https://arxiv.org/abs/1505.04597), a fully convolutional neural network designed specifically for image segmentation tasks. We will create a full pipeline to demonstrate how to process the information first and then use `segmed` to create the architecture for us."
   ]
  },
  {
   "cell_type": "markdown",
   "metadata": {
    "colab_type": "text",
    "id": "MnoosYHQJnGz"
   },
   "source": [
    "## 1. Installation and imports\n",
    "\n",
    "We follow the instructions from the [main site](https://github.com/DCI-NET/segmed) and install `segmed` using `pip`, `conda` or `pipenv`."
   ]
  },
  {
   "cell_type": "markdown",
   "metadata": {
    "colab_type": "text",
    "id": "ijfqutNNKFAU"
   },
   "source": [
    "We now import the basic tools that we will need to process everything."
   ]
  },
  {
   "cell_type": "code",
   "execution_count": 1,
   "metadata": {
    "colab": {
     "base_uri": "https://localhost:8080/",
     "height": 511
    },
    "colab_type": "code",
    "id": "3_d9k48BDreI",
    "outputId": "eb6476ab-5a07-4901-9b37-80c213c921e4"
   },
   "outputs": [],
   "source": [
    "import tensorflow.keras as K\n",
    "from segmed.models import Unet\n",
    "from segmed import utils as sut\n",
    "from segmed.metrics import metrics as mts\n",
    "from sklearn.model_selection import train_test_split\n",
    "import numpy as np\n",
    "import matplotlib.pyplot as plt"
   ]
  },
  {
   "cell_type": "markdown",
   "metadata": {
    "colab_type": "text",
    "id": "yhRvAZWCKMrG"
   },
   "source": [
    "## 2. Extract data and process it.\n",
    "\n",
    "We now proceed to extract the data from the official site, in this case we have already done this and saved the dataset in a Google Drive account. To actually download this one must create an account in the [home page](http://brainiac2.mit.edu/isbi_challenge/home) of the challenge.\n",
    "\n",
    "The dataset consists of 30 images and its segmentation masks, as defined by the website."
   ]
  },
  {
   "cell_type": "markdown",
   "metadata": {
    "colab_type": "text",
    "id": "TGnEYyTyPwlQ"
   },
   "source": [
    "### Training parameters\n",
    "In this case we define only 30 training epochs and a batch size of 8, this is after all a small dataset with only 30 training images."
   ]
  },
  {
   "cell_type": "code",
   "execution_count": 2,
   "metadata": {
    "colab": {},
    "colab_type": "code",
    "id": "j2qGJoI_DbzM"
   },
   "outputs": [],
   "source": [
    "# Define some hyper-paramaters\n",
    "epochs = 30\n",
    "batch_size = 8"
   ]
  },
  {
   "cell_type": "markdown",
   "metadata": {
    "colab_type": "text",
    "id": "RDYKdm5iKw0E"
   },
   "source": [
    "`extract_data` is a utility from `segmed` that makes it extremely easy to turn entire directory structures into `numpy` arrays. This function can handle almot every possible format and codification by using `scikit-image`."
   ]
  },
  {
   "cell_type": "code",
   "execution_count": 3,
   "metadata": {
    "colab": {},
    "colab_type": "code",
    "id": "tHFpBw3YDbzU"
   },
   "outputs": [
    {
     "name": "stdout",
     "output_type": "stream",
     "text": [
      "(1, 30, 512, 1, 512)\n",
      "(1, 30, 512, 1, 512)\n"
     ]
    }
   ],
   "source": [
    "# Extract images from directory\n",
    "X, y = sut.extract_data(\n",
    "    \"dataset/train_images/train-volume.tif\",\n",
    "    \"dataset/train_images/train-labels.tif\"\n",
    ")\n",
    "# Let's quickly look at the result\n",
    "print(X.shape)\n",
    "print(y.shape)"
   ]
  },
  {
   "cell_type": "markdown",
   "metadata": {
    "colab_type": "text",
    "id": "icrWESBxMA7P"
   },
   "source": [
    "It seems like the encoding format for the images has created some singleton dimensions, but the information for the images is correct, we do have 30 images, each with a dimension of 512 by 512, in grayscale.\n",
    "\n",
    "Let us remove these redundant dimensions before going any further."
   ]
  },
  {
   "cell_type": "code",
   "execution_count": 4,
   "metadata": {
    "colab": {},
    "colab_type": "code",
    "id": "RVGaFYjdKtUv"
   },
   "outputs": [
    {
     "name": "stdout",
     "output_type": "stream",
     "text": [
      "(30, 512, 512)\n",
      "(30, 512, 512)\n"
     ]
    }
   ],
   "source": [
    "X = np.squeeze(X)\n",
    "y = np.squeeze(y)\n",
    "# Much better!\n",
    "print(X.shape)\n",
    "print(y.shape)"
   ]
  },
  {
   "cell_type": "markdown",
   "metadata": {
    "colab_type": "text",
    "id": "bPszcuqRM7BC"
   },
   "source": [
    "## 3. Crop images\n",
    "\n",
    "In reality, we need smaller images for a neural network because of memory and hardware constraints. 512 by 512 images are too big, but using `segmed` we can `split_images` into smaller, randomly cropped images of the original ones."
   ]
  },
  {
   "cell_type": "code",
   "execution_count": 5,
   "metadata": {
    "colab": {},
    "colab_type": "code",
    "id": "l3vNR7c4Dbzb"
   },
   "outputs": [
    {
     "name": "stdout",
     "output_type": "stream",
     "text": [
      "(120, 128, 128, 1)\n",
      "(120, 128, 128, 1)\n"
     ]
    }
   ],
   "source": [
    "x_patches, y_patches = sut.split_images(\n",
    "    X, y, size=(128, 128), num_part=4\n",
    ")\n",
    "print(x_patches.shape)\n",
    "print(y_patches.shape)"
   ]
  },
  {
   "cell_type": "markdown",
   "metadata": {
    "colab_type": "text",
    "id": "JAkCZwxTNlgl"
   },
   "source": [
    "We now have 120, 128 by 128, grayscale images from the original 30. This is helpful, because we have quadruplicated our dataset. This will help prevent overfitting and have a better generalization.\n",
    "\n",
    "In this case there is a new singleton dimension, but this one we'll keep because it tells us about the **color channels** of the images, i.e. 1 means that the images are _actually_ grayscale."
   ]
  },
  {
   "cell_type": "markdown",
   "metadata": {
    "colab_type": "text",
    "id": "lSJ-oKKiOwGa"
   },
   "source": [
    "## 4. Train and validation sets\n",
    "\n",
    "Now it is time to split the dataset into training and validation sets, using `scikit-learn` we can do this in one line.\n",
    "\n",
    "We specify that we want 70% of the full dataset, i.e. 84 images, for the **training** set, and the other 36 for the **validation** set. We also specify a _random seed_ for reproducibility purposes."
   ]
  },
  {
   "cell_type": "code",
   "execution_count": 6,
   "metadata": {
    "colab": {},
    "colab_type": "code",
    "id": "Uh3e6z0hiyPw"
   },
   "outputs": [
    {
     "name": "stdout",
     "output_type": "stream",
     "text": [
      "(84, 128, 128, 1) (84, 128, 128, 1)\n",
      "(36, 128, 128, 1) (36, 128, 128, 1)\n"
     ]
    }
   ],
   "source": [
    "X_train, X_val, y_train, y_val = train_test_split(x_patches, y_patches,\n",
    "                                                 test_size=0.3,\n",
    "                                                 random_state=298)\n",
    "# Check the number of images and their segmentation maps for each set\n",
    "print(X_train.shape, y_train.shape)\n",
    "print(X_val.shape, y_val.shape)"
   ]
  },
  {
   "cell_type": "markdown",
   "metadata": {
    "colab_type": "text",
    "id": "dnZJXaILP_DG"
   },
   "source": [
    "## 5. Data augmentation\n",
    "\n",
    "Even though we created more images by cropping theme, this is not enough. To further create more images that can be useful for training purposes we need to _augment_ the data we have by using some elementary image transformation, such as rotation, translations, shifts and so on.\n",
    "\n",
    "This does not only expand our dataset, but will make the architecture robust to this transformations.\n",
    "\n",
    "Keep in mind we will only transform the **training** set."
   ]
  },
  {
   "cell_type": "code",
   "execution_count": 7,
   "metadata": {
    "colab": {},
    "colab_type": "code",
    "id": "Zt9UxMp9Dbzk"
   },
   "outputs": [],
   "source": [
    "transformations = dict(\n",
    "    # randomly rotate images in the range (deg 0 to 180)\n",
    "    rotation_range=25.0,\n",
    "    # randomly shift images horizontally\n",
    "    width_shift_range=0.05,\n",
    "    # randomly shift images vertically\n",
    "    height_shift_range=0.05,\n",
    "    # set range for random shear\n",
    "    shear_range=50,\n",
    "    # set range for random zoom\n",
    "    zoom_range=0.2,\n",
    "    fill_mode=\"constant\",\n",
    "    horizontal_flip=True,\n",
    "    vertical_flip=True\n",
    ")"
   ]
  },
  {
   "cell_type": "markdown",
   "metadata": {
    "colab_type": "text",
    "id": "PKibF_3fQiPD"
   },
   "source": [
    "Now we will use `segmed` to create training _generator_ based off of these transformations. The utility `image_mask_augmentation` makes it very easy to achieve this task.\n",
    "\n",
    "These transformations are performed _on the fly_, i.e. while the training loop is performed the images are transformed randomly with the specified transformations."
   ]
  },
  {
   "cell_type": "code",
   "execution_count": 8,
   "metadata": {
    "colab": {},
    "colab_type": "code",
    "id": "j_eNdKZfDbzu"
   },
   "outputs": [],
   "source": [
    "# Transformed traning set\n",
    "training = sut.image_mask_augmentation(X_train, y_train,\n",
    "                                       batch_size=batch_size,   \n",
    "                                       transformations=transformations)"
   ]
  },
  {
   "cell_type": "markdown",
   "metadata": {
    "colab_type": "text",
    "id": "P7HdR1RiRccR"
   },
   "source": [
    "## 6. Architecture setup\n",
    "\n",
    "We'll now define some useful callback provided by the `keras` API, namely a model checkpoint to always keep a copy of the best trained model, as well as a logger to keep track of all the metrics we'll be using here."
   ]
  },
  {
   "cell_type": "code",
   "execution_count": 9,
   "metadata": {
    "colab": {},
    "colab_type": "code",
    "id": "5FVgiFTADbzz"
   },
   "outputs": [],
   "source": [
    "# Create callbacks\n",
    "save_best_model = K.callbacks.ModelCheckpoint(\"unet_simple_new.h5\",\n",
    "                                 monitor=\"val_jaccard_index\",\n",
    "                                 mode=\"max\",\n",
    "                                 verbose=1,\n",
    "                                 save_best_only=True,\n",
    "                                )\n",
    "csv_logger = K.callbacks.CSVLogger(\"unet_simple_new.log\")"
   ]
  },
  {
   "cell_type": "markdown",
   "metadata": {
    "colab_type": "text",
    "id": "ECZyrcdrR2mW"
   },
   "source": [
    "## 7. Architecture specification\n",
    "\n",
    "The U-Net is a very specific architecture, and `segmed` has an implementation of it. It follows the original paper closely, and this implementation provides a _simple_ variant and a _custom_ variant. We will be using the _simple_ variant here, i.e. the one defined in the original paper.\n",
    "\n",
    "For metrics we chose the [**jaccard index**](https://en.wikipedia.org/wiki/Jaccard_index) which is a very standard metric for segmentation tasks; the **over, under and overall** segmentation rates, which are more clearly defined [in this paper](https://www.ncbi.nlm.nih.gov/pmc/articles/PMC1839603/pdf/AMIA2006_0504.pdf). This metrics tell us how good are segmentation maps are, between a range of 0 and 1, lower means better.\n",
    "\n",
    "For the loss function, we will employ **binary crossentropy**, as we only have two possible classes here, either a border or not whitin the segmentation masks. \n",
    "\n",
    "For the optimizer we chose the efficient **Adam with Nesterov momentum.** This optimizer is great for these kind of networks because it helps us reach a global minimum faster."
   ]
  },
  {
   "cell_type": "code",
   "execution_count": 10,
   "metadata": {
    "colab": {},
    "colab_type": "code",
    "id": "Y0xURaznDbz2"
   },
   "outputs": [],
   "source": [
    "# U-net\n",
    "model_unet = Unet(input_size=(128, 128, 1), variant=\"simple\").collect()\n",
    "# This is now a `Keras model`\n",
    "model_unet.compile(\n",
    "    loss=\"binary_crossentropy\",\n",
    "    optimizer=K.optimizers.Nadam(),\n",
    "    metrics=[mts.jaccard_index, mts.o_rate, mts.u_rate, mts.err_rate],\n",
    ")"
   ]
  },
  {
   "cell_type": "code",
   "execution_count": 11,
   "metadata": {
    "colab": {},
    "colab_type": "code",
    "id": "KPO_za3kDbz6"
   },
   "outputs": [
    {
     "name": "stdout",
     "output_type": "stream",
     "text": [
      "Model: \"unet_simple\"\n",
      "__________________________________________________________________________________________________\n",
      "Layer (type)                    Output Shape         Param #     Connected to                     \n",
      "==================================================================================================\n",
      "input_1 (InputLayer)            [(None, 128, 128, 1) 0                                            \n",
      "__________________________________________________________________________________________________\n",
      "conv2d (Conv2D)                 (None, 128, 128, 64) 640         input_1[0][0]                    \n",
      "__________________________________________________________________________________________________\n",
      "conv2d_1 (Conv2D)               (None, 128, 128, 64) 36928       conv2d[0][0]                     \n",
      "__________________________________________________________________________________________________\n",
      "max_pooling2d (MaxPooling2D)    (None, 64, 64, 64)   0           conv2d_1[0][0]                   \n",
      "__________________________________________________________________________________________________\n",
      "conv2d_2 (Conv2D)               (None, 64, 64, 128)  73856       max_pooling2d[0][0]              \n",
      "__________________________________________________________________________________________________\n",
      "conv2d_3 (Conv2D)               (None, 64, 64, 128)  147584      conv2d_2[0][0]                   \n",
      "__________________________________________________________________________________________________\n",
      "max_pooling2d_1 (MaxPooling2D)  (None, 32, 32, 128)  0           conv2d_3[0][0]                   \n",
      "__________________________________________________________________________________________________\n",
      "conv2d_4 (Conv2D)               (None, 32, 32, 256)  295168      max_pooling2d_1[0][0]            \n",
      "__________________________________________________________________________________________________\n",
      "conv2d_5 (Conv2D)               (None, 32, 32, 256)  590080      conv2d_4[0][0]                   \n",
      "__________________________________________________________________________________________________\n",
      "max_pooling2d_2 (MaxPooling2D)  (None, 16, 16, 256)  0           conv2d_5[0][0]                   \n",
      "__________________________________________________________________________________________________\n",
      "conv2d_6 (Conv2D)               (None, 16, 16, 512)  1180160     max_pooling2d_2[0][0]            \n",
      "__________________________________________________________________________________________________\n",
      "conv2d_7 (Conv2D)               (None, 16, 16, 512)  2359808     conv2d_6[0][0]                   \n",
      "__________________________________________________________________________________________________\n",
      "max_pooling2d_3 (MaxPooling2D)  (None, 8, 8, 512)    0           conv2d_7[0][0]                   \n",
      "__________________________________________________________________________________________________\n",
      "conv2d_8 (Conv2D)               (None, 8, 8, 1024)   4719616     max_pooling2d_3[0][0]            \n",
      "__________________________________________________________________________________________________\n",
      "conv2d_9 (Conv2D)               (None, 8, 8, 1024)   9438208     conv2d_8[0][0]                   \n",
      "__________________________________________________________________________________________________\n",
      "up_sampling2d (UpSampling2D)    (None, 16, 16, 1024) 0           conv2d_9[0][0]                   \n",
      "__________________________________________________________________________________________________\n",
      "conv2d_10 (Conv2D)              (None, 16, 16, 512)  2097664     up_sampling2d[0][0]              \n",
      "__________________________________________________________________________________________________\n",
      "concatenate (Concatenate)       (None, 16, 16, 1024) 0           conv2d_7[0][0]                   \n",
      "                                                                 conv2d_10[0][0]                  \n",
      "__________________________________________________________________________________________________\n",
      "conv2d_11 (Conv2D)              (None, 16, 16, 512)  4719104     concatenate[0][0]                \n",
      "__________________________________________________________________________________________________\n",
      "conv2d_12 (Conv2D)              (None, 16, 16, 512)  2359808     conv2d_11[0][0]                  \n",
      "__________________________________________________________________________________________________\n",
      "up_sampling2d_1 (UpSampling2D)  (None, 32, 32, 512)  0           conv2d_12[0][0]                  \n",
      "__________________________________________________________________________________________________\n",
      "conv2d_13 (Conv2D)              (None, 32, 32, 256)  524544      up_sampling2d_1[0][0]            \n",
      "__________________________________________________________________________________________________\n",
      "concatenate_1 (Concatenate)     (None, 32, 32, 512)  0           conv2d_5[0][0]                   \n",
      "                                                                 conv2d_13[0][0]                  \n",
      "__________________________________________________________________________________________________\n",
      "conv2d_14 (Conv2D)              (None, 32, 32, 256)  1179904     concatenate_1[0][0]              \n",
      "__________________________________________________________________________________________________\n",
      "conv2d_15 (Conv2D)              (None, 32, 32, 256)  590080      conv2d_14[0][0]                  \n",
      "__________________________________________________________________________________________________\n",
      "up_sampling2d_2 (UpSampling2D)  (None, 64, 64, 256)  0           conv2d_15[0][0]                  \n",
      "__________________________________________________________________________________________________\n",
      "conv2d_16 (Conv2D)              (None, 64, 64, 128)  131200      up_sampling2d_2[0][0]            \n",
      "__________________________________________________________________________________________________\n",
      "concatenate_2 (Concatenate)     (None, 64, 64, 256)  0           conv2d_3[0][0]                   \n",
      "                                                                 conv2d_16[0][0]                  \n",
      "__________________________________________________________________________________________________\n",
      "conv2d_17 (Conv2D)              (None, 64, 64, 128)  295040      concatenate_2[0][0]              \n",
      "__________________________________________________________________________________________________\n",
      "conv2d_18 (Conv2D)              (None, 64, 64, 128)  147584      conv2d_17[0][0]                  \n",
      "__________________________________________________________________________________________________\n",
      "up_sampling2d_3 (UpSampling2D)  (None, 128, 128, 128 0           conv2d_18[0][0]                  \n",
      "__________________________________________________________________________________________________\n",
      "conv2d_19 (Conv2D)              (None, 128, 128, 64) 32832       up_sampling2d_3[0][0]            \n",
      "__________________________________________________________________________________________________\n",
      "concatenate_3 (Concatenate)     (None, 128, 128, 128 0           conv2d_1[0][0]                   \n",
      "                                                                 conv2d_19[0][0]                  \n",
      "__________________________________________________________________________________________________\n",
      "conv2d_20 (Conv2D)              (None, 128, 128, 64) 73792       concatenate_3[0][0]              \n",
      "__________________________________________________________________________________________________\n",
      "conv2d_21 (Conv2D)              (None, 128, 128, 64) 36928       conv2d_20[0][0]                  \n",
      "__________________________________________________________________________________________________\n",
      "conv2d_22 (Conv2D)              (None, 128, 128, 2)  1154        conv2d_21[0][0]                  \n",
      "__________________________________________________________________________________________________\n",
      "conv2d_23 (Conv2D)              (None, 128, 128, 1)  3           conv2d_22[0][0]                  \n",
      "==================================================================================================\n",
      "Total params: 31,031,685\n",
      "Trainable params: 31,031,685\n",
      "Non-trainable params: 0\n",
      "__________________________________________________________________________________________________\n"
     ]
    }
   ],
   "source": [
    "model_unet.summary()"
   ]
  },
  {
   "cell_type": "markdown",
   "metadata": {
    "colab_type": "text",
    "id": "1kUC8pxpS65m"
   },
   "source": [
    "This is a _big_ network, 31+ million parameters to train, but worry not, because although we might be prone to some overfitting, the generalization of the network will be quite fine."
   ]
  },
  {
   "cell_type": "markdown",
   "metadata": {
    "colab_type": "text",
    "id": "K44gkq4aTRL_"
   },
   "source": [
    "## 7. Training\n",
    "\n",
    "This is the big moment, let us now train the network."
   ]
  },
  {
   "cell_type": "code",
   "execution_count": 12,
   "metadata": {
    "colab": {},
    "colab_type": "code",
    "id": "7domTjH8Dbz_"
   },
   "outputs": [
    {
     "name": "stdout",
     "output_type": "stream",
     "text": [
      "Epoch 1/30\n",
      "19/20 [===========================>..] - ETA: 9s - loss: 1.0815 - jaccard_index: 0.5183 - o_rate: 35.5308 - u_rate: 0.0352 - err_rate: 201.3448 \n",
      "Epoch 00001: val_jaccard_index improved from -inf to 0.70905, saving model to unet_simple_new.h5\n",
      "20/20 [==============================] - 201s 10s/step - loss: 1.0554 - jaccard_index: 0.5246 - o_rate: 33.7548 - u_rate: 0.0349 - err_rate: 191.2801 - val_loss: 0.4947 - val_jaccard_index: 0.7090 - val_o_rate: 7.7526e-05 - val_u_rate: 0.0365 - val_err_rate: 0.0485\n",
      "Epoch 2/30\n",
      "19/20 [===========================>..] - ETA: 9s - loss: 1.4368 - jaccard_index: 0.6000 - o_rate: 577.1990 - u_rate: 0.0262 - err_rate: 577.2335 \n",
      "Epoch 00002: val_jaccard_index did not improve from 0.70905\n",
      "20/20 [==============================] - 190s 9s/step - loss: 1.3866 - jaccard_index: 0.6055 - o_rate: 548.3392 - u_rate: 0.0264 - err_rate: 548.3739 - val_loss: 0.5819 - val_jaccard_index: 0.5348 - val_o_rate: 0.0848 - val_u_rate: 0.0069 - val_err_rate: 0.0961\n",
      "Epoch 3/30\n",
      "19/20 [===========================>..] - ETA: 9s - loss: 0.3522 - jaccard_index: 0.7062 - o_rate: 0.0109 - u_rate: 0.0224 - err_rate: 0.0398 \n",
      "Epoch 00003: val_jaccard_index improved from 0.70905 to 0.74589, saving model to unet_simple_new.h5\n",
      "20/20 [==============================] - 196s 10s/step - loss: 0.3540 - jaccard_index: 0.7037 - o_rate: 0.0122 - u_rate: 0.0218 - err_rate: 0.0403 - val_loss: 0.4227 - val_jaccard_index: 0.7459 - val_o_rate: 0.0068 - val_u_rate: 0.0288 - val_err_rate: 0.0444\n",
      "Epoch 4/30\n",
      "19/20 [===========================>..] - ETA: 8s - loss: 0.3266 - jaccard_index: 0.7265 - o_rate: 0.0125 - u_rate: 0.0185 - err_rate: 0.0357 \n",
      "Epoch 00004: val_jaccard_index did not improve from 0.74589\n",
      "20/20 [==============================] - 191s 10s/step - loss: 0.3264 - jaccard_index: 0.7253 - o_rate: 0.0126 - u_rate: 0.0183 - err_rate: 0.0355 - val_loss: 0.3759 - val_jaccard_index: 0.7114 - val_o_rate: 0.0197 - val_u_rate: 0.0186 - val_err_rate: 0.0438\n",
      "Epoch 5/30\n",
      "19/20 [===========================>..] - ETA: 8s - loss: 0.3436 - jaccard_index: 0.7199 - o_rate: 0.0285 - u_rate: 0.0174 - err_rate: 0.0509 \n",
      "Epoch 00005: val_jaccard_index did not improve from 0.74589\n",
      "20/20 [==============================] - 188s 9s/step - loss: 0.3429 - jaccard_index: 0.7217 - o_rate: 0.0272 - u_rate: 0.0177 - err_rate: 0.0500 - val_loss: 0.3919 - val_jaccard_index: 0.6894 - val_o_rate: 0.0127 - val_u_rate: 0.0234 - val_err_rate: 0.0429\n",
      "Epoch 6/30\n",
      "19/20 [===========================>..] - ETA: 9s - loss: 0.3133 - jaccard_index: 0.7259 - o_rate: 0.0111 - u_rate: 0.0180 - err_rate: 0.0339 \n",
      "Epoch 00006: val_jaccard_index did not improve from 0.74589\n",
      "20/20 [==============================] - 190s 10s/step - loss: 0.3103 - jaccard_index: 0.7274 - o_rate: 0.0111 - u_rate: 0.0177 - err_rate: 0.0334 - val_loss: 0.3751 - val_jaccard_index: 0.7265 - val_o_rate: 0.0186 - val_u_rate: 0.0193 - val_err_rate: 0.0436\n",
      "Epoch 7/30\n",
      "19/20 [===========================>..] - ETA: 8s - loss: 0.3190 - jaccard_index: 0.7246 - o_rate: 0.0171 - u_rate: 0.0164 - err_rate: 0.0379 \n",
      "Epoch 00007: val_jaccard_index did not improve from 0.74589\n",
      "20/20 [==============================] - 186s 9s/step - loss: 0.3188 - jaccard_index: 0.7248 - o_rate: 0.0170 - u_rate: 0.0163 - err_rate: 0.0377 - val_loss: 0.3751 - val_jaccard_index: 0.7107 - val_o_rate: 0.0242 - val_u_rate: 0.0159 - val_err_rate: 0.0450\n",
      "Epoch 8/30\n",
      "19/20 [===========================>..] - ETA: 8s - loss: 0.3178 - jaccard_index: 0.7260 - o_rate: 0.0167 - u_rate: 0.0165 - err_rate: 0.0375 \n",
      "Epoch 00008: val_jaccard_index did not improve from 0.74589\n",
      "20/20 [==============================] - 186s 9s/step - loss: 0.3151 - jaccard_index: 0.7277 - o_rate: 0.0163 - u_rate: 0.0163 - err_rate: 0.0369 - val_loss: 0.3684 - val_jaccard_index: 0.7109 - val_o_rate: 0.0225 - val_u_rate: 0.0167 - val_err_rate: 0.0443\n",
      "Epoch 9/30\n",
      "19/20 [===========================>..] - ETA: 8s - loss: 0.3010 - jaccard_index: 0.7388 - o_rate: 0.0158 - u_rate: 0.0154 - err_rate: 0.0352 \n",
      "Epoch 00009: val_jaccard_index did not improve from 0.74589\n",
      "20/20 [==============================] - 186s 9s/step - loss: 0.3019 - jaccard_index: 0.7380 - o_rate: 0.0160 - u_rate: 0.0154 - err_rate: 0.0353 - val_loss: 0.3570 - val_jaccard_index: 0.7174 - val_o_rate: 0.0163 - val_u_rate: 0.0176 - val_err_rate: 0.0385\n",
      "Epoch 10/30\n",
      "19/20 [===========================>..] - ETA: 8s - loss: 0.2990 - jaccard_index: 0.7404 - o_rate: 0.0127 - u_rate: 0.0161 - err_rate: 0.0326 \n",
      "Epoch 00010: val_jaccard_index did not improve from 0.74589\n",
      "20/20 [==============================] - 186s 9s/step - loss: 0.2993 - jaccard_index: 0.7392 - o_rate: 0.0124 - u_rate: 0.0164 - err_rate: 0.0327 - val_loss: 0.3953 - val_jaccard_index: 0.7301 - val_o_rate: 0.0223 - val_u_rate: 0.0170 - val_err_rate: 0.0445\n",
      "Epoch 11/30\n",
      "19/20 [===========================>..] - ETA: 9s - loss: 0.3007 - jaccard_index: 0.7400 - o_rate: 0.0146 - u_rate: 0.0146 - err_rate: 0.0329 \n",
      "Epoch 00011: val_jaccard_index did not improve from 0.74589\n",
      "20/20 [==============================] - 192s 10s/step - loss: 0.3013 - jaccard_index: 0.7391 - o_rate: 0.0163 - u_rate: 0.0152 - err_rate: 0.0355 - val_loss: 0.3539 - val_jaccard_index: 0.7293 - val_o_rate: 0.0262 - val_u_rate: 0.0304 - val_err_rate: 0.0647\n",
      "Epoch 12/30\n",
      "19/20 [===========================>..] - ETA: 9s - loss: 0.2970 - jaccard_index: 0.7427 - o_rate: 0.0158 - u_rate: 0.0142 - err_rate: 0.0335 \n",
      "Epoch 00012: val_jaccard_index did not improve from 0.74589\n",
      "20/20 [==============================] - 191s 10s/step - loss: 0.2966 - jaccard_index: 0.7430 - o_rate: 0.0154 - u_rate: 0.0142 - err_rate: 0.0331 - val_loss: 0.3616 - val_jaccard_index: 0.7076 - val_o_rate: 0.0254 - val_u_rate: 0.0140 - val_err_rate: 0.0436\n",
      "Epoch 13/30\n",
      "19/20 [===========================>..] - ETA: 8s - loss: 0.2937 - jaccard_index: 0.7491 - o_rate: 0.0133 - u_rate: 0.0154 - err_rate: 0.0322 \n",
      "Epoch 00013: val_jaccard_index did not improve from 0.74589\n",
      "20/20 [==============================] - 186s 9s/step - loss: 0.2930 - jaccard_index: 0.7489 - o_rate: 0.0133 - u_rate: 0.0153 - err_rate: 0.0322 - val_loss: 0.3521 - val_jaccard_index: 0.7149 - val_o_rate: 0.0239 - val_u_rate: 0.0140 - val_err_rate: 0.0420\n",
      "Epoch 14/30\n",
      "19/20 [===========================>..] - ETA: 8s - loss: 0.2902 - jaccard_index: 0.7477 - o_rate: 0.0127 - u_rate: 0.0159 - err_rate: 0.0323 \n",
      "Epoch 00014: val_jaccard_index did not improve from 0.74589\n",
      "20/20 [==============================] - 187s 9s/step - loss: 0.2910 - jaccard_index: 0.7488 - o_rate: 0.0122 - u_rate: 0.0161 - err_rate: 0.0321 - val_loss: 0.3680 - val_jaccard_index: 0.6953 - val_o_rate: 0.0232 - val_u_rate: 0.0132 - val_err_rate: 0.0399\n",
      "Epoch 15/30\n",
      "19/20 [===========================>..] - ETA: 8s - loss: 0.2815 - jaccard_index: 0.7570 - o_rate: 0.0103 - u_rate: 0.0155 - err_rate: 0.0291 \n",
      "Epoch 00015: val_jaccard_index improved from 0.74589 to 0.77277, saving model to unet_simple_new.h5\n",
      "20/20 [==============================] - 191s 10s/step - loss: 0.2805 - jaccard_index: 0.7575 - o_rate: 0.0103 - u_rate: 0.0154 - err_rate: 0.0289 - val_loss: 0.3205 - val_jaccard_index: 0.7728 - val_o_rate: 0.0063 - val_u_rate: 0.0208 - val_err_rate: 0.0317\n",
      "Epoch 16/30\n",
      "19/20 [===========================>..] - ETA: 8s - loss: 0.2730 - jaccard_index: 0.7687 - o_rate: 0.0096 - u_rate: 0.0154 - err_rate: 0.0282 \n",
      "Epoch 00016: val_jaccard_index did not improve from 0.77277\n",
      "20/20 [==============================] - 186s 9s/step - loss: 0.2731 - jaccard_index: 0.7662 - o_rate: 0.0099 - u_rate: 0.0150 - err_rate: 0.0279 - val_loss: 0.3276 - val_jaccard_index: 0.7639 - val_o_rate: 0.0046 - val_u_rate: 0.0226 - val_err_rate: 0.0321\n",
      "Epoch 17/30\n",
      "19/20 [===========================>..] - ETA: 9s - loss: 0.2786 - jaccard_index: 0.7591 - o_rate: 0.0102 - u_rate: 0.0148 - err_rate: 0.0282 \n",
      "Epoch 00017: val_jaccard_index did not improve from 0.77277\n",
      "20/20 [==============================] - 191s 10s/step - loss: 0.2813 - jaccard_index: 0.7596 - o_rate: 0.0098 - u_rate: 0.0151 - err_rate: 0.0282 - val_loss: 0.3392 - val_jaccard_index: 0.7159 - val_o_rate: 0.0114 - val_u_rate: 0.0176 - val_err_rate: 0.0330\n",
      "Epoch 18/30\n"
     ]
    },
    {
     "name": "stdout",
     "output_type": "stream",
     "text": [
      "19/20 [===========================>..] - ETA: 8s - loss: 0.2669 - jaccard_index: 0.7676 - o_rate: 0.0108 - u_rate: 0.0144 - err_rate: 0.0282 \n",
      "Epoch 00018: val_jaccard_index improved from 0.77277 to 0.77677, saving model to unet_simple_new.h5\n",
      "20/20 [==============================] - 192s 10s/step - loss: 0.2661 - jaccard_index: 0.7689 - o_rate: 0.0108 - u_rate: 0.0142 - err_rate: 0.0279 - val_loss: 0.3143 - val_jaccard_index: 0.7768 - val_o_rate: 0.0060 - val_u_rate: 0.0201 - val_err_rate: 0.0303\n",
      "Epoch 19/30\n",
      "19/20 [===========================>..] - ETA: 8s - loss: 0.2585 - jaccard_index: 0.7732 - o_rate: 0.0108 - u_rate: 0.0137 - err_rate: 0.0271 \n",
      "Epoch 00019: val_jaccard_index did not improve from 0.77677\n",
      "20/20 [==============================] - 186s 9s/step - loss: 0.2604 - jaccard_index: 0.7714 - o_rate: 0.0107 - u_rate: 0.0137 - err_rate: 0.0272 - val_loss: 0.3092 - val_jaccard_index: 0.7507 - val_o_rate: 0.0135 - val_u_rate: 0.0146 - val_err_rate: 0.0313\n",
      "Epoch 20/30\n",
      "19/20 [===========================>..] - ETA: 8s - loss: 0.2601 - jaccard_index: 0.7737 - o_rate: 0.0094 - u_rate: 0.0143 - err_rate: 0.0265 \n",
      "Epoch 00020: val_jaccard_index did not improve from 0.77677\n",
      "20/20 [==============================] - 186s 9s/step - loss: 0.2597 - jaccard_index: 0.7750 - o_rate: 0.0092 - u_rate: 0.0144 - err_rate: 0.0264 - val_loss: 0.3291 - val_jaccard_index: 0.7407 - val_o_rate: 0.0225 - val_u_rate: 0.0114 - val_err_rate: 0.0368\n",
      "Epoch 21/30\n",
      "19/20 [===========================>..] - ETA: 8s - loss: 0.2596 - jaccard_index: 0.7734 - o_rate: 0.0105 - u_rate: 0.0141 - err_rate: 0.0274 \n",
      "Epoch 00021: val_jaccard_index did not improve from 0.77677\n",
      "20/20 [==============================] - 186s 9s/step - loss: 0.2594 - jaccard_index: 0.7727 - o_rate: 0.0104 - u_rate: 0.0141 - err_rate: 0.0274 - val_loss: 0.2957 - val_jaccard_index: 0.7682 - val_o_rate: 0.0130 - val_u_rate: 0.0140 - val_err_rate: 0.0298\n",
      "Epoch 22/30\n",
      "19/20 [===========================>..] - ETA: 9s - loss: 0.2438 - jaccard_index: 0.7884 - o_rate: 0.0089 - u_rate: 0.0121 - err_rate: 0.0233 \n",
      "Epoch 00022: val_jaccard_index did not improve from 0.77677\n",
      "20/20 [==============================] - 186s 9s/step - loss: 0.2450 - jaccard_index: 0.7883 - o_rate: 0.0094 - u_rate: 0.0128 - err_rate: 0.0245 - val_loss: 0.3117 - val_jaccard_index: 0.7637 - val_o_rate: 0.0142 - val_u_rate: 0.0303 - val_err_rate: 0.0514\n",
      "Epoch 23/30\n",
      "19/20 [===========================>..] - ETA: 9s - loss: 0.2555 - jaccard_index: 0.7810 - o_rate: 0.0088 - u_rate: 0.0134 - err_rate: 0.0248 \n",
      "Epoch 00023: val_jaccard_index improved from 0.77677 to 0.79085, saving model to unet_simple_new.h5\n",
      "20/20 [==============================] - 195s 10s/step - loss: 0.2542 - jaccard_index: 0.7819 - o_rate: 0.0088 - u_rate: 0.0133 - err_rate: 0.0246 - val_loss: 0.2823 - val_jaccard_index: 0.7909 - val_o_rate: 0.0095 - val_u_rate: 0.0149 - val_err_rate: 0.0272\n",
      "Epoch 24/30\n",
      "19/20 [===========================>..] - ETA: 8s - loss: 0.2459 - jaccard_index: 0.7870 - o_rate: 0.0101 - u_rate: 0.0127 - err_rate: 0.0252 \n",
      "Epoch 00024: val_jaccard_index did not improve from 0.79085\n",
      "20/20 [==============================] - 186s 9s/step - loss: 0.2486 - jaccard_index: 0.7868 - o_rate: 0.0098 - u_rate: 0.0131 - err_rate: 0.0253 - val_loss: 0.3095 - val_jaccard_index: 0.7387 - val_o_rate: 0.0138 - val_u_rate: 0.0138 - val_err_rate: 0.0305\n",
      "Epoch 25/30\n",
      "19/20 [===========================>..] - ETA: 8s - loss: 0.2416 - jaccard_index: 0.7896 - o_rate: 0.0091 - u_rate: 0.0128 - err_rate: 0.0242 \n",
      "Epoch 00025: val_jaccard_index did not improve from 0.79085\n",
      "20/20 [==============================] - 187s 9s/step - loss: 0.2416 - jaccard_index: 0.7897 - o_rate: 0.0089 - u_rate: 0.0129 - err_rate: 0.0241 - val_loss: 0.2763 - val_jaccard_index: 0.7865 - val_o_rate: 0.0097 - val_u_rate: 0.0143 - val_err_rate: 0.0266\n",
      "Epoch 26/30\n",
      "19/20 [===========================>..] - ETA: 8s - loss: 0.2398 - jaccard_index: 0.7922 - o_rate: 0.0091 - u_rate: 0.0122 - err_rate: 0.0235 \n",
      "Epoch 00026: val_jaccard_index improved from 0.79085 to 0.79691, saving model to unet_simple_new.h5\n",
      "20/20 [==============================] - 192s 10s/step - loss: 0.2384 - jaccard_index: 0.7929 - o_rate: 0.0090 - u_rate: 0.0121 - err_rate: 0.0232 - val_loss: 0.2815 - val_jaccard_index: 0.7969 - val_o_rate: 0.0052 - val_u_rate: 0.0184 - val_err_rate: 0.0270\n",
      "Epoch 27/30\n",
      "19/20 [===========================>..] - ETA: 8s - loss: 0.2336 - jaccard_index: 0.7978 - o_rate: 0.0083 - u_rate: 0.0126 - err_rate: 0.0232 \n",
      "Epoch 00027: val_jaccard_index did not improve from 0.79691\n",
      "20/20 [==============================] - 188s 9s/step - loss: 0.2341 - jaccard_index: 0.7976 - o_rate: 0.0083 - u_rate: 0.0126 - err_rate: 0.0231 - val_loss: 0.2787 - val_jaccard_index: 0.7834 - val_o_rate: 0.0092 - val_u_rate: 0.0151 - val_err_rate: 0.0271\n",
      "Epoch 28/30\n",
      "19/20 [===========================>..] - ETA: 9s - loss: 0.2303 - jaccard_index: 0.7982 - o_rate: 0.0075 - u_rate: 0.0121 - err_rate: 0.0216 \n",
      "Epoch 00028: val_jaccard_index improved from 0.79691 to 0.81108, saving model to unet_simple_new.h5\n",
      "20/20 [==============================] - 196s 10s/step - loss: 0.2303 - jaccard_index: 0.7992 - o_rate: 0.0074 - u_rate: 0.0121 - err_rate: 0.0215 - val_loss: 0.2827 - val_jaccard_index: 0.8111 - val_o_rate: 0.0054 - val_u_rate: 0.0176 - val_err_rate: 0.0261\n",
      "Epoch 29/30\n",
      "19/20 [===========================>..] - ETA: 8s - loss: 0.2316 - jaccard_index: 0.7998 - o_rate: 0.0086 - u_rate: 0.0126 - err_rate: 0.0235 \n",
      "Epoch 00029: val_jaccard_index did not improve from 0.81108\n",
      "20/20 [==============================] - 188s 9s/step - loss: 0.2292 - jaccard_index: 0.8016 - o_rate: 0.0085 - u_rate: 0.0124 - err_rate: 0.0231 - val_loss: 0.2692 - val_jaccard_index: 0.8087 - val_o_rate: 0.0075 - val_u_rate: 0.0153 - val_err_rate: 0.0256\n",
      "Epoch 30/30\n",
      "19/20 [===========================>..] - ETA: 8s - loss: 0.2351 - jaccard_index: 0.7938 - o_rate: 0.0090 - u_rate: 0.0123 - err_rate: 0.0236 \n",
      "Epoch 00030: val_jaccard_index did not improve from 0.81108\n",
      "20/20 [==============================] - 188s 9s/step - loss: 0.2343 - jaccard_index: 0.7939 - o_rate: 0.0090 - u_rate: 0.0122 - err_rate: 0.0234 - val_loss: 0.2685 - val_jaccard_index: 0.8082 - val_o_rate: 0.0054 - val_u_rate: 0.0167 - val_err_rate: 0.0250\n"
     ]
    }
   ],
   "source": [
    "history = model_unet.fit_generator(\n",
    "    # Extract the tuples from the generator\n",
    "    ((i) for i in training),\n",
    "    epochs=epochs,\n",
    "    steps_per_epoch=20,\n",
    "    validation_data=(X_val, y_val),\n",
    "    verbose=1,\n",
    "    callbacks=[save_best_model, csv_logger],\n",
    ")"
   ]
  },
  {
   "cell_type": "markdown",
   "metadata": {},
   "source": [
    "There is a lot of output here, but it's better this way in order to keep track of overfitting and such. But it's _even better_ to create to plots about it."
   ]
  },
  {
   "cell_type": "code",
   "execution_count": 13,
   "metadata": {
    "colab": {
     "base_uri": "https://localhost:8080/",
     "height": 232
    },
    "colab_type": "code",
    "id": "55hqTwzkj0CN",
    "outputId": "9cfdb0b3-bdee-46f2-bb74-c967430dfb52"
   },
   "outputs": [
    {
     "data": {
      "image/png": "[encoded data removed]",
      "text/plain": [
       "<Figure size 864x504 with 1 Axes>"
      ]
     },
     "metadata": {
      "needs_background": "light"
     },
     "output_type": "display_data"
    }
   ],
   "source": [
    "plt.figure(figsize=(12, 7))\n",
    "plt.plot(history.history[\"jaccard_index\"])\n",
    "plt.plot(history.history[\"val_jaccard_index\"])\n",
    "plt.title(\"Model accuracy\")\n",
    "plt.ylabel(\"Jaccard index\")\n",
    "plt.xlabel(\"Epoch\")\n",
    "plt.legend([\"Training\", \"Validation\"], loc=\"upper left\")\n",
    "plt.show()"
   ]
  },
  {
   "cell_type": "markdown",
   "metadata": {},
   "source": [
    "There is **overfitting** as expected, but the generalization is good for just some epochs and minimal data augmentation. We see the _validation_ accuracy go all over the place mainly because of the small value of the _batch size._ This should be enough to prove our point, though."
   ]
  },
  {
   "cell_type": "code",
   "execution_count": 14,
   "metadata": {
    "colab": {
     "base_uri": "https://localhost:8080/",
     "height": 232
    },
    "colab_type": "code",
    "id": "jLO9_8t2j47F",
    "outputId": "1ac2fd03-ad0e-4415-ac0c-40cfe12f3cf8"
   },
   "outputs": [
    {
     "data": {
      "image/png": "[encoded data removed]",
      "text/plain": [
       "<Figure size 864x504 with 1 Axes>"
      ]
     },
     "metadata": {
      "needs_background": "light"
     },
     "output_type": "display_data"
    }
   ],
   "source": [
    "plt.figure(figsize=(12, 7))\n",
    "plt.plot(history.history[\"loss\"])\n",
    "plt.plot(history.history[\"val_loss\"])\n",
    "plt.title(\"Model loss\")\n",
    "plt.ylabel(\"Loss\")\n",
    "plt.xlabel(\"Epoch\")\n",
    "plt.legend([\"Training\", \"Validation\"], loc=\"upper left\")\n",
    "plt.show()"
   ]
  },
  {
   "cell_type": "markdown",
   "metadata": {},
   "source": [
    "The _loss_ is nice and steady, maybe some more 10 epochs and we could have achieved a better result. Keep in mind that the more epochs the more likely it is to get stuck in a plateau somewhere and just waste time training and not getting better results."
   ]
  },
  {
   "cell_type": "markdown",
   "metadata": {},
   "source": [
    "## 8. Results\n",
    "\n",
    "Let us now inspect our results with some testing data. These images were **never** seen by the neural network, so we expect it to segment quite well, with a few mishaps here and there. After all, we got a 80% Jaccard index which is nice for the very small dataset, but is nowhere near the state-of-the-art results we could actually achieve."
   ]
  },
  {
   "cell_type": "markdown",
   "metadata": {},
   "source": [
    "Because this is a _new_ dataset, we need to load it and process it like before. I added an additional step to include the _color channel_ information."
   ]
  },
  {
   "cell_type": "code",
   "execution_count": 15,
   "metadata": {
    "colab": {},
    "colab_type": "code",
    "id": "ArZ0CTEakcZg"
   },
   "outputs": [],
   "source": [
    "X_test = sut.extract_data(\"dataset/test_images/test-volume.tif\")\n",
    "X_test = np.squeeze(X_test)\n",
    "# Add a new axis to specify grayscale\n",
    "X_test = X_test[..., np.newaxis]"
   ]
  },
  {
   "cell_type": "markdown",
   "metadata": {},
   "source": [
    "Right now, the `segmed` API expects the same size of input for prediction, and the new data are another 30 images with dimensions 512 by 512, so we need to split them again and pass them on to the best model trained."
   ]
  },
  {
   "cell_type": "code",
   "execution_count": 16,
   "metadata": {},
   "outputs": [],
   "source": [
    "x_test_patches = sut.split_images( X_test, size=(128, 128), num_part=4)"
   ]
  },
  {
   "cell_type": "code",
   "execution_count": 28,
   "metadata": {
    "colab": {},
    "colab_type": "code",
    "id": "tK66PmLWkxLu"
   },
   "outputs": [
    {
     "name": "stdout",
     "output_type": "stream",
     "text": [
      "(120, 128, 128, 1)\n"
     ]
    }
   ],
   "source": [
    "# Load the best model trained\n",
    "model_unet.load_weights(\"unet_simple_new.h5\")\n",
    "results = model_unet.predict(x_test_patches, batch_size=batch_size)\n",
    "print(results.shape)"
   ]
  },
  {
   "cell_type": "markdown",
   "metadata": {},
   "source": [
    "The result from this are images in grayscale, so we need to binarize them. I use here [Otsu's method](https://en.wikipedia.org/wiki/Otsu's_method) for thresholding as it is a very robust method, and quite fast to binarize all the images."
   ]
  },
  {
   "cell_type": "code",
   "execution_count": 29,
   "metadata": {},
   "outputs": [],
   "source": [
    "from skimage.filters import threshold_otsu\n",
    "thresh = threshold_otsu(X_test[1, ...])\n",
    "binary = results[...] > thresh"
   ]
  },
  {
   "cell_type": "code",
   "execution_count": 45,
   "metadata": {
    "colab": {},
    "colab_type": "code",
    "id": "3w6nBNCNlJRz"
   },
   "outputs": [
    {
     "data": {
      "image/png": "[encoded data removed]",
      "text/plain": [
       "<Figure size 864x504 with 1 Axes>"
      ]
     },
     "metadata": {
      "needs_background": "light"
     },
     "output_type": "display_data"
    },
    {
     "data": {
      "image/png": "[encoded data removed]",
      "text/plain": [
       "<Figure size 720x432 with 1 Axes>"
      ]
     },
     "metadata": {
      "needs_background": "light"
     },
     "output_type": "display_data"
    }
   ],
   "source": [
    "plt.figure(figsize=(12, 7))\n",
    "plt.title(\"Binary result from U-Net\")\n",
    "plt.imshow(binary[2, ..., 0], cmap=\"gray\")\n",
    "plt.figure(figsize=(10, 6))\n",
    "plt.title(\"Original map, binarized\")\n",
    "plt.imshow(x_test_patches[2, ..., 0] > thresh, cmap=\"gray\")\n",
    "plt.show()"
   ]
  },
  {
   "cell_type": "markdown",
   "metadata": {},
   "source": [
    "## 9. Conclusion\n",
    "\n",
    "As we can see, the segmentation was carried out successfully. There are some errors in the result obtained, but for the most part the borders and overall regions are very good. Moreover, most of the noise from the original image was ignored; those pixels in the white zones are not really relevant in the image as a whole, and the U-Net knew this.\n",
    "\n",
    "Further **data augmentation**, **training time** and **overfitting control** can enhance these results, and almost everything can be done with the `segmed` API."
   ]
  }
 ],
 "metadata": {
  "accelerator": "GPU",
  "colab": {
   "collapsed_sections": [],
   "name": "unet_simple.ipynb",
   "provenance": []
  },
  "file_extension": ".py",
  "kernelspec": {
   "display_name": "Python 3",
   "language": "python",
   "name": "python3"
  },
  "language_info": {
   "codemirror_mode": {
    "name": "ipython",
    "version": 3
   },
   "file_extension": ".py",
   "mimetype": "text/x-python",
   "name": "python",
   "nbconvert_exporter": "python",
   "pygments_lexer": "ipython3",
   "version": "3.7.5"
  },
  "mimetype": "text/x-python",
  "name": "python",
  "npconvert_exporter": "python",
  "pygments_lexer": "ipython3",
  "version": 3
 },
 "nbformat": 4,
 "nbformat_minor": 1
}