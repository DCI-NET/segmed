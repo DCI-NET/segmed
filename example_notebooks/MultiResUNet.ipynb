{
  "nbformat": 4,
  "nbformat_minor": 0,
  "metadata": {
    "colab": {
      "name": "MultiResUNet.ipynb",
      "provenance": [],
      "collapsed_sections": [],
      "include_colab_link": true
    },
    "kernelspec": {
      "name": "python3",
      "display_name": "Python 3"
    },
    "accelerator": "GPU"
  },
  "cells": [
    {
      "cell_type": "markdown",
      "metadata": {
        "id": "view-in-github",
        "colab_type": "text"
      },
      "source": [
        "<a href=\"https://colab.research.google.com/github/gmagannaDevelop/segnet/blob/mru_tests/example_notebooks/MultiResUNet.ipynb\" target=\"_parent\"><img src=\"https://colab.research.google.com/assets/colab-badge.svg\" alt=\"Open In Colab\"/></a>"
      ]
    },
    {
      "cell_type": "markdown",
      "metadata": {
        "id": "DHw_6M1yXu8b",
        "colab_type": "text"
      },
      "source": [
        "# MultiResUNet\n",
        "## DCI-Net\n",
        "#### Gustavo Magaña\n",
        "\n",
        "\\########################################################"
      ]
    },
    {
      "cell_type": "code",
      "metadata": {
        "id": "C7esbcDmCpM_",
        "colab_type": "code",
        "outputId": "0157e73c-b83d-409f-ff54-c7f12ff13bbe",
        "colab": {
          "base_uri": "https://localhost:8080/",
          "height": 34
        }
      },
      "source": [
        "!ls"
      ],
      "execution_count": 1,
      "outputs": [
        {
          "output_type": "stream",
          "text": [
            "drive  sample_data\n"
          ],
          "name": "stdout"
        }
      ]
    },
    {
      "cell_type": "code",
      "metadata": {
        "id": "IvwdXdIkfp0E",
        "colab_type": "code",
        "colab": {
          "base_uri": "https://localhost:8080/",
          "height": 104
        },
        "outputId": "70ac9f6f-9686-437c-b470-239aeba3d5b0"
      },
      "source": [
        "!apt install jq"
      ],
      "execution_count": 2,
      "outputs": [
        {
          "output_type": "stream",
          "text": [
            "Reading package lists... Done\n",
            "Building dependency tree       \n",
            "Reading state information... Done\n",
            "jq is already the newest version (1.5+dfsg-2).\n",
            "0 upgraded, 0 newly installed, 0 to remove and 28 not upgraded.\n"
          ],
          "name": "stdout"
        }
      ]
    },
    {
      "cell_type": "code",
      "metadata": {
        "id": "SUVhISDWOwT5",
        "colab_type": "code",
        "colab": {}
      },
      "source": [
        "## If changes are made to the repo, uninstall and\n",
        "## a fresh pip install are required, so it seems.\n",
        "#!pip uninstall segnet\n",
        "!pip install git+https://github.com/gmagannaDevelop/segnet.git@mru_tests\n",
        "##!pip install git+https://github.com/gmagannaDevelop/segnet.git@log_hotfix"
      ],
      "execution_count": 0,
      "outputs": []
    },
    {
      "cell_type": "markdown",
      "metadata": {
        "id": "qCRoHPcGgvEL",
        "colab_type": "text"
      },
      "source": [
        "Imports"
      ]
    },
    {
      "cell_type": "code",
      "metadata": {
        "id": "UxVrrV2VXLGA",
        "colab_type": "code",
        "outputId": "f222addd-f532-48e0-9551-ecf4664e5ef9",
        "colab": {
          "base_uri": "https://localhost:8080/",
          "height": 34
        }
      },
      "source": [
        "### System-related\n",
        "import sys\n",
        "import os\n",
        "import datetime \n",
        "#import importlib.util\n",
        "###############################################################\n",
        "\n",
        "### Machine learning specific\n",
        "#import segmentation_models as sm\n",
        "from keras.optimizers import SGD\n",
        "from keras.callbacks import ModelCheckpoint, ReduceLROnPlateau\n",
        "from sklearn.model_selection import train_test_split\n",
        "import keras.models\n",
        "###############################################################\n",
        "\n",
        "### In-Out\n",
        "from skimage import io\n",
        "import glob\n",
        "###############################################################\n",
        "\n",
        "### Visualization\n",
        "import seaborn as sns\n",
        "###############################################################\n",
        "\n",
        "\n",
        "### Numerical\n",
        "import numpy as np\n",
        "###############################################################\n",
        "\n",
        "### Repo-specific (segnet)\n",
        "from segnet.train import train_segnet\n",
        "from segnet.models import multiresunet2 as mru\n",
        "from segnet.utils import timing\n",
        "#from segnet.segnet.train.train_segnet import train_segnet\n",
        "#import segnet.segnet as segnet\n",
        "\n",
        "### Data-related\n",
        "from google.colab import drive, files\n",
        "drive.mount('/content/drive/')\n",
        "###############################################################\n",
        "\n",
        "\n",
        "### Not an import, but mandatory to be defined here :\n",
        "root_dir   = \"drive/My Drive/DCI-Net\"\n",
        "_log_file  = os.path.join(root_dir, \"time_logs.jsonl\")"
      ],
      "execution_count": 20,
      "outputs": [
        {
          "output_type": "stream",
          "text": [
            "Drive already mounted at /content/drive/; to attempt to forcibly remount, call drive.mount(\"/content/drive/\", force_remount=True).\n"
          ],
          "name": "stdout"
        }
      ]
    },
    {
      "cell_type": "markdown",
      "metadata": {
        "id": "pde_pTyigywK",
        "colab_type": "text"
      },
      "source": [
        "Function definition"
      ]
    },
    {
      "cell_type": "code",
      "metadata": {
        "id": "HnJpx7qYdlId",
        "colab_type": "code",
        "colab": {}
      },
      "source": [
        "@timing.time_log()\n",
        "def yield_model_name(\n",
        "    architecture: str = \"MultiResUNet\",\n",
        "    date: str = str(datetime.datetime.utcnow()).split(\".\")[0]\n",
        ") -> str:\n",
        "  \"\"\"\n",
        "    Yield a model name, to be passed to other functions.\n",
        "    Said model name consisting of an architecture name, \n",
        "    the (UTCtime)\n",
        "  \"\"\"\n",
        "  return f\"{architecture}-({date}).h5\""
      ],
      "execution_count": 0,
      "outputs": []
    },
    {
      "cell_type": "code",
      "metadata": {
        "id": "IceMi8yGf4ru",
        "colab_type": "code",
        "colab": {
          "base_uri": "https://localhost:8080/",
          "height": 34
        },
        "outputId": "69c93ab0-fb07-46a6-c65e-c8d8777ce63a"
      },
      "source": [
        "yield_model_name()"
      ],
      "execution_count": 19,
      "outputs": [
        {
          "output_type": "execute_result",
          "data": {
            "text/plain": [
              "'MultiResUNet-(2019-10-29 03:14:13).h5'"
            ]
          },
          "metadata": {
            "tags": []
          },
          "execution_count": 19
        }
      ]
    },
    {
      "cell_type": "code",
      "metadata": {
        "id": "2pRrtgcrDThX",
        "colab_type": "code",
        "outputId": "5a6bfdc5-9b7f-48fc-9de7-05ef74a93b38",
        "colab": {
          "base_uri": "https://localhost:8080/",
          "height": 69
        }
      },
      "source": [
        "!ls \"drive/My Drive/DCI-Net/\""
      ],
      "execution_count": 5,
      "outputs": [
        {
          "output_type": "stream",
          "text": [
            "Checkpoints  first_mutlires.h5\t __pycache__\t\t     time_logs.jsonl\n",
            "Colab_data   MultiResUNet.ipynb  second_mutlires_gpu_WBC.h5  timing.py\n",
            "Data\t     multiresunet.py\t Snippets\n"
          ],
          "name": "stdout"
        }
      ]
    },
    {
      "cell_type": "code",
      "metadata": {
        "id": "Ce2TEroWZ2WI",
        "colab_type": "code",
        "outputId": "261ce94a-19a5-4da1-9f0b-09e5c7b4282c",
        "colab": {
          "base_uri": "https://localhost:8080/",
          "height": 34
        }
      },
      "source": [
        "!ls \"drive/My Drive/DCI-Net/Colab_data/Dataset 1\""
      ],
      "execution_count": 6,
      "outputs": [
        {
          "output_type": "stream",
          "text": [
            "images\tmasks\n"
          ],
          "name": "stdout"
        }
      ]
    },
    {
      "cell_type": "code",
      "metadata": {
        "id": "wJWjlxLkW9lz",
        "colab_type": "code",
        "colab": {}
      },
      "source": [
        "# Declare the paths to use (following the Keras convention)\n",
        "# https://www.tensorflow.org/versions/r2.0/api_docs/python/tf/keras/Model#fit_generator\n",
        "img_path = masks_path = data_path  = \"drive/My Drive/DCI-Net/Colab_data/Dataset 1\"\n",
        "\n",
        "\n",
        "_img_path   = os.path.join(data_path, 'images')\n",
        "_masks_path = os.path.join(data_path, 'masks')\n"
      ],
      "execution_count": 0,
      "outputs": []
    },
    {
      "cell_type": "code",
      "metadata": {
        "id": "K0Ah1NY_NX2e",
        "colab_type": "code",
        "colab": {}
      },
      "source": [
        "\n",
        "# Define some example hyperparameters\n",
        "hyper_params = dict(\n",
        "    batch_size = 8,\n",
        "    epochs = 50,\n",
        "    steps_per_epoch=100,\n",
        "    model_file = model_file\n",
        ")\n",
        "\n",
        "# Dummy, testing : \n",
        "# Define some example hyperparameters\n",
        "hyper_params = dict(\n",
        "    batch_size = 8,\n",
        "    epochs = 1,\n",
        "    steps_per_epoch=2,\n",
        "    model_file = model_file\n",
        ")\n",
        "\n",
        "model = mru.MultiResUNet()\n",
        "\n",
        "# Instantiate a MultiResUNet model :\n",
        "from_checkpoint = True\n",
        "\n",
        "model_file = os.path.join(root_dir, 'second_mutlires_gpu_WBC.h5')\n",
        "\n",
        "if from_checkpoint:\n",
        "  model.load_weights(model_file)\n",
        "\n"
      ],
      "execution_count": 0,
      "outputs": []
    },
    {
      "cell_type": "code",
      "metadata": {
        "id": "xaMlOM9rZQ1L",
        "colab_type": "code",
        "outputId": "6ada05dc-41a3-40ab-a6ea-3d161852cb91",
        "colab": {
          "base_uri": "https://localhost:8080/",
          "height": 228
        }
      },
      "source": [
        "# Train the model!\n",
        "history = train_segnet.train_segnet(\n",
        "    model,\n",
        "    img_path,\n",
        "    masks_path,\n",
        "    **hyper_params\n",
        ")\n"
      ],
      "execution_count": 10,
      "outputs": [
        {
          "output_type": "stream",
          "text": [
            "Found 495 images belonging to 2 classes.\n",
            "Found 495 images belonging to 2 classes.\n",
            "Found 123 images belonging to 2 classes.\n",
            "Found 123 images belonging to 2 classes.\n",
            "WARNING:tensorflow:From /usr/local/lib/python3.6/dist-packages/tensorflow_core/python/ops/nn_impl.py:183: where (from tensorflow.python.ops.array_ops) is deprecated and will be removed in a future version.\n",
            "Instructions for updating:\n",
            "Use tf.where in 2.0, which has the same broadcast rule as np.where\n",
            "2/2 [==============================] - 3s 1s/step - loss: 0.3254 - jaccard_index: 0.5400 - dice_coef: 0.6999\n",
            "\n",
            "Epoch 00001: val_jaccard_index improved from -inf to 0.54000, saving model to drive/My Drive/DCI-Net/second_mutlires_gpu_WBC.h5\n",
            "2/2 [==============================] - 80s 40s/step - loss: 0.3948 - jaccard_index: 0.5496 - dice_coef: 0.7093 - val_loss: 0.3254 - val_jaccard_index: 0.5400 - val_dice_coef: 0.6999\n"
          ],
          "name": "stdout"
        }
      ]
    },
    {
      "cell_type": "code",
      "metadata": {
        "id": "4hIiRaBcRwlE",
        "colab_type": "code",
        "colab": {
          "base_uri": "https://localhost:8080/",
          "height": 284
        },
        "outputId": "5c8d0c15-93ff-436b-fc04-67e72d12c89d"
      },
      "source": [
        "_jaccard = history.history['val_jaccard_index']\n",
        "sns.lineplot(list(range(len(_jaccard))), _jaccard)"
      ],
      "execution_count": 32,
      "outputs": [
        {
          "output_type": "execute_result",
          "data": {
            "text/plain": [
              "<matplotlib.axes._subplots.AxesSubplot at 0x7f6fd34e6a20>"
            ]
          },
          "metadata": {
            "tags": []
          },
          "execution_count": 32
        },
        {
          "output_type": "display_data",
          "data": {
            "image/png": "[encoded data removed]",
            "text/plain": [
              "<Figure size 432x288 with 1 Axes>"
            ]
          },
          "metadata": {
            "tags": []
          }
        }
      ]
    },
    {
      "cell_type": "code",
      "metadata": {
        "id": "GMszSInISTtP",
        "colab_type": "code",
        "colab": {
          "base_uri": "https://localhost:8080/",
          "height": 282
        },
        "outputId": "4d2499f5-3b9e-46eb-c94e-2db69bb4b6a6"
      },
      "source": [
        "_loss = history.history['val_loss']\n",
        "sns.lineplot(list(range(len(_loss))), _loss)"
      ],
      "execution_count": 31,
      "outputs": [
        {
          "output_type": "execute_result",
          "data": {
            "text/plain": [
              "<matplotlib.axes._subplots.AxesSubplot at 0x7f6fd35066d8>"
            ]
          },
          "metadata": {
            "tags": []
          },
          "execution_count": 31
        },
        {
          "output_type": "display_data",
          "data": {
            "image/png": "[encoded data removed]",
            "text/plain": [
              "<Figure size 432x288 with 1 Axes>"
            ]
          },
          "metadata": {
            "tags": []
          }
        }
      ]
    },
    {
      "cell_type": "code",
      "metadata": {
        "id": "0AvjRjzbUOUg",
        "colab_type": "code",
        "colab": {}
      },
      "source": [
        ""
      ],
      "execution_count": 0,
      "outputs": []
    },
    {
      "cell_type": "code",
      "metadata": {
        "id": "gNoGLM2BrvUL",
        "colab_type": "code",
        "colab": {}
      },
      "source": [
        "_img_path   = os.path.join(data_path, 'images')\n",
        "_masks_path = os.path.join(data_path, 'masks')"
      ],
      "execution_count": 0,
      "outputs": []
    },
    {
      "cell_type": "code",
      "metadata": {
        "id": "kPtPk3dFsO7j",
        "colab_type": "code",
        "colab": {}
      },
      "source": [
        "model.predict()"
      ],
      "execution_count": 0,
      "outputs": []
    },
    {
      "cell_type": "code",
      "metadata": {
        "id": "8Z9HOIpKS9dc",
        "colab_type": "code",
        "colab": {
          "base_uri": "https://localhost:8080/",
          "height": 937
        },
        "outputId": "24215493-48c1-4316-ecc7-e92cd9eaf1a9"
      },
      "source": [
        "!ls \"drive/My Drive/DCI-Net/Colab_data/Dataset 1/images/\""
      ],
      "execution_count": 17,
      "outputs": [
        {
          "output_type": "stream",
          "text": [
            " 001.bmp        048.bmp       '094 (2).bmp'   142.bmp   195.bmp   248.bmp\n",
            " 002.bmp        049.bmp       '094 (3).bmp'   143.bmp   196.bmp   249.bmp\n",
            " 003.bmp        050.bmp       '094 (4).bmp'   144.bmp   197.bmp   250.bmp\n",
            " 004.bmp        051.bmp       '094 (5).bmp'   145.bmp   198.bmp   251.bmp\n",
            " 005.bmp        052.bmp       '094 (6).bmp'   146.bmp   199.bmp   252.bmp\n",
            " 006.bmp        053.bmp        094.bmp\t      147.bmp   200.bmp   253.bmp\n",
            " 007.bmp        054.bmp        095.bmp\t      148.bmp   201.bmp   254.bmp\n",
            " 008.bmp        055.bmp        096.bmp\t      149.bmp   202.bmp   255.bmp\n",
            " 009.bmp        056.bmp        097.bmp\t      150.bmp   203.bmp   256.bmp\n",
            " 010.bmp       '057 (1).bmp'   098.bmp\t      151.bmp   204.bmp   257.bmp\n",
            " 011.bmp       '057 (2).bmp'   099.bmp\t      152.bmp   205.bmp   258.bmp\n",
            " 012.bmp        057.bmp        100.bmp\t      153.bmp   206.bmp   259.bmp\n",
            " 013.bmp        058.bmp        101.bmp\t      154.bmp   207.bmp   260.bmp\n",
            " 014.bmp        059.bmp        102.bmp\t      155.bmp   208.bmp   261.bmp\n",
            " 015.bmp        060.bmp        103.bmp\t      156.bmp   209.bmp   262.bmp\n",
            " 016.bmp        061.bmp        104.bmp\t      157.bmp   210.bmp   263.bmp\n",
            " 017.bmp        062.bmp        105.bmp\t      158.bmp   211.bmp   264.bmp\n",
            " 018.bmp        063.bmp        106.bmp\t      159.bmp   212.bmp   265.bmp\n",
            " 019.bmp        064.bmp        107.bmp\t      160.bmp   213.bmp   266.bmp\n",
            " 020.bmp        065.bmp        108.bmp\t      161.bmp   214.bmp   267.bmp\n",
            " 021.bmp        066.bmp        109.bmp\t      162.bmp   215.bmp   268.bmp\n",
            " 022.bmp        067.bmp        110.bmp\t      163.bmp   216.bmp   269.bmp\n",
            " 023.bmp        068.bmp        111.bmp\t      164.bmp   217.bmp   270.bmp\n",
            " 024.bmp        069.bmp        112.bmp\t      165.bmp   218.bmp   271.bmp\n",
            " 025.bmp        070.bmp        113.bmp\t      166.bmp   219.bmp   272.bmp\n",
            " 026.bmp        071.bmp        114.bmp\t      167.bmp   220.bmp   273.bmp\n",
            " 027.bmp        072.bmp        115.bmp\t      168.bmp   221.bmp   274.bmp\n",
            " 028.bmp        073.bmp        116.bmp\t      169.bmp   222.bmp   275.bmp\n",
            " 029.bmp        074.bmp        117.bmp\t      170.bmp   223.bmp   276.bmp\n",
            " 030.bmp        075.bmp        118.bmp\t      171.bmp   224.bmp   277.bmp\n",
            " 031.bmp        076.bmp        119.bmp\t      172.bmp   225.bmp   278.bmp\n",
            " 032.bmp        077.bmp        120.bmp\t      173.bmp   226.bmp   279.bmp\n",
            " 033.bmp        078.bmp        121.bmp\t      174.bmp   227.bmp   280.bmp\n",
            " 034.bmp        079.bmp        122.bmp\t      175.bmp   228.bmp   281.bmp\n",
            " 035.bmp       '080 (1).bmp'   123.bmp\t      176.bmp   229.bmp   282.bmp\n",
            " 036.bmp       '080 (2).bmp'   124.bmp\t      177.bmp   230.bmp   283.bmp\n",
            " 037.bmp       '080 (3).bmp'   125.bmp\t      178.bmp   231.bmp   284.bmp\n",
            " 038.bmp       '080 (4).bmp'   126.bmp\t      179.bmp   232.bmp   285.bmp\n",
            " 039.bmp        080.bmp        127.bmp\t      180.bmp   233.bmp   286.bmp\n",
            " 040.bmp        081.bmp        128.bmp\t      181.bmp   234.bmp   287.bmp\n",
            " 041.bmp        082.bmp        129.bmp\t      182.bmp   235.bmp   288.bmp\n",
            " 042.bmp        083.bmp        130.bmp\t      183.bmp   236.bmp   289.bmp\n",
            "'043 (1).bmp'   084.bmp        131.bmp\t      184.bmp   237.bmp   290.bmp\n",
            "'043 (2).bmp'   085.bmp        132.bmp\t      185.bmp   238.bmp   291.bmp\n",
            "'043 (3).bmp'   086.bmp        133.bmp\t      186.bmp   239.bmp   292.bmp\n",
            "'043 (4).bmp'   087.bmp        134.bmp\t      187.bmp   240.bmp   293.bmp\n",
            "'043 (5).bmp'   088.bmp        135.bmp\t      188.bmp   241.bmp   294.bmp\n",
            "'043 (6).bmp'   089.bmp        136.bmp\t      189.bmp   242.bmp   295.bmp\n",
            " 043.bmp        090.bmp        137.bmp\t      190.bmp   243.bmp   296.bmp\n",
            " 044.bmp        091.bmp        138.bmp\t      191.bmp   244.bmp   297.bmp\n",
            " 045.bmp        092.bmp        139.bmp\t      192.bmp   245.bmp   298.bmp\n",
            " 046.bmp        093.bmp        140.bmp\t      193.bmp   246.bmp   299.bmp\n",
            " 047.bmp       '094 (1).bmp'   141.bmp\t      194.bmp   247.bmp   300.bmp\n"
          ],
          "name": "stdout"
        }
      ]
    },
    {
      "cell_type": "code",
      "metadata": {
        "id": "0omKvFiLRIWE",
        "colab_type": "code",
        "colab": {
          "base_uri": "https://localhost:8080/",
          "height": 34
        },
        "outputId": "71ed461b-f770-46a5-bb96-6e7b2b8bb1b6"
      },
      "source": [
        "list(range(5))"
      ],
      "execution_count": 27,
      "outputs": [
        {
          "output_type": "execute_result",
          "data": {
            "text/plain": [
              "[0, 1, 2, 3, 4]"
            ]
          },
          "metadata": {
            "tags": []
          },
          "execution_count": 27
        }
      ]
    },
    {
      "cell_type": "code",
      "metadata": {
        "id": "T13qEar_T-7K",
        "colab_type": "code",
        "colab": {
          "base_uri": "https://localhost:8080/",
          "height": 287
        },
        "outputId": "46b2dc01-fe6a-48d3-e0e2-3b05390db1b9"
      },
      "source": [
        "files.download(\"/time_logs.jsonl\")"
      ],
      "execution_count": 36,
      "outputs": [
        {
          "output_type": "error",
          "ename": "FileNotFoundError",
          "evalue": "ignored",
          "traceback": [
            "\u001b[0;31m---------------------------------------------------------------------------\u001b[0m",
            "\u001b[0;31mFileNotFoundError\u001b[0m                         Traceback (most recent call last)",
            "\u001b[0;32m<ipython-input-36-bff714e53c0d>\u001b[0m in \u001b[0;36m<module>\u001b[0;34m()\u001b[0m\n\u001b[0;32m----> 1\u001b[0;31m \u001b[0mfiles\u001b[0m\u001b[0;34m.\u001b[0m\u001b[0mdownload\u001b[0m\u001b[0;34m(\u001b[0m\u001b[0;34m\"/time_logs.jsonl\"\u001b[0m\u001b[0;34m)\u001b[0m\u001b[0;34m\u001b[0m\u001b[0;34m\u001b[0m\u001b[0m\n\u001b[0m",
            "\u001b[0;32m/usr/local/lib/python3.6/dist-packages/google/colab/files.py\u001b[0m in \u001b[0;36mdownload\u001b[0;34m(filename)\u001b[0m\n\u001b[1;32m    142\u001b[0m       \u001b[0;32mraise\u001b[0m \u001b[0mOSError\u001b[0m\u001b[0;34m(\u001b[0m\u001b[0mmsg\u001b[0m\u001b[0;34m)\u001b[0m\u001b[0;34m\u001b[0m\u001b[0;34m\u001b[0m\u001b[0m\n\u001b[1;32m    143\u001b[0m     \u001b[0;32melse\u001b[0m\u001b[0;34m:\u001b[0m\u001b[0;34m\u001b[0m\u001b[0;34m\u001b[0m\u001b[0m\n\u001b[0;32m--> 144\u001b[0;31m       \u001b[0;32mraise\u001b[0m \u001b[0mFileNotFoundError\u001b[0m\u001b[0;34m(\u001b[0m\u001b[0mmsg\u001b[0m\u001b[0;34m)\u001b[0m  \u001b[0;31m# pylint: disable=undefined-variable\u001b[0m\u001b[0;34m\u001b[0m\u001b[0;34m\u001b[0m\u001b[0m\n\u001b[0m\u001b[1;32m    145\u001b[0m \u001b[0;34m\u001b[0m\u001b[0m\n\u001b[1;32m    146\u001b[0m   \u001b[0mstarted\u001b[0m \u001b[0;34m=\u001b[0m \u001b[0m_threading\u001b[0m\u001b[0;34m.\u001b[0m\u001b[0mEvent\u001b[0m\u001b[0;34m(\u001b[0m\u001b[0;34m)\u001b[0m\u001b[0;34m\u001b[0m\u001b[0;34m\u001b[0m\u001b[0m\n",
            "\u001b[0;31mFileNotFoundError\u001b[0m: Cannot find file: /time_logs.jsonl"
          ]
        }
      ]
    },
    {
      "cell_type": "code",
      "metadata": {
        "id": "iFNVGvuAgCm1",
        "colab_type": "code",
        "colab": {
          "base_uri": "https://localhost:8080/",
          "height": 34
        },
        "outputId": "e7c54452-e6ff-4671-da8a-80ef857469d4"
      },
      "source": [
        "os.listdir(\".\")"
      ],
      "execution_count": 43,
      "outputs": [
        {
          "output_type": "execute_result",
          "data": {
            "text/plain": [
              "['.config', 'time_logs.jsonl', 'drive', 'sample_data']"
            ]
          },
          "metadata": {
            "tags": []
          },
          "execution_count": 43
        }
      ]
    },
    {
      "cell_type": "code",
      "metadata": {
        "id": "ywyN1HwJgJOZ",
        "colab_type": "code",
        "colab": {
          "base_uri": "https://localhost:8080/",
          "height": 311
        },
        "outputId": "c48cfeef-ef40-455b-8c7e-de8fecd82380"
      },
      "source": [
        "files.download(\"time_logs.jsonl\")"
      ],
      "execution_count": 44,
      "outputs": [
        {
          "output_type": "error",
          "ename": "MessageError",
          "evalue": "ignored",
          "traceback": [
            "\u001b[0;31m---------------------------------------------------------------------------\u001b[0m",
            "\u001b[0;31mMessageError\u001b[0m                              Traceback (most recent call last)",
            "\u001b[0;32m<ipython-input-44-4a764cc814c7>\u001b[0m in \u001b[0;36m<module>\u001b[0;34m()\u001b[0m\n\u001b[0;32m----> 1\u001b[0;31m \u001b[0mfiles\u001b[0m\u001b[0;34m.\u001b[0m\u001b[0mdownload\u001b[0m\u001b[0;34m(\u001b[0m\u001b[0;34m\"time_logs.jsonl\"\u001b[0m\u001b[0;34m)\u001b[0m\u001b[0;34m\u001b[0m\u001b[0;34m\u001b[0m\u001b[0m\n\u001b[0m",
            "\u001b[0;32m/usr/local/lib/python3.6/dist-packages/google/colab/files.py\u001b[0m in \u001b[0;36mdownload\u001b[0;34m(filename)\u001b[0m\n\u001b[1;32m    176\u001b[0m       \u001b[0;34m'port'\u001b[0m\u001b[0;34m:\u001b[0m \u001b[0mport\u001b[0m\u001b[0;34m,\u001b[0m\u001b[0;34m\u001b[0m\u001b[0;34m\u001b[0m\u001b[0m\n\u001b[1;32m    177\u001b[0m       \u001b[0;34m'path'\u001b[0m\u001b[0;34m:\u001b[0m \u001b[0m_os\u001b[0m\u001b[0;34m.\u001b[0m\u001b[0mpath\u001b[0m\u001b[0;34m.\u001b[0m\u001b[0mabspath\u001b[0m\u001b[0;34m(\u001b[0m\u001b[0mfilename\u001b[0m\u001b[0;34m)\u001b[0m\u001b[0;34m,\u001b[0m\u001b[0;34m\u001b[0m\u001b[0;34m\u001b[0m\u001b[0m\n\u001b[0;32m--> 178\u001b[0;31m       \u001b[0;34m'name'\u001b[0m\u001b[0;34m:\u001b[0m \u001b[0m_os\u001b[0m\u001b[0;34m.\u001b[0m\u001b[0mpath\u001b[0m\u001b[0;34m.\u001b[0m\u001b[0mbasename\u001b[0m\u001b[0;34m(\u001b[0m\u001b[0mfilename\u001b[0m\u001b[0;34m)\u001b[0m\u001b[0;34m,\u001b[0m\u001b[0;34m\u001b[0m\u001b[0;34m\u001b[0m\u001b[0m\n\u001b[0m\u001b[1;32m    179\u001b[0m   })\n",
            "\u001b[0;32m/usr/local/lib/python3.6/dist-packages/google/colab/output/_js.py\u001b[0m in \u001b[0;36meval_js\u001b[0;34m(script, ignore_result)\u001b[0m\n\u001b[1;32m     37\u001b[0m   \u001b[0;32mif\u001b[0m \u001b[0mignore_result\u001b[0m\u001b[0;34m:\u001b[0m\u001b[0;34m\u001b[0m\u001b[0;34m\u001b[0m\u001b[0m\n\u001b[1;32m     38\u001b[0m     \u001b[0;32mreturn\u001b[0m\u001b[0;34m\u001b[0m\u001b[0;34m\u001b[0m\u001b[0m\n\u001b[0;32m---> 39\u001b[0;31m   \u001b[0;32mreturn\u001b[0m \u001b[0m_message\u001b[0m\u001b[0;34m.\u001b[0m\u001b[0mread_reply_from_input\u001b[0m\u001b[0;34m(\u001b[0m\u001b[0mrequest_id\u001b[0m\u001b[0;34m)\u001b[0m\u001b[0;34m\u001b[0m\u001b[0;34m\u001b[0m\u001b[0m\n\u001b[0m\u001b[1;32m     40\u001b[0m \u001b[0;34m\u001b[0m\u001b[0m\n\u001b[1;32m     41\u001b[0m \u001b[0;34m\u001b[0m\u001b[0m\n",
            "\u001b[0;32m/usr/local/lib/python3.6/dist-packages/google/colab/_message.py\u001b[0m in \u001b[0;36mread_reply_from_input\u001b[0;34m(message_id, timeout_sec)\u001b[0m\n\u001b[1;32m    104\u001b[0m         reply.get('colab_msg_id') == message_id):\n\u001b[1;32m    105\u001b[0m       \u001b[0;32mif\u001b[0m \u001b[0;34m'error'\u001b[0m \u001b[0;32min\u001b[0m \u001b[0mreply\u001b[0m\u001b[0;34m:\u001b[0m\u001b[0;34m\u001b[0m\u001b[0;34m\u001b[0m\u001b[0m\n\u001b[0;32m--> 106\u001b[0;31m         \u001b[0;32mraise\u001b[0m \u001b[0mMessageError\u001b[0m\u001b[0;34m(\u001b[0m\u001b[0mreply\u001b[0m\u001b[0;34m[\u001b[0m\u001b[0;34m'error'\u001b[0m\u001b[0;34m]\u001b[0m\u001b[0;34m)\u001b[0m\u001b[0;34m\u001b[0m\u001b[0;34m\u001b[0m\u001b[0m\n\u001b[0m\u001b[1;32m    107\u001b[0m       \u001b[0;32mreturn\u001b[0m \u001b[0mreply\u001b[0m\u001b[0;34m.\u001b[0m\u001b[0mget\u001b[0m\u001b[0;34m(\u001b[0m\u001b[0;34m'data'\u001b[0m\u001b[0;34m,\u001b[0m \u001b[0;32mNone\u001b[0m\u001b[0;34m)\u001b[0m\u001b[0;34m\u001b[0m\u001b[0;34m\u001b[0m\u001b[0m\n\u001b[1;32m    108\u001b[0m \u001b[0;34m\u001b[0m\u001b[0m\n",
            "\u001b[0;31mMessageError\u001b[0m: TypeError: NetworkError when attempting to fetch resource."
          ]
        }
      ]
    },
    {
      "cell_type": "code",
      "metadata": {
        "id": "7jr932yXeysZ",
        "colab_type": "code",
        "colab": {
          "base_uri": "https://localhost:8080/",
          "height": 34
        },
        "outputId": "812b9778-74be-4e48-862f-685685d0d845"
      },
      "source": [
        "!ls"
      ],
      "execution_count": 2,
      "outputs": [
        {
          "output_type": "stream",
          "text": [
            "sample_data\n"
          ],
          "name": "stdout"
        }
      ]
    },
    {
      "cell_type": "code",
      "metadata": {
        "id": "ZKNZsUSPfUb5",
        "colab_type": "code",
        "colab": {
          "base_uri": "https://localhost:8080/",
          "height": 34
        },
        "outputId": "6b18564d-2a04-469e-829a-730ec904a2de"
      },
      "source": [
        "cp \"time_logs.jsonl\" \"drive/My Drive/DCI-Net\""
      ],
      "execution_count": 1,
      "outputs": [
        {
          "output_type": "stream",
          "text": [
            "cp: cannot stat 'time_logs.jsonl': No such file or directory\n"
          ],
          "name": "stdout"
        }
      ]
    },
    {
      "cell_type": "code",
      "metadata": {
        "id": "eauUkdiPfe3f",
        "colab_type": "code",
        "colab": {
          "base_uri": "https://localhost:8080/",
          "height": 295
        },
        "outputId": "a14226c0-4756-4f31-92fa-ab827f62e726"
      },
      "source": [
        "!cat time_logs.jsonl | jq"
      ],
      "execution_count": 40,
      "outputs": [
        {
          "output_type": "stream",
          "text": [
            "\u001b[1;39m{\n",
            "  \u001b[0m\u001b[34;1m\"datetimeUTC\"\u001b[0m\u001b[1;39m: \u001b[0m\u001b[0;32m\"2019-10-28 20:46:23.879399\"\u001b[0m\u001b[1;39m,\n",
            "  \u001b[0m\u001b[34;1m\"function\"\u001b[0m\u001b[1;39m: \u001b[0m\u001b[0;32m\"train_segnet\"\u001b[0m\u001b[1;39m,\n",
            "  \u001b[0m\u001b[34;1m\"args\"\u001b[0m\u001b[1;39m: \u001b[0m\u001b[1;39m[\n",
            "    \u001b[0;32m\"<class 'tensorflow.python.keras.engine.training.Model'>\"\u001b[0m\u001b[1;39m,\n",
            "    \u001b[0;32m\"drive/My Drive/DCI-Net/Colab_data/Dataset 1\"\u001b[0m\u001b[1;39m,\n",
            "    \u001b[0;32m\"drive/My Drive/DCI-Net/Colab_data/Dataset 1\"\u001b[0m\u001b[1;39m\n",
            "  \u001b[1;39m]\u001b[0m\u001b[1;39m,\n",
            "  \u001b[0m\u001b[34;1m\"kwargs\"\u001b[0m\u001b[1;39m: \u001b[0m\u001b[1;39m{\n",
            "    \u001b[0m\u001b[34;1m\"batch_size\"\u001b[0m\u001b[1;39m: \u001b[0m\u001b[0;39m8\u001b[0m\u001b[1;39m,\n",
            "    \u001b[0m\u001b[34;1m\"epochs\"\u001b[0m\u001b[1;39m: \u001b[0m\u001b[0;39m50\u001b[0m\u001b[1;39m,\n",
            "    \u001b[0m\u001b[34;1m\"steps_per_epoch\"\u001b[0m\u001b[1;39m: \u001b[0m\u001b[0;39m100\u001b[0m\u001b[1;39m,\n",
            "    \u001b[0m\u001b[34;1m\"model_file\"\u001b[0m\u001b[1;39m: \u001b[0m\u001b[0;32m\"drive/My Drive/DCI-Net/second_mutlires_gpu_WBC.h5\"\u001b[0m\u001b[1;39m\n",
            "  \u001b[1;39m}\u001b[0m\u001b[1;39m,\n",
            "  \u001b[0m\u001b[34;1m\"time\"\u001b[0m\u001b[1;39m: \u001b[0m\u001b[0;39m7054.45720076561\u001b[0m\u001b[1;39m\n",
            "\u001b[1;39m}\u001b[0m\n"
          ],
          "name": "stdout"
        }
      ]
    },
    {
      "cell_type": "code",
      "metadata": {
        "id": "04ibUYVvf47H",
        "colab_type": "code",
        "colab": {}
      },
      "source": [
        "# 1 validación 5 pliegues\n",
        "def "
      ],
      "execution_count": 0,
      "outputs": []
    },
    {
      "cell_type": "code",
      "metadata": {
        "id": "hXwZZTxQkuMy",
        "colab_type": "code",
        "colab": {}
      },
      "source": [
        "@timing.time_log(path_to_logfile=_log_file)\n",
        "def _dummy_debug_function(*args, **kw):\n",
        "  pass\n",
        "  "
      ],
      "execution_count": 0,
      "outputs": []
    },
    {
      "cell_type": "code",
      "metadata": {
        "id": "iJDNCbPfXogz",
        "colab_type": "code",
        "colab": {}
      },
      "source": [
        ""
      ],
      "execution_count": 0,
      "outputs": []
    },
    {
      "cell_type": "code",
      "metadata": {
        "id": "TjdrADboXliJ",
        "colab_type": "code",
        "colab": {}
      },
      "source": [
        "_dummy_debug_function(5, '234', 5.2, hola='pass', foo='bar')"
      ],
      "execution_count": 0,
      "outputs": []
    },
    {
      "cell_type": "code",
      "metadata": {
        "id": "3xYc5_3SX6hJ",
        "colab_type": "code",
        "colab": {}
      },
      "source": [
        ""
      ],
      "execution_count": 0,
      "outputs": []
    }
  ]
}