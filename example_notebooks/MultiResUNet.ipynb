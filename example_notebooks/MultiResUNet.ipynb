{
  "nbformat": 4,
  "nbformat_minor": 0,
  "metadata": {
    "colab": {
      "name": "MultiResUNet.ipynb",
      "provenance": [],
      "collapsed_sections": [],
      "include_colab_link": true
    },
    "kernelspec": {
      "name": "python3",
      "display_name": "Python 3"
    },
    "accelerator": "GPU"
  },
  "cells": [
    {
      "cell_type": "markdown",
      "metadata": {
        "id": "view-in-github",
        "colab_type": "text"
      },
      "source": [
        "<a href=\"https://colab.research.google.com/github/gmagannaDevelop/segnet/blob/mru_tests/MultiResUNet.ipynb\" target=\"_parent\"><img src=\"https://colab.research.google.com/assets/colab-badge.svg\" alt=\"Open In Colab\"/></a>"
      ]
    },
    {
      "cell_type": "markdown",
      "metadata": {
        "id": "DHw_6M1yXu8b",
        "colab_type": "text"
      },
      "source": [
        "# MultiResUNet\n",
        "## DCI-Net\n",
        "#### Gustavo Magaña\n",
        "\n",
        "\\########################################################"
      ]
    },
    {
      "cell_type": "code",
      "metadata": {
        "id": "C7esbcDmCpM_",
        "colab_type": "code",
        "outputId": "f0fafaed-a8da-4b9d-d203-3b3f1a6b6c97",
        "colab": {
          "base_uri": "https://localhost:8080/",
          "height": 34
        }
      },
      "source": [
        "!ls"
      ],
      "execution_count": 0,
      "outputs": [
        {
          "output_type": "stream",
          "text": [
            "drive  sample_data\n"
          ],
          "name": "stdout"
        }
      ]
    },
    {
      "cell_type": "code",
      "metadata": {
        "id": "IvwdXdIkfp0E",
        "colab_type": "code",
        "outputId": "7e075180-4e8c-4352-9fd2-719d2370aa80",
        "colab": {
          "base_uri": "https://localhost:8080/",
          "height": 104
        }
      },
      "source": [
        "!apt install jq"
      ],
      "execution_count": 0,
      "outputs": [
        {
          "output_type": "stream",
          "text": [
            "Reading package lists... Done\n",
            "Building dependency tree       \n",
            "Reading state information... Done\n",
            "jq is already the newest version (1.5+dfsg-2).\n",
            "0 upgraded, 0 newly installed, 0 to remove and 28 not upgraded.\n"
          ],
          "name": "stdout"
        }
      ]
    },
    {
      "cell_type": "code",
      "metadata": {
        "id": "SUVhISDWOwT5",
        "colab_type": "code",
        "outputId": "c505eac5-28ba-4447-f9a2-5cc51524eec3",
        "colab": {
          "base_uri": "https://localhost:8080/",
          "height": 1000
        }
      },
      "source": [
        "## If changes are made to the repo, uninstall and\n",
        "## a fresh pip install are required, so it seems.\n",
        "#!pip uninstall segnet\n",
        "!pip install git+https://github.com/gmagannaDevelop/segnet.git@mru_tests\n",
        "##!pip install git+https://github.com/gmagannaDevelop/segnet.git@log_hotfix"
      ],
      "execution_count": 0,
      "outputs": [
        {
          "output_type": "stream",
          "text": [
            "Collecting git+https://github.com/gmagannaDevelop/segnet.git@mru_tests\n",
            "  Cloning https://github.com/gmagannaDevelop/segnet.git (to revision mru_tests) to /tmp/pip-req-build-fimkzmju\n",
            "  Running command git clone -q https://github.com/gmagannaDevelop/segnet.git /tmp/pip-req-build-fimkzmju\n",
            "  Running command git checkout -b mru_tests --track origin/mru_tests\n",
            "  Switched to a new branch 'mru_tests'\n",
            "  Branch 'mru_tests' set up to track remote branch 'mru_tests' from 'origin'.\n",
            "Requirement already satisfied (use --upgrade to upgrade): segnet==0.4 from git+https://github.com/gmagannaDevelop/segnet.git@mru_tests in /usr/local/lib/python3.6/dist-packages\n",
            "Requirement already satisfied: absl-py in /usr/local/lib/python3.6/dist-packages (from segnet==0.4) (0.8.1)\n",
            "Requirement already satisfied: appdirs in /usr/local/lib/python3.6/dist-packages (from segnet==0.4) (1.4.3)\n",
            "Requirement already satisfied: astor in /usr/local/lib/python3.6/dist-packages (from segnet==0.4) (0.8.0)\n",
            "Requirement already satisfied: astroid in /usr/local/lib/python3.6/dist-packages (from segnet==0.4) (2.3.2)\n",
            "Requirement already satisfied: atomicwrites in /usr/local/lib/python3.6/dist-packages (from segnet==0.4) (1.3.0)\n",
            "Requirement already satisfied: attrs in /usr/local/lib/python3.6/dist-packages (from segnet==0.4) (19.3.0)\n",
            "Requirement already satisfied: black in /usr/local/lib/python3.6/dist-packages (from segnet==0.4) (19.10b0)\n",
            "Requirement already satisfied: click in /usr/local/lib/python3.6/dist-packages (from segnet==0.4) (7.0)\n",
            "Requirement already satisfied: cycler in /usr/local/lib/python3.6/dist-packages (from segnet==0.4) (0.10.0)\n",
            "Requirement already satisfied: decorator in /usr/local/lib/python3.6/dist-packages (from segnet==0.4) (4.4.1)\n",
            "Requirement already satisfied: gast in /usr/local/lib/python3.6/dist-packages (from segnet==0.4) (0.2.2)\n",
            "Requirement already satisfied: google-pasta in /usr/local/lib/python3.6/dist-packages (from segnet==0.4) (0.1.7)\n",
            "Requirement already satisfied: grpcio in /usr/local/lib/python3.6/dist-packages (from segnet==0.4) (1.15.0)\n",
            "Requirement already satisfied: h5py in /usr/local/lib/python3.6/dist-packages (from segnet==0.4) (2.8.0)\n",
            "Requirement already satisfied: imageio in /usr/local/lib/python3.6/dist-packages (from segnet==0.4) (2.4.1)\n",
            "Requirement already satisfied: importlib-metadata in /usr/local/lib/python3.6/dist-packages (from segnet==0.4) (0.23)\n",
            "Requirement already satisfied: isort in /usr/local/lib/python3.6/dist-packages (from segnet==0.4) (4.3.21)\n",
            "Requirement already satisfied: joblib in /usr/local/lib/python3.6/dist-packages (from segnet==0.4) (0.14.0)\n",
            "Requirement already satisfied: kiwisolver in /usr/local/lib/python3.6/dist-packages (from segnet==0.4) (1.1.0)\n",
            "Requirement already satisfied: lazy-object-proxy in /usr/local/lib/python3.6/dist-packages (from segnet==0.4) (1.4.3)\n",
            "Requirement already satisfied: markdown in /usr/local/lib/python3.6/dist-packages (from segnet==0.4) (3.1.1)\n",
            "Requirement already satisfied: matplotlib in /usr/local/lib/python3.6/dist-packages (from segnet==0.4) (3.1.1)\n",
            "Requirement already satisfied: mccabe in /usr/local/lib/python3.6/dist-packages (from segnet==0.4) (0.6.1)\n",
            "Requirement already satisfied: more-itertools in /usr/local/lib/python3.6/dist-packages (from segnet==0.4) (7.2.0)\n",
            "Requirement already satisfied: networkx in /usr/local/lib/python3.6/dist-packages (from segnet==0.4) (2.4)\n",
            "Requirement already satisfied: numpy in /usr/local/lib/python3.6/dist-packages (from segnet==0.4) (1.17.3)\n",
            "Requirement already satisfied: opt-einsum in /usr/local/lib/python3.6/dist-packages (from segnet==0.4) (3.1.0)\n",
            "Requirement already satisfied: packaging in /usr/local/lib/python3.6/dist-packages (from segnet==0.4) (19.2)\n",
            "Requirement already satisfied: pandas in /usr/local/lib/python3.6/dist-packages (from segnet==0.4) (0.25.2)\n",
            "Requirement already satisfied: pillow in /usr/local/lib/python3.6/dist-packages (from segnet==0.4) (4.3.0)\n",
            "Requirement already satisfied: pluggy in /usr/local/lib/python3.6/dist-packages (from segnet==0.4) (0.7.1)\n",
            "Requirement already satisfied: protobuf in /usr/local/lib/python3.6/dist-packages (from segnet==0.4) (3.10.0)\n",
            "Requirement already satisfied: py in /usr/local/lib/python3.6/dist-packages (from segnet==0.4) (1.8.0)\n",
            "Requirement already satisfied: pylint in /usr/local/lib/python3.6/dist-packages (from segnet==0.4) (2.4.3)\n",
            "Requirement already satisfied: pyparsing in /usr/local/lib/python3.6/dist-packages (from segnet==0.4) (2.4.2)\n",
            "Requirement already satisfied: pytest in /usr/local/lib/python3.6/dist-packages (from segnet==0.4) (3.6.4)\n",
            "Requirement already satisfied: python-dateutil in /usr/local/lib/python3.6/dist-packages (from segnet==0.4) (2.6.1)\n",
            "Requirement already satisfied: pytz in /usr/local/lib/python3.6/dist-packages (from segnet==0.4) (2018.9)\n",
            "Requirement already satisfied: pywavelets in /usr/local/lib/python3.6/dist-packages (from segnet==0.4) (1.1.1)\n",
            "Requirement already satisfied: pyyaml in /usr/local/lib/python3.6/dist-packages (from segnet==0.4) (3.13)\n",
            "Requirement already satisfied: scikit-image in /usr/local/lib/python3.6/dist-packages (from segnet==0.4) (0.15.0)\n",
            "Requirement already satisfied: scikit-learn in /usr/local/lib/python3.6/dist-packages (from segnet==0.4) (0.21.3)\n",
            "Requirement already satisfied: scipy in /usr/local/lib/python3.6/dist-packages (from segnet==0.4) (1.3.1)\n",
            "Requirement already satisfied: seaborn in /usr/local/lib/python3.6/dist-packages (from segnet==0.4) (0.9.0)\n",
            "Requirement already satisfied: six in /usr/local/lib/python3.6/dist-packages (from segnet==0.4) (1.12.0)\n",
            "Requirement already satisfied: tensorflow in /usr/local/lib/python3.6/dist-packages (from segnet==0.4) (1.15.0)\n",
            "Requirement already satisfied: termcolor in /usr/local/lib/python3.6/dist-packages (from segnet==0.4) (1.1.0)\n",
            "Requirement already satisfied: toml in /usr/local/lib/python3.6/dist-packages (from segnet==0.4) (0.10.0)\n",
            "Requirement already satisfied: typed-ast in /usr/local/lib/python3.6/dist-packages (from segnet==0.4) (1.4.0)\n",
            "Requirement already satisfied: wcwidth in /usr/local/lib/python3.6/dist-packages (from segnet==0.4) (0.1.7)\n",
            "Requirement already satisfied: werkzeug in /usr/local/lib/python3.6/dist-packages (from segnet==0.4) (0.16.0)\n",
            "Requirement already satisfied: wrapt in /usr/local/lib/python3.6/dist-packages (from segnet==0.4) (1.11.2)\n",
            "Requirement already satisfied: zipp in /usr/local/lib/python3.6/dist-packages (from segnet==0.4) (0.6.0)\n",
            "Requirement already satisfied: regex in /usr/local/lib/python3.6/dist-packages (from black->segnet==0.4) (2019.11.1)\n",
            "Requirement already satisfied: pathspec<1,>=0.6 in /usr/local/lib/python3.6/dist-packages (from black->segnet==0.4) (0.6.0)\n",
            "Requirement already satisfied: setuptools in /usr/local/lib/python3.6/dist-packages (from kiwisolver->segnet==0.4) (41.4.0)\n",
            "Requirement already satisfied: olefile in /usr/local/lib/python3.6/dist-packages (from pillow->segnet==0.4) (0.46)\n",
            "Requirement already satisfied: keras-applications>=1.0.8 in /usr/local/lib/python3.6/dist-packages (from tensorflow->segnet==0.4) (1.0.8)\n",
            "Requirement already satisfied: wheel>=0.26 in /usr/local/lib/python3.6/dist-packages (from tensorflow->segnet==0.4) (0.33.6)\n",
            "Requirement already satisfied: tensorflow-estimator==1.15.1 in /usr/local/lib/python3.6/dist-packages (from tensorflow->segnet==0.4) (1.15.1)\n",
            "Requirement already satisfied: tensorboard<1.16.0,>=1.15.0 in /usr/local/lib/python3.6/dist-packages (from tensorflow->segnet==0.4) (1.15.0)\n",
            "Requirement already satisfied: keras-preprocessing>=1.0.5 in /usr/local/lib/python3.6/dist-packages (from tensorflow->segnet==0.4) (1.1.0)\n",
            "Building wheels for collected packages: segnet\n",
            "  Building wheel for segnet (setup.py) ... \u001b[?25l\u001b[?25hdone\n",
            "  Created wheel for segnet: filename=segnet-0.4-cp36-none-any.whl size=22815 sha256=1d08cd56ebe8f375489e1a8dc1ad93c96ad9f81cdc040cd9b74e110a1fe933cf\n",
            "  Stored in directory: /tmp/pip-ephem-wheel-cache-7jvfx9ir/wheels/f1/c1/51/0ee27f445c3a618413714a84d4f5500547456389437a85a87f\n",
            "Successfully built segnet\n"
          ],
          "name": "stdout"
        }
      ]
    },
    {
      "cell_type": "markdown",
      "metadata": {
        "id": "qCRoHPcGgvEL",
        "colab_type": "text"
      },
      "source": [
        "Imports"
      ]
    },
    {
      "cell_type": "code",
      "metadata": {
        "id": "UxVrrV2VXLGA",
        "colab_type": "code",
        "outputId": "6e294326-218c-4f3e-b2fc-b9814f851024",
        "colab": {
          "base_uri": "https://localhost:8080/",
          "height": 34
        }
      },
      "source": [
        "### System-related\n",
        "import sys\n",
        "import os\n",
        "import datetime \n",
        "#import importlib.util\n",
        "###############################################################\n",
        "\n",
        "### Machine learning specific\n",
        "#import segmentation_models as sm\n",
        "from keras.optimizers import SGD\n",
        "from keras.callbacks import ModelCheckpoint, ReduceLROnPlateau\n",
        "from sklearn.model_selection import train_test_split\n",
        "import keras.models\n",
        "###############################################################\n",
        "\n",
        "### In-Out\n",
        "from skimage import io\n",
        "import glob\n",
        "###############################################################\n",
        "\n",
        "### Visualization\n",
        "import seaborn as sns\n",
        "###############################################################\n",
        "\n",
        "### Numerical\n",
        "import numpy as np\n",
        "###############################################################\n",
        "\n",
        "### Repo-specific (segnet)\n",
        "from segnet.train import train_segnet\n",
        "from segnet.models import multiresunet2 as mru\n",
        "from segnet.utils import timing\n",
        "#from segnet.segnet.train.train_segnet import train_segnet\n",
        "#import segnet.segnet as segnet\n",
        "\n",
        "### Data-related\n",
        "from google.colab import drive, files\n",
        "drive.mount('/content/drive/')\n",
        "###############################################################\n",
        "\n",
        "\n",
        "### Not an import, but mandatory to be defined here :\n",
        "root_dir   = \"drive/My Drive/DCI-Net\"\n",
        "_log_file  = os.path.join(root_dir, \"time_logs.jsonl\")"
      ],
      "execution_count": 0,
      "outputs": [
        {
          "output_type": "stream",
          "text": [
            "Drive already mounted at /content/drive/; to attempt to forcibly remount, call drive.mount(\"/content/drive/\", force_remount=True).\n"
          ],
          "name": "stdout"
        }
      ]
    },
    {
      "cell_type": "markdown",
      "metadata": {
        "id": "pde_pTyigywK",
        "colab_type": "text"
      },
      "source": [
        "Function definition"
      ]
    },
    {
      "cell_type": "code",
      "metadata": {
        "id": "HnJpx7qYdlId",
        "colab_type": "code",
        "colab": {}
      },
      "source": [
        "def yield_model_name(\n",
        "    architecture: str = \"MultiResUNet\",\n",
        "    date: Optional[str] = None\n",
        ") -> str:\n",
        "  \"\"\"\n",
        "    Yield a model name, to be passed to other functions.\n",
        "    Said model name consisting of an architecture name, \n",
        "    the (UTCtime)\n",
        "  \"\"\"\n",
        "  if date is None:\n",
        "    date = str(datetime.datetime.utcnow()).split(\".\")[0]\n",
        "  return f\"{architecture}-({date}).h5\"\n",
        "\n",
        "def yield_mask_directory(\n",
        "    architecture: str = \"MultiResUNet\",\n",
        "    date: Optional[str] = None\n",
        ") -> str:\n",
        "  \"\"\"\n",
        "    Yield a model name, to be passed to other functions.\n",
        "    Said model name consisting of an architecture name, \n",
        "    the (UTCtime)\n",
        "  \"\"\"\n",
        "  if date is None:\n",
        "    date = str(datetime.datetime.utcnow()).split(\".\")[0].split(\" \")[0]\n",
        "  return f\"{architecture}-({date})\""
      ],
      "execution_count": 0,
      "outputs": []
    },
    {
      "cell_type": "code",
      "metadata": {
        "id": "IceMi8yGf4ru",
        "colab_type": "code",
        "outputId": "021755e7-751e-4d59-fc01-05c32958300d",
        "colab": {
          "base_uri": "https://localhost:8080/",
          "height": 34
        }
      },
      "source": [
        "yield_model_name()"
      ],
      "execution_count": 0,
      "outputs": [
        {
          "output_type": "execute_result",
          "data": {
            "text/plain": [
              "'MultiResUNet-(2019-11-04 01:48:44).h5'"
            ]
          },
          "metadata": {
            "tags": []
          },
          "execution_count": 31
        }
      ]
    },
    {
      "cell_type": "code",
      "metadata": {
        "id": "J0_DxhwXCyOd",
        "colab_type": "code",
        "outputId": "ff2834a0-5f44-4763-fd99-e0ba18c55513",
        "colab": {
          "base_uri": "https://localhost:8080/",
          "height": 34
        }
      },
      "source": [
        "yield_mask_directory()"
      ],
      "execution_count": 0,
      "outputs": [
        {
          "output_type": "execute_result",
          "data": {
            "text/plain": [
              "'MultiResUNet-(2019-11-04)'"
            ]
          },
          "metadata": {
            "tags": []
          },
          "execution_count": 32
        }
      ]
    },
    {
      "cell_type": "code",
      "metadata": {
        "id": "2pRrtgcrDThX",
        "colab_type": "code",
        "outputId": "50a65fd9-732c-437a-9be0-e53d57512e48",
        "colab": {
          "base_uri": "https://localhost:8080/",
          "height": 34
        }
      },
      "source": [
        "!ls \"drive/My Drive/DCI-Net/Masks\""
      ],
      "execution_count": 0,
      "outputs": [
        {
          "output_type": "stream",
          "text": [
            "Sunday3nov\n"
          ],
          "name": "stdout"
        }
      ]
    },
    {
      "cell_type": "code",
      "metadata": {
        "id": "Ce2TEroWZ2WI",
        "colab_type": "code",
        "outputId": "0c815efb-95c2-4657-b3fe-9f0eb0db21ce",
        "colab": {
          "base_uri": "https://localhost:8080/",
          "height": 34
        }
      },
      "source": [
        "!ls \"drive/My Drive/DCI-Net/Colab_data/Dataset 2\""
      ],
      "execution_count": 0,
      "outputs": [
        {
          "output_type": "stream",
          "text": [
            "images\tmasks\n"
          ],
          "name": "stdout"
        }
      ]
    },
    {
      "cell_type": "code",
      "metadata": {
        "id": "wJWjlxLkW9lz",
        "colab_type": "code",
        "colab": {}
      },
      "source": [
        "# Declare the paths to use (following the Keras convention)\n",
        "# https://www.tensorflow.org/versions/r2.0/api_docs/python/tf/keras/Model#fit_generator\n",
        "masks_path = img_path = data_path  = \"drive/My Drive/DCI-Net/Colab_data/Dataset 2\"\n",
        "\n",
        "_img_path   = os.path.join(data_path, 'imgs')\n",
        "_masks_path = os.path.join(data_path, 'msks')\n",
        "\n",
        "\n",
        "_model_snapshots_dir = os.path.join(root_dir, \"ModelSnapshots\")\n",
        "_model_log_path = os.path.join(\n",
        "    _model_snapshots_dir, \n",
        "    yield_model_name(architecture=\"MultiResUNet\")\n",
        ")\n"
      ],
      "execution_count": 0,
      "outputs": []
    },
    {
      "cell_type": "code",
      "metadata": {
        "id": "Q8PeDFX_EAGY",
        "colab_type": "code",
        "outputId": "17400e50-f1ae-42a8-d66b-7a1043145cf0",
        "colab": {
          "base_uri": "https://localhost:8080/",
          "height": 104
        }
      },
      "source": [
        "print(f\"{data_path}\\n {masks_path}\\n {img_path}\\n {_img_path}\\n {_masks_path}\")"
      ],
      "execution_count": 45,
      "outputs": [
        {
          "output_type": "stream",
          "text": [
            "drive/My Drive/DCI-Net/Colab_data/Dataset 2\n",
            " drive/My Drive/DCI-Net/Colab_data/Dataset 2\n",
            " drive/My Drive/DCI-Net/Colab_data/Dataset 2\n",
            " drive/My Drive/DCI-Net/Colab_data/Dataset 2/imgs\n",
            " drive/My Drive/DCI-Net/Colab_data/Dataset 2/msks\n"
          ],
          "name": "stdout"
        }
      ]
    },
    {
      "cell_type": "markdown",
      "metadata": {
        "id": "Fgcp3Hl3n0uo",
        "colab_type": "text"
      },
      "source": [
        "Define hyperparameters\n"
      ]
    },
    {
      "cell_type": "code",
      "metadata": {
        "id": "O2qpzDaekgEl",
        "colab_type": "code",
        "colab": {}
      },
      "source": [
        "hyper_params = dict(\n",
        "    batch_size = 8,\n",
        "    epochs = 50,\n",
        "    steps_per_epoch=100,\n",
        "    model_file = _model_log_path\n",
        ")\n",
        "\n",
        "# DEBUG COMMENT OUT WHEN TRAINING : \n",
        "_debug_hyper_params = dict(\n",
        "    batch_size = 8,\n",
        "    epochs = 1,\n",
        "    steps_per_epoch=2,\n",
        "    model_file = _model_log_path\n",
        ")"
      ],
      "execution_count": 0,
      "outputs": []
    },
    {
      "cell_type": "markdown",
      "metadata": {
        "id": "mtl5hSO9nAZ2",
        "colab_type": "text"
      },
      "source": [
        "Get the stored snapshots :"
      ]
    },
    {
      "cell_type": "code",
      "metadata": {
        "id": "pXvwmgVBkvPU",
        "colab_type": "code",
        "outputId": "0d7ad3ae-5530-4219-cdc6-c159b8c1bda8",
        "colab": {
          "base_uri": "https://localhost:8080/",
          "height": 34
        }
      },
      "source": [
        "snapshots = os.listdir(_model_snapshots_dir)\n",
        "snapshots"
      ],
      "execution_count": 47,
      "outputs": [
        {
          "output_type": "execute_result",
          "data": {
            "text/plain": [
              "['MultiResUNet-(2019-10-29 03:29:04).h5']"
            ]
          },
          "metadata": {
            "tags": []
          },
          "execution_count": 47
        }
      ]
    },
    {
      "cell_type": "markdown",
      "metadata": {
        "id": "BF9uMSUWnM2y",
        "colab_type": "text"
      },
      "source": [
        "Choose a snapshot to load, if so desired :"
      ]
    },
    {
      "cell_type": "code",
      "metadata": {
        "id": "WSZcoEJClITg",
        "colab_type": "code",
        "outputId": "f3ecab98-a74a-40f3-af55-9d3a6721e679",
        "colab": {
          "base_uri": "https://localhost:8080/",
          "height": 34
        }
      },
      "source": [
        "load_snapshot = os.path.join(_model_snapshots_dir, snapshots[0])\n",
        "load_snapshot"
      ],
      "execution_count": 48,
      "outputs": [
        {
          "output_type": "execute_result",
          "data": {
            "text/plain": [
              "'drive/My Drive/DCI-Net/ModelSnapshots/MultiResUNet-(2019-10-29 03:29:04).h5'"
            ]
          },
          "metadata": {
            "tags": []
          },
          "execution_count": 48
        }
      ]
    },
    {
      "cell_type": "markdown",
      "metadata": {
        "id": "0n3KvDkznZUl",
        "colab_type": "text"
      },
      "source": [
        "Instantiate a MultiResUNet model, **optionally** from a checkpoint :"
      ]
    },
    {
      "cell_type": "code",
      "metadata": {
        "id": "K0Ah1NY_NX2e",
        "colab_type": "code",
        "colab": {}
      },
      "source": [
        "model = mru.MultiResUNet()\n",
        "\n",
        "# TOGGLE THIS !\n",
        "from_checkpoint = False\n",
        "\n",
        "if from_checkpoint:\n",
        "  model.load_weights(load_snapshot)\n"
      ],
      "execution_count": 0,
      "outputs": []
    },
    {
      "cell_type": "markdown",
      "metadata": {
        "id": "F9vVsIdYnqA-",
        "colab_type": "text"
      },
      "source": [
        "Train the model :"
      ]
    },
    {
      "cell_type": "code",
      "metadata": {
        "id": "xaMlOM9rZQ1L",
        "colab_type": "code",
        "outputId": "23085d64-b591-4e3d-a327-86d7f0e9255b",
        "colab": {
          "base_uri": "https://localhost:8080/",
          "height": 1000
        }
      },
      "source": [
        "history = train_segnet.train_segnet(\n",
        "    model,\n",
        "    _img_path,\n",
        "    _masks_path,\n",
        "    **hyper_params\n",
        ")\n"
      ],
      "execution_count": 50,
      "outputs": [
        {
          "output_type": "stream",
          "text": [
            "Found 80 images belonging to 1 classes.\n",
            "Found 80 images belonging to 1 classes.\n",
            "Found 20 images belonging to 1 classes.\n",
            "Found 20 images belonging to 1 classes.\n",
            "Epoch 1/50\n",
            " 99/100 [============================>.] - ETA: 1s - loss: 0.4765 - jaccard_index: 0.2685 - dice_coef: 0.4225Epoch 1/50\n",
            "100/100 [==============================] - 38s 385ms/step - loss: 0.5367 - jaccard_index: 0.2147 - dice_coef: 0.3532\n",
            "\n",
            "Epoch 00001: val_jaccard_index improved from -inf to 0.21475, saving model to drive/My Drive/DCI-Net/ModelSnapshots/MultiResUNet-(2019-11-04 01:48:44).h5\n",
            "100/100 [==============================] - 216s 2s/step - loss: 0.4762 - jaccard_index: 0.2687 - dice_coef: 0.4228 - val_loss: 0.5367 - val_jaccard_index: 0.2147 - val_dice_coef: 0.3532\n",
            "Epoch 2/50\n",
            " 99/100 [============================>.] - ETA: 1s - loss: 0.4379 - jaccard_index: 0.2802 - dice_coef: 0.4373Epoch 1/50\n",
            "100/100 [==============================] - 25s 247ms/step - loss: 0.4851 - jaccard_index: 0.1937 - dice_coef: 0.3240\n",
            "\n",
            "Epoch 00002: val_jaccard_index did not improve from 0.21475\n",
            "100/100 [==============================] - 126s 1s/step - loss: 0.4377 - jaccard_index: 0.2805 - dice_coef: 0.4377 - val_loss: 0.4851 - val_jaccard_index: 0.1937 - val_dice_coef: 0.3240\n",
            "Epoch 3/50\n",
            " 99/100 [============================>.] - ETA: 1s - loss: 0.4104 - jaccard_index: 0.2886 - dice_coef: 0.4475Epoch 1/50\n",
            "100/100 [==============================] - 25s 247ms/step - loss: 0.4483 - jaccard_index: 0.2177 - dice_coef: 0.3571\n",
            "\n",
            "Epoch 00003: val_jaccard_index improved from 0.21475 to 0.21769, saving model to drive/My Drive/DCI-Net/ModelSnapshots/MultiResUNet-(2019-11-04 01:48:44).h5\n",
            "100/100 [==============================] - 127s 1s/step - loss: 0.4104 - jaccard_index: 0.2885 - dice_coef: 0.4473 - val_loss: 0.4483 - val_jaccard_index: 0.2177 - val_dice_coef: 0.3571\n",
            "Epoch 4/50\n",
            " 99/100 [============================>.] - ETA: 1s - loss: 0.3869 - jaccard_index: 0.2950 - dice_coef: 0.4553Epoch 1/50\n",
            "100/100 [==============================] - 25s 248ms/step - loss: 0.4258 - jaccard_index: 0.2205 - dice_coef: 0.3611\n",
            "\n",
            "Epoch 00004: val_jaccard_index improved from 0.21769 to 0.22055, saving model to drive/My Drive/DCI-Net/ModelSnapshots/MultiResUNet-(2019-11-04 01:48:44).h5\n",
            "100/100 [==============================] - 128s 1s/step - loss: 0.3867 - jaccard_index: 0.2955 - dice_coef: 0.4559 - val_loss: 0.4258 - val_jaccard_index: 0.2205 - val_dice_coef: 0.3611\n",
            "Epoch 5/50\n",
            " 99/100 [============================>.] - ETA: 1s - loss: 0.3660 - jaccard_index: 0.3013 - dice_coef: 0.4626Epoch 1/50\n",
            "100/100 [==============================] - 25s 247ms/step - loss: 0.3810 - jaccard_index: 0.2838 - dice_coef: 0.4418\n",
            "\n",
            "Epoch 00005: val_jaccard_index improved from 0.22055 to 0.28383, saving model to drive/My Drive/DCI-Net/ModelSnapshots/MultiResUNet-(2019-11-04 01:48:44).h5\n",
            "100/100 [==============================] - 127s 1s/step - loss: 0.3658 - jaccard_index: 0.3017 - dice_coef: 0.4631 - val_loss: 0.3810 - val_jaccard_index: 0.2838 - val_dice_coef: 0.4418\n",
            "Epoch 6/50\n",
            " 99/100 [============================>.] - ETA: 1s - loss: 0.3466 - jaccard_index: 0.3082 - dice_coef: 0.4707Epoch 1/50\n",
            "100/100 [==============================] - 25s 247ms/step - loss: 0.3588 - jaccard_index: 0.2934 - dice_coef: 0.4534\n",
            "\n",
            "Epoch 00006: val_jaccard_index improved from 0.28383 to 0.29345, saving model to drive/My Drive/DCI-Net/ModelSnapshots/MultiResUNet-(2019-11-04 01:48:44).h5\n",
            "100/100 [==============================] - 127s 1s/step - loss: 0.3464 - jaccard_index: 0.3083 - dice_coef: 0.4709 - val_loss: 0.3588 - val_jaccard_index: 0.2934 - val_dice_coef: 0.4534\n",
            "Epoch 7/50\n",
            " 99/100 [============================>.] - ETA: 1s - loss: 0.3294 - jaccard_index: 0.3149 - dice_coef: 0.4786Epoch 1/50\n",
            "100/100 [==============================] - 25s 246ms/step - loss: 0.3522 - jaccard_index: 0.2783 - dice_coef: 0.4352\n",
            "\n",
            "Epoch 00007: val_jaccard_index did not improve from 0.29345\n",
            "100/100 [==============================] - 126s 1s/step - loss: 0.3293 - jaccard_index: 0.3148 - dice_coef: 0.4785 - val_loss: 0.3522 - val_jaccard_index: 0.2783 - val_dice_coef: 0.4352\n",
            "Epoch 8/50\n",
            " 99/100 [============================>.] - ETA: 1s - loss: 0.3142 - jaccard_index: 0.3201 - dice_coef: 0.4846Epoch 1/50\n",
            "100/100 [==============================] - 25s 246ms/step - loss: 0.3272 - jaccard_index: 0.3065 - dice_coef: 0.4689\n",
            "\n",
            "Epoch 00008: val_jaccard_index improved from 0.29345 to 0.30653, saving model to drive/My Drive/DCI-Net/ModelSnapshots/MultiResUNet-(2019-11-04 01:48:44).h5\n",
            "100/100 [==============================] - 127s 1s/step - loss: 0.3142 - jaccard_index: 0.3203 - dice_coef: 0.4848 - val_loss: 0.3272 - val_jaccard_index: 0.3065 - val_dice_coef: 0.4689\n",
            "Epoch 9/50\n",
            " 99/100 [============================>.] - ETA: 1s - loss: 0.3007 - jaccard_index: 0.3257 - dice_coef: 0.4911Epoch 1/50\n",
            "100/100 [==============================] - 25s 247ms/step - loss: 0.3139 - jaccard_index: 0.3162 - dice_coef: 0.4802\n",
            "\n",
            "Epoch 00009: val_jaccard_index improved from 0.30653 to 0.31623, saving model to drive/My Drive/DCI-Net/ModelSnapshots/MultiResUNet-(2019-11-04 01:48:44).h5\n",
            "100/100 [==============================] - 127s 1s/step - loss: 0.3005 - jaccard_index: 0.3257 - dice_coef: 0.4911 - val_loss: 0.3139 - val_jaccard_index: 0.3162 - val_dice_coef: 0.4802\n",
            "Epoch 10/50\n",
            " 99/100 [============================>.] - ETA: 1s - loss: 0.2888 - jaccard_index: 0.3301 - dice_coef: 0.4960Epoch 1/50\n",
            "100/100 [==============================] - 25s 246ms/step - loss: 0.3004 - jaccard_index: 0.3260 - dice_coef: 0.4915\n",
            "\n",
            "Epoch 00010: val_jaccard_index improved from 0.31623 to 0.32602, saving model to drive/My Drive/DCI-Net/ModelSnapshots/MultiResUNet-(2019-11-04 01:48:44).h5\n",
            "100/100 [==============================] - 127s 1s/step - loss: 0.2886 - jaccard_index: 0.3301 - dice_coef: 0.4961 - val_loss: 0.3004 - val_jaccard_index: 0.3260 - val_dice_coef: 0.4915\n",
            "Epoch 11/50\n",
            " 99/100 [============================>.] - ETA: 1s - loss: 0.2781 - jaccard_index: 0.3340 - dice_coef: 0.5005Epoch 1/50\n",
            "100/100 [==============================] - 25s 247ms/step - loss: 0.2991 - jaccard_index: 0.3191 - dice_coef: 0.4836\n",
            "\n",
            "Epoch 00011: val_jaccard_index did not improve from 0.32602\n",
            "100/100 [==============================] - 126s 1s/step - loss: 0.2780 - jaccard_index: 0.3343 - dice_coef: 0.5009 - val_loss: 0.2991 - val_jaccard_index: 0.3191 - val_dice_coef: 0.4836\n",
            "Epoch 12/50\n",
            " 99/100 [============================>.] - ETA: 1s - loss: 0.2694 - jaccard_index: 0.3372 - dice_coef: 0.5042Epoch 1/50\n",
            "100/100 [==============================] - 25s 248ms/step - loss: 0.3436 - jaccard_index: 0.3307 - dice_coef: 0.4968\n",
            "\n",
            "Epoch 00012: val_jaccard_index improved from 0.32602 to 0.33074, saving model to drive/My Drive/DCI-Net/ModelSnapshots/MultiResUNet-(2019-11-04 01:48:44).h5\n",
            "100/100 [==============================] - 128s 1s/step - loss: 0.2694 - jaccard_index: 0.3375 - dice_coef: 0.5044 - val_loss: 0.3436 - val_jaccard_index: 0.3307 - val_dice_coef: 0.4968\n",
            "Epoch 13/50\n",
            " 99/100 [============================>.] - ETA: 1s - loss: 0.2623 - jaccard_index: 0.3397 - dice_coef: 0.5068Epoch 1/50\n",
            "100/100 [==============================] - 25s 248ms/step - loss: 0.3669 - jaccard_index: 0.2881 - dice_coef: 0.4467\n",
            "\n",
            "Epoch 00013: val_jaccard_index did not improve from 0.33074\n",
            "100/100 [==============================] - 126s 1s/step - loss: 0.2621 - jaccard_index: 0.3396 - dice_coef: 0.5068 - val_loss: 0.3669 - val_jaccard_index: 0.2881 - val_dice_coef: 0.4467\n",
            "Epoch 14/50\n",
            " 99/100 [============================>.] - ETA: 1s - loss: 0.2532 - jaccard_index: 0.3436 - dice_coef: 0.5112Epoch 1/50\n",
            "100/100 [==============================] - 25s 248ms/step - loss: 0.2697 - jaccard_index: 0.3344 - dice_coef: 0.5010\n",
            "\n",
            "Epoch 00014: val_jaccard_index improved from 0.33074 to 0.33438, saving model to drive/My Drive/DCI-Net/ModelSnapshots/MultiResUNet-(2019-11-04 01:48:44).h5\n",
            "100/100 [==============================] - 127s 1s/step - loss: 0.2532 - jaccard_index: 0.3437 - dice_coef: 0.5113 - val_loss: 0.2697 - val_jaccard_index: 0.3344 - val_dice_coef: 0.5010\n",
            "Epoch 15/50\n",
            " 99/100 [============================>.] - ETA: 1s - loss: 0.2461 - jaccard_index: 0.3463 - dice_coef: 0.5142Epoch 1/50\n",
            "100/100 [==============================] - 25s 247ms/step - loss: 0.2715 - jaccard_index: 0.3275 - dice_coef: 0.4931\n",
            "\n",
            "Epoch 00015: val_jaccard_index did not improve from 0.33438\n",
            "100/100 [==============================] - 126s 1s/step - loss: 0.2462 - jaccard_index: 0.3465 - dice_coef: 0.5145 - val_loss: 0.2715 - val_jaccard_index: 0.3275 - val_dice_coef: 0.4931\n",
            "Epoch 16/50\n",
            " 99/100 [============================>.] - ETA: 1s - loss: 0.2407 - jaccard_index: 0.3482 - dice_coef: 0.5164Epoch 1/50\n",
            "100/100 [==============================] - 25s 248ms/step - loss: 0.2673 - jaccard_index: 0.3245 - dice_coef: 0.4898\n",
            "\n",
            "Epoch 00016: val_jaccard_index did not improve from 0.33438\n",
            "100/100 [==============================] - 126s 1s/step - loss: 0.2405 - jaccard_index: 0.3482 - dice_coef: 0.5163 - val_loss: 0.2673 - val_jaccard_index: 0.3245 - val_dice_coef: 0.4898\n",
            "Epoch 17/50\n",
            " 99/100 [============================>.] - ETA: 1s - loss: 0.2351 - jaccard_index: 0.3504 - dice_coef: 0.5188Epoch 1/50\n",
            "100/100 [==============================] - 25s 247ms/step - loss: 0.2588 - jaccard_index: 0.3338 - dice_coef: 0.5003\n",
            "\n",
            "Epoch 00017: val_jaccard_index did not improve from 0.33438\n",
            "100/100 [==============================] - 126s 1s/step - loss: 0.2351 - jaccard_index: 0.3504 - dice_coef: 0.5188 - val_loss: 0.2588 - val_jaccard_index: 0.3338 - val_dice_coef: 0.5003\n",
            "Epoch 18/50\n",
            " 99/100 [============================>.] - ETA: 1s - loss: 0.2304 - jaccard_index: 0.3518 - dice_coef: 0.5204Epoch 1/50\n",
            "100/100 [==============================] - 25s 247ms/step - loss: 0.2553 - jaccard_index: 0.3331 - dice_coef: 0.4995\n",
            "\n",
            "Epoch 00018: val_jaccard_index did not improve from 0.33438\n",
            "100/100 [==============================] - 126s 1s/step - loss: 0.2304 - jaccard_index: 0.3519 - dice_coef: 0.5205 - val_loss: 0.2553 - val_jaccard_index: 0.3331 - val_dice_coef: 0.4995\n",
            "Epoch 19/50\n",
            " 99/100 [============================>.] - ETA: 1s - loss: 0.2267 - jaccard_index: 0.3529 - dice_coef: 0.5216Epoch 1/50\n",
            "100/100 [==============================] - 25s 247ms/step - loss: 0.2523 - jaccard_index: 0.3353 - dice_coef: 0.5020\n",
            "\n",
            "Epoch 00019: val_jaccard_index improved from 0.33438 to 0.33529, saving model to drive/My Drive/DCI-Net/ModelSnapshots/MultiResUNet-(2019-11-04 01:48:44).h5\n",
            "100/100 [==============================] - 128s 1s/step - loss: 0.2265 - jaccard_index: 0.3527 - dice_coef: 0.5214 - val_loss: 0.2523 - val_jaccard_index: 0.3353 - val_dice_coef: 0.5020\n",
            "Epoch 20/50\n",
            " 99/100 [============================>.] - ETA: 1s - loss: 0.2228 - jaccard_index: 0.3537 - dice_coef: 0.5225Epoch 1/50\n",
            "100/100 [==============================] - 25s 246ms/step - loss: 0.2482 - jaccard_index: 0.3361 - dice_coef: 0.5029\n",
            "\n",
            "Epoch 00020: val_jaccard_index improved from 0.33529 to 0.33612, saving model to drive/My Drive/DCI-Net/ModelSnapshots/MultiResUNet-(2019-11-04 01:48:44).h5\n",
            "100/100 [==============================] - 129s 1s/step - loss: 0.2229 - jaccard_index: 0.3537 - dice_coef: 0.5225 - val_loss: 0.2482 - val_jaccard_index: 0.3361 - val_dice_coef: 0.5029\n",
            "Epoch 21/50\n",
            " 99/100 [============================>.] - ETA: 1s - loss: 0.2200 - jaccard_index: 0.3540 - dice_coef: 0.5228Epoch 1/50\n",
            "100/100 [==============================] - 25s 248ms/step - loss: 0.2468 - jaccard_index: 0.3555 - dice_coef: 0.5244\n",
            "\n",
            "Epoch 00021: val_jaccard_index improved from 0.33612 to 0.35546, saving model to drive/My Drive/DCI-Net/ModelSnapshots/MultiResUNet-(2019-11-04 01:48:44).h5\n",
            "100/100 [==============================] - 128s 1s/step - loss: 0.2200 - jaccard_index: 0.3539 - dice_coef: 0.5227 - val_loss: 0.2468 - val_jaccard_index: 0.3555 - val_dice_coef: 0.5244\n",
            "Epoch 22/50\n",
            " 99/100 [============================>.] - ETA: 1s - loss: 0.2176 - jaccard_index: 0.3540 - dice_coef: 0.5228Epoch 1/50\n",
            "100/100 [==============================] - 25s 247ms/step - loss: 0.2465 - jaccard_index: 0.3324 - dice_coef: 0.4988\n",
            "\n",
            "Epoch 00022: val_jaccard_index did not improve from 0.35546\n",
            "100/100 [==============================] - 126s 1s/step - loss: 0.2176 - jaccard_index: 0.3539 - dice_coef: 0.5227 - val_loss: 0.2465 - val_jaccard_index: 0.3324 - val_dice_coef: 0.4988\n",
            "Epoch 23/50\n",
            " 99/100 [============================>.] - ETA: 1s - loss: 0.2151 - jaccard_index: 0.3545 - dice_coef: 0.5234Epoch 1/50\n",
            "100/100 [==============================] - 25s 248ms/step - loss: 0.2427 - jaccard_index: 0.3376 - dice_coef: 0.5047\n",
            "\n",
            "Epoch 00023: val_jaccard_index did not improve from 0.35546\n",
            "100/100 [==============================] - 126s 1s/step - loss: 0.2149 - jaccard_index: 0.3544 - dice_coef: 0.5233 - val_loss: 0.2427 - val_jaccard_index: 0.3376 - val_dice_coef: 0.5047\n",
            "Epoch 24/50\n",
            " 99/100 [============================>.] - ETA: 1s - loss: 0.2134 - jaccard_index: 0.3538 - dice_coef: 0.5226Epoch 1/50\n",
            "100/100 [==============================] - 25s 247ms/step - loss: 0.2425 - jaccard_index: 0.3313 - dice_coef: 0.4976\n",
            "\n",
            "Epoch 00024: val_jaccard_index did not improve from 0.35546\n",
            "100/100 [==============================] - 126s 1s/step - loss: 0.2132 - jaccard_index: 0.3538 - dice_coef: 0.5226 - val_loss: 0.2425 - val_jaccard_index: 0.3313 - val_dice_coef: 0.4976\n",
            "Epoch 25/50\n",
            " 99/100 [============================>.] - ETA: 1s - loss: 0.2114 - jaccard_index: 0.3539 - dice_coef: 0.5227Epoch 1/50\n",
            "100/100 [==============================] - 25s 247ms/step - loss: 0.2390 - jaccard_index: 0.3308 - dice_coef: 0.4969\n",
            "\n",
            "Epoch 00025: val_jaccard_index did not improve from 0.35546\n",
            "100/100 [==============================] - 126s 1s/step - loss: 0.2113 - jaccard_index: 0.3538 - dice_coef: 0.5227 - val_loss: 0.2390 - val_jaccard_index: 0.3308 - val_dice_coef: 0.4969\n",
            "Epoch 26/50\n",
            " 99/100 [============================>.] - ETA: 1s - loss: 0.2099 - jaccard_index: 0.3534 - dice_coef: 0.5222Epoch 1/50\n",
            "100/100 [==============================] - 25s 247ms/step - loss: 0.2393 - jaccard_index: 0.3312 - dice_coef: 0.4974\n",
            "\n",
            "Epoch 00026: val_jaccard_index did not improve from 0.35546\n",
            "100/100 [==============================] - 126s 1s/step - loss: 0.2099 - jaccard_index: 0.3534 - dice_coef: 0.5222 - val_loss: 0.2393 - val_jaccard_index: 0.3312 - val_dice_coef: 0.4974\n",
            "Epoch 27/50\n",
            " 99/100 [============================>.] - ETA: 1s - loss: 0.2087 - jaccard_index: 0.3529 - dice_coef: 0.5217Epoch 1/50\n",
            "100/100 [==============================] - 25s 247ms/step - loss: 0.2373 - jaccard_index: 0.3317 - dice_coef: 0.4980\n",
            "\n",
            "Epoch 00027: val_jaccard_index did not improve from 0.35546\n",
            "100/100 [==============================] - 126s 1s/step - loss: 0.2087 - jaccard_index: 0.3529 - dice_coef: 0.5216 - val_loss: 0.2373 - val_jaccard_index: 0.3317 - val_dice_coef: 0.4980\n",
            "Epoch 28/50\n",
            " 99/100 [============================>.] - ETA: 1s - loss: 0.2076 - jaccard_index: 0.3520 - dice_coef: 0.5207Epoch 1/50\n",
            "100/100 [==============================] - 25s 247ms/step - loss: 0.2378 - jaccard_index: 0.3283 - dice_coef: 0.4942\n",
            "\n",
            "Epoch 00028: val_jaccard_index did not improve from 0.35546\n",
            "100/100 [==============================] - 126s 1s/step - loss: 0.2078 - jaccard_index: 0.3519 - dice_coef: 0.5206 - val_loss: 0.2378 - val_jaccard_index: 0.3283 - val_dice_coef: 0.4942\n",
            "Epoch 29/50\n",
            " 99/100 [============================>.] - ETA: 1s - loss: 0.2066 - jaccard_index: 0.3517 - dice_coef: 0.5204Epoch 1/50\n",
            "100/100 [==============================] - 25s 247ms/step - loss: 0.2374 - jaccard_index: 0.3269 - dice_coef: 0.4926\n",
            "\n",
            "Epoch 00029: val_jaccard_index did not improve from 0.35546\n",
            "100/100 [==============================] - 126s 1s/step - loss: 0.2068 - jaccard_index: 0.3516 - dice_coef: 0.5202 - val_loss: 0.2374 - val_jaccard_index: 0.3269 - val_dice_coef: 0.4926\n",
            "Epoch 30/50\n",
            " 99/100 [============================>.] - ETA: 1s - loss: 0.2069 - jaccard_index: 0.3504 - dice_coef: 0.5189Epoch 1/50\n",
            "100/100 [==============================] - 25s 247ms/step - loss: 0.2352 - jaccard_index: 0.3302 - dice_coef: 0.4963\n",
            "\n",
            "Epoch 00030: val_jaccard_index did not improve from 0.35546\n",
            "100/100 [==============================] - 126s 1s/step - loss: 0.2065 - jaccard_index: 0.3501 - dice_coef: 0.5186 - val_loss: 0.2352 - val_jaccard_index: 0.3302 - val_dice_coef: 0.4963\n",
            "Epoch 31/50\n",
            " 99/100 [============================>.] - ETA: 1s - loss: 0.2096 - jaccard_index: 0.3455 - dice_coef: 0.5135Epoch 1/50\n",
            "100/100 [==============================] - 25s 247ms/step - loss: 0.5295 - jaccard_index: 0.3593 - dice_coef: 0.5281\n",
            "\n",
            "Epoch 00031: val_jaccard_index improved from 0.35546 to 0.35930, saving model to drive/My Drive/DCI-Net/ModelSnapshots/MultiResUNet-(2019-11-04 01:48:44).h5\n",
            "100/100 [==============================] - 128s 1s/step - loss: 0.2097 - jaccard_index: 0.3455 - dice_coef: 0.5135 - val_loss: 0.5295 - val_jaccard_index: 0.3593 - val_dice_coef: 0.5281\n",
            "Epoch 32/50\n",
            " 99/100 [============================>.] - ETA: 1s - loss: 0.2087 - jaccard_index: 0.3455 - dice_coef: 0.5136Epoch 1/50\n",
            "100/100 [==============================] - 25s 247ms/step - loss: 0.2591 - jaccard_index: 0.2816 - dice_coef: 0.4394\n",
            "\n",
            "Epoch 00032: val_jaccard_index did not improve from 0.35930\n",
            "100/100 [==============================] - 126s 1s/step - loss: 0.2087 - jaccard_index: 0.3453 - dice_coef: 0.5133 - val_loss: 0.2591 - val_jaccard_index: 0.2816 - val_dice_coef: 0.4394\n",
            "Epoch 33/50\n",
            " 99/100 [============================>.] - ETA: 1s - loss: 0.2066 - jaccard_index: 0.3463 - dice_coef: 0.5144Epoch 1/50\n",
            "100/100 [==============================] - 25s 247ms/step - loss: 0.2463 - jaccard_index: 0.2944 - dice_coef: 0.4549\n",
            "\n",
            "Epoch 00033: val_jaccard_index did not improve from 0.35930\n",
            "100/100 [==============================] - 126s 1s/step - loss: 0.2066 - jaccard_index: 0.3464 - dice_coef: 0.5145 - val_loss: 0.2463 - val_jaccard_index: 0.2944 - val_dice_coef: 0.4549\n",
            "Epoch 34/50\n",
            " 99/100 [============================>.] - ETA: 1s - loss: 0.2055 - jaccard_index: 0.3461 - dice_coef: 0.5142Epoch 1/50\n",
            "100/100 [==============================] - 25s 248ms/step - loss: 0.2458 - jaccard_index: 0.2966 - dice_coef: 0.4574\n",
            "\n",
            "Epoch 00034: val_jaccard_index did not improve from 0.35930\n",
            "100/100 [==============================] - 126s 1s/step - loss: 0.2059 - jaccard_index: 0.3460 - dice_coef: 0.5141 - val_loss: 0.2458 - val_jaccard_index: 0.2966 - val_dice_coef: 0.4574\n",
            "Epoch 35/50\n",
            " 99/100 [============================>.] - ETA: 1s - loss: 0.2059 - jaccard_index: 0.3454 - dice_coef: 0.5134Epoch 1/50\n",
            "100/100 [==============================] - 25s 248ms/step - loss: 0.2423 - jaccard_index: 0.3106 - dice_coef: 0.4739\n",
            "\n",
            "Epoch 00035: val_jaccard_index did not improve from 0.35930\n",
            "100/100 [==============================] - 126s 1s/step - loss: 0.2055 - jaccard_index: 0.3456 - dice_coef: 0.5136 - val_loss: 0.2423 - val_jaccard_index: 0.3106 - val_dice_coef: 0.4739\n",
            "Epoch 36/50\n",
            " 99/100 [============================>.] - ETA: 1s - loss: 0.2051 - jaccard_index: 0.3453 - dice_coef: 0.5133Epoch 1/50\n",
            "100/100 [==============================] - 25s 247ms/step - loss: 0.2329 - jaccard_index: 0.3260 - dice_coef: 0.4916\n",
            "\n",
            "Epoch 00036: val_jaccard_index did not improve from 0.35930\n",
            "100/100 [==============================] - 126s 1s/step - loss: 0.2050 - jaccard_index: 0.3453 - dice_coef: 0.5133 - val_loss: 0.2329 - val_jaccard_index: 0.3260 - val_dice_coef: 0.4916\n",
            "Epoch 37/50\n",
            " 99/100 [============================>.] - ETA: 1s - loss: 0.2045 - jaccard_index: 0.3449 - dice_coef: 0.5128Epoch 1/50\n",
            "100/100 [==============================] - 25s 247ms/step - loss: 0.2329 - jaccard_index: 0.3244 - dice_coef: 0.4897\n",
            "\n",
            "Epoch 00037: val_jaccard_index did not improve from 0.35930\n",
            "100/100 [==============================] - 126s 1s/step - loss: 0.2047 - jaccard_index: 0.3449 - dice_coef: 0.5129 - val_loss: 0.2329 - val_jaccard_index: 0.3244 - val_dice_coef: 0.4897\n",
            "Epoch 38/50\n",
            " 99/100 [============================>.] - ETA: 1s - loss: 0.2042 - jaccard_index: 0.3446 - dice_coef: 0.5125Epoch 1/50\n",
            "100/100 [==============================] - 25s 247ms/step - loss: 0.2401 - jaccard_index: 0.3177 - dice_coef: 0.4821\n",
            "\n",
            "Epoch 00038: val_jaccard_index did not improve from 0.35930\n",
            "100/100 [==============================] - 126s 1s/step - loss: 0.2044 - jaccard_index: 0.3446 - dice_coef: 0.5125 - val_loss: 0.2401 - val_jaccard_index: 0.3177 - val_dice_coef: 0.4821\n",
            "Epoch 39/50\n",
            " 99/100 [============================>.] - ETA: 1s - loss: 0.2046 - jaccard_index: 0.3440 - dice_coef: 0.5118Epoch 1/50\n",
            "100/100 [==============================] - 25s 247ms/step - loss: 0.2329 - jaccard_index: 0.3223 - dice_coef: 0.4874\n",
            "\n",
            "Epoch 00039: val_jaccard_index did not improve from 0.35930\n",
            "100/100 [==============================] - 126s 1s/step - loss: 0.2043 - jaccard_index: 0.3440 - dice_coef: 0.5118 - val_loss: 0.2329 - val_jaccard_index: 0.3223 - val_dice_coef: 0.4874\n",
            "Epoch 40/50\n",
            " 99/100 [============================>.] - ETA: 1s - loss: 0.2039 - jaccard_index: 0.3440 - dice_coef: 0.5118Epoch 1/50\n",
            "100/100 [==============================] - 25s 247ms/step - loss: 0.2393 - jaccard_index: 0.3163 - dice_coef: 0.4805\n",
            "\n",
            "Epoch 00040: val_jaccard_index did not improve from 0.35930\n",
            "100/100 [==============================] - 126s 1s/step - loss: 0.2040 - jaccard_index: 0.3439 - dice_coef: 0.5117 - val_loss: 0.2393 - val_jaccard_index: 0.3163 - val_dice_coef: 0.4805\n",
            "Epoch 41/50\n",
            " 99/100 [============================>.] - ETA: 1s - loss: 0.2041 - jaccard_index: 0.3432 - dice_coef: 0.5110Epoch 1/50\n",
            "100/100 [==============================] - 25s 247ms/step - loss: 0.2383 - jaccard_index: 0.3175 - dice_coef: 0.4818\n",
            "\n",
            "Epoch 00041: val_jaccard_index did not improve from 0.35930\n",
            "100/100 [==============================] - 126s 1s/step - loss: 0.2039 - jaccard_index: 0.3434 - dice_coef: 0.5112 - val_loss: 0.2383 - val_jaccard_index: 0.3175 - val_dice_coef: 0.4818\n",
            "Epoch 42/50\n",
            " 99/100 [============================>.] - ETA: 1s - loss: 0.2036 - jaccard_index: 0.3433 - dice_coef: 0.5111Epoch 1/50\n",
            "100/100 [==============================] - 25s 248ms/step - loss: 0.2357 - jaccard_index: 0.3126 - dice_coef: 0.4762\n",
            "\n",
            "Epoch 00042: val_jaccard_index did not improve from 0.35930\n",
            "100/100 [==============================] - 126s 1s/step - loss: 0.2039 - jaccard_index: 0.3432 - dice_coef: 0.5109 - val_loss: 0.2357 - val_jaccard_index: 0.3126 - val_dice_coef: 0.4762\n",
            "Epoch 43/50\n",
            " 99/100 [============================>.] - ETA: 1s - loss: 0.2036 - jaccard_index: 0.3429 - dice_coef: 0.5107Epoch 1/50\n",
            "100/100 [==============================] - 25s 247ms/step - loss: 0.2369 - jaccard_index: 0.3151 - dice_coef: 0.4790\n",
            "\n",
            "Epoch 00043: val_jaccard_index did not improve from 0.35930\n",
            "100/100 [==============================] - 126s 1s/step - loss: 0.2038 - jaccard_index: 0.3428 - dice_coef: 0.5106 - val_loss: 0.2369 - val_jaccard_index: 0.3151 - val_dice_coef: 0.4790\n",
            "Epoch 44/50\n",
            " 99/100 [============================>.] - ETA: 1s - loss: 0.2044 - jaccard_index: 0.3420 - dice_coef: 0.5096Epoch 1/50\n",
            "100/100 [==============================] - 25s 247ms/step - loss: 0.2351 - jaccard_index: 0.3176 - dice_coef: 0.4819\n",
            "\n",
            "Epoch 00044: val_jaccard_index did not improve from 0.35930\n",
            "100/100 [==============================] - 126s 1s/step - loss: 0.2042 - jaccard_index: 0.3421 - dice_coef: 0.5098 - val_loss: 0.2351 - val_jaccard_index: 0.3176 - val_dice_coef: 0.4819\n",
            "Epoch 45/50\n",
            " 99/100 [============================>.] - ETA: 1s - loss: 0.2040 - jaccard_index: 0.3422 - dice_coef: 0.5099Epoch 1/50\n",
            "100/100 [==============================] - 25s 248ms/step - loss: 0.2353 - jaccard_index: 0.3195 - dice_coef: 0.4842\n",
            "\n",
            "Epoch 00045: val_jaccard_index did not improve from 0.35930\n",
            "100/100 [==============================] - 126s 1s/step - loss: 0.2038 - jaccard_index: 0.3423 - dice_coef: 0.5100 - val_loss: 0.2353 - val_jaccard_index: 0.3195 - val_dice_coef: 0.4842\n",
            "Epoch 46/50\n",
            " 99/100 [============================>.] - ETA: 1s - loss: 0.2033 - jaccard_index: 0.3426 - dice_coef: 0.5102Epoch 1/50\n",
            "100/100 [==============================] - 25s 248ms/step - loss: 0.2359 - jaccard_index: 0.3184 - dice_coef: 0.4828\n",
            "\n",
            "Epoch 00046: val_jaccard_index did not improve from 0.35930\n",
            "100/100 [==============================] - 126s 1s/step - loss: 0.2037 - jaccard_index: 0.3424 - dice_coef: 0.5101 - val_loss: 0.2359 - val_jaccard_index: 0.3184 - val_dice_coef: 0.4828\n",
            "Epoch 47/50\n",
            " 99/100 [============================>.] - ETA: 1s - loss: 0.2033 - jaccard_index: 0.3425 - dice_coef: 0.5101Epoch 1/50\n",
            "100/100 [==============================] - 25s 248ms/step - loss: 0.2333 - jaccard_index: 0.3222 - dice_coef: 0.4872\n",
            "\n",
            "Epoch 00047: val_jaccard_index did not improve from 0.35930\n",
            "100/100 [==============================] - 126s 1s/step - loss: 0.2036 - jaccard_index: 0.3424 - dice_coef: 0.5101 - val_loss: 0.2333 - val_jaccard_index: 0.3222 - val_dice_coef: 0.4872\n",
            "Epoch 48/50\n",
            " 99/100 [============================>.] - ETA: 1s - loss: 0.2036 - jaccard_index: 0.3421 - dice_coef: 0.5097Epoch 1/50\n",
            "100/100 [==============================] - 25s 248ms/step - loss: 0.2360 - jaccard_index: 0.3185 - dice_coef: 0.4830\n",
            "\n",
            "Epoch 00048: val_jaccard_index did not improve from 0.35930\n",
            "100/100 [==============================] - 126s 1s/step - loss: 0.2036 - jaccard_index: 0.3421 - dice_coef: 0.5097 - val_loss: 0.2360 - val_jaccard_index: 0.3185 - val_dice_coef: 0.4830\n",
            "Epoch 49/50\n",
            " 99/100 [============================>.] - ETA: 1s - loss: 0.2037 - jaccard_index: 0.3418 - dice_coef: 0.5094Epoch 1/50\n",
            "100/100 [==============================] - 25s 247ms/step - loss: 0.2331 - jaccard_index: 0.3223 - dice_coef: 0.4873\n",
            "\n",
            "Epoch 00049: val_jaccard_index did not improve from 0.35930\n",
            "100/100 [==============================] - 126s 1s/step - loss: 0.2038 - jaccard_index: 0.3418 - dice_coef: 0.5094 - val_loss: 0.2331 - val_jaccard_index: 0.3223 - val_dice_coef: 0.4873\n",
            "Epoch 50/50\n",
            " 99/100 [============================>.] - ETA: 1s - loss: 0.2034 - jaccard_index: 0.3423 - dice_coef: 0.5099Epoch 1/50\n",
            "100/100 [==============================] - 25s 247ms/step - loss: 0.2329 - jaccard_index: 0.3222 - dice_coef: 0.4872\n",
            "\n",
            "Epoch 00050: val_jaccard_index did not improve from 0.35930\n",
            "100/100 [==============================] - 126s 1s/step - loss: 0.2037 - jaccard_index: 0.3421 - dice_coef: 0.5097 - val_loss: 0.2329 - val_jaccard_index: 0.3222 - val_dice_coef: 0.4872\n"
          ],
          "name": "stdout"
        }
      ]
    },
    {
      "cell_type": "code",
      "metadata": {
        "id": "-XQs6gwumXMO",
        "colab_type": "code",
        "outputId": "4d1245bd-7788-43c4-df7d-349735e3a46f",
        "colab": {
          "base_uri": "https://localhost:8080/",
          "height": 34
        }
      },
      "source": [
        "print(_masks_path)"
      ],
      "execution_count": 51,
      "outputs": [
        {
          "output_type": "stream",
          "text": [
            "drive/My Drive/DCI-Net/Colab_data/Dataset 2/msks\n"
          ],
          "name": "stdout"
        }
      ]
    },
    {
      "cell_type": "code",
      "metadata": {
        "id": "4hIiRaBcRwlE",
        "colab_type": "code",
        "outputId": "4f6a392f-cb6e-4eb9-afd1-83e9710a37d3",
        "colab": {
          "base_uri": "https://localhost:8080/",
          "height": 282
        }
      },
      "source": [
        "_jaccard = history.history['val_jaccard_index']\n",
        "sns.lineplot(list(range(len(_jaccard))), _jaccard)"
      ],
      "execution_count": 52,
      "outputs": [
        {
          "output_type": "execute_result",
          "data": {
            "text/plain": [
              "<matplotlib.axes._subplots.AxesSubplot at 0x7f0ba2be00b8>"
            ]
          },
          "metadata": {
            "tags": []
          },
          "execution_count": 52
        },
        {
          "output_type": "display_data",
          "data": {
            "image/png": "[encoded data removed]",
            "text/plain": [
              "<Figure size 432x288 with 1 Axes>"
            ]
          },
          "metadata": {
            "tags": []
          }
        }
      ]
    },
    {
      "cell_type": "code",
      "metadata": {
        "id": "GMszSInISTtP",
        "colab_type": "code",
        "outputId": "c223f235-ae15-4d91-82dd-b165d71667dc",
        "colab": {
          "base_uri": "https://localhost:8080/",
          "height": 285
        }
      },
      "source": [
        "_loss = history.history['val_loss']\n",
        "sns.lineplot(list(range(len(_loss))), _loss)"
      ],
      "execution_count": 53,
      "outputs": [
        {
          "output_type": "execute_result",
          "data": {
            "text/plain": [
              "<matplotlib.axes._subplots.AxesSubplot at 0x7f0b9f56bb00>"
            ]
          },
          "metadata": {
            "tags": []
          },
          "execution_count": 53
        },
        {
          "output_type": "display_data",
          "data": {
            "image/png": "[encoded data removed]",
            "text/plain": [
              "<Figure size 432x288 with 1 Axes>"
            ]
          },
          "metadata": {
            "tags": []
          }
        }
      ]
    },
    {
      "cell_type": "code",
      "metadata": {
        "id": "0AvjRjzbUOUg",
        "colab_type": "code",
        "colab": {}
      },
      "source": [
        ""
      ],
      "execution_count": 0,
      "outputs": []
    },
    {
      "cell_type": "code",
      "metadata": {
        "id": "gNoGLM2BrvUL",
        "colab_type": "code",
        "colab": {}
      },
      "source": [
        "_img_path   = os.path.join(data_path, 'images')\n",
        "_masks_path = os.path.join(data_path, 'masks')"
      ],
      "execution_count": 0,
      "outputs": []
    },
    {
      "cell_type": "code",
      "metadata": {
        "id": "kPtPk3dFsO7j",
        "colab_type": "code",
        "colab": {}
      },
      "source": [
        "model.predict()"
      ],
      "execution_count": 0,
      "outputs": []
    },
    {
      "cell_type": "code",
      "metadata": {
        "id": "8Z9HOIpKS9dc",
        "colab_type": "code",
        "outputId": "24215493-48c1-4316-ecc7-e92cd9eaf1a9",
        "colab": {
          "base_uri": "https://localhost:8080/",
          "height": 937
        }
      },
      "source": [
        "!ls \"drive/My Drive/DCI-Net/Colab_data/Dataset 1/images/\""
      ],
      "execution_count": 0,
      "outputs": [
        {
          "output_type": "stream",
          "text": [
            " 001.bmp        048.bmp       '094 (2).bmp'   142.bmp   195.bmp   248.bmp\n",
            " 002.bmp        049.bmp       '094 (3).bmp'   143.bmp   196.bmp   249.bmp\n",
            " 003.bmp        050.bmp       '094 (4).bmp'   144.bmp   197.bmp   250.bmp\n",
            " 004.bmp        051.bmp       '094 (5).bmp'   145.bmp   198.bmp   251.bmp\n",
            " 005.bmp        052.bmp       '094 (6).bmp'   146.bmp   199.bmp   252.bmp\n",
            " 006.bmp        053.bmp        094.bmp\t      147.bmp   200.bmp   253.bmp\n",
            " 007.bmp        054.bmp        095.bmp\t      148.bmp   201.bmp   254.bmp\n",
            " 008.bmp        055.bmp        096.bmp\t      149.bmp   202.bmp   255.bmp\n",
            " 009.bmp        056.bmp        097.bmp\t      150.bmp   203.bmp   256.bmp\n",
            " 010.bmp       '057 (1).bmp'   098.bmp\t      151.bmp   204.bmp   257.bmp\n",
            " 011.bmp       '057 (2).bmp'   099.bmp\t      152.bmp   205.bmp   258.bmp\n",
            " 012.bmp        057.bmp        100.bmp\t      153.bmp   206.bmp   259.bmp\n",
            " 013.bmp        058.bmp        101.bmp\t      154.bmp   207.bmp   260.bmp\n",
            " 014.bmp        059.bmp        102.bmp\t      155.bmp   208.bmp   261.bmp\n",
            " 015.bmp        060.bmp        103.bmp\t      156.bmp   209.bmp   262.bmp\n",
            " 016.bmp        061.bmp        104.bmp\t      157.bmp   210.bmp   263.bmp\n",
            " 017.bmp        062.bmp        105.bmp\t      158.bmp   211.bmp   264.bmp\n",
            " 018.bmp        063.bmp        106.bmp\t      159.bmp   212.bmp   265.bmp\n",
            " 019.bmp        064.bmp        107.bmp\t      160.bmp   213.bmp   266.bmp\n",
            " 020.bmp        065.bmp        108.bmp\t      161.bmp   214.bmp   267.bmp\n",
            " 021.bmp        066.bmp        109.bmp\t      162.bmp   215.bmp   268.bmp\n",
            " 022.bmp        067.bmp        110.bmp\t      163.bmp   216.bmp   269.bmp\n",
            " 023.bmp        068.bmp        111.bmp\t      164.bmp   217.bmp   270.bmp\n",
            " 024.bmp        069.bmp        112.bmp\t      165.bmp   218.bmp   271.bmp\n",
            " 025.bmp        070.bmp        113.bmp\t      166.bmp   219.bmp   272.bmp\n",
            " 026.bmp        071.bmp        114.bmp\t      167.bmp   220.bmp   273.bmp\n",
            " 027.bmp        072.bmp        115.bmp\t      168.bmp   221.bmp   274.bmp\n",
            " 028.bmp        073.bmp        116.bmp\t      169.bmp   222.bmp   275.bmp\n",
            " 029.bmp        074.bmp        117.bmp\t      170.bmp   223.bmp   276.bmp\n",
            " 030.bmp        075.bmp        118.bmp\t      171.bmp   224.bmp   277.bmp\n",
            " 031.bmp        076.bmp        119.bmp\t      172.bmp   225.bmp   278.bmp\n",
            " 032.bmp        077.bmp        120.bmp\t      173.bmp   226.bmp   279.bmp\n",
            " 033.bmp        078.bmp        121.bmp\t      174.bmp   227.bmp   280.bmp\n",
            " 034.bmp        079.bmp        122.bmp\t      175.bmp   228.bmp   281.bmp\n",
            " 035.bmp       '080 (1).bmp'   123.bmp\t      176.bmp   229.bmp   282.bmp\n",
            " 036.bmp       '080 (2).bmp'   124.bmp\t      177.bmp   230.bmp   283.bmp\n",
            " 037.bmp       '080 (3).bmp'   125.bmp\t      178.bmp   231.bmp   284.bmp\n",
            " 038.bmp       '080 (4).bmp'   126.bmp\t      179.bmp   232.bmp   285.bmp\n",
            " 039.bmp        080.bmp        127.bmp\t      180.bmp   233.bmp   286.bmp\n",
            " 040.bmp        081.bmp        128.bmp\t      181.bmp   234.bmp   287.bmp\n",
            " 041.bmp        082.bmp        129.bmp\t      182.bmp   235.bmp   288.bmp\n",
            " 042.bmp        083.bmp        130.bmp\t      183.bmp   236.bmp   289.bmp\n",
            "'043 (1).bmp'   084.bmp        131.bmp\t      184.bmp   237.bmp   290.bmp\n",
            "'043 (2).bmp'   085.bmp        132.bmp\t      185.bmp   238.bmp   291.bmp\n",
            "'043 (3).bmp'   086.bmp        133.bmp\t      186.bmp   239.bmp   292.bmp\n",
            "'043 (4).bmp'   087.bmp        134.bmp\t      187.bmp   240.bmp   293.bmp\n",
            "'043 (5).bmp'   088.bmp        135.bmp\t      188.bmp   241.bmp   294.bmp\n",
            "'043 (6).bmp'   089.bmp        136.bmp\t      189.bmp   242.bmp   295.bmp\n",
            " 043.bmp        090.bmp        137.bmp\t      190.bmp   243.bmp   296.bmp\n",
            " 044.bmp        091.bmp        138.bmp\t      191.bmp   244.bmp   297.bmp\n",
            " 045.bmp        092.bmp        139.bmp\t      192.bmp   245.bmp   298.bmp\n",
            " 046.bmp        093.bmp        140.bmp\t      193.bmp   246.bmp   299.bmp\n",
            " 047.bmp       '094 (1).bmp'   141.bmp\t      194.bmp   247.bmp   300.bmp\n"
          ],
          "name": "stdout"
        }
      ]
    },
    {
      "cell_type": "code",
      "metadata": {
        "id": "0omKvFiLRIWE",
        "colab_type": "code",
        "outputId": "71ed461b-f770-46a5-bb96-6e7b2b8bb1b6",
        "colab": {
          "base_uri": "https://localhost:8080/",
          "height": 34
        }
      },
      "source": [
        "list(range(5))"
      ],
      "execution_count": 0,
      "outputs": [
        {
          "output_type": "execute_result",
          "data": {
            "text/plain": [
              "[0, 1, 2, 3, 4]"
            ]
          },
          "metadata": {
            "tags": []
          },
          "execution_count": 27
        }
      ]
    },
    {
      "cell_type": "code",
      "metadata": {
        "id": "T13qEar_T-7K",
        "colab_type": "code",
        "outputId": "46b2dc01-fe6a-48d3-e0e2-3b05390db1b9",
        "colab": {
          "base_uri": "https://localhost:8080/",
          "height": 287
        }
      },
      "source": [
        "files.download(\"/time_logs.jsonl\")"
      ],
      "execution_count": 0,
      "outputs": [
        {
          "output_type": "error",
          "ename": "FileNotFoundError",
          "evalue": "ignored",
          "traceback": [
            "\u001b[0;31m---------------------------------------------------------------------------\u001b[0m",
            "\u001b[0;31mFileNotFoundError\u001b[0m                         Traceback (most recent call last)",
            "\u001b[0;32m<ipython-input-36-bff714e53c0d>\u001b[0m in \u001b[0;36m<module>\u001b[0;34m()\u001b[0m\n\u001b[0;32m----> 1\u001b[0;31m \u001b[0mfiles\u001b[0m\u001b[0;34m.\u001b[0m\u001b[0mdownload\u001b[0m\u001b[0;34m(\u001b[0m\u001b[0;34m\"/time_logs.jsonl\"\u001b[0m\u001b[0;34m)\u001b[0m\u001b[0;34m\u001b[0m\u001b[0;34m\u001b[0m\u001b[0m\n\u001b[0m",
            "\u001b[0;32m/usr/local/lib/python3.6/dist-packages/google/colab/files.py\u001b[0m in \u001b[0;36mdownload\u001b[0;34m(filename)\u001b[0m\n\u001b[1;32m    142\u001b[0m       \u001b[0;32mraise\u001b[0m \u001b[0mOSError\u001b[0m\u001b[0;34m(\u001b[0m\u001b[0mmsg\u001b[0m\u001b[0;34m)\u001b[0m\u001b[0;34m\u001b[0m\u001b[0;34m\u001b[0m\u001b[0m\n\u001b[1;32m    143\u001b[0m     \u001b[0;32melse\u001b[0m\u001b[0;34m:\u001b[0m\u001b[0;34m\u001b[0m\u001b[0;34m\u001b[0m\u001b[0m\n\u001b[0;32m--> 144\u001b[0;31m       \u001b[0;32mraise\u001b[0m \u001b[0mFileNotFoundError\u001b[0m\u001b[0;34m(\u001b[0m\u001b[0mmsg\u001b[0m\u001b[0;34m)\u001b[0m  \u001b[0;31m# pylint: disable=undefined-variable\u001b[0m\u001b[0;34m\u001b[0m\u001b[0;34m\u001b[0m\u001b[0m\n\u001b[0m\u001b[1;32m    145\u001b[0m \u001b[0;34m\u001b[0m\u001b[0m\n\u001b[1;32m    146\u001b[0m   \u001b[0mstarted\u001b[0m \u001b[0;34m=\u001b[0m \u001b[0m_threading\u001b[0m\u001b[0;34m.\u001b[0m\u001b[0mEvent\u001b[0m\u001b[0;34m(\u001b[0m\u001b[0;34m)\u001b[0m\u001b[0;34m\u001b[0m\u001b[0;34m\u001b[0m\u001b[0m\n",
            "\u001b[0;31mFileNotFoundError\u001b[0m: Cannot find file: /time_logs.jsonl"
          ]
        }
      ]
    },
    {
      "cell_type": "code",
      "metadata": {
        "id": "iFNVGvuAgCm1",
        "colab_type": "code",
        "outputId": "e7c54452-e6ff-4671-da8a-80ef857469d4",
        "colab": {
          "base_uri": "https://localhost:8080/",
          "height": 34
        }
      },
      "source": [
        "os.listdir(\".\")"
      ],
      "execution_count": 0,
      "outputs": [
        {
          "output_type": "execute_result",
          "data": {
            "text/plain": [
              "['.config', 'time_logs.jsonl', 'drive', 'sample_data']"
            ]
          },
          "metadata": {
            "tags": []
          },
          "execution_count": 43
        }
      ]
    },
    {
      "cell_type": "code",
      "metadata": {
        "id": "ywyN1HwJgJOZ",
        "colab_type": "code",
        "outputId": "c48cfeef-ef40-455b-8c7e-de8fecd82380",
        "colab": {
          "base_uri": "https://localhost:8080/",
          "height": 311
        }
      },
      "source": [
        "files.download(\"time_logs.jsonl\")"
      ],
      "execution_count": 0,
      "outputs": [
        {
          "output_type": "error",
          "ename": "MessageError",
          "evalue": "ignored",
          "traceback": [
            "\u001b[0;31m---------------------------------------------------------------------------\u001b[0m",
            "\u001b[0;31mMessageError\u001b[0m                              Traceback (most recent call last)",
            "\u001b[0;32m<ipython-input-44-4a764cc814c7>\u001b[0m in \u001b[0;36m<module>\u001b[0;34m()\u001b[0m\n\u001b[0;32m----> 1\u001b[0;31m \u001b[0mfiles\u001b[0m\u001b[0;34m.\u001b[0m\u001b[0mdownload\u001b[0m\u001b[0;34m(\u001b[0m\u001b[0;34m\"time_logs.jsonl\"\u001b[0m\u001b[0;34m)\u001b[0m\u001b[0;34m\u001b[0m\u001b[0;34m\u001b[0m\u001b[0m\n\u001b[0m",
            "\u001b[0;32m/usr/local/lib/python3.6/dist-packages/google/colab/files.py\u001b[0m in \u001b[0;36mdownload\u001b[0;34m(filename)\u001b[0m\n\u001b[1;32m    176\u001b[0m       \u001b[0;34m'port'\u001b[0m\u001b[0;34m:\u001b[0m \u001b[0mport\u001b[0m\u001b[0;34m,\u001b[0m\u001b[0;34m\u001b[0m\u001b[0;34m\u001b[0m\u001b[0m\n\u001b[1;32m    177\u001b[0m       \u001b[0;34m'path'\u001b[0m\u001b[0;34m:\u001b[0m \u001b[0m_os\u001b[0m\u001b[0;34m.\u001b[0m\u001b[0mpath\u001b[0m\u001b[0;34m.\u001b[0m\u001b[0mabspath\u001b[0m\u001b[0;34m(\u001b[0m\u001b[0mfilename\u001b[0m\u001b[0;34m)\u001b[0m\u001b[0;34m,\u001b[0m\u001b[0;34m\u001b[0m\u001b[0;34m\u001b[0m\u001b[0m\n\u001b[0;32m--> 178\u001b[0;31m       \u001b[0;34m'name'\u001b[0m\u001b[0;34m:\u001b[0m \u001b[0m_os\u001b[0m\u001b[0;34m.\u001b[0m\u001b[0mpath\u001b[0m\u001b[0;34m.\u001b[0m\u001b[0mbasename\u001b[0m\u001b[0;34m(\u001b[0m\u001b[0mfilename\u001b[0m\u001b[0;34m)\u001b[0m\u001b[0;34m,\u001b[0m\u001b[0;34m\u001b[0m\u001b[0;34m\u001b[0m\u001b[0m\n\u001b[0m\u001b[1;32m    179\u001b[0m   })\n",
            "\u001b[0;32m/usr/local/lib/python3.6/dist-packages/google/colab/output/_js.py\u001b[0m in \u001b[0;36meval_js\u001b[0;34m(script, ignore_result)\u001b[0m\n\u001b[1;32m     37\u001b[0m   \u001b[0;32mif\u001b[0m \u001b[0mignore_result\u001b[0m\u001b[0;34m:\u001b[0m\u001b[0;34m\u001b[0m\u001b[0;34m\u001b[0m\u001b[0m\n\u001b[1;32m     38\u001b[0m     \u001b[0;32mreturn\u001b[0m\u001b[0;34m\u001b[0m\u001b[0;34m\u001b[0m\u001b[0m\n\u001b[0;32m---> 39\u001b[0;31m   \u001b[0;32mreturn\u001b[0m \u001b[0m_message\u001b[0m\u001b[0;34m.\u001b[0m\u001b[0mread_reply_from_input\u001b[0m\u001b[0;34m(\u001b[0m\u001b[0mrequest_id\u001b[0m\u001b[0;34m)\u001b[0m\u001b[0;34m\u001b[0m\u001b[0;34m\u001b[0m\u001b[0m\n\u001b[0m\u001b[1;32m     40\u001b[0m \u001b[0;34m\u001b[0m\u001b[0m\n\u001b[1;32m     41\u001b[0m \u001b[0;34m\u001b[0m\u001b[0m\n",
            "\u001b[0;32m/usr/local/lib/python3.6/dist-packages/google/colab/_message.py\u001b[0m in \u001b[0;36mread_reply_from_input\u001b[0;34m(message_id, timeout_sec)\u001b[0m\n\u001b[1;32m    104\u001b[0m         reply.get('colab_msg_id') == message_id):\n\u001b[1;32m    105\u001b[0m       \u001b[0;32mif\u001b[0m \u001b[0;34m'error'\u001b[0m \u001b[0;32min\u001b[0m \u001b[0mreply\u001b[0m\u001b[0;34m:\u001b[0m\u001b[0;34m\u001b[0m\u001b[0;34m\u001b[0m\u001b[0m\n\u001b[0;32m--> 106\u001b[0;31m         \u001b[0;32mraise\u001b[0m \u001b[0mMessageError\u001b[0m\u001b[0;34m(\u001b[0m\u001b[0mreply\u001b[0m\u001b[0;34m[\u001b[0m\u001b[0;34m'error'\u001b[0m\u001b[0;34m]\u001b[0m\u001b[0;34m)\u001b[0m\u001b[0;34m\u001b[0m\u001b[0;34m\u001b[0m\u001b[0m\n\u001b[0m\u001b[1;32m    107\u001b[0m       \u001b[0;32mreturn\u001b[0m \u001b[0mreply\u001b[0m\u001b[0;34m.\u001b[0m\u001b[0mget\u001b[0m\u001b[0;34m(\u001b[0m\u001b[0;34m'data'\u001b[0m\u001b[0;34m,\u001b[0m \u001b[0;32mNone\u001b[0m\u001b[0;34m)\u001b[0m\u001b[0;34m\u001b[0m\u001b[0;34m\u001b[0m\u001b[0m\n\u001b[1;32m    108\u001b[0m \u001b[0;34m\u001b[0m\u001b[0m\n",
            "\u001b[0;31mMessageError\u001b[0m: TypeError: NetworkError when attempting to fetch resource."
          ]
        }
      ]
    },
    {
      "cell_type": "code",
      "metadata": {
        "id": "7jr932yXeysZ",
        "colab_type": "code",
        "outputId": "812b9778-74be-4e48-862f-685685d0d845",
        "colab": {
          "base_uri": "https://localhost:8080/",
          "height": 34
        }
      },
      "source": [
        "!ls"
      ],
      "execution_count": 0,
      "outputs": [
        {
          "output_type": "stream",
          "text": [
            "sample_data\n"
          ],
          "name": "stdout"
        }
      ]
    },
    {
      "cell_type": "code",
      "metadata": {
        "id": "ZKNZsUSPfUb5",
        "colab_type": "code",
        "outputId": "6b18564d-2a04-469e-829a-730ec904a2de",
        "colab": {
          "base_uri": "https://localhost:8080/",
          "height": 34
        }
      },
      "source": [
        "cp \"time_logs.jsonl\" \"drive/My Drive/DCI-Net\""
      ],
      "execution_count": 0,
      "outputs": [
        {
          "output_type": "stream",
          "text": [
            "cp: cannot stat 'time_logs.jsonl': No such file or directory\n"
          ],
          "name": "stdout"
        }
      ]
    },
    {
      "cell_type": "code",
      "metadata": {
        "id": "eauUkdiPfe3f",
        "colab_type": "code",
        "outputId": "a14226c0-4756-4f31-92fa-ab827f62e726",
        "colab": {
          "base_uri": "https://localhost:8080/",
          "height": 295
        }
      },
      "source": [
        "!cat time_logs.jsonl | jq"
      ],
      "execution_count": 0,
      "outputs": [
        {
          "output_type": "stream",
          "text": [
            "\u001b[1;39m{\n",
            "  \u001b[0m\u001b[34;1m\"datetimeUTC\"\u001b[0m\u001b[1;39m: \u001b[0m\u001b[0;32m\"2019-10-28 20:46:23.879399\"\u001b[0m\u001b[1;39m,\n",
            "  \u001b[0m\u001b[34;1m\"function\"\u001b[0m\u001b[1;39m: \u001b[0m\u001b[0;32m\"train_segnet\"\u001b[0m\u001b[1;39m,\n",
            "  \u001b[0m\u001b[34;1m\"args\"\u001b[0m\u001b[1;39m: \u001b[0m\u001b[1;39m[\n",
            "    \u001b[0;32m\"<class 'tensorflow.python.keras.engine.training.Model'>\"\u001b[0m\u001b[1;39m,\n",
            "    \u001b[0;32m\"drive/My Drive/DCI-Net/Colab_data/Dataset 1\"\u001b[0m\u001b[1;39m,\n",
            "    \u001b[0;32m\"drive/My Drive/DCI-Net/Colab_data/Dataset 1\"\u001b[0m\u001b[1;39m\n",
            "  \u001b[1;39m]\u001b[0m\u001b[1;39m,\n",
            "  \u001b[0m\u001b[34;1m\"kwargs\"\u001b[0m\u001b[1;39m: \u001b[0m\u001b[1;39m{\n",
            "    \u001b[0m\u001b[34;1m\"batch_size\"\u001b[0m\u001b[1;39m: \u001b[0m\u001b[0;39m8\u001b[0m\u001b[1;39m,\n",
            "    \u001b[0m\u001b[34;1m\"epochs\"\u001b[0m\u001b[1;39m: \u001b[0m\u001b[0;39m50\u001b[0m\u001b[1;39m,\n",
            "    \u001b[0m\u001b[34;1m\"steps_per_epoch\"\u001b[0m\u001b[1;39m: \u001b[0m\u001b[0;39m100\u001b[0m\u001b[1;39m,\n",
            "    \u001b[0m\u001b[34;1m\"model_file\"\u001b[0m\u001b[1;39m: \u001b[0m\u001b[0;32m\"drive/My Drive/DCI-Net/second_mutlires_gpu_WBC.h5\"\u001b[0m\u001b[1;39m\n",
            "  \u001b[1;39m}\u001b[0m\u001b[1;39m,\n",
            "  \u001b[0m\u001b[34;1m\"time\"\u001b[0m\u001b[1;39m: \u001b[0m\u001b[0;39m7054.45720076561\u001b[0m\u001b[1;39m\n",
            "\u001b[1;39m}\u001b[0m\n"
          ],
          "name": "stdout"
        }
      ]
    },
    {
      "cell_type": "code",
      "metadata": {
        "id": "04ibUYVvf47H",
        "colab_type": "code",
        "colab": {}
      },
      "source": [
        "# 1 validación 5 pliegues\n",
        "def "
      ],
      "execution_count": 0,
      "outputs": []
    },
    {
      "cell_type": "code",
      "metadata": {
        "id": "hXwZZTxQkuMy",
        "colab_type": "code",
        "colab": {}
      },
      "source": [
        "@timing.time_log(path_to_logfile=_log_file)\n",
        "def _dummy_debug_function(*args, **kw):\n",
        "  pass\n",
        "  "
      ],
      "execution_count": 0,
      "outputs": []
    },
    {
      "cell_type": "code",
      "metadata": {
        "id": "iJDNCbPfXogz",
        "colab_type": "code",
        "outputId": "fa2d2174-46a3-4785-b7a1-a4460843ba83",
        "colab": {
          "base_uri": "https://localhost:8080/",
          "height": 165
        }
      },
      "source": [
        "log"
      ],
      "execution_count": 0,
      "outputs": [
        {
          "output_type": "error",
          "ename": "NameError",
          "evalue": "ignored",
          "traceback": [
            "\u001b[0;31m---------------------------------------------------------------------------\u001b[0m",
            "\u001b[0;31mNameError\u001b[0m                                 Traceback (most recent call last)",
            "\u001b[0;32m<ipython-input-44-4508c1b19b88>\u001b[0m in \u001b[0;36m<module>\u001b[0;34m()\u001b[0m\n\u001b[0;32m----> 1\u001b[0;31m \u001b[0mlog\u001b[0m\u001b[0;34m\u001b[0m\u001b[0;34m\u001b[0m\u001b[0m\n\u001b[0m",
            "\u001b[0;31mNameError\u001b[0m: name 'log' is not defined"
          ]
        }
      ]
    },
    {
      "cell_type": "code",
      "metadata": {
        "id": "TjdrADboXliJ",
        "colab_type": "code",
        "colab": {}
      },
      "source": [
        "_dummy_debug_function(5, '234', 5.2, hola='pass', foo='bar')"
      ],
      "execution_count": 0,
      "outputs": []
    },
    {
      "cell_type": "code",
      "metadata": {
        "id": "3xYc5_3SX6hJ",
        "colab_type": "code",
        "colab": {}
      },
      "source": [
        ""
      ],
      "execution_count": 0,
      "outputs": []
    }
  ]
}