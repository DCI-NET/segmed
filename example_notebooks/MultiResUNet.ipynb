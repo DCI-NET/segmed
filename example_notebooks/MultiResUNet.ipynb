{
  "nbformat": 4,
  "nbformat_minor": 0,
  "metadata": {
    "colab": {
      "name": "MultiResUNet.ipynb",
      "provenance": [],
      "collapsed_sections": [],
      "include_colab_link": true
    },
    "kernelspec": {
      "name": "python3",
      "display_name": "Python 3"
    }
  },
  "cells": [
    {
      "cell_type": "markdown",
      "metadata": {
        "id": "view-in-github",
        "colab_type": "text"
      },
      "source": [
        "<a href=\"https://colab.research.google.com/github/gmagannaDevelop/segnet/blob/mru_tests/example_notebooks/MultiResUNet.ipynb\" target=\"_parent\"><img src=\"https://colab.research.google.com/assets/colab-badge.svg\" alt=\"Open In Colab\"/></a>"
      ]
    },
    {
      "cell_type": "markdown",
      "metadata": {
        "id": "DHw_6M1yXu8b",
        "colab_type": "text"
      },
      "source": [
        "# MultiResUNet\n",
        "## DCI-Net\n",
        "### Primera Implementación\n",
        "#### Gustavo Magaña\n",
        "\n",
        "\\########################################################"
      ]
    },
    {
      "cell_type": "code",
      "metadata": {
        "id": "SUVhISDWOwT5",
        "colab_type": "code",
        "colab": {}
      },
      "source": [
        "# Comentado ya que no es necesario :\n",
        "# !pip install tensorflow-gpu\n",
        "# !pip install git+https://github.com/DCI-NET/segnet\n",
        "# Peligro : rm -rf segnet/\n",
        "# pip install git+https://github.com/gmagannaDevelop/segnet.git@mru_tests"
      ],
      "execution_count": 0,
      "outputs": []
    },
    {
      "cell_type": "code",
      "metadata": {
        "id": "Dem8Kd3rF3-U",
        "colab_type": "code",
        "colab": {}
      },
      "source": [
        "# Corrí esto una vez, ahora me imagino que más bien debo verificar que esté al día.\n",
        "# EDIT : En realidad cada vez que es creada una máquina virtual, se debe clonar el repositorio.\n",
        "# !git clone https://github.com/gmagannaDevelop/MyMultiResUNet.git\n",
        "# !git clone https://github.com/DCI-NET/segnet.git\n",
        "# !git clone https://github.com/gmagannaDevelop/segnet.git\n",
        "# !git clone --single-branch --branch mru_tests https://github.com/gmagannaDevelop/segnet.git"
      ],
      "execution_count": 0,
      "outputs": []
    },
    {
      "cell_type": "code",
      "metadata": {
        "id": "B-tT8XmrH4wD",
        "colab_type": "code",
        "colab": {}
      },
      "source": [
        "# Actualizar, mientras la máquina virtual esté funcionando:\n",
        "# !cd MyMultiResUNet/ && git pull\n",
        "#!cd segnet/ && git pull"
      ],
      "execution_count": 0,
      "outputs": []
    },
    {
      "cell_type": "code",
      "metadata": {
        "id": "Fpl6R4_X4XMv",
        "colab_type": "code",
        "colab": {}
      },
      "source": [
        "#!cd segnet/ && git branch"
      ],
      "execution_count": 0,
      "outputs": []
    },
    {
      "cell_type": "code",
      "metadata": {
        "id": "zDt7auRgHZqC",
        "colab_type": "code",
        "colab": {}
      },
      "source": [
        "#!cd segnet/ && git log | head -6"
      ],
      "execution_count": 0,
      "outputs": []
    },
    {
      "cell_type": "code",
      "metadata": {
        "id": "Rfb9onqeFPG5",
        "colab_type": "code",
        "colab": {}
      },
      "source": [
        "#!cd segnet/ && git log | head -6"
      ],
      "execution_count": 0,
      "outputs": []
    },
    {
      "cell_type": "code",
      "metadata": {
        "id": "UxVrrV2VXLGA",
        "colab_type": "code",
        "outputId": "b2fcfaf6-a7f1-4988-94dd-fccf8c171ba1",
        "colab": {
          "base_uri": "https://localhost:8080/",
          "height": 54
        }
      },
      "source": [
        "### System-related\n",
        "import sys\n",
        "import os\n",
        "#import importlib.util\n",
        "###############################################################\n",
        "\n",
        "### Machine learning specific\n",
        "#import segmentation_models as sm\n",
        "from keras.optimizers import SGD\n",
        "from keras.callbacks import ModelCheckpoint, ReduceLROnPlateau\n",
        "from sklearn.model_selection import train_test_split\n",
        "###############################################################\n",
        "\n",
        "### In-Out\n",
        "from skimage import io\n",
        "import glob\n",
        "###############################################################\n",
        "\n",
        "### Numerical\n",
        "import numpy as np\n",
        "###############################################################\n",
        "\n",
        "### Repo-specific (segnet)\n",
        "#from segnet.train_segnet import train_segnet\n",
        "#from segnet.segnet.train.train_segnet import train_segnet\n",
        "#import segnet.segnet as segnet\n",
        "\n",
        "### Data-related\n",
        "from google.colab import drive\n",
        "drive.mount('/content/drive/')\n",
        "###############################################################"
      ],
      "execution_count": 12,
      "outputs": [
        {
          "output_type": "stream",
          "text": [
            "Drive already mounted at /content/drive/; to attempt to forcibly remount, call drive.mount(\"/content/drive/\", force_remount=True).\n"
          ],
          "name": "stdout"
        }
      ]
    },
    {
      "cell_type": "code",
      "metadata": {
        "id": "wc3PE4dR9rxI",
        "colab_type": "code",
        "colab": {
          "base_uri": "https://localhost:8080/",
          "height": 52
        },
        "outputId": "35b1bacf-cff0-41b9-8c1d-226f9bb14666"
      },
      "source": [
        "!ls segnet/"
      ],
      "execution_count": 26,
      "outputs": [
        {
          "output_type": "stream",
          "text": [
            "example_notebooks  README.md\t     segnet\t     setup.py\n",
            "LICENSE\t\t   requirements.txt  segnet_env.yml  tests\n"
          ],
          "name": "stdout"
        }
      ]
    },
    {
      "cell_type": "code",
      "metadata": {
        "id": "OExVJ3bkFpCW",
        "colab_type": "code",
        "outputId": "00874665-284e-44fa-8578-2bc581c65ce2",
        "colab": {
          "base_uri": "https://localhost:8080/",
          "height": 52
        }
      },
      "source": [
        "!ls \"drive/My Drive/DCI-Net/Data\""
      ],
      "execution_count": 0,
      "outputs": [
        {
          "output_type": "stream",
          "text": [
            "'Class Labels of Dataset 1.csv'  'Dataset 1'\t  'Dataset 2'\t    LICENSE\n",
            "'Class Labels of Dataset 2.csv'  'Dataset 1.png'  'Dataset 2.png'   README.rst\n"
          ],
          "name": "stdout"
        }
      ]
    },
    {
      "cell_type": "code",
      "metadata": {
        "id": "e3yf_nYB-bWj",
        "colab_type": "code",
        "colab": {
          "base_uri": "https://localhost:8080/",
          "height": 34
        },
        "outputId": "f82354c0-ca2d-4c76-9320-fc1a9e044ac7"
      },
      "source": [
        "'train' in dir(segnet)"
      ],
      "execution_count": 29,
      "outputs": [
        {
          "output_type": "execute_result",
          "data": {
            "text/plain": [
              "False"
            ]
          },
          "metadata": {
            "tags": []
          },
          "execution_count": 29
        }
      ]
    },
    {
      "cell_type": "code",
      "metadata": {
        "id": "K0Ah1NY_NX2e",
        "colab_type": "code",
        "colab": {}
      },
      "source": [
        "# Define some example hyperparameters\n",
        "batch_size = 8\n",
        "epochs = 50\n",
        "steps_per_epoch=100\n",
        "\n",
        "# Declare the paths to use (following the Keras convention)\n",
        "# https://www.tensorflow.org/versions/r2.0/api_docs/python/tf/keras/Model#fit_generator\n",
        "data_path = \"general/path/to/images\"\n",
        "img_path = data_path + \"augmented/images/path\"\n",
        "masks_path = data_path + \"augmented/masks/path\"\n",
        "model_file = \"path/to/save/model/unet_model.h5\"\n",
        "\n",
        "# Train the model!\n",
        "history = train_unet(\n",
        "    img_path,\n",
        "    masks_path,\n",
        "    batch_size=batch_size,\n",
        "    epochs=epochs,\n",
        "    steps_per_epoch=steps_per_epoch,\n",
        "    model_file=model_file,\n",
        ")"
      ],
      "execution_count": 0,
      "outputs": []
    },
    {
      "cell_type": "code",
      "metadata": {
        "id": "kPtPk3dFsO7j",
        "colab_type": "code",
        "colab": {}
      },
      "source": [
        "model = mru.MultiResUNet()"
      ],
      "execution_count": 0,
      "outputs": []
    },
    {
      "cell_type": "code",
      "metadata": {
        "id": "xaMlOM9rZQ1L",
        "colab_type": "code",
        "colab": {}
      },
      "source": [
        "model.fit()"
      ],
      "execution_count": 0,
      "outputs": []
    }
  ]
}