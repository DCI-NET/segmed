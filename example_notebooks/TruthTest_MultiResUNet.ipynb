{
  "nbformat": 4,
  "nbformat_minor": 0,
  "metadata": {
    "colab": {
      "name": "TruthTest MultiResUNet.ipynb",
      "provenance": [],
      "collapsed_sections": [],
      "include_colab_link": true
    },
    "kernelspec": {
      "name": "python3",
      "display_name": "Python 3"
    },
    "accelerator": "GPU"
  },
  "cells": [
    {
      "cell_type": "markdown",
      "metadata": {
        "id": "view-in-github",
        "colab_type": "text"
      },
      "source": [
        "<a href=\"https://colab.research.google.com/github/gmagannaDevelop/segnet/blob/mru_tests/TruthTest_MultiResUNet.ipynb\" target=\"_parent\"><img src=\"https://colab.research.google.com/assets/colab-badge.svg\" alt=\"Open In Colab\"/></a>"
      ]
    },
    {
      "cell_type": "markdown",
      "metadata": {
        "id": "DHw_6M1yXu8b",
        "colab_type": "text"
      },
      "source": [
        "# MultiResUNet\n",
        "## DCI-Net\n",
        "#### Gustavo Magaña López\n",
        "\n",
        "Reimplementación de los experimentos originales.\n",
        "\n",
        "\\########################################################"
      ]
    },
    {
      "cell_type": "code",
      "metadata": {
        "id": "C7esbcDmCpM_",
        "colab_type": "code",
        "outputId": "ab2ec84e-8628-47a5-f4fb-c60c352c7ed0",
        "colab": {
          "base_uri": "https://localhost:8080/",
          "height": 35
        }
      },
      "source": [
        "!ls"
      ],
      "execution_count": 24,
      "outputs": [
        {
          "output_type": "stream",
          "text": [
            "drive  sample_data\n"
          ],
          "name": "stdout"
        }
      ]
    },
    {
      "cell_type": "code",
      "metadata": {
        "id": "IvwdXdIkfp0E",
        "colab_type": "code",
        "outputId": "c2e1c9eb-feaf-4e1b-f446-5a50f53f4e9b",
        "colab": {
          "base_uri": "https://localhost:8080/",
          "height": 159
        }
      },
      "source": [
        "!apt install jq"
      ],
      "execution_count": 25,
      "outputs": [
        {
          "output_type": "stream",
          "text": [
            "Reading package lists... Done\n",
            "Building dependency tree       \n",
            "Reading state information... Done\n",
            "jq is already the newest version (1.5+dfsg-2).\n",
            "The following package was automatically installed and is no longer required:\n",
            "  libnvidia-common-430\n",
            "Use 'apt autoremove' to remove it.\n",
            "0 upgraded, 0 newly installed, 0 to remove and 7 not upgraded.\n"
          ],
          "name": "stdout"
        }
      ]
    },
    {
      "cell_type": "code",
      "metadata": {
        "id": "SUVhISDWOwT5",
        "colab_type": "code",
        "outputId": "50fbfb0c-0c30-4cbf-ecb6-c6d75423ae2d",
        "colab": {
          "base_uri": "https://localhost:8080/",
          "height": 1000
        }
      },
      "source": [
        "## If changes are made to the repo, uninstall and\n",
        "## a fresh pip install are required, so it seems.\n",
        "#!pip uninstall segnet\n",
        "!pip install git+https://github.com/gmagannaDevelop/segnet.git@mru_tests\n",
        "##!pip install git+https://github.com/gmagannaDevelop/segnet.git@log_hotfix"
      ],
      "execution_count": 26,
      "outputs": [
        {
          "output_type": "stream",
          "text": [
            "Collecting git+https://github.com/gmagannaDevelop/segnet.git@mru_tests\n",
            "  Cloning https://github.com/gmagannaDevelop/segnet.git (to revision mru_tests) to /tmp/pip-req-build-3pwz5v2p\n",
            "  Running command git clone -q https://github.com/gmagannaDevelop/segnet.git /tmp/pip-req-build-3pwz5v2p\n",
            "  Running command git checkout -b mru_tests --track origin/mru_tests\n",
            "  Switched to a new branch 'mru_tests'\n",
            "  Branch 'mru_tests' set up to track remote branch 'mru_tests' from 'origin'.\n",
            "Requirement already satisfied (use --upgrade to upgrade): segnet==0.4 from git+https://github.com/gmagannaDevelop/segnet.git@mru_tests in /usr/local/lib/python3.6/dist-packages\n",
            "Requirement already satisfied: absl-py in /usr/local/lib/python3.6/dist-packages (from segnet==0.4) (0.9.0)\n",
            "Requirement already satisfied: appdirs in /usr/local/lib/python3.6/dist-packages (from segnet==0.4) (1.4.3)\n",
            "Requirement already satisfied: astor in /usr/local/lib/python3.6/dist-packages (from segnet==0.4) (0.8.1)\n",
            "Requirement already satisfied: astroid in /usr/local/lib/python3.6/dist-packages (from segnet==0.4) (2.3.3)\n",
            "Requirement already satisfied: atomicwrites in /usr/local/lib/python3.6/dist-packages (from segnet==0.4) (1.3.0)\n",
            "Requirement already satisfied: attrs in /usr/local/lib/python3.6/dist-packages (from segnet==0.4) (19.3.0)\n",
            "Requirement already satisfied: black in /usr/local/lib/python3.6/dist-packages (from segnet==0.4) (19.10b0)\n",
            "Requirement already satisfied: click in /usr/local/lib/python3.6/dist-packages (from segnet==0.4) (7.0)\n",
            "Requirement already satisfied: cycler in /usr/local/lib/python3.6/dist-packages (from segnet==0.4) (0.10.0)\n",
            "Requirement already satisfied: decorator in /usr/local/lib/python3.6/dist-packages (from segnet==0.4) (4.4.1)\n",
            "Requirement already satisfied: gast in /usr/local/lib/python3.6/dist-packages (from segnet==0.4) (0.2.2)\n",
            "Requirement already satisfied: google-pasta in /usr/local/lib/python3.6/dist-packages (from segnet==0.4) (0.1.8)\n",
            "Requirement already satisfied: grpcio in /usr/local/lib/python3.6/dist-packages (from segnet==0.4) (1.15.0)\n",
            "Requirement already satisfied: h5py in /usr/local/lib/python3.6/dist-packages (from segnet==0.4) (2.8.0)\n",
            "Requirement already satisfied: imageio in /usr/local/lib/python3.6/dist-packages (from segnet==0.4) (2.4.1)\n",
            "Requirement already satisfied: importlib-metadata in /usr/local/lib/python3.6/dist-packages (from segnet==0.4) (1.3.0)\n",
            "Requirement already satisfied: isort in /usr/local/lib/python3.6/dist-packages (from segnet==0.4) (4.3.21)\n",
            "Requirement already satisfied: joblib in /usr/local/lib/python3.6/dist-packages (from segnet==0.4) (0.14.1)\n",
            "Requirement already satisfied: kiwisolver in /usr/local/lib/python3.6/dist-packages (from segnet==0.4) (1.1.0)\n",
            "Requirement already satisfied: lazy-object-proxy in /usr/local/lib/python3.6/dist-packages (from segnet==0.4) (1.4.3)\n",
            "Requirement already satisfied: markdown in /usr/local/lib/python3.6/dist-packages (from segnet==0.4) (3.1.1)\n",
            "Requirement already satisfied: matplotlib in /usr/local/lib/python3.6/dist-packages (from segnet==0.4) (3.1.2)\n",
            "Requirement already satisfied: mccabe in /usr/local/lib/python3.6/dist-packages (from segnet==0.4) (0.6.1)\n",
            "Requirement already satisfied: more-itertools in /usr/local/lib/python3.6/dist-packages (from segnet==0.4) (8.0.2)\n",
            "Requirement already satisfied: networkx in /usr/local/lib/python3.6/dist-packages (from segnet==0.4) (2.4)\n",
            "Requirement already satisfied: numpy in /usr/local/lib/python3.6/dist-packages (from segnet==0.4) (1.17.5)\n",
            "Requirement already satisfied: opt-einsum in /usr/local/lib/python3.6/dist-packages (from segnet==0.4) (3.1.0)\n",
            "Requirement already satisfied: packaging in /usr/local/lib/python3.6/dist-packages (from segnet==0.4) (20.0)\n",
            "Requirement already satisfied: pandas in /usr/local/lib/python3.6/dist-packages (from segnet==0.4) (0.25.3)\n",
            "Requirement already satisfied: pillow in /usr/local/lib/python3.6/dist-packages (from segnet==0.4) (6.2.2)\n",
            "Requirement already satisfied: pluggy in /usr/local/lib/python3.6/dist-packages (from segnet==0.4) (0.7.1)\n",
            "Requirement already satisfied: protobuf in /usr/local/lib/python3.6/dist-packages (from segnet==0.4) (3.10.0)\n",
            "Requirement already satisfied: py in /usr/local/lib/python3.6/dist-packages (from segnet==0.4) (1.8.1)\n",
            "Requirement already satisfied: pylint in /usr/local/lib/python3.6/dist-packages (from segnet==0.4) (2.4.4)\n",
            "Requirement already satisfied: pyparsing in /usr/local/lib/python3.6/dist-packages (from segnet==0.4) (2.4.6)\n",
            "Requirement already satisfied: pytest in /usr/local/lib/python3.6/dist-packages (from segnet==0.4) (3.6.4)\n",
            "Requirement already satisfied: python-dateutil in /usr/local/lib/python3.6/dist-packages (from segnet==0.4) (2.6.1)\n",
            "Requirement already satisfied: pytz in /usr/local/lib/python3.6/dist-packages (from segnet==0.4) (2018.9)\n",
            "Requirement already satisfied: pywavelets in /usr/local/lib/python3.6/dist-packages (from segnet==0.4) (1.1.1)\n",
            "Requirement already satisfied: pyyaml in /usr/local/lib/python3.6/dist-packages (from segnet==0.4) (3.13)\n",
            "Requirement already satisfied: scikit-image in /usr/local/lib/python3.6/dist-packages (from segnet==0.4) (0.16.2)\n",
            "Requirement already satisfied: scikit-learn in /usr/local/lib/python3.6/dist-packages (from segnet==0.4) (0.22.1)\n",
            "Requirement already satisfied: scipy in /usr/local/lib/python3.6/dist-packages (from segnet==0.4) (1.4.1)\n",
            "Requirement already satisfied: seaborn in /usr/local/lib/python3.6/dist-packages (from segnet==0.4) (0.9.0)\n",
            "Requirement already satisfied: six in /usr/local/lib/python3.6/dist-packages (from segnet==0.4) (1.12.0)\n",
            "Requirement already satisfied: tensorflow in /usr/local/lib/python3.6/dist-packages (from segnet==0.4) (1.15.0)\n",
            "Requirement already satisfied: termcolor in /usr/local/lib/python3.6/dist-packages (from segnet==0.4) (1.1.0)\n",
            "Requirement already satisfied: toml in /usr/local/lib/python3.6/dist-packages (from segnet==0.4) (0.10.0)\n",
            "Requirement already satisfied: typed-ast in /usr/local/lib/python3.6/dist-packages (from segnet==0.4) (1.4.0)\n",
            "Requirement already satisfied: wcwidth in /usr/local/lib/python3.6/dist-packages (from segnet==0.4) (0.1.8)\n",
            "Requirement already satisfied: werkzeug in /usr/local/lib/python3.6/dist-packages (from segnet==0.4) (0.16.0)\n",
            "Requirement already satisfied: wrapt in /usr/local/lib/python3.6/dist-packages (from segnet==0.4) (1.11.2)\n",
            "Requirement already satisfied: zipp in /usr/local/lib/python3.6/dist-packages (from segnet==0.4) (0.6.0)\n",
            "Requirement already satisfied: pathspec<1,>=0.6 in /usr/local/lib/python3.6/dist-packages (from black->segnet==0.4) (0.7.0)\n",
            "Requirement already satisfied: regex in /usr/local/lib/python3.6/dist-packages (from black->segnet==0.4) (2019.12.20)\n",
            "Requirement already satisfied: setuptools in /usr/local/lib/python3.6/dist-packages (from kiwisolver->segnet==0.4) (42.0.2)\n",
            "Requirement already satisfied: tensorflow-estimator==1.15.1 in /usr/local/lib/python3.6/dist-packages (from tensorflow->segnet==0.4) (1.15.1)\n",
            "Requirement already satisfied: wheel>=0.26 in /usr/local/lib/python3.6/dist-packages (from tensorflow->segnet==0.4) (0.33.6)\n",
            "Requirement already satisfied: tensorboard<1.16.0,>=1.15.0 in /usr/local/lib/python3.6/dist-packages (from tensorflow->segnet==0.4) (1.15.0)\n",
            "Requirement already satisfied: keras-preprocessing>=1.0.5 in /usr/local/lib/python3.6/dist-packages (from tensorflow->segnet==0.4) (1.1.0)\n",
            "Requirement already satisfied: keras-applications>=1.0.8 in /usr/local/lib/python3.6/dist-packages (from tensorflow->segnet==0.4) (1.0.8)\n",
            "Building wheels for collected packages: segnet\n",
            "  Building wheel for segnet (setup.py) ... \u001b[?25l\u001b[?25hdone\n",
            "  Created wheel for segnet: filename=segnet-0.4-cp36-none-any.whl size=25585 sha256=090e4e5955c4cd7e1d8e6ee63906fcf4dc3837f1d4eda03c4acbff97adb19ebf\n",
            "  Stored in directory: /tmp/pip-ephem-wheel-cache-lr_at52a/wheels/f1/c1/51/0ee27f445c3a618413714a84d4f5500547456389437a85a87f\n",
            "Successfully built segnet\n"
          ],
          "name": "stdout"
        }
      ]
    },
    {
      "cell_type": "markdown",
      "metadata": {
        "id": "qCRoHPcGgvEL",
        "colab_type": "text"
      },
      "source": [
        "Imports"
      ]
    },
    {
      "cell_type": "code",
      "metadata": {
        "id": "UxVrrV2VXLGA",
        "colab_type": "code",
        "outputId": "d1aecabb-5d02-4088-9897-295f58b7e25a",
        "colab": {
          "base_uri": "https://localhost:8080/",
          "height": 55
        }
      },
      "source": [
        "### System-related\n",
        "import sys\n",
        "import os\n",
        "import datetime \n",
        "from typing import Optional, List, Tuple, Any, NoReturn, Callable, Union\n",
        "#import importlib.util\n",
        "###############################################################\n",
        "\n",
        "### Machine learning specific\n",
        "#import segmentation_models as sm\n",
        "from keras.optimizers import SGD\n",
        "from keras.callbacks import ModelCheckpoint, ReduceLROnPlateau\n",
        "from sklearn.model_selection import train_test_split\n",
        "import keras.models\n",
        "import tensorflow as tf\n",
        "###############################################################\n",
        "\n",
        "### In-Out\n",
        "from skimage import io as skio\n",
        "import glob\n",
        "###############################################################\n",
        "\n",
        "### Visualization\n",
        "import seaborn as sns\n",
        "###############################################################\n",
        "\n",
        "### Numerical\n",
        "import numpy as np\n",
        "###############################################################\n",
        "\n",
        "### Repo-specific (segnet)\n",
        "from segnet.train import train_segnet\n",
        "from segnet.models import multiresunet as mru\n",
        "from segnet.models import multiresunet2 as mru2\n",
        "from segnet.models import multiresunet3 as mru3\n",
        "from segnet.utils import timing\n",
        "from segnet.metrics import metrics as mts\n",
        "#from segnet.segnet.train.train_segnet import train_segnet\n",
        "#import segnet.segnet as segnet\n",
        "\n",
        "### Data-related\n",
        "from google.colab import drive, files\n",
        "drive.mount('/content/drive/')\n",
        "###############################################################\n",
        "\n",
        "\n",
        "### Not an import, but mandatory to be defined here :\n",
        "root_dir   = \"drive/My Drive/DCI-Net\"\n",
        "_log_file  = os.path.join(root_dir, \"time_logs.jsonl\")"
      ],
      "execution_count": 27,
      "outputs": [
        {
          "output_type": "stream",
          "text": [
            "Drive already mounted at /content/drive/; to attempt to forcibly remount, call drive.mount(\"/content/drive/\", force_remount=True).\n"
          ],
          "name": "stdout"
        }
      ]
    },
    {
      "cell_type": "markdown",
      "metadata": {
        "id": "pde_pTyigywK",
        "colab_type": "text"
      },
      "source": [
        "Function definition"
      ]
    },
    {
      "cell_type": "code",
      "metadata": {
        "id": "HnJpx7qYdlId",
        "colab_type": "code",
        "colab": {}
      },
      "source": [
        "def yield_model_name(\n",
        "    architecture: str = \"MultiResUNet\",\n",
        "    _name: Optional[str] = None,\n",
        "    date: Optional[str] = None\n",
        ") -> str:\n",
        "  \"\"\"\n",
        "    Yield a model name, to be passed to other functions.\n",
        "    Said model name consisting of an architecture name, \n",
        "    the (UTCtime)\n",
        "  \"\"\"\n",
        "  if date is None:\n",
        "    date = str(datetime.datetime.utcnow()).split(\".\")[0]\n",
        "  if _name is not None:\n",
        "    return f\"{architecture}-({_name})-({date}).h5\"\n",
        "\n",
        "  return f\"{architecture}-({date}).h5\"\n",
        "\n",
        "def yield_mask_directory(\n",
        "    architecture: str = \"MultiResUNet\",\n",
        "    date: Optional[str] = None\n",
        ") -> str:\n",
        "  \"\"\"\n",
        "    Yield a model name, to be passed to other functions.\n",
        "    Said model name consisting of an architecture name, \n",
        "    the (UTCtime)\n",
        "  \"\"\"\n",
        "  if date is None:\n",
        "    date = str(datetime.datetime.utcnow()).split(\".\")[0]\n",
        "    #date = str(datetime.datetime.utcnow()).split(\".\")[0].split(\" \")[0]\n",
        "  return f\"{architecture}-({date})\""
      ],
      "execution_count": 0,
      "outputs": []
    },
    {
      "cell_type": "code",
      "metadata": {
        "id": "IceMi8yGf4ru",
        "colab_type": "code",
        "outputId": "2bbca0c4-30ac-4c1c-e71a-5c5f1c6dfdc1",
        "colab": {
          "base_uri": "https://localhost:8080/",
          "height": 35
        }
      },
      "source": [
        "yield_model_name(_name='test')"
      ],
      "execution_count": 29,
      "outputs": [
        {
          "output_type": "execute_result",
          "data": {
            "text/plain": [
              "'MultiResUNet-(test)-(2020-01-13 18:56:37).h5'"
            ]
          },
          "metadata": {
            "tags": []
          },
          "execution_count": 29
        }
      ]
    },
    {
      "cell_type": "code",
      "metadata": {
        "id": "J0_DxhwXCyOd",
        "colab_type": "code",
        "outputId": "5ca37b61-1ca8-4670-8290-ad2642e7c65a",
        "colab": {
          "base_uri": "https://localhost:8080/",
          "height": 35
        }
      },
      "source": [
        "yield_mask_directory()"
      ],
      "execution_count": 30,
      "outputs": [
        {
          "output_type": "execute_result",
          "data": {
            "text/plain": [
              "'MultiResUNet-(2020-01-13 18:56:39)'"
            ]
          },
          "metadata": {
            "tags": []
          },
          "execution_count": 30
        }
      ]
    },
    {
      "cell_type": "code",
      "metadata": {
        "id": "2pRrtgcrDThX",
        "colab_type": "code",
        "outputId": "299aafef-ebb4-431b-c9aa-4a7d42429252",
        "colab": {
          "base_uri": "https://localhost:8080/",
          "height": 35
        }
      },
      "source": [
        "!ls \"drive/My Drive/DCI-Net/Masks\""
      ],
      "execution_count": 31,
      "outputs": [
        {
          "output_type": "stream",
          "text": [
            "Sunday3nov\n"
          ],
          "name": "stdout"
        }
      ]
    },
    {
      "cell_type": "markdown",
      "metadata": {
        "id": "hjyiPadg9qxX",
        "colab_type": "text"
      },
      "source": [
        "Instead of commenting out the different paths, I should create a dictionary containing the names of the datasets and their respective paths."
      ]
    },
    {
      "cell_type": "code",
      "metadata": {
        "id": "njlVAbS-96Wx",
        "colab_type": "code",
        "colab": {}
      },
      "source": [
        "dataset_paths = {\n",
        "    \"colonoscopy\": \"drive/My Drive/DCI-Net/Colab_data/colonoscopy\",    # Full original\n",
        "    \"colonoscopy80\": \"drive/My Drive/DCI-Net/Colab_data/dermoscopy80\", # reduced to 80 images\n",
        "    \"chinese1\": \"drive/My Drive/DCI-Net/Colab_data/Dataset 2\"          # Chinese dataset, Abdiel's\n",
        "}"
      ],
      "execution_count": 0,
      "outputs": []
    },
    {
      "cell_type": "code",
      "metadata": {
        "id": "wJWjlxLkW9lz",
        "colab_type": "code",
        "colab": {}
      },
      "source": [
        "# Declare the paths to use (following the Keras convention)\n",
        "# https://www.tensorflow.org/versions/r2.0/api_docs/python/tf/keras/Model#fit_generator\n",
        "\n",
        "masks_path = img_path = data_path  = dataset_paths[\"colonoscopy80\"]\n",
        "\n",
        "_img_path   = os.path.join(data_path, 'imgs')\n",
        "_masks_path = os.path.join(data_path, 'msks')\n",
        "\n",
        "_model_snapshots_dir = os.path.join(root_dir, \"ModelSnapshots\")\n",
        "_model_log_path = os.path.join(\n",
        "    _model_snapshots_dir, \n",
        "    yield_model_name(architecture=\"MultiResUNet\")\n",
        ")\n"
      ],
      "execution_count": 0,
      "outputs": []
    },
    {
      "cell_type": "code",
      "metadata": {
        "id": "YzmBV-ZhUbLY",
        "colab_type": "code",
        "outputId": "b26b181d-1821-4293-94ee-06f996a33630",
        "colab": {
          "base_uri": "https://localhost:8080/",
          "height": 70
        }
      },
      "source": [
        "_model_authors = list(\n",
        "    map(\n",
        "        lambda x: os.path.join(_model_snapshots_dir, yield_model_name(_name=x)), ['Edwin', 'Gustavo', 'Original'] \n",
        "        )\n",
        "    )\n",
        "_model_authors"
      ],
      "execution_count": 34,
      "outputs": [
        {
          "output_type": "execute_result",
          "data": {
            "text/plain": [
              "['drive/My Drive/DCI-Net/ModelSnapshots/MultiResUNet-(Edwin)-(2020-01-13 18:56:54).h5',\n",
              " 'drive/My Drive/DCI-Net/ModelSnapshots/MultiResUNet-(Gustavo)-(2020-01-13 18:56:54).h5',\n",
              " 'drive/My Drive/DCI-Net/ModelSnapshots/MultiResUNet-(Original)-(2020-01-13 18:56:54).h5']"
            ]
          },
          "metadata": {
            "tags": []
          },
          "execution_count": 34
        }
      ]
    },
    {
      "cell_type": "code",
      "metadata": {
        "id": "Q8PeDFX_EAGY",
        "colab_type": "code",
        "outputId": "87caa9ea-bbd0-4853-d87b-125fe4ff8030",
        "colab": {
          "base_uri": "https://localhost:8080/",
          "height": 124
        }
      },
      "source": [
        "print(f\"{data_path}\\n {masks_path}\\n {img_path}\\n {_img_path}\\n {_masks_path}\\n {_model_log_path}\")"
      ],
      "execution_count": 35,
      "outputs": [
        {
          "output_type": "stream",
          "text": [
            "drive/My Drive/DCI-Net/Colab_data/dermoscopy80\n",
            " drive/My Drive/DCI-Net/Colab_data/dermoscopy80\n",
            " drive/My Drive/DCI-Net/Colab_data/dermoscopy80\n",
            " drive/My Drive/DCI-Net/Colab_data/dermoscopy80/imgs\n",
            " drive/My Drive/DCI-Net/Colab_data/dermoscopy80/msks\n",
            " drive/My Drive/DCI-Net/ModelSnapshots/MultiResUNet-(2020-01-13 18:56:50).h5\n"
          ],
          "name": "stdout"
        }
      ]
    },
    {
      "cell_type": "markdown",
      "metadata": {
        "id": "Fgcp3Hl3n0uo",
        "colab_type": "text"
      },
      "source": [
        "Define hyperparameters\n"
      ]
    },
    {
      "cell_type": "code",
      "metadata": {
        "id": "O2qpzDaekgEl",
        "colab_type": "code",
        "colab": {}
      },
      "source": [
        "__comments = (lambda x: [\n",
        "              f\"Edwin's implementation : models/multiresunet.py, {x}\",\n",
        "              f\"Gustavo's implementation : models/multiresunet2.py, {x}\",\n",
        "              f\"Original implementation : models/multiresunet3.py, {x}\", \n",
        "])(\"\")\n",
        "\n",
        "hyper_params = dict(\n",
        "    batch_size = 4,\n",
        "    epochs = 40,\n",
        "    steps_per_epoch=5\n",
        "    #model_file = _model_log_path\n",
        ")\n",
        "\n",
        "# DEBUG COMMENT OUT WHEN TRAINING : \n",
        "_debug_hyper_params = dict(\n",
        "    batch_size = 8,\n",
        "    epochs = 1,\n",
        "    steps_per_epoch=2,\n",
        "    model_file = _model_log_path\n",
        ")"
      ],
      "execution_count": 0,
      "outputs": []
    },
    {
      "cell_type": "markdown",
      "metadata": {
        "id": "mtl5hSO9nAZ2",
        "colab_type": "text"
      },
      "source": [
        "Get the stored snapshots :"
      ]
    },
    {
      "cell_type": "code",
      "metadata": {
        "id": "pXvwmgVBkvPU",
        "colab_type": "code",
        "outputId": "e779aa69-703c-4ff4-bce7-b6d8215d04b5",
        "colab": {
          "base_uri": "https://localhost:8080/",
          "height": 283
        }
      },
      "source": [
        "snapshots = os.listdir(_model_snapshots_dir)\n",
        "snapshots"
      ],
      "execution_count": 37,
      "outputs": [
        {
          "output_type": "execute_result",
          "data": {
            "text/plain": [
              "['MultiResUNet-(2019-10-29 03:29:04).h5',\n",
              " 'MultiResUNet-(2019-11-04 01:48:44).h5',\n",
              " 'MultiResUNet-(2019-11-04 03:14:17).h5',\n",
              " 'MultiResUNet-(2019-11-04 03:30:53).h5',\n",
              " 'MultiResUNet-(2019-11-04 19:16:27).h5',\n",
              " 'MultiResUNet-(Edwin)-(2019-11-04 21:36:35).h5',\n",
              " 'MultiResUNet-(Gustavo)-(2019-11-04 21:36:35).h5',\n",
              " 'MultiResUNet-(Original)-(2019-11-04 21:36:35).h5',\n",
              " 'MultiResUNet-(Edwin)-(2020-01-11 23:55:36).h5',\n",
              " 'MultiResUNet-(Gustavo)-(2020-01-11 23:55:36).h5',\n",
              " 'MultiResUNet-(Original)-(2020-01-11 23:55:36).h5',\n",
              " 'MultiResUNet-(2020-01-11 23:41:29).h5',\n",
              " 'MultiResUNet-(Edwin)-(2020-01-12 02:46:40).h5',\n",
              " 'MultiResUNet-(Gustavo)-(2020-01-12 02:46:40).h5',\n",
              " 'MultiResUNet-(Original)-(2020-01-12 02:46:40).h5']"
            ]
          },
          "metadata": {
            "tags": []
          },
          "execution_count": 37
        }
      ]
    },
    {
      "cell_type": "markdown",
      "metadata": {
        "id": "BF9uMSUWnM2y",
        "colab_type": "text"
      },
      "source": [
        "Choose a snapshot to load, if so desired :"
      ]
    },
    {
      "cell_type": "code",
      "metadata": {
        "id": "WSZcoEJClITg",
        "colab_type": "code",
        "outputId": "e2a8857f-c640-438b-89fe-f87fb0eb2f1c",
        "colab": {
          "base_uri": "https://localhost:8080/",
          "height": 35
        }
      },
      "source": [
        "load_snapshot = os.path.join(_model_snapshots_dir, snapshots[-1])\n",
        "load_snapshot"
      ],
      "execution_count": 38,
      "outputs": [
        {
          "output_type": "execute_result",
          "data": {
            "text/plain": [
              "'drive/My Drive/DCI-Net/ModelSnapshots/MultiResUNet-(Original)-(2020-01-12 02:46:40).h5'"
            ]
          },
          "metadata": {
            "tags": []
          },
          "execution_count": 38
        }
      ]
    },
    {
      "cell_type": "markdown",
      "metadata": {
        "id": "0n3KvDkznZUl",
        "colab_type": "text"
      },
      "source": [
        "\n",
        "Instantiate a MultiResUNet model, **optionally** from a checkpoint :"
      ]
    },
    {
      "cell_type": "code",
      "metadata": {
        "id": "K0Ah1NY_NX2e",
        "colab_type": "code",
        "colab": {
          "base_uri": "https://localhost:8080/",
          "height": 90
        },
        "outputId": "9495390f-5f0d-4c9a-e74b-6d89d1a2425b"
      },
      "source": [
        "models = [\n",
        "  mru.MultiResUnet(),\n",
        "  mru2.MultiResUNet(),\n",
        "  mru3.MultiResUnet()\n",
        "]\n",
        "    \n",
        "# TOGGLE THIS !\n",
        "from_checkpoint = False\n",
        "\n",
        "if from_checkpoint:\n",
        "  # model1.load_weights(load_snapshot)\n",
        "  # model2.load_weights(load_snapshot)\n",
        "  pass"
      ],
      "execution_count": 39,
      "outputs": [
        {
          "output_type": "stream",
          "text": [
            "WARNING:tensorflow:From /usr/local/lib/python3.6/dist-packages/tensorflow_core/python/ops/resource_variable_ops.py:1630: calling BaseResourceVariable.__init__ (from tensorflow.python.ops.resource_variable_ops) with constraint is deprecated and will be removed in a future version.\n",
            "Instructions for updating:\n",
            "If using Keras pass *_constraint arguments to layers.\n"
          ],
          "name": "stdout"
        }
      ]
    },
    {
      "cell_type": "code",
      "metadata": {
        "id": "IXCDT6uIS9wS",
        "colab_type": "code",
        "colab": {
          "base_uri": "https://localhost:8080/",
          "height": 55
        },
        "outputId": "e850de42-5b33-48fe-ea91-b18c962eb28e"
      },
      "source": [
        "# Dropping this as it relies on segmed's API.\n",
        "\"\"\"\"\n",
        "trainer = lambda x, y, z: train_segnet.train_segnet(\n",
        "    x,\n",
        "    _img_path,\n",
        "    _masks_path,\n",
        "    **hyper_params,\n",
        "    model_file=y,\n",
        "    _comment=z\n",
        ")\n",
        "\"\"\"\n",
        "# historiae = list(map(trainer, models, _model_authors, __comments))"
      ],
      "execution_count": 20,
      "outputs": [
        {
          "output_type": "execute_result",
          "data": {
            "text/plain": [
              "'\"\\ntrainer = lambda x, y, z: train_segnet.train_segnet(\\n    x,\\n    _img_path,\\n    _masks_path,\\n    **hyper_params,\\n    model_file=y,\\n    _comment=z\\n)\\n'"
            ]
          },
          "metadata": {
            "tags": []
          },
          "execution_count": 20
        }
      ]
    },
    {
      "cell_type": "code",
      "metadata": {
        "id": "Pr3DrskExLfg",
        "colab_type": "code",
        "colab": {}
      },
      "source": [
        "#collection = skio.ImageCollection(_img_path)\n",
        "#unaimagen  = skio.imread(os.path.join(_img_path, ))"
      ],
      "execution_count": 0,
      "outputs": []
    },
    {
      "cell_type": "code",
      "metadata": {
        "id": "jyZt1kSoxnEG",
        "colab_type": "code",
        "colab": {
          "base_uri": "https://localhost:8080/",
          "height": 35
        },
        "outputId": "896f860f-9e5f-4198-8517-d19cd09fe909"
      },
      "source": [
        ""
      ],
      "execution_count": 24,
      "outputs": [
        {
          "output_type": "execute_result",
          "data": {
            "text/plain": [
              "<skimage.io.collection.ImageCollection at 0x7fb3b6f25b38>"
            ]
          },
          "metadata": {
            "tags": []
          },
          "execution_count": 24
        }
      ]
    },
    {
      "cell_type": "code",
      "metadata": {
        "id": "kZWqBUseTLf2",
        "colab_type": "code",
        "colab": {}
      },
      "source": [
        "def new_train(\n",
        "    model,\n",
        "    img_path,\n",
        "    mask_path,\n",
        "    batch_size=16,\n",
        "    epochs=25,\n",
        "    steps_per_epoch=3125,\n",
        "    val_split=0.2,\n",
        "    optimizer=tf.keras.optimizers.Adam(),\n",
        "    monitor=\"val_jaccard_index\",\n",
        "    model_file=\"unet_simple.h5\",\n",
        "    seed=1,\n",
        "    show=False,\n",
        "):\n",
        "\n",
        "    \"\"\"\n",
        "    Takes two paths for images and segmentation maps and rescales them, splits\n",
        "    them into training and validation, while saving the best model trained.\n",
        "    The paths must comply to the Keras API convention as specified in their\n",
        "    documentation.\n",
        "\n",
        "    Args:\n",
        "        batch_size (int): Size of the batch to be processed.\n",
        "        epochs (int): Number of epochs to train the model.\n",
        "        steps_per_epoch (int): Total number of steps (batches of samples) to yield \n",
        "            before declaring one epoch finished and starting the next epoch.\n",
        "        val_split (float): Value between 0.0 and 1.0 representing the size in percentage\n",
        "            to split the dataset.\n",
        "        optimizer (`Optimizer`): A Keras optimizer instance with a valid syntax from TensorFlow.\n",
        "        monitor (str): Quantity to monitor during training; follow the Keras convention.\n",
        "        model_file (str): File to create for the ModelCheckpoint callback from Keras.\n",
        "        seed (int): Value to seed the ImageDataGenerator and always retrieve the same batch\n",
        "            of pairs of images.\n",
        "        show (bool): If true, plots a pair of size `batch_size` to see if the image and its\n",
        "            segmentation maps are consistent. For debugging purposes only.\n",
        "    \"\"\"\n",
        "\n",
        "    # Rescale and convert to float32 both subsets\n",
        "    data_gen_args = {\n",
        "        \"rescale\": 1.0 / 255.0,\n",
        "        \"validation_split\": val_split,\n",
        "        \"dtype\": tf.float32,\n",
        "    }\n",
        "\n",
        "    # Crea the training generators with the defined transformations\n",
        "    image_datagen = tf.keras.preprocessing.image.ImageDataGenerator(**data_gen_args)\n",
        "    mask_datagen = tf.keras.preprocessing.image.ImageDataGenerator(**data_gen_args)\n",
        "    \n",
        "    # Take images from directories\n",
        "    image_generator_train = image_datagen.flow_from_directory(\n",
        "        img_path,\n",
        "        class_mode=None,\n",
        "        color_mode=\"rgb\",\n",
        "        batch_size=batch_size,\n",
        "        seed=seed,\n",
        "        subset=\"training\",\n",
        "    )\n",
        "    mask_generator_train = mask_datagen.flow_from_directory(\n",
        "        mask_path,\n",
        "        class_mode=None,\n",
        "        color_mode=\"grayscale\",\n",
        "        batch_size=batch_size,\n",
        "        seed=seed,\n",
        "        subset=\"training\",\n",
        "    )\n",
        "    # Combine both generators\n",
        "    # This need to be a generator of generators, see the following\n",
        "    # https://github.com/tensorflow/tensorflow/issues/32357\n",
        "    train_generator = (\n",
        "        pair for pair in zip(image_generator_train, mask_generator_train)\n",
        "    )\n",
        "\n",
        "    # And now the validation generators\n",
        "    image_generator_val = image_datagen.flow_from_directory(\n",
        "        img_path,\n",
        "        class_mode=None,\n",
        "        color_mode=\"rgb\",\n",
        "        batch_size=batch_size,\n",
        "        seed=seed,\n",
        "        subset=\"validation\",\n",
        "    )\n",
        "\n",
        "    mask_generator_val = mask_datagen.flow_from_directory(\n",
        "        mask_path,\n",
        "        class_mode=None,\n",
        "        color_mode=\"grayscale\",\n",
        "        batch_size=batch_size,\n",
        "        seed=seed,\n",
        "        subset=\"validation\",\n",
        "    )\n",
        "\n",
        "    # Combine both generators, with same issue as before\n",
        "    val_generator = (pair for pair in zip(image_generator_val, mask_generator_val))\n",
        "\n",
        "    # DEBUGGING ONLY, for checking that both image and maps are batched together\n",
        "    if show:\n",
        "        import matplotlib.pyplot as plt\n",
        "\n",
        "        for i, j in train_generator:\n",
        "            plt.figure(0)\n",
        "            plt.imshow(i[0, ...])\n",
        "            plt.figure(1)\n",
        "            plt.imshow(j[0, ..., 0])\n",
        "            plt.show()\n",
        "\n",
        "    # Define the checkpoint callback, always maximum mode for custom metrics\n",
        "    checkpoint = tf.keras.callbacks.ModelCheckpoint(\n",
        "        model_file, monitor=monitor, verbose=1, save_best_only=True, mode=\"max\"\n",
        "    )\n",
        "\n",
        "    # Compile the model with an and custom metrics\n",
        "    model.compile(\n",
        "        loss=tf.keras.losses.binary_crossentropy,\n",
        "        optimizer=optimizer,\n",
        "        metrics=[mts.jaccard_index, mts.dice_coef],\n",
        "    )\n",
        "\n",
        "    # Create history of model and return it\n",
        "    history = model.fit_generator(\n",
        "        train_generator,\n",
        "        steps_per_epoch=steps_per_epoch,\n",
        "        epochs=epochs,\n",
        "        callbacks=[checkpoint],\n",
        "        verbose=1,\n",
        "        validation_data=val_generator,\n",
        "        validation_steps=steps_per_epoch,\n",
        "    )\n",
        "\n",
        "    return history"
      ],
      "execution_count": 0,
      "outputs": []
    },
    {
      "cell_type": "code",
      "metadata": {
        "id": "A_ZXdsguPg3W",
        "colab_type": "code",
        "colab": {}
      },
      "source": [
        "trainer = lambda x, y, z: new_train(\n",
        "    x,\n",
        "    _img_path,\n",
        "    _masks_path,\n",
        "    **hyper_params,\n",
        "    model_file=y,\n",
        "    show=True,\n",
        "    _comment=z\n",
        ")"
      ],
      "execution_count": 0,
      "outputs": []
    },
    {
      "cell_type": "markdown",
      "metadata": {
        "id": "F9vVsIdYnqA-",
        "colab_type": "text"
      },
      "source": [
        "Train the model :"
      ]
    },
    {
      "cell_type": "code",
      "metadata": {
        "id": "Af8c0H_wQfr8",
        "colab_type": "code",
        "colab": {
          "base_uri": "https://localhost:8080/",
          "height": 70
        },
        "outputId": "7f829004-7ac9-4f4d-971c-2a813aa0fe47"
      },
      "source": [
        "__comments"
      ],
      "execution_count": 22,
      "outputs": [
        {
          "output_type": "execute_result",
          "data": {
            "text/plain": [
              "[\"Edwin's implementation : models/multiresunet.py, \",\n",
              " \"Gustavo's implementation : models/multiresunet2.py, \",\n",
              " 'Original implementation : models/multiresunet3.py, ']"
            ]
          },
          "metadata": {
            "tags": []
          },
          "execution_count": 22
        }
      ]
    },
    {
      "cell_type": "code",
      "metadata": {
        "id": "1-U-X0xhQUQt",
        "colab_type": "code",
        "colab": {
          "base_uri": "https://localhost:8080/",
          "height": 168
        },
        "outputId": "94c94bbe-a192-4564-db7c-6f657f56812a"
      },
      "source": [
        "historiae = list(map(trainer, models[-1], _model_authors[-1], __comments[-1]))"
      ],
      "execution_count": 23,
      "outputs": [
        {
          "output_type": "error",
          "ename": "NameError",
          "evalue": "ignored",
          "traceback": [
            "\u001b[0;31m---------------------------------------------------------------------------\u001b[0m",
            "\u001b[0;31mNameError\u001b[0m                                 Traceback (most recent call last)",
            "\u001b[0;32m<ipython-input-23-6779ea1774d5>\u001b[0m in \u001b[0;36m<module>\u001b[0;34m()\u001b[0m\n\u001b[0;32m----> 1\u001b[0;31m \u001b[0mhistoriae\u001b[0m \u001b[0;34m=\u001b[0m \u001b[0mlist\u001b[0m\u001b[0;34m(\u001b[0m\u001b[0mmap\u001b[0m\u001b[0;34m(\u001b[0m\u001b[0mtrainer\u001b[0m\u001b[0;34m,\u001b[0m \u001b[0mmodels\u001b[0m\u001b[0;34m[\u001b[0m\u001b[0;34m-\u001b[0m\u001b[0;36m1\u001b[0m\u001b[0;34m]\u001b[0m\u001b[0;34m,\u001b[0m \u001b[0m_model_authors\u001b[0m\u001b[0;34m[\u001b[0m\u001b[0;34m-\u001b[0m\u001b[0;36m1\u001b[0m\u001b[0;34m]\u001b[0m\u001b[0;34m,\u001b[0m \u001b[0m__comments\u001b[0m\u001b[0;34m[\u001b[0m\u001b[0;34m-\u001b[0m\u001b[0;36m1\u001b[0m\u001b[0;34m]\u001b[0m\u001b[0;34m)\u001b[0m\u001b[0;34m)\u001b[0m\u001b[0;34m\u001b[0m\u001b[0;34m\u001b[0m\u001b[0m\n\u001b[0m",
            "\u001b[0;31mNameError\u001b[0m: name 'models' is not defined"
          ]
        }
      ]
    },
    {
      "cell_type": "code",
      "metadata": {
        "id": "xaMlOM9rZQ1L",
        "colab_type": "code",
        "outputId": "43278869-91bc-4086-b72d-4a3dc064bfb6",
        "colab": {
          "base_uri": "https://localhost:8080/",
          "height": 55
        }
      },
      "source": [
        "\"\"\"\n",
        "history = train_segnet.train_segnet(\n",
        "    models[2],\n",
        "    _img_path,\n",
        "    _masks_path,\n",
        "    **hyper_params,\n",
        "    _comment=__comments[2]\n",
        ")\n",
        "\"\"\"\n"
      ],
      "execution_count": 0,
      "outputs": [
        {
          "output_type": "execute_result",
          "data": {
            "text/plain": [
              "'\\nhistory = train_segnet.train_segnet(\\n    models[2],\\n    _img_path,\\n    _masks_path,\\n    **hyper_params,\\n    _comment=__comments[2]\\n)\\n'"
            ]
          },
          "metadata": {
            "tags": []
          },
          "execution_count": 58
        }
      ]
    },
    {
      "cell_type": "code",
      "metadata": {
        "id": "-XQs6gwumXMO",
        "colab_type": "code",
        "outputId": "4801573f-5788-4cde-9692-58f08f622bbe",
        "colab": {
          "base_uri": "https://localhost:8080/",
          "height": 35
        }
      },
      "source": [
        "print(_masks_path)"
      ],
      "execution_count": 0,
      "outputs": [
        {
          "output_type": "stream",
          "text": [
            "drive/My Drive/DCI-Net/Colab_data/dermoscopy80/msks\n"
          ],
          "name": "stdout"
        }
      ]
    },
    {
      "cell_type": "code",
      "metadata": {
        "id": "4hIiRaBcRwlE",
        "colab_type": "code",
        "outputId": "7dcfe41c-4d3d-47a4-fdcf-0c2eb63efa86",
        "colab": {
          "base_uri": "https://localhost:8080/",
          "height": 265
        }
      },
      "source": [
        "_jaccards = list(map(lambda x: x.history['val_jaccard_index'], historiae))\n",
        "for _jaccard, _author in zip(_jaccards, _model_authors):\n",
        "  sns.lineplot(list(range(len(_jaccard))), _jaccard, label=_author)"
      ],
      "execution_count": 0,
      "outputs": [
        {
          "output_type": "display_data",
          "data": {
            "image/png": "[encoded data removed]",
            "text/plain": [
              "<Figure size 432x288 with 1 Axes>"
            ]
          },
          "metadata": {
            "tags": []
          }
        }
      ]
    },
    {
      "cell_type": "code",
      "metadata": {
        "id": "GMszSInISTtP",
        "colab_type": "code",
        "outputId": "285b5fda-b353-4061-b5ea-fd868717a6e9",
        "colab": {
          "base_uri": "https://localhost:8080/",
          "height": 269
        }
      },
      "source": [
        "_losses = list(map(lambda x: x.history['val_loss'], historiae))\n",
        "for _loss, _author in zip(_losses, _model_authors):\n",
        "  sns.lineplot(list(range(len(_loss))), _loss, label=_author)"
      ],
      "execution_count": 0,
      "outputs": [
        {
          "output_type": "display_data",
          "data": {
            "image/png": "[encoded data removed]",
            "text/plain": [
              "<Figure size 432x288 with 1 Axes>"
            ]
          },
          "metadata": {
            "tags": []
          }
        }
      ]
    },
    {
      "cell_type": "code",
      "metadata": {
        "id": "eauUkdiPfe3f",
        "colab_type": "code",
        "outputId": "16241c74-7f69-4ad0-8442-1e41352e5f4f",
        "colab": {
          "base_uri": "https://localhost:8080/",
          "height": 53
        }
      },
      "source": [
        "!cat \"drive/My Drive/DCI-Net/time_logs.jsonl\" | jq"
      ],
      "execution_count": 0,
      "outputs": [
        {
          "output_type": "stream",
          "text": [
            "/bin/bash: jq: command not found\n",
            "cat: 'drive/My Drive/DCI-Net/time_logs.jsonl': No such file or directory\n"
          ],
          "name": "stdout"
        }
      ]
    },
    {
      "cell_type": "code",
      "metadata": {
        "id": "04ibUYVvf47H",
        "colab_type": "code",
        "colab": {}
      },
      "source": [
        "# 1 validación 5 pliegues\n",
        "def "
      ],
      "execution_count": 0,
      "outputs": []
    },
    {
      "cell_type": "code",
      "metadata": {
        "id": "hXwZZTxQkuMy",
        "colab_type": "code",
        "colab": {}
      },
      "source": [
        "@timing.time_log(path_to_logfile=_log_file)\n",
        "def _dummy_debug_function(*args, **kw):\n",
        "  pass\n",
        "  "
      ],
      "execution_count": 0,
      "outputs": []
    },
    {
      "cell_type": "code",
      "metadata": {
        "id": "iJDNCbPfXogz",
        "colab_type": "code",
        "outputId": "fa2d2174-46a3-4785-b7a1-a4460843ba83",
        "colab": {
          "base_uri": "https://localhost:8080/",
          "height": 165
        }
      },
      "source": [
        "log"
      ],
      "execution_count": 0,
      "outputs": [
        {
          "output_type": "error",
          "ename": "NameError",
          "evalue": "ignored",
          "traceback": [
            "\u001b[0;31m---------------------------------------------------------------------------\u001b[0m",
            "\u001b[0;31mNameError\u001b[0m                                 Traceback (most recent call last)",
            "\u001b[0;32m<ipython-input-44-4508c1b19b88>\u001b[0m in \u001b[0;36m<module>\u001b[0;34m()\u001b[0m\n\u001b[0;32m----> 1\u001b[0;31m \u001b[0mlog\u001b[0m\u001b[0;34m\u001b[0m\u001b[0;34m\u001b[0m\u001b[0m\n\u001b[0m",
            "\u001b[0;31mNameError\u001b[0m: name 'log' is not defined"
          ]
        }
      ]
    },
    {
      "cell_type": "code",
      "metadata": {
        "id": "TjdrADboXliJ",
        "colab_type": "code",
        "colab": {}
      },
      "source": [
        "_dummy_debug_function(5, '234', 5.2, hola='pass', foo='bar')"
      ],
      "execution_count": 0,
      "outputs": []
    },
    {
      "cell_type": "code",
      "metadata": {
        "id": "3xYc5_3SX6hJ",
        "colab_type": "code",
        "colab": {}
      },
      "source": [
        ""
      ],
      "execution_count": 0,
      "outputs": []
    }
  ]
}