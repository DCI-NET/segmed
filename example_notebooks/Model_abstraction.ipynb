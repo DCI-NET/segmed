{
  "nbformat": 4,
  "nbformat_minor": 0,
  "metadata": {
    "colab": {
      "name": "Model_abstraction.ipynb",
      "provenance": [],
      "collapsed_sections": [],
      "machine_shape": "hm",
      "include_colab_link": true
    },
    "kernelspec": {
      "name": "python3",
      "display_name": "Python 3"
    },
    "accelerator": "GPU"
  },
  "cells": [
    {
      "cell_type": "markdown",
      "metadata": {
        "id": "view-in-github",
        "colab_type": "text"
      },
      "source": [
        "<a href=\"https://colab.research.google.com/github/gmagannaDevelop/segnet/blob/mru_tests/example_notebooks/Model_abstraction.ipynb\" target=\"_parent\"><img src=\"https://colab.research.google.com/assets/colab-badge.svg\" alt=\"Open In Colab\"/></a>"
      ]
    },
    {
      "cell_type": "markdown",
      "metadata": {
        "id": "DHw_6M1yXu8b",
        "colab_type": "text"
      },
      "source": [
        "# MultiResUNet\n",
        "## DCI-Net\n",
        "#### Gustavo Magaña López\n",
        "\n",
        "Creación de una clase que facilite el entrenamiento serializado de las arquitecturas encontradas en DCI-NET/segmed.\n",
        "\n",
        "\\########################################################"
      ]
    },
    {
      "cell_type": "code",
      "metadata": {
        "id": "C7esbcDmCpM_",
        "colab_type": "code",
        "outputId": "f75a3014-d909-4db5-bb66-571b1ff29667",
        "colab": {
          "base_uri": "https://localhost:8080/",
          "height": 35
        }
      },
      "source": [
        "!ls"
      ],
      "execution_count": 1,
      "outputs": [
        {
          "output_type": "stream",
          "text": [
            "sample_data\n"
          ],
          "name": "stdout"
        }
      ]
    },
    {
      "cell_type": "code",
      "metadata": {
        "id": "GYetdkI4C6bp",
        "colab_type": "code",
        "colab": {}
      },
      "source": [
        "#dir()"
      ],
      "execution_count": 0,
      "outputs": []
    },
    {
      "cell_type": "code",
      "metadata": {
        "id": "IvwdXdIkfp0E",
        "colab_type": "code",
        "outputId": "cd6a49fd-8202-4984-fc27-6038682f4073",
        "colab": {
          "base_uri": "https://localhost:8080/",
          "height": 585
        }
      },
      "source": [
        "!apt install jq"
      ],
      "execution_count": 2,
      "outputs": [
        {
          "output_type": "stream",
          "text": [
            "Reading package lists... Done\n",
            "Building dependency tree       \n",
            "Reading state information... Done\n",
            "The following package was automatically installed and is no longer required:\n",
            "  libnvidia-common-430\n",
            "Use 'apt autoremove' to remove it.\n",
            "The following additional packages will be installed:\n",
            "  libjq1 libonig4\n",
            "The following NEW packages will be installed:\n",
            "  jq libjq1 libonig4\n",
            "0 upgraded, 3 newly installed, 0 to remove and 7 not upgraded.\n",
            "Need to get 276 kB of archives.\n",
            "After this operation, 930 kB of additional disk space will be used.\n",
            "Get:1 http://archive.ubuntu.com/ubuntu bionic/universe amd64 libonig4 amd64 6.7.0-1 [119 kB]\n",
            "Get:2 http://archive.ubuntu.com/ubuntu bionic/universe amd64 libjq1 amd64 1.5+dfsg-2 [111 kB]\n",
            "Get:3 http://archive.ubuntu.com/ubuntu bionic/universe amd64 jq amd64 1.5+dfsg-2 [45.6 kB]\n",
            "Fetched 276 kB in 1s (414 kB/s)\n",
            "Selecting previously unselected package libonig4:amd64.\n",
            "(Reading database ... 145674 files and directories currently installed.)\n",
            "Preparing to unpack .../libonig4_6.7.0-1_amd64.deb ...\n",
            "Unpacking libonig4:amd64 (6.7.0-1) ...\n",
            "Selecting previously unselected package libjq1:amd64.\n",
            "Preparing to unpack .../libjq1_1.5+dfsg-2_amd64.deb ...\n",
            "Unpacking libjq1:amd64 (1.5+dfsg-2) ...\n",
            "Selecting previously unselected package jq.\n",
            "Preparing to unpack .../jq_1.5+dfsg-2_amd64.deb ...\n",
            "Unpacking jq (1.5+dfsg-2) ...\n",
            "Setting up libonig4:amd64 (6.7.0-1) ...\n",
            "Setting up libjq1:amd64 (1.5+dfsg-2) ...\n",
            "Setting up jq (1.5+dfsg-2) ...\n",
            "Processing triggers for man-db (2.8.3-2ubuntu0.1) ...\n",
            "Processing triggers for libc-bin (2.27-3ubuntu1) ...\n"
          ],
          "name": "stdout"
        }
      ]
    },
    {
      "cell_type": "code",
      "metadata": {
        "id": "SUVhISDWOwT5",
        "colab_type": "code",
        "outputId": "87aebb10-1416-4c07-e505-b9f63bf280af",
        "colab": {
          "base_uri": "https://localhost:8080/",
          "height": 1000
        }
      },
      "source": [
        "## If changes are made to the repo, uninstall and\n",
        "## a fresh pip install are required, so it seems.\n",
        "#!pip uninstall segnet\n",
        "!pip install git+https://github.com/gmagannaDevelop/segnet.git@mru_tests\n",
        "##!pip install git+https://github.com/gmagannaDevelop/segnet.git@log_hotfix"
      ],
      "execution_count": 3,
      "outputs": [
        {
          "output_type": "stream",
          "text": [
            "Collecting git+https://github.com/gmagannaDevelop/segnet.git@mru_tests\n",
            "  Cloning https://github.com/gmagannaDevelop/segnet.git (to revision mru_tests) to /tmp/pip-req-build-j894jg96\n",
            "  Running command git clone -q https://github.com/gmagannaDevelop/segnet.git /tmp/pip-req-build-j894jg96\n",
            "  Running command git checkout -b mru_tests --track origin/mru_tests\n",
            "  Switched to a new branch 'mru_tests'\n",
            "  Branch 'mru_tests' set up to track remote branch 'mru_tests' from 'origin'.\n",
            "Requirement already satisfied: absl-py in /usr/local/lib/python3.6/dist-packages (from segnet==0.4) (0.9.0)\n",
            "Collecting appdirs\n",
            "  Downloading https://files.pythonhosted.org/packages/56/eb/810e700ed1349edde4cbdc1b2a21e28cdf115f9faf263f6bbf8447c1abf3/appdirs-1.4.3-py2.py3-none-any.whl\n",
            "Requirement already satisfied: astor in /usr/local/lib/python3.6/dist-packages (from segnet==0.4) (0.8.1)\n",
            "Collecting astroid\n",
            "\u001b[?25l  Downloading https://files.pythonhosted.org/packages/ad/ae/86734823047962e7b8c8529186a1ac4a7ca19aaf1aa0c7713c022ef593fd/astroid-2.3.3-py3-none-any.whl (205kB)\n",
            "\u001b[K     |████████████████████████████████| 215kB 4.2MB/s \n",
            "\u001b[?25hRequirement already satisfied: atomicwrites in /usr/local/lib/python3.6/dist-packages (from segnet==0.4) (1.3.0)\n",
            "Requirement already satisfied: attrs in /usr/local/lib/python3.6/dist-packages (from segnet==0.4) (19.3.0)\n",
            "Collecting black\n",
            "\u001b[?25l  Downloading https://files.pythonhosted.org/packages/fd/bb/ad34bbc93d1bea3de086d7c59e528d4a503ac8fe318bd1fa48605584c3d2/black-19.10b0-py36-none-any.whl (97kB)\n",
            "\u001b[K     |████████████████████████████████| 102kB 10.7MB/s \n",
            "\u001b[?25hRequirement already satisfied: click in /usr/local/lib/python3.6/dist-packages (from segnet==0.4) (7.0)\n",
            "Requirement already satisfied: cycler in /usr/local/lib/python3.6/dist-packages (from segnet==0.4) (0.10.0)\n",
            "Requirement already satisfied: decorator in /usr/local/lib/python3.6/dist-packages (from segnet==0.4) (4.4.1)\n",
            "Requirement already satisfied: gast in /usr/local/lib/python3.6/dist-packages (from segnet==0.4) (0.2.2)\n",
            "Requirement already satisfied: google-pasta in /usr/local/lib/python3.6/dist-packages (from segnet==0.4) (0.1.8)\n",
            "Requirement already satisfied: grpcio in /usr/local/lib/python3.6/dist-packages (from segnet==0.4) (1.15.0)\n",
            "Requirement already satisfied: h5py in /usr/local/lib/python3.6/dist-packages (from segnet==0.4) (2.8.0)\n",
            "Requirement already satisfied: imageio in /usr/local/lib/python3.6/dist-packages (from segnet==0.4) (2.4.1)\n",
            "Requirement already satisfied: importlib-metadata in /usr/local/lib/python3.6/dist-packages (from segnet==0.4) (1.4.0)\n",
            "Collecting isort\n",
            "\u001b[?25l  Downloading https://files.pythonhosted.org/packages/e5/b0/c121fd1fa3419ea9bfd55c7f9c4fedfec5143208d8c7ad3ce3db6c623c21/isort-4.3.21-py2.py3-none-any.whl (42kB)\n",
            "\u001b[K     |████████████████████████████████| 51kB 7.8MB/s \n",
            "\u001b[?25hRequirement already satisfied: joblib in /usr/local/lib/python3.6/dist-packages (from segnet==0.4) (0.14.1)\n",
            "Requirement already satisfied: kiwisolver in /usr/local/lib/python3.6/dist-packages (from segnet==0.4) (1.1.0)\n",
            "Collecting lazy-object-proxy\n",
            "\u001b[?25l  Downloading https://files.pythonhosted.org/packages/0b/dd/b1e3407e9e6913cf178e506cd0dee818e58694d9a5cd1984e3f6a8b9a10f/lazy_object_proxy-1.4.3-cp36-cp36m-manylinux1_x86_64.whl (55kB)\n",
            "\u001b[K     |████████████████████████████████| 61kB 9.6MB/s \n",
            "\u001b[?25hRequirement already satisfied: markdown in /usr/local/lib/python3.6/dist-packages (from segnet==0.4) (3.1.1)\n",
            "Requirement already satisfied: matplotlib in /usr/local/lib/python3.6/dist-packages (from segnet==0.4) (3.1.2)\n",
            "Collecting mccabe\n",
            "  Downloading https://files.pythonhosted.org/packages/87/89/479dc97e18549e21354893e4ee4ef36db1d237534982482c3681ee6e7b57/mccabe-0.6.1-py2.py3-none-any.whl\n",
            "Requirement already satisfied: more-itertools in /usr/local/lib/python3.6/dist-packages (from segnet==0.4) (8.0.2)\n",
            "Requirement already satisfied: networkx in /usr/local/lib/python3.6/dist-packages (from segnet==0.4) (2.4)\n",
            "Requirement already satisfied: numpy in /usr/local/lib/python3.6/dist-packages (from segnet==0.4) (1.17.5)\n",
            "Requirement already satisfied: opt-einsum in /usr/local/lib/python3.6/dist-packages (from segnet==0.4) (3.1.0)\n",
            "Requirement already satisfied: packaging in /usr/local/lib/python3.6/dist-packages (from segnet==0.4) (20.0)\n",
            "Requirement already satisfied: pandas in /usr/local/lib/python3.6/dist-packages (from segnet==0.4) (0.25.3)\n",
            "Requirement already satisfied: pillow in /usr/local/lib/python3.6/dist-packages (from segnet==0.4) (6.2.2)\n",
            "Requirement already satisfied: pluggy in /usr/local/lib/python3.6/dist-packages (from segnet==0.4) (0.7.1)\n",
            "Requirement already satisfied: protobuf in /usr/local/lib/python3.6/dist-packages (from segnet==0.4) (3.10.0)\n",
            "Requirement already satisfied: py in /usr/local/lib/python3.6/dist-packages (from segnet==0.4) (1.8.1)\n",
            "Collecting pylint\n",
            "\u001b[?25l  Downloading https://files.pythonhosted.org/packages/e9/59/43fc36c5ee316bb9aeb7cf5329cdbdca89e5749c34d5602753827c0aa2dc/pylint-2.4.4-py3-none-any.whl (302kB)\n",
            "\u001b[K     |████████████████████████████████| 307kB 50.7MB/s \n",
            "\u001b[?25hRequirement already satisfied: pyparsing in /usr/local/lib/python3.6/dist-packages (from segnet==0.4) (2.4.6)\n",
            "Requirement already satisfied: pytest in /usr/local/lib/python3.6/dist-packages (from segnet==0.4) (3.6.4)\n",
            "Requirement already satisfied: python-dateutil in /usr/local/lib/python3.6/dist-packages (from segnet==0.4) (2.6.1)\n",
            "Requirement already satisfied: pytz in /usr/local/lib/python3.6/dist-packages (from segnet==0.4) (2018.9)\n",
            "Requirement already satisfied: pywavelets in /usr/local/lib/python3.6/dist-packages (from segnet==0.4) (1.1.1)\n",
            "Requirement already satisfied: pyyaml in /usr/local/lib/python3.6/dist-packages (from segnet==0.4) (3.13)\n",
            "Requirement already satisfied: scikit-image in /usr/local/lib/python3.6/dist-packages (from segnet==0.4) (0.16.2)\n",
            "Requirement already satisfied: scikit-learn in /usr/local/lib/python3.6/dist-packages (from segnet==0.4) (0.22.1)\n",
            "Requirement already satisfied: scipy in /usr/local/lib/python3.6/dist-packages (from segnet==0.4) (1.4.1)\n",
            "Requirement already satisfied: seaborn in /usr/local/lib/python3.6/dist-packages (from segnet==0.4) (0.9.0)\n",
            "Requirement already satisfied: six in /usr/local/lib/python3.6/dist-packages (from segnet==0.4) (1.12.0)\n",
            "Requirement already satisfied: tensorflow in /usr/local/lib/python3.6/dist-packages (from segnet==0.4) (1.15.0)\n",
            "Requirement already satisfied: termcolor in /usr/local/lib/python3.6/dist-packages (from segnet==0.4) (1.1.0)\n",
            "Collecting toml\n",
            "  Downloading https://files.pythonhosted.org/packages/a2/12/ced7105d2de62fa7c8fb5fce92cc4ce66b57c95fb875e9318dba7f8c5db0/toml-0.10.0-py2.py3-none-any.whl\n",
            "Collecting typed-ast\n",
            "\u001b[?25l  Downloading https://files.pythonhosted.org/packages/90/ed/5459080d95eb87a02fe860d447197be63b6e2b5e9ff73c2b0a85622994f4/typed_ast-1.4.1-cp36-cp36m-manylinux1_x86_64.whl (737kB)\n",
            "\u001b[K     |████████████████████████████████| 747kB 53.4MB/s \n",
            "\u001b[?25hRequirement already satisfied: wcwidth in /usr/local/lib/python3.6/dist-packages (from segnet==0.4) (0.1.8)\n",
            "Requirement already satisfied: werkzeug in /usr/local/lib/python3.6/dist-packages (from segnet==0.4) (0.16.0)\n",
            "Requirement already satisfied: wrapt in /usr/local/lib/python3.6/dist-packages (from segnet==0.4) (1.11.2)\n",
            "Requirement already satisfied: zipp in /usr/local/lib/python3.6/dist-packages (from segnet==0.4) (1.0.0)\n",
            "Requirement already satisfied: regex in /usr/local/lib/python3.6/dist-packages (from black->segnet==0.4) (2019.12.20)\n",
            "Collecting pathspec<1,>=0.6\n",
            "  Downloading https://files.pythonhosted.org/packages/34/fa/c5cc4f796eb954b56fd1f6c7c315647b18b027e0736c9ae87b73bbb1f933/pathspec-0.7.0-py2.py3-none-any.whl\n",
            "Requirement already satisfied: setuptools in /usr/local/lib/python3.6/dist-packages (from kiwisolver->segnet==0.4) (42.0.2)\n",
            "Requirement already satisfied: tensorboard<1.16.0,>=1.15.0 in /usr/local/lib/python3.6/dist-packages (from tensorflow->segnet==0.4) (1.15.0)\n",
            "Requirement already satisfied: keras-applications>=1.0.8 in /usr/local/lib/python3.6/dist-packages (from tensorflow->segnet==0.4) (1.0.8)\n",
            "Requirement already satisfied: wheel>=0.26 in /usr/local/lib/python3.6/dist-packages (from tensorflow->segnet==0.4) (0.33.6)\n",
            "Requirement already satisfied: tensorflow-estimator==1.15.1 in /usr/local/lib/python3.6/dist-packages (from tensorflow->segnet==0.4) (1.15.1)\n",
            "Requirement already satisfied: keras-preprocessing>=1.0.5 in /usr/local/lib/python3.6/dist-packages (from tensorflow->segnet==0.4) (1.1.0)\n",
            "Building wheels for collected packages: segnet\n",
            "  Building wheel for segnet (setup.py) ... \u001b[?25l\u001b[?25hdone\n",
            "  Created wheel for segnet: filename=segnet-0.4-cp36-none-any.whl size=28011 sha256=f8751ab96a2896dd40ac64321010f9010c7bb1dbce8c91cf6d8d316cabb574bb\n",
            "  Stored in directory: /tmp/pip-ephem-wheel-cache-41su1jr9/wheels/f1/c1/51/0ee27f445c3a618413714a84d4f5500547456389437a85a87f\n",
            "Successfully built segnet\n",
            "Installing collected packages: appdirs, lazy-object-proxy, typed-ast, astroid, toml, pathspec, black, isort, mccabe, pylint, segnet\n",
            "Successfully installed appdirs-1.4.3 astroid-2.3.3 black-19.10b0 isort-4.3.21 lazy-object-proxy-1.4.3 mccabe-0.6.1 pathspec-0.7.0 pylint-2.4.4 segnet-0.4 toml-0.10.0 typed-ast-1.4.1\n"
          ],
          "name": "stdout"
        }
      ]
    },
    {
      "cell_type": "markdown",
      "metadata": {
        "id": "qCRoHPcGgvEL",
        "colab_type": "text"
      },
      "source": [
        "Imports"
      ]
    },
    {
      "cell_type": "code",
      "metadata": {
        "id": "fe9L3SCGqtJw",
        "colab_type": "code",
        "outputId": "dbfa0ae8-2ec4-411b-f13c-f1aecde0cde7",
        "colab": {
          "base_uri": "https://localhost:8080/",
          "height": 55
        }
      },
      "source": [
        "\"\"\"\n",
        "!pip install gputil\n",
        "import GPUtil\n",
        "GPUtil.showUtilization(all=False, attrList=None, useOldCode=False)\n",
        "deviceIDs = GPUtil.getAvailable(order = 'first', limit = 1, maxLoad = 0.5, maxMemory = 0.5, includeNan=False, excludeID=[], excludeUUID=[])\n",
        "deviceIDs\n",
        "\n",
        "!pip install gpuinfo\n",
        "from gpuinfo import GPUInfo as gpu\n",
        "gpu.check_empty()\n",
        "\"\"\""
      ],
      "execution_count": 5,
      "outputs": [
        {
          "output_type": "execute_result",
          "data": {
            "text/plain": [
              "\"\\n!pip install gputil\\nimport GPUtil\\nGPUtil.showUtilization(all=False, attrList=None, useOldCode=False)\\ndeviceIDs = GPUtil.getAvailable(order = 'first', limit = 1, maxLoad = 0.5, maxMemory = 0.5, includeNan=False, excludeID=[], excludeUUID=[])\\ndeviceIDs\\n\\n!pip install gpuinfo\\nfrom gpuinfo import GPUInfo as gpu\\ngpu.check_empty()\\n\""
            ]
          },
          "metadata": {
            "tags": []
          },
          "execution_count": 5
        }
      ]
    },
    {
      "cell_type": "code",
      "metadata": {
        "id": "K1yIfKONKtJp",
        "colab_type": "code",
        "colab": {
          "base_uri": "https://localhost:8080/",
          "height": 197
        },
        "outputId": "46eb87f6-d683-44e3-f865-cc4e216c0443"
      },
      "source": [
        "!pip install gputil\n",
        "import GPUtil"
      ],
      "execution_count": 4,
      "outputs": [
        {
          "output_type": "stream",
          "text": [
            "Collecting gputil\n",
            "  Downloading https://files.pythonhosted.org/packages/ed/0e/5c61eedde9f6c87713e89d794f01e378cfd9565847d4576fa627d758c554/GPUtil-1.4.0.tar.gz\n",
            "Building wheels for collected packages: gputil\n",
            "  Building wheel for gputil (setup.py) ... \u001b[?25l\u001b[?25hdone\n",
            "  Created wheel for gputil: filename=GPUtil-1.4.0-cp36-none-any.whl size=7410 sha256=eb79e3935854742ea9126502272f5560d5bdf7d54bca4a425c5ea58f84846061\n",
            "  Stored in directory: /root/.cache/pip/wheels/3d/77/07/80562de4bb0786e5ea186911a2c831fdd0018bda69beab71fd\n",
            "Successfully built gputil\n",
            "Installing collected packages: gputil\n",
            "Successfully installed gputil-1.4.0\n"
          ],
          "name": "stdout"
        }
      ]
    },
    {
      "cell_type": "code",
      "metadata": {
        "id": "CZm_TbJ7JwAQ",
        "colab_type": "code",
        "colab": {
          "base_uri": "https://localhost:8080/",
          "height": 90
        },
        "outputId": "24acade6-1ddd-4aa1-b300-d46ef20b8a92"
      },
      "source": [
        "GPUtil.showUtilization(all=True, attrList=None, useOldCode=False)\n",
        "#gpus = GPUtil.getAvailable(order='first', limit=999, maxLoad=0.1)\n",
        "#deviceIDs = GPUtil.getAvailable(order = 'first', limit = 10, maxLoad = 0.5, maxMemory = 0.5, includeNan=False, excludeID=[], excludeUUID=[])"
      ],
      "execution_count": 6,
      "outputs": [
        {
          "output_type": "stream",
          "text": [
            "| ID | Name                 | Serial        | UUID                                     || GPU temp. | GPU util. | Memory util. || Memory total | Memory used | Memory free || Display mode | Display active |\n",
            "-------------------------------------------------------------------------------------------------------------------------------------------------------------------------------------------------------------\n",
            "|  0 | Tesla P100-PCIE-16GB | 0324716027585 | GPU-d8f725ef-edb5-fb79-dd7f-c07ed571d147 ||       47C |        0% |           0% ||      16280MB |         0MB |     16280MB || Enabled      | Disabled       |\n"
          ],
          "name": "stdout"
        }
      ]
    },
    {
      "cell_type": "code",
      "metadata": {
        "id": "CUlIOJZWK2Fo",
        "colab_type": "code",
        "colab": {
          "base_uri": "https://localhost:8080/",
          "height": 35
        },
        "outputId": "0d9d068c-3730-4e59-9eb9-c943d5ba74b1"
      },
      "source": [
        "type(GPUtil.getGPUs()[0])"
      ],
      "execution_count": 16,
      "outputs": [
        {
          "output_type": "execute_result",
          "data": {
            "text/plain": [
              "GPUtil.GPUtil.GPU"
            ]
          },
          "metadata": {
            "tags": []
          },
          "execution_count": 16
        }
      ]
    },
    {
      "cell_type": "code",
      "metadata": {
        "id": "T3Nu9oc4GAjx",
        "colab_type": "code",
        "colab": {}
      },
      "source": [
        "\n",
        "ggpu_dict: Dict[str,Any] = {}\n",
        "for gpu in GPUtil.getGPUs():\n",
        "    ggpu_dict.update({\n",
        "        \"ID\": gpu.id,\n",
        "        \"Name\": gpu.name,\n",
        "        \"Serial\": gpu.serial,\n",
        "        \"UUID\": gpu.uuid,\n",
        "        \"GPU temp.\": gpu.load*100,\n",
        "        \"GPU util %\": gpu.memoryUtil*100,\n",
        "        \"Memory Total (MB)\": gpu.memoryTotal,\n",
        "        \"Memory used (MB)\": gpu.memoryUsed,\n",
        "        \"Memory Free (MB)\": gpu.memoryFree,\n",
        "        \"Display Mode\": gpu.display_mode,\n",
        "        \"Display Active\": gpu.display_active\n",
        "    })"
      ],
      "execution_count": 0,
      "outputs": []
    },
    {
      "cell_type": "code",
      "metadata": {
        "id": "vqn2O8j_GnoT",
        "colab_type": "code",
        "colab": {
          "base_uri": "https://localhost:8080/",
          "height": 212
        },
        "outputId": "8f36b3cb-5895-4b33-9216-f827e6159582"
      },
      "source": [
        "for i in ggpu_dict.values():\n",
        "  print(type(i))"
      ],
      "execution_count": 19,
      "outputs": [
        {
          "output_type": "stream",
          "text": [
            "<class 'int'>\n",
            "<class 'str'>\n",
            "<class 'str'>\n",
            "<class 'str'>\n",
            "<class 'float'>\n",
            "<class 'float'>\n",
            "<class 'float'>\n",
            "<class 'float'>\n",
            "<class 'float'>\n",
            "<class 'str'>\n",
            "<class 'str'>\n"
          ],
          "name": "stdout"
        }
      ]
    },
    {
      "cell_type": "code",
      "metadata": {
        "id": "E4cZELMaKXUj",
        "colab_type": "code",
        "colab": {}
      },
      "source": [
        ""
      ],
      "execution_count": 0,
      "outputs": []
    },
    {
      "cell_type": "code",
      "metadata": {
        "id": "UxVrrV2VXLGA",
        "colab_type": "code",
        "outputId": "48278f0e-1c67-45f0-9fa7-645730397c19",
        "colab": {
          "base_uri": "https://localhost:8080/",
          "height": 208
        }
      },
      "source": [
        "### System-related\n",
        "import platform,socket,re,uuid,json,psutil # for getSystemInfo method\n",
        "import sys\n",
        "import os\n",
        "import datetime \n",
        "from typing import Dict, Optional, List, Tuple, Any, NoReturn, Callable, Union, Type\n",
        "#import importlib.util\n",
        "###############################################################\n",
        "\n",
        "### Machine learning specific\n",
        "#import segmentation_models as sm\n",
        "from keras.optimizers import SGD\n",
        "from keras.callbacks import ModelCheckpoint, ReduceLROnPlateau\n",
        "from sklearn.model_selection import train_test_split\n",
        "import keras.models\n",
        "import tensorflow as tf\n",
        "###############################################################\n",
        "\n",
        "### In-Out\n",
        "from skimage import io as skio\n",
        "import json \n",
        "import pandas as pd\n",
        "import h5py\n",
        "import glob\n",
        "###############################################################\n",
        "\n",
        "### Visualization\n",
        "import seaborn as sns\n",
        "import matplotlib.pyplot as plt\n",
        "plt.style.use(\"ggplot\")\n",
        "###############################################################\n",
        "\n",
        "### Numerical\n",
        "import numpy as np\n",
        "###############################################################\n",
        "\n",
        "### Repo-specific (segnet)\n",
        "from segnet.train import train_segnet\n",
        "from segnet.models import unet\n",
        "from segnet.models import multiresunet as mru\n",
        "from segnet.models import multiresunet2 as mru2\n",
        "from segnet.models import multiresunet3 as mru3\n",
        "from segnet.utils import timing\n",
        "from segnet.metrics import metrics as mts\n",
        "#from segnet.segnet.train.train_segnet import train_segnet\n",
        "#import segnet.segnet as segnet\n",
        "\n",
        "### Data-related\n",
        "from google.colab import drive, files\n",
        "drive.mount('/content/drive/')\n",
        "###############################################################\n",
        "\n",
        "\n",
        "### Not an import, but mandatory to be defined here :\n",
        "root_dir   = \"drive/My Drive/DCI-Net\"\n",
        "_log_file  = os.path.join(root_dir, \"time_logs.jsonl\")\n",
        "_log_file_path = \"drive/My Drive/DCI-Net/time_logs.jsonl\""
      ],
      "execution_count": 8,
      "outputs": [
        {
          "output_type": "stream",
          "text": [
            "Using TensorFlow backend.\n"
          ],
          "name": "stderr"
        },
        {
          "output_type": "display_data",
          "data": {
            "text/html": [
              "<p style=\"color: red;\">\n",
              "The default version of TensorFlow in Colab will soon switch to TensorFlow 2.x.<br>\n",
              "We recommend you <a href=\"https://www.tensorflow.org/guide/migrate\" target=\"_blank\">upgrade</a> now \n",
              "or ensure your notebook will continue to use TensorFlow 1.x via the <code>%tensorflow_version 1.x</code> magic:\n",
              "<a href=\"https://colab.research.google.com/notebooks/tensorflow_version.ipynb\" target=\"_blank\">more info</a>.</p>\n"
            ],
            "text/plain": [
              "<IPython.core.display.HTML object>"
            ]
          },
          "metadata": {
            "tags": []
          }
        },
        {
          "output_type": "stream",
          "text": [
            "Go to this URL in a browser: https://accounts.google.com/o/oauth2/auth?client_id=947318989803-6bn6qk8qdgf4n4g3pfee6491hc0brc4i.apps.googleusercontent.com&redirect_uri=urn%3aietf%3awg%3aoauth%3a2.0%3aoob&response_type=code&scope=email%20https%3a%2f%2fwww.googleapis.com%2fauth%2fdocs.test%20https%3a%2f%2fwww.googleapis.com%2fauth%2fdrive%20https%3a%2f%2fwww.googleapis.com%2fauth%2fdrive.photos.readonly%20https%3a%2f%2fwww.googleapis.com%2fauth%2fpeopleapi.readonly\n",
            "\n",
            "Enter your authorization code:\n",
            "··········\n",
            "Mounted at /content/drive/\n"
          ],
          "name": "stdout"
        }
      ]
    },
    {
      "cell_type": "markdown",
      "metadata": {
        "id": "pde_pTyigywK",
        "colab_type": "text"
      },
      "source": [
        "Class definition"
      ]
    },
    {
      "cell_type": "markdown",
      "metadata": {
        "id": "G-odQDJK_js4",
        "colab_type": "text"
      },
      "source": [
        "# TODO :\n",
        "1. Set all default hyperparameters as class atributes to eliminate bloating of all methods.\n",
        "\n",
        "2. Create the comment logging system."
      ]
    },
    {
      "cell_type": "code",
      "metadata": {
        "id": "HQqkgQdAY6qi",
        "colab_type": "code",
        "colab": {}
      },
      "source": [
        "# FINAL :\n",
        "class Segmed(object):\n",
        "  \"\"\"\n",
        "    Deep Learning Model Generator Object.\n",
        "  \"\"\"\n",
        "\n",
        "  # List of needed modules :\n",
        "  import platform,socket,re,uuid,json,psutil # for getSystemInfo method\n",
        "  import os\n",
        "  import matplotlib.pyplot as plt\n",
        "  plt.style.use(\"ggplot\")\n",
        "  import tensorflow as tf\n",
        "  from typing import Tuple, Optional, Union, Dict, Any, NoReturn\n",
        "  # End of needed modules\n",
        "\n",
        "  # Definition of static methods, utility functions logically\n",
        "  # related to the class, but not semantically.\n",
        "  @staticmethod\n",
        "  def assert_isdir(path: str) -> str:\n",
        "    \"\"\" Returns argument `path` if it is a directory, \n",
        "    raises an exception otherwise.   \n",
        "    \"\"\"\n",
        "    if os.path.isdir(path):\n",
        "      return path\n",
        "    else:\n",
        "      raise Exception(f\"Path '{path}' is not a directory.\")\n",
        "  \n",
        "  @staticmethod\n",
        "  def ls(path: str) -> List[str]:\n",
        "    \"\"\" Wrapper for os.listdir(path) \"\"\"\n",
        "    return os.listdir(path)\n",
        "\n",
        "  @staticmethod\n",
        "  def assert_isfile(path: str) -> str:\n",
        "    \"\"\" Docstring \"\"\"\n",
        "    if os.path.isfile(path):\n",
        "      return path\n",
        "    else:\n",
        "      raise Exception(f\"File '{path}' is not a regular file.\")    \n",
        "\n",
        "  @staticmethod\n",
        "  def json_cast(x: Any) -> Union[str,Any]:\n",
        "    \"\"\" ~Verify (via good 'ol duck-typing) if an object is JSON-serialisable~\n",
        "    \n",
        "    Returns :\n",
        "          x,  if parameter `x` is JSON-serialisable, \n",
        "    \n",
        "      str(x), if json.dumps(x) throws an exception.\n",
        "    \"\"\"\n",
        "    if timing.is_jsonable(x):\n",
        "      return x\n",
        "    else:\n",
        "      return str(x)\n",
        "\n",
        "  def _getSystemInfo() -> Dict[str,str]:\n",
        "    \"\"\" Get SystemInfo as a dictionary.\n",
        "    Original code snippet can be found at :\n",
        "    https://stackoverflow.com/questions/3103178/how-to-get-the-system-info-with-python \n",
        "    \"\"\"\n",
        "    try:\n",
        "      info={}\n",
        "      info['platform']=platform.system()\n",
        "      info['platform-release']=platform.release()\n",
        "      info['platform-version']=platform.version()\n",
        "      info['architecture']=platform.machine()\n",
        "      info['hostname']=socket.gethostname()\n",
        "      info['processor']=platform.processor()\n",
        "      info['ram']=str(round(psutil.virtual_memory().total / (1024.0 **3)))+\" GB\"\n",
        "      return info\n",
        "    except Exception as e:\n",
        "      logging.exception(e)\n",
        "\n",
        "  def get_gpu() -> Union[Dict[str,Union[str,float,int]],List[Dict[str,Union[str,float,int]]]]:\n",
        "    \"\"\" \"\"\"\n",
        "    ggpu_dict: Dict[str,Any] = {}\n",
        "    gpus: List[GPUtil.GPUtil.GPU] = GPUtil.getGPUs()\n",
        "\n",
        "    if len(gpus) > 1:\n",
        "      gpu_list: List[Dict[str,Union[str,float,int]]] = []\n",
        "      for gpu in gpus:\n",
        "        gpu_list.append({\n",
        "          \"ID\": gpu.id,\n",
        "          \"Name\": gpu.name,\n",
        "          \"Serial\": gpu.serial,\n",
        "          \"UUID\": gpu.uuid,\n",
        "          \"GPU temp.\": gpu.load*100,\n",
        "          \"GPU util %\": gpu.memoryUtil*100,\n",
        "          \"Memory Total (MB)\": gpu.memoryTotal,\n",
        "          \"Memory used (MB)\": gpu.memoryUsed,\n",
        "          \"Memory Free (MB)\": gpu.memoryFree,\n",
        "          \"Display Mode\": gpu.display_mode,\n",
        "          \"Display Active\": gpu.display_active\n",
        "        })\n",
        "      return gpu_list\n",
        "    elif len(gpus) == 1:\n",
        "      gpu = gpus[0]\n",
        "      return {\n",
        "          \"ID\": gpu.id,\n",
        "          \"Name\": gpu.name,\n",
        "          \"Serial\": gpu.serial,\n",
        "          \"UUID\": gpu.uuid,\n",
        "          \"GPU temp.\": gpu.load*100,\n",
        "          \"GPU util %\": gpu.memoryUtil*100,\n",
        "          \"Memory Total (MB)\": gpu.memoryTotal,\n",
        "          \"Memory used (MB)\": gpu.memoryUsed,\n",
        "          \"Memory Free (MB)\": gpu.memoryFree,\n",
        "          \"Display Mode\": gpu.display_mode,\n",
        "          \"Display Active\": gpu.display_active\n",
        "      }\n",
        "    else:\n",
        "      return {}\n",
        "\n",
        "      \n",
        "  # End of static methods definition.\n",
        "\n",
        "  # Class attributes which will be used if necessary parameters are \n",
        "  # not passed to different methods.\n",
        "  # Decided to use dict literals instead of the constructor because of this :\n",
        "  # \n",
        "  __data_gen_args: Dict[str,Any] = {\n",
        "      \"rescale\": 1.0 / 255.0,\n",
        "      \"validation_split\": 0.2,\n",
        "      \"dtype\": tf.float32,\n",
        "  }\n",
        "\n",
        "  __hyper_params: Dict[str,Any] = {\n",
        "      \"batch_size\": 8,\n",
        "      \"epochs\": 10,\n",
        "      \"steps_per_epoch\": 10\n",
        "  }\n",
        "\n",
        "  __model_checkpoint_kw: Dict[str,Any] = {\n",
        "      \"monitor\": \"val_jaccard_index\", \n",
        "      \"verbose\": 1, \n",
        "      \"save_best_only\": True, \n",
        "      \"mode\": \"max\"\n",
        "  }\n",
        "\n",
        "  __compiling_kw: Dict[str,Any] = {\n",
        "      \"loss\": tf.keras.losses.binary_crossentropy,\n",
        "      \"optimizer\": tf.keras.optimizers.Adam(),\n",
        "      \"metrics\": [\n",
        "        mts.jaccard_index, mts.dice_coef, \n",
        "        mts.O_Rate, mts.U_Rate, mts.Err_rate\n",
        "      ]\n",
        "  }\n",
        "  # End of class attributes.\n",
        "\n",
        "  def __init__(\n",
        "      self, \n",
        "      model: tf.keras.Model,\n",
        "      name: str,\n",
        "      base_dir: str,\n",
        "      data_path: str,\n",
        "      author: str,\n",
        "      seed: int = 1\n",
        "  ) -> None:\n",
        "    # Set instance attributes :\n",
        "    ## Identifiers :\n",
        "    self._model: tf.keras.Model = model\n",
        "    self.__datetime: datetime.datetime = datetime.datetime.utcnow()\n",
        "    self._date: str = str(self.__datetime).split(\".\")[0]\n",
        "    self._name: str = name\n",
        "    self._author: str = author\n",
        "    ## Directories :\n",
        "    ### Model :\n",
        "    self._base_dir: str = self.assert_isdir(base_dir)\n",
        "    self._instance_dir: str = os.path.join(self._base_dir, self.name)\n",
        "    ### Data :\n",
        "    self._data_path: str = self.assert_isdir(data_path)\n",
        "    self._img_path: str = os.path.join(self._data_path, 'imgs')\n",
        "    self._msks_path: str = os.path.join(self._data_path, 'msks')\n",
        "    \n",
        "    self.__seed: int = seed\n",
        "\n",
        "    ## Create model directory :\n",
        "    try:\n",
        "      os.mkdir(self._instance_dir)\n",
        "    except:\n",
        "      raise Exception(f\"Could not create directory `{self._instance_dir}` at `{self._base_dir}`\")\n",
        "\n",
        "    try:\n",
        "      def __custom_print_to_summary_file(x):\n",
        "        with open(self.summary_file, 'a') as f:\n",
        "          f.write(f\"{x}\\n\")\n",
        "      self._model.summary(print_fn=__custom_print_to_summary_file)\n",
        "    except:\n",
        "      raise Exception(f\"Could not dump `model.summary()` output to {self.summary_file}\")\n",
        "    \n",
        "    ## Create an instance decorator, specifying _log_file_path\n",
        "    self.__logged: Callable = timing.time_log(self.log_file)\n",
        "    \n",
        "    ## Decorate __compile method\n",
        "    self.__compile: Callable = self.__logged(self.__compile)\n",
        "\n",
        "    ## Log initial info to comment file :\n",
        "    _initial_message = f\"\\n{self._author}, running '{self._name}' model instantiated at {self._date}\"\n",
        "    _initial_message += f\" on system with specs :\\n {json.dumps(self.system_info)}\\n\\n\"\n",
        "    with open(self.comment_file, \"w\") as f:\n",
        "      f.write(_initial_message)\n",
        "\n",
        "\n",
        "  def __getitem__(self, key):\n",
        "    try:\n",
        "      return getattr(self, f\"_{key}\")\n",
        "    except AttributeError:\n",
        "      print(f\"Attribute `{key}` is not yet defined for this object (or does not exist)\")\n",
        "      print(f\"Defined attributes are: {self.keys}\")\n",
        "\n",
        "\n",
        "  @property\n",
        "  def methods(self) -> List[str]:\n",
        "    \"\"\" \"\"\"\n",
        "    return [func for func in dir(self) if callable(getattr(self, func))]\n",
        "\n",
        "\n",
        "  @property\n",
        "  def keys(self) -> List[Any]:\n",
        "    \"\"\" Get the keys (as a list) that can be used to index the Segmed object \"\"\"\n",
        "    return sorted(list(map(lambda x: x[1:], self.__dict__.keys())))\n",
        "\n",
        "\n",
        "  @property\n",
        "  def items(self) -> Dict[str,Any]:\n",
        "    \"\"\" Get the items `{ key: value }` pairs oh the class. \"\"\"\n",
        "    return { key: self[key] for key in self.keys }\n",
        "\n",
        "\n",
        "  @property\n",
        "  def values(self) -> List[Any]:\n",
        "    \"\"\" Get the values, i.e. object properties. \"\"\" \n",
        "    return [ self[key] for key in self.keys ]\n",
        "\n",
        "\n",
        "  @property\n",
        "  def name(self) -> str:\n",
        "    \"\"\" Name of the model, composed of: name-(author)-(date) \"\"\"\n",
        "    return f\"{self._name}-({self._author})-({self._date})\"\n",
        "\n",
        "\n",
        "  @property\n",
        "  def snapshot_file(self) -> str:\n",
        "    \"\"\" Name (full path) of the model snapshot file (model weights, .h5 format) \"\"\"\n",
        "    return os.path.join(self._instance_dir, f\"{self.name}-model.h5\")\n",
        "\n",
        "\n",
        "  @property\n",
        "  def history_file(self) -> str:\n",
        "    \"\"\" Name (full path) of the training history file (.csv format) \"\"\"\n",
        "    return os.path.join(self._instance_dir, f\"{self.name}-history.csv\")\n",
        "\n",
        "\n",
        "  @property\n",
        "  def comment_file(self) -> str:\n",
        "    \"\"\" Name (full path) of the comment file (.txt format) \"\"\"\n",
        "    return os.path.join(self._instance_dir, f\"{self.name}-comments.txt\")\n",
        "\n",
        "\n",
        "  @property\n",
        "  def log_file(self) -> str:\n",
        "    \"\"\" Name (full path) of the log file (.jsonl format) \"\"\"\n",
        "    return os.path.join(self._instance_dir, f\"{self.name}-function_calls.jsonl\")\n",
        "\n",
        "\n",
        "  @property\n",
        "  def summary_file(self) -> str:\n",
        "    \"\"\" Name (full path) of the summary file, \n",
        "    yielded by calling self._model.summary() \n",
        "    (.txt format) \n",
        "    \"\"\"\n",
        "    return os.path.join(self._instance_dir, f\"{self.name}-summary.txt\")\n",
        "\n",
        "\n",
        "  @property\n",
        "  def model_file(self) -> str:\n",
        "    \"\"\" Name (full path) of the description of the model (.json format) \"\"\"\n",
        "    return os.path.join(self._instance_dir, f\"{self.name}-model.json\")\n",
        "\n",
        "\n",
        "  @property\n",
        "  def images_path(self) -> str:\n",
        "    \"\"\" Path where images are stored. \n",
        "    Following the Keras convention it should contain a\n",
        "    directory named `images`.\n",
        "    \"\"\"\n",
        "    return self._img_path\n",
        "\n",
        "\n",
        "  @property\n",
        "  def masks_path(self) -> str:\n",
        "    \"\"\" Path where segmentation masks are stored. \n",
        "    Following the Keras convention it should contain a\n",
        "    directory named `masks`.\n",
        "    \"\"\"\n",
        "    return self._msks_path\n",
        "\n",
        "\n",
        "  @property\n",
        "  def images(self) -> List[str]:\n",
        "    \"\"\" A list of all the images contained in `self.images_path`/images/ \"\"\"\n",
        "    return self.ls(os.path.join(self.images_path, 'images'))\n",
        "\n",
        "\n",
        "  @property\n",
        "  def masks(self) -> List[str]:\n",
        "    \"\"\" A list of all the segmentation masks contained in `self.masks_path`/masks/ \"\"\"\n",
        "    return self.ls(os.path.join(self.masks_path, 'masks'))\n",
        "\n",
        "\n",
        "  @property\n",
        "  def system_info(self) -> Dict[str,str]:\n",
        "    \"\"\" Wrapper for Segmed._getSystemInfo \"\"\"\n",
        "    return Segmed._getSystemInfo()\n",
        "\n",
        "\n",
        "  def create_train_test_generators(\n",
        "      self, \n",
        "      data_gen_args: Optional[Dict[str, Any]] = None,\n",
        "      hyper_params: Optional[Dict[str, Any]] =  None\n",
        "  ) -> NoReturn:\n",
        "    \"\"\" Generate the train/test split. \n",
        "      data_gen_args defaults to the following Dict :\n",
        "        {\n",
        "          \"rescale\": 1.0 / 255.0,\n",
        "          \"validation_split\": 0.2,\n",
        "          \"dtype\": tf.float32,\n",
        "        }\n",
        "    \"\"\"\n",
        "    self._data_gen_args: Dict[str,Any] = data_gen_args or Segmed.__data_gen_args\n",
        "    self._hyper_params:  Dict[str,Any] = hyper_params  or Segmed.__hyper_params\n",
        "\n",
        "    # Crea the training generators with the defined transformations\n",
        "    self.__image_datagen = tf.keras.preprocessing.image.ImageDataGenerator(**self._data_gen_args)\n",
        "    self.__mask_datagen  = tf.keras.preprocessing.image.ImageDataGenerator(**self._data_gen_args)\n",
        "    \n",
        "    # Decoreate the ImageDataGenerator.flow from directory method for logging.\n",
        "    _img_gen = self.__logged(self.__image_datagen.flow_from_directory)\n",
        "    # Take images from directories\n",
        "    self._image_generator_train = _img_gen(\n",
        "        self._img_path,\n",
        "        class_mode=None,\n",
        "        color_mode=\"rgb\",\n",
        "        batch_size=self._hyper_params[\"batch_size\"],\n",
        "        seed=self.__seed,\n",
        "        subset=\"training\",\n",
        "    )\n",
        "    \n",
        "    _msk_gen = self.__logged(self.__mask_datagen.flow_from_directory)\n",
        "    self._mask_generator_train = _msk_gen(\n",
        "        self._msks_path,\n",
        "        class_mode=None,\n",
        "        color_mode=\"grayscale\",\n",
        "        batch_size=self._hyper_params[\"batch_size\"],\n",
        "        seed=self.__seed,\n",
        "        subset=\"training\",\n",
        "    )\n",
        "    # Combine both generators\n",
        "    # This needs to be a generator of generators, see the following\n",
        "    # https://github.com/tensorflow/tensorflow/issues/32357\n",
        "    self._train_generator = (\n",
        "        pair for pair in zip(self._image_generator_train, self._mask_generator_train)\n",
        "    )\n",
        "\n",
        "    # And now the validation generators\n",
        "    self._image_generator_val = _img_gen(\n",
        "        self._img_path,\n",
        "        class_mode=None,\n",
        "        color_mode=\"rgb\",\n",
        "        batch_size=self._hyper_params[\"batch_size\"],\n",
        "        seed=self.__seed,\n",
        "        subset=\"validation\",\n",
        "    )\n",
        "\n",
        "    self._mask_generator_val = _msk_gen(\n",
        "        self._msks_path,\n",
        "        class_mode=None,\n",
        "        color_mode=\"grayscale\",\n",
        "        batch_size=self._hyper_params[\"batch_size\"],\n",
        "        seed=self.__seed,\n",
        "        subset=\"validation\",\n",
        "    )\n",
        "\n",
        "    # Combine both generators, with same issue as before\n",
        "    self._val_generator = (\n",
        "        pair for pair in zip(self._image_generator_val, self._mask_generator_val)\n",
        "    )\n",
        "\n",
        "\n",
        "  def show_img_and_mask(self, n: int = 5) -> NoReturn:\n",
        "    \"\"\" Show `n` images and segmentation maps, side by side\n",
        "    to verify that they are batched together.\n",
        "    \"\"\"\n",
        "    for i, pair in zip(range(n), self._train_generator):\n",
        "      plt.figure(0)\n",
        "      plt.subplot(1, 2, 1)\n",
        "      plt.imshow(pair[0][0, ...])\n",
        "      plt.subplot(1, 2, 2)\n",
        "      plt.imshow(pair[1][0, ..., 0])\n",
        "      plt.show()\n",
        "\n",
        "    \n",
        "  def create_custom_callback(\n",
        "      self, \n",
        "      model_checkpoint_kw: Optional[Dict[str,Any]] = None\n",
        "  ) -> NoReturn:\n",
        "    \"\"\" Define the checkpoint callback.\n",
        "      Parameters (keyword arguments) used to call \n",
        "      `tf.keras.callbacks.ModelCheckpoint()` can be \n",
        "      specified as a dictionary (parameter `model_checkpoint_kw`).\n",
        "\n",
        "      Parameters:\n",
        "        model_checkpoint_kw : Optional, defaults to:\n",
        "          Dict( \n",
        "            monitor=monitor, \n",
        "            verbose=1, \n",
        "            save_best_only=True, \n",
        "            mode=\"max\"\n",
        "          )\n",
        "    \"\"\"\n",
        "    # Define the checkpoint callback, always maximum mode for custom metrics\n",
        "    self._model_checkpoint_kw: Dict[str,Any] = model_checkpoint_kw or Segmed.__model_checkpoint_kw\n",
        "      \n",
        "    self._checkpoint = tf.keras.callbacks.ModelCheckpoint(\n",
        "        self.snapshot_file, \n",
        "        **self._model_checkpoint_kw\n",
        "    )\n",
        "\n",
        "\n",
        "  def compile(\n",
        "      self,\n",
        "      compiling_kw: Optional[Dict[str,Any]] = None\n",
        "  ) -> NoReturn:\n",
        "    \"\"\" This eventually will be a wrapper \"\"\" \n",
        "\n",
        "    self._compiling_kw: Dict[str,Any] = compiling_kw or Segmed.__compiling_kw \n",
        "    self.__compile(**self._compiling_kw)\n",
        "\n",
        "\n",
        "  def __compile(self, **compiling_kw):\n",
        "    \"\"\" Compile the model with custom params, \n",
        "    creating a log \n",
        "    \"\"\"\n",
        "    self._model.compile(**compiling_kw)\n",
        "\n",
        "\n",
        "  def train(\n",
        "      self, \n",
        "      compiling_kw: Dict[str,Any] = None,\n",
        "      model_checkpoint_kw: Optional[Dict[str,Any]] = None,\n",
        "      data_gen_args: Optional[Dict[str, Any]] = None,\n",
        "      hyper_params: Optional[Dict[str, Any]] =  None\n",
        "  ) -> NoReturn:\n",
        "    \"\"\" Docstring \"\"\"\n",
        "\n",
        "    self._compiling_kw:  Dict[str,Any] = compiling_kw  or Segmed.__compiling_kw\n",
        "    self._data_gen_args: Dict[str,Any] = data_gen_args or Segmed.__data_gen_args\n",
        "    self._hyper_params:  Dict[str,Any] = hyper_params  or Segmed.__hyper_params \n",
        "    self._model_checkpoint_kw: Dict[str,Any] = model_checkpoint_kw or Segmed.__model_checkpoint_kw\n",
        "\n",
        "    self.compile(compiling_kw=compiling_kw)\n",
        "    self.create_custom_callback(model_checkpoint_kw=model_checkpoint_kw)\n",
        "    self.create_train_test_generators(data_gen_args=data_gen_args, hyper_params=hyper_params)\n",
        "    \n",
        "    # Decorate the model's fit generator to log parameters and execution time :\n",
        "    _fit_generator = self.__logged(self._model.fit_generator)\n",
        "\n",
        "    # Create history \n",
        "    self._history = _fit_generator(\n",
        "        self._train_generator,\n",
        "        callbacks=[self._checkpoint],\n",
        "        verbose=1,\n",
        "        validation_data=self._val_generator,\n",
        "        validation_steps=self._hyper_params[\"steps_per_epoch\"],\n",
        "        steps_per_epoch=self._hyper_params[\"steps_per_epoch\"],\n",
        "        epochs=self._hyper_params[\"epochs\"],\n",
        "        use_multiprocessing=True\n",
        "    )\n",
        "\n",
        "    try:\n",
        "      self._metrics_history = pd.DataFrame(self._history.history)\n",
        "      self._metrics_history.to_csv(self.history_file)\n",
        "      print(f\"History saved to {self.history_file}\")\n",
        "    except:\n",
        "      print(f\"Could not open file : {self.history_file}\")\n",
        "\n",
        "\n",
        "  def comment(self, cmt: str) -> NoReturn:\n",
        "    \"\"\" Comment something to self.comment_file, logging the Author and UTCdatetime \"\"\"\n",
        "    _now = str(datetime.datetime.utcnow()).split(\".\")[0]\n",
        "    _cmt = f\"\\n{self._author} @ {_now} : \\n\\t{cmt}\"\n",
        "    with open(self.comment_file, 'a') as f:\n",
        "      f.write(f\"{_cmt} \\n\")\n"
      ],
      "execution_count": 0,
      "outputs": []
    },
    {
      "cell_type": "code",
      "metadata": {
        "id": "Nls_wv6HNqTV",
        "colab_type": "code",
        "colab": {}
      },
      "source": [
        "dataset_paths = {\n",
        "    \"isbi\": \"drive/My Drive/DCI-Net/Colab_data/ISBI_neural/structured\", # Images as tiff volumes\n",
        "    \"colonoscopy\": \"drive/My Drive/DCI-Net/Colab_data/colonoscopy\",     # Full original\n",
        "    \"dermoscopy80\": \"drive/My Drive/DCI-Net/Colab_data/dermoscopy80\",   # reduced to 80 images\n",
        "    \"dermoscopy150\": \"drive/My Drive/DCI-Net/Colab_data/dermoscopy150\", # reduced to 150, randomly \n",
        "                                                                          # sampled images.\n",
        "    \"chinese1\": \"drive/My Drive/DCI-Net/Colab_data/Dataset 2\"           # Chinese dataset, Abdiel's\n",
        "}"
      ],
      "execution_count": 0,
      "outputs": []
    },
    {
      "cell_type": "code",
      "metadata": {
        "id": "FsF_v4RXbmMD",
        "colab_type": "code",
        "colab": {}
      },
      "source": [
        "optimizers = {\n",
        "    \"chinese\": tf.keras.optimizers.SGD(learning_rate=0.06, momentum=0.2, nesterov=False),\n",
        "    \"Original Adam\": tf.keras.optimizers.Adam(beta_1=0.9, beta_2=0.999, epsilon=10e-8)\n",
        "}"
      ],
      "execution_count": 0,
      "outputs": []
    },
    {
      "cell_type": "code",
      "metadata": {
        "id": "VWHEkWNdkhG5",
        "colab_type": "code",
        "colab": {
          "base_uri": "https://localhost:8080/",
          "height": 141
        },
        "outputId": "42200cc7-1fad-492f-b33d-6f5010f572a1"
      },
      "source": [
        "optimizers[\"Original Adam\"].get_config()"
      ],
      "execution_count": 23,
      "outputs": [
        {
          "output_type": "execute_result",
          "data": {
            "text/plain": [
              "{'amsgrad': False,\n",
              " 'beta_1': 0.9,\n",
              " 'beta_2': 0.999,\n",
              " 'decay': 0.0,\n",
              " 'epsilon': 1e-07,\n",
              " 'learning_rate': 0.001,\n",
              " 'name': 'Adam'}"
            ]
          },
          "metadata": {
            "tags": []
          },
          "execution_count": 23
        }
      ]
    },
    {
      "cell_type": "code",
      "metadata": {
        "id": "yBC-Y2kHz8Y5",
        "colab_type": "code",
        "colab": {}
      },
      "source": [
        "my_compiling_kw = {\n",
        "    'optimizer': optimizers[\"Original Adam\"],\n",
        "    'loss': 'binary_crossentropy',\n",
        "    'metrics': [\n",
        "      mts.jaccard_index, mts.dice_coef, \n",
        "      mts.O_Rate, mts.U_Rate, mts.Err_rate \n",
        "    ]\n",
        "}"
      ],
      "execution_count": 0,
      "outputs": []
    },
    {
      "cell_type": "code",
      "metadata": {
        "id": "ktT7280909G3",
        "colab_type": "code",
        "colab": {}
      },
      "source": [
        "my_hyper_params = {\n",
        "    'batch_size': 25,\n",
        "    'epochs': 150,\n",
        "    'steps_per_epoch': 6\n",
        "}"
      ],
      "execution_count": 0,
      "outputs": []
    },
    {
      "cell_type": "code",
      "metadata": {
        "id": "Jr4D7CyxlC3V",
        "colab_type": "code",
        "colab": {
          "base_uri": "https://localhost:8080/",
          "height": 90
        },
        "outputId": "86e77480-4898-4287-c688-32f517a3ee12"
      },
      "source": [
        "models = {\n",
        "    \"Unet\": unet(),\n",
        "    \"MultiResUNet Edwin\": mru.MultiResUnet(),\n",
        "    \"MultiResUNet Gustavo\": mru2.MultiResUNet(),\n",
        "    \"MultiResUNet Original\": mru3.MultiResUnet()\n",
        "}"
      ],
      "execution_count": 26,
      "outputs": [
        {
          "output_type": "stream",
          "text": [
            "WARNING:tensorflow:From /usr/local/lib/python3.6/dist-packages/tensorflow_core/python/ops/resource_variable_ops.py:1630: calling BaseResourceVariable.__init__ (from tensorflow.python.ops.resource_variable_ops) with constraint is deprecated and will be removed in a future version.\n",
            "Instructions for updating:\n",
            "If using Keras pass *_constraint arguments to layers.\n"
          ],
          "name": "stdout"
        }
      ]
    },
    {
      "cell_type": "code",
      "metadata": {
        "id": "RrQz9DmqnUJT",
        "colab_type": "code",
        "colab": {
          "base_uri": "https://localhost:8080/",
          "height": 35
        },
        "outputId": "fd76a015-5999-4579-c350-2dd9a7dd2f18"
      },
      "source": [
        "models[\"MultiResUNet Gustavo\"]"
      ],
      "execution_count": 27,
      "outputs": [
        {
          "output_type": "execute_result",
          "data": {
            "text/plain": [
              "<tensorflow.python.keras.engine.training.Model at 0x7fdbf87cb5f8>"
            ]
          },
          "metadata": {
            "tags": []
          },
          "execution_count": 27
        }
      ]
    },
    {
      "cell_type": "code",
      "metadata": {
        "id": "BAd1kHWfGn-f",
        "colab_type": "code",
        "colab": {
          "base_uri": "https://localhost:8080/",
          "height": 35
        },
        "outputId": "0fac2f0c-a4d3-4f7b-aee5-07f8d7e5ffb1"
      },
      "source": [
        "models.keys()"
      ],
      "execution_count": 29,
      "outputs": [
        {
          "output_type": "execute_result",
          "data": {
            "text/plain": [
              "dict_keys(['Unet', 'MultiResUNet Edwin', 'MultiResUNet Gustavo', 'MultiResUNet Original'])"
            ]
          },
          "metadata": {
            "tags": []
          },
          "execution_count": 29
        }
      ]
    },
    {
      "cell_type": "code",
      "metadata": {
        "id": "KfudBFSsHxM0",
        "colab_type": "code",
        "colab": {
          "base_uri": "https://localhost:8080/",
          "height": 35
        },
        "outputId": "dc8658d9-c560-4a7f-cedb-eb6a82f8945a"
      },
      "source": [
        "_model_name = list(models.keys())[2]\n",
        "_model_name"
      ],
      "execution_count": 30,
      "outputs": [
        {
          "output_type": "execute_result",
          "data": {
            "text/plain": [
              "'MultiResUNet Gustavo'"
            ]
          },
          "metadata": {
            "tags": []
          },
          "execution_count": 30
        }
      ]
    },
    {
      "cell_type": "code",
      "metadata": {
        "id": "Lq4Bfdz0WrZG",
        "colab_type": "code",
        "colab": {
          "base_uri": "https://localhost:8080/",
          "height": 212
        },
        "outputId": "ab23cc4f-3085-4d42-cad8-e11803824125"
      },
      "source": [
        "Segmed.get_gpu()"
      ],
      "execution_count": 31,
      "outputs": [
        {
          "output_type": "execute_result",
          "data": {
            "text/plain": [
              "{'Display Active': 'Disabled',\n",
              " 'Display Mode': 'Enabled',\n",
              " 'GPU temp.': 0.0,\n",
              " 'GPU util %': 0.0,\n",
              " 'ID': 0,\n",
              " 'Memory Free (MB)': 16280.0,\n",
              " 'Memory Total (MB)': 16280.0,\n",
              " 'Memory used (MB)': 0.0,\n",
              " 'Name': 'Tesla P100-PCIE-16GB',\n",
              " 'Serial': '0324716027585',\n",
              " 'UUID': 'GPU-d8f725ef-edb5-fb79-dd7f-c07ed571d147'}"
            ]
          },
          "metadata": {
            "tags": []
          },
          "execution_count": 31
        }
      ]
    },
    {
      "cell_type": "code",
      "metadata": {
        "id": "vMLn73P3Gb0A",
        "colab_type": "code",
        "colab": {}
      },
      "source": [
        "x = Segmed(\n",
        "    model=models[_model_name],  # Instantiated from segmed.models\n",
        "    name=_model_name,           # Self-explanatory\n",
        "    base_dir=os.path.join(root_dir, \"SegMedLogs\"), # Where to create the directory\n",
        "                                                   # that will contain the logs.\n",
        "    data_path=dataset_paths[\"chinese1\"], # See dataset_paths to analise the dataset.\n",
        "    author='Gustavo Magaña'\n",
        ") "
      ],
      "execution_count": 0,
      "outputs": []
    },
    {
      "cell_type": "code",
      "metadata": {
        "id": "5uwY3DUBacpw",
        "colab_type": "code",
        "colab": {}
      },
      "source": [
        "x.comment(\" \")"
      ],
      "execution_count": 0,
      "outputs": []
    },
    {
      "cell_type": "code",
      "metadata": {
        "id": "BzHO4Ov733e8",
        "colab_type": "code",
        "colab": {}
      },
      "source": [
        "x.comment(\" \")"
      ],
      "execution_count": 0,
      "outputs": []
    },
    {
      "cell_type": "code",
      "metadata": {
        "id": "ejkhyPRTbvHA",
        "colab_type": "code",
        "outputId": "a7d386ec-1818-4ac6-98cb-2750e904d1ad",
        "colab": {
          "base_uri": "https://localhost:8080/",
          "height": 709
        }
      },
      "source": [
        "x.train(compiling_kw=my_compiling_kw, hyper_params=my_hyper_params)"
      ],
      "execution_count": 0,
      "outputs": [
        {
          "output_type": "stream",
          "text": [
            "WARNING:tensorflow:From /usr/local/lib/python3.6/dist-packages/tensorflow_core/python/ops/nn_impl.py:183: where (from tensorflow.python.ops.array_ops) is deprecated and will be removed in a future version.\n",
            "Instructions for updating:\n",
            "Use tf.where in 2.0, which has the same broadcast rule as np.where\n",
            "Found 80 images belonging to 1 classes.\n",
            "Found 80 images belonging to 1 classes.\n",
            "Found 20 images belonging to 1 classes.\n",
            "Found 20 images belonging to 1 classes.\n",
            "Epoch 1/1000\n"
          ],
          "name": "stdout"
        },
        {
          "output_type": "error",
          "ename": "ResourceExhaustedError",
          "evalue": "ignored",
          "traceback": [
            "\u001b[0;31m---------------------------------------------------------------------------\u001b[0m",
            "\u001b[0;31mResourceExhaustedError\u001b[0m                    Traceback (most recent call last)",
            "\u001b[0;32m<ipython-input-14-2e43234de6b3>\u001b[0m in \u001b[0;36m<module>\u001b[0;34m()\u001b[0m\n\u001b[0;32m----> 1\u001b[0;31m \u001b[0mx\u001b[0m\u001b[0;34m.\u001b[0m\u001b[0mtrain\u001b[0m\u001b[0;34m(\u001b[0m\u001b[0mcompiling_kw\u001b[0m\u001b[0;34m=\u001b[0m\u001b[0mmy_compiling_kw\u001b[0m\u001b[0;34m,\u001b[0m \u001b[0mhyper_params\u001b[0m\u001b[0;34m=\u001b[0m\u001b[0mmy_hyper_params\u001b[0m\u001b[0;34m)\u001b[0m\u001b[0;34m\u001b[0m\u001b[0;34m\u001b[0m\u001b[0m\n\u001b[0m",
            "\u001b[0;32m<ipython-input-6-89ab2d361a74>\u001b[0m in \u001b[0;36mtrain\u001b[0;34m(self, compiling_kw, model_checkpoint_kw, data_gen_args, hyper_params)\u001b[0m\n\u001b[1;32m    384\u001b[0m         \u001b[0msteps_per_epoch\u001b[0m\u001b[0;34m=\u001b[0m\u001b[0mself\u001b[0m\u001b[0;34m.\u001b[0m\u001b[0m_hyper_params\u001b[0m\u001b[0;34m[\u001b[0m\u001b[0;34m\"steps_per_epoch\"\u001b[0m\u001b[0;34m]\u001b[0m\u001b[0;34m,\u001b[0m\u001b[0;34m\u001b[0m\u001b[0;34m\u001b[0m\u001b[0m\n\u001b[1;32m    385\u001b[0m         \u001b[0mepochs\u001b[0m\u001b[0;34m=\u001b[0m\u001b[0mself\u001b[0m\u001b[0;34m.\u001b[0m\u001b[0m_hyper_params\u001b[0m\u001b[0;34m[\u001b[0m\u001b[0;34m\"epochs\"\u001b[0m\u001b[0;34m]\u001b[0m\u001b[0;34m,\u001b[0m\u001b[0;34m\u001b[0m\u001b[0;34m\u001b[0m\u001b[0m\n\u001b[0;32m--> 386\u001b[0;31m         \u001b[0muse_multiprocessing\u001b[0m\u001b[0;34m=\u001b[0m\u001b[0;32mTrue\u001b[0m\u001b[0;34m\u001b[0m\u001b[0;34m\u001b[0m\u001b[0m\n\u001b[0m\u001b[1;32m    387\u001b[0m     )\n\u001b[1;32m    388\u001b[0m \u001b[0;34m\u001b[0m\u001b[0m\n",
            "\u001b[0;32m/usr/local/lib/python3.6/dist-packages/segnet/utils/timing.py\u001b[0m in \u001b[0;36mwrap\u001b[0;34m(*args, **kw)\u001b[0m\n\u001b[1;32m     64\u001b[0m         \u001b[0;32mdef\u001b[0m \u001b[0mwrap\u001b[0m\u001b[0;34m(\u001b[0m\u001b[0;34m*\u001b[0m\u001b[0margs\u001b[0m\u001b[0;34m,\u001b[0m \u001b[0;34m**\u001b[0m\u001b[0mkw\u001b[0m\u001b[0;34m)\u001b[0m\u001b[0;34m:\u001b[0m\u001b[0;34m\u001b[0m\u001b[0;34m\u001b[0m\u001b[0m\n\u001b[1;32m     65\u001b[0m             \u001b[0mts\u001b[0m \u001b[0;34m=\u001b[0m \u001b[0mtime\u001b[0m\u001b[0;34m(\u001b[0m\u001b[0;34m)\u001b[0m\u001b[0;34m\u001b[0m\u001b[0;34m\u001b[0m\u001b[0m\n\u001b[0;32m---> 66\u001b[0;31m             \u001b[0mresult\u001b[0m \u001b[0;34m=\u001b[0m \u001b[0mf\u001b[0m\u001b[0;34m(\u001b[0m\u001b[0;34m*\u001b[0m\u001b[0margs\u001b[0m\u001b[0;34m,\u001b[0m \u001b[0;34m**\u001b[0m\u001b[0mkw\u001b[0m\u001b[0;34m)\u001b[0m\u001b[0;34m\u001b[0m\u001b[0;34m\u001b[0m\u001b[0m\n\u001b[0m\u001b[1;32m     67\u001b[0m             \u001b[0mte\u001b[0m \u001b[0;34m=\u001b[0m \u001b[0mtime\u001b[0m\u001b[0;34m(\u001b[0m\u001b[0;34m)\u001b[0m\u001b[0;34m\u001b[0m\u001b[0;34m\u001b[0m\u001b[0m\n\u001b[1;32m     68\u001b[0m             \u001b[0mexec_time\u001b[0m \u001b[0;34m=\u001b[0m \u001b[0mte\u001b[0m \u001b[0;34m-\u001b[0m \u001b[0mts\u001b[0m\u001b[0;34m\u001b[0m\u001b[0;34m\u001b[0m\u001b[0m\n",
            "\u001b[0;32m/usr/local/lib/python3.6/dist-packages/tensorflow_core/python/keras/engine/training.py\u001b[0m in \u001b[0;36mfit_generator\u001b[0;34m(self, generator, steps_per_epoch, epochs, verbose, callbacks, validation_data, validation_steps, validation_freq, class_weight, max_queue_size, workers, use_multiprocessing, shuffle, initial_epoch)\u001b[0m\n\u001b[1;32m   1294\u001b[0m         \u001b[0mshuffle\u001b[0m\u001b[0;34m=\u001b[0m\u001b[0mshuffle\u001b[0m\u001b[0;34m,\u001b[0m\u001b[0;34m\u001b[0m\u001b[0;34m\u001b[0m\u001b[0m\n\u001b[1;32m   1295\u001b[0m         \u001b[0minitial_epoch\u001b[0m\u001b[0;34m=\u001b[0m\u001b[0minitial_epoch\u001b[0m\u001b[0;34m,\u001b[0m\u001b[0;34m\u001b[0m\u001b[0;34m\u001b[0m\u001b[0m\n\u001b[0;32m-> 1296\u001b[0;31m         steps_name='steps_per_epoch')\n\u001b[0m\u001b[1;32m   1297\u001b[0m \u001b[0;34m\u001b[0m\u001b[0m\n\u001b[1;32m   1298\u001b[0m   def evaluate_generator(self,\n",
            "\u001b[0;32m/usr/local/lib/python3.6/dist-packages/tensorflow_core/python/keras/engine/training_generator.py\u001b[0m in \u001b[0;36mmodel_iteration\u001b[0;34m(model, data, steps_per_epoch, epochs, verbose, callbacks, validation_data, validation_steps, validation_freq, class_weight, max_queue_size, workers, use_multiprocessing, shuffle, initial_epoch, mode, batch_size, steps_name, **kwargs)\u001b[0m\n\u001b[1;32m    263\u001b[0m \u001b[0;34m\u001b[0m\u001b[0m\n\u001b[1;32m    264\u001b[0m       \u001b[0mis_deferred\u001b[0m \u001b[0;34m=\u001b[0m \u001b[0;32mnot\u001b[0m \u001b[0mmodel\u001b[0m\u001b[0;34m.\u001b[0m\u001b[0m_is_compiled\u001b[0m\u001b[0;34m\u001b[0m\u001b[0;34m\u001b[0m\u001b[0m\n\u001b[0;32m--> 265\u001b[0;31m       \u001b[0mbatch_outs\u001b[0m \u001b[0;34m=\u001b[0m \u001b[0mbatch_function\u001b[0m\u001b[0;34m(\u001b[0m\u001b[0;34m*\u001b[0m\u001b[0mbatch_data\u001b[0m\u001b[0;34m)\u001b[0m\u001b[0;34m\u001b[0m\u001b[0;34m\u001b[0m\u001b[0m\n\u001b[0m\u001b[1;32m    266\u001b[0m       \u001b[0;32mif\u001b[0m \u001b[0;32mnot\u001b[0m \u001b[0misinstance\u001b[0m\u001b[0;34m(\u001b[0m\u001b[0mbatch_outs\u001b[0m\u001b[0;34m,\u001b[0m \u001b[0mlist\u001b[0m\u001b[0;34m)\u001b[0m\u001b[0;34m:\u001b[0m\u001b[0;34m\u001b[0m\u001b[0;34m\u001b[0m\u001b[0m\n\u001b[1;32m    267\u001b[0m         \u001b[0mbatch_outs\u001b[0m \u001b[0;34m=\u001b[0m \u001b[0;34m[\u001b[0m\u001b[0mbatch_outs\u001b[0m\u001b[0;34m]\u001b[0m\u001b[0;34m\u001b[0m\u001b[0;34m\u001b[0m\u001b[0m\n",
            "\u001b[0;32m/usr/local/lib/python3.6/dist-packages/tensorflow_core/python/keras/engine/training.py\u001b[0m in \u001b[0;36mtrain_on_batch\u001b[0;34m(self, x, y, sample_weight, class_weight, reset_metrics)\u001b[0m\n\u001b[1;32m   1015\u001b[0m       \u001b[0mself\u001b[0m\u001b[0;34m.\u001b[0m\u001b[0m_update_sample_weight_modes\u001b[0m\u001b[0;34m(\u001b[0m\u001b[0msample_weights\u001b[0m\u001b[0;34m=\u001b[0m\u001b[0msample_weights\u001b[0m\u001b[0;34m)\u001b[0m\u001b[0;34m\u001b[0m\u001b[0;34m\u001b[0m\u001b[0m\n\u001b[1;32m   1016\u001b[0m       \u001b[0mself\u001b[0m\u001b[0;34m.\u001b[0m\u001b[0m_make_train_function\u001b[0m\u001b[0;34m(\u001b[0m\u001b[0;34m)\u001b[0m\u001b[0;34m\u001b[0m\u001b[0;34m\u001b[0m\u001b[0m\n\u001b[0;32m-> 1017\u001b[0;31m       \u001b[0moutputs\u001b[0m \u001b[0;34m=\u001b[0m \u001b[0mself\u001b[0m\u001b[0;34m.\u001b[0m\u001b[0mtrain_function\u001b[0m\u001b[0;34m(\u001b[0m\u001b[0mins\u001b[0m\u001b[0;34m)\u001b[0m  \u001b[0;31m# pylint: disable=not-callable\u001b[0m\u001b[0;34m\u001b[0m\u001b[0;34m\u001b[0m\u001b[0m\n\u001b[0m\u001b[1;32m   1018\u001b[0m \u001b[0;34m\u001b[0m\u001b[0m\n\u001b[1;32m   1019\u001b[0m     \u001b[0;32mif\u001b[0m \u001b[0mreset_metrics\u001b[0m\u001b[0;34m:\u001b[0m\u001b[0;34m\u001b[0m\u001b[0;34m\u001b[0m\u001b[0m\n",
            "\u001b[0;32m/usr/local/lib/python3.6/dist-packages/tensorflow_core/python/keras/backend.py\u001b[0m in \u001b[0;36m__call__\u001b[0;34m(self, inputs)\u001b[0m\n\u001b[1;32m   3474\u001b[0m \u001b[0;34m\u001b[0m\u001b[0m\n\u001b[1;32m   3475\u001b[0m     fetched = self._callable_fn(*array_vals,\n\u001b[0;32m-> 3476\u001b[0;31m                                 run_metadata=self.run_metadata)\n\u001b[0m\u001b[1;32m   3477\u001b[0m     \u001b[0mself\u001b[0m\u001b[0;34m.\u001b[0m\u001b[0m_call_fetch_callbacks\u001b[0m\u001b[0;34m(\u001b[0m\u001b[0mfetched\u001b[0m\u001b[0;34m[\u001b[0m\u001b[0;34m-\u001b[0m\u001b[0mlen\u001b[0m\u001b[0;34m(\u001b[0m\u001b[0mself\u001b[0m\u001b[0;34m.\u001b[0m\u001b[0m_fetches\u001b[0m\u001b[0;34m)\u001b[0m\u001b[0;34m:\u001b[0m\u001b[0;34m]\u001b[0m\u001b[0;34m)\u001b[0m\u001b[0;34m\u001b[0m\u001b[0;34m\u001b[0m\u001b[0m\n\u001b[1;32m   3478\u001b[0m     output_structure = nest.pack_sequence_as(\n",
            "\u001b[0;32m/usr/local/lib/python3.6/dist-packages/tensorflow_core/python/client/session.py\u001b[0m in \u001b[0;36m__call__\u001b[0;34m(self, *args, **kwargs)\u001b[0m\n\u001b[1;32m   1470\u001b[0m         ret = tf_session.TF_SessionRunCallable(self._session._session,\n\u001b[1;32m   1471\u001b[0m                                                \u001b[0mself\u001b[0m\u001b[0;34m.\u001b[0m\u001b[0m_handle\u001b[0m\u001b[0;34m,\u001b[0m \u001b[0margs\u001b[0m\u001b[0;34m,\u001b[0m\u001b[0;34m\u001b[0m\u001b[0;34m\u001b[0m\u001b[0m\n\u001b[0;32m-> 1472\u001b[0;31m                                                run_metadata_ptr)\n\u001b[0m\u001b[1;32m   1473\u001b[0m         \u001b[0;32mif\u001b[0m \u001b[0mrun_metadata\u001b[0m\u001b[0;34m:\u001b[0m\u001b[0;34m\u001b[0m\u001b[0;34m\u001b[0m\u001b[0m\n\u001b[1;32m   1474\u001b[0m           \u001b[0mproto_data\u001b[0m \u001b[0;34m=\u001b[0m \u001b[0mtf_session\u001b[0m\u001b[0;34m.\u001b[0m\u001b[0mTF_GetBuffer\u001b[0m\u001b[0;34m(\u001b[0m\u001b[0mrun_metadata_ptr\u001b[0m\u001b[0;34m)\u001b[0m\u001b[0;34m\u001b[0m\u001b[0;34m\u001b[0m\u001b[0m\n",
            "\u001b[0;31mResourceExhaustedError\u001b[0m: 2 root error(s) found.\n  (0) Resource exhausted: OOM when allocating tensor with shape[25,64,128,128] and type float on /job:localhost/replica:0/task:0/device:GPU:0 by allocator GPU_0_bfc\n\t [[{{node training/SGD/gradients/gradients/zeros_136}}]]\nHint: If you want to see a list of allocated tensors when OOM happens, add report_tensor_allocations_upon_oom to RunOptions for current allocation info.\n\n\t [[loss/mul/_931]]\nHint: If you want to see a list of allocated tensors when OOM happens, add report_tensor_allocations_upon_oom to RunOptions for current allocation info.\n\n  (1) Resource exhausted: OOM when allocating tensor with shape[25,64,128,128] and type float on /job:localhost/replica:0/task:0/device:GPU:0 by allocator GPU_0_bfc\n\t [[{{node training/SGD/gradients/gradients/zeros_136}}]]\nHint: If you want to see a list of allocated tensors when OOM happens, add report_tensor_allocations_upon_oom to RunOptions for current allocation info.\n\n0 successful operations.\n0 derived errors ignored."
          ]
        }
      ]
    },
    {
      "cell_type": "code",
      "metadata": {
        "id": "abAusnL6ajtW",
        "colab_type": "code",
        "outputId": "af60676c-0916-42fd-e4e9-d56ce8c2636c",
        "colab": {
          "base_uri": "https://localhost:8080/",
          "height": 88
        }
      },
      "source": [
        "x.create_train_test_generators()"
      ],
      "execution_count": 0,
      "outputs": [
        {
          "output_type": "stream",
          "text": [
            "Found 64 images belonging to 1 classes.\n",
            "Found 64 images belonging to 1 classes.\n",
            "Found 16 images belonging to 1 classes.\n",
            "Found 16 images belonging to 1 classes.\n"
          ],
          "name": "stdout"
        }
      ]
    },
    {
      "cell_type": "code",
      "metadata": {
        "id": "dsoe4Y65HMao",
        "colab_type": "code",
        "colab": {}
      },
      "source": [
        "from types import FunctionType"
      ],
      "execution_count": 0,
      "outputs": []
    },
    {
      "cell_type": "code",
      "metadata": {
        "id": "2XgmKdeXH33R",
        "colab_type": "code",
        "outputId": "451584ea-448d-49fc-c0a6-97d01ba373cf",
        "colab": {
          "base_uri": "https://localhost:8080/",
          "height": 55
        }
      },
      "source": [
        "x.__dict__.items()"
      ],
      "execution_count": 0,
      "outputs": [
        {
          "output_type": "execute_result",
          "data": {
            "text/plain": [
              "dict_items([('_model', <tensorflow.python.keras.engine.training.Model object at 0x7fec25f71c88>), ('_Segmed__datetime', datetime.datetime(2020, 1, 29, 6, 57, 19, 720278)), ('_date', '2020-01-29 06:57:19'), ('_name', 'multiresunet'), ('_snapshot_dir', 'drive/My Drive/DCI-Net/ModelSnapshots'), ('_history_dir', 'drive/My Drive/DCI-Net/Historiae'), ('_comment_dir', 'drive/My Drive/DCI-Net/Comments'), ('_data_path', 'drive/My Drive/DCI-Net/Colab_data/dermoscopy80'), ('_log_file_path', 'drive/My Drive/DCI-Net/time_logs.jsonl'), ('_img_path', 'drive/My Drive/DCI-Net/Colab_data/dermoscopy80/imgs'), ('_msks_path', 'drive/My Drive/DCI-Net/Colab_data/dermoscopy80/msks'), ('_Segmed__seed', 1), ('_author', 'Gustavo Magaña'), ('_Segmed__logged', <function time_log.<locals>.timed at 0x7fec2b8e9b70>), ('_Segmed__compile', <function Segmed.__compile at 0x7fec2b8e91e0>)])"
            ]
          },
          "metadata": {
            "tags": []
          },
          "execution_count": 118
        }
      ]
    },
    {
      "cell_type": "code",
      "metadata": {
        "id": "tYIzK0MUFxUL",
        "colab_type": "code",
        "outputId": "14d5bc6c-0a0b-46fc-d11f-5adaac089ed7",
        "colab": {
          "base_uri": "https://localhost:8080/",
          "height": 35
        }
      },
      "source": [
        "[f for f, y in x.__dict__.items() if isinstance(y, FunctionType)]"
      ],
      "execution_count": 0,
      "outputs": [
        {
          "output_type": "execute_result",
          "data": {
            "text/plain": [
              "['_Segmed__logged', '_Segmed__compile']"
            ]
          },
          "metadata": {
            "tags": []
          },
          "execution_count": 119
        }
      ]
    },
    {
      "cell_type": "code",
      "metadata": {
        "id": "9BAvvej8umjd",
        "colab_type": "code",
        "outputId": "c2ccf8e6-2c3f-4254-8493-28e22e5e9d55",
        "colab": {
          "base_uri": "https://localhost:8080/",
          "height": 106
        }
      },
      "source": [
        "x.train(hyper_params=hyper_params)"
      ],
      "execution_count": 0,
      "outputs": [
        {
          "output_type": "stream",
          "text": [
            "Found 64 images belonging to 1 classes.\n",
            "Found 64 images belonging to 1 classes.\n",
            "Found 16 images belonging to 1 classes.\n",
            "Found 16 images belonging to 1 classes.\n",
            "Epoch 1/80\n"
          ],
          "name": "stdout"
        }
      ]
    },
    {
      "cell_type": "code",
      "metadata": {
        "id": "jAocgP6aDR_B",
        "colab_type": "code",
        "outputId": "4a8d85c1-3f08-4fea-fac3-05c714e105db",
        "colab": {
          "base_uri": "https://localhost:8080/",
          "height": 88
        }
      },
      "source": [
        "x.create_train_test_generators()"
      ],
      "execution_count": 0,
      "outputs": [
        {
          "output_type": "stream",
          "text": [
            "Found 489 images belonging to 1 classes.\n",
            "Found 489 images belonging to 1 classes.\n",
            "Found 122 images belonging to 1 classes.\n",
            "Found 122 images belonging to 1 classes.\n"
          ],
          "name": "stdout"
        }
      ]
    },
    {
      "cell_type": "code",
      "metadata": {
        "id": "ADJjPqus46bb",
        "colab_type": "code",
        "colab": {}
      },
      "source": [
        "x.comment(\"fresh start\")"
      ],
      "execution_count": 0,
      "outputs": []
    },
    {
      "cell_type": "code",
      "metadata": {
        "id": "cC5wVrDQ7gBd",
        "colab_type": "code",
        "outputId": "4a2d3f0b-7d8d-49cf-b504-147682dd20a0",
        "colab": {
          "base_uri": "https://localhost:8080/",
          "height": 159
        }
      },
      "source": [
        "!ls -t \"drive/My Drive/DCI-Net/Comments/\""
      ],
      "execution_count": 0,
      "outputs": [
        {
          "output_type": "stream",
          "text": [
            "'multiresunet-(Gustavo Magaña)-(2020-01-29 07:18:39).txt'\n",
            "'multiresunet-(Gustavo Magaña)-(2020-01-29 07:13:23).txt'\n",
            "'multiresunet-(Gustavo Magaña)-(2020-01-29 06:38:59).txt'\n",
            "'multiresunet-(Gustavo Magaña)-(2020-01-29 06:18:12).txt'\n",
            "'multiresunet-(Gustavo Magaña)-(2020-01-29 06:16:09).txt'\n",
            "'multiresunet-(Gustavo Magaña)-(2020-01-29 06:12:09).txt'\n",
            "'multiresunet-(Gustavo Magaña)-(2020-01-29 04:11:56).txt'\n",
            "'multiresunet-(Gustavo Magaña)-(2020-01-29 04:11:09).txt'\n"
          ],
          "name": "stdout"
        }
      ]
    },
    {
      "cell_type": "code",
      "metadata": {
        "id": "rJLxVz5if8nZ",
        "colab_type": "code",
        "outputId": "59f7ab95-0cf1-4c6e-f605-27ec0869fdcd",
        "colab": {
          "base_uri": "https://localhost:8080/",
          "height": 108
        }
      },
      "source": [
        "!cat \"drive/My Drive/DCI-Net/Comments/multiresunet-(Gustavo Magaña)-(2020-01-29 07:18:39).txt\""
      ],
      "execution_count": 0,
      "outputs": [
        {
          "output_type": "stream",
          "text": [
            "\n",
            "Gustavo Magaña, running 'multiresunet' model instantiated at 2020-01-29 07:18:39on system with specs :\n",
            " {'platform': 'Linux', 'platform-release': '4.14.137+', 'platform-version': '#1 SMP Thu Aug 8 02:47:02 PDT 2019', 'architecture': 'x86_64', 'hostname': '2b5d4a3808d4', 'processor': 'x86_64', 'ram': '13 GB'}\n",
            "\n"
          ],
          "name": "stdout"
        }
      ]
    },
    {
      "cell_type": "code",
      "metadata": {
        "id": "XFxWeJDK6Qm0",
        "colab_type": "code",
        "outputId": "618bded4-eb7d-4fb0-ae5e-6b21624cec4c",
        "colab": {
          "base_uri": "https://localhost:8080/",
          "height": 1000
        }
      },
      "source": [
        "x.train()"
      ],
      "execution_count": 0,
      "outputs": [
        {
          "output_type": "stream",
          "text": [
            "Found 80 images belonging to 1 classes.\n",
            "Found 80 images belonging to 1 classes.\n",
            "Found 20 images belonging to 1 classes.\n",
            "Found 20 images belonging to 1 classes.\n",
            "Epoch 1/10\n",
            " 9/10 [==========================>...] - ETA: 2s - loss: 0.5697 - jaccard_index: 0.2266 - dice_coef: 0.3674 - O_Rate: 0.0057 - U_Rate: 0.0682 - Err_rate: 0.2820Epoch 1/10\n",
            "10/10 [==============================] - 4s 387ms/step - loss: 0.8121 - jaccard_index: 0.1390 - dice_coef: 0.2438 - O_Rate: 62914376.0000 - U_Rate: 0.0000e+00 - Err_rate: 62914376.0000\n",
            "\n",
            "Epoch 00001: val_jaccard_index improved from -inf to 0.13901, saving model to drive/My Drive/DCI-Net/ModelSnapshots/multiresunet-(Gustavo Magaña)-(2020-01-28 19:45:06).h5\n",
            "10/10 [==============================] - 84s 8s/step - loss: 0.5613 - jaccard_index: 0.2313 - dice_coef: 0.3736 - O_Rate: 0.0051 - U_Rate: 0.0666 - Err_rate: 0.2628 - val_loss: 0.8121 - val_jaccard_index: 0.1390 - val_dice_coef: 0.2438 - val_O_Rate: 62914376.0000 - val_U_Rate: 0.0000e+00 - val_Err_rate: 62914376.0000\n",
            "Epoch 2/10\n",
            " 9/10 [==========================>...] - ETA: 0s - loss: 0.4882 - jaccard_index: 0.2638 - dice_coef: 0.4169 - O_Rate: 7.2584e-05 - U_Rate: 0.0621 - Err_rate: 0.1295Epoch 1/10\n",
            "10/10 [==============================] - 1s 130ms/step - loss: 0.6509 - jaccard_index: 0.1387 - dice_coef: 0.2434 - O_Rate: 62914376.0000 - U_Rate: 0.0000e+00 - Err_rate: 62914376.0000\n",
            "\n",
            "Epoch 00002: val_jaccard_index did not improve from 0.13901\n",
            "10/10 [==============================] - 7s 705ms/step - loss: 0.4876 - jaccard_index: 0.2650 - dice_coef: 0.4184 - O_Rate: 6.5325e-05 - U_Rate: 0.0623 - Err_rate: 0.1297 - val_loss: 0.6509 - val_jaccard_index: 0.1387 - val_dice_coef: 0.2434 - val_O_Rate: 62914376.0000 - val_U_Rate: 0.0000e+00 - val_Err_rate: 62914376.0000\n",
            "Epoch 3/10\n",
            " 9/10 [==========================>...] - ETA: 0s - loss: 0.4814 - jaccard_index: 0.2665 - dice_coef: 0.4200 - O_Rate: 3.6239e-05 - U_Rate: 0.0627 - Err_rate: 0.1287Epoch 1/10\n",
            "10/10 [==============================] - 1s 134ms/step - loss: 0.6069 - jaccard_index: 0.1390 - dice_coef: 0.2439 - O_Rate: 62914376.0000 - U_Rate: 0.0000e+00 - Err_rate: 62914376.0000\n",
            "\n",
            "Epoch 00003: val_jaccard_index improved from 0.13901 to 0.13904, saving model to drive/My Drive/DCI-Net/ModelSnapshots/multiresunet-(Gustavo Magaña)-(2020-01-28 19:45:06).h5\n",
            "10/10 [==============================] - 9s 859ms/step - loss: 0.4803 - jaccard_index: 0.2675 - dice_coef: 0.4212 - O_Rate: 3.2615e-05 - U_Rate: 0.0629 - Err_rate: 0.1290 - val_loss: 0.6069 - val_jaccard_index: 0.1390 - val_dice_coef: 0.2439 - val_O_Rate: 62914376.0000 - val_U_Rate: 0.0000e+00 - val_Err_rate: 62914376.0000\n",
            "Epoch 4/10\n",
            " 9/10 [==========================>...] - ETA: 0s - loss: 0.4767 - jaccard_index: 0.2673 - dice_coef: 0.4213 - O_Rate: 1.1494e-05 - U_Rate: 0.0613 - Err_rate: 0.1220Epoch 1/10\n",
            "10/10 [==============================] - 1s 128ms/step - loss: 0.5927 - jaccard_index: 0.1379 - dice_coef: 0.2422 - O_Rate: 62914376.0000 - U_Rate: 0.0000e+00 - Err_rate: 62914376.0000\n",
            "\n",
            "Epoch 00004: val_jaccard_index did not improve from 0.13904\n",
            "10/10 [==============================] - 7s 704ms/step - loss: 0.4762 - jaccard_index: 0.2672 - dice_coef: 0.4212 - O_Rate: 1.0345e-05 - U_Rate: 0.0619 - Err_rate: 0.1240 - val_loss: 0.5927 - val_jaccard_index: 0.1379 - val_dice_coef: 0.2422 - val_O_Rate: 62914376.0000 - val_U_Rate: 0.0000e+00 - val_Err_rate: 62914376.0000\n",
            "Epoch 5/10\n",
            " 9/10 [==========================>...] - ETA: 0s - loss: 0.4703 - jaccard_index: 0.2739 - dice_coef: 0.4298 - O_Rate: 6.5111e-06 - U_Rate: 0.0647 - Err_rate: 0.1345Epoch 1/10\n",
            "10/10 [==============================] - 1s 134ms/step - loss: 0.5826 - jaccard_index: 0.1383 - dice_coef: 0.2428 - O_Rate: 62914376.0000 - U_Rate: 0.0000e+00 - Err_rate: 62914376.0000\n",
            "\n",
            "Epoch 00005: val_jaccard_index did not improve from 0.13904\n",
            "10/10 [==============================] - 7s 713ms/step - loss: 0.4711 - jaccard_index: 0.2727 - dice_coef: 0.4283 - O_Rate: 9.9062e-06 - U_Rate: 0.0652 - Err_rate: 0.1366 - val_loss: 0.5826 - val_jaccard_index: 0.1383 - val_dice_coef: 0.2428 - val_O_Rate: 62914376.0000 - val_U_Rate: 0.0000e+00 - val_Err_rate: 62914376.0000\n",
            "Epoch 6/10\n",
            " 9/10 [==========================>...] - ETA: 0s - loss: 0.4701 - jaccard_index: 0.2667 - dice_coef: 0.4205 - O_Rate: 8.8151e-06 - U_Rate: 0.0655 - Err_rate: 0.1391Epoch 1/10\n",
            "10/10 [==============================] - 1s 130ms/step - loss: 0.5776 - jaccard_index: 0.1381 - dice_coef: 0.2425 - O_Rate: 62914376.0000 - U_Rate: 0.0000e+00 - Err_rate: 62914376.0000\n",
            "\n",
            "Epoch 00006: val_jaccard_index did not improve from 0.13904\n",
            "10/10 [==============================] - 7s 709ms/step - loss: 0.4680 - jaccard_index: 0.2708 - dice_coef: 0.4255 - O_Rate: 9.8061e-06 - U_Rate: 0.0648 - Err_rate: 0.1362 - val_loss: 0.5776 - val_jaccard_index: 0.1381 - val_dice_coef: 0.2425 - val_O_Rate: 62914376.0000 - val_U_Rate: 0.0000e+00 - val_Err_rate: 62914376.0000\n",
            "Epoch 7/10\n",
            " 9/10 [==========================>...] - ETA: 0s - loss: 0.4636 - jaccard_index: 0.2737 - dice_coef: 0.4293 - O_Rate: 9.7850e-06 - U_Rate: 0.0656 - Err_rate: 0.1417Epoch 1/10\n",
            "10/10 [==============================] - 1s 131ms/step - loss: 0.5804 - jaccard_index: 0.1438 - dice_coef: 0.2511 - O_Rate: 62914376.0000 - U_Rate: 0.0000e+00 - Err_rate: 62914376.0000\n",
            "\n",
            "Epoch 00007: val_jaccard_index improved from 0.13904 to 0.14375, saving model to drive/My Drive/DCI-Net/ModelSnapshots/multiresunet-(Gustavo Magaña)-(2020-01-28 19:45:06).h5\n",
            "10/10 [==============================] - 9s 885ms/step - loss: 0.4634 - jaccard_index: 0.2739 - dice_coef: 0.4295 - O_Rate: 8.8065e-06 - U_Rate: 0.0654 - Err_rate: 0.1404 - val_loss: 0.5804 - val_jaccard_index: 0.1438 - val_dice_coef: 0.2511 - val_O_Rate: 62914376.0000 - val_U_Rate: 0.0000e+00 - val_Err_rate: 62914376.0000\n",
            "Epoch 8/10\n",
            " 9/10 [==========================>...] - ETA: 0s - loss: 0.4609 - jaccard_index: 0.2770 - dice_coef: 0.4331 - O_Rate: 1.5592e-05 - U_Rate: 0.0672 - Err_rate: 0.1493Epoch 1/10\n",
            "10/10 [==============================] - 1s 134ms/step - loss: 0.5717 - jaccard_index: 0.1377 - dice_coef: 0.2418 - O_Rate: 62914376.0000 - U_Rate: 0.0000e+00 - Err_rate: 62914376.0000\n",
            "\n",
            "Epoch 00008: val_jaccard_index did not improve from 0.14375\n",
            "10/10 [==============================] - 7s 725ms/step - loss: 0.4607 - jaccard_index: 0.2749 - dice_coef: 0.4306 - O_Rate: 1.5340e-05 - U_Rate: 0.0660 - Err_rate: 0.1443 - val_loss: 0.5717 - val_jaccard_index: 0.1377 - val_dice_coef: 0.2418 - val_O_Rate: 62914376.0000 - val_U_Rate: 0.0000e+00 - val_Err_rate: 62914376.0000\n",
            "Epoch 9/10\n",
            " 9/10 [==========================>...] - ETA: 0s - loss: 0.4560 - jaccard_index: 0.2732 - dice_coef: 0.4289 - O_Rate: 1.7400e-05 - U_Rate: 0.0627 - Err_rate: 0.1269Epoch 1/10\n",
            "10/10 [==============================] - 1s 131ms/step - loss: 0.5687 - jaccard_index: 0.1382 - dice_coef: 0.2426 - O_Rate: 62914376.0000 - U_Rate: 0.0000e+00 - Err_rate: 62914376.0000\n",
            "\n",
            "Epoch 00009: val_jaccard_index did not improve from 0.14375\n",
            "10/10 [==============================] - 7s 718ms/step - loss: 0.4561 - jaccard_index: 0.2744 - dice_coef: 0.4304 - O_Rate: 1.7841e-05 - U_Rate: 0.0635 - Err_rate: 0.1307 - val_loss: 0.5687 - val_jaccard_index: 0.1382 - val_dice_coef: 0.2426 - val_O_Rate: 62914376.0000 - val_U_Rate: 0.0000e+00 - val_Err_rate: 62914376.0000\n",
            "Epoch 10/10\n",
            " 9/10 [==========================>...] - ETA: 0s - loss: 0.4535 - jaccard_index: 0.2763 - dice_coef: 0.4327 - O_Rate: 8.0670e-06 - U_Rate: 0.0661 - Err_rate: 0.1419Epoch 1/10\n",
            "10/10 [==============================] - 1s 137ms/step - loss: 0.5672 - jaccard_index: 0.1372 - dice_coef: 0.2411 - O_Rate: 62914376.0000 - U_Rate: 0.0000e+00 - Err_rate: 62914376.0000\n",
            "\n",
            "Epoch 00010: val_jaccard_index did not improve from 0.14375\n",
            "10/10 [==============================] - 7s 735ms/step - loss: 0.4522 - jaccard_index: 0.2781 - dice_coef: 0.4348 - O_Rate: 7.8023e-06 - U_Rate: 0.0655 - Err_rate: 0.1393 - val_loss: 0.5672 - val_jaccard_index: 0.1372 - val_dice_coef: 0.2411 - val_O_Rate: 62914376.0000 - val_U_Rate: 0.0000e+00 - val_Err_rate: 62914376.0000\n",
            "History saved to drive/My Drive/DCI-Net/Historiae/multiresunet-(Gustavo Magaña)-(2020-01-28 19:45:06).csv\n"
          ],
          "name": "stdout"
        }
      ]
    },
    {
      "cell_type": "code",
      "metadata": {
        "id": "wXhBG-r86AhR",
        "colab_type": "code",
        "outputId": "b88f5d70-5894-492f-ae9a-e5fe3c361880",
        "colab": {
          "base_uri": "https://localhost:8080/",
          "height": 337
        }
      },
      "source": [
        "dir(x[\"history\"])\n",
        "x[\"history\"].params"
      ],
      "execution_count": 0,
      "outputs": [
        {
          "output_type": "execute_result",
          "data": {
            "text/plain": [
              "{'batch_size': None,\n",
              " 'do_validation': True,\n",
              " 'epochs': 10,\n",
              " 'metrics': ['loss',\n",
              "  'jaccard_index',\n",
              "  'dice_coef',\n",
              "  'O_Rate',\n",
              "  'U_Rate',\n",
              "  'Err_rate',\n",
              "  'val_loss',\n",
              "  'val_jaccard_index',\n",
              "  'val_dice_coef',\n",
              "  'val_O_Rate',\n",
              "  'val_U_Rate',\n",
              "  'val_Err_rate'],\n",
              " 'samples': 10,\n",
              " 'steps': 10,\n",
              " 'verbose': 1}"
            ]
          },
          "metadata": {
            "tags": []
          },
          "execution_count": 24
        }
      ]
    },
    {
      "cell_type": "code",
      "metadata": {
        "id": "wJWjlxLkW9lz",
        "colab_type": "code",
        "colab": {}
      },
      "source": [
        "# Declare the paths to use (following the Keras convention)\n",
        "# https://www.tensorflow.org/versions/r2.0/api_docs/python/tf/keras/Model#fit_generator\n",
        "\n",
        "_model_log_path = os.path.join(\n",
        "    _model_snapshots_dir, \n",
        "    yield_model_name(architecture=\"MultiResUNet\")\n",
        ")\n"
      ],
      "execution_count": 0,
      "outputs": []
    },
    {
      "cell_type": "markdown",
      "metadata": {
        "id": "mtl5hSO9nAZ2",
        "colab_type": "text"
      },
      "source": [
        "Get the stored snapshots :"
      ]
    },
    {
      "cell_type": "code",
      "metadata": {
        "id": "m_Wbszp9Ofbg",
        "colab_type": "code",
        "colab": {}
      },
      "source": [
        ""
      ],
      "execution_count": 0,
      "outputs": []
    }
  ]
}