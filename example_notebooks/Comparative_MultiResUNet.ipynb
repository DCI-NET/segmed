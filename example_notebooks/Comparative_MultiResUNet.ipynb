{
  "nbformat": 4,
  "nbformat_minor": 0,
  "metadata": {
    "colab": {
      "name": "Comparative MultiResUNet.ipynb",
      "provenance": [],
      "collapsed_sections": [],
      "include_colab_link": true
    },
    "kernelspec": {
      "name": "python3",
      "display_name": "Python 3"
    },
    "accelerator": "GPU"
  },
  "cells": [
    {
      "cell_type": "markdown",
      "metadata": {
        "id": "view-in-github",
        "colab_type": "text"
      },
      "source": [
        "<a href=\"https://colab.research.google.com/github/gmagannaDevelop/segnet/blob/mru_tests/example_notebooks/Comparative_MultiResUNet.ipynb\" target=\"_parent\"><img src=\"https://colab.research.google.com/assets/colab-badge.svg\" alt=\"Open In Colab\"/></a>"
      ]
    },
    {
      "cell_type": "markdown",
      "metadata": {
        "id": "DHw_6M1yXu8b",
        "colab_type": "text"
      },
      "source": [
        "# MultiResUNet\n",
        "## DCI-Net\n",
        "#### Gustavo Magaña\n",
        "\n",
        "\\########################################################"
      ]
    },
    {
      "cell_type": "code",
      "metadata": {
        "id": "C7esbcDmCpM_",
        "colab_type": "code",
        "outputId": "a76606c8-ce8d-4ae9-bda3-e0ad3ad44c14",
        "colab": {
          "base_uri": "https://localhost:8080/",
          "height": 35
        }
      },
      "source": [
        "!ls"
      ],
      "execution_count": 0,
      "outputs": [
        {
          "output_type": "stream",
          "text": [
            "sample_data\n"
          ],
          "name": "stdout"
        }
      ]
    },
    {
      "cell_type": "code",
      "metadata": {
        "id": "IvwdXdIkfp0E",
        "colab_type": "code",
        "outputId": "94bcbce1-9acd-41f1-9b9a-3642eb5244b8",
        "colab": {
          "base_uri": "https://localhost:8080/",
          "height": 532
        }
      },
      "source": [
        "!apt install jq"
      ],
      "execution_count": 0,
      "outputs": [
        {
          "output_type": "stream",
          "text": [
            "Reading package lists... Done\n",
            "Building dependency tree       \n",
            "Reading state information... Done\n",
            "The following additional packages will be installed:\n",
            "  libjq1 libonig4\n",
            "The following NEW packages will be installed:\n",
            "  jq libjq1 libonig4\n",
            "0 upgraded, 3 newly installed, 0 to remove and 28 not upgraded.\n",
            "Need to get 276 kB of archives.\n",
            "After this operation, 930 kB of additional disk space will be used.\n",
            "Get:1 http://archive.ubuntu.com/ubuntu bionic/universe amd64 libonig4 amd64 6.7.0-1 [119 kB]\n",
            "Get:2 http://archive.ubuntu.com/ubuntu bionic/universe amd64 libjq1 amd64 1.5+dfsg-2 [111 kB]\n",
            "Get:3 http://archive.ubuntu.com/ubuntu bionic/universe amd64 jq amd64 1.5+dfsg-2 [45.6 kB]\n",
            "Fetched 276 kB in 1s (197 kB/s)\n",
            "Selecting previously unselected package libonig4:amd64.\n",
            "(Reading database ... 132681 files and directories currently installed.)\n",
            "Preparing to unpack .../libonig4_6.7.0-1_amd64.deb ...\n",
            "Unpacking libonig4:amd64 (6.7.0-1) ...\n",
            "Selecting previously unselected package libjq1:amd64.\n",
            "Preparing to unpack .../libjq1_1.5+dfsg-2_amd64.deb ...\n",
            "Unpacking libjq1:amd64 (1.5+dfsg-2) ...\n",
            "Selecting previously unselected package jq.\n",
            "Preparing to unpack .../jq_1.5+dfsg-2_amd64.deb ...\n",
            "Unpacking jq (1.5+dfsg-2) ...\n",
            "Setting up libonig4:amd64 (6.7.0-1) ...\n",
            "Setting up libjq1:amd64 (1.5+dfsg-2) ...\n",
            "Processing triggers for libc-bin (2.27-3ubuntu1) ...\n",
            "Processing triggers for man-db (2.8.3-2ubuntu0.1) ...\n",
            "Setting up jq (1.5+dfsg-2) ...\n"
          ],
          "name": "stdout"
        }
      ]
    },
    {
      "cell_type": "code",
      "metadata": {
        "id": "SUVhISDWOwT5",
        "colab_type": "code",
        "outputId": "950f8024-681b-4a36-99d3-08d9fbbaab6a",
        "colab": {
          "base_uri": "https://localhost:8080/",
          "height": 1000
        }
      },
      "source": [
        "## If changes are made to the repo, uninstall and\n",
        "## a fresh pip install are required, so it seems.\n",
        "#!pip uninstall segnet\n",
        "!pip install git+https://github.com/gmagannaDevelop/segnet.git@mru_tests\n",
        "##!pip install git+https://github.com/gmagannaDevelop/segnet.git@log_hotfix"
      ],
      "execution_count": 0,
      "outputs": [
        {
          "output_type": "stream",
          "text": [
            "Collecting git+https://github.com/gmagannaDevelop/segnet.git@mru_tests\n",
            "  Cloning https://github.com/gmagannaDevelop/segnet.git (to revision mru_tests) to /tmp/pip-req-build-n0lrg37w\n",
            "  Running command git clone -q https://github.com/gmagannaDevelop/segnet.git /tmp/pip-req-build-n0lrg37w\n",
            "  Running command git checkout -b mru_tests --track origin/mru_tests\n",
            "  Switched to a new branch 'mru_tests'\n",
            "  Branch 'mru_tests' set up to track remote branch 'mru_tests' from 'origin'.\n",
            "Requirement already satisfied: absl-py in /usr/local/lib/python3.6/dist-packages (from segnet==0.4) (0.8.1)\n",
            "Collecting appdirs\n",
            "  Downloading https://files.pythonhosted.org/packages/56/eb/810e700ed1349edde4cbdc1b2a21e28cdf115f9faf263f6bbf8447c1abf3/appdirs-1.4.3-py2.py3-none-any.whl\n",
            "Requirement already satisfied: astor in /usr/local/lib/python3.6/dist-packages (from segnet==0.4) (0.8.0)\n",
            "Collecting astroid\n",
            "\u001b[?25l  Downloading https://files.pythonhosted.org/packages/64/d3/4ba68bd56297556c9c2e5072d71d1664feaa86d9726c237a9fe496d440f4/astroid-2.3.2-py3-none-any.whl (205kB)\n",
            "\u001b[K     |████████████████████████████████| 215kB 5.2MB/s \n",
            "\u001b[?25hRequirement already satisfied: atomicwrites in /usr/local/lib/python3.6/dist-packages (from segnet==0.4) (1.3.0)\n",
            "Requirement already satisfied: attrs in /usr/local/lib/python3.6/dist-packages (from segnet==0.4) (19.3.0)\n",
            "Collecting black\n",
            "\u001b[?25l  Downloading https://files.pythonhosted.org/packages/fd/bb/ad34bbc93d1bea3de086d7c59e528d4a503ac8fe318bd1fa48605584c3d2/black-19.10b0-py36-none-any.whl (97kB)\n",
            "\u001b[K     |████████████████████████████████| 102kB 9.8MB/s \n",
            "\u001b[?25hRequirement already satisfied: click in /usr/local/lib/python3.6/dist-packages (from segnet==0.4) (7.0)\n",
            "Requirement already satisfied: cycler in /usr/local/lib/python3.6/dist-packages (from segnet==0.4) (0.10.0)\n",
            "Requirement already satisfied: decorator in /usr/local/lib/python3.6/dist-packages (from segnet==0.4) (4.4.1)\n",
            "Requirement already satisfied: gast in /usr/local/lib/python3.6/dist-packages (from segnet==0.4) (0.2.2)\n",
            "Requirement already satisfied: google-pasta in /usr/local/lib/python3.6/dist-packages (from segnet==0.4) (0.1.7)\n",
            "Requirement already satisfied: grpcio in /usr/local/lib/python3.6/dist-packages (from segnet==0.4) (1.15.0)\n",
            "Requirement already satisfied: h5py in /usr/local/lib/python3.6/dist-packages (from segnet==0.4) (2.8.0)\n",
            "Requirement already satisfied: imageio in /usr/local/lib/python3.6/dist-packages (from segnet==0.4) (2.4.1)\n",
            "Requirement already satisfied: importlib-metadata in /usr/local/lib/python3.6/dist-packages (from segnet==0.4) (0.23)\n",
            "Collecting isort\n",
            "\u001b[?25l  Downloading https://files.pythonhosted.org/packages/e5/b0/c121fd1fa3419ea9bfd55c7f9c4fedfec5143208d8c7ad3ce3db6c623c21/isort-4.3.21-py2.py3-none-any.whl (42kB)\n",
            "\u001b[K     |████████████████████████████████| 51kB 6.2MB/s \n",
            "\u001b[?25hRequirement already satisfied: joblib in /usr/local/lib/python3.6/dist-packages (from segnet==0.4) (0.14.0)\n",
            "Requirement already satisfied: kiwisolver in /usr/local/lib/python3.6/dist-packages (from segnet==0.4) (1.1.0)\n",
            "Collecting lazy-object-proxy\n",
            "\u001b[?25l  Downloading https://files.pythonhosted.org/packages/0b/dd/b1e3407e9e6913cf178e506cd0dee818e58694d9a5cd1984e3f6a8b9a10f/lazy_object_proxy-1.4.3-cp36-cp36m-manylinux1_x86_64.whl (55kB)\n",
            "\u001b[K     |████████████████████████████████| 61kB 7.4MB/s \n",
            "\u001b[?25hRequirement already satisfied: markdown in /usr/local/lib/python3.6/dist-packages (from segnet==0.4) (3.1.1)\n",
            "Requirement already satisfied: matplotlib in /usr/local/lib/python3.6/dist-packages (from segnet==0.4) (3.1.1)\n",
            "Collecting mccabe\n",
            "  Downloading https://files.pythonhosted.org/packages/87/89/479dc97e18549e21354893e4ee4ef36db1d237534982482c3681ee6e7b57/mccabe-0.6.1-py2.py3-none-any.whl\n",
            "Requirement already satisfied: more-itertools in /usr/local/lib/python3.6/dist-packages (from segnet==0.4) (7.2.0)\n",
            "Requirement already satisfied: networkx in /usr/local/lib/python3.6/dist-packages (from segnet==0.4) (2.4)\n",
            "Requirement already satisfied: numpy in /usr/local/lib/python3.6/dist-packages (from segnet==0.4) (1.17.3)\n",
            "Requirement already satisfied: opt-einsum in /usr/local/lib/python3.6/dist-packages (from segnet==0.4) (3.1.0)\n",
            "Requirement already satisfied: packaging in /usr/local/lib/python3.6/dist-packages (from segnet==0.4) (19.2)\n",
            "Requirement already satisfied: pandas in /usr/local/lib/python3.6/dist-packages (from segnet==0.4) (0.25.2)\n",
            "Requirement already satisfied: pillow in /usr/local/lib/python3.6/dist-packages (from segnet==0.4) (4.3.0)\n",
            "Requirement already satisfied: pluggy in /usr/local/lib/python3.6/dist-packages (from segnet==0.4) (0.7.1)\n",
            "Requirement already satisfied: protobuf in /usr/local/lib/python3.6/dist-packages (from segnet==0.4) (3.10.0)\n",
            "Requirement already satisfied: py in /usr/local/lib/python3.6/dist-packages (from segnet==0.4) (1.8.0)\n",
            "Collecting pylint\n",
            "\u001b[?25l  Downloading https://files.pythonhosted.org/packages/ea/f1/758de486e46ea2b8717992704b0fdd968b7cbc2bc790b976fae4a35a212c/pylint-2.4.3-py3-none-any.whl (302kB)\n",
            "\u001b[K     |████████████████████████████████| 307kB 44.5MB/s \n",
            "\u001b[?25hRequirement already satisfied: pyparsing in /usr/local/lib/python3.6/dist-packages (from segnet==0.4) (2.4.2)\n",
            "Requirement already satisfied: pytest in /usr/local/lib/python3.6/dist-packages (from segnet==0.4) (3.6.4)\n",
            "Requirement already satisfied: python-dateutil in /usr/local/lib/python3.6/dist-packages (from segnet==0.4) (2.6.1)\n",
            "Requirement already satisfied: pytz in /usr/local/lib/python3.6/dist-packages (from segnet==0.4) (2018.9)\n",
            "Requirement already satisfied: pywavelets in /usr/local/lib/python3.6/dist-packages (from segnet==0.4) (1.1.1)\n",
            "Requirement already satisfied: pyyaml in /usr/local/lib/python3.6/dist-packages (from segnet==0.4) (3.13)\n",
            "Requirement already satisfied: scikit-image in /usr/local/lib/python3.6/dist-packages (from segnet==0.4) (0.15.0)\n",
            "Requirement already satisfied: scikit-learn in /usr/local/lib/python3.6/dist-packages (from segnet==0.4) (0.21.3)\n",
            "Requirement already satisfied: scipy in /usr/local/lib/python3.6/dist-packages (from segnet==0.4) (1.3.1)\n",
            "Requirement already satisfied: seaborn in /usr/local/lib/python3.6/dist-packages (from segnet==0.4) (0.9.0)\n",
            "Requirement already satisfied: six in /usr/local/lib/python3.6/dist-packages (from segnet==0.4) (1.12.0)\n",
            "Requirement already satisfied: tensorflow in /usr/local/lib/python3.6/dist-packages (from segnet==0.4) (1.15.0)\n",
            "Requirement already satisfied: termcolor in /usr/local/lib/python3.6/dist-packages (from segnet==0.4) (1.1.0)\n",
            "Collecting toml\n",
            "  Downloading https://files.pythonhosted.org/packages/a2/12/ced7105d2de62fa7c8fb5fce92cc4ce66b57c95fb875e9318dba7f8c5db0/toml-0.10.0-py2.py3-none-any.whl\n",
            "Collecting typed-ast\n",
            "\u001b[?25l  Downloading https://files.pythonhosted.org/packages/31/d3/9d1802c161626d0278bafb1ffb32f76b9d01e123881bbf9d91e8ccf28e18/typed_ast-1.4.0-cp36-cp36m-manylinux1_x86_64.whl (736kB)\n",
            "\u001b[K     |████████████████████████████████| 737kB 41.4MB/s \n",
            "\u001b[?25hRequirement already satisfied: wcwidth in /usr/local/lib/python3.6/dist-packages (from segnet==0.4) (0.1.7)\n",
            "Requirement already satisfied: werkzeug in /usr/local/lib/python3.6/dist-packages (from segnet==0.4) (0.16.0)\n",
            "Requirement already satisfied: wrapt in /usr/local/lib/python3.6/dist-packages (from segnet==0.4) (1.11.2)\n",
            "Requirement already satisfied: zipp in /usr/local/lib/python3.6/dist-packages (from segnet==0.4) (0.6.0)\n",
            "Collecting regex\n",
            "\u001b[?25l  Downloading https://files.pythonhosted.org/packages/e3/8e/cbf2295643d7265e7883326fb4654e643bfc93b3a8a8274d8010a39d8804/regex-2019.11.1-cp36-cp36m-manylinux1_x86_64.whl (643kB)\n",
            "\u001b[K     |████████████████████████████████| 645kB 42.1MB/s \n",
            "\u001b[?25hCollecting pathspec<1,>=0.6\n",
            "  Downloading https://files.pythonhosted.org/packages/7a/68/5902e8cd7f7b17c5879982a3a3ee2ad0c3b92b80c79989a2d3e1ca8d29e1/pathspec-0.6.0.tar.gz\n",
            "Requirement already satisfied: setuptools in /usr/local/lib/python3.6/dist-packages (from kiwisolver->segnet==0.4) (41.4.0)\n",
            "Requirement already satisfied: olefile in /usr/local/lib/python3.6/dist-packages (from pillow->segnet==0.4) (0.46)\n",
            "Requirement already satisfied: keras-applications>=1.0.8 in /usr/local/lib/python3.6/dist-packages (from tensorflow->segnet==0.4) (1.0.8)\n",
            "Requirement already satisfied: tensorflow-estimator==1.15.1 in /usr/local/lib/python3.6/dist-packages (from tensorflow->segnet==0.4) (1.15.1)\n",
            "Requirement already satisfied: keras-preprocessing>=1.0.5 in /usr/local/lib/python3.6/dist-packages (from tensorflow->segnet==0.4) (1.1.0)\n",
            "Requirement already satisfied: wheel>=0.26 in /usr/local/lib/python3.6/dist-packages (from tensorflow->segnet==0.4) (0.33.6)\n",
            "Requirement already satisfied: tensorboard<1.16.0,>=1.15.0 in /usr/local/lib/python3.6/dist-packages (from tensorflow->segnet==0.4) (1.15.0)\n",
            "Building wheels for collected packages: segnet, pathspec\n",
            "  Building wheel for segnet (setup.py) ... \u001b[?25l\u001b[?25hdone\n",
            "  Created wheel for segnet: filename=segnet-0.4-cp36-none-any.whl size=24435 sha256=537c18530df41af2a625a1aac750797a6dc58a098442ab126108387e45f5a657\n",
            "  Stored in directory: /tmp/pip-ephem-wheel-cache-ee69pfd4/wheels/f1/c1/51/0ee27f445c3a618413714a84d4f5500547456389437a85a87f\n",
            "  Building wheel for pathspec (setup.py) ... \u001b[?25l\u001b[?25hdone\n",
            "  Created wheel for pathspec: filename=pathspec-0.6.0-cp36-none-any.whl size=26671 sha256=c6cdaf6c68072256957b7e32e236e706921c593f815add14672d74e9c40493bb\n",
            "  Stored in directory: /root/.cache/pip/wheels/62/b8/e1/e2719465b5947c40cd85d613d6cb33449b86a1ca5a6c574269\n",
            "Successfully built segnet pathspec\n",
            "Installing collected packages: appdirs, typed-ast, lazy-object-proxy, astroid, toml, regex, pathspec, black, isort, mccabe, pylint, segnet\n",
            "Successfully installed appdirs-1.4.3 astroid-2.3.2 black-19.10b0 isort-4.3.21 lazy-object-proxy-1.4.3 mccabe-0.6.1 pathspec-0.6.0 pylint-2.4.3 regex-2019.11.1 segnet-0.4 toml-0.10.0 typed-ast-1.4.0\n"
          ],
          "name": "stdout"
        }
      ]
    },
    {
      "cell_type": "markdown",
      "metadata": {
        "id": "qCRoHPcGgvEL",
        "colab_type": "text"
      },
      "source": [
        "Imports"
      ]
    },
    {
      "cell_type": "code",
      "metadata": {
        "id": "UxVrrV2VXLGA",
        "colab_type": "code",
        "outputId": "dc241650-ab19-4d90-a849-59eb7f534658",
        "colab": {
          "base_uri": "https://localhost:8080/",
          "height": 208
        }
      },
      "source": [
        "### System-related\n",
        "import sys\n",
        "import os\n",
        "import datetime \n",
        "from typing import Optional\n",
        "#import importlib.util\n",
        "###############################################################\n",
        "\n",
        "### Machine learning specific\n",
        "#import segmentation_models as sm\n",
        "from keras.optimizers import SGD\n",
        "from keras.callbacks import ModelCheckpoint, ReduceLROnPlateau\n",
        "from sklearn.model_selection import train_test_split\n",
        "import keras.models\n",
        "###############################################################\n",
        "\n",
        "### In-Out\n",
        "from skimage import io\n",
        "import glob\n",
        "###############################################################\n",
        "\n",
        "### Visualization\n",
        "import seaborn as sns\n",
        "###############################################################\n",
        "\n",
        "### Numerical\n",
        "import numpy as np\n",
        "###############################################################\n",
        "\n",
        "### Repo-specific (segnet)\n",
        "from segnet.train import train_segnet\n",
        "from segnet.models import multiresunet as mru\n",
        "from segnet.models import multiresunet2 as mru2\n",
        "from segnet.models import multiresunet3 as mru3\n",
        "from segnet.utils import timing\n",
        "#from segnet.segnet.train.train_segnet import train_segnet\n",
        "#import segnet.segnet as segnet\n",
        "\n",
        "### Data-related\n",
        "from google.colab import drive, files\n",
        "drive.mount('/content/drive/')\n",
        "###############################################################\n",
        "\n",
        "\n",
        "### Not an import, but mandatory to be defined here :\n",
        "root_dir   = \"drive/My Drive/DCI-Net\"\n",
        "_log_file  = os.path.join(root_dir, \"time_logs.jsonl\")"
      ],
      "execution_count": 0,
      "outputs": [
        {
          "output_type": "stream",
          "text": [
            "Using TensorFlow backend.\n"
          ],
          "name": "stderr"
        },
        {
          "output_type": "display_data",
          "data": {
            "text/html": [
              "<p style=\"color: red;\">\n",
              "The default version of TensorFlow in Colab will soon switch to TensorFlow 2.x.<br>\n",
              "We recommend you <a href=\"https://www.tensorflow.org/guide/migrate\" target=\"_blank\">upgrade</a> now \n",
              "or ensure your notebook will continue to use TensorFlow 1.x via the <code>%tensorflow_version 1.x</code> magic:\n",
              "<a href=\"https://colab.research.google.com/notebooks/tensorflow_version.ipynb\" target=\"_blank\">more info</a>.</p>\n"
            ],
            "text/plain": [
              "<IPython.core.display.HTML object>"
            ]
          },
          "metadata": {
            "tags": []
          }
        },
        {
          "output_type": "stream",
          "text": [
            "Go to this URL in a browser: https://accounts.google.com/o/oauth2/auth?client_id=947318989803-6bn6qk8qdgf4n4g3pfee6491hc0brc4i.apps.googleusercontent.com&redirect_uri=urn%3Aietf%3Awg%3Aoauth%3A2.0%3Aoob&scope=email%20https%3A%2F%2Fwww.googleapis.com%2Fauth%2Fdocs.test%20https%3A%2F%2Fwww.googleapis.com%2Fauth%2Fdrive%20https%3A%2F%2Fwww.googleapis.com%2Fauth%2Fdrive.photos.readonly%20https%3A%2F%2Fwww.googleapis.com%2Fauth%2Fpeopleapi.readonly&response_type=code\n",
            "\n",
            "Enter your authorization code:\n",
            "··········\n",
            "Mounted at /content/drive/\n"
          ],
          "name": "stdout"
        }
      ]
    },
    {
      "cell_type": "markdown",
      "metadata": {
        "id": "pde_pTyigywK",
        "colab_type": "text"
      },
      "source": [
        "Function definition"
      ]
    },
    {
      "cell_type": "code",
      "metadata": {
        "id": "HnJpx7qYdlId",
        "colab_type": "code",
        "colab": {}
      },
      "source": [
        "def yield_model_name(\n",
        "    architecture: str = \"MultiResUNet\",\n",
        "    _name: Optional[str] = None,\n",
        "    date: Optional[str] = None\n",
        ") -> str:\n",
        "  \"\"\"\n",
        "    Yield a model name, to be passed to other functions.\n",
        "    Said model name consisting of an architecture name, \n",
        "    the (UTCtime)\n",
        "  \"\"\"\n",
        "  if date is None:\n",
        "    date = str(datetime.datetime.utcnow()).split(\".\")[0]\n",
        "  if _name is not None:\n",
        "    return f\"{architecture}-({_name})-({date}).h5\"\n",
        "\n",
        "  return f\"{architecture}-({date}).h5\"\n",
        "\n",
        "def yield_mask_directory(\n",
        "    architecture: str = \"MultiResUNet\",\n",
        "    date: Optional[str] = None\n",
        ") -> str:\n",
        "  \"\"\"\n",
        "    Yield a model name, to be passed to other functions.\n",
        "    Said model name consisting of an architecture name, \n",
        "    the (UTCtime)\n",
        "  \"\"\"\n",
        "  if date is None:\n",
        "    date = str(datetime.datetime.utcnow()).split(\".\")[0].split(\" \")[0]\n",
        "  return f\"{architecture}-({date})\""
      ],
      "execution_count": 0,
      "outputs": []
    },
    {
      "cell_type": "code",
      "metadata": {
        "id": "IceMi8yGf4ru",
        "colab_type": "code",
        "outputId": "7ed7db1a-05d8-4f7d-ab4c-34262017f26e",
        "colab": {
          "base_uri": "https://localhost:8080/",
          "height": 35
        }
      },
      "source": [
        "yield_model_name(_name='lol')"
      ],
      "execution_count": 0,
      "outputs": [
        {
          "output_type": "execute_result",
          "data": {
            "text/plain": [
              "'MultiResUNet-(lol)-(2019-11-04 21:33:33).h5'"
            ]
          },
          "metadata": {
            "tags": []
          },
          "execution_count": 19
        }
      ]
    },
    {
      "cell_type": "code",
      "metadata": {
        "id": "J0_DxhwXCyOd",
        "colab_type": "code",
        "outputId": "905415dd-76d0-4ef7-8636-b1ea4bfe0c16",
        "colab": {
          "base_uri": "https://localhost:8080/",
          "height": 35
        }
      },
      "source": [
        "yield_mask_directory()"
      ],
      "execution_count": 0,
      "outputs": [
        {
          "output_type": "execute_result",
          "data": {
            "text/plain": [
              "'MultiResUNet-(2019-11-04)'"
            ]
          },
          "metadata": {
            "tags": []
          },
          "execution_count": 10
        }
      ]
    },
    {
      "cell_type": "code",
      "metadata": {
        "id": "2pRrtgcrDThX",
        "colab_type": "code",
        "outputId": "ce230c6f-6562-452b-acd9-06f743b645fa",
        "colab": {
          "base_uri": "https://localhost:8080/",
          "height": 35
        }
      },
      "source": [
        "!ls \"drive/My Drive/DCI-Net/Masks\""
      ],
      "execution_count": 0,
      "outputs": [
        {
          "output_type": "stream",
          "text": [
            "Sunday3nov\n"
          ],
          "name": "stdout"
        }
      ]
    },
    {
      "cell_type": "code",
      "metadata": {
        "id": "Ce2TEroWZ2WI",
        "colab_type": "code",
        "outputId": "77ce9980-acf4-4c86-ffd7-867ecfee5926",
        "colab": {
          "base_uri": "https://localhost:8080/",
          "height": 35
        }
      },
      "source": [
        "!ls \"drive/My Drive/DCI-Net/Colab_data/Dataset 2\""
      ],
      "execution_count": 0,
      "outputs": [
        {
          "output_type": "stream",
          "text": [
            "imgs  msks\n"
          ],
          "name": "stdout"
        }
      ]
    },
    {
      "cell_type": "code",
      "metadata": {
        "id": "wJWjlxLkW9lz",
        "colab_type": "code",
        "colab": {}
      },
      "source": [
        "# Declare the paths to use (following the Keras convention)\n",
        "# https://www.tensorflow.org/versions/r2.0/api_docs/python/tf/keras/Model#fit_generator\n",
        "masks_path = img_path = data_path  = \"drive/My Drive/DCI-Net/Colab_data/Dataset 2\"\n",
        "\n",
        "_img_path   = os.path.join(data_path, 'imgs')\n",
        "_masks_path = os.path.join(data_path, 'msks')\n",
        "\n",
        "\n",
        "_model_snapshots_dir = os.path.join(root_dir, \"ModelSnapshots\")\n",
        "_model_log_path = os.path.join(\n",
        "    _model_snapshots_dir, \n",
        "    yield_model_name(architecture=\"MultiResUNet\")\n",
        ")\n"
      ],
      "execution_count": 0,
      "outputs": []
    },
    {
      "cell_type": "code",
      "metadata": {
        "id": "YzmBV-ZhUbLY",
        "colab_type": "code",
        "outputId": "1c1b281a-54eb-418f-f757-a526f0c185f1",
        "colab": {
          "base_uri": "https://localhost:8080/",
          "height": 70
        }
      },
      "source": [
        "_model_authors = list(\n",
        "    map(\n",
        "        lambda x: os.path.join(_model_snapshots_dir, yield_model_name(_name=x)), ['Edwin', 'Gustavo', 'Original'] \n",
        "        )\n",
        "    )\n",
        "_model_authors"
      ],
      "execution_count": 0,
      "outputs": [
        {
          "output_type": "execute_result",
          "data": {
            "text/plain": [
              "['drive/My Drive/DCI-Net/ModelSnapshots/MultiResUNet-(Edwin)-(2019-11-04 21:36:35).h5',\n",
              " 'drive/My Drive/DCI-Net/ModelSnapshots/MultiResUNet-(Gustavo)-(2019-11-04 21:36:35).h5',\n",
              " 'drive/My Drive/DCI-Net/ModelSnapshots/MultiResUNet-(Original)-(2019-11-04 21:36:35).h5']"
            ]
          },
          "metadata": {
            "tags": []
          },
          "execution_count": 27
        }
      ]
    },
    {
      "cell_type": "code",
      "metadata": {
        "id": "Q8PeDFX_EAGY",
        "colab_type": "code",
        "outputId": "5e1d6e66-293f-4edc-b3af-5057be9216aa",
        "colab": {
          "base_uri": "https://localhost:8080/",
          "height": 124
        }
      },
      "source": [
        "print(f\"{data_path}\\n {masks_path}\\n {img_path}\\n {_img_path}\\n {_masks_path}\\n {_model_log_path}\")"
      ],
      "execution_count": 0,
      "outputs": [
        {
          "output_type": "stream",
          "text": [
            "drive/My Drive/DCI-Net/Colab_data/Dataset 2\n",
            " drive/My Drive/DCI-Net/Colab_data/Dataset 2\n",
            " drive/My Drive/DCI-Net/Colab_data/Dataset 2\n",
            " drive/My Drive/DCI-Net/Colab_data/Dataset 2/imgs\n",
            " drive/My Drive/DCI-Net/Colab_data/Dataset 2/msks\n",
            " drive/My Drive/DCI-Net/ModelSnapshots/MultiResUNet-(2019-11-04 21:26:37).h5\n"
          ],
          "name": "stdout"
        }
      ]
    },
    {
      "cell_type": "markdown",
      "metadata": {
        "id": "Fgcp3Hl3n0uo",
        "colab_type": "text"
      },
      "source": [
        "Define hyperparameters\n"
      ]
    },
    {
      "cell_type": "code",
      "metadata": {
        "id": "O2qpzDaekgEl",
        "colab_type": "code",
        "colab": {}
      },
      "source": [
        "__comments = [\n",
        "              \"Edwin's implementation : models/multiresunet.py\",\n",
        "              \"Gustavo's implementation : models/multiresunet2.py\",\n",
        "              \"Original implementation : models/multiresunet3.py\"\n",
        "]\n",
        "\n",
        "hyper_params = dict(\n",
        "    batch_size = 4,\n",
        "    epochs = 40,\n",
        "    steps_per_epoch=5\n",
        "    #model_file = _model_log_path\n",
        ")\n",
        "\n",
        "# DEBUG COMMENT OUT WHEN TRAINING : \n",
        "_debug_hyper_params = dict(\n",
        "    batch_size = 8,\n",
        "    epochs = 1,\n",
        "    steps_per_epoch=2,\n",
        "    model_file = _model_log_path\n",
        ")"
      ],
      "execution_count": 0,
      "outputs": []
    },
    {
      "cell_type": "markdown",
      "metadata": {
        "id": "mtl5hSO9nAZ2",
        "colab_type": "text"
      },
      "source": [
        "Get the stored snapshots :"
      ]
    },
    {
      "cell_type": "code",
      "metadata": {
        "id": "pXvwmgVBkvPU",
        "colab_type": "code",
        "outputId": "8ad9f199-b021-46fa-db7f-4b624dfc4fc9",
        "colab": {
          "base_uri": "https://localhost:8080/",
          "height": 159
        }
      },
      "source": [
        "snapshots = os.listdir(_model_snapshots_dir)\n",
        "snapshots"
      ],
      "execution_count": 0,
      "outputs": [
        {
          "output_type": "execute_result",
          "data": {
            "text/plain": [
              "['MultiResUNet-(2019-10-29 03:29:04).h5',\n",
              " 'MultiResUNet-(2019-11-04 01:48:44).h5',\n",
              " 'MultiResUNet-(2019-11-04 03:14:17).h5',\n",
              " 'MultiResUNet-(2019-11-04 03:30:53).h5',\n",
              " 'MultiResUNet-(2019-11-04 19:16:27).h5',\n",
              " 'MultiResUNet-(Edwin)-(2019-11-04 21:36:35).h5',\n",
              " 'MultiResUNet-(Gustavo)-(2019-11-04 21:36:35).h5',\n",
              " 'MultiResUNet-(Original)-(2019-11-04 21:36:35).h5']"
            ]
          },
          "metadata": {
            "tags": []
          },
          "execution_count": 39
        }
      ]
    },
    {
      "cell_type": "markdown",
      "metadata": {
        "id": "BF9uMSUWnM2y",
        "colab_type": "text"
      },
      "source": [
        "Choose a snapshot to load, if so desired :"
      ]
    },
    {
      "cell_type": "code",
      "metadata": {
        "id": "WSZcoEJClITg",
        "colab_type": "code",
        "outputId": "c80f2099-92c5-492d-aca5-e1cfb0d2123b",
        "colab": {
          "base_uri": "https://localhost:8080/",
          "height": 35
        }
      },
      "source": [
        "load_snapshot = os.path.join(_model_snapshots_dir, snapshots[0])\n",
        "load_snapshot"
      ],
      "execution_count": 0,
      "outputs": [
        {
          "output_type": "execute_result",
          "data": {
            "text/plain": [
              "'drive/My Drive/DCI-Net/ModelSnapshots/MultiResUNet-(2019-10-29 03:29:04).h5'"
            ]
          },
          "metadata": {
            "tags": []
          },
          "execution_count": 25
        }
      ]
    },
    {
      "cell_type": "markdown",
      "metadata": {
        "id": "0n3KvDkznZUl",
        "colab_type": "text"
      },
      "source": [
        "\n",
        "Instantiate a MultiResUNet model, **optionally** from a checkpoint :"
      ]
    },
    {
      "cell_type": "code",
      "metadata": {
        "id": "K0Ah1NY_NX2e",
        "colab_type": "code",
        "outputId": "d2c047c2-6f07-4ece-d770-11283f3e2299",
        "colab": {
          "base_uri": "https://localhost:8080/",
          "height": 90
        }
      },
      "source": [
        "models = [\n",
        "  mru.MultiResUnet(),\n",
        "  mru2.MultiResUNet(),\n",
        "  mru3.MultiResUnet()\n",
        "]\n",
        "    \n",
        "# TOGGLE THIS !\n",
        "from_checkpoint = False\n",
        "\n",
        "if from_checkpoint:\n",
        "  # model1.load_weights(load_snapshot)\n",
        "  # model2.load_weights(load_snapshot)\n",
        "  pass"
      ],
      "execution_count": 0,
      "outputs": [
        {
          "output_type": "stream",
          "text": [
            "WARNING:tensorflow:From /usr/local/lib/python3.6/dist-packages/tensorflow_core/python/ops/resource_variable_ops.py:1630: calling BaseResourceVariable.__init__ (from tensorflow.python.ops.resource_variable_ops) with constraint is deprecated and will be removed in a future version.\n",
            "Instructions for updating:\n",
            "If using Keras pass *_constraint arguments to layers.\n"
          ],
          "name": "stdout"
        }
      ]
    },
    {
      "cell_type": "code",
      "metadata": {
        "id": "IXCDT6uIS9wS",
        "colab_type": "code",
        "colab": {}
      },
      "source": [
        "trainer = lambda x, y, z: train_segnet.train_segnet(\n",
        "    x,\n",
        "    _img_path,\n",
        "    _masks_path,\n",
        "    **hyper_params,\n",
        "    model_file=y,\n",
        "    _comment=z\n",
        ")"
      ],
      "execution_count": 0,
      "outputs": []
    },
    {
      "cell_type": "code",
      "metadata": {
        "id": "kZWqBUseTLf2",
        "colab_type": "code",
        "outputId": "85cad5c1-41c2-4429-c4bd-e463efa1ed10",
        "colab": {
          "base_uri": "https://localhost:8080/",
          "height": 1000
        }
      },
      "source": [
        "historiae = list(map(trainer, models, _model_authors, __comments))"
      ],
      "execution_count": 0,
      "outputs": [
        {
          "output_type": "stream",
          "text": [
            "Found 80 images belonging to 1 classes.\n",
            "Found 80 images belonging to 1 classes.\n",
            "Found 20 images belonging to 1 classes.\n",
            "Found 20 images belonging to 1 classes.\n",
            "WARNING:tensorflow:From /usr/local/lib/python3.6/dist-packages/tensorflow_core/python/ops/nn_impl.py:183: where (from tensorflow.python.ops.array_ops) is deprecated and will be removed in a future version.\n",
            "Instructions for updating:\n",
            "Use tf.where in 2.0, which has the same broadcast rule as np.where\n",
            "Epoch 1/40\n",
            "4/5 [=======================>......] - ETA: 7s - loss: 0.6666 - jaccard_index: 0.1858 - dice_coef: 0.3104 Epoch 1/40\n",
            "5/5 [==============================] - 13s 3s/step - loss: 0.7507 - jaccard_index: 0.1475 - dice_coef: 0.2561\n",
            "\n",
            "Epoch 00001: val_jaccard_index improved from -inf to 0.14752, saving model to drive/My Drive/DCI-Net/ModelSnapshots/MultiResUNet-(Edwin)-(2019-11-04 21:36:35).h5\n",
            "5/5 [==============================] - 116s 23s/step - loss: 0.6359 - jaccard_index: 0.1974 - dice_coef: 0.3267 - val_loss: 0.7507 - val_jaccard_index: 0.1475 - val_dice_coef: 0.2561\n",
            "Epoch 2/40\n",
            "4/5 [=======================>......] - ETA: 0s - loss: 0.5053 - jaccard_index: 0.2711 - dice_coef: 0.4261Epoch 1/40\n",
            "5/5 [==============================] - 1s 168ms/step - loss: 0.6627 - jaccard_index: 0.1481 - dice_coef: 0.2572\n",
            "\n",
            "Epoch 00002: val_jaccard_index improved from 0.14752 to 0.14807, saving model to drive/My Drive/DCI-Net/ModelSnapshots/MultiResUNet-(Edwin)-(2019-11-04 21:36:35).h5\n",
            "5/5 [==============================] - 5s 1s/step - loss: 0.5036 - jaccard_index: 0.2682 - dice_coef: 0.4226 - val_loss: 0.6627 - val_jaccard_index: 0.1481 - val_dice_coef: 0.2572\n",
            "Epoch 3/40\n",
            "4/5 [=======================>......] - ETA: 0s - loss: 0.5108 - jaccard_index: 0.2330 - dice_coef: 0.3777Epoch 1/40\n",
            "5/5 [==============================] - 1s 166ms/step - loss: 0.6571 - jaccard_index: 0.1460 - dice_coef: 0.2546\n",
            "\n",
            "Epoch 00003: val_jaccard_index did not improve from 0.14807\n",
            "5/5 [==============================] - 4s 785ms/step - loss: 0.5074 - jaccard_index: 0.2366 - dice_coef: 0.3824 - val_loss: 0.6571 - val_jaccard_index: 0.1460 - val_dice_coef: 0.2546\n",
            "Epoch 4/40\n",
            "4/5 [=======================>......] - ETA: 0s - loss: 0.4733 - jaccard_index: 0.2914 - dice_coef: 0.4510Epoch 1/40\n",
            "5/5 [==============================] - 1s 167ms/step - loss: 0.6452 - jaccard_index: 0.1314 - dice_coef: 0.2315\n",
            "\n",
            "Epoch 00004: val_jaccard_index did not improve from 0.14807\n",
            "5/5 [==============================] - 4s 791ms/step - loss: 0.4795 - jaccard_index: 0.2804 - dice_coef: 0.4372 - val_loss: 0.6452 - val_jaccard_index: 0.1314 - val_dice_coef: 0.2315\n",
            "Epoch 5/40\n",
            "4/5 [=======================>......] - ETA: 0s - loss: 0.5044 - jaccard_index: 0.2453 - dice_coef: 0.3933Epoch 1/40\n",
            "5/5 [==============================] - 1s 168ms/step - loss: 0.6321 - jaccard_index: 0.1434 - dice_coef: 0.2503\n",
            "\n",
            "Epoch 00005: val_jaccard_index did not improve from 0.14807\n",
            "5/5 [==============================] - 4s 794ms/step - loss: 0.5065 - jaccard_index: 0.2384 - dice_coef: 0.3843 - val_loss: 0.6321 - val_jaccard_index: 0.1434 - val_dice_coef: 0.2503\n",
            "Epoch 6/40\n",
            "4/5 [=======================>......] - ETA: 0s - loss: 0.4876 - jaccard_index: 0.2520 - dice_coef: 0.4023Epoch 1/40\n",
            "5/5 [==============================] - 1s 171ms/step - loss: 0.5887 - jaccard_index: 0.1698 - dice_coef: 0.2901\n",
            "\n",
            "Epoch 00006: val_jaccard_index improved from 0.14807 to 0.16983, saving model to drive/My Drive/DCI-Net/ModelSnapshots/MultiResUNet-(Edwin)-(2019-11-04 21:36:35).h5\n",
            "5/5 [==============================] - 6s 1s/step - loss: 0.4916 - jaccard_index: 0.2474 - dice_coef: 0.3965 - val_loss: 0.5887 - val_jaccard_index: 0.1698 - val_dice_coef: 0.2901\n",
            "Epoch 7/40\n",
            "4/5 [=======================>......] - ETA: 0s - loss: 0.4577 - jaccard_index: 0.3088 - dice_coef: 0.4713Epoch 1/40\n",
            "5/5 [==============================] - 1s 167ms/step - loss: 0.5628 - jaccard_index: 0.1699 - dice_coef: 0.2903\n",
            "\n",
            "Epoch 00007: val_jaccard_index improved from 0.16983 to 0.16987, saving model to drive/My Drive/DCI-Net/ModelSnapshots/MultiResUNet-(Edwin)-(2019-11-04 21:36:35).h5\n",
            "5/5 [==============================] - 5s 1s/step - loss: 0.4603 - jaccard_index: 0.3050 - dice_coef: 0.4670 - val_loss: 0.5628 - val_jaccard_index: 0.1699 - val_dice_coef: 0.2903\n",
            "Epoch 8/40\n",
            "4/5 [=======================>......] - ETA: 0s - loss: 0.4705 - jaccard_index: 0.2793 - dice_coef: 0.4359Epoch 1/40\n",
            "5/5 [==============================] - 1s 170ms/step - loss: 0.5741 - jaccard_index: 0.1662 - dice_coef: 0.2849\n",
            "\n",
            "Epoch 00008: val_jaccard_index did not improve from 0.16987\n",
            "5/5 [==============================] - 4s 794ms/step - loss: 0.4718 - jaccard_index: 0.2758 - dice_coef: 0.4317 - val_loss: 0.5741 - val_jaccard_index: 0.1662 - val_dice_coef: 0.2849\n",
            "Epoch 9/40\n",
            "4/5 [=======================>......] - ETA: 0s - loss: 0.4712 - jaccard_index: 0.2682 - dice_coef: 0.4221Epoch 1/40\n",
            "5/5 [==============================] - 1s 170ms/step - loss: 0.5740 - jaccard_index: 0.1494 - dice_coef: 0.2599\n",
            "\n",
            "Epoch 00009: val_jaccard_index did not improve from 0.16987\n",
            "5/5 [==============================] - 4s 796ms/step - loss: 0.4736 - jaccard_index: 0.2659 - dice_coef: 0.4194 - val_loss: 0.5740 - val_jaccard_index: 0.1494 - val_dice_coef: 0.2599\n",
            "Epoch 10/40\n",
            "4/5 [=======================>......] - ETA: 0s - loss: 0.4677 - jaccard_index: 0.2756 - dice_coef: 0.4320Epoch 1/40\n",
            "5/5 [==============================] - 1s 166ms/step - loss: 0.5566 - jaccard_index: 0.1865 - dice_coef: 0.3143\n",
            "\n",
            "Epoch 00010: val_jaccard_index improved from 0.16987 to 0.18649, saving model to drive/My Drive/DCI-Net/ModelSnapshots/MultiResUNet-(Edwin)-(2019-11-04 21:36:35).h5\n",
            "5/5 [==============================] - 6s 1s/step - loss: 0.4661 - jaccard_index: 0.2756 - dice_coef: 0.4320 - val_loss: 0.5566 - val_jaccard_index: 0.1865 - val_dice_coef: 0.3143\n",
            "Epoch 11/40\n",
            "4/5 [=======================>......] - ETA: 0s - loss: 0.4643 - jaccard_index: 0.2812 - dice_coef: 0.4387Epoch 1/40\n",
            "5/5 [==============================] - 1s 169ms/step - loss: 0.5467 - jaccard_index: 0.2153 - dice_coef: 0.3531\n",
            "\n",
            "Epoch 00011: val_jaccard_index improved from 0.18649 to 0.21527, saving model to drive/My Drive/DCI-Net/ModelSnapshots/MultiResUNet-(Edwin)-(2019-11-04 21:36:35).h5\n",
            "5/5 [==============================] - 5s 1s/step - loss: 0.4633 - jaccard_index: 0.2817 - dice_coef: 0.4394 - val_loss: 0.5467 - val_jaccard_index: 0.2153 - val_dice_coef: 0.3531\n",
            "Epoch 12/40\n",
            "4/5 [=======================>......] - ETA: 0s - loss: 0.4838 - jaccard_index: 0.2577 - dice_coef: 0.4089Epoch 1/40\n",
            "5/5 [==============================] - 1s 168ms/step - loss: 0.5657 - jaccard_index: 0.1935 - dice_coef: 0.3237\n",
            "\n",
            "Epoch 00012: val_jaccard_index did not improve from 0.21527\n",
            "5/5 [==============================] - 4s 791ms/step - loss: 0.4810 - jaccard_index: 0.2611 - dice_coef: 0.4134 - val_loss: 0.5657 - val_jaccard_index: 0.1935 - val_dice_coef: 0.3237\n",
            "Epoch 13/40\n",
            "4/5 [=======================>......] - ETA: 0s - loss: 0.4532 - jaccard_index: 0.2950 - dice_coef: 0.4554Epoch 1/40\n",
            "5/5 [==============================] - 1s 166ms/step - loss: 0.5729 - jaccard_index: 0.2195 - dice_coef: 0.3598\n",
            "\n",
            "Epoch 00013: val_jaccard_index improved from 0.21527 to 0.21948, saving model to drive/My Drive/DCI-Net/ModelSnapshots/MultiResUNet-(Edwin)-(2019-11-04 21:36:35).h5\n",
            "5/5 [==============================] - 5s 1s/step - loss: 0.4492 - jaccard_index: 0.3044 - dice_coef: 0.4662 - val_loss: 0.5729 - val_jaccard_index: 0.2195 - val_dice_coef: 0.3598\n",
            "Epoch 14/40\n",
            "4/5 [=======================>......] - ETA: 0s - loss: 0.4880 - jaccard_index: 0.2252 - dice_coef: 0.3672Epoch 1/40\n",
            "5/5 [==============================] - 1s 166ms/step - loss: 0.5915 - jaccard_index: 0.1738 - dice_coef: 0.2957\n",
            "\n",
            "Epoch 00014: val_jaccard_index did not improve from 0.21948\n",
            "5/5 [==============================] - 4s 790ms/step - loss: 0.4835 - jaccard_index: 0.2370 - dice_coef: 0.3822 - val_loss: 0.5915 - val_jaccard_index: 0.1738 - val_dice_coef: 0.2957\n",
            "Epoch 15/40\n",
            "4/5 [=======================>......] - ETA: 0s - loss: 0.4695 - jaccard_index: 0.2660 - dice_coef: 0.4198Epoch 1/40\n",
            "5/5 [==============================] - 1s 168ms/step - loss: 0.6062 - jaccard_index: 0.1951 - dice_coef: 0.3258\n",
            "\n",
            "Epoch 00015: val_jaccard_index did not improve from 0.21948\n",
            "5/5 [==============================] - 4s 793ms/step - loss: 0.4694 - jaccard_index: 0.2619 - dice_coef: 0.4147 - val_loss: 0.6062 - val_jaccard_index: 0.1951 - val_dice_coef: 0.3258\n",
            "Epoch 16/40\n",
            "4/5 [=======================>......] - ETA: 0s - loss: 0.4620 - jaccard_index: 0.2831 - dice_coef: 0.4408Epoch 1/40\n",
            "5/5 [==============================] - 1s 169ms/step - loss: 0.5988 - jaccard_index: 0.1839 - dice_coef: 0.3104\n",
            "\n",
            "Epoch 00016: val_jaccard_index did not improve from 0.21948\n",
            "5/5 [==============================] - 4s 792ms/step - loss: 0.4618 - jaccard_index: 0.2785 - dice_coef: 0.4352 - val_loss: 0.5988 - val_jaccard_index: 0.1839 - val_dice_coef: 0.3104\n",
            "Epoch 17/40\n",
            "4/5 [=======================>......] - ETA: 0s - loss: 0.4574 - jaccard_index: 0.2740 - dice_coef: 0.4301Epoch 1/40\n",
            "5/5 [==============================] - 1s 166ms/step - loss: 0.6092 - jaccard_index: 0.1947 - dice_coef: 0.3254\n",
            "\n",
            "Epoch 00017: val_jaccard_index did not improve from 0.21948\n",
            "5/5 [==============================] - 4s 792ms/step - loss: 0.4573 - jaccard_index: 0.2737 - dice_coef: 0.4297 - val_loss: 0.6092 - val_jaccard_index: 0.1947 - val_dice_coef: 0.3254\n",
            "Epoch 18/40\n",
            "4/5 [=======================>......] - ETA: 0s - loss: 0.4613 - jaccard_index: 0.2789 - dice_coef: 0.4345Epoch 1/40\n",
            "5/5 [==============================] - 1s 169ms/step - loss: 0.6957 - jaccard_index: 0.2114 - dice_coef: 0.3480\n",
            "\n",
            "Epoch 00018: val_jaccard_index did not improve from 0.21948\n",
            "5/5 [==============================] - 4s 796ms/step - loss: 0.4649 - jaccard_index: 0.2690 - dice_coef: 0.4223 - val_loss: 0.6957 - val_jaccard_index: 0.2114 - val_dice_coef: 0.3480\n",
            "Epoch 19/40\n",
            "4/5 [=======================>......] - ETA: 0s - loss: 0.4694 - jaccard_index: 0.2573 - dice_coef: 0.4085Epoch 1/40\n",
            "5/5 [==============================] - 1s 164ms/step - loss: 0.6775 - jaccard_index: 0.1817 - dice_coef: 0.3074\n",
            "\n",
            "Epoch 00019: val_jaccard_index did not improve from 0.21948\n",
            "5/5 [==============================] - 4s 788ms/step - loss: 0.4645 - jaccard_index: 0.2681 - dice_coef: 0.4217 - val_loss: 0.6775 - val_jaccard_index: 0.1817 - val_dice_coef: 0.3074\n",
            "Epoch 20/40\n",
            "4/5 [=======================>......] - ETA: 0s - loss: 0.4449 - jaccard_index: 0.2905 - dice_coef: 0.4501Epoch 1/40\n",
            "5/5 [==============================] - 1s 168ms/step - loss: 0.6752 - jaccard_index: 0.1879 - dice_coef: 0.3158\n",
            "\n",
            "Epoch 00020: val_jaccard_index did not improve from 0.21948\n",
            "5/5 [==============================] - 4s 792ms/step - loss: 0.4486 - jaccard_index: 0.2846 - dice_coef: 0.4428 - val_loss: 0.6752 - val_jaccard_index: 0.1879 - val_dice_coef: 0.3158\n",
            "Epoch 21/40\n",
            "4/5 [=======================>......] - ETA: 0s - loss: 0.4483 - jaccard_index: 0.2813 - dice_coef: 0.4389Epoch 1/40\n",
            "5/5 [==============================] - 1s 164ms/step - loss: 0.7542 - jaccard_index: 0.1929 - dice_coef: 0.3226\n",
            "\n",
            "Epoch 00021: val_jaccard_index did not improve from 0.21948\n",
            "5/5 [==============================] - 4s 785ms/step - loss: 0.4489 - jaccard_index: 0.2799 - dice_coef: 0.4373 - val_loss: 0.7542 - val_jaccard_index: 0.1929 - val_dice_coef: 0.3226\n",
            "Epoch 22/40\n",
            "4/5 [=======================>......] - ETA: 0s - loss: 0.4539 - jaccard_index: 0.2868 - dice_coef: 0.4453Epoch 1/40\n",
            "5/5 [==============================] - 1s 170ms/step - loss: 0.9313 - jaccard_index: 0.1961 - dice_coef: 0.3263\n",
            "\n",
            "Epoch 00022: val_jaccard_index did not improve from 0.21948\n",
            "5/5 [==============================] - 4s 795ms/step - loss: 0.4529 - jaccard_index: 0.2804 - dice_coef: 0.4375 - val_loss: 0.9313 - val_jaccard_index: 0.1961 - val_dice_coef: 0.3263\n",
            "Epoch 23/40\n",
            "4/5 [=======================>......] - ETA: 0s - loss: 0.4456 - jaccard_index: 0.2811 - dice_coef: 0.4385Epoch 1/40\n",
            "5/5 [==============================] - 1s 168ms/step - loss: 0.8535 - jaccard_index: 0.1819 - dice_coef: 0.3070\n",
            "\n",
            "Epoch 00023: val_jaccard_index did not improve from 0.21948\n",
            "5/5 [==============================] - 4s 794ms/step - loss: 0.4485 - jaccard_index: 0.2808 - dice_coef: 0.4382 - val_loss: 0.8535 - val_jaccard_index: 0.1819 - val_dice_coef: 0.3070\n",
            "Epoch 24/40\n",
            "4/5 [=======================>......] - ETA: 0s - loss: 0.4595 - jaccard_index: 0.2590 - dice_coef: 0.4106Epoch 1/40\n",
            "5/5 [==============================] - 1s 167ms/step - loss: 0.6952 - jaccard_index: 0.1802 - dice_coef: 0.3047\n",
            "\n",
            "Epoch 00024: val_jaccard_index did not improve from 0.21948\n",
            "5/5 [==============================] - 4s 791ms/step - loss: 0.4557 - jaccard_index: 0.2651 - dice_coef: 0.4183 - val_loss: 0.6952 - val_jaccard_index: 0.1802 - val_dice_coef: 0.3047\n",
            "Epoch 25/40\n",
            "4/5 [=======================>......] - ETA: 0s - loss: 0.4383 - jaccard_index: 0.2983 - dice_coef: 0.4590Epoch 1/40\n",
            "5/5 [==============================] - 1s 168ms/step - loss: 0.7243 - jaccard_index: 0.1792 - dice_coef: 0.3039\n",
            "\n",
            "Epoch 00025: val_jaccard_index did not improve from 0.21948\n",
            "5/5 [==============================] - 4s 788ms/step - loss: 0.4430 - jaccard_index: 0.2871 - dice_coef: 0.4452 - val_loss: 0.7243 - val_jaccard_index: 0.1792 - val_dice_coef: 0.3039\n",
            "Epoch 26/40\n",
            "4/5 [=======================>......] - ETA: 0s - loss: 0.4476 - jaccard_index: 0.2689 - dice_coef: 0.4235Epoch 1/40\n",
            "5/5 [==============================] - 1s 165ms/step - loss: 0.7890 - jaccard_index: 0.1837 - dice_coef: 0.3100\n",
            "\n",
            "Epoch 00026: val_jaccard_index did not improve from 0.21948\n",
            "5/5 [==============================] - 4s 790ms/step - loss: 0.4512 - jaccard_index: 0.2667 - dice_coef: 0.4208 - val_loss: 0.7890 - val_jaccard_index: 0.1837 - val_dice_coef: 0.3100\n",
            "Epoch 27/40\n",
            "4/5 [=======================>......] - ETA: 0s - loss: 0.4435 - jaccard_index: 0.2864 - dice_coef: 0.4442Epoch 1/40\n",
            "5/5 [==============================] - 1s 168ms/step - loss: 0.7339 - jaccard_index: 0.1972 - dice_coef: 0.3293\n",
            "\n",
            "Epoch 00027: val_jaccard_index did not improve from 0.21948\n",
            "5/5 [==============================] - 4s 793ms/step - loss: 0.4449 - jaccard_index: 0.2858 - dice_coef: 0.4437 - val_loss: 0.7339 - val_jaccard_index: 0.1972 - val_dice_coef: 0.3293\n",
            "Epoch 28/40\n",
            "4/5 [=======================>......] - ETA: 0s - loss: 0.4472 - jaccard_index: 0.2673 - dice_coef: 0.4217Epoch 1/40\n",
            "5/5 [==============================] - 1s 169ms/step - loss: 0.7438 - jaccard_index: 0.1834 - dice_coef: 0.3095\n",
            "\n",
            "Epoch 00028: val_jaccard_index did not improve from 0.21948\n",
            "5/5 [==============================] - 4s 793ms/step - loss: 0.4480 - jaccard_index: 0.2673 - dice_coef: 0.4217 - val_loss: 0.7438 - val_jaccard_index: 0.1834 - val_dice_coef: 0.3095\n",
            "Epoch 29/40\n",
            "4/5 [=======================>......] - ETA: 0s - loss: 0.4385 - jaccard_index: 0.2814 - dice_coef: 0.4386Epoch 1/40\n",
            "5/5 [==============================] - 1s 168ms/step - loss: 0.8127 - jaccard_index: 0.1554 - dice_coef: 0.2686\n",
            "\n",
            "Epoch 00029: val_jaccard_index did not improve from 0.21948\n",
            "5/5 [==============================] - 4s 792ms/step - loss: 0.4359 - jaccard_index: 0.2835 - dice_coef: 0.4412 - val_loss: 0.8127 - val_jaccard_index: 0.1554 - val_dice_coef: 0.2686\n",
            "Epoch 30/40\n",
            "4/5 [=======================>......] - ETA: 0s - loss: 0.4351 - jaccard_index: 0.2898 - dice_coef: 0.4492Epoch 1/40\n",
            "5/5 [==============================] - 1s 163ms/step - loss: 0.8608 - jaccard_index: 0.1750 - dice_coef: 0.2965\n",
            "\n",
            "Epoch 00030: val_jaccard_index did not improve from 0.21948\n",
            "5/5 [==============================] - 4s 784ms/step - loss: 0.4364 - jaccard_index: 0.2835 - dice_coef: 0.4414 - val_loss: 0.8608 - val_jaccard_index: 0.1750 - val_dice_coef: 0.2965\n",
            "Epoch 31/40\n",
            "4/5 [=======================>......] - ETA: 0s - loss: 0.4592 - jaccard_index: 0.2582 - dice_coef: 0.4091Epoch 1/40\n",
            "5/5 [==============================] - 1s 166ms/step - loss: 0.8749 - jaccard_index: 0.1737 - dice_coef: 0.2954\n",
            "\n",
            "Epoch 00031: val_jaccard_index did not improve from 0.21948\n",
            "5/5 [==============================] - 4s 787ms/step - loss: 0.4492 - jaccard_index: 0.2769 - dice_coef: 0.4313 - val_loss: 0.8749 - val_jaccard_index: 0.1737 - val_dice_coef: 0.2954\n",
            "Epoch 32/40\n",
            "4/5 [=======================>......] - ETA: 0s - loss: 0.4457 - jaccard_index: 0.2554 - dice_coef: 0.4064Epoch 1/40\n",
            "5/5 [==============================] - 1s 165ms/step - loss: 0.8986 - jaccard_index: 0.1669 - dice_coef: 0.2847\n",
            "\n",
            "Epoch 00032: val_jaccard_index did not improve from 0.21948\n",
            "5/5 [==============================] - 4s 787ms/step - loss: 0.4435 - jaccard_index: 0.2661 - dice_coef: 0.4196 - val_loss: 0.8986 - val_jaccard_index: 0.1669 - val_dice_coef: 0.2847\n",
            "Epoch 33/40\n",
            "4/5 [=======================>......] - ETA: 0s - loss: 0.4376 - jaccard_index: 0.2765 - dice_coef: 0.4328Epoch 1/40\n",
            "5/5 [==============================] - 1s 168ms/step - loss: 0.8857 - jaccard_index: 0.1473 - dice_coef: 0.2560\n",
            "\n",
            "Epoch 00033: val_jaccard_index did not improve from 0.21948\n",
            "5/5 [==============================] - 4s 794ms/step - loss: 0.4337 - jaccard_index: 0.2817 - dice_coef: 0.4392 - val_loss: 0.8857 - val_jaccard_index: 0.1473 - val_dice_coef: 0.2560\n",
            "Epoch 34/40\n",
            "4/5 [=======================>......] - ETA: 0s - loss: 0.4449 - jaccard_index: 0.2637 - dice_coef: 0.4166Epoch 1/40\n",
            "5/5 [==============================] - 1s 167ms/step - loss: 0.9578 - jaccard_index: 0.1588 - dice_coef: 0.2727\n",
            "\n",
            "Epoch 00034: val_jaccard_index did not improve from 0.21948\n",
            "5/5 [==============================] - 4s 791ms/step - loss: 0.4431 - jaccard_index: 0.2651 - dice_coef: 0.4185 - val_loss: 0.9578 - val_jaccard_index: 0.1588 - val_dice_coef: 0.2727\n",
            "Epoch 35/40\n",
            "4/5 [=======================>......] - ETA: 0s - loss: 0.4327 - jaccard_index: 0.2805 - dice_coef: 0.4363Epoch 1/40\n",
            "5/5 [==============================] - 1s 167ms/step - loss: 1.0126 - jaccard_index: 0.1756 - dice_coef: 0.2984\n",
            "\n",
            "Epoch 00035: val_jaccard_index did not improve from 0.21948\n",
            "5/5 [==============================] - 4s 799ms/step - loss: 0.4342 - jaccard_index: 0.2766 - dice_coef: 0.4318 - val_loss: 1.0126 - val_jaccard_index: 0.1756 - val_dice_coef: 0.2984\n",
            "Epoch 36/40\n",
            "4/5 [=======================>......] - ETA: 0s - loss: 0.4264 - jaccard_index: 0.3057 - dice_coef: 0.4677Epoch 1/40\n",
            "5/5 [==============================] - 1s 166ms/step - loss: 0.8779 - jaccard_index: 0.1632 - dice_coef: 0.2801\n",
            "\n",
            "Epoch 00036: val_jaccard_index did not improve from 0.21948\n",
            "5/5 [==============================] - 4s 788ms/step - loss: 0.4299 - jaccard_index: 0.2945 - dice_coef: 0.4541 - val_loss: 0.8779 - val_jaccard_index: 0.1632 - val_dice_coef: 0.2801\n",
            "Epoch 37/40\n",
            "4/5 [=======================>......] - ETA: 0s - loss: 0.4329 - jaccard_index: 0.2793 - dice_coef: 0.4354Epoch 1/40\n",
            "5/5 [==============================] - 1s 172ms/step - loss: 0.8020 - jaccard_index: 0.1812 - dice_coef: 0.3061\n",
            "\n",
            "Epoch 00037: val_jaccard_index did not improve from 0.21948\n",
            "5/5 [==============================] - 4s 795ms/step - loss: 0.4295 - jaccard_index: 0.2818 - dice_coef: 0.4387 - val_loss: 0.8020 - val_jaccard_index: 0.1812 - val_dice_coef: 0.3061\n",
            "Epoch 38/40\n",
            "4/5 [=======================>......] - ETA: 0s - loss: 0.4326 - jaccard_index: 0.2746 - dice_coef: 0.4291Epoch 1/40\n",
            "5/5 [==============================] - 1s 169ms/step - loss: 0.9109 - jaccard_index: 0.1682 - dice_coef: 0.2867\n",
            "\n",
            "Epoch 00038: val_jaccard_index did not improve from 0.21948\n",
            "5/5 [==============================] - 4s 792ms/step - loss: 0.4309 - jaccard_index: 0.2749 - dice_coef: 0.4299 - val_loss: 0.9109 - val_jaccard_index: 0.1682 - val_dice_coef: 0.2867\n",
            "Epoch 39/40\n",
            "4/5 [=======================>......] - ETA: 0s - loss: 0.4205 - jaccard_index: 0.3046 - dice_coef: 0.4669Epoch 1/40\n",
            "5/5 [==============================] - 1s 169ms/step - loss: 0.9674 - jaccard_index: 0.1802 - dice_coef: 0.3047\n",
            "\n",
            "Epoch 00039: val_jaccard_index did not improve from 0.21948\n",
            "5/5 [==============================] - 4s 795ms/step - loss: 0.4184 - jaccard_index: 0.3047 - dice_coef: 0.4670 - val_loss: 0.9674 - val_jaccard_index: 0.1802 - val_dice_coef: 0.3047\n",
            "Epoch 40/40\n",
            "4/5 [=======================>......] - ETA: 0s - loss: 0.4398 - jaccard_index: 0.2651 - dice_coef: 0.4189Epoch 1/40\n",
            "5/5 [==============================] - 1s 166ms/step - loss: 1.1135 - jaccard_index: 0.1727 - dice_coef: 0.2942\n",
            "\n",
            "Epoch 00040: val_jaccard_index did not improve from 0.21948\n",
            "5/5 [==============================] - 4s 791ms/step - loss: 0.4395 - jaccard_index: 0.2648 - dice_coef: 0.4185 - val_loss: 1.1135 - val_jaccard_index: 0.1727 - val_dice_coef: 0.2942\n",
            "Found 80 images belonging to 1 classes.\n",
            "Found 80 images belonging to 1 classes.\n",
            "Found 20 images belonging to 1 classes.\n",
            "Found 20 images belonging to 1 classes.\n",
            "Epoch 1/40\n",
            "4/5 [=======================>......] - ETA: 4s - loss: 0.6257 - jaccard_index: 0.1984 - dice_coef: 0.3276 Epoch 1/40\n",
            "5/5 [==============================] - 3s 686ms/step - loss: 2264.2648 - jaccard_index: 0.1746 - dice_coef: 0.2957\n",
            "\n",
            "Epoch 00001: val_jaccard_index improved from -inf to 0.17457, saving model to drive/My Drive/DCI-Net/ModelSnapshots/MultiResUNet-(Gustavo)-(2019-11-04 21:36:35).h5\n",
            "5/5 [==============================] - 106s 21s/step - loss: 0.5982 - jaccard_index: 0.2096 - dice_coef: 0.3432 - val_loss: 2264.2648 - val_jaccard_index: 0.1746 - val_dice_coef: 0.2957\n",
            "Epoch 2/40\n",
            "4/5 [=======================>......] - ETA: 0s - loss: 0.4875 - jaccard_index: 0.2774 - dice_coef: 0.4339Epoch 1/40\n",
            "5/5 [==============================] - 1s 174ms/step - loss: 5184.6104 - jaccard_index: 0.1620 - dice_coef: 0.2785\n",
            "\n",
            "Epoch 00002: val_jaccard_index did not improve from 0.17457\n",
            "5/5 [==============================] - 4s 773ms/step - loss: 0.4867 - jaccard_index: 0.2754 - dice_coef: 0.4316 - val_loss: 5184.6104 - val_jaccard_index: 0.1620 - val_dice_coef: 0.2785\n",
            "Epoch 3/40\n",
            "4/5 [=======================>......] - ETA: 0s - loss: 0.4995 - jaccard_index: 0.2366 - dice_coef: 0.3824Epoch 1/40\n",
            "5/5 [==============================] - 1s 169ms/step - loss: 1892.8334 - jaccard_index: 0.1749 - dice_coef: 0.2973\n",
            "\n",
            "Epoch 00003: val_jaccard_index improved from 0.17457 to 0.17486, saving model to drive/My Drive/DCI-Net/ModelSnapshots/MultiResUNet-(Gustavo)-(2019-11-04 21:36:35).h5\n",
            "5/5 [==============================] - 5s 1s/step - loss: 0.4966 - jaccard_index: 0.2392 - dice_coef: 0.3858 - val_loss: 1892.8334 - val_jaccard_index: 0.1749 - val_dice_coef: 0.2973\n",
            "Epoch 4/40\n",
            "4/5 [=======================>......] - ETA: 0s - loss: 0.4665 - jaccard_index: 0.2906 - dice_coef: 0.4499Epoch 1/40\n",
            "5/5 [==============================] - 1s 168ms/step - loss: 0.7234 - jaccard_index: 0.1442 - dice_coef: 0.2518\n",
            "\n",
            "Epoch 00004: val_jaccard_index did not improve from 0.17486\n",
            "5/5 [==============================] - 4s 751ms/step - loss: 0.4726 - jaccard_index: 0.2801 - dice_coef: 0.4368 - val_loss: 0.7234 - val_jaccard_index: 0.1442 - val_dice_coef: 0.2518\n",
            "Epoch 5/40\n",
            "4/5 [=======================>......] - ETA: 0s - loss: 0.4898 - jaccard_index: 0.2440 - dice_coef: 0.3918Epoch 1/40\n",
            "5/5 [==============================] - 1s 171ms/step - loss: 0.6085 - jaccard_index: 0.1442 - dice_coef: 0.2518\n",
            "\n",
            "Epoch 00005: val_jaccard_index did not improve from 0.17486\n",
            "5/5 [==============================] - 4s 755ms/step - loss: 0.4965 - jaccard_index: 0.2355 - dice_coef: 0.3806 - val_loss: 0.6085 - val_jaccard_index: 0.1442 - val_dice_coef: 0.2518\n",
            "Epoch 6/40\n",
            "4/5 [=======================>......] - ETA: 0s - loss: 0.4715 - jaccard_index: 0.2572 - dice_coef: 0.4089Epoch 1/40\n",
            "5/5 [==============================] - 1s 171ms/step - loss: 0.5586 - jaccard_index: 0.1521 - dice_coef: 0.2637\n",
            "\n",
            "Epoch 00006: val_jaccard_index did not improve from 0.17486\n",
            "5/5 [==============================] - 4s 754ms/step - loss: 0.4772 - jaccard_index: 0.2517 - dice_coef: 0.4019 - val_loss: 0.5586 - val_jaccard_index: 0.1521 - val_dice_coef: 0.2637\n",
            "Epoch 7/40\n",
            "4/5 [=======================>......] - ETA: 0s - loss: 0.4461 - jaccard_index: 0.3121 - dice_coef: 0.4752Epoch 1/40\n",
            "5/5 [==============================] - 1s 170ms/step - loss: 0.5481 - jaccard_index: 0.1518 - dice_coef: 0.2633\n",
            "\n",
            "Epoch 00007: val_jaccard_index did not improve from 0.17486\n",
            "5/5 [==============================] - 4s 752ms/step - loss: 0.4472 - jaccard_index: 0.3085 - dice_coef: 0.4711 - val_loss: 0.5481 - val_jaccard_index: 0.1518 - val_dice_coef: 0.2633\n",
            "Epoch 8/40\n",
            "4/5 [=======================>......] - ETA: 0s - loss: 0.4515 - jaccard_index: 0.2823 - dice_coef: 0.4396Epoch 1/40\n",
            "5/5 [==============================] - 1s 173ms/step - loss: 0.5522 - jaccard_index: 0.1415 - dice_coef: 0.2475\n",
            "\n",
            "Epoch 00008: val_jaccard_index did not improve from 0.17486\n",
            "5/5 [==============================] - 4s 754ms/step - loss: 0.4522 - jaccard_index: 0.2795 - dice_coef: 0.4362 - val_loss: 0.5522 - val_jaccard_index: 0.1415 - val_dice_coef: 0.2475\n",
            "Epoch 9/40\n",
            "4/5 [=======================>......] - ETA: 0s - loss: 0.4529 - jaccard_index: 0.2722 - dice_coef: 0.4272Epoch 1/40\n",
            "5/5 [==============================] - 1s 171ms/step - loss: 0.5133 - jaccard_index: 0.2056 - dice_coef: 0.3408\n",
            "\n",
            "Epoch 00009: val_jaccard_index improved from 0.17486 to 0.20558, saving model to drive/My Drive/DCI-Net/ModelSnapshots/MultiResUNet-(Gustavo)-(2019-11-04 21:36:35).h5\n",
            "5/5 [==============================] - 9s 2s/step - loss: 0.4543 - jaccard_index: 0.2709 - dice_coef: 0.4256 - val_loss: 0.5133 - val_jaccard_index: 0.2056 - val_dice_coef: 0.3408\n",
            "Epoch 10/40\n",
            "4/5 [=======================>......] - ETA: 0s - loss: 0.4469 - jaccard_index: 0.2818 - dice_coef: 0.4395Epoch 1/40\n",
            "5/5 [==============================] - 1s 171ms/step - loss: 0.4992 - jaccard_index: 0.2556 - dice_coef: 0.4062\n",
            "\n",
            "Epoch 00010: val_jaccard_index improved from 0.20558 to 0.25557, saving model to drive/My Drive/DCI-Net/ModelSnapshots/MultiResUNet-(Gustavo)-(2019-11-04 21:36:35).h5\n",
            "5/5 [==============================] - 5s 1s/step - loss: 0.4453 - jaccard_index: 0.2816 - dice_coef: 0.4393 - val_loss: 0.4992 - val_jaccard_index: 0.2556 - val_dice_coef: 0.4062\n",
            "Epoch 11/40\n",
            "4/5 [=======================>......] - ETA: 0s - loss: 0.4435 - jaccard_index: 0.2850 - dice_coef: 0.4433Epoch 1/40\n",
            "5/5 [==============================] - 1s 165ms/step - loss: 0.4868 - jaccard_index: 0.2452 - dice_coef: 0.3921\n",
            "\n",
            "Epoch 00011: val_jaccard_index did not improve from 0.25557\n",
            "5/5 [==============================] - 4s 747ms/step - loss: 0.4422 - jaccard_index: 0.2856 - dice_coef: 0.4442 - val_loss: 0.4868 - val_jaccard_index: 0.2452 - val_dice_coef: 0.3921\n",
            "Epoch 12/40\n",
            "4/5 [=======================>......] - ETA: 0s - loss: 0.4585 - jaccard_index: 0.2617 - dice_coef: 0.4141Epoch 1/40\n",
            "5/5 [==============================] - 1s 172ms/step - loss: 0.5045 - jaccard_index: 0.2075 - dice_coef: 0.3431\n",
            "\n",
            "Epoch 00012: val_jaccard_index did not improve from 0.25557\n",
            "5/5 [==============================] - 4s 753ms/step - loss: 0.4564 - jaccard_index: 0.2649 - dice_coef: 0.4181 - val_loss: 0.5045 - val_jaccard_index: 0.2075 - val_dice_coef: 0.3431\n",
            "Epoch 13/40\n",
            "4/5 [=======================>......] - ETA: 0s - loss: 0.4301 - jaccard_index: 0.3026 - dice_coef: 0.4643Epoch 1/40\n",
            "5/5 [==============================] - 1s 170ms/step - loss: 0.5550 - jaccard_index: 0.1423 - dice_coef: 0.2488\n",
            "\n",
            "Epoch 00013: val_jaccard_index did not improve from 0.25557\n",
            "5/5 [==============================] - 4s 756ms/step - loss: 0.4248 - jaccard_index: 0.3135 - dice_coef: 0.4767 - val_loss: 0.5550 - val_jaccard_index: 0.1423 - val_dice_coef: 0.2488\n",
            "Epoch 14/40\n",
            "4/5 [=======================>......] - ETA: 0s - loss: 0.4592 - jaccard_index: 0.2321 - dice_coef: 0.3763Epoch 1/40\n",
            "5/5 [==============================] - 1s 171ms/step - loss: 0.4901 - jaccard_index: 0.2269 - dice_coef: 0.3696\n",
            "\n",
            "Epoch 00014: val_jaccard_index did not improve from 0.25557\n",
            "5/5 [==============================] - 4s 750ms/step - loss: 0.4556 - jaccard_index: 0.2428 - dice_coef: 0.3899 - val_loss: 0.4901 - val_jaccard_index: 0.2269 - val_dice_coef: 0.3696\n",
            "Epoch 15/40\n",
            "4/5 [=======================>......] - ETA: 0s - loss: 0.4430 - jaccard_index: 0.2701 - dice_coef: 0.4249Epoch 1/40\n",
            "5/5 [==============================] - 1s 169ms/step - loss: 0.4875 - jaccard_index: 0.2257 - dice_coef: 0.3676\n",
            "\n",
            "Epoch 00015: val_jaccard_index did not improve from 0.25557\n",
            "5/5 [==============================] - 4s 748ms/step - loss: 0.4429 - jaccard_index: 0.2663 - dice_coef: 0.4202 - val_loss: 0.4875 - val_jaccard_index: 0.2257 - val_dice_coef: 0.3676\n",
            "Epoch 16/40\n",
            "4/5 [=======================>......] - ETA: 0s - loss: 0.4336 - jaccard_index: 0.2899 - dice_coef: 0.4491Epoch 1/40\n",
            "5/5 [==============================] - 1s 170ms/step - loss: 0.5235 - jaccard_index: 0.2030 - dice_coef: 0.3373\n",
            "\n",
            "Epoch 00016: val_jaccard_index did not improve from 0.25557\n",
            "5/5 [==============================] - 4s 750ms/step - loss: 0.4331 - jaccard_index: 0.2857 - dice_coef: 0.4440 - val_loss: 0.5235 - val_jaccard_index: 0.2030 - val_dice_coef: 0.3373\n",
            "Epoch 17/40\n",
            "4/5 [=======================>......] - ETA: 0s - loss: 0.4275 - jaccard_index: 0.2828 - dice_coef: 0.4409Epoch 1/40\n",
            "5/5 [==============================] - 1s 166ms/step - loss: 0.5386 - jaccard_index: 0.1820 - dice_coef: 0.3071\n",
            "\n",
            "Epoch 00017: val_jaccard_index did not improve from 0.25557\n",
            "5/5 [==============================] - 4s 749ms/step - loss: 0.4277 - jaccard_index: 0.2823 - dice_coef: 0.4402 - val_loss: 0.5386 - val_jaccard_index: 0.1820 - val_dice_coef: 0.3071\n",
            "Epoch 18/40\n",
            "4/5 [=======================>......] - ETA: 0s - loss: 0.4322 - jaccard_index: 0.2857 - dice_coef: 0.4430Epoch 1/40\n",
            "5/5 [==============================] - 1s 168ms/step - loss: 0.4848 - jaccard_index: 0.2133 - dice_coef: 0.3514\n",
            "\n",
            "Epoch 00018: val_jaccard_index did not improve from 0.25557\n",
            "5/5 [==============================] - 4s 753ms/step - loss: 0.4352 - jaccard_index: 0.2762 - dice_coef: 0.4313 - val_loss: 0.4848 - val_jaccard_index: 0.2133 - val_dice_coef: 0.3514\n",
            "Epoch 19/40\n",
            "4/5 [=======================>......] - ETA: 0s - loss: 0.4351 - jaccard_index: 0.2653 - dice_coef: 0.4186Epoch 1/40\n",
            "5/5 [==============================] - 1s 171ms/step - loss: 0.4925 - jaccard_index: 0.2159 - dice_coef: 0.3542\n",
            "\n",
            "Epoch 00019: val_jaccard_index did not improve from 0.25557\n",
            "5/5 [==============================] - 4s 752ms/step - loss: 0.4311 - jaccard_index: 0.2760 - dice_coef: 0.4316 - val_loss: 0.4925 - val_jaccard_index: 0.2159 - val_dice_coef: 0.3542\n",
            "Epoch 20/40\n",
            "4/5 [=======================>......] - ETA: 0s - loss: 0.4152 - jaccard_index: 0.2962 - dice_coef: 0.4570Epoch 1/40\n",
            "5/5 [==============================] - 1s 174ms/step - loss: 0.4909 - jaccard_index: 0.2140 - dice_coef: 0.3498\n",
            "\n",
            "Epoch 00020: val_jaccard_index did not improve from 0.25557\n",
            "5/5 [==============================] - 4s 758ms/step - loss: 0.4183 - jaccard_index: 0.2908 - dice_coef: 0.4504 - val_loss: 0.4909 - val_jaccard_index: 0.2140 - val_dice_coef: 0.3498\n",
            "Epoch 21/40\n",
            "4/5 [=======================>......] - ETA: 0s - loss: 0.4158 - jaccard_index: 0.2903 - dice_coef: 0.4499Epoch 1/40\n",
            "5/5 [==============================] - 1s 171ms/step - loss: 0.4994 - jaccard_index: 0.2030 - dice_coef: 0.3367\n",
            "\n",
            "Epoch 00021: val_jaccard_index did not improve from 0.25557\n",
            "5/5 [==============================] - 4s 750ms/step - loss: 0.4164 - jaccard_index: 0.2891 - dice_coef: 0.4485 - val_loss: 0.4994 - val_jaccard_index: 0.2030 - val_dice_coef: 0.3367\n",
            "Epoch 22/40\n",
            "4/5 [=======================>......] - ETA: 0s - loss: 0.4207 - jaccard_index: 0.2958 - dice_coef: 0.4562Epoch 1/40\n",
            "5/5 [==============================] - 1s 172ms/step - loss: 0.5374 - jaccard_index: 0.1390 - dice_coef: 0.2433\n",
            "\n",
            "Epoch 00022: val_jaccard_index did not improve from 0.25557\n",
            "5/5 [==============================] - 4s 752ms/step - loss: 0.4196 - jaccard_index: 0.2898 - dice_coef: 0.4489 - val_loss: 0.5374 - val_jaccard_index: 0.1390 - val_dice_coef: 0.2433\n",
            "Epoch 23/40\n",
            "4/5 [=======================>......] - ETA: 0s - loss: 0.4129 - jaccard_index: 0.2913 - dice_coef: 0.4508Epoch 1/40\n",
            "5/5 [==============================] - 1s 168ms/step - loss: 0.5074 - jaccard_index: 0.1782 - dice_coef: 0.3021\n",
            "\n",
            "Epoch 00023: val_jaccard_index did not improve from 0.25557\n",
            "5/5 [==============================] - 4s 748ms/step - loss: 0.4142 - jaccard_index: 0.2910 - dice_coef: 0.4506 - val_loss: 0.5074 - val_jaccard_index: 0.1782 - val_dice_coef: 0.3021\n",
            "Epoch 24/40\n",
            "4/5 [=======================>......] - ETA: 0s - loss: 0.4249 - jaccard_index: 0.2658 - dice_coef: 0.4192Epoch 1/40\n",
            "5/5 [==============================] - 1s 173ms/step - loss: 0.4986 - jaccard_index: 0.1774 - dice_coef: 0.3005\n",
            "\n",
            "Epoch 00024: val_jaccard_index did not improve from 0.25557\n",
            "5/5 [==============================] - 4s 754ms/step - loss: 0.4215 - jaccard_index: 0.2720 - dice_coef: 0.4269 - val_loss: 0.4986 - val_jaccard_index: 0.1774 - val_dice_coef: 0.3005\n",
            "Epoch 25/40\n",
            "4/5 [=======================>......] - ETA: 0s - loss: 0.4043 - jaccard_index: 0.3077 - dice_coef: 0.4700Epoch 1/40\n",
            "5/5 [==============================] - 1s 169ms/step - loss: 0.4922 - jaccard_index: 0.2000 - dice_coef: 0.3326\n",
            "\n",
            "Epoch 00025: val_jaccard_index did not improve from 0.25557\n",
            "5/5 [==============================] - 4s 748ms/step - loss: 0.4077 - jaccard_index: 0.2967 - dice_coef: 0.4568 - val_loss: 0.4922 - val_jaccard_index: 0.2000 - val_dice_coef: 0.3326\n",
            "Epoch 26/40\n",
            "4/5 [=======================>......] - ETA: 0s - loss: 0.4117 - jaccard_index: 0.2790 - dice_coef: 0.4360Epoch 1/40\n",
            "5/5 [==============================] - 1s 174ms/step - loss: 0.4848 - jaccard_index: 0.2047 - dice_coef: 0.3395\n",
            "\n",
            "Epoch 00026: val_jaccard_index did not improve from 0.25557\n",
            "5/5 [==============================] - 4s 752ms/step - loss: 0.4146 - jaccard_index: 0.2770 - dice_coef: 0.4336 - val_loss: 0.4848 - val_jaccard_index: 0.2047 - val_dice_coef: 0.3395\n",
            "Epoch 27/40\n",
            "4/5 [=======================>......] - ETA: 0s - loss: 0.4094 - jaccard_index: 0.2946 - dice_coef: 0.4541Epoch 1/40\n",
            "5/5 [==============================] - 1s 167ms/step - loss: 0.4949 - jaccard_index: 0.1830 - dice_coef: 0.3086\n",
            "\n",
            "Epoch 00027: val_jaccard_index did not improve from 0.25557\n",
            "5/5 [==============================] - 4s 749ms/step - loss: 0.4106 - jaccard_index: 0.2940 - dice_coef: 0.4536 - val_loss: 0.4949 - val_jaccard_index: 0.1830 - val_dice_coef: 0.3086\n",
            "Epoch 28/40\n",
            "4/5 [=======================>......] - ETA: 0s - loss: 0.4061 - jaccard_index: 0.2802 - dice_coef: 0.4376Epoch 1/40\n",
            "5/5 [==============================] - 1s 170ms/step - loss: 0.4963 - jaccard_index: 0.1958 - dice_coef: 0.3256\n",
            "\n",
            "Epoch 00028: val_jaccard_index did not improve from 0.25557\n",
            "5/5 [==============================] - 4s 749ms/step - loss: 0.4080 - jaccard_index: 0.2802 - dice_coef: 0.4375 - val_loss: 0.4963 - val_jaccard_index: 0.1958 - val_dice_coef: 0.3256\n",
            "Epoch 29/40\n",
            "4/5 [=======================>......] - ETA: 0s - loss: 0.4017 - jaccard_index: 0.2927 - dice_coef: 0.4522Epoch 1/40\n",
            "5/5 [==============================] - 1s 170ms/step - loss: 0.4967 - jaccard_index: 0.1889 - dice_coef: 0.3169\n",
            "\n",
            "Epoch 00029: val_jaccard_index did not improve from 0.25557\n",
            "5/5 [==============================] - 4s 751ms/step - loss: 0.3993 - jaccard_index: 0.2948 - dice_coef: 0.4549 - val_loss: 0.4967 - val_jaccard_index: 0.1889 - val_dice_coef: 0.3169\n",
            "Epoch 30/40\n",
            "4/5 [=======================>......] - ETA: 0s - loss: 0.3988 - jaccard_index: 0.2997 - dice_coef: 0.4610Epoch 1/40\n",
            "5/5 [==============================] - 1s 169ms/step - loss: 0.4995 - jaccard_index: 0.1522 - dice_coef: 0.2632\n",
            "\n",
            "Epoch 00030: val_jaccard_index did not improve from 0.25557\n",
            "5/5 [==============================] - 4s 749ms/step - loss: 0.3996 - jaccard_index: 0.2932 - dice_coef: 0.4532 - val_loss: 0.4995 - val_jaccard_index: 0.1522 - val_dice_coef: 0.2632\n",
            "Epoch 31/40\n",
            "4/5 [=======================>......] - ETA: 0s - loss: 0.4169 - jaccard_index: 0.2697 - dice_coef: 0.4236Epoch 1/40\n",
            "5/5 [==============================] - 1s 170ms/step - loss: 0.4917 - jaccard_index: 0.1727 - dice_coef: 0.2936\n",
            "\n",
            "Epoch 00031: val_jaccard_index did not improve from 0.25557\n",
            "5/5 [==============================] - 4s 750ms/step - loss: 0.4092 - jaccard_index: 0.2884 - dice_coef: 0.4454 - val_loss: 0.4917 - val_jaccard_index: 0.1727 - val_dice_coef: 0.2936\n",
            "Epoch 32/40\n",
            "4/5 [=======================>......] - ETA: 0s - loss: 0.4064 - jaccard_index: 0.2653 - dice_coef: 0.4190Epoch 1/40\n",
            "5/5 [==============================] - 1s 169ms/step - loss: 0.4947 - jaccard_index: 0.2215 - dice_coef: 0.3616\n",
            "\n",
            "Epoch 00032: val_jaccard_index did not improve from 0.25557\n",
            "5/5 [==============================] - 4s 749ms/step - loss: 0.4057 - jaccard_index: 0.2752 - dice_coef: 0.4310 - val_loss: 0.4947 - val_jaccard_index: 0.2215 - val_dice_coef: 0.3616\n",
            "Epoch 33/40\n",
            "4/5 [=======================>......] - ETA: 0s - loss: 0.4001 - jaccard_index: 0.2856 - dice_coef: 0.4439Epoch 1/40\n",
            "5/5 [==============================] - 1s 174ms/step - loss: 0.5510 - jaccard_index: 0.2427 - dice_coef: 0.3883\n",
            "\n",
            "Epoch 00033: val_jaccard_index did not improve from 0.25557\n",
            "5/5 [==============================] - 4s 753ms/step - loss: 0.3966 - jaccard_index: 0.2912 - dice_coef: 0.4506 - val_loss: 0.5510 - val_jaccard_index: 0.2427 - val_dice_coef: 0.3883\n",
            "Epoch 34/40\n",
            "4/5 [=======================>......] - ETA: 0s - loss: 0.4025 - jaccard_index: 0.2768 - dice_coef: 0.4329Epoch 1/40\n",
            "5/5 [==============================] - 1s 171ms/step - loss: 0.8509 - jaccard_index: 0.1961 - dice_coef: 0.3261\n",
            "\n",
            "Epoch 00034: val_jaccard_index did not improve from 0.25557\n",
            "5/5 [==============================] - 4s 752ms/step - loss: 0.4016 - jaccard_index: 0.2777 - dice_coef: 0.4342 - val_loss: 0.8509 - val_jaccard_index: 0.1961 - val_dice_coef: 0.3261\n",
            "Epoch 35/40\n",
            "4/5 [=======================>......] - ETA: 0s - loss: 0.3951 - jaccard_index: 0.2901 - dice_coef: 0.4479Epoch 1/40\n",
            "5/5 [==============================] - 1s 169ms/step - loss: 0.7234 - jaccard_index: 0.1901 - dice_coef: 0.3186\n",
            "\n",
            "Epoch 00035: val_jaccard_index did not improve from 0.25557\n",
            "5/5 [==============================] - 4s 752ms/step - loss: 0.3962 - jaccard_index: 0.2862 - dice_coef: 0.4436 - val_loss: 0.7234 - val_jaccard_index: 0.1901 - val_dice_coef: 0.3186\n",
            "Epoch 36/40\n",
            "4/5 [=======================>......] - ETA: 0s - loss: 0.3905 - jaccard_index: 0.3152 - dice_coef: 0.4788Epoch 1/40\n",
            "5/5 [==============================] - 1s 172ms/step - loss: 0.4786 - jaccard_index: 0.2097 - dice_coef: 0.3463\n",
            "\n",
            "Epoch 00036: val_jaccard_index did not improve from 0.25557\n",
            "5/5 [==============================] - 4s 753ms/step - loss: 0.3925 - jaccard_index: 0.3046 - dice_coef: 0.4661 - val_loss: 0.4786 - val_jaccard_index: 0.2097 - val_dice_coef: 0.3463\n",
            "Epoch 37/40\n",
            "4/5 [=======================>......] - ETA: 0s - loss: 0.3949 - jaccard_index: 0.2891 - dice_coef: 0.4474Epoch 1/40\n",
            "5/5 [==============================] - 1s 170ms/step - loss: 0.4704 - jaccard_index: 0.2107 - dice_coef: 0.3479\n",
            "\n",
            "Epoch 00037: val_jaccard_index did not improve from 0.25557\n",
            "5/5 [==============================] - 4s 749ms/step - loss: 0.3914 - jaccard_index: 0.2918 - dice_coef: 0.4508 - val_loss: 0.4704 - val_jaccard_index: 0.2107 - val_dice_coef: 0.3479\n",
            "Epoch 38/40\n",
            "4/5 [=======================>......] - ETA: 0s - loss: 0.3928 - jaccard_index: 0.2846 - dice_coef: 0.4416Epoch 1/40\n",
            "5/5 [==============================] - 1s 170ms/step - loss: 0.4865 - jaccard_index: 0.2152 - dice_coef: 0.3528\n",
            "\n",
            "Epoch 00038: val_jaccard_index did not improve from 0.25557\n",
            "5/5 [==============================] - 4s 752ms/step - loss: 0.3911 - jaccard_index: 0.2854 - dice_coef: 0.4429 - val_loss: 0.4865 - val_jaccard_index: 0.2152 - val_dice_coef: 0.3528\n",
            "Epoch 39/40\n",
            "4/5 [=======================>......] - ETA: 0s - loss: 0.3841 - jaccard_index: 0.3164 - dice_coef: 0.4806Epoch 1/40\n",
            "5/5 [==============================] - 1s 168ms/step - loss: 0.5297 - jaccard_index: 0.2133 - dice_coef: 0.3512\n",
            "\n",
            "Epoch 00039: val_jaccard_index did not improve from 0.25557\n",
            "5/5 [==============================] - 4s 747ms/step - loss: 0.3819 - jaccard_index: 0.3166 - dice_coef: 0.4809 - val_loss: 0.5297 - val_jaccard_index: 0.2133 - val_dice_coef: 0.3512\n",
            "Epoch 40/40\n",
            "4/5 [=======================>......] - ETA: 0s - loss: 0.3967 - jaccard_index: 0.2753 - dice_coef: 0.4316Epoch 1/40\n",
            "5/5 [==============================] - 1s 171ms/step - loss: 0.5048 - jaccard_index: 0.1986 - dice_coef: 0.3311\n",
            "\n",
            "Epoch 00040: val_jaccard_index did not improve from 0.25557\n",
            "5/5 [==============================] - 4s 753ms/step - loss: 0.3970 - jaccard_index: 0.2747 - dice_coef: 0.4309 - val_loss: 0.5048 - val_jaccard_index: 0.1986 - val_dice_coef: 0.3311\n",
            "Found 80 images belonging to 1 classes.\n",
            "Found 80 images belonging to 1 classes.\n",
            "Found 20 images belonging to 1 classes.\n",
            "Found 20 images belonging to 1 classes.\n",
            "Epoch 1/40\n",
            "4/5 [=======================>......] - ETA: 5s - loss: 0.6431 - jaccard_index: 0.1992 - dice_coef: 0.3296 Epoch 1/40\n",
            "5/5 [==============================] - 4s 796ms/step - loss: 0.6772 - jaccard_index: 0.1474 - dice_coef: 0.2563\n",
            "\n",
            "Epoch 00001: val_jaccard_index improved from -inf to 0.14743, saving model to drive/My Drive/DCI-Net/ModelSnapshots/MultiResUNet-(Original)-(2019-11-04 21:36:35).h5\n",
            "5/5 [==============================] - 152s 30s/step - loss: 0.6140 - jaccard_index: 0.2108 - dice_coef: 0.3456 - val_loss: 0.6772 - val_jaccard_index: 0.1474 - val_dice_coef: 0.2563\n",
            "Epoch 2/40\n",
            "4/5 [=======================>......] - ETA: 0s - loss: 0.4949 - jaccard_index: 0.2767 - dice_coef: 0.4331Epoch 1/40\n",
            "5/5 [==============================] - 1s 168ms/step - loss: 18.6332 - jaccard_index: 0.1745 - dice_coef: 0.2968\n",
            "\n",
            "Epoch 00002: val_jaccard_index improved from 0.14743 to 0.17451, saving model to drive/My Drive/DCI-Net/ModelSnapshots/MultiResUNet-(Original)-(2019-11-04 21:36:35).h5\n",
            "5/5 [==============================] - 6s 1s/step - loss: 0.4930 - jaccard_index: 0.2736 - dice_coef: 0.4293 - val_loss: 18.6332 - val_jaccard_index: 0.1745 - val_dice_coef: 0.2968\n",
            "Epoch 3/40\n",
            "4/5 [=======================>......] - ETA: 0s - loss: 0.5059 - jaccard_index: 0.2350 - dice_coef: 0.3802Epoch 1/40\n",
            "5/5 [==============================] - 1s 167ms/step - loss: 28.7638 - jaccard_index: 0.1685 - dice_coef: 0.2880\n",
            "\n",
            "Epoch 00003: val_jaccard_index did not improve from 0.17451\n",
            "5/5 [==============================] - 4s 805ms/step - loss: 0.5017 - jaccard_index: 0.2381 - dice_coef: 0.3843 - val_loss: 28.7638 - val_jaccard_index: 0.1685 - val_dice_coef: 0.2880\n",
            "Epoch 4/40\n",
            "4/5 [=======================>......] - ETA: 0s - loss: 0.4660 - jaccard_index: 0.2895 - dice_coef: 0.4487Epoch 1/40\n",
            "5/5 [==============================] - 1s 171ms/step - loss: 40.6389 - jaccard_index: 0.1531 - dice_coef: 0.2652\n",
            "\n",
            "Epoch 00004: val_jaccard_index did not improve from 0.17451\n",
            "5/5 [==============================] - 4s 801ms/step - loss: 0.4705 - jaccard_index: 0.2790 - dice_coef: 0.4355 - val_loss: 40.6389 - val_jaccard_index: 0.1531 - val_dice_coef: 0.2652\n",
            "Epoch 5/40\n",
            "4/5 [=======================>......] - ETA: 0s - loss: 0.4839 - jaccard_index: 0.2488 - dice_coef: 0.3980Epoch 1/40\n",
            "5/5 [==============================] - 1s 166ms/step - loss: 92.8049 - jaccard_index: 0.1768 - dice_coef: 0.2999\n",
            "\n",
            "Epoch 00005: val_jaccard_index improved from 0.17451 to 0.17675, saving model to drive/My Drive/DCI-Net/ModelSnapshots/MultiResUNet-(Original)-(2019-11-04 21:36:35).h5\n",
            "5/5 [==============================] - 6s 1s/step - loss: 0.4860 - jaccard_index: 0.2425 - dice_coef: 0.3899 - val_loss: 92.8049 - val_jaccard_index: 0.1768 - val_dice_coef: 0.2999\n",
            "Epoch 6/40\n",
            "4/5 [=======================>......] - ETA: 0s - loss: 0.4637 - jaccard_index: 0.2620 - dice_coef: 0.4150Epoch 1/40\n",
            "5/5 [==============================] - 1s 168ms/step - loss: 15.3638 - jaccard_index: 0.1732 - dice_coef: 0.2942\n",
            "\n",
            "Epoch 00006: val_jaccard_index did not improve from 0.17675\n",
            "5/5 [==============================] - 4s 796ms/step - loss: 0.4668 - jaccard_index: 0.2575 - dice_coef: 0.4093 - val_loss: 15.3638 - val_jaccard_index: 0.1732 - val_dice_coef: 0.2942\n",
            "Epoch 7/40\n",
            "4/5 [=======================>......] - ETA: 0s - loss: 0.4367 - jaccard_index: 0.3153 - dice_coef: 0.4790Epoch 1/40\n",
            "5/5 [==============================] - 1s 165ms/step - loss: 1.6022 - jaccard_index: 0.1518 - dice_coef: 0.2632\n",
            "\n",
            "Epoch 00007: val_jaccard_index did not improve from 0.17675\n",
            "5/5 [==============================] - 4s 795ms/step - loss: 0.4384 - jaccard_index: 0.3113 - dice_coef: 0.4744 - val_loss: 1.6022 - val_jaccard_index: 0.1518 - val_dice_coef: 0.2632\n",
            "Epoch 8/40\n",
            "4/5 [=======================>......] - ETA: 0s - loss: 0.4421 - jaccard_index: 0.2845 - dice_coef: 0.4422Epoch 1/40\n",
            "5/5 [==============================] - 1s 171ms/step - loss: 6.9710 - jaccard_index: 0.1545 - dice_coef: 0.2671\n",
            "\n",
            "Epoch 00008: val_jaccard_index did not improve from 0.17675\n",
            "5/5 [==============================] - 4s 803ms/step - loss: 0.4428 - jaccard_index: 0.2814 - dice_coef: 0.4386 - val_loss: 6.9710 - val_jaccard_index: 0.1545 - val_dice_coef: 0.2671\n",
            "Epoch 9/40\n",
            "4/5 [=======================>......] - ETA: 0s - loss: 0.4411 - jaccard_index: 0.2761 - dice_coef: 0.4320Epoch 1/40\n",
            "5/5 [==============================] - 1s 169ms/step - loss: 11.5522 - jaccard_index: 0.1768 - dice_coef: 0.3000\n",
            "\n",
            "Epoch 00009: val_jaccard_index improved from 0.17675 to 0.17681, saving model to drive/My Drive/DCI-Net/ModelSnapshots/MultiResUNet-(Original)-(2019-11-04 21:36:35).h5\n",
            "5/5 [==============================] - 8s 2s/step - loss: 0.4429 - jaccard_index: 0.2741 - dice_coef: 0.4297 - val_loss: 11.5522 - val_jaccard_index: 0.1768 - val_dice_coef: 0.3000\n",
            "Epoch 10/40\n",
            "4/5 [=======================>......] - ETA: 0s - loss: 0.4364 - jaccard_index: 0.2852 - dice_coef: 0.4437Epoch 1/40\n",
            "5/5 [==============================] - 1s 172ms/step - loss: 7.1480 - jaccard_index: 0.1640 - dice_coef: 0.2814\n",
            "\n",
            "Epoch 00010: val_jaccard_index did not improve from 0.17681\n",
            "5/5 [==============================] - 4s 820ms/step - loss: 0.4345 - jaccard_index: 0.2854 - dice_coef: 0.4440 - val_loss: 7.1480 - val_jaccard_index: 0.1640 - val_dice_coef: 0.2814\n",
            "Epoch 11/40\n",
            "4/5 [=======================>......] - ETA: 0s - loss: 0.4320 - jaccard_index: 0.2911 - dice_coef: 0.4506Epoch 1/40\n",
            "5/5 [==============================] - 1s 169ms/step - loss: 1.9460 - jaccard_index: 0.1701 - dice_coef: 0.2897\n",
            "\n",
            "Epoch 00011: val_jaccard_index did not improve from 0.17681\n",
            "5/5 [==============================] - 4s 798ms/step - loss: 0.4311 - jaccard_index: 0.2909 - dice_coef: 0.4505 - val_loss: 1.9460 - val_jaccard_index: 0.1701 - val_dice_coef: 0.2897\n",
            "Epoch 12/40\n",
            "4/5 [=======================>......] - ETA: 0s - loss: 0.4450 - jaccard_index: 0.2658 - dice_coef: 0.4191Epoch 1/40\n",
            "5/5 [==============================] - 1s 178ms/step - loss: 1.6008 - jaccard_index: 0.1498 - dice_coef: 0.2605\n",
            "\n",
            "Epoch 00012: val_jaccard_index did not improve from 0.17681\n",
            "5/5 [==============================] - 4s 816ms/step - loss: 0.4430 - jaccard_index: 0.2689 - dice_coef: 0.4231 - val_loss: 1.6008 - val_jaccard_index: 0.1498 - val_dice_coef: 0.2605\n",
            "Epoch 13/40\n",
            "4/5 [=======================>......] - ETA: 0s - loss: 0.4187 - jaccard_index: 0.3037 - dice_coef: 0.4657Epoch 1/40\n",
            "5/5 [==============================] - 1s 167ms/step - loss: 1.0114 - jaccard_index: 0.1533 - dice_coef: 0.2656\n",
            "\n",
            "Epoch 00013: val_jaccard_index did not improve from 0.17681\n",
            "5/5 [==============================] - 4s 795ms/step - loss: 0.4139 - jaccard_index: 0.3142 - dice_coef: 0.4776 - val_loss: 1.0114 - val_jaccard_index: 0.1533 - val_dice_coef: 0.2656\n",
            "Epoch 14/40\n",
            "4/5 [=======================>......] - ETA: 0s - loss: 0.4458 - jaccard_index: 0.2370 - dice_coef: 0.3827Epoch 1/40\n",
            "5/5 [==============================] - 1s 166ms/step - loss: 0.4792 - jaccard_index: 0.2484 - dice_coef: 0.3977\n",
            "\n",
            "Epoch 00014: val_jaccard_index improved from 0.17681 to 0.24838, saving model to drive/My Drive/DCI-Net/ModelSnapshots/MultiResUNet-(Original)-(2019-11-04 21:36:35).h5\n",
            "5/5 [==============================] - 8s 2s/step - loss: 0.4425 - jaccard_index: 0.2483 - dice_coef: 0.3969 - val_loss: 0.4792 - val_jaccard_index: 0.2484 - val_dice_coef: 0.3977\n",
            "Epoch 15/40\n",
            "4/5 [=======================>......] - ETA: 0s - loss: 0.4275 - jaccard_index: 0.2777 - dice_coef: 0.4343Epoch 1/40\n",
            "5/5 [==============================] - 1s 169ms/step - loss: 0.4809 - jaccard_index: 0.2560 - dice_coef: 0.4075\n",
            "\n",
            "Epoch 00015: val_jaccard_index improved from 0.24838 to 0.25598, saving model to drive/My Drive/DCI-Net/ModelSnapshots/MultiResUNet-(Original)-(2019-11-04 21:36:35).h5\n",
            "5/5 [==============================] - 6s 1s/step - loss: 0.4281 - jaccard_index: 0.2729 - dice_coef: 0.4283 - val_loss: 0.4809 - val_jaccard_index: 0.2560 - val_dice_coef: 0.4075\n",
            "Epoch 16/40\n",
            "4/5 [=======================>......] - ETA: 0s - loss: 0.4211 - jaccard_index: 0.2903 - dice_coef: 0.4495Epoch 1/40\n",
            "5/5 [==============================] - 1s 171ms/step - loss: 0.4651 - jaccard_index: 0.2426 - dice_coef: 0.3904\n",
            "\n",
            "Epoch 00016: val_jaccard_index did not improve from 0.25598\n",
            "5/5 [==============================] - 4s 797ms/step - loss: 0.4203 - jaccard_index: 0.2862 - dice_coef: 0.4446 - val_loss: 0.4651 - val_jaccard_index: 0.2426 - val_dice_coef: 0.3904\n",
            "Epoch 17/40\n",
            "4/5 [=======================>......] - ETA: 0s - loss: 0.4131 - jaccard_index: 0.2846 - dice_coef: 0.4430Epoch 1/40\n",
            "5/5 [==============================] - 1s 172ms/step - loss: 0.4654 - jaccard_index: 0.2207 - dice_coef: 0.3613\n",
            "\n",
            "Epoch 00017: val_jaccard_index did not improve from 0.25598\n",
            "5/5 [==============================] - 4s 804ms/step - loss: 0.4132 - jaccard_index: 0.2846 - dice_coef: 0.4430 - val_loss: 0.4654 - val_jaccard_index: 0.2207 - val_dice_coef: 0.3613\n",
            "Epoch 18/40\n",
            "4/5 [=======================>......] - ETA: 0s - loss: 0.4169 - jaccard_index: 0.2907 - dice_coef: 0.4490Epoch 1/40\n",
            "5/5 [==============================] - 1s 167ms/step - loss: 0.4538 - jaccard_index: 0.2414 - dice_coef: 0.3888\n",
            "\n",
            "Epoch 00018: val_jaccard_index did not improve from 0.25598\n",
            "5/5 [==============================] - 4s 797ms/step - loss: 0.4194 - jaccard_index: 0.2814 - dice_coef: 0.4377 - val_loss: 0.4538 - val_jaccard_index: 0.2414 - val_dice_coef: 0.3888\n",
            "Epoch 19/40\n",
            "4/5 [=======================>......] - ETA: 0s - loss: 0.4202 - jaccard_index: 0.2708 - dice_coef: 0.4254Epoch 1/40\n",
            "5/5 [==============================] - 1s 170ms/step - loss: 0.4552 - jaccard_index: 0.2696 - dice_coef: 0.4240\n",
            "\n",
            "Epoch 00019: val_jaccard_index improved from 0.25598 to 0.26959, saving model to drive/My Drive/DCI-Net/ModelSnapshots/MultiResUNet-(Original)-(2019-11-04 21:36:35).h5\n",
            "5/5 [==============================] - 8s 2s/step - loss: 0.4163 - jaccard_index: 0.2813 - dice_coef: 0.4381 - val_loss: 0.4552 - val_jaccard_index: 0.2696 - val_dice_coef: 0.4240\n",
            "Epoch 20/40\n",
            "4/5 [=======================>......] - ETA: 0s - loss: 0.4014 - jaccard_index: 0.2993 - dice_coef: 0.4606Epoch 1/40\n",
            "5/5 [==============================] - 1s 167ms/step - loss: 0.4553 - jaccard_index: 0.2507 - dice_coef: 0.3993\n",
            "\n",
            "Epoch 00020: val_jaccard_index did not improve from 0.26959\n",
            "5/5 [==============================] - 4s 806ms/step - loss: 0.4038 - jaccard_index: 0.2937 - dice_coef: 0.4539 - val_loss: 0.4553 - val_jaccard_index: 0.2507 - val_dice_coef: 0.3993\n",
            "Epoch 21/40\n",
            "4/5 [=======================>......] - ETA: 0s - loss: 0.4005 - jaccard_index: 0.2937 - dice_coef: 0.4540Epoch 1/40\n",
            "5/5 [==============================] - 1s 170ms/step - loss: 0.4613 - jaccard_index: 0.2296 - dice_coef: 0.3731\n",
            "\n",
            "Epoch 00021: val_jaccard_index did not improve from 0.26959\n",
            "5/5 [==============================] - 4s 795ms/step - loss: 0.4010 - jaccard_index: 0.2927 - dice_coef: 0.4527 - val_loss: 0.4613 - val_jaccard_index: 0.2296 - val_dice_coef: 0.3731\n",
            "Epoch 22/40\n",
            "4/5 [=======================>......] - ETA: 0s - loss: 0.4066 - jaccard_index: 0.3012 - dice_coef: 0.4625Epoch 1/40\n",
            "5/5 [==============================] - 1s 167ms/step - loss: 0.4535 - jaccard_index: 0.2485 - dice_coef: 0.3968\n",
            "\n",
            "Epoch 00022: val_jaccard_index did not improve from 0.26959\n",
            "5/5 [==============================] - 4s 799ms/step - loss: 0.4047 - jaccard_index: 0.2951 - dice_coef: 0.4553 - val_loss: 0.4535 - val_jaccard_index: 0.2485 - val_dice_coef: 0.3968\n",
            "Epoch 23/40\n",
            "4/5 [=======================>......] - ETA: 0s - loss: 0.3967 - jaccard_index: 0.2954 - dice_coef: 0.4557Epoch 1/40\n",
            "5/5 [==============================] - 1s 172ms/step - loss: 0.4530 - jaccard_index: 0.2611 - dice_coef: 0.4136\n",
            "\n",
            "Epoch 00023: val_jaccard_index did not improve from 0.26959\n",
            "5/5 [==============================] - 4s 799ms/step - loss: 0.3971 - jaccard_index: 0.2957 - dice_coef: 0.4561 - val_loss: 0.4530 - val_jaccard_index: 0.2611 - val_dice_coef: 0.4136\n",
            "Epoch 24/40\n",
            "4/5 [=======================>......] - ETA: 0s - loss: 0.4072 - jaccard_index: 0.2722 - dice_coef: 0.4272Epoch 1/40\n",
            "5/5 [==============================] - 1s 166ms/step - loss: 0.4569 - jaccard_index: 0.2245 - dice_coef: 0.3659\n",
            "\n",
            "Epoch 00024: val_jaccard_index did not improve from 0.26959\n",
            "5/5 [==============================] - 4s 793ms/step - loss: 0.4041 - jaccard_index: 0.2784 - dice_coef: 0.4347 - val_loss: 0.4569 - val_jaccard_index: 0.2245 - val_dice_coef: 0.3659\n",
            "Epoch 25/40\n",
            "4/5 [=======================>......] - ETA: 0s - loss: 0.3902 - jaccard_index: 0.3109 - dice_coef: 0.4738Epoch 1/40\n",
            "5/5 [==============================] - 1s 167ms/step - loss: 0.4468 - jaccard_index: 0.2350 - dice_coef: 0.3798\n",
            "\n",
            "Epoch 00025: val_jaccard_index did not improve from 0.26959\n",
            "5/5 [==============================] - 4s 795ms/step - loss: 0.3921 - jaccard_index: 0.3004 - dice_coef: 0.4612 - val_loss: 0.4468 - val_jaccard_index: 0.2350 - val_dice_coef: 0.3798\n",
            "Epoch 26/40\n",
            "4/5 [=======================>......] - ETA: 0s - loss: 0.3938 - jaccard_index: 0.2841 - dice_coef: 0.4422Epoch 1/40\n",
            "5/5 [==============================] - 1s 166ms/step - loss: 0.4593 - jaccard_index: 0.2128 - dice_coef: 0.3506\n",
            "\n",
            "Epoch 00026: val_jaccard_index did not improve from 0.26959\n",
            "5/5 [==============================] - 4s 789ms/step - loss: 0.3965 - jaccard_index: 0.2824 - dice_coef: 0.4402 - val_loss: 0.4593 - val_jaccard_index: 0.2128 - val_dice_coef: 0.3506\n",
            "Epoch 27/40\n",
            "4/5 [=======================>......] - ETA: 0s - loss: 0.3929 - jaccard_index: 0.3008 - dice_coef: 0.4614Epoch 1/40\n",
            "5/5 [==============================] - 1s 166ms/step - loss: 0.4474 - jaccard_index: 0.2446 - dice_coef: 0.3926\n",
            "\n",
            "Epoch 00027: val_jaccard_index did not improve from 0.26959\n",
            "5/5 [==============================] - 4s 793ms/step - loss: 0.3939 - jaccard_index: 0.3003 - dice_coef: 0.4611 - val_loss: 0.4474 - val_jaccard_index: 0.2446 - val_dice_coef: 0.3926\n",
            "Epoch 28/40\n",
            "4/5 [=======================>......] - ETA: 0s - loss: 0.3870 - jaccard_index: 0.2866 - dice_coef: 0.4453Epoch 1/40\n",
            "5/5 [==============================] - 1s 170ms/step - loss: 0.4545 - jaccard_index: 0.2393 - dice_coef: 0.3846\n",
            "\n",
            "Epoch 00028: val_jaccard_index did not improve from 0.26959\n",
            "5/5 [==============================] - 4s 796ms/step - loss: 0.3896 - jaccard_index: 0.2861 - dice_coef: 0.4448 - val_loss: 0.4545 - val_jaccard_index: 0.2393 - val_dice_coef: 0.3846\n",
            "Epoch 29/40\n",
            "4/5 [=======================>......] - ETA: 0s - loss: 0.3848 - jaccard_index: 0.2974 - dice_coef: 0.4579Epoch 1/40\n",
            "5/5 [==============================] - 1s 169ms/step - loss: 0.4557 - jaccard_index: 0.2235 - dice_coef: 0.3650\n",
            "\n",
            "Epoch 00029: val_jaccard_index did not improve from 0.26959\n",
            "5/5 [==============================] - 4s 796ms/step - loss: 0.3822 - jaccard_index: 0.2996 - dice_coef: 0.4606 - val_loss: 0.4557 - val_jaccard_index: 0.2235 - val_dice_coef: 0.3650\n",
            "Epoch 30/40\n",
            "4/5 [=======================>......] - ETA: 0s - loss: 0.3819 - jaccard_index: 0.3040 - dice_coef: 0.4661Epoch 1/40\n",
            "5/5 [==============================] - 1s 172ms/step - loss: 0.4575 - jaccard_index: 0.1953 - dice_coef: 0.3259\n",
            "\n",
            "Epoch 00030: val_jaccard_index did not improve from 0.26959\n",
            "5/5 [==============================] - 4s 802ms/step - loss: 0.3824 - jaccard_index: 0.2977 - dice_coef: 0.4586 - val_loss: 0.4575 - val_jaccard_index: 0.1953 - val_dice_coef: 0.3259\n",
            "Epoch 31/40\n",
            "4/5 [=======================>......] - ETA: 0s - loss: 0.4004 - jaccard_index: 0.2741 - dice_coef: 0.4290Epoch 1/40\n",
            "5/5 [==============================] - 1s 169ms/step - loss: 0.4681 - jaccard_index: 0.2393 - dice_coef: 0.3855\n",
            "\n",
            "Epoch 00031: val_jaccard_index did not improve from 0.26959\n",
            "5/5 [==============================] - 4s 801ms/step - loss: 0.3936 - jaccard_index: 0.2921 - dice_coef: 0.4500 - val_loss: 0.4681 - val_jaccard_index: 0.2393 - val_dice_coef: 0.3855\n",
            "Epoch 32/40\n",
            "4/5 [=======================>......] - ETA: 0s - loss: 0.3877 - jaccard_index: 0.2717 - dice_coef: 0.4270Epoch 1/40\n",
            "5/5 [==============================] - 1s 165ms/step - loss: 0.6674 - jaccard_index: 0.2215 - dice_coef: 0.3615\n",
            "\n",
            "Epoch 00032: val_jaccard_index did not improve from 0.26959\n",
            "5/5 [==============================] - 4s 794ms/step - loss: 0.3878 - jaccard_index: 0.2815 - dice_coef: 0.4387 - val_loss: 0.6674 - val_jaccard_index: 0.2215 - val_dice_coef: 0.3615\n",
            "Epoch 33/40\n",
            "4/5 [=======================>......] - ETA: 0s - loss: 0.3821 - jaccard_index: 0.2925 - dice_coef: 0.4522Epoch 1/40\n",
            "5/5 [==============================] - 1s 171ms/step - loss: 0.6350 - jaccard_index: 0.2463 - dice_coef: 0.3940\n",
            "\n",
            "Epoch 00033: val_jaccard_index did not improve from 0.26959\n",
            "5/5 [==============================] - 4s 801ms/step - loss: 0.3790 - jaccard_index: 0.2975 - dice_coef: 0.4581 - val_loss: 0.6350 - val_jaccard_index: 0.2463 - val_dice_coef: 0.3940\n",
            "Epoch 34/40\n",
            "4/5 [=======================>......] - ETA: 0s - loss: 0.3823 - jaccard_index: 0.2810 - dice_coef: 0.4381Epoch 1/40\n",
            "5/5 [==============================] - 1s 168ms/step - loss: 0.6013 - jaccard_index: 0.2330 - dice_coef: 0.3763\n",
            "\n",
            "Epoch 00034: val_jaccard_index did not improve from 0.26959\n",
            "5/5 [==============================] - 4s 791ms/step - loss: 0.3817 - jaccard_index: 0.2819 - dice_coef: 0.4394 - val_loss: 0.6013 - val_jaccard_index: 0.2330 - val_dice_coef: 0.3763\n",
            "Epoch 35/40\n",
            "4/5 [=======================>......] - ETA: 0s - loss: 0.3772 - jaccard_index: 0.2964 - dice_coef: 0.4557Epoch 1/40\n",
            "5/5 [==============================] - 1s 170ms/step - loss: 0.4852 - jaccard_index: 0.2320 - dice_coef: 0.3756\n",
            "\n",
            "Epoch 00035: val_jaccard_index did not improve from 0.26959\n",
            "5/5 [==============================] - 4s 796ms/step - loss: 0.3781 - jaccard_index: 0.2927 - dice_coef: 0.4515 - val_loss: 0.4852 - val_jaccard_index: 0.2320 - val_dice_coef: 0.3756\n",
            "Epoch 36/40\n",
            "4/5 [=======================>......] - ETA: 0s - loss: 0.3740 - jaccard_index: 0.3199 - dice_coef: 0.4843Epoch 1/40\n",
            "5/5 [==============================] - 1s 169ms/step - loss: 0.6600 - jaccard_index: 0.2030 - dice_coef: 0.3372\n",
            "\n",
            "Epoch 00036: val_jaccard_index did not improve from 0.26959\n",
            "5/5 [==============================] - 4s 801ms/step - loss: 0.3753 - jaccard_index: 0.3093 - dice_coef: 0.4717 - val_loss: 0.6600 - val_jaccard_index: 0.2030 - val_dice_coef: 0.3372\n",
            "Epoch 37/40\n",
            "4/5 [=======================>......] - ETA: 0s - loss: 0.3767 - jaccard_index: 0.2946 - dice_coef: 0.4540Epoch 1/40\n",
            "5/5 [==============================] - 1s 167ms/step - loss: 0.6424 - jaccard_index: 0.2080 - dice_coef: 0.3442\n",
            "\n",
            "Epoch 00037: val_jaccard_index did not improve from 0.26959\n",
            "5/5 [==============================] - 4s 787ms/step - loss: 0.3731 - jaccard_index: 0.2978 - dice_coef: 0.4580 - val_loss: 0.6424 - val_jaccard_index: 0.2080 - val_dice_coef: 0.3442\n",
            "Epoch 38/40\n",
            "4/5 [=======================>......] - ETA: 0s - loss: 0.3734 - jaccard_index: 0.2923 - dice_coef: 0.4509Epoch 1/40\n",
            "5/5 [==============================] - 1s 166ms/step - loss: 0.5642 - jaccard_index: 0.2269 - dice_coef: 0.3679\n",
            "\n",
            "Epoch 00038: val_jaccard_index did not improve from 0.26959\n",
            "5/5 [==============================] - 4s 794ms/step - loss: 0.3718 - jaccard_index: 0.2929 - dice_coef: 0.4519 - val_loss: 0.5642 - val_jaccard_index: 0.2269 - val_dice_coef: 0.3679\n",
            "Epoch 39/40\n",
            "4/5 [=======================>......] - ETA: 0s - loss: 0.3668 - jaccard_index: 0.3201 - dice_coef: 0.4849Epoch 1/40\n",
            "5/5 [==============================] - 1s 167ms/step - loss: 0.6949 - jaccard_index: 0.2087 - dice_coef: 0.3447\n",
            "\n",
            "Epoch 00039: val_jaccard_index did not improve from 0.26959\n",
            "5/5 [==============================] - 4s 795ms/step - loss: 0.3643 - jaccard_index: 0.3205 - dice_coef: 0.4854 - val_loss: 0.6949 - val_jaccard_index: 0.2087 - val_dice_coef: 0.3447\n",
            "Epoch 40/40\n",
            "4/5 [=======================>......] - ETA: 0s - loss: 0.3753 - jaccard_index: 0.2833 - dice_coef: 0.4414Epoch 1/40\n",
            "5/5 [==============================] - 1s 166ms/step - loss: 0.6458 - jaccard_index: 0.1985 - dice_coef: 0.3308\n",
            "\n",
            "Epoch 00040: val_jaccard_index did not improve from 0.26959\n",
            "5/5 [==============================] - 4s 794ms/step - loss: 0.3760 - jaccard_index: 0.2827 - dice_coef: 0.4407 - val_loss: 0.6458 - val_jaccard_index: 0.1985 - val_dice_coef: 0.3308\n"
          ],
          "name": "stdout"
        }
      ]
    },
    {
      "cell_type": "markdown",
      "metadata": {
        "id": "F9vVsIdYnqA-",
        "colab_type": "text"
      },
      "source": [
        "Train the model :"
      ]
    },
    {
      "cell_type": "code",
      "metadata": {
        "id": "xaMlOM9rZQ1L",
        "colab_type": "code",
        "outputId": "b06e7f6e-c4af-4e31-d497-85d064a8848c",
        "colab": {
          "base_uri": "https://localhost:8080/",
          "height": 55
        }
      },
      "source": [
        "\"\"\"\n",
        "history = train_segnet.train_segnet(\n",
        "    models[2],\n",
        "    _img_path,\n",
        "    _masks_path,\n",
        "    **hyper_params,\n",
        "    _comment=__comments[2]\n",
        ")\n",
        "\"\"\"\n"
      ],
      "execution_count": 0,
      "outputs": [
        {
          "output_type": "execute_result",
          "data": {
            "text/plain": [
              "'\\nhistory = train_segnet.train_segnet(\\n    models[2],\\n    _img_path,\\n    _masks_path,\\n    **hyper_params,\\n    _comment=__comments[2]\\n)\\n'"
            ]
          },
          "metadata": {
            "tags": []
          },
          "execution_count": 32
        }
      ]
    },
    {
      "cell_type": "code",
      "metadata": {
        "id": "-XQs6gwumXMO",
        "colab_type": "code",
        "outputId": "171f7d5b-7127-4bb8-a2ce-e7439de8269a",
        "colab": {
          "base_uri": "https://localhost:8080/",
          "height": 35
        }
      },
      "source": [
        "print(_masks_path)"
      ],
      "execution_count": 0,
      "outputs": [
        {
          "output_type": "stream",
          "text": [
            "drive/My Drive/DCI-Net/Colab_data/Dataset 2/msks\n"
          ],
          "name": "stdout"
        }
      ]
    },
    {
      "cell_type": "code",
      "metadata": {
        "id": "4hIiRaBcRwlE",
        "colab_type": "code",
        "outputId": "c2979fb0-7f85-451c-da56-db62fae6ccb5",
        "colab": {
          "base_uri": "https://localhost:8080/",
          "height": 265
        }
      },
      "source": [
        "_jaccards = list(map(lambda x: x.history['val_jaccard_index'], historiae))\n",
        "for _jaccard, _author in zip(_jaccards, _model_authors):\n",
        "  sns.lineplot(list(range(len(_jaccard))), _jaccard, label=_author)"
      ],
      "execution_count": 0,
      "outputs": [
        {
          "output_type": "display_data",
          "data": {
            "image/png": "[encoded data removed]",
            "text/plain": [
              "<Figure size 432x288 with 1 Axes>"
            ]
          },
          "metadata": {
            "tags": []
          }
        }
      ]
    },
    {
      "cell_type": "code",
      "metadata": {
        "id": "GMszSInISTtP",
        "colab_type": "code",
        "outputId": "c970ce2b-c06d-4895-abb7-f57829b5f10a",
        "colab": {
          "base_uri": "https://localhost:8080/",
          "height": 203
        }
      },
      "source": [
        "_losses = list(map(lambda x: x.history['val_loss'], historiae))\n",
        "for _loss, _author in zip(_losses, _model_authors):\n",
        "  sns.lineplot(list(range(len(_loss))), _loss, label=_author)"
      ],
      "execution_count": 1,
      "outputs": [
        {
          "output_type": "error",
          "ename": "NameError",
          "evalue": "ignored",
          "traceback": [
            "\u001b[0;31m---------------------------------------------------------------------------\u001b[0m",
            "\u001b[0;31mNameError\u001b[0m                                 Traceback (most recent call last)",
            "\u001b[0;32m<ipython-input-1-c719b6a80faf>\u001b[0m in \u001b[0;36m<module>\u001b[0;34m()\u001b[0m\n\u001b[0;32m----> 1\u001b[0;31m \u001b[0m_losses\u001b[0m \u001b[0;34m=\u001b[0m \u001b[0mlist\u001b[0m\u001b[0;34m(\u001b[0m\u001b[0mmap\u001b[0m\u001b[0;34m(\u001b[0m\u001b[0;32mlambda\u001b[0m \u001b[0mx\u001b[0m\u001b[0;34m:\u001b[0m \u001b[0mx\u001b[0m\u001b[0;34m.\u001b[0m\u001b[0mhistory\u001b[0m\u001b[0;34m[\u001b[0m\u001b[0;34m'val_loss'\u001b[0m\u001b[0;34m]\u001b[0m\u001b[0;34m,\u001b[0m \u001b[0mhistoriae\u001b[0m\u001b[0;34m)\u001b[0m\u001b[0;34m)\u001b[0m\u001b[0;34m\u001b[0m\u001b[0;34m\u001b[0m\u001b[0m\n\u001b[0m\u001b[1;32m      2\u001b[0m \u001b[0;32mfor\u001b[0m \u001b[0m_loss\u001b[0m\u001b[0;34m,\u001b[0m \u001b[0m_author\u001b[0m \u001b[0;32min\u001b[0m \u001b[0mzip\u001b[0m\u001b[0;34m(\u001b[0m\u001b[0m_losses\u001b[0m\u001b[0;34m,\u001b[0m \u001b[0m_model_authors\u001b[0m\u001b[0;34m)\u001b[0m\u001b[0;34m:\u001b[0m\u001b[0;34m\u001b[0m\u001b[0;34m\u001b[0m\u001b[0m\n\u001b[1;32m      3\u001b[0m   \u001b[0msns\u001b[0m\u001b[0;34m.\u001b[0m\u001b[0mlineplot\u001b[0m\u001b[0;34m(\u001b[0m\u001b[0mlist\u001b[0m\u001b[0;34m(\u001b[0m\u001b[0mrange\u001b[0m\u001b[0;34m(\u001b[0m\u001b[0mlen\u001b[0m\u001b[0;34m(\u001b[0m\u001b[0m_loss\u001b[0m\u001b[0;34m)\u001b[0m\u001b[0;34m)\u001b[0m\u001b[0;34m)\u001b[0m\u001b[0;34m,\u001b[0m \u001b[0m_loss\u001b[0m\u001b[0;34m,\u001b[0m \u001b[0mlabel\u001b[0m\u001b[0;34m=\u001b[0m\u001b[0m_author\u001b[0m\u001b[0;34m)\u001b[0m\u001b[0;34m\u001b[0m\u001b[0;34m\u001b[0m\u001b[0m\n",
            "\u001b[0;31mNameError\u001b[0m: name 'historiae' is not defined"
          ]
        }
      ]
    },
    {
      "cell_type": "code",
      "metadata": {
        "id": "eauUkdiPfe3f",
        "colab_type": "code",
        "outputId": "16241c74-7f69-4ad0-8442-1e41352e5f4f",
        "colab": {
          "base_uri": "https://localhost:8080/",
          "height": 53
        }
      },
      "source": [
        "!cat \"drive/My Drive/DCI-Net/time_logs.jsonl\" | jq"
      ],
      "execution_count": 2,
      "outputs": [
        {
          "output_type": "stream",
          "text": [
            "/bin/bash: jq: command not found\n",
            "cat: 'drive/My Drive/DCI-Net/time_logs.jsonl': No such file or directory\n"
          ],
          "name": "stdout"
        }
      ]
    },
    {
      "cell_type": "code",
      "metadata": {
        "id": "04ibUYVvf47H",
        "colab_type": "code",
        "colab": {}
      },
      "source": [
        "# 1 validación 5 pliegues\n",
        "def "
      ],
      "execution_count": 0,
      "outputs": []
    },
    {
      "cell_type": "code",
      "metadata": {
        "id": "hXwZZTxQkuMy",
        "colab_type": "code",
        "colab": {}
      },
      "source": [
        "@timing.time_log(path_to_logfile=_log_file)\n",
        "def _dummy_debug_function(*args, **kw):\n",
        "  pass\n",
        "  "
      ],
      "execution_count": 0,
      "outputs": []
    },
    {
      "cell_type": "code",
      "metadata": {
        "id": "iJDNCbPfXogz",
        "colab_type": "code",
        "outputId": "fa2d2174-46a3-4785-b7a1-a4460843ba83",
        "colab": {
          "base_uri": "https://localhost:8080/",
          "height": 165
        }
      },
      "source": [
        "log"
      ],
      "execution_count": 0,
      "outputs": [
        {
          "output_type": "error",
          "ename": "NameError",
          "evalue": "ignored",
          "traceback": [
            "\u001b[0;31m---------------------------------------------------------------------------\u001b[0m",
            "\u001b[0;31mNameError\u001b[0m                                 Traceback (most recent call last)",
            "\u001b[0;32m<ipython-input-44-4508c1b19b88>\u001b[0m in \u001b[0;36m<module>\u001b[0;34m()\u001b[0m\n\u001b[0;32m----> 1\u001b[0;31m \u001b[0mlog\u001b[0m\u001b[0;34m\u001b[0m\u001b[0;34m\u001b[0m\u001b[0m\n\u001b[0m",
            "\u001b[0;31mNameError\u001b[0m: name 'log' is not defined"
          ]
        }
      ]
    },
    {
      "cell_type": "code",
      "metadata": {
        "id": "TjdrADboXliJ",
        "colab_type": "code",
        "colab": {}
      },
      "source": [
        "_dummy_debug_function(5, '234', 5.2, hola='pass', foo='bar')"
      ],
      "execution_count": 0,
      "outputs": []
    },
    {
      "cell_type": "code",
      "metadata": {
        "id": "3xYc5_3SX6hJ",
        "colab_type": "code",
        "colab": {}
      },
      "source": [
        ""
      ],
      "execution_count": 0,
      "outputs": []
    }
  ]
}