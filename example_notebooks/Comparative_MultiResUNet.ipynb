{
  "nbformat": 4,
  "nbformat_minor": 0,
  "metadata": {
    "colab": {
      "name": "Comparative MultiResUNet.ipynb",
      "provenance": [],
      "collapsed_sections": [],
      "include_colab_link": true
    },
    "kernelspec": {
      "name": "python3",
      "display_name": "Python 3"
    },
    "accelerator": "GPU"
  },
  "cells": [
    {
      "cell_type": "markdown",
      "metadata": {
        "id": "view-in-github",
        "colab_type": "text"
      },
      "source": [
        "<a href=\"https://colab.research.google.com/github/gmagannaDevelop/segnet/blob/mru_tests/Comparative_MultiResUNet.ipynb\" target=\"_parent\"><img src=\"https://colab.research.google.com/assets/colab-badge.svg\" alt=\"Open In Colab\"/></a>"
      ]
    },
    {
      "cell_type": "markdown",
      "metadata": {
        "id": "DHw_6M1yXu8b",
        "colab_type": "text"
      },
      "source": [
        "# MultiResUNet\n",
        "## DCI-Net\n",
        "#### Gustavo Magaña\n",
        "\n",
        "\\########################################################"
      ]
    },
    {
      "cell_type": "code",
      "metadata": {
        "id": "C7esbcDmCpM_",
        "colab_type": "code",
        "outputId": "a790b3bd-c25b-4115-930f-d0686470e1de",
        "colab": {
          "base_uri": "https://localhost:8080/",
          "height": 34
        }
      },
      "source": [
        "!ls"
      ],
      "execution_count": 1,
      "outputs": [
        {
          "output_type": "stream",
          "text": [
            "drive  sample_data\n"
          ],
          "name": "stdout"
        }
      ]
    },
    {
      "cell_type": "code",
      "metadata": {
        "id": "IvwdXdIkfp0E",
        "colab_type": "code",
        "outputId": "a0ed9e6f-f910-43bc-f4af-60dcec65cf58",
        "colab": {
          "base_uri": "https://localhost:8080/",
          "height": 104
        }
      },
      "source": [
        "!apt install jq"
      ],
      "execution_count": 2,
      "outputs": [
        {
          "output_type": "stream",
          "text": [
            "Reading package lists... Done\n",
            "Building dependency tree       \n",
            "Reading state information... Done\n",
            "jq is already the newest version (1.5+dfsg-2).\n",
            "0 upgraded, 0 newly installed, 0 to remove and 28 not upgraded.\n"
          ],
          "name": "stdout"
        }
      ]
    },
    {
      "cell_type": "code",
      "metadata": {
        "id": "SUVhISDWOwT5",
        "colab_type": "code",
        "outputId": "318acecd-e968-4c2f-d02f-12d5ddb8529b",
        "colab": {
          "base_uri": "https://localhost:8080/",
          "height": 1000
        }
      },
      "source": [
        "## If changes are made to the repo, uninstall and\n",
        "## a fresh pip install are required, so it seems.\n",
        "#!pip uninstall segnet\n",
        "!pip install git+https://github.com/gmagannaDevelop/segnet.git@mru_tests\n",
        "##!pip install git+https://github.com/gmagannaDevelop/segnet.git@log_hotfix"
      ],
      "execution_count": 3,
      "outputs": [
        {
          "output_type": "stream",
          "text": [
            "Collecting git+https://github.com/gmagannaDevelop/segnet.git@mru_tests\n",
            "  Cloning https://github.com/gmagannaDevelop/segnet.git (to revision mru_tests) to /tmp/pip-req-build-2_197mi1\n",
            "  Running command git clone -q https://github.com/gmagannaDevelop/segnet.git /tmp/pip-req-build-2_197mi1\n",
            "  Running command git checkout -b mru_tests --track origin/mru_tests\n",
            "  Switched to a new branch 'mru_tests'\n",
            "  Branch 'mru_tests' set up to track remote branch 'mru_tests' from 'origin'.\n",
            "Requirement already satisfied (use --upgrade to upgrade): segnet==0.4 from git+https://github.com/gmagannaDevelop/segnet.git@mru_tests in /usr/local/lib/python3.6/dist-packages\n",
            "Requirement already satisfied: absl-py in /usr/local/lib/python3.6/dist-packages (from segnet==0.4) (0.8.1)\n",
            "Requirement already satisfied: appdirs in /usr/local/lib/python3.6/dist-packages (from segnet==0.4) (1.4.3)\n",
            "Requirement already satisfied: astor in /usr/local/lib/python3.6/dist-packages (from segnet==0.4) (0.8.0)\n",
            "Requirement already satisfied: astroid in /usr/local/lib/python3.6/dist-packages (from segnet==0.4) (2.3.2)\n",
            "Requirement already satisfied: atomicwrites in /usr/local/lib/python3.6/dist-packages (from segnet==0.4) (1.3.0)\n",
            "Requirement already satisfied: attrs in /usr/local/lib/python3.6/dist-packages (from segnet==0.4) (19.3.0)\n",
            "Requirement already satisfied: black in /usr/local/lib/python3.6/dist-packages (from segnet==0.4) (19.10b0)\n",
            "Requirement already satisfied: click in /usr/local/lib/python3.6/dist-packages (from segnet==0.4) (7.0)\n",
            "Requirement already satisfied: cycler in /usr/local/lib/python3.6/dist-packages (from segnet==0.4) (0.10.0)\n",
            "Requirement already satisfied: decorator in /usr/local/lib/python3.6/dist-packages (from segnet==0.4) (4.4.1)\n",
            "Requirement already satisfied: gast in /usr/local/lib/python3.6/dist-packages (from segnet==0.4) (0.2.2)\n",
            "Requirement already satisfied: google-pasta in /usr/local/lib/python3.6/dist-packages (from segnet==0.4) (0.1.7)\n",
            "Requirement already satisfied: grpcio in /usr/local/lib/python3.6/dist-packages (from segnet==0.4) (1.15.0)\n",
            "Requirement already satisfied: h5py in /usr/local/lib/python3.6/dist-packages (from segnet==0.4) (2.8.0)\n",
            "Requirement already satisfied: imageio in /usr/local/lib/python3.6/dist-packages (from segnet==0.4) (2.4.1)\n",
            "Requirement already satisfied: importlib-metadata in /usr/local/lib/python3.6/dist-packages (from segnet==0.4) (0.23)\n",
            "Requirement already satisfied: isort in /usr/local/lib/python3.6/dist-packages (from segnet==0.4) (4.3.21)\n",
            "Requirement already satisfied: joblib in /usr/local/lib/python3.6/dist-packages (from segnet==0.4) (0.14.0)\n",
            "Requirement already satisfied: kiwisolver in /usr/local/lib/python3.6/dist-packages (from segnet==0.4) (1.1.0)\n",
            "Requirement already satisfied: lazy-object-proxy in /usr/local/lib/python3.6/dist-packages (from segnet==0.4) (1.4.3)\n",
            "Requirement already satisfied: markdown in /usr/local/lib/python3.6/dist-packages (from segnet==0.4) (3.1.1)\n",
            "Requirement already satisfied: matplotlib in /usr/local/lib/python3.6/dist-packages (from segnet==0.4) (3.1.1)\n",
            "Requirement already satisfied: mccabe in /usr/local/lib/python3.6/dist-packages (from segnet==0.4) (0.6.1)\n",
            "Requirement already satisfied: more-itertools in /usr/local/lib/python3.6/dist-packages (from segnet==0.4) (7.2.0)\n",
            "Requirement already satisfied: networkx in /usr/local/lib/python3.6/dist-packages (from segnet==0.4) (2.4)\n",
            "Requirement already satisfied: numpy in /usr/local/lib/python3.6/dist-packages (from segnet==0.4) (1.17.3)\n",
            "Requirement already satisfied: opt-einsum in /usr/local/lib/python3.6/dist-packages (from segnet==0.4) (3.1.0)\n",
            "Requirement already satisfied: packaging in /usr/local/lib/python3.6/dist-packages (from segnet==0.4) (19.2)\n",
            "Requirement already satisfied: pandas in /usr/local/lib/python3.6/dist-packages (from segnet==0.4) (0.25.2)\n",
            "Requirement already satisfied: pillow in /usr/local/lib/python3.6/dist-packages (from segnet==0.4) (4.3.0)\n",
            "Requirement already satisfied: pluggy in /usr/local/lib/python3.6/dist-packages (from segnet==0.4) (0.7.1)\n",
            "Requirement already satisfied: protobuf in /usr/local/lib/python3.6/dist-packages (from segnet==0.4) (3.10.0)\n",
            "Requirement already satisfied: py in /usr/local/lib/python3.6/dist-packages (from segnet==0.4) (1.8.0)\n",
            "Requirement already satisfied: pylint in /usr/local/lib/python3.6/dist-packages (from segnet==0.4) (2.4.3)\n",
            "Requirement already satisfied: pyparsing in /usr/local/lib/python3.6/dist-packages (from segnet==0.4) (2.4.2)\n",
            "Requirement already satisfied: pytest in /usr/local/lib/python3.6/dist-packages (from segnet==0.4) (3.6.4)\n",
            "Requirement already satisfied: python-dateutil in /usr/local/lib/python3.6/dist-packages (from segnet==0.4) (2.6.1)\n",
            "Requirement already satisfied: pytz in /usr/local/lib/python3.6/dist-packages (from segnet==0.4) (2018.9)\n",
            "Requirement already satisfied: pywavelets in /usr/local/lib/python3.6/dist-packages (from segnet==0.4) (1.1.1)\n",
            "Requirement already satisfied: pyyaml in /usr/local/lib/python3.6/dist-packages (from segnet==0.4) (3.13)\n",
            "Requirement already satisfied: scikit-image in /usr/local/lib/python3.6/dist-packages (from segnet==0.4) (0.15.0)\n",
            "Requirement already satisfied: scikit-learn in /usr/local/lib/python3.6/dist-packages (from segnet==0.4) (0.21.3)\n",
            "Requirement already satisfied: scipy in /usr/local/lib/python3.6/dist-packages (from segnet==0.4) (1.3.1)\n",
            "Requirement already satisfied: seaborn in /usr/local/lib/python3.6/dist-packages (from segnet==0.4) (0.9.0)\n",
            "Requirement already satisfied: six in /usr/local/lib/python3.6/dist-packages (from segnet==0.4) (1.12.0)\n",
            "Requirement already satisfied: tensorflow in /usr/local/lib/python3.6/dist-packages (from segnet==0.4) (1.15.0)\n",
            "Requirement already satisfied: termcolor in /usr/local/lib/python3.6/dist-packages (from segnet==0.4) (1.1.0)\n",
            "Requirement already satisfied: toml in /usr/local/lib/python3.6/dist-packages (from segnet==0.4) (0.10.0)\n",
            "Requirement already satisfied: typed-ast in /usr/local/lib/python3.6/dist-packages (from segnet==0.4) (1.4.0)\n",
            "Requirement already satisfied: wcwidth in /usr/local/lib/python3.6/dist-packages (from segnet==0.4) (0.1.7)\n",
            "Requirement already satisfied: werkzeug in /usr/local/lib/python3.6/dist-packages (from segnet==0.4) (0.16.0)\n",
            "Requirement already satisfied: wrapt in /usr/local/lib/python3.6/dist-packages (from segnet==0.4) (1.11.2)\n",
            "Requirement already satisfied: zipp in /usr/local/lib/python3.6/dist-packages (from segnet==0.4) (0.6.0)\n",
            "Requirement already satisfied: regex in /usr/local/lib/python3.6/dist-packages (from black->segnet==0.4) (2019.11.1)\n",
            "Requirement already satisfied: pathspec<1,>=0.6 in /usr/local/lib/python3.6/dist-packages (from black->segnet==0.4) (0.6.0)\n",
            "Requirement already satisfied: setuptools in /usr/local/lib/python3.6/dist-packages (from kiwisolver->segnet==0.4) (41.4.0)\n",
            "Requirement already satisfied: olefile in /usr/local/lib/python3.6/dist-packages (from pillow->segnet==0.4) (0.46)\n",
            "Requirement already satisfied: wheel>=0.26 in /usr/local/lib/python3.6/dist-packages (from tensorflow->segnet==0.4) (0.33.6)\n",
            "Requirement already satisfied: keras-preprocessing>=1.0.5 in /usr/local/lib/python3.6/dist-packages (from tensorflow->segnet==0.4) (1.1.0)\n",
            "Requirement already satisfied: keras-applications>=1.0.8 in /usr/local/lib/python3.6/dist-packages (from tensorflow->segnet==0.4) (1.0.8)\n",
            "Requirement already satisfied: tensorboard<1.16.0,>=1.15.0 in /usr/local/lib/python3.6/dist-packages (from tensorflow->segnet==0.4) (1.15.0)\n",
            "Requirement already satisfied: tensorflow-estimator==1.15.1 in /usr/local/lib/python3.6/dist-packages (from tensorflow->segnet==0.4) (1.15.1)\n",
            "Building wheels for collected packages: segnet\n",
            "  Building wheel for segnet (setup.py) ... \u001b[?25l\u001b[?25hdone\n",
            "  Created wheel for segnet: filename=segnet-0.4-cp36-none-any.whl size=22825 sha256=bb483a8b0fd7477d8e2f677d84ad3e677aec4b72a6cde1745dff1f5cbc46fad2\n",
            "  Stored in directory: /tmp/pip-ephem-wheel-cache-bvxq0t4q/wheels/f1/c1/51/0ee27f445c3a618413714a84d4f5500547456389437a85a87f\n",
            "Successfully built segnet\n"
          ],
          "name": "stdout"
        }
      ]
    },
    {
      "cell_type": "markdown",
      "metadata": {
        "id": "qCRoHPcGgvEL",
        "colab_type": "text"
      },
      "source": [
        "Imports"
      ]
    },
    {
      "cell_type": "code",
      "metadata": {
        "id": "UxVrrV2VXLGA",
        "colab_type": "code",
        "outputId": "38262ec1-931d-403f-d72a-eede52350c30",
        "colab": {
          "base_uri": "https://localhost:8080/",
          "height": 34
        }
      },
      "source": [
        "### System-related\n",
        "import sys\n",
        "import os\n",
        "import datetime \n",
        "from typing import Optional\n",
        "#import importlib.util\n",
        "###############################################################\n",
        "\n",
        "### Machine learning specific\n",
        "#import segmentation_models as sm\n",
        "from keras.optimizers import SGD\n",
        "from keras.callbacks import ModelCheckpoint, ReduceLROnPlateau\n",
        "from sklearn.model_selection import train_test_split\n",
        "import keras.models\n",
        "###############################################################\n",
        "\n",
        "### In-Out\n",
        "from skimage import io\n",
        "import glob\n",
        "###############################################################\n",
        "\n",
        "### Visualization\n",
        "import seaborn as sns\n",
        "###############################################################\n",
        "\n",
        "### Numerical\n",
        "import numpy as np\n",
        "###############################################################\n",
        "\n",
        "### Repo-specific (segnet)\n",
        "from segnet.train import train_segnet\n",
        "from segnet.models import multiresunet as mru\n",
        "from segnet.models import multiresunet2 as mru2\n",
        "from segnet.utils import timing\n",
        "#from segnet.segnet.train.train_segnet import train_segnet\n",
        "#import segnet.segnet as segnet\n",
        "\n",
        "### Data-related\n",
        "from google.colab import drive, files\n",
        "drive.mount('/content/drive/')\n",
        "###############################################################\n",
        "\n",
        "\n",
        "### Not an import, but mandatory to be defined here :\n",
        "root_dir   = \"drive/My Drive/DCI-Net\"\n",
        "_log_file  = os.path.join(root_dir, \"time_logs.jsonl\")"
      ],
      "execution_count": 32,
      "outputs": [
        {
          "output_type": "stream",
          "text": [
            "Drive already mounted at /content/drive/; to attempt to forcibly remount, call drive.mount(\"/content/drive/\", force_remount=True).\n"
          ],
          "name": "stdout"
        }
      ]
    },
    {
      "cell_type": "markdown",
      "metadata": {
        "id": "pde_pTyigywK",
        "colab_type": "text"
      },
      "source": [
        "Function definition"
      ]
    },
    {
      "cell_type": "code",
      "metadata": {
        "id": "HnJpx7qYdlId",
        "colab_type": "code",
        "colab": {}
      },
      "source": [
        "def yield_model_name(\n",
        "    architecture: str = \"MultiResUNet\",\n",
        "    date: Optional[str] = None\n",
        ") -> str:\n",
        "  \"\"\"\n",
        "    Yield a model name, to be passed to other functions.\n",
        "    Said model name consisting of an architecture name, \n",
        "    the (UTCtime)\n",
        "  \"\"\"\n",
        "  if date is None:\n",
        "    date = str(datetime.datetime.utcnow()).split(\".\")[0]\n",
        "  return f\"{architecture}-({date}).h5\"\n",
        "\n",
        "def yield_mask_directory(\n",
        "    architecture: str = \"MultiResUNet\",\n",
        "    date: Optional[str] = None\n",
        ") -> str:\n",
        "  \"\"\"\n",
        "    Yield a model name, to be passed to other functions.\n",
        "    Said model name consisting of an architecture name, \n",
        "    the (UTCtime)\n",
        "  \"\"\"\n",
        "  if date is None:\n",
        "    date = str(datetime.datetime.utcnow()).split(\".\")[0].split(\" \")[0]\n",
        "  return f\"{architecture}-({date})\""
      ],
      "execution_count": 0,
      "outputs": []
    },
    {
      "cell_type": "code",
      "metadata": {
        "id": "IceMi8yGf4ru",
        "colab_type": "code",
        "outputId": "1e5a4b14-cefd-4169-f612-012d82d52618",
        "colab": {
          "base_uri": "https://localhost:8080/",
          "height": 34
        }
      },
      "source": [
        "yield_model_name()"
      ],
      "execution_count": 35,
      "outputs": [
        {
          "output_type": "execute_result",
          "data": {
            "text/plain": [
              "'MultiResUNet-(2019-11-04 03:30:48).h5'"
            ]
          },
          "metadata": {
            "tags": []
          },
          "execution_count": 35
        }
      ]
    },
    {
      "cell_type": "code",
      "metadata": {
        "id": "J0_DxhwXCyOd",
        "colab_type": "code",
        "outputId": "f0e20ed7-4137-4e5d-86c6-ad32543ecc57",
        "colab": {
          "base_uri": "https://localhost:8080/",
          "height": 34
        }
      },
      "source": [
        "yield_mask_directory()"
      ],
      "execution_count": 7,
      "outputs": [
        {
          "output_type": "execute_result",
          "data": {
            "text/plain": [
              "'MultiResUNet-(2019-11-04)'"
            ]
          },
          "metadata": {
            "tags": []
          },
          "execution_count": 7
        }
      ]
    },
    {
      "cell_type": "code",
      "metadata": {
        "id": "2pRrtgcrDThX",
        "colab_type": "code",
        "outputId": "bfde6d22-5320-450b-b6c0-7f74a81670f8",
        "colab": {
          "base_uri": "https://localhost:8080/",
          "height": 34
        }
      },
      "source": [
        "!ls \"drive/My Drive/DCI-Net/Masks\""
      ],
      "execution_count": 8,
      "outputs": [
        {
          "output_type": "stream",
          "text": [
            "Sunday3nov\n"
          ],
          "name": "stdout"
        }
      ]
    },
    {
      "cell_type": "code",
      "metadata": {
        "id": "Ce2TEroWZ2WI",
        "colab_type": "code",
        "outputId": "fe8cb047-ccd3-41be-b367-2ac76e3f4ed3",
        "colab": {
          "base_uri": "https://localhost:8080/",
          "height": 34
        }
      },
      "source": [
        "!ls \"drive/My Drive/DCI-Net/Colab_data/Dataset 2\""
      ],
      "execution_count": 9,
      "outputs": [
        {
          "output_type": "stream",
          "text": [
            "imgs  msks\n"
          ],
          "name": "stdout"
        }
      ]
    },
    {
      "cell_type": "code",
      "metadata": {
        "id": "wJWjlxLkW9lz",
        "colab_type": "code",
        "colab": {}
      },
      "source": [
        "# Declare the paths to use (following the Keras convention)\n",
        "# https://www.tensorflow.org/versions/r2.0/api_docs/python/tf/keras/Model#fit_generator\n",
        "masks_path = img_path = data_path  = \"drive/My Drive/DCI-Net/Colab_data/Dataset 2\"\n",
        "\n",
        "_img_path   = os.path.join(data_path, 'imgs')\n",
        "_masks_path = os.path.join(data_path, 'msks')\n",
        "\n",
        "\n",
        "_model_snapshots_dir = os.path.join(root_dir, \"ModelSnapshots\")\n",
        "_model_log_path = os.path.join(\n",
        "    _model_snapshots_dir, \n",
        "    yield_model_name(architecture=\"MultiResUNet\")\n",
        ")\n"
      ],
      "execution_count": 0,
      "outputs": []
    },
    {
      "cell_type": "code",
      "metadata": {
        "id": "Q8PeDFX_EAGY",
        "colab_type": "code",
        "outputId": "b7754e1d-52fe-4b8d-f8c2-1a4165f58ce5",
        "colab": {
          "base_uri": "https://localhost:8080/",
          "height": 121
        }
      },
      "source": [
        "print(f\"{data_path}\\n {masks_path}\\n {img_path}\\n {_img_path}\\n {_masks_path}\\n {_model_log_path}\")"
      ],
      "execution_count": 37,
      "outputs": [
        {
          "output_type": "stream",
          "text": [
            "drive/My Drive/DCI-Net/Colab_data/Dataset 2\n",
            " drive/My Drive/DCI-Net/Colab_data/Dataset 2\n",
            " drive/My Drive/DCI-Net/Colab_data/Dataset 2\n",
            " drive/My Drive/DCI-Net/Colab_data/Dataset 2/imgs\n",
            " drive/My Drive/DCI-Net/Colab_data/Dataset 2/msks\n",
            " drive/My Drive/DCI-Net/ModelSnapshots/MultiResUNet-(2019-11-04 03:30:53).h5\n"
          ],
          "name": "stdout"
        }
      ]
    },
    {
      "cell_type": "markdown",
      "metadata": {
        "id": "Fgcp3Hl3n0uo",
        "colab_type": "text"
      },
      "source": [
        "Define hyperparameters\n"
      ]
    },
    {
      "cell_type": "code",
      "metadata": {
        "id": "O2qpzDaekgEl",
        "colab_type": "code",
        "colab": {}
      },
      "source": [
        "hyper_params = dict(\n",
        "    batch_size = 4,\n",
        "    epochs = 40,\n",
        "    steps_per_epoch=5,\n",
        "    model_file = _model_log_path,\n",
        "    _comment = \"Gustavo's implementation : models/multiresunet2.py\"\n",
        ")\n",
        "\n",
        "# DEBUG COMMENT OUT WHEN TRAINING : \n",
        "_debug_hyper_params = dict(\n",
        "    batch_size = 8,\n",
        "    epochs = 1,\n",
        "    steps_per_epoch=2,\n",
        "    model_file = _model_log_path\n",
        ")"
      ],
      "execution_count": 0,
      "outputs": []
    },
    {
      "cell_type": "markdown",
      "metadata": {
        "id": "mtl5hSO9nAZ2",
        "colab_type": "text"
      },
      "source": [
        "Get the stored snapshots :"
      ]
    },
    {
      "cell_type": "code",
      "metadata": {
        "id": "pXvwmgVBkvPU",
        "colab_type": "code",
        "outputId": "cf8e92ea-c4cd-411c-9e44-7677721a8723",
        "colab": {
          "base_uri": "https://localhost:8080/",
          "height": 86
        }
      },
      "source": [
        "snapshots = os.listdir(_model_snapshots_dir)\n",
        "snapshots"
      ],
      "execution_count": 53,
      "outputs": [
        {
          "output_type": "execute_result",
          "data": {
            "text/plain": [
              "['MultiResUNet-(2019-11-04 01:48:44).h5',\n",
              " 'MultiResUNet-(2019-10-29 03:29:04).h5',\n",
              " 'MultiResUNet-(2019-11-04 03:14:17).h5',\n",
              " 'MultiResUNet-(2019-11-04 03:30:53).h5']"
            ]
          },
          "metadata": {
            "tags": []
          },
          "execution_count": 53
        }
      ]
    },
    {
      "cell_type": "markdown",
      "metadata": {
        "id": "BF9uMSUWnM2y",
        "colab_type": "text"
      },
      "source": [
        "Choose a snapshot to load, if so desired :"
      ]
    },
    {
      "cell_type": "code",
      "metadata": {
        "id": "WSZcoEJClITg",
        "colab_type": "code",
        "outputId": "c5f78237-25b3-4ec3-e57a-770442170ad8",
        "colab": {
          "base_uri": "https://localhost:8080/",
          "height": 34
        }
      },
      "source": [
        "load_snapshot = os.path.join(_model_snapshots_dir, snapshots[0])\n",
        "load_snapshot"
      ],
      "execution_count": 50,
      "outputs": [
        {
          "output_type": "execute_result",
          "data": {
            "text/plain": [
              "'drive/My Drive/DCI-Net/ModelSnapshots/MultiResUNet-(2019-11-04 01:48:44).h5'"
            ]
          },
          "metadata": {
            "tags": []
          },
          "execution_count": 50
        }
      ]
    },
    {
      "cell_type": "markdown",
      "metadata": {
        "id": "0n3KvDkznZUl",
        "colab_type": "text"
      },
      "source": [
        "Instantiate a MultiResUNet model, **optionally** from a checkpoint :"
      ]
    },
    {
      "cell_type": "code",
      "metadata": {
        "id": "K0Ah1NY_NX2e",
        "colab_type": "code",
        "colab": {}
      },
      "source": [
        "model = mru2.MultiResUNet()\n",
        "    \n",
        "# TOGGLE THIS !\n",
        "from_checkpoint = False\n",
        "\n",
        "if from_checkpoint:\n",
        "  model.load_weights(load_snapshot)\n"
      ],
      "execution_count": 0,
      "outputs": []
    },
    {
      "cell_type": "markdown",
      "metadata": {
        "id": "F9vVsIdYnqA-",
        "colab_type": "text"
      },
      "source": [
        "Train the model :"
      ]
    },
    {
      "cell_type": "code",
      "metadata": {
        "id": "xaMlOM9rZQ1L",
        "colab_type": "code",
        "outputId": "4d35f787-0693-4ced-edec-5d27d116775c",
        "colab": {
          "base_uri": "https://localhost:8080/",
          "height": 1000
        }
      },
      "source": [
        "history = train_segnet.train_segnet(\n",
        "    model,\n",
        "    _img_path,\n",
        "    _masks_path,\n",
        "    **hyper_params\n",
        ")\n"
      ],
      "execution_count": 52,
      "outputs": [
        {
          "output_type": "stream",
          "text": [
            "Found 80 images belonging to 1 classes.\n",
            "Found 80 images belonging to 1 classes.\n",
            "Found 20 images belonging to 1 classes.\n",
            "Found 20 images belonging to 1 classes.\n",
            "Epoch 1/40\n",
            "4/5 [=======================>......] - ETA: 5s - loss: 0.6194 - jaccard_index: 0.2005 - dice_coef: 0.3318 Epoch 1/40\n",
            "5/5 [==============================] - 4s 784ms/step - loss: 97.1181 - jaccard_index: 0.1746 - dice_coef: 0.2957\n",
            "\n",
            "Epoch 00001: val_jaccard_index improved from -inf to 0.17457, saving model to drive/My Drive/DCI-Net/ModelSnapshots/MultiResUNet-(2019-11-04 03:30:53).h5\n",
            "5/5 [==============================] - 129s 26s/step - loss: 0.5933 - jaccard_index: 0.2104 - dice_coef: 0.3455 - val_loss: 97.1181 - val_jaccard_index: 0.1746 - val_dice_coef: 0.2957\n",
            "Epoch 2/40\n",
            "4/5 [=======================>......] - ETA: 0s - loss: 0.4877 - jaccard_index: 0.2774 - dice_coef: 0.4340Epoch 1/40\n",
            "5/5 [==============================] - 1s 176ms/step - loss: 550.0228 - jaccard_index: 0.1620 - dice_coef: 0.2785\n",
            "\n",
            "Epoch 00002: val_jaccard_index did not improve from 0.17457\n",
            "5/5 [==============================] - 4s 771ms/step - loss: 0.4874 - jaccard_index: 0.2749 - dice_coef: 0.4310 - val_loss: 550.0228 - val_jaccard_index: 0.1620 - val_dice_coef: 0.2785\n",
            "Epoch 3/40\n",
            "4/5 [=======================>......] - ETA: 0s - loss: 0.4996 - jaccard_index: 0.2366 - dice_coef: 0.3824Epoch 1/40\n",
            "5/5 [==============================] - 1s 175ms/step - loss: 269.8716 - jaccard_index: 0.1825 - dice_coef: 0.3082\n",
            "\n",
            "Epoch 00003: val_jaccard_index improved from 0.17457 to 0.18246, saving model to drive/My Drive/DCI-Net/ModelSnapshots/MultiResUNet-(2019-11-04 03:30:53).h5\n",
            "5/5 [==============================] - 6s 1s/step - loss: 0.4970 - jaccard_index: 0.2387 - dice_coef: 0.3852 - val_loss: 269.8716 - val_jaccard_index: 0.1825 - val_dice_coef: 0.3082\n",
            "Epoch 4/40\n",
            "4/5 [=======================>......] - ETA: 0s - loss: 0.4649 - jaccard_index: 0.2944 - dice_coef: 0.4545Epoch 1/40\n",
            "5/5 [==============================] - 1s 177ms/step - loss: 2.5224 - jaccard_index: 0.1329 - dice_coef: 0.2344\n",
            "\n",
            "Epoch 00004: val_jaccard_index did not improve from 0.18246\n",
            "5/5 [==============================] - 4s 749ms/step - loss: 0.4708 - jaccard_index: 0.2835 - dice_coef: 0.4409 - val_loss: 2.5224 - val_jaccard_index: 0.1329 - val_dice_coef: 0.2344\n",
            "Epoch 5/40\n",
            "4/5 [=======================>......] - ETA: 0s - loss: 0.4890 - jaccard_index: 0.2432 - dice_coef: 0.3908Epoch 1/40\n",
            "5/5 [==============================] - 1s 174ms/step - loss: 4.2633 - jaccard_index: 0.1669 - dice_coef: 0.2854\n",
            "\n",
            "Epoch 00005: val_jaccard_index did not improve from 0.18246\n",
            "5/5 [==============================] - 4s 746ms/step - loss: 0.4960 - jaccard_index: 0.2346 - dice_coef: 0.3794 - val_loss: 4.2633 - val_jaccard_index: 0.1669 - val_dice_coef: 0.2854\n",
            "Epoch 6/40\n",
            "4/5 [=======================>......] - ETA: 0s - loss: 0.4737 - jaccard_index: 0.2557 - dice_coef: 0.4070Epoch 1/40\n",
            "5/5 [==============================] - 1s 179ms/step - loss: 4.3943 - jaccard_index: 0.2119 - dice_coef: 0.3492\n",
            "\n",
            "Epoch 00006: val_jaccard_index improved from 0.18246 to 0.21190, saving model to drive/My Drive/DCI-Net/ModelSnapshots/MultiResUNet-(2019-11-04 03:30:53).h5\n",
            "5/5 [==============================] - 6s 1s/step - loss: 0.4786 - jaccard_index: 0.2513 - dice_coef: 0.4013 - val_loss: 4.3943 - val_jaccard_index: 0.2119 - val_dice_coef: 0.3492\n",
            "Epoch 7/40\n",
            "4/5 [=======================>......] - ETA: 0s - loss: 0.4457 - jaccard_index: 0.3138 - dice_coef: 0.4772Epoch 1/40\n",
            "5/5 [==============================] - 1s 178ms/step - loss: 0.5227 - jaccard_index: 0.2128 - dice_coef: 0.3509\n",
            "\n",
            "Epoch 00007: val_jaccard_index improved from 0.21190 to 0.21284, saving model to drive/My Drive/DCI-Net/ModelSnapshots/MultiResUNet-(2019-11-04 03:30:53).h5\n",
            "5/5 [==============================] - 6s 1s/step - loss: 0.4468 - jaccard_index: 0.3097 - dice_coef: 0.4725 - val_loss: 0.5227 - val_jaccard_index: 0.2128 - val_dice_coef: 0.3509\n",
            "Epoch 8/40\n",
            "4/5 [=======================>......] - ETA: 0s - loss: 0.4521 - jaccard_index: 0.2804 - dice_coef: 0.4373Epoch 1/40\n",
            "5/5 [==============================] - 1s 176ms/step - loss: 0.4952 - jaccard_index: 0.2340 - dice_coef: 0.3787\n",
            "\n",
            "Epoch 00008: val_jaccard_index improved from 0.21284 to 0.23403, saving model to drive/My Drive/DCI-Net/ModelSnapshots/MultiResUNet-(2019-11-04 03:30:53).h5\n",
            "5/5 [==============================] - 6s 1s/step - loss: 0.4527 - jaccard_index: 0.2774 - dice_coef: 0.4337 - val_loss: 0.4952 - val_jaccard_index: 0.2340 - val_dice_coef: 0.3787\n",
            "Epoch 9/40\n",
            "4/5 [=======================>......] - ETA: 0s - loss: 0.4519 - jaccard_index: 0.2720 - dice_coef: 0.4270Epoch 1/40\n",
            "5/5 [==============================] - 1s 178ms/step - loss: 0.5852 - jaccard_index: 0.2749 - dice_coef: 0.4310\n",
            "\n",
            "Epoch 00009: val_jaccard_index improved from 0.23403 to 0.27495, saving model to drive/My Drive/DCI-Net/ModelSnapshots/MultiResUNet-(2019-11-04 03:30:53).h5\n",
            "5/5 [==============================] - 6s 1s/step - loss: 0.4533 - jaccard_index: 0.2709 - dice_coef: 0.4257 - val_loss: 0.5852 - val_jaccard_index: 0.2749 - val_dice_coef: 0.4310\n",
            "Epoch 10/40\n",
            "4/5 [=======================>......] - ETA: 0s - loss: 0.4465 - jaccard_index: 0.2826 - dice_coef: 0.4405Epoch 1/40\n",
            "5/5 [==============================] - 1s 175ms/step - loss: 0.5272 - jaccard_index: 0.2648 - dice_coef: 0.4179\n",
            "\n",
            "Epoch 00010: val_jaccard_index did not improve from 0.27495\n",
            "5/5 [==============================] - 4s 750ms/step - loss: 0.4449 - jaccard_index: 0.2825 - dice_coef: 0.4404 - val_loss: 0.5272 - val_jaccard_index: 0.2648 - val_dice_coef: 0.4179\n",
            "Epoch 11/40\n",
            "4/5 [=======================>......] - ETA: 0s - loss: 0.4432 - jaccard_index: 0.2877 - dice_coef: 0.4466Epoch 1/40\n",
            "5/5 [==============================] - 1s 175ms/step - loss: 0.5057 - jaccard_index: 0.2655 - dice_coef: 0.4180\n",
            "\n",
            "Epoch 00011: val_jaccard_index did not improve from 0.27495\n",
            "5/5 [==============================] - 4s 750ms/step - loss: 0.4420 - jaccard_index: 0.2878 - dice_coef: 0.4467 - val_loss: 0.5057 - val_jaccard_index: 0.2655 - val_dice_coef: 0.4180\n",
            "Epoch 12/40\n",
            "4/5 [=======================>......] - ETA: 0s - loss: 0.4580 - jaccard_index: 0.2604 - dice_coef: 0.4124Epoch 1/40\n",
            "5/5 [==============================] - 1s 180ms/step - loss: 0.5810 - jaccard_index: 0.2749 - dice_coef: 0.4308\n",
            "\n",
            "Epoch 00012: val_jaccard_index did not improve from 0.27495\n",
            "5/5 [==============================] - 4s 756ms/step - loss: 0.4563 - jaccard_index: 0.2632 - dice_coef: 0.4161 - val_loss: 0.5810 - val_jaccard_index: 0.2749 - val_dice_coef: 0.4308\n",
            "Epoch 13/40\n",
            "4/5 [=======================>......] - ETA: 0s - loss: 0.4301 - jaccard_index: 0.3017 - dice_coef: 0.4634Epoch 1/40\n",
            "5/5 [==============================] - 1s 176ms/step - loss: 0.5109 - jaccard_index: 0.2680 - dice_coef: 0.4219\n",
            "\n",
            "Epoch 00013: val_jaccard_index did not improve from 0.27495\n",
            "5/5 [==============================] - 4s 749ms/step - loss: 0.4247 - jaccard_index: 0.3128 - dice_coef: 0.4760 - val_loss: 0.5109 - val_jaccard_index: 0.2680 - val_dice_coef: 0.4219\n",
            "Epoch 14/40\n",
            "4/5 [=======================>......] - ETA: 0s - loss: 0.4604 - jaccard_index: 0.2329 - dice_coef: 0.3773Epoch 1/40\n",
            "5/5 [==============================] - 1s 175ms/step - loss: 0.5450 - jaccard_index: 0.2314 - dice_coef: 0.3752\n",
            "\n",
            "Epoch 00014: val_jaccard_index did not improve from 0.27495\n",
            "5/5 [==============================] - 4s 749ms/step - loss: 0.4562 - jaccard_index: 0.2440 - dice_coef: 0.3915 - val_loss: 0.5450 - val_jaccard_index: 0.2314 - val_dice_coef: 0.3752\n",
            "Epoch 15/40\n",
            "4/5 [=======================>......] - ETA: 0s - loss: 0.4420 - jaccard_index: 0.2710 - dice_coef: 0.4261Epoch 1/40\n",
            "5/5 [==============================] - 1s 178ms/step - loss: 0.5766 - jaccard_index: 0.2053 - dice_coef: 0.3399\n",
            "\n",
            "Epoch 00015: val_jaccard_index did not improve from 0.27495\n",
            "5/5 [==============================] - 4s 766ms/step - loss: 0.4413 - jaccard_index: 0.2676 - dice_coef: 0.4218 - val_loss: 0.5766 - val_jaccard_index: 0.2053 - val_dice_coef: 0.3399\n",
            "Epoch 16/40\n",
            "4/5 [=======================>......] - ETA: 0s - loss: 0.4323 - jaccard_index: 0.2908 - dice_coef: 0.4502Epoch 1/40\n",
            "5/5 [==============================] - 1s 178ms/step - loss: 0.6046 - jaccard_index: 0.2348 - dice_coef: 0.3796\n",
            "\n",
            "Epoch 00016: val_jaccard_index did not improve from 0.27495\n",
            "5/5 [==============================] - 4s 751ms/step - loss: 0.4321 - jaccard_index: 0.2866 - dice_coef: 0.4451 - val_loss: 0.6046 - val_jaccard_index: 0.2348 - val_dice_coef: 0.3796\n",
            "Epoch 17/40\n",
            "4/5 [=======================>......] - ETA: 0s - loss: 0.4270 - jaccard_index: 0.2837 - dice_coef: 0.4419Epoch 1/40\n",
            "5/5 [==============================] - 1s 178ms/step - loss: 0.5590 - jaccard_index: 0.2279 - dice_coef: 0.3689\n",
            "\n",
            "Epoch 00017: val_jaccard_index did not improve from 0.27495\n",
            "5/5 [==============================] - 4s 750ms/step - loss: 0.4272 - jaccard_index: 0.2831 - dice_coef: 0.4412 - val_loss: 0.5590 - val_jaccard_index: 0.2279 - val_dice_coef: 0.3689\n",
            "Epoch 18/40\n",
            "4/5 [=======================>......] - ETA: 0s - loss: 0.4317 - jaccard_index: 0.2841 - dice_coef: 0.4410Epoch 1/40\n",
            "5/5 [==============================] - 1s 179ms/step - loss: 0.5118 - jaccard_index: 0.2135 - dice_coef: 0.3513\n",
            "\n",
            "Epoch 00018: val_jaccard_index did not improve from 0.27495\n",
            "5/5 [==============================] - 4s 755ms/step - loss: 0.4345 - jaccard_index: 0.2744 - dice_coef: 0.4291 - val_loss: 0.5118 - val_jaccard_index: 0.2135 - val_dice_coef: 0.3513\n",
            "Epoch 19/40\n",
            "4/5 [=======================>......] - ETA: 0s - loss: 0.4350 - jaccard_index: 0.2636 - dice_coef: 0.4165Epoch 1/40\n",
            "5/5 [==============================] - 1s 176ms/step - loss: 0.5008 - jaccard_index: 0.2138 - dice_coef: 0.3509\n",
            "\n",
            "Epoch 00019: val_jaccard_index did not improve from 0.27495\n",
            "5/5 [==============================] - 4s 751ms/step - loss: 0.4311 - jaccard_index: 0.2745 - dice_coef: 0.4298 - val_loss: 0.5008 - val_jaccard_index: 0.2138 - val_dice_coef: 0.3509\n",
            "Epoch 20/40\n",
            "4/5 [=======================>......] - ETA: 0s - loss: 0.4148 - jaccard_index: 0.2978 - dice_coef: 0.4588Epoch 1/40\n",
            "5/5 [==============================] - 1s 176ms/step - loss: 0.5123 - jaccard_index: 0.1894 - dice_coef: 0.3151\n",
            "\n",
            "Epoch 00020: val_jaccard_index did not improve from 0.27495\n",
            "5/5 [==============================] - 4s 753ms/step - loss: 0.4181 - jaccard_index: 0.2918 - dice_coef: 0.4515 - val_loss: 0.5123 - val_jaccard_index: 0.1894 - val_dice_coef: 0.3151\n",
            "Epoch 21/40\n",
            "4/5 [=======================>......] - ETA: 0s - loss: 0.4166 - jaccard_index: 0.2905 - dice_coef: 0.4501Epoch 1/40\n",
            "5/5 [==============================] - 1s 176ms/step - loss: 0.5364 - jaccard_index: 0.2005 - dice_coef: 0.3330\n",
            "\n",
            "Epoch 00021: val_jaccard_index did not improve from 0.27495\n",
            "5/5 [==============================] - 4s 753ms/step - loss: 0.4173 - jaccard_index: 0.2888 - dice_coef: 0.4481 - val_loss: 0.5364 - val_jaccard_index: 0.2005 - val_dice_coef: 0.3330\n",
            "Epoch 22/40\n",
            "4/5 [=======================>......] - ETA: 0s - loss: 0.4241 - jaccard_index: 0.2928 - dice_coef: 0.4526Epoch 1/40\n",
            "5/5 [==============================] - 1s 178ms/step - loss: 0.5159 - jaccard_index: 0.1847 - dice_coef: 0.3093\n",
            "\n",
            "Epoch 00022: val_jaccard_index did not improve from 0.27495\n",
            "5/5 [==============================] - 4s 753ms/step - loss: 0.4223 - jaccard_index: 0.2873 - dice_coef: 0.4460 - val_loss: 0.5159 - val_jaccard_index: 0.1847 - val_dice_coef: 0.3093\n",
            "Epoch 23/40\n",
            "4/5 [=======================>......] - ETA: 0s - loss: 0.4131 - jaccard_index: 0.2911 - dice_coef: 0.4505Epoch 1/40\n",
            "5/5 [==============================] - 1s 174ms/step - loss: 0.4951 - jaccard_index: 0.2027 - dice_coef: 0.3366\n",
            "\n",
            "Epoch 00023: val_jaccard_index did not improve from 0.27495\n",
            "5/5 [==============================] - 4s 747ms/step - loss: 0.4160 - jaccard_index: 0.2905 - dice_coef: 0.4500 - val_loss: 0.4951 - val_jaccard_index: 0.2027 - val_dice_coef: 0.3366\n",
            "Epoch 24/40\n",
            "4/5 [=======================>......] - ETA: 0s - loss: 0.4275 - jaccard_index: 0.2646 - dice_coef: 0.4176Epoch 1/40\n",
            "5/5 [==============================] - 1s 171ms/step - loss: 0.4957 - jaccard_index: 0.2324 - dice_coef: 0.3762\n",
            "\n",
            "Epoch 00024: val_jaccard_index did not improve from 0.27495\n",
            "5/5 [==============================] - 4s 737ms/step - loss: 0.4237 - jaccard_index: 0.2708 - dice_coef: 0.4253 - val_loss: 0.4957 - val_jaccard_index: 0.2324 - val_dice_coef: 0.3762\n",
            "Epoch 25/40\n",
            "4/5 [=======================>......] - ETA: 0s - loss: 0.4048 - jaccard_index: 0.3051 - dice_coef: 0.4670Epoch 1/40\n",
            "5/5 [==============================] - 1s 174ms/step - loss: 0.5300 - jaccard_index: 0.2596 - dice_coef: 0.4112\n",
            "\n",
            "Epoch 00025: val_jaccard_index did not improve from 0.27495\n",
            "5/5 [==============================] - 4s 744ms/step - loss: 0.4077 - jaccard_index: 0.2946 - dice_coef: 0.4543 - val_loss: 0.5300 - val_jaccard_index: 0.2596 - val_dice_coef: 0.4112\n",
            "Epoch 26/40\n",
            "4/5 [=======================>......] - ETA: 0s - loss: 0.4126 - jaccard_index: 0.2786 - dice_coef: 0.4356Epoch 1/40\n",
            "5/5 [==============================] - 1s 172ms/step - loss: 0.6033 - jaccard_index: 0.2512 - dice_coef: 0.4011\n",
            "\n",
            "Epoch 00026: val_jaccard_index did not improve from 0.27495\n",
            "5/5 [==============================] - 4s 737ms/step - loss: 0.4154 - jaccard_index: 0.2767 - dice_coef: 0.4332 - val_loss: 0.6033 - val_jaccard_index: 0.2512 - val_dice_coef: 0.4011\n",
            "Epoch 27/40\n",
            "4/5 [=======================>......] - ETA: 0s - loss: 0.4104 - jaccard_index: 0.2956 - dice_coef: 0.4553Epoch 1/40\n",
            "5/5 [==============================] - 1s 171ms/step - loss: 0.6691 - jaccard_index: 0.2343 - dice_coef: 0.3788\n",
            "\n",
            "Epoch 00027: val_jaccard_index did not improve from 0.27495\n",
            "5/5 [==============================] - 4s 742ms/step - loss: 0.4116 - jaccard_index: 0.2948 - dice_coef: 0.4545 - val_loss: 0.6691 - val_jaccard_index: 0.2343 - val_dice_coef: 0.3788\n",
            "Epoch 28/40\n",
            "4/5 [=======================>......] - ETA: 0s - loss: 0.4074 - jaccard_index: 0.2788 - dice_coef: 0.4359Epoch 1/40\n",
            "5/5 [==============================] - 1s 167ms/step - loss: 0.6142 - jaccard_index: 0.2163 - dice_coef: 0.3537\n",
            "\n",
            "Epoch 00028: val_jaccard_index did not improve from 0.27495\n",
            "5/5 [==============================] - 4s 739ms/step - loss: 0.4093 - jaccard_index: 0.2785 - dice_coef: 0.4355 - val_loss: 0.6142 - val_jaccard_index: 0.2163 - val_dice_coef: 0.3537\n",
            "Epoch 29/40\n",
            "4/5 [=======================>......] - ETA: 0s - loss: 0.4024 - jaccard_index: 0.2910 - dice_coef: 0.4502Epoch 1/40\n",
            "5/5 [==============================] - 1s 171ms/step - loss: 0.5366 - jaccard_index: 0.2129 - dice_coef: 0.3507\n",
            "\n",
            "Epoch 00029: val_jaccard_index did not improve from 0.27495\n",
            "5/5 [==============================] - 4s 736ms/step - loss: 0.4001 - jaccard_index: 0.2932 - dice_coef: 0.4530 - val_loss: 0.5366 - val_jaccard_index: 0.2129 - val_dice_coef: 0.3507\n",
            "Epoch 30/40\n",
            "4/5 [=======================>......] - ETA: 0s - loss: 0.3991 - jaccard_index: 0.2999 - dice_coef: 0.4613Epoch 1/40\n",
            "5/5 [==============================] - 1s 172ms/step - loss: 0.4972 - jaccard_index: 0.1932 - dice_coef: 0.3229\n",
            "\n",
            "Epoch 00030: val_jaccard_index did not improve from 0.27495\n",
            "5/5 [==============================] - 4s 737ms/step - loss: 0.3999 - jaccard_index: 0.2935 - dice_coef: 0.4535 - val_loss: 0.4972 - val_jaccard_index: 0.1932 - val_dice_coef: 0.3229\n",
            "Epoch 31/40\n",
            "4/5 [=======================>......] - ETA: 0s - loss: 0.4185 - jaccard_index: 0.2692 - dice_coef: 0.4230Epoch 1/40\n",
            "5/5 [==============================] - 1s 172ms/step - loss: 0.5072 - jaccard_index: 0.2016 - dice_coef: 0.3347\n",
            "\n",
            "Epoch 00031: val_jaccard_index did not improve from 0.27495\n",
            "5/5 [==============================] - 4s 746ms/step - loss: 0.4107 - jaccard_index: 0.2877 - dice_coef: 0.4446 - val_loss: 0.5072 - val_jaccard_index: 0.2016 - val_dice_coef: 0.3347\n",
            "Epoch 32/40\n",
            "4/5 [=======================>......] - ETA: 0s - loss: 0.4068 - jaccard_index: 0.2671 - dice_coef: 0.4212Epoch 1/40\n",
            "5/5 [==============================] - 1s 168ms/step - loss: 0.5236 - jaccard_index: 0.1923 - dice_coef: 0.3220\n",
            "\n",
            "Epoch 00032: val_jaccard_index did not improve from 0.27495\n",
            "5/5 [==============================] - 4s 742ms/step - loss: 0.4061 - jaccard_index: 0.2766 - dice_coef: 0.4327 - val_loss: 0.5236 - val_jaccard_index: 0.1923 - val_dice_coef: 0.3220\n",
            "Epoch 33/40\n",
            "4/5 [=======================>......] - ETA: 0s - loss: 0.4001 - jaccard_index: 0.2850 - dice_coef: 0.4432Epoch 1/40\n",
            "5/5 [==============================] - 1s 173ms/step - loss: 0.5264 - jaccard_index: 0.2049 - dice_coef: 0.3382\n",
            "\n",
            "Epoch 00033: val_jaccard_index did not improve from 0.27495\n",
            "5/5 [==============================] - 4s 745ms/step - loss: 0.3967 - jaccard_index: 0.2904 - dice_coef: 0.4497 - val_loss: 0.5264 - val_jaccard_index: 0.2049 - val_dice_coef: 0.3382\n",
            "Epoch 34/40\n",
            "4/5 [=======================>......] - ETA: 0s - loss: 0.4027 - jaccard_index: 0.2760 - dice_coef: 0.4319Epoch 1/40\n",
            "5/5 [==============================] - 1s 167ms/step - loss: 0.5422 - jaccard_index: 0.1867 - dice_coef: 0.3130\n",
            "\n",
            "Epoch 00034: val_jaccard_index did not improve from 0.27495\n",
            "5/5 [==============================] - 4s 731ms/step - loss: 0.4018 - jaccard_index: 0.2770 - dice_coef: 0.4334 - val_loss: 0.5422 - val_jaccard_index: 0.1867 - val_dice_coef: 0.3130\n",
            "Epoch 35/40\n",
            "4/5 [=======================>......] - ETA: 0s - loss: 0.3949 - jaccard_index: 0.2910 - dice_coef: 0.4491Epoch 1/40\n",
            "5/5 [==============================] - 1s 168ms/step - loss: 0.5429 - jaccard_index: 0.1800 - dice_coef: 0.3041\n",
            "\n",
            "Epoch 00035: val_jaccard_index did not improve from 0.27495\n",
            "5/5 [==============================] - 4s 733ms/step - loss: 0.3960 - jaccard_index: 0.2869 - dice_coef: 0.4444 - val_loss: 0.5429 - val_jaccard_index: 0.1800 - val_dice_coef: 0.3041\n",
            "Epoch 36/40\n",
            "4/5 [=======================>......] - ETA: 0s - loss: 0.3919 - jaccard_index: 0.3137 - dice_coef: 0.4771Epoch 1/40\n",
            "5/5 [==============================] - 1s 169ms/step - loss: 0.5451 - jaccard_index: 0.1909 - dice_coef: 0.3203\n",
            "\n",
            "Epoch 00036: val_jaccard_index did not improve from 0.27495\n",
            "5/5 [==============================] - 4s 734ms/step - loss: 0.3936 - jaccard_index: 0.3034 - dice_coef: 0.4647 - val_loss: 0.5451 - val_jaccard_index: 0.1909 - val_dice_coef: 0.3203\n",
            "Epoch 37/40\n",
            "4/5 [=======================>......] - ETA: 0s - loss: 0.3955 - jaccard_index: 0.2889 - dice_coef: 0.4472Epoch 1/40\n",
            "5/5 [==============================] - 1s 174ms/step - loss: 0.5310 - jaccard_index: 0.1853 - dice_coef: 0.3124\n",
            "\n",
            "Epoch 00037: val_jaccard_index did not improve from 0.27495\n",
            "5/5 [==============================] - 4s 742ms/step - loss: 0.3918 - jaccard_index: 0.2921 - dice_coef: 0.4512 - val_loss: 0.5310 - val_jaccard_index: 0.1853 - val_dice_coef: 0.3124\n",
            "Epoch 38/40\n",
            "4/5 [=======================>......] - ETA: 0s - loss: 0.3941 - jaccard_index: 0.2843 - dice_coef: 0.4412Epoch 1/40\n",
            "5/5 [==============================] - 1s 172ms/step - loss: 0.5150 - jaccard_index: 0.1903 - dice_coef: 0.3177\n",
            "\n",
            "Epoch 00038: val_jaccard_index did not improve from 0.27495\n",
            "5/5 [==============================] - 4s 741ms/step - loss: 0.3923 - jaccard_index: 0.2851 - dice_coef: 0.4425 - val_loss: 0.5150 - val_jaccard_index: 0.1903 - val_dice_coef: 0.3177\n",
            "Epoch 39/40\n",
            "4/5 [=======================>......] - ETA: 0s - loss: 0.3841 - jaccard_index: 0.3151 - dice_coef: 0.4792Epoch 1/40\n",
            "5/5 [==============================] - 1s 174ms/step - loss: 0.5003 - jaccard_index: 0.2022 - dice_coef: 0.3356\n",
            "\n",
            "Epoch 00039: val_jaccard_index did not improve from 0.27495\n",
            "5/5 [==============================] - 4s 746ms/step - loss: 0.3818 - jaccard_index: 0.3155 - dice_coef: 0.4796 - val_loss: 0.5003 - val_jaccard_index: 0.2022 - val_dice_coef: 0.3356\n",
            "Epoch 40/40\n",
            "4/5 [=======================>......] - ETA: 0s - loss: 0.3975 - jaccard_index: 0.2759 - dice_coef: 0.4323Epoch 1/40\n",
            "5/5 [==============================] - 1s 168ms/step - loss: 0.5083 - jaccard_index: 0.1896 - dice_coef: 0.3183\n",
            "\n",
            "Epoch 00040: val_jaccard_index did not improve from 0.27495\n",
            "5/5 [==============================] - 4s 730ms/step - loss: 0.3977 - jaccard_index: 0.2751 - dice_coef: 0.4313 - val_loss: 0.5083 - val_jaccard_index: 0.1896 - val_dice_coef: 0.3183\n"
          ],
          "name": "stdout"
        }
      ]
    },
    {
      "cell_type": "code",
      "metadata": {
        "id": "-XQs6gwumXMO",
        "colab_type": "code",
        "outputId": "86e9bbe4-137d-4a0c-9561-cc0668d05aff",
        "colab": {
          "base_uri": "https://localhost:8080/",
          "height": 34
        }
      },
      "source": [
        "print(_masks_path)"
      ],
      "execution_count": 55,
      "outputs": [
        {
          "output_type": "stream",
          "text": [
            "drive/My Drive/DCI-Net/Colab_data/Dataset 2/msks\n"
          ],
          "name": "stdout"
        }
      ]
    },
    {
      "cell_type": "code",
      "metadata": {
        "id": "4hIiRaBcRwlE",
        "colab_type": "code",
        "outputId": "0d984dfc-dd6b-4f81-f88c-545bf96be0e6",
        "colab": {
          "base_uri": "https://localhost:8080/",
          "height": 283
        }
      },
      "source": [
        "_jaccard = history.history['val_jaccard_index']\n",
        "sns.lineplot(list(range(len(_jaccard))), _jaccard)"
      ],
      "execution_count": 56,
      "outputs": [
        {
          "output_type": "execute_result",
          "data": {
            "text/plain": [
              "<matplotlib.axes._subplots.AxesSubplot at 0x7f77048250b8>"
            ]
          },
          "metadata": {
            "tags": []
          },
          "execution_count": 56
        },
        {
          "output_type": "display_data",
          "data": {
            "image/png": "[encoded data removed]",
            "text/plain": [
              "<Figure size 432x288 with 1 Axes>"
            ]
          },
          "metadata": {
            "tags": []
          }
        }
      ]
    },
    {
      "cell_type": "code",
      "metadata": {
        "id": "GMszSInISTtP",
        "colab_type": "code",
        "outputId": "af0fce9f-c434-41b9-e9c2-63aa9914c716",
        "colab": {
          "base_uri": "https://localhost:8080/",
          "height": 282
        }
      },
      "source": [
        "_loss = history.history['val_loss']\n",
        "sns.lineplot(list(range(len(_loss))), _loss)"
      ],
      "execution_count": 57,
      "outputs": [
        {
          "output_type": "execute_result",
          "data": {
            "text/plain": [
              "<matplotlib.axes._subplots.AxesSubplot at 0x7f7704818550>"
            ]
          },
          "metadata": {
            "tags": []
          },
          "execution_count": 57
        },
        {
          "output_type": "display_data",
          "data": {
            "image/png": "[encoded data removed]",
            "text/plain": [
              "<Figure size 432x288 with 1 Axes>"
            ]
          },
          "metadata": {
            "tags": []
          }
        }
      ]
    },
    {
      "cell_type": "code",
      "metadata": {
        "id": "eauUkdiPfe3f",
        "colab_type": "code",
        "outputId": "b33c289c-d29d-4d64-b1d9-1fdbad60e085",
        "colab": {
          "base_uri": "https://localhost:8080/",
          "height": 1000
        }
      },
      "source": [
        "!cat \"drive/My Drive/DCI-Net/time_logs.jsonl\" | jq"
      ],
      "execution_count": 54,
      "outputs": [
        {
          "output_type": "stream",
          "text": [
            "\u001b[1;39m{\n",
            "  \u001b[0m\u001b[34;1m\"datetimeUTC\"\u001b[0m\u001b[1;39m: \u001b[0m\u001b[0;32m\"2019-10-28 20:46:23.879399\"\u001b[0m\u001b[1;39m,\n",
            "  \u001b[0m\u001b[34;1m\"function\"\u001b[0m\u001b[1;39m: \u001b[0m\u001b[0;32m\"train_segnet\"\u001b[0m\u001b[1;39m,\n",
            "  \u001b[0m\u001b[34;1m\"args\"\u001b[0m\u001b[1;39m: \u001b[0m\u001b[1;39m[\n",
            "    \u001b[0;32m\"<class 'tensorflow.python.keras.engine.training.Model'>\"\u001b[0m\u001b[1;39m,\n",
            "    \u001b[0;32m\"drive/My Drive/DCI-Net/Colab_data/Dataset 1\"\u001b[0m\u001b[1;39m,\n",
            "    \u001b[0;32m\"drive/My Drive/DCI-Net/Colab_data/Dataset 1\"\u001b[0m\u001b[1;39m\n",
            "  \u001b[1;39m]\u001b[0m\u001b[1;39m,\n",
            "  \u001b[0m\u001b[34;1m\"kwargs\"\u001b[0m\u001b[1;39m: \u001b[0m\u001b[1;39m{\n",
            "    \u001b[0m\u001b[34;1m\"batch_size\"\u001b[0m\u001b[1;39m: \u001b[0m\u001b[0;39m8\u001b[0m\u001b[1;39m,\n",
            "    \u001b[0m\u001b[34;1m\"epochs\"\u001b[0m\u001b[1;39m: \u001b[0m\u001b[0;39m50\u001b[0m\u001b[1;39m,\n",
            "    \u001b[0m\u001b[34;1m\"steps_per_epoch\"\u001b[0m\u001b[1;39m: \u001b[0m\u001b[0;39m100\u001b[0m\u001b[1;39m,\n",
            "    \u001b[0m\u001b[34;1m\"model_file\"\u001b[0m\u001b[1;39m: \u001b[0m\u001b[0;32m\"drive/My Drive/DCI-Net/second_mutlires_gpu_WBC.h5\"\u001b[0m\u001b[1;39m\n",
            "  \u001b[1;39m}\u001b[0m\u001b[1;39m,\n",
            "  \u001b[0m\u001b[34;1m\"time\"\u001b[0m\u001b[1;39m: \u001b[0m\u001b[0;39m7054.45720076561\u001b[0m\u001b[1;39m\n",
            "\u001b[1;39m}\u001b[0m\n",
            "\u001b[1;39m{\n",
            "  \u001b[0m\u001b[34;1m\"datetimeUTC\"\u001b[0m\u001b[1;39m: \u001b[0m\u001b[0;32m\"2019-10-29 02:26:33.794570\"\u001b[0m\u001b[1;39m,\n",
            "  \u001b[0m\u001b[34;1m\"function\"\u001b[0m\u001b[1;39m: \u001b[0m\u001b[0;32m\"train_segnet\"\u001b[0m\u001b[1;39m,\n",
            "  \u001b[0m\u001b[34;1m\"args\"\u001b[0m\u001b[1;39m: \u001b[0m\u001b[1;39m[\n",
            "    \u001b[0;32m\"<class 'tensorflow.python.keras.engine.training.Model'>\"\u001b[0m\u001b[1;39m,\n",
            "    \u001b[0;32m\"drive/My Drive/DCI-Net/Colab_data/Dataset 1\"\u001b[0m\u001b[1;39m,\n",
            "    \u001b[0;32m\"drive/My Drive/DCI-Net/Colab_data/Dataset 1\"\u001b[0m\u001b[1;39m\n",
            "  \u001b[1;39m]\u001b[0m\u001b[1;39m,\n",
            "  \u001b[0m\u001b[34;1m\"kwargs\"\u001b[0m\u001b[1;39m: \u001b[0m\u001b[1;39m{\n",
            "    \u001b[0m\u001b[34;1m\"batch_size\"\u001b[0m\u001b[1;39m: \u001b[0m\u001b[0;39m8\u001b[0m\u001b[1;39m,\n",
            "    \u001b[0m\u001b[34;1m\"epochs\"\u001b[0m\u001b[1;39m: \u001b[0m\u001b[0;39m1\u001b[0m\u001b[1;39m,\n",
            "    \u001b[0m\u001b[34;1m\"steps_per_epoch\"\u001b[0m\u001b[1;39m: \u001b[0m\u001b[0;39m10\u001b[0m\u001b[1;39m,\n",
            "    \u001b[0m\u001b[34;1m\"model_file\"\u001b[0m\u001b[1;39m: \u001b[0m\u001b[0;32m\"drive/My Drive/DCI-Net/second_mutlires_gpu_WBC.h5\"\u001b[0m\u001b[1;39m\n",
            "  \u001b[1;39m}\u001b[0m\u001b[1;39m,\n",
            "  \u001b[0m\u001b[34;1m\"time\"\u001b[0m\u001b[1;39m: \u001b[0m\u001b[0;39m90.98878622055054\u001b[0m\u001b[1;39m\n",
            "\u001b[1;39m}\u001b[0m\n",
            "\u001b[1;39m{\n",
            "  \u001b[0m\u001b[34;1m\"datetimeUTC\"\u001b[0m\u001b[1;39m: \u001b[0m\u001b[0;32m\"2019-10-29 02:37:01.130320\"\u001b[0m\u001b[1;39m,\n",
            "  \u001b[0m\u001b[34;1m\"function\"\u001b[0m\u001b[1;39m: \u001b[0m\u001b[0;32m\"_dummy_debug_function\"\u001b[0m\u001b[1;39m,\n",
            "  \u001b[0m\u001b[34;1m\"args\"\u001b[0m\u001b[1;39m: \u001b[0m\u001b[1;39m[\n",
            "    \u001b[0;39m5\u001b[0m\u001b[1;39m,\n",
            "    \u001b[0;32m\"234\"\u001b[0m\u001b[1;39m,\n",
            "    \u001b[0;39m5.2\u001b[0m\u001b[1;39m\n",
            "  \u001b[1;39m]\u001b[0m\u001b[1;39m,\n",
            "  \u001b[0m\u001b[34;1m\"kwargs\"\u001b[0m\u001b[1;39m: \u001b[0m\u001b[1;39m{\n",
            "    \u001b[0m\u001b[34;1m\"hola\"\u001b[0m\u001b[1;39m: \u001b[0m\u001b[0;32m\"pass\"\u001b[0m\u001b[1;39m,\n",
            "    \u001b[0m\u001b[34;1m\"foo\"\u001b[0m\u001b[1;39m: \u001b[0m\u001b[0;32m\"bar\"\u001b[0m\u001b[1;39m\n",
            "  \u001b[1;39m}\u001b[0m\u001b[1;39m,\n",
            "  \u001b[0m\u001b[34;1m\"time\"\u001b[0m\u001b[1;39m: \u001b[0m\u001b[0;39m1.9073486328125e-06\u001b[0m\u001b[1;39m\n",
            "\u001b[1;39m}\u001b[0m\n",
            "\u001b[1;39m{\n",
            "  \u001b[0m\u001b[34;1m\"datetimeUTC\"\u001b[0m\u001b[1;39m: \u001b[0m\u001b[0;32m\"2019-10-29 03:00:45.890538\"\u001b[0m\u001b[1;39m,\n",
            "  \u001b[0m\u001b[34;1m\"function\"\u001b[0m\u001b[1;39m: \u001b[0m\u001b[0;32m\"train_segnet\"\u001b[0m\u001b[1;39m,\n",
            "  \u001b[0m\u001b[34;1m\"args\"\u001b[0m\u001b[1;39m: \u001b[0m\u001b[1;39m[\n",
            "    \u001b[0;32m\"<class 'tensorflow.python.keras.engine.training.Model'>\"\u001b[0m\u001b[1;39m,\n",
            "    \u001b[0;32m\"drive/My Drive/DCI-Net/Colab_data/Dataset 1\"\u001b[0m\u001b[1;39m,\n",
            "    \u001b[0;32m\"drive/My Drive/DCI-Net/Colab_data/Dataset 1\"\u001b[0m\u001b[1;39m\n",
            "  \u001b[1;39m]\u001b[0m\u001b[1;39m,\n",
            "  \u001b[0m\u001b[34;1m\"kwargs\"\u001b[0m\u001b[1;39m: \u001b[0m\u001b[1;39m{\n",
            "    \u001b[0m\u001b[34;1m\"batch_size\"\u001b[0m\u001b[1;39m: \u001b[0m\u001b[0;39m8\u001b[0m\u001b[1;39m,\n",
            "    \u001b[0m\u001b[34;1m\"epochs\"\u001b[0m\u001b[1;39m: \u001b[0m\u001b[0;39m1\u001b[0m\u001b[1;39m,\n",
            "    \u001b[0m\u001b[34;1m\"steps_per_epoch\"\u001b[0m\u001b[1;39m: \u001b[0m\u001b[0;39m2\u001b[0m\u001b[1;39m,\n",
            "    \u001b[0m\u001b[34;1m\"model_file\"\u001b[0m\u001b[1;39m: \u001b[0m\u001b[0;32m\"drive/My Drive/DCI-Net/second_mutlires_gpu_WBC.h5\"\u001b[0m\u001b[1;39m\n",
            "  \u001b[1;39m}\u001b[0m\u001b[1;39m,\n",
            "  \u001b[0m\u001b[34;1m\"time\"\u001b[0m\u001b[1;39m: \u001b[0m\u001b[0;39m83.04236173629761\u001b[0m\u001b[1;39m\n",
            "\u001b[1;39m}\u001b[0m\n",
            "\u001b[1;39m{\n",
            "  \u001b[0m\u001b[34;1m\"datetimeUTC\"\u001b[0m\u001b[1;39m: \u001b[0m\u001b[0;32m\"2019-10-29 03:39:33.098597\"\u001b[0m\u001b[1;39m,\n",
            "  \u001b[0m\u001b[34;1m\"function\"\u001b[0m\u001b[1;39m: \u001b[0m\u001b[0;32m\"train_segnet\"\u001b[0m\u001b[1;39m,\n",
            "  \u001b[0m\u001b[34;1m\"args\"\u001b[0m\u001b[1;39m: \u001b[0m\u001b[1;39m[\n",
            "    \u001b[0;32m\"<class 'tensorflow.python.keras.engine.training.Model'>\"\u001b[0m\u001b[1;39m,\n",
            "    \u001b[0;32m\"drive/My Drive/DCI-Net/Colab_data/Dataset 1\"\u001b[0m\u001b[1;39m,\n",
            "    \u001b[0;32m\"drive/My Drive/DCI-Net/Colab_data/Dataset 1\"\u001b[0m\u001b[1;39m\n",
            "  \u001b[1;39m]\u001b[0m\u001b[1;39m,\n",
            "  \u001b[0m\u001b[34;1m\"kwargs\"\u001b[0m\u001b[1;39m: \u001b[0m\u001b[1;39m{\n",
            "    \u001b[0m\u001b[34;1m\"batch_size\"\u001b[0m\u001b[1;39m: \u001b[0m\u001b[0;39m8\u001b[0m\u001b[1;39m,\n",
            "    \u001b[0m\u001b[34;1m\"epochs\"\u001b[0m\u001b[1;39m: \u001b[0m\u001b[0;39m1\u001b[0m\u001b[1;39m,\n",
            "    \u001b[0m\u001b[34;1m\"steps_per_epoch\"\u001b[0m\u001b[1;39m: \u001b[0m\u001b[0;39m2\u001b[0m\u001b[1;39m,\n",
            "    \u001b[0m\u001b[34;1m\"model_file\"\u001b[0m\u001b[1;39m: \u001b[0m\u001b[0;32m\"drive/My Drive/DCI-Net/ModelSnapshots/MultiResUNet-(2019-10-29 03:29:04).h5\"\u001b[0m\u001b[1;39m\n",
            "  \u001b[1;39m}\u001b[0m\u001b[1;39m,\n",
            "  \u001b[0m\u001b[34;1m\"time\"\u001b[0m\u001b[1;39m: \u001b[0m\u001b[0;39m156.75068426132202\u001b[0m\u001b[1;39m\n",
            "\u001b[1;39m}\u001b[0m\n",
            "\u001b[1;39m{\n",
            "  \u001b[0m\u001b[34;1m\"datetimeUTC\"\u001b[0m\u001b[1;39m: \u001b[0m\u001b[0;32m\"2019-11-04 03:22:21.875093\"\u001b[0m\u001b[1;39m,\n",
            "  \u001b[0m\u001b[34;1m\"function\"\u001b[0m\u001b[1;39m: \u001b[0m\u001b[0;32m\"train_segnet\"\u001b[0m\u001b[1;39m,\n",
            "  \u001b[0m\u001b[34;1m\"args\"\u001b[0m\u001b[1;39m: \u001b[0m\u001b[1;39m[\n",
            "    \u001b[0;32m\"<class 'tensorflow.python.keras.engine.training.Model'>\"\u001b[0m\u001b[1;39m,\n",
            "    \u001b[0;32m\"drive/My Drive/DCI-Net/Colab_data/Dataset 2/imgs\"\u001b[0m\u001b[1;39m,\n",
            "    \u001b[0;32m\"drive/My Drive/DCI-Net/Colab_data/Dataset 2/msks\"\u001b[0m\u001b[1;39m\n",
            "  \u001b[1;39m]\u001b[0m\u001b[1;39m,\n",
            "  \u001b[0m\u001b[34;1m\"kwargs\"\u001b[0m\u001b[1;39m: \u001b[0m\u001b[1;39m{\n",
            "    \u001b[0m\u001b[34;1m\"batch_size\"\u001b[0m\u001b[1;39m: \u001b[0m\u001b[0;39m8\u001b[0m\u001b[1;39m,\n",
            "    \u001b[0m\u001b[34;1m\"epochs\"\u001b[0m\u001b[1;39m: \u001b[0m\u001b[0;39m20\u001b[0m\u001b[1;39m,\n",
            "    \u001b[0m\u001b[34;1m\"steps_per_epoch\"\u001b[0m\u001b[1;39m: \u001b[0m\u001b[0;39m5\u001b[0m\u001b[1;39m,\n",
            "    \u001b[0m\u001b[34;1m\"model_file\"\u001b[0m\u001b[1;39m: \u001b[0m\u001b[0;32m\"drive/My Drive/DCI-Net/ModelSnapshots/MultiResUNet-(2019-11-04 03:14:17).h5\"\u001b[0m\u001b[1;39m,\n",
            "    \u001b[0m\u001b[34;1m\"_comment\"\u001b[0m\u001b[1;39m: \u001b[0m\u001b[0;32m\"Edwin's implementation : models/multiresunet.py\"\u001b[0m\u001b[1;39m\n",
            "  \u001b[1;39m}\u001b[0m\u001b[1;39m,\n",
            "  \u001b[0m\u001b[34;1m\"time\"\u001b[0m\u001b[1;39m: \u001b[0m\u001b[0;39m254.74196553230286\u001b[0m\u001b[1;39m\n",
            "\u001b[1;39m}\u001b[0m\n",
            "\u001b[1;39m{\n",
            "  \u001b[0m\u001b[34;1m\"datetimeUTC\"\u001b[0m\u001b[1;39m: \u001b[0m\u001b[0;32m\"2019-11-04 03:36:19.278533\"\u001b[0m\u001b[1;39m,\n",
            "  \u001b[0m\u001b[34;1m\"function\"\u001b[0m\u001b[1;39m: \u001b[0m\u001b[0;32m\"train_segnet\"\u001b[0m\u001b[1;39m,\n",
            "  \u001b[0m\u001b[34;1m\"args\"\u001b[0m\u001b[1;39m: \u001b[0m\u001b[1;39m[\n",
            "    \u001b[0;32m\"<class 'tensorflow.python.keras.engine.training.Model'>\"\u001b[0m\u001b[1;39m,\n",
            "    \u001b[0;32m\"drive/My Drive/DCI-Net/Colab_data/Dataset 2/imgs\"\u001b[0m\u001b[1;39m,\n",
            "    \u001b[0;32m\"drive/My Drive/DCI-Net/Colab_data/Dataset 2/msks\"\u001b[0m\u001b[1;39m\n",
            "  \u001b[1;39m]\u001b[0m\u001b[1;39m,\n",
            "  \u001b[0m\u001b[34;1m\"kwargs\"\u001b[0m\u001b[1;39m: \u001b[0m\u001b[1;39m{\n",
            "    \u001b[0m\u001b[34;1m\"batch_size\"\u001b[0m\u001b[1;39m: \u001b[0m\u001b[0;39m8\u001b[0m\u001b[1;39m,\n",
            "    \u001b[0m\u001b[34;1m\"epochs\"\u001b[0m\u001b[1;39m: \u001b[0m\u001b[0;39m20\u001b[0m\u001b[1;39m,\n",
            "    \u001b[0m\u001b[34;1m\"steps_per_epoch\"\u001b[0m\u001b[1;39m: \u001b[0m\u001b[0;39m5\u001b[0m\u001b[1;39m,\n",
            "    \u001b[0m\u001b[34;1m\"model_file\"\u001b[0m\u001b[1;39m: \u001b[0m\u001b[0;32m\"drive/My Drive/DCI-Net/ModelSnapshots/MultiResUNet-(2019-11-04 03:30:53).h5\"\u001b[0m\u001b[1;39m,\n",
            "    \u001b[0m\u001b[34;1m\"_comment\"\u001b[0m\u001b[1;39m: \u001b[0m\u001b[0;32m\"Gustavo's implementation : models/multiresunet2.py\"\u001b[0m\u001b[1;39m\n",
            "  \u001b[1;39m}\u001b[0m\u001b[1;39m,\n",
            "  \u001b[0m\u001b[34;1m\"time\"\u001b[0m\u001b[1;39m: \u001b[0m\u001b[0;39m234.89537811279297\u001b[0m\u001b[1;39m\n",
            "\u001b[1;39m}\u001b[0m\n",
            "\u001b[1;39m{\n",
            "  \u001b[0m\u001b[34;1m\"datetimeUTC\"\u001b[0m\u001b[1;39m: \u001b[0m\u001b[0;32m\"2019-11-04 03:44:06.574148\"\u001b[0m\u001b[1;39m,\n",
            "  \u001b[0m\u001b[34;1m\"function\"\u001b[0m\u001b[1;39m: \u001b[0m\u001b[0;32m\"train_segnet\"\u001b[0m\u001b[1;39m,\n",
            "  \u001b[0m\u001b[34;1m\"args\"\u001b[0m\u001b[1;39m: \u001b[0m\u001b[1;39m[\n",
            "    \u001b[0;32m\"<class 'tensorflow.python.keras.engine.training.Model'>\"\u001b[0m\u001b[1;39m,\n",
            "    \u001b[0;32m\"drive/My Drive/DCI-Net/Colab_data/Dataset 2/imgs\"\u001b[0m\u001b[1;39m,\n",
            "    \u001b[0;32m\"drive/My Drive/DCI-Net/Colab_data/Dataset 2/msks\"\u001b[0m\u001b[1;39m\n",
            "  \u001b[1;39m]\u001b[0m\u001b[1;39m,\n",
            "  \u001b[0m\u001b[34;1m\"kwargs\"\u001b[0m\u001b[1;39m: \u001b[0m\u001b[1;39m{\n",
            "    \u001b[0m\u001b[34;1m\"batch_size\"\u001b[0m\u001b[1;39m: \u001b[0m\u001b[0;39m8\u001b[0m\u001b[1;39m,\n",
            "    \u001b[0m\u001b[34;1m\"epochs\"\u001b[0m\u001b[1;39m: \u001b[0m\u001b[0;39m50\u001b[0m\u001b[1;39m,\n",
            "    \u001b[0m\u001b[34;1m\"steps_per_epoch\"\u001b[0m\u001b[1;39m: \u001b[0m\u001b[0;39m100\u001b[0m\u001b[1;39m,\n",
            "    \u001b[0m\u001b[34;1m\"model_file\"\u001b[0m\u001b[1;39m: \u001b[0m\u001b[0;32m\"drive/My Drive/DCI-Net/ModelSnapshots/MultiResUNet-(2019-11-04 01:48:44).h5\"\u001b[0m\u001b[1;39m\n",
            "  \u001b[1;39m}\u001b[0m\u001b[1;39m,\n",
            "  \u001b[0m\u001b[34;1m\"time\"\u001b[0m\u001b[1;39m: \u001b[0m\u001b[0;39m6409.123408794403\u001b[0m\u001b[1;39m\n",
            "\u001b[1;39m}\u001b[0m\n",
            "\u001b[1;39m{\n",
            "  \u001b[0m\u001b[34;1m\"datetimeUTC\"\u001b[0m\u001b[1;39m: \u001b[0m\u001b[0;32m\"2019-11-04 03:50:00.174468\"\u001b[0m\u001b[1;39m,\n",
            "  \u001b[0m\u001b[34;1m\"function\"\u001b[0m\u001b[1;39m: \u001b[0m\u001b[0;32m\"train_segnet\"\u001b[0m\u001b[1;39m,\n",
            "  \u001b[0m\u001b[34;1m\"args\"\u001b[0m\u001b[1;39m: \u001b[0m\u001b[1;39m[\n",
            "    \u001b[0;32m\"<class 'tensorflow.python.keras.engine.training.Model'>\"\u001b[0m\u001b[1;39m,\n",
            "    \u001b[0;32m\"drive/My Drive/DCI-Net/Colab_data/Dataset 2/imgs\"\u001b[0m\u001b[1;39m,\n",
            "    \u001b[0;32m\"drive/My Drive/DCI-Net/Colab_data/Dataset 2/msks\"\u001b[0m\u001b[1;39m\n",
            "  \u001b[1;39m]\u001b[0m\u001b[1;39m,\n",
            "  \u001b[0m\u001b[34;1m\"kwargs\"\u001b[0m\u001b[1;39m: \u001b[0m\u001b[1;39m{\n",
            "    \u001b[0m\u001b[34;1m\"batch_size\"\u001b[0m\u001b[1;39m: \u001b[0m\u001b[0;39m4\u001b[0m\u001b[1;39m,\n",
            "    \u001b[0m\u001b[34;1m\"epochs\"\u001b[0m\u001b[1;39m: \u001b[0m\u001b[0;39m40\u001b[0m\u001b[1;39m,\n",
            "    \u001b[0m\u001b[34;1m\"steps_per_epoch\"\u001b[0m\u001b[1;39m: \u001b[0m\u001b[0;39m5\u001b[0m\u001b[1;39m,\n",
            "    \u001b[0m\u001b[34;1m\"model_file\"\u001b[0m\u001b[1;39m: \u001b[0m\u001b[0;32m\"drive/My Drive/DCI-Net/ModelSnapshots/MultiResUNet-(2019-11-04 03:30:53).h5\"\u001b[0m\u001b[1;39m,\n",
            "    \u001b[0m\u001b[34;1m\"_comment\"\u001b[0m\u001b[1;39m: \u001b[0m\u001b[0;32m\"Gustavo's implementation : models/multiresunet2.py\"\u001b[0m\u001b[1;39m\n",
            "  \u001b[1;39m}\u001b[0m\u001b[1;39m,\n",
            "  \u001b[0m\u001b[34;1m\"time\"\u001b[0m\u001b[1;39m: \u001b[0m\u001b[0;39m293.908887386322\u001b[0m\u001b[1;39m\n",
            "\u001b[1;39m}\u001b[0m\n"
          ],
          "name": "stdout"
        }
      ]
    },
    {
      "cell_type": "code",
      "metadata": {
        "id": "04ibUYVvf47H",
        "colab_type": "code",
        "colab": {}
      },
      "source": [
        "# 1 validación 5 pliegues\n",
        "def "
      ],
      "execution_count": 0,
      "outputs": []
    },
    {
      "cell_type": "code",
      "metadata": {
        "id": "hXwZZTxQkuMy",
        "colab_type": "code",
        "colab": {}
      },
      "source": [
        "@timing.time_log(path_to_logfile=_log_file)\n",
        "def _dummy_debug_function(*args, **kw):\n",
        "  pass\n",
        "  "
      ],
      "execution_count": 0,
      "outputs": []
    },
    {
      "cell_type": "code",
      "metadata": {
        "id": "iJDNCbPfXogz",
        "colab_type": "code",
        "outputId": "fa2d2174-46a3-4785-b7a1-a4460843ba83",
        "colab": {
          "base_uri": "https://localhost:8080/",
          "height": 165
        }
      },
      "source": [
        "log"
      ],
      "execution_count": 0,
      "outputs": [
        {
          "output_type": "error",
          "ename": "NameError",
          "evalue": "ignored",
          "traceback": [
            "\u001b[0;31m---------------------------------------------------------------------------\u001b[0m",
            "\u001b[0;31mNameError\u001b[0m                                 Traceback (most recent call last)",
            "\u001b[0;32m<ipython-input-44-4508c1b19b88>\u001b[0m in \u001b[0;36m<module>\u001b[0;34m()\u001b[0m\n\u001b[0;32m----> 1\u001b[0;31m \u001b[0mlog\u001b[0m\u001b[0;34m\u001b[0m\u001b[0;34m\u001b[0m\u001b[0m\n\u001b[0m",
            "\u001b[0;31mNameError\u001b[0m: name 'log' is not defined"
          ]
        }
      ]
    },
    {
      "cell_type": "code",
      "metadata": {
        "id": "TjdrADboXliJ",
        "colab_type": "code",
        "colab": {}
      },
      "source": [
        "_dummy_debug_function(5, '234', 5.2, hola='pass', foo='bar')"
      ],
      "execution_count": 0,
      "outputs": []
    },
    {
      "cell_type": "code",
      "metadata": {
        "id": "3xYc5_3SX6hJ",
        "colab_type": "code",
        "colab": {}
      },
      "source": [
        ""
      ],
      "execution_count": 0,
      "outputs": []
    }
  ]
}