{
  "nbformat": 4,
  "nbformat_minor": 0,
  "metadata": {
    "colab": {
      "name": "Comparative MultiResUNet.ipynb",
      "provenance": [],
      "collapsed_sections": [],
      "include_colab_link": true
    },
    "kernelspec": {
      "name": "python3",
      "display_name": "Python 3"
    },
    "accelerator": "GPU"
  },
  "cells": [
    {
      "cell_type": "markdown",
      "metadata": {
        "id": "view-in-github",
        "colab_type": "text"
      },
      "source": [
        "<a href=\"https://colab.research.google.com/github/gmagannaDevelop/segnet/blob/mru_tests/Comparative_MultiResUNet.ipynb\" target=\"_parent\"><img src=\"https://colab.research.google.com/assets/colab-badge.svg\" alt=\"Open In Colab\"/></a>"
      ]
    },
    {
      "cell_type": "markdown",
      "metadata": {
        "id": "DHw_6M1yXu8b",
        "colab_type": "text"
      },
      "source": [
        "# MultiResUNet\n",
        "## DCI-Net\n",
        "#### Gustavo Magaña\n",
        "\n",
        "\\########################################################"
      ]
    },
    {
      "cell_type": "code",
      "metadata": {
        "id": "C7esbcDmCpM_",
        "colab_type": "code",
        "outputId": "9a8a83ce-fc0a-48b5-de06-76af6d5c5824",
        "colab": {
          "base_uri": "https://localhost:8080/",
          "height": 35
        }
      },
      "source": [
        "!ls"
      ],
      "execution_count": 0,
      "outputs": [
        {
          "output_type": "stream",
          "text": [
            "sample_data\n"
          ],
          "name": "stdout"
        }
      ]
    },
    {
      "cell_type": "code",
      "metadata": {
        "id": "IvwdXdIkfp0E",
        "colab_type": "code",
        "outputId": "014a8658-2bf8-477e-ff4c-75e458af2acf",
        "colab": {
          "base_uri": "https://localhost:8080/",
          "height": 585
        }
      },
      "source": [
        "!apt install jq"
      ],
      "execution_count": 0,
      "outputs": [
        {
          "output_type": "stream",
          "text": [
            "Reading package lists... Done\n",
            "Building dependency tree       \n",
            "Reading state information... Done\n",
            "The following package was automatically installed and is no longer required:\n",
            "  libnvidia-common-430\n",
            "Use 'apt autoremove' to remove it.\n",
            "The following additional packages will be installed:\n",
            "  libjq1 libonig4\n",
            "The following NEW packages will be installed:\n",
            "  jq libjq1 libonig4\n",
            "0 upgraded, 3 newly installed, 0 to remove and 7 not upgraded.\n",
            "Need to get 276 kB of archives.\n",
            "After this operation, 930 kB of additional disk space will be used.\n",
            "Get:1 http://archive.ubuntu.com/ubuntu bionic/universe amd64 libonig4 amd64 6.7.0-1 [119 kB]\n",
            "Get:2 http://archive.ubuntu.com/ubuntu bionic/universe amd64 libjq1 amd64 1.5+dfsg-2 [111 kB]\n",
            "Get:3 http://archive.ubuntu.com/ubuntu bionic/universe amd64 jq amd64 1.5+dfsg-2 [45.6 kB]\n",
            "Fetched 276 kB in 0s (2,911 kB/s)\n",
            "Selecting previously unselected package libonig4:amd64.\n",
            "(Reading database ... 145674 files and directories currently installed.)\n",
            "Preparing to unpack .../libonig4_6.7.0-1_amd64.deb ...\n",
            "Unpacking libonig4:amd64 (6.7.0-1) ...\n",
            "Selecting previously unselected package libjq1:amd64.\n",
            "Preparing to unpack .../libjq1_1.5+dfsg-2_amd64.deb ...\n",
            "Unpacking libjq1:amd64 (1.5+dfsg-2) ...\n",
            "Selecting previously unselected package jq.\n",
            "Preparing to unpack .../jq_1.5+dfsg-2_amd64.deb ...\n",
            "Unpacking jq (1.5+dfsg-2) ...\n",
            "Setting up libonig4:amd64 (6.7.0-1) ...\n",
            "Setting up libjq1:amd64 (1.5+dfsg-2) ...\n",
            "Setting up jq (1.5+dfsg-2) ...\n",
            "Processing triggers for man-db (2.8.3-2ubuntu0.1) ...\n",
            "Processing triggers for libc-bin (2.27-3ubuntu1) ...\n"
          ],
          "name": "stdout"
        }
      ]
    },
    {
      "cell_type": "code",
      "metadata": {
        "id": "SUVhISDWOwT5",
        "colab_type": "code",
        "outputId": "293bf859-6486-47c1-f9b9-8ee61fff7418",
        "colab": {
          "base_uri": "https://localhost:8080/",
          "height": 1000
        }
      },
      "source": [
        "## If changes are made to the repo, uninstall and\n",
        "## a fresh pip install are required, so it seems.\n",
        "#!pip uninstall segnet\n",
        "!pip install git+https://github.com/gmagannaDevelop/segnet.git@mru_tests\n",
        "##!pip install git+https://github.com/gmagannaDevelop/segnet.git@log_hotfix"
      ],
      "execution_count": 0,
      "outputs": [
        {
          "output_type": "stream",
          "text": [
            "Collecting git+https://github.com/gmagannaDevelop/segnet.git@mru_tests\n",
            "  Cloning https://github.com/gmagannaDevelop/segnet.git (to revision mru_tests) to /tmp/pip-req-build-o0o7secf\n",
            "  Running command git clone -q https://github.com/gmagannaDevelop/segnet.git /tmp/pip-req-build-o0o7secf\n",
            "  Running command git checkout -b mru_tests --track origin/mru_tests\n",
            "  Switched to a new branch 'mru_tests'\n",
            "  Branch 'mru_tests' set up to track remote branch 'mru_tests' from 'origin'.\n",
            "Requirement already satisfied: absl-py in /usr/local/lib/python3.6/dist-packages (from segnet==0.4) (0.9.0)\n",
            "Collecting appdirs\n",
            "  Downloading https://files.pythonhosted.org/packages/56/eb/810e700ed1349edde4cbdc1b2a21e28cdf115f9faf263f6bbf8447c1abf3/appdirs-1.4.3-py2.py3-none-any.whl\n",
            "Requirement already satisfied: astor in /usr/local/lib/python3.6/dist-packages (from segnet==0.4) (0.8.1)\n",
            "Collecting astroid\n",
            "\u001b[?25l  Downloading https://files.pythonhosted.org/packages/ad/ae/86734823047962e7b8c8529186a1ac4a7ca19aaf1aa0c7713c022ef593fd/astroid-2.3.3-py3-none-any.whl (205kB)\n",
            "\u001b[K     |████████████████████████████████| 215kB 11.9MB/s \n",
            "\u001b[?25hRequirement already satisfied: atomicwrites in /usr/local/lib/python3.6/dist-packages (from segnet==0.4) (1.3.0)\n",
            "Requirement already satisfied: attrs in /usr/local/lib/python3.6/dist-packages (from segnet==0.4) (19.3.0)\n",
            "Collecting black\n",
            "\u001b[?25l  Downloading https://files.pythonhosted.org/packages/fd/bb/ad34bbc93d1bea3de086d7c59e528d4a503ac8fe318bd1fa48605584c3d2/black-19.10b0-py36-none-any.whl (97kB)\n",
            "\u001b[K     |████████████████████████████████| 102kB 9.2MB/s \n",
            "\u001b[?25hRequirement already satisfied: click in /usr/local/lib/python3.6/dist-packages (from segnet==0.4) (7.0)\n",
            "Requirement already satisfied: cycler in /usr/local/lib/python3.6/dist-packages (from segnet==0.4) (0.10.0)\n",
            "Requirement already satisfied: decorator in /usr/local/lib/python3.6/dist-packages (from segnet==0.4) (4.4.1)\n",
            "Requirement already satisfied: gast in /usr/local/lib/python3.6/dist-packages (from segnet==0.4) (0.2.2)\n",
            "Requirement already satisfied: google-pasta in /usr/local/lib/python3.6/dist-packages (from segnet==0.4) (0.1.8)\n",
            "Requirement already satisfied: grpcio in /usr/local/lib/python3.6/dist-packages (from segnet==0.4) (1.15.0)\n",
            "Requirement already satisfied: h5py in /usr/local/lib/python3.6/dist-packages (from segnet==0.4) (2.8.0)\n",
            "Requirement already satisfied: imageio in /usr/local/lib/python3.6/dist-packages (from segnet==0.4) (2.4.1)\n",
            "Requirement already satisfied: importlib-metadata in /usr/local/lib/python3.6/dist-packages (from segnet==0.4) (1.3.0)\n",
            "Collecting isort\n",
            "\u001b[?25l  Downloading https://files.pythonhosted.org/packages/e5/b0/c121fd1fa3419ea9bfd55c7f9c4fedfec5143208d8c7ad3ce3db6c623c21/isort-4.3.21-py2.py3-none-any.whl (42kB)\n",
            "\u001b[K     |████████████████████████████████| 51kB 7.4MB/s \n",
            "\u001b[?25hRequirement already satisfied: joblib in /usr/local/lib/python3.6/dist-packages (from segnet==0.4) (0.14.1)\n",
            "Requirement already satisfied: kiwisolver in /usr/local/lib/python3.6/dist-packages (from segnet==0.4) (1.1.0)\n",
            "Collecting lazy-object-proxy\n",
            "\u001b[?25l  Downloading https://files.pythonhosted.org/packages/0b/dd/b1e3407e9e6913cf178e506cd0dee818e58694d9a5cd1984e3f6a8b9a10f/lazy_object_proxy-1.4.3-cp36-cp36m-manylinux1_x86_64.whl (55kB)\n",
            "\u001b[K     |████████████████████████████████| 61kB 6.9MB/s \n",
            "\u001b[?25hRequirement already satisfied: markdown in /usr/local/lib/python3.6/dist-packages (from segnet==0.4) (3.1.1)\n",
            "Requirement already satisfied: matplotlib in /usr/local/lib/python3.6/dist-packages (from segnet==0.4) (3.1.2)\n",
            "Collecting mccabe\n",
            "  Downloading https://files.pythonhosted.org/packages/87/89/479dc97e18549e21354893e4ee4ef36db1d237534982482c3681ee6e7b57/mccabe-0.6.1-py2.py3-none-any.whl\n",
            "Requirement already satisfied: more-itertools in /usr/local/lib/python3.6/dist-packages (from segnet==0.4) (8.0.2)\n",
            "Requirement already satisfied: networkx in /usr/local/lib/python3.6/dist-packages (from segnet==0.4) (2.4)\n",
            "Requirement already satisfied: numpy in /usr/local/lib/python3.6/dist-packages (from segnet==0.4) (1.17.5)\n",
            "Requirement already satisfied: opt-einsum in /usr/local/lib/python3.6/dist-packages (from segnet==0.4) (3.1.0)\n",
            "Requirement already satisfied: packaging in /usr/local/lib/python3.6/dist-packages (from segnet==0.4) (20.0)\n",
            "Requirement already satisfied: pandas in /usr/local/lib/python3.6/dist-packages (from segnet==0.4) (0.25.3)\n",
            "Requirement already satisfied: pillow in /usr/local/lib/python3.6/dist-packages (from segnet==0.4) (6.2.2)\n",
            "Requirement already satisfied: pluggy in /usr/local/lib/python3.6/dist-packages (from segnet==0.4) (0.7.1)\n",
            "Requirement already satisfied: protobuf in /usr/local/lib/python3.6/dist-packages (from segnet==0.4) (3.10.0)\n",
            "Requirement already satisfied: py in /usr/local/lib/python3.6/dist-packages (from segnet==0.4) (1.8.1)\n",
            "Collecting pylint\n",
            "\u001b[?25l  Downloading https://files.pythonhosted.org/packages/e9/59/43fc36c5ee316bb9aeb7cf5329cdbdca89e5749c34d5602753827c0aa2dc/pylint-2.4.4-py3-none-any.whl (302kB)\n",
            "\u001b[K     |████████████████████████████████| 307kB 18.1MB/s \n",
            "\u001b[?25hRequirement already satisfied: pyparsing in /usr/local/lib/python3.6/dist-packages (from segnet==0.4) (2.4.6)\n",
            "Requirement already satisfied: pytest in /usr/local/lib/python3.6/dist-packages (from segnet==0.4) (3.6.4)\n",
            "Requirement already satisfied: python-dateutil in /usr/local/lib/python3.6/dist-packages (from segnet==0.4) (2.6.1)\n",
            "Requirement already satisfied: pytz in /usr/local/lib/python3.6/dist-packages (from segnet==0.4) (2018.9)\n",
            "Requirement already satisfied: pywavelets in /usr/local/lib/python3.6/dist-packages (from segnet==0.4) (1.1.1)\n",
            "Requirement already satisfied: pyyaml in /usr/local/lib/python3.6/dist-packages (from segnet==0.4) (3.13)\n",
            "Requirement already satisfied: scikit-image in /usr/local/lib/python3.6/dist-packages (from segnet==0.4) (0.16.2)\n",
            "Requirement already satisfied: scikit-learn in /usr/local/lib/python3.6/dist-packages (from segnet==0.4) (0.22.1)\n",
            "Requirement already satisfied: scipy in /usr/local/lib/python3.6/dist-packages (from segnet==0.4) (1.4.1)\n",
            "Requirement already satisfied: seaborn in /usr/local/lib/python3.6/dist-packages (from segnet==0.4) (0.9.0)\n",
            "Requirement already satisfied: six in /usr/local/lib/python3.6/dist-packages (from segnet==0.4) (1.12.0)\n",
            "Requirement already satisfied: tensorflow in /usr/local/lib/python3.6/dist-packages (from segnet==0.4) (1.15.0)\n",
            "Requirement already satisfied: termcolor in /usr/local/lib/python3.6/dist-packages (from segnet==0.4) (1.1.0)\n",
            "Collecting toml\n",
            "  Downloading https://files.pythonhosted.org/packages/a2/12/ced7105d2de62fa7c8fb5fce92cc4ce66b57c95fb875e9318dba7f8c5db0/toml-0.10.0-py2.py3-none-any.whl\n",
            "Collecting typed-ast\n",
            "\u001b[?25l  Downloading https://files.pythonhosted.org/packages/31/d3/9d1802c161626d0278bafb1ffb32f76b9d01e123881bbf9d91e8ccf28e18/typed_ast-1.4.0-cp36-cp36m-manylinux1_x86_64.whl (736kB)\n",
            "\u001b[K     |████████████████████████████████| 737kB 25.3MB/s \n",
            "\u001b[?25hRequirement already satisfied: wcwidth in /usr/local/lib/python3.6/dist-packages (from segnet==0.4) (0.1.8)\n",
            "Requirement already satisfied: werkzeug in /usr/local/lib/python3.6/dist-packages (from segnet==0.4) (0.16.0)\n",
            "Requirement already satisfied: wrapt in /usr/local/lib/python3.6/dist-packages (from segnet==0.4) (1.11.2)\n",
            "Requirement already satisfied: zipp in /usr/local/lib/python3.6/dist-packages (from segnet==0.4) (0.6.0)\n",
            "Requirement already satisfied: regex in /usr/local/lib/python3.6/dist-packages (from black->segnet==0.4) (2019.12.20)\n",
            "Collecting pathspec<1,>=0.6\n",
            "  Downloading https://files.pythonhosted.org/packages/34/fa/c5cc4f796eb954b56fd1f6c7c315647b18b027e0736c9ae87b73bbb1f933/pathspec-0.7.0-py2.py3-none-any.whl\n",
            "Requirement already satisfied: setuptools in /usr/local/lib/python3.6/dist-packages (from kiwisolver->segnet==0.4) (42.0.2)\n",
            "Requirement already satisfied: wheel>=0.26 in /usr/local/lib/python3.6/dist-packages (from tensorflow->segnet==0.4) (0.33.6)\n",
            "Requirement already satisfied: tensorflow-estimator==1.15.1 in /usr/local/lib/python3.6/dist-packages (from tensorflow->segnet==0.4) (1.15.1)\n",
            "Requirement already satisfied: keras-applications>=1.0.8 in /usr/local/lib/python3.6/dist-packages (from tensorflow->segnet==0.4) (1.0.8)\n",
            "Requirement already satisfied: tensorboard<1.16.0,>=1.15.0 in /usr/local/lib/python3.6/dist-packages (from tensorflow->segnet==0.4) (1.15.0)\n",
            "Requirement already satisfied: keras-preprocessing>=1.0.5 in /usr/local/lib/python3.6/dist-packages (from tensorflow->segnet==0.4) (1.1.0)\n",
            "Building wheels for collected packages: segnet\n",
            "  Building wheel for segnet (setup.py) ... \u001b[?25l\u001b[?25hdone\n",
            "  Created wheel for segnet: filename=segnet-0.4-cp36-none-any.whl size=24435 sha256=81d2781975c017c52bde1bce9d9fcbee26819674c2e8c94cf9c29fa1d65c46fd\n",
            "  Stored in directory: /tmp/pip-ephem-wheel-cache-m6io7o2k/wheels/f1/c1/51/0ee27f445c3a618413714a84d4f5500547456389437a85a87f\n",
            "Successfully built segnet\n",
            "Installing collected packages: appdirs, lazy-object-proxy, typed-ast, astroid, toml, pathspec, black, isort, mccabe, pylint, segnet\n",
            "Successfully installed appdirs-1.4.3 astroid-2.3.3 black-19.10b0 isort-4.3.21 lazy-object-proxy-1.4.3 mccabe-0.6.1 pathspec-0.7.0 pylint-2.4.4 segnet-0.4 toml-0.10.0 typed-ast-1.4.0\n"
          ],
          "name": "stdout"
        }
      ]
    },
    {
      "cell_type": "markdown",
      "metadata": {
        "id": "qCRoHPcGgvEL",
        "colab_type": "text"
      },
      "source": [
        "Imports"
      ]
    },
    {
      "cell_type": "code",
      "metadata": {
        "id": "UxVrrV2VXLGA",
        "colab_type": "code",
        "outputId": "c24e30fd-cb49-4e40-dc6e-6f79dd123aff",
        "colab": {
          "base_uri": "https://localhost:8080/",
          "height": 208
        }
      },
      "source": [
        "### System-related\n",
        "import sys\n",
        "import os\n",
        "import datetime \n",
        "from typing import Optional\n",
        "#import importlib.util\n",
        "###############################################################\n",
        "\n",
        "### Machine learning specific\n",
        "#import segmentation_models as sm\n",
        "from keras.optimizers import SGD\n",
        "from keras.callbacks import ModelCheckpoint, ReduceLROnPlateau\n",
        "from sklearn.model_selection import train_test_split\n",
        "import keras.models\n",
        "###############################################################\n",
        "\n",
        "### In-Out\n",
        "from skimage import io\n",
        "import glob\n",
        "###############################################################\n",
        "\n",
        "### Visualization\n",
        "import seaborn as sns\n",
        "###############################################################\n",
        "\n",
        "### Numerical\n",
        "import numpy as np\n",
        "###############################################################\n",
        "\n",
        "### Repo-specific (segnet)\n",
        "from segnet.train import train_segnet\n",
        "from segnet.models import multiresunet as mru\n",
        "from segnet.models import multiresunet2 as mru2\n",
        "from segnet.models import multiresunet3 as mru3\n",
        "from segnet.utils import timing\n",
        "#from segnet.segnet.train.train_segnet import train_segnet\n",
        "#import segnet.segnet as segnet\n",
        "\n",
        "### Data-related\n",
        "from google.colab import drive, files\n",
        "drive.mount('/content/drive/')\n",
        "###############################################################\n",
        "\n",
        "\n",
        "### Not an import, but mandatory to be defined here :\n",
        "root_dir   = \"drive/My Drive/DCI-Net\"\n",
        "_log_file  = os.path.join(root_dir, \"time_logs.jsonl\")"
      ],
      "execution_count": 0,
      "outputs": [
        {
          "output_type": "stream",
          "text": [
            "Using TensorFlow backend.\n"
          ],
          "name": "stderr"
        },
        {
          "output_type": "display_data",
          "data": {
            "text/html": [
              "<p style=\"color: red;\">\n",
              "The default version of TensorFlow in Colab will soon switch to TensorFlow 2.x.<br>\n",
              "We recommend you <a href=\"https://www.tensorflow.org/guide/migrate\" target=\"_blank\">upgrade</a> now \n",
              "or ensure your notebook will continue to use TensorFlow 1.x via the <code>%tensorflow_version 1.x</code> magic:\n",
              "<a href=\"https://colab.research.google.com/notebooks/tensorflow_version.ipynb\" target=\"_blank\">more info</a>.</p>\n"
            ],
            "text/plain": [
              "<IPython.core.display.HTML object>"
            ]
          },
          "metadata": {
            "tags": []
          }
        },
        {
          "output_type": "stream",
          "text": [
            "Go to this URL in a browser: https://accounts.google.com/o/oauth2/auth?client_id=947318989803-6bn6qk8qdgf4n4g3pfee6491hc0brc4i.apps.googleusercontent.com&redirect_uri=urn%3aietf%3awg%3aoauth%3a2.0%3aoob&response_type=code&scope=email%20https%3a%2f%2fwww.googleapis.com%2fauth%2fdocs.test%20https%3a%2f%2fwww.googleapis.com%2fauth%2fdrive%20https%3a%2f%2fwww.googleapis.com%2fauth%2fdrive.photos.readonly%20https%3a%2f%2fwww.googleapis.com%2fauth%2fpeopleapi.readonly\n",
            "\n",
            "Enter your authorization code:\n",
            "··········\n",
            "Mounted at /content/drive/\n"
          ],
          "name": "stdout"
        }
      ]
    },
    {
      "cell_type": "markdown",
      "metadata": {
        "id": "pde_pTyigywK",
        "colab_type": "text"
      },
      "source": [
        "Function definition"
      ]
    },
    {
      "cell_type": "code",
      "metadata": {
        "id": "HnJpx7qYdlId",
        "colab_type": "code",
        "colab": {}
      },
      "source": [
        "def yield_model_name(\n",
        "    architecture: str = \"MultiResUNet\",\n",
        "    _name: Optional[str] = None,\n",
        "    date: Optional[str] = None\n",
        ") -> str:\n",
        "  \"\"\"\n",
        "    Yield a model name, to be passed to other functions.\n",
        "    Said model name consisting of an architecture name, \n",
        "    the (UTCtime)\n",
        "  \"\"\"\n",
        "  if date is None:\n",
        "    date = str(datetime.datetime.utcnow()).split(\".\")[0]\n",
        "  if _name is not None:\n",
        "    return f\"{architecture}-({_name})-({date}).h5\"\n",
        "\n",
        "  return f\"{architecture}-({date}).h5\"\n",
        "\n",
        "def yield_mask_directory(\n",
        "    architecture: str = \"MultiResUNet\",\n",
        "    date: Optional[str] = None\n",
        ") -> str:\n",
        "  \"\"\"\n",
        "    Yield a model name, to be passed to other functions.\n",
        "    Said model name consisting of an architecture name, \n",
        "    the (UTCtime)\n",
        "  \"\"\"\n",
        "  if date is None:\n",
        "    date = str(datetime.datetime.utcnow()).split(\".\")[0]\n",
        "    #date = str(datetime.datetime.utcnow()).split(\".\")[0].split(\" \")[0]\n",
        "  return f\"{architecture}-({date})\""
      ],
      "execution_count": 0,
      "outputs": []
    },
    {
      "cell_type": "code",
      "metadata": {
        "id": "IceMi8yGf4ru",
        "colab_type": "code",
        "outputId": "2d934adf-2a07-409f-9ab2-0d47d2f811d6",
        "colab": {
          "base_uri": "https://localhost:8080/",
          "height": 35
        }
      },
      "source": [
        "yield_model_name(_name='lol')"
      ],
      "execution_count": 0,
      "outputs": [
        {
          "output_type": "execute_result",
          "data": {
            "text/plain": [
              "'MultiResUNet-(lol)-(2020-01-12 01:30:45).h5'"
            ]
          },
          "metadata": {
            "tags": []
          },
          "execution_count": 12
        }
      ]
    },
    {
      "cell_type": "code",
      "metadata": {
        "id": "J0_DxhwXCyOd",
        "colab_type": "code",
        "outputId": "8b434f28-ffd7-4277-9c0c-13643f9cbebd",
        "colab": {
          "base_uri": "https://localhost:8080/",
          "height": 35
        }
      },
      "source": [
        "yield_mask_directory()"
      ],
      "execution_count": 0,
      "outputs": [
        {
          "output_type": "execute_result",
          "data": {
            "text/plain": [
              "'MultiResUNet-(2020-01-12 01:30:47)'"
            ]
          },
          "metadata": {
            "tags": []
          },
          "execution_count": 13
        }
      ]
    },
    {
      "cell_type": "code",
      "metadata": {
        "id": "2pRrtgcrDThX",
        "colab_type": "code",
        "outputId": "130f7f2c-3a7d-4c47-f414-404f359932de",
        "colab": {
          "base_uri": "https://localhost:8080/",
          "height": 35
        }
      },
      "source": [
        "!ls \"drive/My Drive/DCI-Net/Masks\""
      ],
      "execution_count": 0,
      "outputs": [
        {
          "output_type": "stream",
          "text": [
            "Sunday3nov\n"
          ],
          "name": "stdout"
        }
      ]
    },
    {
      "cell_type": "code",
      "metadata": {
        "id": "Ce2TEroWZ2WI",
        "colab_type": "code",
        "outputId": "054c0bc6-3003-4716-ac46-c8fd8534e8b9",
        "colab": {
          "base_uri": "https://localhost:8080/",
          "height": 35
        }
      },
      "source": [
        "!ls \"drive/My Drive/DCI-Net/Colab_data/Dataset 2\""
      ],
      "execution_count": 0,
      "outputs": [
        {
          "output_type": "stream",
          "text": [
            "imgs  msks\n"
          ],
          "name": "stdout"
        }
      ]
    },
    {
      "cell_type": "code",
      "metadata": {
        "id": "wJWjlxLkW9lz",
        "colab_type": "code",
        "colab": {}
      },
      "source": [
        "# Declare the paths to use (following the Keras convention)\n",
        "# https://www.tensorflow.org/versions/r2.0/api_docs/python/tf/keras/Model#fit_generator\n",
        "\n",
        "# Original datasets : COLONOSCOPY\n",
        "# masks_path = img_path = data_path  = \"drive/My Drive/DCI-Net/Colab_data/colonoscopy\"\n",
        "\n",
        "# Original datasets : DERMOSCOPY\n",
        " masks_path = img_path = data_path  = \"drive/My Drive/DCI-Net/Colab_data/dermoscopy80\"\n",
        "\n",
        "# Chinese dataset (Abdiel's) :\n",
        "#masks_path = img_path = data_path  = \"drive/My Drive/DCI-Net/Colab_data/Dataset 2\"\n",
        "\n",
        "_img_path   = os.path.join(data_path, 'imgs')\n",
        "_masks_path = os.path.join(data_path, 'msks')\n",
        "\n",
        "\n",
        "_model_snapshots_dir = os.path.join(root_dir, \"ModelSnapshots\")\n",
        "_model_log_path = os.path.join(\n",
        "    _model_snapshots_dir, \n",
        "    yield_model_name(architecture=\"MultiResUNet\")\n",
        ")\n"
      ],
      "execution_count": 0,
      "outputs": []
    },
    {
      "cell_type": "code",
      "metadata": {
        "id": "YzmBV-ZhUbLY",
        "colab_type": "code",
        "outputId": "7a74dba0-f340-457f-ce58-3ad74379b72d",
        "colab": {
          "base_uri": "https://localhost:8080/",
          "height": 70
        }
      },
      "source": [
        "_model_authors = list(\n",
        "    map(\n",
        "        lambda x: os.path.join(_model_snapshots_dir, yield_model_name(_name=x)), ['Edwin', 'Gustavo', 'Original'] \n",
        "        )\n",
        "    )\n",
        "_model_authors"
      ],
      "execution_count": 0,
      "outputs": [
        {
          "output_type": "execute_result",
          "data": {
            "text/plain": [
              "['drive/My Drive/DCI-Net/ModelSnapshots/MultiResUNet-(Edwin)-(2020-01-12 02:46:40).h5',\n",
              " 'drive/My Drive/DCI-Net/ModelSnapshots/MultiResUNet-(Gustavo)-(2020-01-12 02:46:40).h5',\n",
              " 'drive/My Drive/DCI-Net/ModelSnapshots/MultiResUNet-(Original)-(2020-01-12 02:46:40).h5']"
            ]
          },
          "metadata": {
            "tags": []
          },
          "execution_count": 36
        }
      ]
    },
    {
      "cell_type": "code",
      "metadata": {
        "id": "Q8PeDFX_EAGY",
        "colab_type": "code",
        "outputId": "9b8f1fe3-cbfa-4418-ac36-9f5fc0e0ea9e",
        "colab": {
          "base_uri": "https://localhost:8080/",
          "height": 124
        }
      },
      "source": [
        "print(f\"{data_path}\\n {masks_path}\\n {img_path}\\n {_img_path}\\n {_masks_path}\\n {_model_log_path}\")"
      ],
      "execution_count": 0,
      "outputs": [
        {
          "output_type": "stream",
          "text": [
            "drive/My Drive/DCI-Net/Colab_data/dermoscopy80\n",
            " drive/My Drive/DCI-Net/Colab_data/dermoscopy80\n",
            " drive/My Drive/DCI-Net/Colab_data/dermoscopy80\n",
            " drive/My Drive/DCI-Net/Colab_data/dermoscopy80/imgs\n",
            " drive/My Drive/DCI-Net/Colab_data/dermoscopy80/msks\n",
            " drive/My Drive/DCI-Net/ModelSnapshots/MultiResUNet-(2020-01-12 02:46:37).h5\n"
          ],
          "name": "stdout"
        }
      ]
    },
    {
      "cell_type": "markdown",
      "metadata": {
        "id": "Fgcp3Hl3n0uo",
        "colab_type": "text"
      },
      "source": [
        "Define hyperparameters\n"
      ]
    },
    {
      "cell_type": "code",
      "metadata": {
        "id": "O2qpzDaekgEl",
        "colab_type": "code",
        "colab": {}
      },
      "source": [
        "__comments = (lambda x: [\n",
        "              f\"Edwin's implementation : models/multiresunet.py, Dataset : {x}\",\n",
        "              f\"Gustavo's implementation : models/multiresunet2.py, Dataset : {x}\",\n",
        "              f\"Original implementation : models/multiresunet3.py, Dataset : {x}\", \n",
        "])(\"Dermoscopy 80 images\")\n",
        "\n",
        "hyper_params = dict(\n",
        "    batch_size = 4,\n",
        "    epochs = 40,\n",
        "    steps_per_epoch=5\n",
        "    #model_file = _model_log_path\n",
        ")\n",
        "\n",
        "# DEBUG COMMENT OUT WHEN TRAINING : \n",
        "_debug_hyper_params = dict(\n",
        "    batch_size = 8,\n",
        "    epochs = 1,\n",
        "    steps_per_epoch=2,\n",
        "    model_file = _model_log_path\n",
        ")"
      ],
      "execution_count": 0,
      "outputs": []
    },
    {
      "cell_type": "markdown",
      "metadata": {
        "id": "mtl5hSO9nAZ2",
        "colab_type": "text"
      },
      "source": [
        "Get the stored snapshots :"
      ]
    },
    {
      "cell_type": "code",
      "metadata": {
        "id": "pXvwmgVBkvPU",
        "colab_type": "code",
        "outputId": "cad82bb6-6f72-4b64-87e1-d574d3130e4f",
        "colab": {
          "base_uri": "https://localhost:8080/",
          "height": 230
        }
      },
      "source": [
        "snapshots = os.listdir(_model_snapshots_dir)\n",
        "snapshots"
      ],
      "execution_count": 0,
      "outputs": [
        {
          "output_type": "execute_result",
          "data": {
            "text/plain": [
              "['MultiResUNet-(2019-10-29 03:29:04).h5',\n",
              " 'MultiResUNet-(2019-11-04 01:48:44).h5',\n",
              " 'MultiResUNet-(2019-11-04 03:14:17).h5',\n",
              " 'MultiResUNet-(2019-11-04 03:30:53).h5',\n",
              " 'MultiResUNet-(2019-11-04 19:16:27).h5',\n",
              " 'MultiResUNet-(Edwin)-(2019-11-04 21:36:35).h5',\n",
              " 'MultiResUNet-(Gustavo)-(2019-11-04 21:36:35).h5',\n",
              " 'MultiResUNet-(Original)-(2019-11-04 21:36:35).h5',\n",
              " 'MultiResUNet-(Edwin)-(2020-01-11 23:55:36).h5',\n",
              " 'MultiResUNet-(Gustavo)-(2020-01-11 23:55:36).h5',\n",
              " 'MultiResUNet-(Original)-(2020-01-11 23:55:36).h5',\n",
              " 'MultiResUNet-(2020-01-11 23:41:29).h5']"
            ]
          },
          "metadata": {
            "tags": []
          },
          "execution_count": 49
        }
      ]
    },
    {
      "cell_type": "markdown",
      "metadata": {
        "id": "BF9uMSUWnM2y",
        "colab_type": "text"
      },
      "source": [
        "Choose a snapshot to load, if so desired :"
      ]
    },
    {
      "cell_type": "code",
      "metadata": {
        "id": "WSZcoEJClITg",
        "colab_type": "code",
        "outputId": "7009e0a6-571b-4ed5-a3b9-f4e0e659f71a",
        "colab": {
          "base_uri": "https://localhost:8080/",
          "height": 35
        }
      },
      "source": [
        "load_snapshot = os.path.join(_model_snapshots_dir, snapshots[0])\n",
        "load_snapshot"
      ],
      "execution_count": 0,
      "outputs": [
        {
          "output_type": "execute_result",
          "data": {
            "text/plain": [
              "'drive/My Drive/DCI-Net/ModelSnapshots/MultiResUNet-(2019-10-29 03:29:04).h5'"
            ]
          },
          "metadata": {
            "tags": []
          },
          "execution_count": 50
        }
      ]
    },
    {
      "cell_type": "markdown",
      "metadata": {
        "id": "0n3KvDkznZUl",
        "colab_type": "text"
      },
      "source": [
        "\n",
        "Instantiate a MultiResUNet model, **optionally** from a checkpoint :"
      ]
    },
    {
      "cell_type": "code",
      "metadata": {
        "id": "K0Ah1NY_NX2e",
        "colab_type": "code",
        "colab": {}
      },
      "source": [
        "models = [\n",
        "  mru.MultiResUnet(),\n",
        "  mru2.MultiResUNet(),\n",
        "  mru3.MultiResUnet()\n",
        "]\n",
        "    \n",
        "# TOGGLE THIS !\n",
        "from_checkpoint = False\n",
        "\n",
        "if from_checkpoint:\n",
        "  # model1.load_weights(load_snapshot)\n",
        "  # model2.load_weights(load_snapshot)\n",
        "  pass"
      ],
      "execution_count": 0,
      "outputs": []
    },
    {
      "cell_type": "code",
      "metadata": {
        "id": "IXCDT6uIS9wS",
        "colab_type": "code",
        "colab": {}
      },
      "source": [
        "trainer = lambda x, y, z: train_segnet.train_segnet(\n",
        "    x,\n",
        "    _img_path,\n",
        "    _masks_path,\n",
        "    **hyper_params,\n",
        "    model_file=y,\n",
        "    _comment=z\n",
        ")"
      ],
      "execution_count": 0,
      "outputs": []
    },
    {
      "cell_type": "code",
      "metadata": {
        "id": "SUEaUJ_SLmtG",
        "colab_type": "code",
        "colab": {}
      },
      "source": [
        "#os.listdir(os.path.join(_img_path, 'images''))"
      ],
      "execution_count": 0,
      "outputs": []
    },
    {
      "cell_type": "code",
      "metadata": {
        "id": "S3y38zkcbfyz",
        "colab_type": "code",
        "colab": {}
      },
      "source": [
        "#import PIL\n",
        "#from PIL import Image as pilim"
      ],
      "execution_count": 0,
      "outputs": []
    },
    {
      "cell_type": "code",
      "metadata": {
        "id": "9qBS0qXefcl6",
        "colab_type": "code",
        "colab": {}
      },
      "source": [
        "#PIL.__version__"
      ],
      "execution_count": 0,
      "outputs": []
    },
    {
      "cell_type": "code",
      "metadata": {
        "id": "yvwl9VnEbk1s",
        "colab_type": "code",
        "colab": {}
      },
      "source": [
        "#x = pilim.open(os.path.join(_img_path, 'images/527 (1).tif'))"
      ],
      "execution_count": 0,
      "outputs": []
    },
    {
      "cell_type": "code",
      "metadata": {
        "id": "kZWqBUseTLf2",
        "colab_type": "code",
        "outputId": "fbf6960f-6094-44fd-8843-fa05b934bd50",
        "colab": {
          "base_uri": "https://localhost:8080/",
          "height": 1000
        }
      },
      "source": [
        "historiae = list(map(trainer, models, _model_authors, __comments))"
      ],
      "execution_count": 0,
      "outputs": [
        {
          "output_type": "stream",
          "text": [
            "Found 64 images belonging to 1 classes.\n",
            "Found 64 images belonging to 1 classes.\n",
            "Found 16 images belonging to 1 classes.\n",
            "Found 16 images belonging to 1 classes.\n",
            "Epoch 1/40\n",
            "4/5 [=======================>......] - ETA: 5s - loss: 0.6781 - jaccard_index: 0.2818 - dice_coef: 0.4386 Epoch 1/40\n",
            "5/5 [==============================] - 14s 3s/step - loss: 0.5760 - jaccard_index: 0.1832 - dice_coef: 0.3092\n",
            "\n",
            "Epoch 00001: val_jaccard_index improved from -inf to 0.18324, saving model to drive/My Drive/DCI-Net/ModelSnapshots/MultiResUNet-(Edwin)-(2020-01-12 02:46:40).h5\n",
            "5/5 [==============================] - 154s 31s/step - loss: 0.6377 - jaccard_index: 0.3142 - dice_coef: 0.4739 - val_loss: 0.5760 - val_jaccard_index: 0.1832 - val_dice_coef: 0.3092\n",
            "Epoch 2/40\n",
            "4/5 [=======================>......] - ETA: 0s - loss: 0.4829 - jaccard_index: 0.3745 - dice_coef: 0.5420Epoch 1/40\n",
            "5/5 [==============================] - 0s 87ms/step - loss: 0.5767 - jaccard_index: 0.1935 - dice_coef: 0.3235\n",
            "\n",
            "Epoch 00002: val_jaccard_index improved from 0.18324 to 0.19349, saving model to drive/My Drive/DCI-Net/ModelSnapshots/MultiResUNet-(Edwin)-(2020-01-12 02:46:40).h5\n",
            "5/5 [==============================] - 3s 520ms/step - loss: 0.4683 - jaccard_index: 0.3849 - dice_coef: 0.5533 - val_loss: 0.5767 - val_jaccard_index: 0.1935 - val_dice_coef: 0.3235\n",
            "Epoch 3/40\n",
            "4/5 [=======================>......] - ETA: 0s - loss: 0.4989 - jaccard_index: 0.3658 - dice_coef: 0.5350Epoch 1/40\n",
            "5/5 [==============================] - 0s 91ms/step - loss: 0.5752 - jaccard_index: 0.1828 - dice_coef: 0.3075\n",
            "\n",
            "Epoch 00003: val_jaccard_index did not improve from 0.19349\n",
            "5/5 [==============================] - 1s 294ms/step - loss: 0.4863 - jaccard_index: 0.3807 - dice_coef: 0.5502 - val_loss: 0.5752 - val_jaccard_index: 0.1828 - val_dice_coef: 0.3075\n",
            "Epoch 4/40\n",
            "4/5 [=======================>......] - ETA: 0s - loss: 0.4403 - jaccard_index: 0.3711 - dice_coef: 0.5410Epoch 1/40\n",
            "5/5 [==============================] - 0s 86ms/step - loss: 0.5677 - jaccard_index: 0.1832 - dice_coef: 0.3095\n",
            "\n",
            "Epoch 00004: val_jaccard_index did not improve from 0.19349\n",
            "5/5 [==============================] - 1s 290ms/step - loss: 0.4431 - jaccard_index: 0.3798 - dice_coef: 0.5501 - val_loss: 0.5677 - val_jaccard_index: 0.1832 - val_dice_coef: 0.3095\n",
            "Epoch 5/40\n",
            "4/5 [=======================>......] - ETA: 0s - loss: 0.4422 - jaccard_index: 0.4202 - dice_coef: 0.5901Epoch 1/40\n",
            "5/5 [==============================] - 0s 85ms/step - loss: 0.5932 - jaccard_index: 0.1782 - dice_coef: 0.3006\n",
            "\n",
            "Epoch 00005: val_jaccard_index did not improve from 0.19349\n",
            "5/5 [==============================] - 1s 284ms/step - loss: 0.4564 - jaccard_index: 0.4172 - dice_coef: 0.5875 - val_loss: 0.5932 - val_jaccard_index: 0.1782 - val_dice_coef: 0.3006\n",
            "Epoch 6/40\n",
            "4/5 [=======================>......] - ETA: 0s - loss: 0.4071 - jaccard_index: 0.4476 - dice_coef: 0.6179Epoch 1/40\n",
            "5/5 [==============================] - 0s 97ms/step - loss: 0.5723 - jaccard_index: 0.1733 - dice_coef: 0.2953\n",
            "\n",
            "Epoch 00006: val_jaccard_index did not improve from 0.19349\n",
            "5/5 [==============================] - 2s 300ms/step - loss: 0.4180 - jaccard_index: 0.4299 - dice_coef: 0.6000 - val_loss: 0.5723 - val_jaccard_index: 0.1733 - val_dice_coef: 0.2953\n",
            "Epoch 7/40\n",
            "4/5 [=======================>......] - ETA: 0s - loss: 0.4642 - jaccard_index: 0.3481 - dice_coef: 0.5153Epoch 1/40\n",
            "5/5 [==============================] - 1s 101ms/step - loss: 0.5835 - jaccard_index: 0.1741 - dice_coef: 0.2948\n",
            "\n",
            "Epoch 00007: val_jaccard_index did not improve from 0.19349\n",
            "5/5 [==============================] - 2s 306ms/step - loss: 0.4485 - jaccard_index: 0.3736 - dice_coef: 0.5411 - val_loss: 0.5835 - val_jaccard_index: 0.1741 - val_dice_coef: 0.2948\n",
            "Epoch 8/40\n",
            "4/5 [=======================>......] - ETA: 0s - loss: 0.4124 - jaccard_index: 0.4275 - dice_coef: 0.5986Epoch 1/40\n",
            "5/5 [==============================] - 0s 86ms/step - loss: 0.5934 - jaccard_index: 0.1737 - dice_coef: 0.2948\n",
            "\n",
            "Epoch 00008: val_jaccard_index did not improve from 0.19349\n",
            "5/5 [==============================] - 1s 288ms/step - loss: 0.4102 - jaccard_index: 0.4201 - dice_coef: 0.5912 - val_loss: 0.5934 - val_jaccard_index: 0.1737 - val_dice_coef: 0.2948\n",
            "Epoch 9/40\n",
            "4/5 [=======================>......] - ETA: 0s - loss: 0.4403 - jaccard_index: 0.4213 - dice_coef: 0.5927Epoch 1/40\n",
            "5/5 [==============================] - 0s 96ms/step - loss: 0.6067 - jaccard_index: 0.1767 - dice_coef: 0.2997\n",
            "\n",
            "Epoch 00009: val_jaccard_index did not improve from 0.19349\n",
            "5/5 [==============================] - 2s 301ms/step - loss: 0.4356 - jaccard_index: 0.4285 - dice_coef: 0.5996 - val_loss: 0.6067 - val_jaccard_index: 0.1767 - val_dice_coef: 0.2997\n",
            "Epoch 10/40\n",
            "4/5 [=======================>......] - ETA: 0s - loss: 0.4201 - jaccard_index: 0.4117 - dice_coef: 0.5818Epoch 1/40\n",
            "5/5 [==============================] - 0s 90ms/step - loss: 0.6521 - jaccard_index: 0.0970 - dice_coef: 0.1765\n",
            "\n",
            "Epoch 00010: val_jaccard_index did not improve from 0.19349\n",
            "5/5 [==============================] - 1s 291ms/step - loss: 0.4190 - jaccard_index: 0.4219 - dice_coef: 0.5920 - val_loss: 0.6521 - val_jaccard_index: 0.0970 - val_dice_coef: 0.1765\n",
            "Epoch 11/40\n",
            "4/5 [=======================>......] - ETA: 0s - loss: 0.4087 - jaccard_index: 0.4351 - dice_coef: 0.6053Epoch 1/40\n",
            "5/5 [==============================] - 0s 86ms/step - loss: 0.9370 - jaccard_index: 0.0564 - dice_coef: 0.1067\n",
            "\n",
            "Epoch 00011: val_jaccard_index did not improve from 0.19349\n",
            "5/5 [==============================] - 1s 289ms/step - loss: 0.4182 - jaccard_index: 0.4287 - dice_coef: 0.5992 - val_loss: 0.9370 - val_jaccard_index: 0.0564 - val_dice_coef: 0.1067\n",
            "Epoch 12/40\n",
            "4/5 [=======================>......] - ETA: 0s - loss: 0.4145 - jaccard_index: 0.3867 - dice_coef: 0.5552Epoch 1/40\n",
            "5/5 [==============================] - 0s 89ms/step - loss: 0.6835 - jaccard_index: 0.1587 - dice_coef: 0.2732\n",
            "\n",
            "Epoch 00012: val_jaccard_index did not improve from 0.19349\n",
            "5/5 [==============================] - 1s 294ms/step - loss: 0.4199 - jaccard_index: 0.3976 - dice_coef: 0.5666 - val_loss: 0.6835 - val_jaccard_index: 0.1587 - val_dice_coef: 0.2732\n",
            "Epoch 13/40\n",
            "4/5 [=======================>......] - ETA: 0s - loss: 0.4147 - jaccard_index: 0.4282 - dice_coef: 0.5994Epoch 1/40\n",
            "5/5 [==============================] - 0s 88ms/step - loss: 0.7272 - jaccard_index: 0.1640 - dice_coef: 0.2790\n",
            "\n",
            "Epoch 00013: val_jaccard_index did not improve from 0.19349\n",
            "5/5 [==============================] - 1s 288ms/step - loss: 0.4110 - jaccard_index: 0.4236 - dice_coef: 0.5949 - val_loss: 0.7272 - val_jaccard_index: 0.1640 - val_dice_coef: 0.2790\n",
            "Epoch 14/40\n",
            "4/5 [=======================>......] - ETA: 0s - loss: 0.3882 - jaccard_index: 0.4530 - dice_coef: 0.6227Epoch 1/40\n",
            "5/5 [==============================] - 0s 90ms/step - loss: 0.6884 - jaccard_index: 0.1668 - dice_coef: 0.2853\n",
            "\n",
            "Epoch 00014: val_jaccard_index did not improve from 0.19349\n",
            "5/5 [==============================] - 1s 291ms/step - loss: 0.3919 - jaccard_index: 0.4388 - dice_coef: 0.6087 - val_loss: 0.6884 - val_jaccard_index: 0.1668 - val_dice_coef: 0.2853\n",
            "Epoch 15/40\n",
            "4/5 [=======================>......] - ETA: 0s - loss: 0.4166 - jaccard_index: 0.4112 - dice_coef: 0.5810Epoch 1/40\n",
            "5/5 [==============================] - 0s 90ms/step - loss: 0.6320 - jaccard_index: 0.1902 - dice_coef: 0.3189\n",
            "\n",
            "Epoch 00015: val_jaccard_index did not improve from 0.19349\n",
            "5/5 [==============================] - 1s 289ms/step - loss: 0.4182 - jaccard_index: 0.4077 - dice_coef: 0.5779 - val_loss: 0.6320 - val_jaccard_index: 0.1902 - val_dice_coef: 0.3189\n",
            "Epoch 16/40\n",
            "4/5 [=======================>......] - ETA: 0s - loss: 0.4275 - jaccard_index: 0.4245 - dice_coef: 0.5942Epoch 1/40\n",
            "5/5 [==============================] - 0s 87ms/step - loss: 0.5846 - jaccard_index: 0.1780 - dice_coef: 0.3021\n",
            "\n",
            "Epoch 00016: val_jaccard_index did not improve from 0.19349\n",
            "5/5 [==============================] - 1s 288ms/step - loss: 0.4175 - jaccard_index: 0.4327 - dice_coef: 0.6024 - val_loss: 0.5846 - val_jaccard_index: 0.1780 - val_dice_coef: 0.3021\n",
            "Epoch 17/40\n",
            "4/5 [=======================>......] - ETA: 0s - loss: 0.3965 - jaccard_index: 0.4395 - dice_coef: 0.6087Epoch 1/40\n",
            "5/5 [==============================] - 0s 93ms/step - loss: 0.5721 - jaccard_index: 0.1837 - dice_coef: 0.3100\n",
            "\n",
            "Epoch 00017: val_jaccard_index did not improve from 0.19349\n",
            "5/5 [==============================] - 1s 298ms/step - loss: 0.3988 - jaccard_index: 0.4345 - dice_coef: 0.6041 - val_loss: 0.5721 - val_jaccard_index: 0.1837 - val_dice_coef: 0.3100\n",
            "Epoch 18/40\n",
            "4/5 [=======================>......] - ETA: 0s - loss: 0.4064 - jaccard_index: 0.4342 - dice_coef: 0.6051Epoch 1/40\n",
            "5/5 [==============================] - 0s 87ms/step - loss: 0.5666 - jaccard_index: 0.1752 - dice_coef: 0.2970\n",
            "\n",
            "Epoch 00018: val_jaccard_index did not improve from 0.19349\n",
            "5/5 [==============================] - 1s 288ms/step - loss: 0.4024 - jaccard_index: 0.4336 - dice_coef: 0.6045 - val_loss: 0.5666 - val_jaccard_index: 0.1752 - val_dice_coef: 0.2970\n",
            "Epoch 19/40\n",
            "4/5 [=======================>......] - ETA: 0s - loss: 0.4066 - jaccard_index: 0.4156 - dice_coef: 0.5833Epoch 1/40\n",
            "5/5 [==============================] - 0s 90ms/step - loss: 0.5913 - jaccard_index: 0.1880 - dice_coef: 0.3158\n",
            "\n",
            "Epoch 00019: val_jaccard_index did not improve from 0.19349\n",
            "5/5 [==============================] - 1s 292ms/step - loss: 0.4069 - jaccard_index: 0.4128 - dice_coef: 0.5812 - val_loss: 0.5913 - val_jaccard_index: 0.1880 - val_dice_coef: 0.3158\n",
            "Epoch 20/40\n",
            "4/5 [=======================>......] - ETA: 0s - loss: 0.3863 - jaccard_index: 0.4423 - dice_coef: 0.6121Epoch 1/40\n",
            "5/5 [==============================] - 0s 83ms/step - loss: 0.5811 - jaccard_index: 0.1963 - dice_coef: 0.3275\n",
            "\n",
            "Epoch 00020: val_jaccard_index improved from 0.19349 to 0.19630, saving model to drive/My Drive/DCI-Net/ModelSnapshots/MultiResUNet-(Edwin)-(2020-01-12 02:46:40).h5\n",
            "5/5 [==============================] - 3s 646ms/step - loss: 0.3906 - jaccard_index: 0.4256 - dice_coef: 0.5953 - val_loss: 0.5811 - val_jaccard_index: 0.1963 - val_dice_coef: 0.3275\n",
            "Epoch 21/40\n",
            "4/5 [=======================>......] - ETA: 0s - loss: 0.3845 - jaccard_index: 0.4427 - dice_coef: 0.6131Epoch 1/40\n",
            "5/5 [==============================] - 0s 89ms/step - loss: 0.5602 - jaccard_index: 0.1548 - dice_coef: 0.2662\n",
            "\n",
            "Epoch 00021: val_jaccard_index did not improve from 0.19630\n",
            "5/5 [==============================] - 1s 292ms/step - loss: 0.3928 - jaccard_index: 0.4259 - dice_coef: 0.5961 - val_loss: 0.5602 - val_jaccard_index: 0.1548 - val_dice_coef: 0.2662\n",
            "Epoch 22/40\n",
            "4/5 [=======================>......] - ETA: 0s - loss: 0.3895 - jaccard_index: 0.4539 - dice_coef: 0.6239Epoch 1/40\n",
            "5/5 [==============================] - 0s 87ms/step - loss: 0.5785 - jaccard_index: 0.1936 - dice_coef: 0.3223\n",
            "\n",
            "Epoch 00022: val_jaccard_index did not improve from 0.19630\n",
            "5/5 [==============================] - 1s 289ms/step - loss: 0.3963 - jaccard_index: 0.4418 - dice_coef: 0.6120 - val_loss: 0.5785 - val_jaccard_index: 0.1936 - val_dice_coef: 0.3223\n",
            "Epoch 23/40\n",
            "4/5 [=======================>......] - ETA: 0s - loss: 0.4053 - jaccard_index: 0.4157 - dice_coef: 0.5858Epoch 1/40\n",
            "5/5 [==============================] - 0s 86ms/step - loss: 0.5563 - jaccard_index: 0.1706 - dice_coef: 0.2905\n",
            "\n",
            "Epoch 00023: val_jaccard_index did not improve from 0.19630\n",
            "5/5 [==============================] - 1s 287ms/step - loss: 0.3988 - jaccard_index: 0.4308 - dice_coef: 0.6004 - val_loss: 0.5563 - val_jaccard_index: 0.1706 - val_dice_coef: 0.2905\n",
            "Epoch 24/40\n",
            "4/5 [=======================>......] - ETA: 0s - loss: 0.3833 - jaccard_index: 0.4312 - dice_coef: 0.6018Epoch 1/40\n",
            "5/5 [==============================] - 0s 97ms/step - loss: 0.5654 - jaccard_index: 0.1848 - dice_coef: 0.3117\n",
            "\n",
            "Epoch 00024: val_jaccard_index did not improve from 0.19630\n",
            "5/5 [==============================] - 1s 297ms/step - loss: 0.3806 - jaccard_index: 0.4395 - dice_coef: 0.6099 - val_loss: 0.5654 - val_jaccard_index: 0.1848 - val_dice_coef: 0.3117\n",
            "Epoch 25/40\n",
            "4/5 [=======================>......] - ETA: 0s - loss: 0.3937 - jaccard_index: 0.4318 - dice_coef: 0.6029Epoch 1/40\n",
            "5/5 [==============================] - 0s 85ms/step - loss: 0.5610 - jaccard_index: 0.1843 - dice_coef: 0.3109\n",
            "\n",
            "Epoch 00025: val_jaccard_index did not improve from 0.19630\n",
            "5/5 [==============================] - 1s 283ms/step - loss: 0.3879 - jaccard_index: 0.4362 - dice_coef: 0.6071 - val_loss: 0.5610 - val_jaccard_index: 0.1843 - val_dice_coef: 0.3109\n",
            "Epoch 26/40\n",
            "4/5 [=======================>......] - ETA: 0s - loss: 0.3850 - jaccard_index: 0.4293 - dice_coef: 0.6000Epoch 1/40\n",
            "5/5 [==============================] - 0s 95ms/step - loss: 0.5250 - jaccard_index: 0.1431 - dice_coef: 0.2501\n",
            "\n",
            "Epoch 00026: val_jaccard_index did not improve from 0.19630\n",
            "5/5 [==============================] - 1s 298ms/step - loss: 0.3784 - jaccard_index: 0.4465 - dice_coef: 0.6160 - val_loss: 0.5250 - val_jaccard_index: 0.1431 - val_dice_coef: 0.2501\n",
            "Epoch 27/40\n",
            "4/5 [=======================>......] - ETA: 0s - loss: 0.3715 - jaccard_index: 0.4456 - dice_coef: 0.6161Epoch 1/40\n",
            "5/5 [==============================] - 0s 87ms/step - loss: 0.5309 - jaccard_index: 0.1400 - dice_coef: 0.2445\n",
            "\n",
            "Epoch 00027: val_jaccard_index did not improve from 0.19630\n",
            "5/5 [==============================] - 1s 296ms/step - loss: 0.3751 - jaccard_index: 0.4521 - dice_coef: 0.6224 - val_loss: 0.5309 - val_jaccard_index: 0.1400 - val_dice_coef: 0.2445\n",
            "Epoch 28/40\n",
            "4/5 [=======================>......] - ETA: 0s - loss: 0.4011 - jaccard_index: 0.4052 - dice_coef: 0.5755Epoch 1/40\n",
            "5/5 [==============================] - 0s 86ms/step - loss: 0.6088 - jaccard_index: 0.1846 - dice_coef: 0.3095\n",
            "\n",
            "Epoch 00028: val_jaccard_index did not improve from 0.19630\n",
            "5/5 [==============================] - 1s 286ms/step - loss: 0.4032 - jaccard_index: 0.4170 - dice_coef: 0.5871 - val_loss: 0.6088 - val_jaccard_index: 0.1846 - val_dice_coef: 0.3095\n",
            "Epoch 29/40\n",
            "4/5 [=======================>......] - ETA: 0s - loss: 0.3891 - jaccard_index: 0.4151 - dice_coef: 0.5837Epoch 1/40\n",
            "5/5 [==============================] - 0s 92ms/step - loss: 0.5505 - jaccard_index: 0.2736 - dice_coef: 0.4265\n",
            "\n",
            "Epoch 00029: val_jaccard_index improved from 0.19630 to 0.27356, saving model to drive/My Drive/DCI-Net/ModelSnapshots/MultiResUNet-(Edwin)-(2020-01-12 02:46:40).h5\n",
            "5/5 [==============================] - 3s 641ms/step - loss: 0.3930 - jaccard_index: 0.4089 - dice_coef: 0.5779 - val_loss: 0.5505 - val_jaccard_index: 0.2736 - val_dice_coef: 0.4265\n",
            "Epoch 30/40\n",
            "4/5 [=======================>......] - ETA: 0s - loss: 0.3703 - jaccard_index: 0.4455 - dice_coef: 0.6155Epoch 1/40\n",
            "5/5 [==============================] - 0s 83ms/step - loss: 0.6170 - jaccard_index: 0.2603 - dice_coef: 0.4091\n",
            "\n",
            "Epoch 00030: val_jaccard_index did not improve from 0.27356\n",
            "5/5 [==============================] - 1s 283ms/step - loss: 0.3714 - jaccard_index: 0.4524 - dice_coef: 0.6222 - val_loss: 0.6170 - val_jaccard_index: 0.2603 - val_dice_coef: 0.4091\n",
            "Epoch 31/40\n",
            "4/5 [=======================>......] - ETA: 0s - loss: 0.3871 - jaccard_index: 0.4163 - dice_coef: 0.5877Epoch 1/40\n",
            "5/5 [==============================] - 0s 89ms/step - loss: 0.5543 - jaccard_index: 0.2327 - dice_coef: 0.3760\n",
            "\n",
            "Epoch 00031: val_jaccard_index did not improve from 0.27356\n",
            "5/5 [==============================] - 1s 291ms/step - loss: 0.3782 - jaccard_index: 0.4308 - dice_coef: 0.6015 - val_loss: 0.5543 - val_jaccard_index: 0.2327 - val_dice_coef: 0.3760\n",
            "Epoch 32/40\n",
            "4/5 [=======================>......] - ETA: 0s - loss: 0.3788 - jaccard_index: 0.4659 - dice_coef: 0.6353Epoch 1/40\n",
            "5/5 [==============================] - 0s 93ms/step - loss: 0.5264 - jaccard_index: 0.2313 - dice_coef: 0.3745\n",
            "\n",
            "Epoch 00032: val_jaccard_index did not improve from 0.27356\n",
            "5/5 [==============================] - 1s 295ms/step - loss: 0.3912 - jaccard_index: 0.4365 - dice_coef: 0.6049 - val_loss: 0.5264 - val_jaccard_index: 0.2313 - val_dice_coef: 0.3745\n",
            "Epoch 33/40\n",
            "4/5 [=======================>......] - ETA: 0s - loss: 0.3828 - jaccard_index: 0.4202 - dice_coef: 0.5908Epoch 1/40\n",
            "5/5 [==============================] - 0s 88ms/step - loss: 0.5770 - jaccard_index: 0.1553 - dice_coef: 0.2672\n",
            "\n",
            "Epoch 00033: val_jaccard_index did not improve from 0.27356\n",
            "5/5 [==============================] - 1s 288ms/step - loss: 0.3807 - jaccard_index: 0.4297 - dice_coef: 0.6001 - val_loss: 0.5770 - val_jaccard_index: 0.1553 - val_dice_coef: 0.2672\n",
            "Epoch 34/40\n",
            "4/5 [=======================>......] - ETA: 0s - loss: 0.3763 - jaccard_index: 0.4320 - dice_coef: 0.6025Epoch 1/40\n",
            "5/5 [==============================] - 0s 84ms/step - loss: 0.5733 - jaccard_index: 0.1972 - dice_coef: 0.3268\n",
            "\n",
            "Epoch 00034: val_jaccard_index did not improve from 0.27356\n",
            "5/5 [==============================] - 1s 281ms/step - loss: 0.3765 - jaccard_index: 0.4328 - dice_coef: 0.6034 - val_loss: 0.5733 - val_jaccard_index: 0.1972 - val_dice_coef: 0.3268\n",
            "Epoch 35/40\n",
            "4/5 [=======================>......] - ETA: 0s - loss: 0.3785 - jaccard_index: 0.4465 - dice_coef: 0.6157Epoch 1/40\n",
            "5/5 [==============================] - 0s 88ms/step - loss: 0.5573 - jaccard_index: 0.2302 - dice_coef: 0.3728\n",
            "\n",
            "Epoch 00035: val_jaccard_index did not improve from 0.27356\n",
            "5/5 [==============================] - 1s 289ms/step - loss: 0.3818 - jaccard_index: 0.4535 - dice_coef: 0.6225 - val_loss: 0.5573 - val_jaccard_index: 0.2302 - val_dice_coef: 0.3728\n",
            "Epoch 36/40\n",
            "4/5 [=======================>......] - ETA: 0s - loss: 0.3694 - jaccard_index: 0.4534 - dice_coef: 0.6228Epoch 1/40\n",
            "5/5 [==============================] - 1s 109ms/step - loss: 0.4817 - jaccard_index: 0.2830 - dice_coef: 0.4396\n",
            "\n",
            "Epoch 00036: val_jaccard_index improved from 0.27356 to 0.28296, saving model to drive/My Drive/DCI-Net/ModelSnapshots/MultiResUNet-(Edwin)-(2020-01-12 02:46:40).h5\n",
            "5/5 [==============================] - 3s 610ms/step - loss: 0.3648 - jaccard_index: 0.4572 - dice_coef: 0.6266 - val_loss: 0.4817 - val_jaccard_index: 0.2830 - val_dice_coef: 0.4396\n",
            "Epoch 37/40\n",
            "4/5 [=======================>......] - ETA: 0s - loss: 0.3903 - jaccard_index: 0.4037 - dice_coef: 0.5749Epoch 1/40\n",
            "5/5 [==============================] - 0s 89ms/step - loss: 0.5138 - jaccard_index: 0.2255 - dice_coef: 0.3678\n",
            "\n",
            "Epoch 00037: val_jaccard_index did not improve from 0.28296\n",
            "5/5 [==============================] - 1s 291ms/step - loss: 0.3882 - jaccard_index: 0.4049 - dice_coef: 0.5762 - val_loss: 0.5138 - val_jaccard_index: 0.2255 - val_dice_coef: 0.3678\n",
            "Epoch 38/40\n",
            "4/5 [=======================>......] - ETA: 0s - loss: 0.3750 - jaccard_index: 0.4578 - dice_coef: 0.6278Epoch 1/40\n",
            "5/5 [==============================] - 0s 92ms/step - loss: 0.5341 - jaccard_index: 0.1551 - dice_coef: 0.2658\n",
            "\n",
            "Epoch 00038: val_jaccard_index did not improve from 0.28296\n",
            "5/5 [==============================] - 1s 296ms/step - loss: 0.3712 - jaccard_index: 0.4525 - dice_coef: 0.6227 - val_loss: 0.5341 - val_jaccard_index: 0.1551 - val_dice_coef: 0.2658\n",
            "Epoch 39/40\n",
            "4/5 [=======================>......] - ETA: 0s - loss: 0.3806 - jaccard_index: 0.4436 - dice_coef: 0.6140Epoch 1/40\n",
            "5/5 [==============================] - 0s 84ms/step - loss: 0.5403 - jaccard_index: 0.2130 - dice_coef: 0.3481\n",
            "\n",
            "Epoch 00039: val_jaccard_index did not improve from 0.28296\n",
            "5/5 [==============================] - 1s 287ms/step - loss: 0.3734 - jaccard_index: 0.4470 - dice_coef: 0.6174 - val_loss: 0.5403 - val_jaccard_index: 0.2130 - val_dice_coef: 0.3481\n",
            "Epoch 40/40\n",
            "4/5 [=======================>......] - ETA: 0s - loss: 0.3758 - jaccard_index: 0.4287 - dice_coef: 0.5995Epoch 1/40\n",
            "5/5 [==============================] - 0s 88ms/step - loss: 0.4932 - jaccard_index: 0.2135 - dice_coef: 0.3486\n",
            "\n",
            "Epoch 00040: val_jaccard_index did not improve from 0.28296\n",
            "5/5 [==============================] - 1s 288ms/step - loss: 0.3757 - jaccard_index: 0.4286 - dice_coef: 0.5996 - val_loss: 0.4932 - val_jaccard_index: 0.2135 - val_dice_coef: 0.3486\n",
            "Found 64 images belonging to 1 classes.\n",
            "Found 64 images belonging to 1 classes.\n",
            "Found 16 images belonging to 1 classes.\n",
            "Found 16 images belonging to 1 classes.\n",
            "Epoch 1/40\n",
            "4/5 [=======================>......] - ETA: 3s - loss: 0.6482 - jaccard_index: 0.3018 - dice_coef: 0.4621Epoch 1/40\n",
            "5/5 [==============================] - 4s 766ms/step - loss: 0.5084 - jaccard_index: 0.1392 - dice_coef: 0.2439\n",
            "\n",
            "Epoch 00001: val_jaccard_index improved from -inf to 0.13916, saving model to drive/My Drive/DCI-Net/ModelSnapshots/MultiResUNet-(Gustavo)-(2020-01-12 02:46:40).h5\n",
            "5/5 [==============================] - 137s 27s/step - loss: 0.6125 - jaccard_index: 0.3323 - dice_coef: 0.4946 - val_loss: 0.5084 - val_jaccard_index: 0.1392 - val_dice_coef: 0.2439\n",
            "Epoch 2/40\n",
            "4/5 [=======================>......] - ETA: 0s - loss: 0.4725 - jaccard_index: 0.3835 - dice_coef: 0.5513Epoch 1/40\n",
            "5/5 [==============================] - 0s 92ms/step - loss: 0.9348 - jaccard_index: 0.0506 - dice_coef: 0.0962\n",
            "\n",
            "Epoch 00002: val_jaccard_index did not improve from 0.13916\n",
            "5/5 [==============================] - 1s 285ms/step - loss: 0.4561 - jaccard_index: 0.3953 - dice_coef: 0.5637 - val_loss: 0.9348 - val_jaccard_index: 0.0506 - val_dice_coef: 0.0962\n",
            "Epoch 3/40\n",
            "4/5 [=======================>......] - ETA: 0s - loss: 0.4606 - jaccard_index: 0.3857 - dice_coef: 0.5561Epoch 1/40\n",
            "5/5 [==============================] - 0s 87ms/step - loss: 0.9976 - jaccard_index: 0.0434 - dice_coef: 0.0827\n",
            "\n",
            "Epoch 00003: val_jaccard_index did not improve from 0.13916\n",
            "5/5 [==============================] - 1s 271ms/step - loss: 0.4526 - jaccard_index: 0.3984 - dice_coef: 0.5688 - val_loss: 0.9976 - val_jaccard_index: 0.0434 - val_dice_coef: 0.0827\n",
            "Epoch 4/40\n",
            "4/5 [=======================>......] - ETA: 0s - loss: 0.4649 - jaccard_index: 0.3554 - dice_coef: 0.5239Epoch 1/40\n",
            "5/5 [==============================] - 0s 92ms/step - loss: 3.5560 - jaccard_index: 4.9360e-05 - dice_coef: 8.1443e-05\n",
            "\n",
            "Epoch 00004: val_jaccard_index did not improve from 0.13916\n",
            "5/5 [==============================] - 1s 278ms/step - loss: 0.4552 - jaccard_index: 0.3718 - dice_coef: 0.5408 - val_loss: 3.5560 - val_jaccard_index: 4.9360e-05 - val_dice_coef: 8.1443e-05\n",
            "Epoch 5/40\n",
            "4/5 [=======================>......] - ETA: 0s - loss: 0.4446 - jaccard_index: 0.4136 - dice_coef: 0.5830Epoch 1/40\n",
            "5/5 [==============================] - 0s 82ms/step - loss: 25.9411 - jaccard_index: 1.8189e-05 - dice_coef: 1.8189e-05\n",
            "\n",
            "Epoch 00005: val_jaccard_index did not improve from 0.13916\n",
            "5/5 [==============================] - 1s 268ms/step - loss: 0.4426 - jaccard_index: 0.4192 - dice_coef: 0.5889 - val_loss: 25.9411 - val_jaccard_index: 1.8189e-05 - val_dice_coef: 1.8189e-05\n",
            "Epoch 6/40\n",
            "4/5 [=======================>......] - ETA: 0s - loss: 0.3818 - jaccard_index: 0.4627 - dice_coef: 0.6321Epoch 1/40\n",
            "5/5 [==============================] - 1s 103ms/step - loss: 18.0849 - jaccard_index: 1.8595e-05 - dice_coef: 1.8595e-05\n",
            "\n",
            "Epoch 00006: val_jaccard_index did not improve from 0.13916\n",
            "5/5 [==============================] - 1s 286ms/step - loss: 0.3967 - jaccard_index: 0.4425 - dice_coef: 0.6119 - val_loss: 18.0849 - val_jaccard_index: 1.8595e-05 - val_dice_coef: 1.8595e-05\n",
            "Epoch 7/40\n",
            "4/5 [=======================>......] - ETA: 0s - loss: 0.4374 - jaccard_index: 0.3596 - dice_coef: 0.5280Epoch 1/40\n",
            "5/5 [==============================] - 0s 92ms/step - loss: 1.0044 - jaccard_index: 0.0461 - dice_coef: 0.0878\n",
            "\n",
            "Epoch 00007: val_jaccard_index did not improve from 0.13916\n",
            "5/5 [==============================] - 1s 281ms/step - loss: 0.4310 - jaccard_index: 0.3790 - dice_coef: 0.5478 - val_loss: 1.0044 - val_jaccard_index: 0.0461 - val_dice_coef: 0.0878\n",
            "Epoch 8/40\n",
            "4/5 [=======================>......] - ETA: 0s - loss: 0.3879 - jaccard_index: 0.4416 - dice_coef: 0.6125Epoch 1/40\n",
            "5/5 [==============================] - 0s 94ms/step - loss: 1.1784 - jaccard_index: 0.0206 - dice_coef: 0.0402\n",
            "\n",
            "Epoch 00008: val_jaccard_index did not improve from 0.13916\n",
            "5/5 [==============================] - 1s 283ms/step - loss: 0.3843 - jaccard_index: 0.4347 - dice_coef: 0.6057 - val_loss: 1.1784 - val_jaccard_index: 0.0206 - val_dice_coef: 0.0402\n",
            "Epoch 9/40\n",
            "4/5 [=======================>......] - ETA: 0s - loss: 0.3985 - jaccard_index: 0.4443 - dice_coef: 0.6152Epoch 1/40\n",
            "5/5 [==============================] - 1s 112ms/step - loss: 1.5883 - jaccard_index: 0.0032 - dice_coef: 0.0064\n",
            "\n",
            "Epoch 00009: val_jaccard_index did not improve from 0.13916\n",
            "5/5 [==============================] - 2s 301ms/step - loss: 0.3952 - jaccard_index: 0.4505 - dice_coef: 0.6210 - val_loss: 1.5883 - val_jaccard_index: 0.0032 - val_dice_coef: 0.0064\n",
            "Epoch 10/40\n",
            "4/5 [=======================>......] - ETA: 0s - loss: 0.3980 - jaccard_index: 0.4226 - dice_coef: 0.5928Epoch 1/40\n",
            "5/5 [==============================] - 0s 92ms/step - loss: 2.1381 - jaccard_index: 0.0044 - dice_coef: 0.0087\n",
            "\n",
            "Epoch 00010: val_jaccard_index did not improve from 0.13916\n",
            "5/5 [==============================] - 1s 280ms/step - loss: 0.3979 - jaccard_index: 0.4322 - dice_coef: 0.6023 - val_loss: 2.1381 - val_jaccard_index: 0.0044 - val_dice_coef: 0.0087\n",
            "Epoch 11/40\n",
            "4/5 [=======================>......] - ETA: 0s - loss: 0.3787 - jaccard_index: 0.4514 - dice_coef: 0.6207Epoch 1/40\n",
            "5/5 [==============================] - 0s 89ms/step - loss: 1.6180 - jaccard_index: 0.0050 - dice_coef: 0.0097\n",
            "\n",
            "Epoch 00011: val_jaccard_index did not improve from 0.13916\n",
            "5/5 [==============================] - 1s 274ms/step - loss: 0.3875 - jaccard_index: 0.4447 - dice_coef: 0.6145 - val_loss: 1.6180 - val_jaccard_index: 0.0050 - val_dice_coef: 0.0097\n",
            "Epoch 12/40\n",
            "4/5 [=======================>......] - ETA: 0s - loss: 0.3935 - jaccard_index: 0.3938 - dice_coef: 0.5626Epoch 1/40\n",
            "5/5 [==============================] - 1s 100ms/step - loss: 1.6217 - jaccard_index: 0.0144 - dice_coef: 0.0282\n",
            "\n",
            "Epoch 00012: val_jaccard_index did not improve from 0.13916\n",
            "5/5 [==============================] - 1s 290ms/step - loss: 0.3959 - jaccard_index: 0.4067 - dice_coef: 0.5758 - val_loss: 1.6217 - val_jaccard_index: 0.0144 - val_dice_coef: 0.0282\n",
            "Epoch 13/40\n",
            "4/5 [=======================>......] - ETA: 0s - loss: 0.3933 - jaccard_index: 0.4357 - dice_coef: 0.6067Epoch 1/40\n",
            "5/5 [==============================] - 0s 93ms/step - loss: 1.5150 - jaccard_index: 0.0414 - dice_coef: 0.0725\n",
            "\n",
            "Epoch 00013: val_jaccard_index did not improve from 0.13916\n",
            "5/5 [==============================] - 1s 281ms/step - loss: 0.3897 - jaccard_index: 0.4313 - dice_coef: 0.6025 - val_loss: 1.5150 - val_jaccard_index: 0.0414 - val_dice_coef: 0.0725\n",
            "Epoch 14/40\n",
            "4/5 [=======================>......] - ETA: 0s - loss: 0.3827 - jaccard_index: 0.4507 - dice_coef: 0.6198Epoch 1/40\n",
            "5/5 [==============================] - 0s 88ms/step - loss: 2.9774 - jaccard_index: 0.0223 - dice_coef: 0.0423\n",
            "\n",
            "Epoch 00014: val_jaccard_index did not improve from 0.13916\n",
            "5/5 [==============================] - 1s 271ms/step - loss: 0.3825 - jaccard_index: 0.4387 - dice_coef: 0.6082 - val_loss: 2.9774 - val_jaccard_index: 0.0223 - val_dice_coef: 0.0423\n",
            "Epoch 15/40\n",
            "4/5 [=======================>......] - ETA: 0s - loss: 0.3962 - jaccard_index: 0.4170 - dice_coef: 0.5865Epoch 1/40\n",
            "5/5 [==============================] - 0s 93ms/step - loss: 1.6343 - jaccard_index: 0.0046 - dice_coef: 0.0091\n",
            "\n",
            "Epoch 00015: val_jaccard_index did not improve from 0.13916\n",
            "5/5 [==============================] - 1s 275ms/step - loss: 0.3934 - jaccard_index: 0.4161 - dice_coef: 0.5860 - val_loss: 1.6343 - val_jaccard_index: 0.0046 - val_dice_coef: 0.0091\n",
            "Epoch 16/40\n",
            "4/5 [=======================>......] - ETA: 0s - loss: 0.3944 - jaccard_index: 0.4400 - dice_coef: 0.6097Epoch 1/40\n",
            "5/5 [==============================] - 0s 91ms/step - loss: 0.8745 - jaccard_index: 0.0437 - dice_coef: 0.0820\n",
            "\n",
            "Epoch 00016: val_jaccard_index did not improve from 0.13916\n",
            "5/5 [==============================] - 1s 275ms/step - loss: 0.3886 - jaccard_index: 0.4458 - dice_coef: 0.6155 - val_loss: 0.8745 - val_jaccard_index: 0.0437 - val_dice_coef: 0.0820\n",
            "Epoch 17/40\n",
            "4/5 [=======================>......] - ETA: 0s - loss: 0.3714 - jaccard_index: 0.4497 - dice_coef: 0.6190Epoch 1/40\n",
            "5/5 [==============================] - 0s 98ms/step - loss: 0.7068 - jaccard_index: 0.1871 - dice_coef: 0.3128\n",
            "\n",
            "Epoch 00017: val_jaccard_index improved from 0.13916 to 0.18713, saving model to drive/My Drive/DCI-Net/ModelSnapshots/MultiResUNet-(Gustavo)-(2020-01-12 02:46:40).h5\n",
            "5/5 [==============================] - 4s 772ms/step - loss: 0.3745 - jaccard_index: 0.4439 - dice_coef: 0.6137 - val_loss: 0.7068 - val_jaccard_index: 0.1871 - val_dice_coef: 0.3128\n",
            "Epoch 18/40\n",
            "4/5 [=======================>......] - ETA: 0s - loss: 0.3939 - jaccard_index: 0.4357 - dice_coef: 0.6068Epoch 1/40\n",
            "5/5 [==============================] - 0s 87ms/step - loss: 0.6135 - jaccard_index: 0.1871 - dice_coef: 0.2975\n",
            "\n",
            "Epoch 00018: val_jaccard_index did not improve from 0.18713\n",
            "5/5 [==============================] - 1s 271ms/step - loss: 0.3895 - jaccard_index: 0.4349 - dice_coef: 0.6061 - val_loss: 0.6135 - val_jaccard_index: 0.1871 - val_dice_coef: 0.2975\n",
            "Epoch 19/40\n",
            "4/5 [=======================>......] - ETA: 0s - loss: 0.3744 - jaccard_index: 0.4275 - dice_coef: 0.5957Epoch 1/40\n",
            "5/5 [==============================] - 0s 93ms/step - loss: 0.4270 - jaccard_index: 0.3155 - dice_coef: 0.4714\n",
            "\n",
            "Epoch 00019: val_jaccard_index improved from 0.18713 to 0.31549, saving model to drive/My Drive/DCI-Net/ModelSnapshots/MultiResUNet-(Gustavo)-(2020-01-12 02:46:40).h5\n",
            "5/5 [==============================] - 3s 554ms/step - loss: 0.3764 - jaccard_index: 0.4236 - dice_coef: 0.5924 - val_loss: 0.4270 - val_jaccard_index: 0.3155 - val_dice_coef: 0.4714\n",
            "Epoch 20/40\n",
            "4/5 [=======================>......] - ETA: 0s - loss: 0.3677 - jaccard_index: 0.4491 - dice_coef: 0.6186Epoch 1/40\n",
            "5/5 [==============================] - 0s 94ms/step - loss: 0.3489 - jaccard_index: 0.3569 - dice_coef: 0.5237\n",
            "\n",
            "Epoch 00020: val_jaccard_index improved from 0.31549 to 0.35685, saving model to drive/My Drive/DCI-Net/ModelSnapshots/MultiResUNet-(Gustavo)-(2020-01-12 02:46:40).h5\n",
            "5/5 [==============================] - 3s 545ms/step - loss: 0.3715 - jaccard_index: 0.4322 - dice_coef: 0.6017 - val_loss: 0.3489 - val_jaccard_index: 0.3569 - val_dice_coef: 0.5237\n",
            "Epoch 21/40\n",
            "4/5 [=======================>......] - ETA: 0s - loss: 0.3622 - jaccard_index: 0.4520 - dice_coef: 0.6219Epoch 1/40\n",
            "5/5 [==============================] - 0s 88ms/step - loss: 0.4007 - jaccard_index: 0.3836 - dice_coef: 0.5455\n",
            "\n",
            "Epoch 00021: val_jaccard_index improved from 0.35685 to 0.38359, saving model to drive/My Drive/DCI-Net/ModelSnapshots/MultiResUNet-(Gustavo)-(2020-01-12 02:46:40).h5\n",
            "5/5 [==============================] - 3s 571ms/step - loss: 0.3735 - jaccard_index: 0.4330 - dice_coef: 0.6027 - val_loss: 0.4007 - val_jaccard_index: 0.3836 - val_dice_coef: 0.5455\n",
            "Epoch 22/40\n",
            "4/5 [=======================>......] - ETA: 0s - loss: 0.3644 - jaccard_index: 0.4633 - dice_coef: 0.6329Epoch 1/40\n",
            "5/5 [==============================] - 0s 85ms/step - loss: 0.3630 - jaccard_index: 0.2911 - dice_coef: 0.4472\n",
            "\n",
            "Epoch 00022: val_jaccard_index did not improve from 0.38359\n",
            "5/5 [==============================] - 1s 270ms/step - loss: 0.3707 - jaccard_index: 0.4504 - dice_coef: 0.6204 - val_loss: 0.3630 - val_jaccard_index: 0.2911 - val_dice_coef: 0.4472\n",
            "Epoch 23/40\n",
            "4/5 [=======================>......] - ETA: 0s - loss: 0.3755 - jaccard_index: 0.4251 - dice_coef: 0.5953Epoch 1/40\n",
            "5/5 [==============================] - 0s 91ms/step - loss: 0.4598 - jaccard_index: 0.1729 - dice_coef: 0.2943\n",
            "\n",
            "Epoch 00023: val_jaccard_index did not improve from 0.38359\n",
            "5/5 [==============================] - 1s 280ms/step - loss: 0.3751 - jaccard_index: 0.4366 - dice_coef: 0.6064 - val_loss: 0.4598 - val_jaccard_index: 0.1729 - val_dice_coef: 0.2943\n",
            "Epoch 24/40\n",
            "4/5 [=======================>......] - ETA: 0s - loss: 0.3629 - jaccard_index: 0.4364 - dice_coef: 0.6070Epoch 1/40\n",
            "5/5 [==============================] - 0s 92ms/step - loss: 0.3913 - jaccard_index: 0.2412 - dice_coef: 0.3847\n",
            "\n",
            "Epoch 00024: val_jaccard_index did not improve from 0.38359\n",
            "5/5 [==============================] - 1s 280ms/step - loss: 0.3617 - jaccard_index: 0.4442 - dice_coef: 0.6145 - val_loss: 0.3913 - val_jaccard_index: 0.2412 - val_dice_coef: 0.3847\n",
            "Epoch 25/40\n",
            "4/5 [=======================>......] - ETA: 0s - loss: 0.3749 - jaccard_index: 0.4373 - dice_coef: 0.6082Epoch 1/40\n",
            "5/5 [==============================] - 0s 92ms/step - loss: 0.4284 - jaccard_index: 0.2207 - dice_coef: 0.3591\n",
            "\n",
            "Epoch 00025: val_jaccard_index did not improve from 0.38359\n",
            "5/5 [==============================] - 1s 274ms/step - loss: 0.3706 - jaccard_index: 0.4404 - dice_coef: 0.6112 - val_loss: 0.4284 - val_jaccard_index: 0.2207 - val_dice_coef: 0.3591\n",
            "Epoch 26/40\n",
            "4/5 [=======================>......] - ETA: 0s - loss: 0.3617 - jaccard_index: 0.4373 - dice_coef: 0.6077Epoch 1/40\n",
            "5/5 [==============================] - 0s 87ms/step - loss: 0.3902 - jaccard_index: 0.2528 - dice_coef: 0.3921\n",
            "\n",
            "Epoch 00026: val_jaccard_index did not improve from 0.38359\n",
            "5/5 [==============================] - 1s 271ms/step - loss: 0.3572 - jaccard_index: 0.4533 - dice_coef: 0.6225 - val_loss: 0.3902 - val_jaccard_index: 0.2528 - val_dice_coef: 0.3921\n",
            "Epoch 27/40\n",
            "4/5 [=======================>......] - ETA: 0s - loss: 0.3547 - jaccard_index: 0.4483 - dice_coef: 0.6189Epoch 1/40\n",
            "5/5 [==============================] - 0s 94ms/step - loss: 0.2784 - jaccard_index: 0.3583 - dice_coef: 0.5156\n",
            "\n",
            "Epoch 00027: val_jaccard_index did not improve from 0.38359\n",
            "5/5 [==============================] - 1s 281ms/step - loss: 0.3584 - jaccard_index: 0.4553 - dice_coef: 0.6254 - val_loss: 0.2784 - val_jaccard_index: 0.3583 - val_dice_coef: 0.5156\n",
            "Epoch 28/40\n",
            "4/5 [=======================>......] - ETA: 0s - loss: 0.3715 - jaccard_index: 0.4138 - dice_coef: 0.5848Epoch 1/40\n",
            "5/5 [==============================] - 0s 98ms/step - loss: 0.3371 - jaccard_index: 0.3377 - dice_coef: 0.4959\n",
            "\n",
            "Epoch 00028: val_jaccard_index did not improve from 0.38359\n",
            "5/5 [==============================] - 1s 285ms/step - loss: 0.3741 - jaccard_index: 0.4260 - dice_coef: 0.5967 - val_loss: 0.3371 - val_jaccard_index: 0.3377 - val_dice_coef: 0.4959\n",
            "Epoch 29/40\n",
            "4/5 [=======================>......] - ETA: 0s - loss: 0.3640 - jaccard_index: 0.4220 - dice_coef: 0.5911Epoch 1/40\n",
            "5/5 [==============================] - 1s 112ms/step - loss: 0.3236 - jaccard_index: 0.3275 - dice_coef: 0.4906\n",
            "\n",
            "Epoch 00029: val_jaccard_index did not improve from 0.38359\n",
            "5/5 [==============================] - 2s 300ms/step - loss: 0.3680 - jaccard_index: 0.4153 - dice_coef: 0.5849 - val_loss: 0.3236 - val_jaccard_index: 0.3275 - val_dice_coef: 0.4906\n",
            "Epoch 30/40\n",
            "4/5 [=======================>......] - ETA: 0s - loss: 0.3483 - jaccard_index: 0.4528 - dice_coef: 0.6225Epoch 1/40\n",
            "5/5 [==============================] - 0s 85ms/step - loss: 0.3053 - jaccard_index: 0.3380 - dice_coef: 0.5028\n",
            "\n",
            "Epoch 00030: val_jaccard_index did not improve from 0.38359\n",
            "5/5 [==============================] - 1s 271ms/step - loss: 0.3496 - jaccard_index: 0.4600 - dice_coef: 0.6293 - val_loss: 0.3053 - val_jaccard_index: 0.3380 - val_dice_coef: 0.5028\n",
            "Epoch 31/40\n",
            "4/5 [=======================>......] - ETA: 0s - loss: 0.3571 - jaccard_index: 0.4266 - dice_coef: 0.5980Epoch 1/40\n",
            "5/5 [==============================] - 0s 92ms/step - loss: 0.3237 - jaccard_index: 0.3696 - dice_coef: 0.5322\n",
            "\n",
            "Epoch 00031: val_jaccard_index did not improve from 0.38359\n",
            "5/5 [==============================] - 1s 279ms/step - loss: 0.3603 - jaccard_index: 0.4335 - dice_coef: 0.6046 - val_loss: 0.3237 - val_jaccard_index: 0.3696 - val_dice_coef: 0.5322\n",
            "Epoch 32/40\n",
            "4/5 [=======================>......] - ETA: 0s - loss: 0.3610 - jaccard_index: 0.4705 - dice_coef: 0.6398Epoch 1/40\n",
            "5/5 [==============================] - 0s 93ms/step - loss: 0.3635 - jaccard_index: 0.2961 - dice_coef: 0.4514\n",
            "\n",
            "Epoch 00032: val_jaccard_index did not improve from 0.38359\n",
            "5/5 [==============================] - 1s 282ms/step - loss: 0.3761 - jaccard_index: 0.4376 - dice_coef: 0.6056 - val_loss: 0.3635 - val_jaccard_index: 0.2961 - val_dice_coef: 0.4514\n",
            "Epoch 33/40\n",
            "4/5 [=======================>......] - ETA: 0s - loss: 0.3593 - jaccard_index: 0.4262 - dice_coef: 0.5965Epoch 1/40\n",
            "5/5 [==============================] - 0s 84ms/step - loss: 0.3771 - jaccard_index: 0.2850 - dice_coef: 0.4389\n",
            "\n",
            "Epoch 00033: val_jaccard_index did not improve from 0.38359\n",
            "5/5 [==============================] - 1s 269ms/step - loss: 0.3631 - jaccard_index: 0.4322 - dice_coef: 0.6025 - val_loss: 0.3771 - val_jaccard_index: 0.2850 - val_dice_coef: 0.4389\n",
            "Epoch 34/40\n",
            "4/5 [=======================>......] - ETA: 0s - loss: 0.3574 - jaccard_index: 0.4349 - dice_coef: 0.6055Epoch 1/40\n",
            "5/5 [==============================] - 0s 89ms/step - loss: 0.2973 - jaccard_index: 0.3710 - dice_coef: 0.5404\n",
            "\n",
            "Epoch 00034: val_jaccard_index did not improve from 0.38359\n",
            "5/5 [==============================] - 1s 273ms/step - loss: 0.3563 - jaccard_index: 0.4367 - dice_coef: 0.6074 - val_loss: 0.2973 - val_jaccard_index: 0.3710 - val_dice_coef: 0.5404\n",
            "Epoch 35/40\n",
            "4/5 [=======================>......] - ETA: 0s - loss: 0.3571 - jaccard_index: 0.4517 - dice_coef: 0.6212Epoch 1/40\n",
            "5/5 [==============================] - 0s 95ms/step - loss: 0.3210 - jaccard_index: 0.3617 - dice_coef: 0.5304\n",
            "\n",
            "Epoch 00035: val_jaccard_index did not improve from 0.38359\n",
            "5/5 [==============================] - 1s 281ms/step - loss: 0.3656 - jaccard_index: 0.4560 - dice_coef: 0.6254 - val_loss: 0.3210 - val_jaccard_index: 0.3617 - val_dice_coef: 0.5304\n",
            "Epoch 36/40\n",
            "4/5 [=======================>......] - ETA: 0s - loss: 0.3596 - jaccard_index: 0.4517 - dice_coef: 0.6212Epoch 1/40\n",
            "5/5 [==============================] - 0s 97ms/step - loss: 0.2853 - jaccard_index: 0.3986 - dice_coef: 0.5664\n",
            "\n",
            "Epoch 00036: val_jaccard_index improved from 0.38359 to 0.39862, saving model to drive/My Drive/DCI-Net/ModelSnapshots/MultiResUNet-(Gustavo)-(2020-01-12 02:46:40).h5\n",
            "5/5 [==============================] - 4s 733ms/step - loss: 0.3531 - jaccard_index: 0.4568 - dice_coef: 0.6262 - val_loss: 0.2853 - val_jaccard_index: 0.3986 - val_dice_coef: 0.5664\n",
            "Epoch 37/40\n",
            "4/5 [=======================>......] - ETA: 0s - loss: 0.3659 - jaccard_index: 0.4090 - dice_coef: 0.5802Epoch 1/40\n",
            "5/5 [==============================] - 0s 96ms/step - loss: 0.3043 - jaccard_index: 0.4015 - dice_coef: 0.5700\n",
            "\n",
            "Epoch 00037: val_jaccard_index improved from 0.39862 to 0.40145, saving model to drive/My Drive/DCI-Net/ModelSnapshots/MultiResUNet-(Gustavo)-(2020-01-12 02:46:40).h5\n",
            "5/5 [==============================] - 3s 559ms/step - loss: 0.3616 - jaccard_index: 0.4120 - dice_coef: 0.5832 - val_loss: 0.3043 - val_jaccard_index: 0.4015 - val_dice_coef: 0.5700\n",
            "Epoch 38/40\n",
            "4/5 [=======================>......] - ETA: 0s - loss: 0.3555 - jaccard_index: 0.4630 - dice_coef: 0.6327Epoch 1/40\n",
            "5/5 [==============================] - 0s 90ms/step - loss: 0.3448 - jaccard_index: 0.3300 - dice_coef: 0.4887\n",
            "\n",
            "Epoch 00038: val_jaccard_index did not improve from 0.40145\n",
            "5/5 [==============================] - 1s 273ms/step - loss: 0.3506 - jaccard_index: 0.4584 - dice_coef: 0.6284 - val_loss: 0.3448 - val_jaccard_index: 0.3300 - val_dice_coef: 0.4887\n",
            "Epoch 39/40\n",
            "4/5 [=======================>......] - ETA: 0s - loss: 0.3592 - jaccard_index: 0.4493 - dice_coef: 0.6196Epoch 1/40\n",
            "5/5 [==============================] - 0s 94ms/step - loss: 0.3720 - jaccard_index: 0.3767 - dice_coef: 0.5448\n",
            "\n",
            "Epoch 00039: val_jaccard_index did not improve from 0.40145\n",
            "5/5 [==============================] - 1s 277ms/step - loss: 0.3542 - jaccard_index: 0.4512 - dice_coef: 0.6215 - val_loss: 0.3720 - val_jaccard_index: 0.3767 - val_dice_coef: 0.5448\n",
            "Epoch 40/40\n",
            "4/5 [=======================>......] - ETA: 0s - loss: 0.3474 - jaccard_index: 0.4380 - dice_coef: 0.6087Epoch 1/40\n",
            "5/5 [==============================] - 0s 90ms/step - loss: 0.3411 - jaccard_index: 0.4083 - dice_coef: 0.5794\n",
            "\n",
            "Epoch 00040: val_jaccard_index improved from 0.40145 to 0.40830, saving model to drive/My Drive/DCI-Net/ModelSnapshots/MultiResUNet-(Gustavo)-(2020-01-12 02:46:40).h5\n",
            "5/5 [==============================] - 3s 555ms/step - loss: 0.3486 - jaccard_index: 0.4371 - dice_coef: 0.6079 - val_loss: 0.3411 - val_jaccard_index: 0.4083 - val_dice_coef: 0.5794\n",
            "Found 64 images belonging to 1 classes.\n",
            "Found 64 images belonging to 1 classes.\n",
            "Found 16 images belonging to 1 classes.\n",
            "Found 16 images belonging to 1 classes.\n",
            "Epoch 1/40\n",
            "4/5 [=======================>......] - ETA: 4s - loss: 0.6624 - jaccard_index: 0.2945 - dice_coef: 0.4530 Epoch 1/40\n",
            "5/5 [==============================] - 4s 865ms/step - loss: 0.7195 - jaccard_index: 0.1392 - dice_coef: 0.2441\n",
            "\n",
            "Epoch 00001: val_jaccard_index improved from -inf to 0.13924, saving model to drive/My Drive/DCI-Net/ModelSnapshots/MultiResUNet-(Original)-(2020-01-12 02:46:40).h5\n",
            "5/5 [==============================] - 178s 36s/step - loss: 0.6197 - jaccard_index: 0.3286 - dice_coef: 0.4893 - val_loss: 0.7195 - val_jaccard_index: 0.1392 - val_dice_coef: 0.2441\n",
            "Epoch 2/40\n",
            "4/5 [=======================>......] - ETA: 0s - loss: 0.4991 - jaccard_index: 0.3707 - dice_coef: 0.5388Epoch 1/40\n",
            "5/5 [==============================] - 0s 84ms/step - loss: 237.0316 - jaccard_index: 0.2434 - dice_coef: 0.3900\n",
            "\n",
            "Epoch 00002: val_jaccard_index improved from 0.13924 to 0.24344, saving model to drive/My Drive/DCI-Net/ModelSnapshots/MultiResUNet-(Original)-(2020-01-12 02:46:40).h5\n",
            "5/5 [==============================] - 3s 678ms/step - loss: 0.4820 - jaccard_index: 0.3816 - dice_coef: 0.5504 - val_loss: 237.0316 - val_jaccard_index: 0.2434 - val_dice_coef: 0.3900\n",
            "Epoch 3/40\n",
            "4/5 [=======================>......] - ETA: 0s - loss: 0.4990 - jaccard_index: 0.3583 - dice_coef: 0.5269Epoch 1/40\n",
            "5/5 [==============================] - 0s 92ms/step - loss: 1143.9599 - jaccard_index: 0.2231 - dice_coef: 0.3602\n",
            "\n",
            "Epoch 00003: val_jaccard_index did not improve from 0.24344\n",
            "5/5 [==============================] - 1s 294ms/step - loss: 0.4925 - jaccard_index: 0.3703 - dice_coef: 0.5394 - val_loss: 1143.9599 - val_jaccard_index: 0.2231 - val_dice_coef: 0.3602\n",
            "Epoch 4/40\n",
            "4/5 [=======================>......] - ETA: 0s - loss: 0.4555 - jaccard_index: 0.3580 - dice_coef: 0.5266Epoch 1/40\n",
            "5/5 [==============================] - 0s 90ms/step - loss: 222.5067 - jaccard_index: 0.2141 - dice_coef: 0.3524\n",
            "\n",
            "Epoch 00004: val_jaccard_index did not improve from 0.24344\n",
            "5/5 [==============================] - 1s 293ms/step - loss: 0.4517 - jaccard_index: 0.3712 - dice_coef: 0.5404 - val_loss: 222.5067 - val_jaccard_index: 0.2141 - val_dice_coef: 0.3524\n",
            "Epoch 5/40\n",
            "4/5 [=======================>......] - ETA: 0s - loss: 0.4499 - jaccard_index: 0.4139 - dice_coef: 0.5829Epoch 1/40\n",
            "5/5 [==============================] - 0s 81ms/step - loss: 48.3508 - jaccard_index: 0.2055 - dice_coef: 0.3384\n",
            "\n",
            "Epoch 00005: val_jaccard_index did not improve from 0.24344\n",
            "5/5 [==============================] - 1s 283ms/step - loss: 0.4453 - jaccard_index: 0.4198 - dice_coef: 0.5892 - val_loss: 48.3508 - val_jaccard_index: 0.2055 - val_dice_coef: 0.3384\n",
            "Epoch 6/40\n",
            "4/5 [=======================>......] - ETA: 0s - loss: 0.4100 - jaccard_index: 0.4425 - dice_coef: 0.6130Epoch 1/40\n",
            "5/5 [==============================] - 1s 115ms/step - loss: 13.9104 - jaccard_index: 0.2121 - dice_coef: 0.3462\n",
            "\n",
            "Epoch 00006: val_jaccard_index did not improve from 0.24344\n",
            "5/5 [==============================] - 2s 316ms/step - loss: 0.4284 - jaccard_index: 0.4202 - dice_coef: 0.5898 - val_loss: 13.9104 - val_jaccard_index: 0.2121 - val_dice_coef: 0.3462\n",
            "Epoch 7/40\n",
            "4/5 [=======================>......] - ETA: 0s - loss: 0.4742 - jaccard_index: 0.3369 - dice_coef: 0.5023Epoch 1/40\n",
            "5/5 [==============================] - 1s 101ms/step - loss: 8.8638 - jaccard_index: 0.2253 - dice_coef: 0.3667\n",
            "\n",
            "Epoch 00007: val_jaccard_index did not improve from 0.24344\n",
            "5/5 [==============================] - 2s 310ms/step - loss: 0.4587 - jaccard_index: 0.3617 - dice_coef: 0.5281 - val_loss: 8.8638 - val_jaccard_index: 0.2253 - val_dice_coef: 0.3667\n",
            "Epoch 8/40\n",
            "4/5 [=======================>......] - ETA: 0s - loss: 0.4143 - jaccard_index: 0.4210 - dice_coef: 0.5923Epoch 1/40\n",
            "5/5 [==============================] - 0s 95ms/step - loss: 39.8708 - jaccard_index: 0.2229 - dice_coef: 0.3605\n",
            "\n",
            "Epoch 00008: val_jaccard_index did not improve from 0.24344\n",
            "5/5 [==============================] - 1s 297ms/step - loss: 0.4107 - jaccard_index: 0.4140 - dice_coef: 0.5852 - val_loss: 39.8708 - val_jaccard_index: 0.2229 - val_dice_coef: 0.3605\n",
            "Epoch 9/40\n",
            "4/5 [=======================>......] - ETA: 0s - loss: 0.4333 - jaccard_index: 0.4194 - dice_coef: 0.5908Epoch 1/40\n",
            "5/5 [==============================] - 0s 98ms/step - loss: 24.8933 - jaccard_index: 0.2104 - dice_coef: 0.3465\n",
            "\n",
            "Epoch 00009: val_jaccard_index did not improve from 0.24344\n",
            "5/5 [==============================] - 2s 300ms/step - loss: 0.4337 - jaccard_index: 0.4228 - dice_coef: 0.5941 - val_loss: 24.8933 - val_jaccard_index: 0.2104 - val_dice_coef: 0.3465\n",
            "Epoch 10/40\n",
            "4/5 [=======================>......] - ETA: 0s - loss: 0.4461 - jaccard_index: 0.3818 - dice_coef: 0.5511Epoch 1/40\n",
            "5/5 [==============================] - 0s 90ms/step - loss: 202.8323 - jaccard_index: 0.2307 - dice_coef: 0.3727\n",
            "\n",
            "Epoch 00010: val_jaccard_index did not improve from 0.24344\n",
            "5/5 [==============================] - 1s 293ms/step - loss: 0.4420 - jaccard_index: 0.3949 - dice_coef: 0.5645 - val_loss: 202.8323 - val_jaccard_index: 0.2307 - val_dice_coef: 0.3727\n",
            "Epoch 11/40\n",
            "4/5 [=======================>......] - ETA: 0s - loss: 0.4104 - jaccard_index: 0.4222 - dice_coef: 0.5932Epoch 1/40\n",
            "5/5 [==============================] - 0s 85ms/step - loss: 294.5103 - jaccard_index: 0.1869 - dice_coef: 0.3113\n",
            "\n",
            "Epoch 00011: val_jaccard_index did not improve from 0.24344\n",
            "5/5 [==============================] - 1s 283ms/step - loss: 0.4147 - jaccard_index: 0.4189 - dice_coef: 0.5901 - val_loss: 294.5103 - val_jaccard_index: 0.1869 - val_dice_coef: 0.3113\n",
            "Epoch 12/40\n",
            "4/5 [=======================>......] - ETA: 0s - loss: 0.3984 - jaccard_index: 0.3844 - dice_coef: 0.5536Epoch 1/40\n",
            "5/5 [==============================] - 0s 90ms/step - loss: 179.6428 - jaccard_index: 0.2483 - dice_coef: 0.3962\n",
            "\n",
            "Epoch 00012: val_jaccard_index improved from 0.24344 to 0.24828, saving model to drive/My Drive/DCI-Net/ModelSnapshots/MultiResUNet-(Original)-(2020-01-12 02:46:40).h5\n",
            "5/5 [==============================] - 4s 877ms/step - loss: 0.4121 - jaccard_index: 0.3914 - dice_coef: 0.5610 - val_loss: 179.6428 - val_jaccard_index: 0.2483 - val_dice_coef: 0.3962\n",
            "Epoch 13/40\n",
            "4/5 [=======================>......] - ETA: 0s - loss: 0.4553 - jaccard_index: 0.3974 - dice_coef: 0.5683Epoch 1/40\n",
            "5/5 [==============================] - 0s 94ms/step - loss: 33.2429 - jaccard_index: 0.1979 - dice_coef: 0.3301\n",
            "\n",
            "Epoch 00013: val_jaccard_index did not improve from 0.24828\n",
            "5/5 [==============================] - 1s 298ms/step - loss: 0.4455 - jaccard_index: 0.3958 - dice_coef: 0.5668 - val_loss: 33.2429 - val_jaccard_index: 0.1979 - val_dice_coef: 0.3301\n",
            "Epoch 14/40\n",
            "4/5 [=======================>......] - ETA: 0s - loss: 0.4260 - jaccard_index: 0.4204 - dice_coef: 0.5903Epoch 1/40\n",
            "5/5 [==============================] - 0s 88ms/step - loss: 8.3705 - jaccard_index: 0.2392 - dice_coef: 0.3830\n",
            "\n",
            "Epoch 00014: val_jaccard_index did not improve from 0.24828\n",
            "5/5 [==============================] - 1s 293ms/step - loss: 0.4189 - jaccard_index: 0.4128 - dice_coef: 0.5829 - val_loss: 8.3705 - val_jaccard_index: 0.2392 - val_dice_coef: 0.3830\n",
            "Epoch 15/40\n",
            "4/5 [=======================>......] - ETA: 0s - loss: 0.4138 - jaccard_index: 0.4013 - dice_coef: 0.5703Epoch 1/40\n",
            "5/5 [==============================] - 0s 85ms/step - loss: 1.4529 - jaccard_index: 0.2744 - dice_coef: 0.4286\n",
            "\n",
            "Epoch 00015: val_jaccard_index improved from 0.24828 to 0.27437, saving model to drive/My Drive/DCI-Net/ModelSnapshots/MultiResUNet-(Original)-(2020-01-12 02:46:40).h5\n",
            "5/5 [==============================] - 3s 661ms/step - loss: 0.4096 - jaccard_index: 0.4002 - dice_coef: 0.5696 - val_loss: 1.4529 - val_jaccard_index: 0.2744 - val_dice_coef: 0.4286\n",
            "Epoch 16/40\n",
            "4/5 [=======================>......] - ETA: 0s - loss: 0.4132 - jaccard_index: 0.4208 - dice_coef: 0.5912Epoch 1/40\n",
            "5/5 [==============================] - 0s 90ms/step - loss: 0.9119 - jaccard_index: 0.2830 - dice_coef: 0.4384\n",
            "\n",
            "Epoch 00016: val_jaccard_index improved from 0.27437 to 0.28305, saving model to drive/My Drive/DCI-Net/ModelSnapshots/MultiResUNet-(Original)-(2020-01-12 02:46:40).h5\n",
            "5/5 [==============================] - 4s 704ms/step - loss: 0.4055 - jaccard_index: 0.4281 - dice_coef: 0.5985 - val_loss: 0.9119 - val_jaccard_index: 0.2830 - val_dice_coef: 0.4384\n",
            "Epoch 17/40\n",
            "4/5 [=======================>......] - ETA: 0s - loss: 0.3946 - jaccard_index: 0.4303 - dice_coef: 0.6000Epoch 1/40\n",
            "5/5 [==============================] - 0s 92ms/step - loss: 0.5426 - jaccard_index: 0.3074 - dice_coef: 0.4694\n",
            "\n",
            "Epoch 00017: val_jaccard_index improved from 0.28305 to 0.30743, saving model to drive/My Drive/DCI-Net/ModelSnapshots/MultiResUNet-(Original)-(2020-01-12 02:46:40).h5\n",
            "5/5 [==============================] - 3s 695ms/step - loss: 0.3986 - jaccard_index: 0.4244 - dice_coef: 0.5945 - val_loss: 0.5426 - val_jaccard_index: 0.3074 - val_dice_coef: 0.4694\n",
            "Epoch 18/40\n",
            "4/5 [=======================>......] - ETA: 0s - loss: 0.4141 - jaccard_index: 0.4200 - dice_coef: 0.5915Epoch 1/40\n",
            "5/5 [==============================] - 0s 90ms/step - loss: 1.0487 - jaccard_index: 0.2964 - dice_coef: 0.4532\n",
            "\n",
            "Epoch 00018: val_jaccard_index did not improve from 0.30743\n",
            "5/5 [==============================] - 1s 294ms/step - loss: 0.4051 - jaccard_index: 0.4223 - dice_coef: 0.5937 - val_loss: 1.0487 - val_jaccard_index: 0.2964 - val_dice_coef: 0.4532\n",
            "Epoch 19/40\n",
            "4/5 [=======================>......] - ETA: 0s - loss: 0.3860 - jaccard_index: 0.4147 - dice_coef: 0.5830Epoch 1/40\n",
            "5/5 [==============================] - 0s 97ms/step - loss: 1.2090 - jaccard_index: 0.2797 - dice_coef: 0.4365\n",
            "\n",
            "Epoch 00019: val_jaccard_index did not improve from 0.30743\n",
            "5/5 [==============================] - 2s 304ms/step - loss: 0.3879 - jaccard_index: 0.4110 - dice_coef: 0.5800 - val_loss: 1.2090 - val_jaccard_index: 0.2797 - val_dice_coef: 0.4365\n",
            "Epoch 20/40\n",
            "4/5 [=======================>......] - ETA: 0s - loss: 0.3737 - jaccard_index: 0.4392 - dice_coef: 0.6094Epoch 1/40\n",
            "5/5 [==============================] - 0s 87ms/step - loss: 1.0408 - jaccard_index: 0.2618 - dice_coef: 0.4079\n",
            "\n",
            "Epoch 00020: val_jaccard_index did not improve from 0.30743\n",
            "5/5 [==============================] - 1s 289ms/step - loss: 0.3752 - jaccard_index: 0.4243 - dice_coef: 0.5944 - val_loss: 1.0408 - val_jaccard_index: 0.2618 - val_dice_coef: 0.4079\n",
            "Epoch 21/40\n",
            "4/5 [=======================>......] - ETA: 0s - loss: 0.3643 - jaccard_index: 0.4455 - dice_coef: 0.6158Epoch 1/40\n",
            "5/5 [==============================] - 0s 79ms/step - loss: 0.5122 - jaccard_index: 0.3381 - dice_coef: 0.5005\n",
            "\n",
            "Epoch 00021: val_jaccard_index improved from 0.30743 to 0.33809, saving model to drive/My Drive/DCI-Net/ModelSnapshots/MultiResUNet-(Original)-(2020-01-12 02:46:40).h5\n",
            "5/5 [==============================] - 3s 671ms/step - loss: 0.3746 - jaccard_index: 0.4271 - dice_coef: 0.5971 - val_loss: 0.5122 - val_jaccard_index: 0.3381 - val_dice_coef: 0.5005\n",
            "Epoch 22/40\n",
            "4/5 [=======================>......] - ETA: 0s - loss: 0.3838 - jaccard_index: 0.4486 - dice_coef: 0.6187Epoch 1/40\n",
            "5/5 [==============================] - 0s 95ms/step - loss: 0.9688 - jaccard_index: 0.2647 - dice_coef: 0.4173\n",
            "\n",
            "Epoch 00022: val_jaccard_index did not improve from 0.33809\n",
            "5/5 [==============================] - 1s 296ms/step - loss: 0.3880 - jaccard_index: 0.4371 - dice_coef: 0.6074 - val_loss: 0.9688 - val_jaccard_index: 0.2647 - val_dice_coef: 0.4173\n",
            "Epoch 23/40\n",
            "4/5 [=======================>......] - ETA: 0s - loss: 0.4116 - jaccard_index: 0.3992 - dice_coef: 0.5682Epoch 1/40\n",
            "5/5 [==============================] - 0s 88ms/step - loss: 1.4727 - jaccard_index: 0.2431 - dice_coef: 0.3897\n",
            "\n",
            "Epoch 00023: val_jaccard_index did not improve from 0.33809\n",
            "5/5 [==============================] - 1s 292ms/step - loss: 0.4005 - jaccard_index: 0.4173 - dice_coef: 0.5860 - val_loss: 1.4727 - val_jaccard_index: 0.2431 - val_dice_coef: 0.3897\n",
            "Epoch 24/40\n",
            "4/5 [=======================>......] - ETA: 0s - loss: 0.3753 - jaccard_index: 0.4252 - dice_coef: 0.5961Epoch 1/40\n",
            "5/5 [==============================] - 0s 87ms/step - loss: 1.1120 - jaccard_index: 0.2586 - dice_coef: 0.4089\n",
            "\n",
            "Epoch 00024: val_jaccard_index did not improve from 0.33809\n",
            "5/5 [==============================] - 1s 287ms/step - loss: 0.3708 - jaccard_index: 0.4348 - dice_coef: 0.6053 - val_loss: 1.1120 - val_jaccard_index: 0.2586 - val_dice_coef: 0.4089\n",
            "Epoch 25/40\n",
            "4/5 [=======================>......] - ETA: 0s - loss: 0.3850 - jaccard_index: 0.4287 - dice_coef: 0.5998Epoch 1/40\n",
            "5/5 [==============================] - 0s 90ms/step - loss: 0.7222 - jaccard_index: 0.3197 - dice_coef: 0.4823\n",
            "\n",
            "Epoch 00025: val_jaccard_index did not improve from 0.33809\n",
            "5/5 [==============================] - 1s 289ms/step - loss: 0.3778 - jaccard_index: 0.4336 - dice_coef: 0.6046 - val_loss: 0.7222 - val_jaccard_index: 0.3197 - val_dice_coef: 0.4823\n",
            "Epoch 26/40\n",
            "4/5 [=======================>......] - ETA: 0s - loss: 0.3699 - jaccard_index: 0.4258 - dice_coef: 0.5966Epoch 1/40\n",
            "5/5 [==============================] - 0s 93ms/step - loss: 0.6099 - jaccard_index: 0.2961 - dice_coef: 0.4512\n",
            "\n",
            "Epoch 00026: val_jaccard_index did not improve from 0.33809\n",
            "5/5 [==============================] - 1s 292ms/step - loss: 0.3662 - jaccard_index: 0.4417 - dice_coef: 0.6115 - val_loss: 0.6099 - val_jaccard_index: 0.2961 - val_dice_coef: 0.4512\n",
            "Epoch 27/40\n",
            "4/5 [=======================>......] - ETA: 0s - loss: 0.3511 - jaccard_index: 0.4460 - dice_coef: 0.6166Epoch 1/40\n",
            "5/5 [==============================] - 1s 109ms/step - loss: 0.5081 - jaccard_index: 0.2896 - dice_coef: 0.4405\n",
            "\n",
            "Epoch 00027: val_jaccard_index did not improve from 0.33809\n",
            "5/5 [==============================] - 2s 316ms/step - loss: 0.3591 - jaccard_index: 0.4504 - dice_coef: 0.6208 - val_loss: 0.5081 - val_jaccard_index: 0.2896 - val_dice_coef: 0.4405\n",
            "Epoch 28/40\n",
            "4/5 [=======================>......] - ETA: 0s - loss: 0.4058 - jaccard_index: 0.3897 - dice_coef: 0.5595Epoch 1/40\n",
            "5/5 [==============================] - 0s 96ms/step - loss: 1.0603 - jaccard_index: 0.2553 - dice_coef: 0.4019\n",
            "\n",
            "Epoch 00028: val_jaccard_index did not improve from 0.33809\n",
            "5/5 [==============================] - 2s 305ms/step - loss: 0.4059 - jaccard_index: 0.4036 - dice_coef: 0.5734 - val_loss: 1.0603 - val_jaccard_index: 0.2553 - val_dice_coef: 0.4019\n",
            "Epoch 29/40\n",
            "4/5 [=======================>......] - ETA: 0s - loss: 0.3747 - jaccard_index: 0.4119 - dice_coef: 0.5802Epoch 1/40\n",
            "5/5 [==============================] - 0s 92ms/step - loss: 1.2852 - jaccard_index: 0.2445 - dice_coef: 0.3918\n",
            "\n",
            "Epoch 00029: val_jaccard_index did not improve from 0.33809\n",
            "5/5 [==============================] - 1s 295ms/step - loss: 0.3763 - jaccard_index: 0.4066 - dice_coef: 0.5754 - val_loss: 1.2852 - val_jaccard_index: 0.2445 - val_dice_coef: 0.3918\n",
            "Epoch 30/40\n",
            "4/5 [=======================>......] - ETA: 0s - loss: 0.3551 - jaccard_index: 0.4427 - dice_coef: 0.6128Epoch 1/40\n",
            "5/5 [==============================] - 0s 83ms/step - loss: 1.2381 - jaccard_index: 0.2367 - dice_coef: 0.3798\n",
            "\n",
            "Epoch 00030: val_jaccard_index did not improve from 0.33809\n",
            "5/5 [==============================] - 1s 285ms/step - loss: 0.3572 - jaccard_index: 0.4494 - dice_coef: 0.6193 - val_loss: 1.2381 - val_jaccard_index: 0.2367 - val_dice_coef: 0.3798\n",
            "Epoch 31/40\n",
            "4/5 [=======================>......] - ETA: 0s - loss: 0.3672 - jaccard_index: 0.4159 - dice_coef: 0.5872Epoch 1/40\n",
            "5/5 [==============================] - 0s 86ms/step - loss: 1.2017 - jaccard_index: 0.2696 - dice_coef: 0.4199\n",
            "\n",
            "Epoch 00031: val_jaccard_index did not improve from 0.33809\n",
            "5/5 [==============================] - 1s 292ms/step - loss: 0.3713 - jaccard_index: 0.4219 - dice_coef: 0.5932 - val_loss: 1.2017 - val_jaccard_index: 0.2696 - val_dice_coef: 0.4199\n",
            "Epoch 32/40\n",
            "4/5 [=======================>......] - ETA: 0s - loss: 0.3807 - jaccard_index: 0.4524 - dice_coef: 0.6226Epoch 1/40\n",
            "5/5 [==============================] - 0s 94ms/step - loss: 0.9935 - jaccard_index: 0.2471 - dice_coef: 0.3949\n",
            "\n",
            "Epoch 00032: val_jaccard_index did not improve from 0.33809\n",
            "5/5 [==============================] - 1s 297ms/step - loss: 0.3859 - jaccard_index: 0.4258 - dice_coef: 0.5950 - val_loss: 0.9935 - val_jaccard_index: 0.2471 - val_dice_coef: 0.3949\n",
            "Epoch 33/40\n",
            "4/5 [=======================>......] - ETA: 0s - loss: 0.3637 - jaccard_index: 0.4183 - dice_coef: 0.5894Epoch 1/40\n",
            "5/5 [==============================] - 0s 84ms/step - loss: 0.6122 - jaccard_index: 0.2679 - dice_coef: 0.4202\n",
            "\n",
            "Epoch 00033: val_jaccard_index did not improve from 0.33809\n",
            "5/5 [==============================] - 1s 286ms/step - loss: 0.3612 - jaccard_index: 0.4287 - dice_coef: 0.5994 - val_loss: 0.6122 - val_jaccard_index: 0.2679 - val_dice_coef: 0.4202\n",
            "Epoch 34/40\n",
            "4/5 [=======================>......] - ETA: 0s - loss: 0.3751 - jaccard_index: 0.4184 - dice_coef: 0.5893Epoch 1/40\n",
            "5/5 [==============================] - 0s 89ms/step - loss: 0.5813 - jaccard_index: 0.2722 - dice_coef: 0.4269\n",
            "\n",
            "Epoch 00034: val_jaccard_index did not improve from 0.33809\n",
            "5/5 [==============================] - 1s 288ms/step - loss: 0.3707 - jaccard_index: 0.4222 - dice_coef: 0.5931 - val_loss: 0.5813 - val_jaccard_index: 0.2722 - val_dice_coef: 0.4269\n",
            "Epoch 35/40\n",
            "4/5 [=======================>......] - ETA: 0s - loss: 0.3672 - jaccard_index: 0.4404 - dice_coef: 0.6106Epoch 1/40\n",
            "5/5 [==============================] - 0s 89ms/step - loss: 0.8337 - jaccard_index: 0.2529 - dice_coef: 0.4030\n",
            "\n",
            "Epoch 00035: val_jaccard_index did not improve from 0.33809\n",
            "5/5 [==============================] - 1s 293ms/step - loss: 0.3748 - jaccard_index: 0.4451 - dice_coef: 0.6153 - val_loss: 0.8337 - val_jaccard_index: 0.2529 - val_dice_coef: 0.4030\n",
            "Epoch 36/40\n",
            "4/5 [=======================>......] - ETA: 0s - loss: 0.3567 - jaccard_index: 0.4485 - dice_coef: 0.6185Epoch 1/40\n",
            "5/5 [==============================] - 0s 93ms/step - loss: 0.7106 - jaccard_index: 0.2801 - dice_coef: 0.4350\n",
            "\n",
            "Epoch 00036: val_jaccard_index did not improve from 0.33809\n",
            "5/5 [==============================] - 1s 297ms/step - loss: 0.3515 - jaccard_index: 0.4527 - dice_coef: 0.6226 - val_loss: 0.7106 - val_jaccard_index: 0.2801 - val_dice_coef: 0.4350\n",
            "Epoch 37/40\n",
            "4/5 [=======================>......] - ETA: 0s - loss: 0.3894 - jaccard_index: 0.3893 - dice_coef: 0.5600Epoch 1/40\n",
            "5/5 [==============================] - 0s 83ms/step - loss: 0.6966 - jaccard_index: 0.2995 - dice_coef: 0.4561\n",
            "\n",
            "Epoch 00037: val_jaccard_index did not improve from 0.33809\n",
            "5/5 [==============================] - 1s 283ms/step - loss: 0.3829 - jaccard_index: 0.3934 - dice_coef: 0.5643 - val_loss: 0.6966 - val_jaccard_index: 0.2995 - val_dice_coef: 0.4561\n",
            "Epoch 38/40\n",
            "4/5 [=======================>......] - ETA: 0s - loss: 0.3692 - jaccard_index: 0.4505 - dice_coef: 0.6209Epoch 1/40\n",
            "5/5 [==============================] - 0s 87ms/step - loss: 0.6491 - jaccard_index: 0.2733 - dice_coef: 0.4191\n",
            "\n",
            "Epoch 00038: val_jaccard_index did not improve from 0.33809\n",
            "5/5 [==============================] - 1s 289ms/step - loss: 0.3620 - jaccard_index: 0.4473 - dice_coef: 0.6179 - val_loss: 0.6491 - val_jaccard_index: 0.2733 - val_dice_coef: 0.4191\n",
            "Epoch 39/40\n",
            "4/5 [=======================>......] - ETA: 0s - loss: 0.3765 - jaccard_index: 0.4345 - dice_coef: 0.6053Epoch 1/40\n",
            "5/5 [==============================] - 0s 91ms/step - loss: 0.5308 - jaccard_index: 0.2973 - dice_coef: 0.4563\n",
            "\n",
            "Epoch 00039: val_jaccard_index did not improve from 0.33809\n",
            "5/5 [==============================] - 1s 295ms/step - loss: 0.3675 - jaccard_index: 0.4387 - dice_coef: 0.6094 - val_loss: 0.5308 - val_jaccard_index: 0.2973 - val_dice_coef: 0.4563\n",
            "Epoch 40/40\n",
            "4/5 [=======================>......] - ETA: 0s - loss: 0.3610 - jaccard_index: 0.4218 - dice_coef: 0.5930Epoch 1/40\n",
            "5/5 [==============================] - 0s 92ms/step - loss: 0.4648 - jaccard_index: 0.3016 - dice_coef: 0.4623\n",
            "\n",
            "Epoch 00040: val_jaccard_index did not improve from 0.33809\n",
            "5/5 [==============================] - 1s 295ms/step - loss: 0.3580 - jaccard_index: 0.4238 - dice_coef: 0.5950 - val_loss: 0.4648 - val_jaccard_index: 0.3016 - val_dice_coef: 0.4623\n"
          ],
          "name": "stdout"
        }
      ]
    },
    {
      "cell_type": "markdown",
      "metadata": {
        "id": "F9vVsIdYnqA-",
        "colab_type": "text"
      },
      "source": [
        "Train the model :"
      ]
    },
    {
      "cell_type": "code",
      "metadata": {
        "id": "xaMlOM9rZQ1L",
        "colab_type": "code",
        "outputId": "43278869-91bc-4086-b72d-4a3dc064bfb6",
        "colab": {
          "base_uri": "https://localhost:8080/",
          "height": 55
        }
      },
      "source": [
        "\"\"\"\n",
        "history = train_segnet.train_segnet(\n",
        "    models[2],\n",
        "    _img_path,\n",
        "    _masks_path,\n",
        "    **hyper_params,\n",
        "    _comment=__comments[2]\n",
        ")\n",
        "\"\"\"\n"
      ],
      "execution_count": 0,
      "outputs": [
        {
          "output_type": "execute_result",
          "data": {
            "text/plain": [
              "'\\nhistory = train_segnet.train_segnet(\\n    models[2],\\n    _img_path,\\n    _masks_path,\\n    **hyper_params,\\n    _comment=__comments[2]\\n)\\n'"
            ]
          },
          "metadata": {
            "tags": []
          },
          "execution_count": 58
        }
      ]
    },
    {
      "cell_type": "code",
      "metadata": {
        "id": "-XQs6gwumXMO",
        "colab_type": "code",
        "outputId": "4801573f-5788-4cde-9692-58f08f622bbe",
        "colab": {
          "base_uri": "https://localhost:8080/",
          "height": 35
        }
      },
      "source": [
        "print(_masks_path)"
      ],
      "execution_count": 0,
      "outputs": [
        {
          "output_type": "stream",
          "text": [
            "drive/My Drive/DCI-Net/Colab_data/dermoscopy80/msks\n"
          ],
          "name": "stdout"
        }
      ]
    },
    {
      "cell_type": "code",
      "metadata": {
        "id": "4hIiRaBcRwlE",
        "colab_type": "code",
        "outputId": "7dcfe41c-4d3d-47a4-fdcf-0c2eb63efa86",
        "colab": {
          "base_uri": "https://localhost:8080/",
          "height": 265
        }
      },
      "source": [
        "_jaccards = list(map(lambda x: x.history['val_jaccard_index'], historiae))\n",
        "for _jaccard, _author in zip(_jaccards, _model_authors):\n",
        "  sns.lineplot(list(range(len(_jaccard))), _jaccard, label=_author)"
      ],
      "execution_count": 0,
      "outputs": [
        {
          "output_type": "display_data",
          "data": {
            "image/png": "[encoded data removed]",
            "text/plain": [
              "<Figure size 432x288 with 1 Axes>"
            ]
          },
          "metadata": {
            "tags": []
          }
        }
      ]
    },
    {
      "cell_type": "code",
      "metadata": {
        "id": "GMszSInISTtP",
        "colab_type": "code",
        "outputId": "285b5fda-b353-4061-b5ea-fd868717a6e9",
        "colab": {
          "base_uri": "https://localhost:8080/",
          "height": 269
        }
      },
      "source": [
        "_losses = list(map(lambda x: x.history['val_loss'], historiae))\n",
        "for _loss, _author in zip(_losses, _model_authors):\n",
        "  sns.lineplot(list(range(len(_loss))), _loss, label=_author)"
      ],
      "execution_count": 0,
      "outputs": [
        {
          "output_type": "display_data",
          "data": {
            "image/png": "[encoded data removed]",
            "text/plain": [
              "<Figure size 432x288 with 1 Axes>"
            ]
          },
          "metadata": {
            "tags": []
          }
        }
      ]
    },
    {
      "cell_type": "code",
      "metadata": {
        "id": "eauUkdiPfe3f",
        "colab_type": "code",
        "outputId": "16241c74-7f69-4ad0-8442-1e41352e5f4f",
        "colab": {
          "base_uri": "https://localhost:8080/",
          "height": 53
        }
      },
      "source": [
        "!cat \"drive/My Drive/DCI-Net/time_logs.jsonl\" | jq"
      ],
      "execution_count": 0,
      "outputs": [
        {
          "output_type": "stream",
          "text": [
            "/bin/bash: jq: command not found\n",
            "cat: 'drive/My Drive/DCI-Net/time_logs.jsonl': No such file or directory\n"
          ],
          "name": "stdout"
        }
      ]
    },
    {
      "cell_type": "code",
      "metadata": {
        "id": "04ibUYVvf47H",
        "colab_type": "code",
        "colab": {}
      },
      "source": [
        "# 1 validación 5 pliegues\n",
        "def "
      ],
      "execution_count": 0,
      "outputs": []
    },
    {
      "cell_type": "code",
      "metadata": {
        "id": "hXwZZTxQkuMy",
        "colab_type": "code",
        "colab": {}
      },
      "source": [
        "@timing.time_log(path_to_logfile=_log_file)\n",
        "def _dummy_debug_function(*args, **kw):\n",
        "  pass\n",
        "  "
      ],
      "execution_count": 0,
      "outputs": []
    },
    {
      "cell_type": "code",
      "metadata": {
        "id": "iJDNCbPfXogz",
        "colab_type": "code",
        "outputId": "fa2d2174-46a3-4785-b7a1-a4460843ba83",
        "colab": {
          "base_uri": "https://localhost:8080/",
          "height": 165
        }
      },
      "source": [
        "log"
      ],
      "execution_count": 0,
      "outputs": [
        {
          "output_type": "error",
          "ename": "NameError",
          "evalue": "ignored",
          "traceback": [
            "\u001b[0;31m---------------------------------------------------------------------------\u001b[0m",
            "\u001b[0;31mNameError\u001b[0m                                 Traceback (most recent call last)",
            "\u001b[0;32m<ipython-input-44-4508c1b19b88>\u001b[0m in \u001b[0;36m<module>\u001b[0;34m()\u001b[0m\n\u001b[0;32m----> 1\u001b[0;31m \u001b[0mlog\u001b[0m\u001b[0;34m\u001b[0m\u001b[0;34m\u001b[0m\u001b[0m\n\u001b[0m",
            "\u001b[0;31mNameError\u001b[0m: name 'log' is not defined"
          ]
        }
      ]
    },
    {
      "cell_type": "code",
      "metadata": {
        "id": "TjdrADboXliJ",
        "colab_type": "code",
        "colab": {}
      },
      "source": [
        "_dummy_debug_function(5, '234', 5.2, hola='pass', foo='bar')"
      ],
      "execution_count": 0,
      "outputs": []
    },
    {
      "cell_type": "code",
      "metadata": {
        "id": "3xYc5_3SX6hJ",
        "colab_type": "code",
        "colab": {}
      },
      "source": [
        ""
      ],
      "execution_count": 0,
      "outputs": []
    }
  ]
}