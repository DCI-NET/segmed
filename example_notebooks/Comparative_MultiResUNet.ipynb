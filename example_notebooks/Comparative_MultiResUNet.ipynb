{
  "nbformat": 4,
  "nbformat_minor": 0,
  "metadata": {
    "colab": {
      "name": "Comparative MultiResUNet.ipynb",
      "provenance": [],
      "collapsed_sections": [],
      "include_colab_link": true
    },
    "kernelspec": {
      "name": "python3",
      "display_name": "Python 3"
    },
    "accelerator": "GPU"
  },
  "cells": [
    {
      "cell_type": "markdown",
      "metadata": {
        "id": "view-in-github",
        "colab_type": "text"
      },
      "source": [
        "<a href=\"https://colab.research.google.com/github/gmagannaDevelop/segnet/blob/mru_tests/example_notebooks/Comparative_MultiResUNet.ipynb\" target=\"_parent\"><img src=\"https://colab.research.google.com/assets/colab-badge.svg\" alt=\"Open In Colab\"/></a>"
      ]
    },
    {
      "cell_type": "markdown",
      "metadata": {
        "id": "DHw_6M1yXu8b",
        "colab_type": "text"
      },
      "source": [
        "# MultiResUNet\n",
        "## DCI-Net\n",
        "#### Gustavo Magaña\n",
        "\n",
        "\\########################################################"
      ]
    },
    {
      "cell_type": "code",
      "metadata": {
        "id": "C7esbcDmCpM_",
        "colab_type": "code",
        "outputId": "a790b3bd-c25b-4115-930f-d0686470e1de",
        "colab": {
          "base_uri": "https://localhost:8080/",
          "height": 34
        }
      },
      "source": [
        "!ls"
      ],
      "execution_count": 1,
      "outputs": [
        {
          "output_type": "stream",
          "text": [
            "drive  sample_data\n"
          ],
          "name": "stdout"
        }
      ]
    },
    {
      "cell_type": "code",
      "metadata": {
        "id": "IvwdXdIkfp0E",
        "colab_type": "code",
        "outputId": "a0ed9e6f-f910-43bc-f4af-60dcec65cf58",
        "colab": {
          "base_uri": "https://localhost:8080/",
          "height": 104
        }
      },
      "source": [
        "!apt install jq"
      ],
      "execution_count": 2,
      "outputs": [
        {
          "output_type": "stream",
          "text": [
            "Reading package lists... Done\n",
            "Building dependency tree       \n",
            "Reading state information... Done\n",
            "jq is already the newest version (1.5+dfsg-2).\n",
            "0 upgraded, 0 newly installed, 0 to remove and 28 not upgraded.\n"
          ],
          "name": "stdout"
        }
      ]
    },
    {
      "cell_type": "code",
      "metadata": {
        "id": "SUVhISDWOwT5",
        "colab_type": "code",
        "outputId": "318acecd-e968-4c2f-d02f-12d5ddb8529b",
        "colab": {
          "base_uri": "https://localhost:8080/",
          "height": 1000
        }
      },
      "source": [
        "## If changes are made to the repo, uninstall and\n",
        "## a fresh pip install are required, so it seems.\n",
        "#!pip uninstall segnet\n",
        "!pip install git+https://github.com/gmagannaDevelop/segnet.git@mru_tests\n",
        "##!pip install git+https://github.com/gmagannaDevelop/segnet.git@log_hotfix"
      ],
      "execution_count": 3,
      "outputs": [
        {
          "output_type": "stream",
          "text": [
            "Collecting git+https://github.com/gmagannaDevelop/segnet.git@mru_tests\n",
            "  Cloning https://github.com/gmagannaDevelop/segnet.git (to revision mru_tests) to /tmp/pip-req-build-2_197mi1\n",
            "  Running command git clone -q https://github.com/gmagannaDevelop/segnet.git /tmp/pip-req-build-2_197mi1\n",
            "  Running command git checkout -b mru_tests --track origin/mru_tests\n",
            "  Switched to a new branch 'mru_tests'\n",
            "  Branch 'mru_tests' set up to track remote branch 'mru_tests' from 'origin'.\n",
            "Requirement already satisfied (use --upgrade to upgrade): segnet==0.4 from git+https://github.com/gmagannaDevelop/segnet.git@mru_tests in /usr/local/lib/python3.6/dist-packages\n",
            "Requirement already satisfied: absl-py in /usr/local/lib/python3.6/dist-packages (from segnet==0.4) (0.8.1)\n",
            "Requirement already satisfied: appdirs in /usr/local/lib/python3.6/dist-packages (from segnet==0.4) (1.4.3)\n",
            "Requirement already satisfied: astor in /usr/local/lib/python3.6/dist-packages (from segnet==0.4) (0.8.0)\n",
            "Requirement already satisfied: astroid in /usr/local/lib/python3.6/dist-packages (from segnet==0.4) (2.3.2)\n",
            "Requirement already satisfied: atomicwrites in /usr/local/lib/python3.6/dist-packages (from segnet==0.4) (1.3.0)\n",
            "Requirement already satisfied: attrs in /usr/local/lib/python3.6/dist-packages (from segnet==0.4) (19.3.0)\n",
            "Requirement already satisfied: black in /usr/local/lib/python3.6/dist-packages (from segnet==0.4) (19.10b0)\n",
            "Requirement already satisfied: click in /usr/local/lib/python3.6/dist-packages (from segnet==0.4) (7.0)\n",
            "Requirement already satisfied: cycler in /usr/local/lib/python3.6/dist-packages (from segnet==0.4) (0.10.0)\n",
            "Requirement already satisfied: decorator in /usr/local/lib/python3.6/dist-packages (from segnet==0.4) (4.4.1)\n",
            "Requirement already satisfied: gast in /usr/local/lib/python3.6/dist-packages (from segnet==0.4) (0.2.2)\n",
            "Requirement already satisfied: google-pasta in /usr/local/lib/python3.6/dist-packages (from segnet==0.4) (0.1.7)\n",
            "Requirement already satisfied: grpcio in /usr/local/lib/python3.6/dist-packages (from segnet==0.4) (1.15.0)\n",
            "Requirement already satisfied: h5py in /usr/local/lib/python3.6/dist-packages (from segnet==0.4) (2.8.0)\n",
            "Requirement already satisfied: imageio in /usr/local/lib/python3.6/dist-packages (from segnet==0.4) (2.4.1)\n",
            "Requirement already satisfied: importlib-metadata in /usr/local/lib/python3.6/dist-packages (from segnet==0.4) (0.23)\n",
            "Requirement already satisfied: isort in /usr/local/lib/python3.6/dist-packages (from segnet==0.4) (4.3.21)\n",
            "Requirement already satisfied: joblib in /usr/local/lib/python3.6/dist-packages (from segnet==0.4) (0.14.0)\n",
            "Requirement already satisfied: kiwisolver in /usr/local/lib/python3.6/dist-packages (from segnet==0.4) (1.1.0)\n",
            "Requirement already satisfied: lazy-object-proxy in /usr/local/lib/python3.6/dist-packages (from segnet==0.4) (1.4.3)\n",
            "Requirement already satisfied: markdown in /usr/local/lib/python3.6/dist-packages (from segnet==0.4) (3.1.1)\n",
            "Requirement already satisfied: matplotlib in /usr/local/lib/python3.6/dist-packages (from segnet==0.4) (3.1.1)\n",
            "Requirement already satisfied: mccabe in /usr/local/lib/python3.6/dist-packages (from segnet==0.4) (0.6.1)\n",
            "Requirement already satisfied: more-itertools in /usr/local/lib/python3.6/dist-packages (from segnet==0.4) (7.2.0)\n",
            "Requirement already satisfied: networkx in /usr/local/lib/python3.6/dist-packages (from segnet==0.4) (2.4)\n",
            "Requirement already satisfied: numpy in /usr/local/lib/python3.6/dist-packages (from segnet==0.4) (1.17.3)\n",
            "Requirement already satisfied: opt-einsum in /usr/local/lib/python3.6/dist-packages (from segnet==0.4) (3.1.0)\n",
            "Requirement already satisfied: packaging in /usr/local/lib/python3.6/dist-packages (from segnet==0.4) (19.2)\n",
            "Requirement already satisfied: pandas in /usr/local/lib/python3.6/dist-packages (from segnet==0.4) (0.25.2)\n",
            "Requirement already satisfied: pillow in /usr/local/lib/python3.6/dist-packages (from segnet==0.4) (4.3.0)\n",
            "Requirement already satisfied: pluggy in /usr/local/lib/python3.6/dist-packages (from segnet==0.4) (0.7.1)\n",
            "Requirement already satisfied: protobuf in /usr/local/lib/python3.6/dist-packages (from segnet==0.4) (3.10.0)\n",
            "Requirement already satisfied: py in /usr/local/lib/python3.6/dist-packages (from segnet==0.4) (1.8.0)\n",
            "Requirement already satisfied: pylint in /usr/local/lib/python3.6/dist-packages (from segnet==0.4) (2.4.3)\n",
            "Requirement already satisfied: pyparsing in /usr/local/lib/python3.6/dist-packages (from segnet==0.4) (2.4.2)\n",
            "Requirement already satisfied: pytest in /usr/local/lib/python3.6/dist-packages (from segnet==0.4) (3.6.4)\n",
            "Requirement already satisfied: python-dateutil in /usr/local/lib/python3.6/dist-packages (from segnet==0.4) (2.6.1)\n",
            "Requirement already satisfied: pytz in /usr/local/lib/python3.6/dist-packages (from segnet==0.4) (2018.9)\n",
            "Requirement already satisfied: pywavelets in /usr/local/lib/python3.6/dist-packages (from segnet==0.4) (1.1.1)\n",
            "Requirement already satisfied: pyyaml in /usr/local/lib/python3.6/dist-packages (from segnet==0.4) (3.13)\n",
            "Requirement already satisfied: scikit-image in /usr/local/lib/python3.6/dist-packages (from segnet==0.4) (0.15.0)\n",
            "Requirement already satisfied: scikit-learn in /usr/local/lib/python3.6/dist-packages (from segnet==0.4) (0.21.3)\n",
            "Requirement already satisfied: scipy in /usr/local/lib/python3.6/dist-packages (from segnet==0.4) (1.3.1)\n",
            "Requirement already satisfied: seaborn in /usr/local/lib/python3.6/dist-packages (from segnet==0.4) (0.9.0)\n",
            "Requirement already satisfied: six in /usr/local/lib/python3.6/dist-packages (from segnet==0.4) (1.12.0)\n",
            "Requirement already satisfied: tensorflow in /usr/local/lib/python3.6/dist-packages (from segnet==0.4) (1.15.0)\n",
            "Requirement already satisfied: termcolor in /usr/local/lib/python3.6/dist-packages (from segnet==0.4) (1.1.0)\n",
            "Requirement already satisfied: toml in /usr/local/lib/python3.6/dist-packages (from segnet==0.4) (0.10.0)\n",
            "Requirement already satisfied: typed-ast in /usr/local/lib/python3.6/dist-packages (from segnet==0.4) (1.4.0)\n",
            "Requirement already satisfied: wcwidth in /usr/local/lib/python3.6/dist-packages (from segnet==0.4) (0.1.7)\n",
            "Requirement already satisfied: werkzeug in /usr/local/lib/python3.6/dist-packages (from segnet==0.4) (0.16.0)\n",
            "Requirement already satisfied: wrapt in /usr/local/lib/python3.6/dist-packages (from segnet==0.4) (1.11.2)\n",
            "Requirement already satisfied: zipp in /usr/local/lib/python3.6/dist-packages (from segnet==0.4) (0.6.0)\n",
            "Requirement already satisfied: regex in /usr/local/lib/python3.6/dist-packages (from black->segnet==0.4) (2019.11.1)\n",
            "Requirement already satisfied: pathspec<1,>=0.6 in /usr/local/lib/python3.6/dist-packages (from black->segnet==0.4) (0.6.0)\n",
            "Requirement already satisfied: setuptools in /usr/local/lib/python3.6/dist-packages (from kiwisolver->segnet==0.4) (41.4.0)\n",
            "Requirement already satisfied: olefile in /usr/local/lib/python3.6/dist-packages (from pillow->segnet==0.4) (0.46)\n",
            "Requirement already satisfied: wheel>=0.26 in /usr/local/lib/python3.6/dist-packages (from tensorflow->segnet==0.4) (0.33.6)\n",
            "Requirement already satisfied: keras-preprocessing>=1.0.5 in /usr/local/lib/python3.6/dist-packages (from tensorflow->segnet==0.4) (1.1.0)\n",
            "Requirement already satisfied: keras-applications>=1.0.8 in /usr/local/lib/python3.6/dist-packages (from tensorflow->segnet==0.4) (1.0.8)\n",
            "Requirement already satisfied: tensorboard<1.16.0,>=1.15.0 in /usr/local/lib/python3.6/dist-packages (from tensorflow->segnet==0.4) (1.15.0)\n",
            "Requirement already satisfied: tensorflow-estimator==1.15.1 in /usr/local/lib/python3.6/dist-packages (from tensorflow->segnet==0.4) (1.15.1)\n",
            "Building wheels for collected packages: segnet\n",
            "  Building wheel for segnet (setup.py) ... \u001b[?25l\u001b[?25hdone\n",
            "  Created wheel for segnet: filename=segnet-0.4-cp36-none-any.whl size=22825 sha256=bb483a8b0fd7477d8e2f677d84ad3e677aec4b72a6cde1745dff1f5cbc46fad2\n",
            "  Stored in directory: /tmp/pip-ephem-wheel-cache-bvxq0t4q/wheels/f1/c1/51/0ee27f445c3a618413714a84d4f5500547456389437a85a87f\n",
            "Successfully built segnet\n"
          ],
          "name": "stdout"
        }
      ]
    },
    {
      "cell_type": "markdown",
      "metadata": {
        "id": "qCRoHPcGgvEL",
        "colab_type": "text"
      },
      "source": [
        "Imports"
      ]
    },
    {
      "cell_type": "code",
      "metadata": {
        "id": "UxVrrV2VXLGA",
        "colab_type": "code",
        "outputId": "38262ec1-931d-403f-d72a-eede52350c30",
        "colab": {
          "base_uri": "https://localhost:8080/",
          "height": 34
        }
      },
      "source": [
        "### System-related\n",
        "import sys\n",
        "import os\n",
        "import datetime \n",
        "from typing import Optional\n",
        "#import importlib.util\n",
        "###############################################################\n",
        "\n",
        "### Machine learning specific\n",
        "#import segmentation_models as sm\n",
        "from keras.optimizers import SGD\n",
        "from keras.callbacks import ModelCheckpoint, ReduceLROnPlateau\n",
        "from sklearn.model_selection import train_test_split\n",
        "import keras.models\n",
        "###############################################################\n",
        "\n",
        "### In-Out\n",
        "from skimage import io\n",
        "import glob\n",
        "###############################################################\n",
        "\n",
        "### Visualization\n",
        "import seaborn as sns\n",
        "###############################################################\n",
        "\n",
        "### Numerical\n",
        "import numpy as np\n",
        "###############################################################\n",
        "\n",
        "### Repo-specific (segnet)\n",
        "from segnet.train import train_segnet\n",
        "from segnet.models import multiresunet as mru\n",
        "from segnet.models import multiresunet2 as mru2\n",
        "from segnet.utils import timing\n",
        "#from segnet.segnet.train.train_segnet import train_segnet\n",
        "#import segnet.segnet as segnet\n",
        "\n",
        "### Data-related\n",
        "from google.colab import drive, files\n",
        "drive.mount('/content/drive/')\n",
        "###############################################################\n",
        "\n",
        "\n",
        "### Not an import, but mandatory to be defined here :\n",
        "root_dir   = \"drive/My Drive/DCI-Net\"\n",
        "_log_file  = os.path.join(root_dir, \"time_logs.jsonl\")"
      ],
      "execution_count": 32,
      "outputs": [
        {
          "output_type": "stream",
          "text": [
            "Drive already mounted at /content/drive/; to attempt to forcibly remount, call drive.mount(\"/content/drive/\", force_remount=True).\n"
          ],
          "name": "stdout"
        }
      ]
    },
    {
      "cell_type": "markdown",
      "metadata": {
        "id": "pde_pTyigywK",
        "colab_type": "text"
      },
      "source": [
        "Function definition"
      ]
    },
    {
      "cell_type": "code",
      "metadata": {
        "id": "HnJpx7qYdlId",
        "colab_type": "code",
        "colab": {}
      },
      "source": [
        "def yield_model_name(\n",
        "    architecture: str = \"MultiResUNet\",\n",
        "    date: Optional[str] = None\n",
        ") -> str:\n",
        "  \"\"\"\n",
        "    Yield a model name, to be passed to other functions.\n",
        "    Said model name consisting of an architecture name, \n",
        "    the (UTCtime)\n",
        "  \"\"\"\n",
        "  if date is None:\n",
        "    date = str(datetime.datetime.utcnow()).split(\".\")[0]\n",
        "  return f\"{architecture}-({date}).h5\"\n",
        "\n",
        "def yield_mask_directory(\n",
        "    architecture: str = \"MultiResUNet\",\n",
        "    date: Optional[str] = None\n",
        ") -> str:\n",
        "  \"\"\"\n",
        "    Yield a model name, to be passed to other functions.\n",
        "    Said model name consisting of an architecture name, \n",
        "    the (UTCtime)\n",
        "  \"\"\"\n",
        "  if date is None:\n",
        "    date = str(datetime.datetime.utcnow()).split(\".\")[0].split(\" \")[0]\n",
        "  return f\"{architecture}-({date})\""
      ],
      "execution_count": 0,
      "outputs": []
    },
    {
      "cell_type": "code",
      "metadata": {
        "id": "IceMi8yGf4ru",
        "colab_type": "code",
        "outputId": "1e5a4b14-cefd-4169-f612-012d82d52618",
        "colab": {
          "base_uri": "https://localhost:8080/",
          "height": 34
        }
      },
      "source": [
        "yield_model_name()"
      ],
      "execution_count": 35,
      "outputs": [
        {
          "output_type": "execute_result",
          "data": {
            "text/plain": [
              "'MultiResUNet-(2019-11-04 03:30:48).h5'"
            ]
          },
          "metadata": {
            "tags": []
          },
          "execution_count": 35
        }
      ]
    },
    {
      "cell_type": "code",
      "metadata": {
        "id": "J0_DxhwXCyOd",
        "colab_type": "code",
        "outputId": "f0e20ed7-4137-4e5d-86c6-ad32543ecc57",
        "colab": {
          "base_uri": "https://localhost:8080/",
          "height": 34
        }
      },
      "source": [
        "yield_mask_directory()"
      ],
      "execution_count": 7,
      "outputs": [
        {
          "output_type": "execute_result",
          "data": {
            "text/plain": [
              "'MultiResUNet-(2019-11-04)'"
            ]
          },
          "metadata": {
            "tags": []
          },
          "execution_count": 7
        }
      ]
    },
    {
      "cell_type": "code",
      "metadata": {
        "id": "2pRrtgcrDThX",
        "colab_type": "code",
        "outputId": "bfde6d22-5320-450b-b6c0-7f74a81670f8",
        "colab": {
          "base_uri": "https://localhost:8080/",
          "height": 34
        }
      },
      "source": [
        "!ls \"drive/My Drive/DCI-Net/Masks\""
      ],
      "execution_count": 8,
      "outputs": [
        {
          "output_type": "stream",
          "text": [
            "Sunday3nov\n"
          ],
          "name": "stdout"
        }
      ]
    },
    {
      "cell_type": "code",
      "metadata": {
        "id": "Ce2TEroWZ2WI",
        "colab_type": "code",
        "outputId": "fe8cb047-ccd3-41be-b367-2ac76e3f4ed3",
        "colab": {
          "base_uri": "https://localhost:8080/",
          "height": 34
        }
      },
      "source": [
        "!ls \"drive/My Drive/DCI-Net/Colab_data/Dataset 2\""
      ],
      "execution_count": 9,
      "outputs": [
        {
          "output_type": "stream",
          "text": [
            "imgs  msks\n"
          ],
          "name": "stdout"
        }
      ]
    },
    {
      "cell_type": "code",
      "metadata": {
        "id": "wJWjlxLkW9lz",
        "colab_type": "code",
        "colab": {}
      },
      "source": [
        "# Declare the paths to use (following the Keras convention)\n",
        "# https://www.tensorflow.org/versions/r2.0/api_docs/python/tf/keras/Model#fit_generator\n",
        "masks_path = img_path = data_path  = \"drive/My Drive/DCI-Net/Colab_data/Dataset 2\"\n",
        "\n",
        "_img_path   = os.path.join(data_path, 'imgs')\n",
        "_masks_path = os.path.join(data_path, 'msks')\n",
        "\n",
        "\n",
        "_model_snapshots_dir = os.path.join(root_dir, \"ModelSnapshots\")\n",
        "_model_log_path = os.path.join(\n",
        "    _model_snapshots_dir, \n",
        "    yield_model_name(architecture=\"MultiResUNet\")\n",
        ")\n"
      ],
      "execution_count": 0,
      "outputs": []
    },
    {
      "cell_type": "code",
      "metadata": {
        "id": "Q8PeDFX_EAGY",
        "colab_type": "code",
        "outputId": "b7754e1d-52fe-4b8d-f8c2-1a4165f58ce5",
        "colab": {
          "base_uri": "https://localhost:8080/",
          "height": 121
        }
      },
      "source": [
        "print(f\"{data_path}\\n {masks_path}\\n {img_path}\\n {_img_path}\\n {_masks_path}\\n {_model_log_path}\")"
      ],
      "execution_count": 37,
      "outputs": [
        {
          "output_type": "stream",
          "text": [
            "drive/My Drive/DCI-Net/Colab_data/Dataset 2\n",
            " drive/My Drive/DCI-Net/Colab_data/Dataset 2\n",
            " drive/My Drive/DCI-Net/Colab_data/Dataset 2\n",
            " drive/My Drive/DCI-Net/Colab_data/Dataset 2/imgs\n",
            " drive/My Drive/DCI-Net/Colab_data/Dataset 2/msks\n",
            " drive/My Drive/DCI-Net/ModelSnapshots/MultiResUNet-(2019-11-04 03:30:53).h5\n"
          ],
          "name": "stdout"
        }
      ]
    },
    {
      "cell_type": "markdown",
      "metadata": {
        "id": "Fgcp3Hl3n0uo",
        "colab_type": "text"
      },
      "source": [
        "Define hyperparameters\n"
      ]
    },
    {
      "cell_type": "code",
      "metadata": {
        "id": "O2qpzDaekgEl",
        "colab_type": "code",
        "colab": {}
      },
      "source": [
        "__comments = [\n",
        "              \"Edwin's implementation : models/multiresunet.py\",\n",
        "              \"Gustavo's implementation : models/multiresunet2.py\"\n",
        "]\n",
        "\n",
        "hyper_params = dict(\n",
        "    batch_size = 4,\n",
        "    epochs = 40,\n",
        "    steps_per_epoch=5,\n",
        "    model_file = _model_log_path,\n",
        "    _comment = __comments[0]      # <-- CHECK THIS\n",
        ")\n",
        "\n",
        "# DEBUG COMMENT OUT WHEN TRAINING : \n",
        "_debug_hyper_params = dict(\n",
        "    batch_size = 8,\n",
        "    epochs = 1,\n",
        "    steps_per_epoch=2,\n",
        "    model_file = _model_log_path\n",
        ")"
      ],
      "execution_count": 0,
      "outputs": []
    },
    {
      "cell_type": "markdown",
      "metadata": {
        "id": "mtl5hSO9nAZ2",
        "colab_type": "text"
      },
      "source": [
        "Get the stored snapshots :"
      ]
    },
    {
      "cell_type": "code",
      "metadata": {
        "id": "pXvwmgVBkvPU",
        "colab_type": "code",
        "outputId": "6afc62ac-237e-4a54-8f12-beafd83a131d",
        "colab": {
          "base_uri": "https://localhost:8080/",
          "height": 86
        }
      },
      "source": [
        "snapshots = os.listdir(_model_snapshots_dir)\n",
        "snapshots"
      ],
      "execution_count": 63,
      "outputs": [
        {
          "output_type": "execute_result",
          "data": {
            "text/plain": [
              "['MultiResUNet-(2019-11-04 01:48:44).h5',\n",
              " 'MultiResUNet-(2019-10-29 03:29:04).h5',\n",
              " 'MultiResUNet-(2019-11-04 03:14:17).h5',\n",
              " 'MultiResUNet-(2019-11-04 03:30:53).h5']"
            ]
          },
          "metadata": {
            "tags": []
          },
          "execution_count": 63
        }
      ]
    },
    {
      "cell_type": "markdown",
      "metadata": {
        "id": "BF9uMSUWnM2y",
        "colab_type": "text"
      },
      "source": [
        "Choose a snapshot to load, if so desired :"
      ]
    },
    {
      "cell_type": "code",
      "metadata": {
        "id": "WSZcoEJClITg",
        "colab_type": "code",
        "outputId": "a72cb530-c1f3-4863-c1a5-ebfb025f8628",
        "colab": {
          "base_uri": "https://localhost:8080/",
          "height": 34
        }
      },
      "source": [
        "load_snapshot = os.path.join(_model_snapshots_dir, snapshots[0])\n",
        "load_snapshot"
      ],
      "execution_count": 64,
      "outputs": [
        {
          "output_type": "execute_result",
          "data": {
            "text/plain": [
              "'drive/My Drive/DCI-Net/ModelSnapshots/MultiResUNet-(2019-11-04 01:48:44).h5'"
            ]
          },
          "metadata": {
            "tags": []
          },
          "execution_count": 64
        }
      ]
    },
    {
      "cell_type": "markdown",
      "metadata": {
        "id": "0n3KvDkznZUl",
        "colab_type": "text"
      },
      "source": [
        "\n",
        "Instantiate a MultiResUNet model, **optionally** from a checkpoint :"
      ]
    },
    {
      "cell_type": "code",
      "metadata": {
        "id": "K0Ah1NY_NX2e",
        "colab_type": "code",
        "colab": {}
      },
      "source": [
        "model1 = mru.MultiResUnet()\n",
        "model2 = mru2.MultiResUNet()\n",
        "    \n",
        "# TOGGLE THIS !\n",
        "from_checkpoint = False\n",
        "\n",
        "if from_checkpoint:\n",
        "  # model1.load_weights(load_snapshot)\n",
        "  # model2.load_weights(load_snapshot)\n",
        "  pass"
      ],
      "execution_count": 0,
      "outputs": []
    },
    {
      "cell_type": "markdown",
      "metadata": {
        "id": "F9vVsIdYnqA-",
        "colab_type": "text"
      },
      "source": [
        "Train the model :"
      ]
    },
    {
      "cell_type": "code",
      "metadata": {
        "id": "xaMlOM9rZQ1L",
        "colab_type": "code",
        "outputId": "598ccbda-0dc0-4f88-c32e-3ba23002798a",
        "colab": {
          "base_uri": "https://localhost:8080/",
          "height": 1000
        }
      },
      "source": [
        "history = train_segnet.train_segnet(\n",
        "    model1,\n",
        "    _img_path,\n",
        "    _masks_path,\n",
        "    **hyper_params\n",
        ")\n"
      ],
      "execution_count": 66,
      "outputs": [
        {
          "output_type": "stream",
          "text": [
            "Found 80 images belonging to 1 classes.\n",
            "Found 80 images belonging to 1 classes.\n",
            "Found 20 images belonging to 1 classes.\n",
            "Found 20 images belonging to 1 classes.\n",
            "Epoch 1/40\n",
            "4/5 [=======================>......] - ETA: 6s - loss: 0.6127 - jaccard_index: 0.2083 - dice_coef: 0.3430 Epoch 1/40\n",
            "5/5 [==============================] - 6s 1s/step - loss: 4.6230 - jaccard_index: 0.1793 - dice_coef: 0.3024\n",
            "\n",
            "Epoch 00001: val_jaccard_index improved from -inf to 0.17927, saving model to drive/My Drive/DCI-Net/ModelSnapshots/MultiResUNet-(2019-11-04 03:30:53).h5\n",
            "5/5 [==============================] - 249s 50s/step - loss: 0.5876 - jaccard_index: 0.2176 - dice_coef: 0.3556 - val_loss: 4.6230 - val_jaccard_index: 0.1793 - val_dice_coef: 0.3024\n",
            "Epoch 2/40\n",
            "4/5 [=======================>......] - ETA: 0s - loss: 0.4853 - jaccard_index: 0.2807 - dice_coef: 0.4381Epoch 1/40\n",
            "5/5 [==============================] - 1s 170ms/step - loss: 192.9331 - jaccard_index: 0.1885 - dice_coef: 0.3167\n",
            "\n",
            "Epoch 00002: val_jaccard_index improved from 0.17927 to 0.18845, saving model to drive/My Drive/DCI-Net/ModelSnapshots/MultiResUNet-(2019-11-04 03:30:53).h5\n",
            "5/5 [==============================] - 8s 2s/step - loss: 0.4862 - jaccard_index: 0.2770 - dice_coef: 0.4335 - val_loss: 192.9331 - val_jaccard_index: 0.1885 - val_dice_coef: 0.3167\n",
            "Epoch 3/40\n",
            "4/5 [=======================>......] - ETA: 0s - loss: 0.4961 - jaccard_index: 0.2387 - dice_coef: 0.3852Epoch 1/40\n",
            "5/5 [==============================] - 1s 178ms/step - loss: 430.2205 - jaccard_index: 0.1832 - dice_coef: 0.3093\n",
            "\n",
            "Epoch 00003: val_jaccard_index did not improve from 0.18845\n",
            "5/5 [==============================] - 4s 819ms/step - loss: 0.4931 - jaccard_index: 0.2413 - dice_coef: 0.3886 - val_loss: 430.2205 - val_jaccard_index: 0.1832 - val_dice_coef: 0.3093\n",
            "Epoch 4/40\n",
            "4/5 [=======================>......] - ETA: 0s - loss: 0.4604 - jaccard_index: 0.2942 - dice_coef: 0.4544Epoch 1/40\n",
            "5/5 [==============================] - 1s 170ms/step - loss: 264.1890 - jaccard_index: 0.1796 - dice_coef: 0.3040\n",
            "\n",
            "Epoch 00004: val_jaccard_index did not improve from 0.18845\n",
            "5/5 [==============================] - 4s 785ms/step - loss: 0.4658 - jaccard_index: 0.2832 - dice_coef: 0.4407 - val_loss: 264.1890 - val_jaccard_index: 0.1796 - val_dice_coef: 0.3040\n",
            "Epoch 5/40\n",
            "4/5 [=======================>......] - ETA: 0s - loss: 0.4857 - jaccard_index: 0.2464 - dice_coef: 0.3950Epoch 1/40\n",
            "5/5 [==============================] - 1s 171ms/step - loss: 70.5994 - jaccard_index: 0.1768 - dice_coef: 0.3000\n",
            "\n",
            "Epoch 00005: val_jaccard_index did not improve from 0.18845\n",
            "5/5 [==============================] - 4s 782ms/step - loss: 0.4874 - jaccard_index: 0.2395 - dice_coef: 0.3859 - val_loss: 70.5994 - val_jaccard_index: 0.1768 - val_dice_coef: 0.3000\n",
            "Epoch 6/40\n",
            "4/5 [=======================>......] - ETA: 0s - loss: 0.4638 - jaccard_index: 0.2603 - dice_coef: 0.4128Epoch 1/40\n",
            "5/5 [==============================] - 1s 173ms/step - loss: 64.8086 - jaccard_index: 0.1748 - dice_coef: 0.2965\n",
            "\n",
            "Epoch 00006: val_jaccard_index did not improve from 0.18845\n",
            "5/5 [==============================] - 4s 791ms/step - loss: 0.4682 - jaccard_index: 0.2559 - dice_coef: 0.4073 - val_loss: 64.8086 - val_jaccard_index: 0.1748 - val_dice_coef: 0.2965\n",
            "Epoch 7/40\n",
            "4/5 [=======================>......] - ETA: 0s - loss: 0.4372 - jaccard_index: 0.3149 - dice_coef: 0.4785Epoch 1/40\n",
            "5/5 [==============================] - 1s 169ms/step - loss: 6.3307 - jaccard_index: 0.1982 - dice_coef: 0.3300\n",
            "\n",
            "Epoch 00007: val_jaccard_index improved from 0.18845 to 0.19824, saving model to drive/My Drive/DCI-Net/ModelSnapshots/MultiResUNet-(2019-11-04 03:30:53).h5\n",
            "5/5 [==============================] - 10s 2s/step - loss: 0.4389 - jaccard_index: 0.3104 - dice_coef: 0.4733 - val_loss: 6.3307 - val_jaccard_index: 0.1982 - val_dice_coef: 0.3300\n",
            "Epoch 8/40\n",
            "4/5 [=======================>......] - ETA: 0s - loss: 0.4427 - jaccard_index: 0.2834 - dice_coef: 0.4409Epoch 1/40\n",
            "5/5 [==============================] - 1s 168ms/step - loss: 7.4745 - jaccard_index: 0.1858 - dice_coef: 0.3123\n",
            "\n",
            "Epoch 00008: val_jaccard_index did not improve from 0.19824\n",
            "5/5 [==============================] - 4s 789ms/step - loss: 0.4431 - jaccard_index: 0.2808 - dice_coef: 0.4378 - val_loss: 7.4745 - val_jaccard_index: 0.1858 - val_dice_coef: 0.3123\n",
            "Epoch 9/40\n",
            "4/5 [=======================>......] - ETA: 0s - loss: 0.4423 - jaccard_index: 0.2763 - dice_coef: 0.4322Epoch 1/40\n",
            "5/5 [==============================] - 1s 174ms/step - loss: 11.8649 - jaccard_index: 0.1874 - dice_coef: 0.3153\n",
            "\n",
            "Epoch 00009: val_jaccard_index did not improve from 0.19824\n",
            "5/5 [==============================] - 4s 789ms/step - loss: 0.4435 - jaccard_index: 0.2749 - dice_coef: 0.4306 - val_loss: 11.8649 - val_jaccard_index: 0.1874 - val_dice_coef: 0.3153\n",
            "Epoch 10/40\n",
            "4/5 [=======================>......] - ETA: 0s - loss: 0.4368 - jaccard_index: 0.2846 - dice_coef: 0.4429Epoch 1/40\n",
            "5/5 [==============================] - 1s 170ms/step - loss: 10.2798 - jaccard_index: 0.1841 - dice_coef: 0.3100\n",
            "\n",
            "Epoch 00010: val_jaccard_index did not improve from 0.19824\n",
            "5/5 [==============================] - 4s 782ms/step - loss: 0.4349 - jaccard_index: 0.2845 - dice_coef: 0.4429 - val_loss: 10.2798 - val_jaccard_index: 0.1841 - val_dice_coef: 0.3100\n",
            "Epoch 11/40\n",
            "4/5 [=======================>......] - ETA: 0s - loss: 0.4322 - jaccard_index: 0.2893 - dice_coef: 0.4486Epoch 1/40\n",
            "5/5 [==============================] - 1s 169ms/step - loss: 7.5469 - jaccard_index: 0.1838 - dice_coef: 0.3084\n",
            "\n",
            "Epoch 00011: val_jaccard_index did not improve from 0.19824\n",
            "5/5 [==============================] - 4s 782ms/step - loss: 0.4311 - jaccard_index: 0.2896 - dice_coef: 0.4490 - val_loss: 7.5469 - val_jaccard_index: 0.1838 - val_dice_coef: 0.3084\n",
            "Epoch 12/40\n",
            "4/5 [=======================>......] - ETA: 0s - loss: 0.4463 - jaccard_index: 0.2648 - dice_coef: 0.4179Epoch 1/40\n",
            "5/5 [==============================] - 1s 169ms/step - loss: 2.4212 - jaccard_index: 0.2128 - dice_coef: 0.3504\n",
            "\n",
            "Epoch 00012: val_jaccard_index improved from 0.19824 to 0.21280, saving model to drive/My Drive/DCI-Net/ModelSnapshots/MultiResUNet-(2019-11-04 03:30:53).h5\n",
            "5/5 [==============================] - 10s 2s/step - loss: 0.4440 - jaccard_index: 0.2680 - dice_coef: 0.4220 - val_loss: 2.4212 - val_jaccard_index: 0.2128 - val_dice_coef: 0.3504\n",
            "Epoch 13/40\n",
            "4/5 [=======================>......] - ETA: 0s - loss: 0.4189 - jaccard_index: 0.3045 - dice_coef: 0.4667Epoch 1/40\n",
            "5/5 [==============================] - 1s 168ms/step - loss: 4.1043 - jaccard_index: 0.1958 - dice_coef: 0.3266\n",
            "\n",
            "Epoch 00013: val_jaccard_index did not improve from 0.21280\n",
            "5/5 [==============================] - 4s 807ms/step - loss: 0.4138 - jaccard_index: 0.3153 - dice_coef: 0.4789 - val_loss: 4.1043 - val_jaccard_index: 0.1958 - val_dice_coef: 0.3266\n",
            "Epoch 14/40\n",
            "4/5 [=======================>......] - ETA: 0s - loss: 0.4453 - jaccard_index: 0.2370 - dice_coef: 0.3827Epoch 1/40\n",
            "5/5 [==============================] - 1s 173ms/step - loss: 1.1519 - jaccard_index: 0.2570 - dice_coef: 0.4080\n",
            "\n",
            "Epoch 00014: val_jaccard_index improved from 0.21280 to 0.25700, saving model to drive/My Drive/DCI-Net/ModelSnapshots/MultiResUNet-(2019-11-04 03:30:53).h5\n",
            "5/5 [==============================] - 8s 2s/step - loss: 0.4421 - jaccard_index: 0.2479 - dice_coef: 0.3964 - val_loss: 1.1519 - val_jaccard_index: 0.2570 - val_dice_coef: 0.4080\n",
            "Epoch 15/40\n",
            "4/5 [=======================>......] - ETA: 0s - loss: 0.4277 - jaccard_index: 0.2759 - dice_coef: 0.4321Epoch 1/40\n",
            "5/5 [==============================] - 1s 174ms/step - loss: 0.5540 - jaccard_index: 0.2511 - dice_coef: 0.4009\n",
            "\n",
            "Epoch 00015: val_jaccard_index did not improve from 0.25700\n",
            "5/5 [==============================] - 4s 798ms/step - loss: 0.4272 - jaccard_index: 0.2721 - dice_coef: 0.4274 - val_loss: 0.5540 - val_jaccard_index: 0.2511 - val_dice_coef: 0.4009\n",
            "Epoch 16/40\n",
            "4/5 [=======================>......] - ETA: 0s - loss: 0.4217 - jaccard_index: 0.2926 - dice_coef: 0.4523Epoch 1/40\n",
            "5/5 [==============================] - 1s 181ms/step - loss: 0.5415 - jaccard_index: 0.2704 - dice_coef: 0.4253\n",
            "\n",
            "Epoch 00016: val_jaccard_index improved from 0.25700 to 0.27036, saving model to drive/My Drive/DCI-Net/ModelSnapshots/MultiResUNet-(2019-11-04 03:30:53).h5\n",
            "5/5 [==============================] - 8s 2s/step - loss: 0.4208 - jaccard_index: 0.2887 - dice_coef: 0.4476 - val_loss: 0.5415 - val_jaccard_index: 0.2704 - val_dice_coef: 0.4253\n",
            "Epoch 17/40\n",
            "4/5 [=======================>......] - ETA: 0s - loss: 0.4134 - jaccard_index: 0.2865 - dice_coef: 0.4453Epoch 1/40\n",
            "5/5 [==============================] - 1s 170ms/step - loss: 0.5804 - jaccard_index: 0.2622 - dice_coef: 0.4144\n",
            "\n",
            "Epoch 00017: val_jaccard_index did not improve from 0.27036\n",
            "5/5 [==============================] - 4s 789ms/step - loss: 0.4132 - jaccard_index: 0.2861 - dice_coef: 0.4448 - val_loss: 0.5804 - val_jaccard_index: 0.2622 - val_dice_coef: 0.4144\n",
            "Epoch 18/40\n",
            "4/5 [=======================>......] - ETA: 0s - loss: 0.4172 - jaccard_index: 0.2881 - dice_coef: 0.4459Epoch 1/40\n",
            "5/5 [==============================] - 1s 175ms/step - loss: 0.5564 - jaccard_index: 0.2627 - dice_coef: 0.4157\n",
            "\n",
            "Epoch 00018: val_jaccard_index did not improve from 0.27036\n",
            "5/5 [==============================] - 4s 803ms/step - loss: 0.4195 - jaccard_index: 0.2789 - dice_coef: 0.4346 - val_loss: 0.5564 - val_jaccard_index: 0.2627 - val_dice_coef: 0.4157\n",
            "Epoch 19/40\n",
            "4/5 [=======================>......] - ETA: 0s - loss: 0.4215 - jaccard_index: 0.2690 - dice_coef: 0.4232Epoch 1/40\n",
            "5/5 [==============================] - 1s 171ms/step - loss: 0.5089 - jaccard_index: 0.2442 - dice_coef: 0.3908\n",
            "\n",
            "Epoch 00019: val_jaccard_index did not improve from 0.27036\n",
            "5/5 [==============================] - 4s 793ms/step - loss: 0.4174 - jaccard_index: 0.2798 - dice_coef: 0.4362 - val_loss: 0.5089 - val_jaccard_index: 0.2442 - val_dice_coef: 0.3908\n",
            "Epoch 20/40\n",
            "4/5 [=======================>......] - ETA: 0s - loss: 0.4001 - jaccard_index: 0.3010 - dice_coef: 0.4626Epoch 1/40\n",
            "5/5 [==============================] - 1s 172ms/step - loss: 0.5317 - jaccard_index: 0.2326 - dice_coef: 0.3727\n",
            "\n",
            "Epoch 00020: val_jaccard_index did not improve from 0.27036\n",
            "5/5 [==============================] - 4s 791ms/step - loss: 0.4029 - jaccard_index: 0.2953 - dice_coef: 0.4558 - val_loss: 0.5317 - val_jaccard_index: 0.2326 - val_dice_coef: 0.3727\n",
            "Epoch 21/40\n",
            "4/5 [=======================>......] - ETA: 0s - loss: 0.4006 - jaccard_index: 0.2947 - dice_coef: 0.4551Epoch 1/40\n",
            "5/5 [==============================] - 1s 169ms/step - loss: 0.5821 - jaccard_index: 0.2610 - dice_coef: 0.4130\n",
            "\n",
            "Epoch 00021: val_jaccard_index did not improve from 0.27036\n",
            "5/5 [==============================] - 4s 787ms/step - loss: 0.4009 - jaccard_index: 0.2933 - dice_coef: 0.4536 - val_loss: 0.5821 - val_jaccard_index: 0.2610 - val_dice_coef: 0.4130\n",
            "Epoch 22/40\n",
            "4/5 [=======================>......] - ETA: 0s - loss: 0.4078 - jaccard_index: 0.2993 - dice_coef: 0.4604Epoch 1/40\n",
            "5/5 [==============================] - 1s 167ms/step - loss: 0.6758 - jaccard_index: 0.2780 - dice_coef: 0.4326\n",
            "\n",
            "Epoch 00022: val_jaccard_index improved from 0.27036 to 0.27795, saving model to drive/My Drive/DCI-Net/ModelSnapshots/MultiResUNet-(2019-11-04 03:30:53).h5\n",
            "5/5 [==============================] - 10s 2s/step - loss: 0.4056 - jaccard_index: 0.2936 - dice_coef: 0.4535 - val_loss: 0.6758 - val_jaccard_index: 0.2780 - val_dice_coef: 0.4326\n",
            "Epoch 23/40\n",
            "4/5 [=======================>......] - ETA: 0s - loss: 0.3960 - jaccard_index: 0.2958 - dice_coef: 0.4562Epoch 1/40\n",
            "5/5 [==============================] - 1s 176ms/step - loss: 0.8442 - jaccard_index: 0.2927 - dice_coef: 0.4521\n",
            "\n",
            "Epoch 00023: val_jaccard_index improved from 0.27795 to 0.29274, saving model to drive/My Drive/DCI-Net/ModelSnapshots/MultiResUNet-(2019-11-04 03:30:53).h5\n",
            "5/5 [==============================] - 8s 2s/step - loss: 0.3995 - jaccard_index: 0.2946 - dice_coef: 0.4549 - val_loss: 0.8442 - val_jaccard_index: 0.2927 - val_dice_coef: 0.4521\n",
            "Epoch 24/40\n",
            "4/5 [=======================>......] - ETA: 0s - loss: 0.4070 - jaccard_index: 0.2720 - dice_coef: 0.4269Epoch 1/40\n",
            "5/5 [==============================] - 1s 168ms/step - loss: 0.5886 - jaccard_index: 0.2709 - dice_coef: 0.4248\n",
            "\n",
            "Epoch 00024: val_jaccard_index did not improve from 0.29274\n",
            "5/5 [==============================] - 4s 788ms/step - loss: 0.4039 - jaccard_index: 0.2780 - dice_coef: 0.4343 - val_loss: 0.5886 - val_jaccard_index: 0.2709 - val_dice_coef: 0.4248\n",
            "Epoch 25/40\n",
            "4/5 [=======================>......] - ETA: 0s - loss: 0.3886 - jaccard_index: 0.3116 - dice_coef: 0.4747Epoch 1/40\n",
            "5/5 [==============================] - 1s 175ms/step - loss: 0.5851 - jaccard_index: 0.2919 - dice_coef: 0.4507\n",
            "\n",
            "Epoch 00025: val_jaccard_index did not improve from 0.29274\n",
            "5/5 [==============================] - 4s 786ms/step - loss: 0.3921 - jaccard_index: 0.3007 - dice_coef: 0.4615 - val_loss: 0.5851 - val_jaccard_index: 0.2919 - val_dice_coef: 0.4507\n",
            "Epoch 26/40\n",
            "4/5 [=======================>......] - ETA: 0s - loss: 0.3933 - jaccard_index: 0.2844 - dice_coef: 0.4426Epoch 1/40\n",
            "5/5 [==============================] - 1s 170ms/step - loss: 0.5937 - jaccard_index: 0.2799 - dice_coef: 0.4368\n",
            "\n",
            "Epoch 00026: val_jaccard_index did not improve from 0.29274\n",
            "5/5 [==============================] - 4s 787ms/step - loss: 0.3961 - jaccard_index: 0.2828 - dice_coef: 0.4406 - val_loss: 0.5937 - val_jaccard_index: 0.2799 - val_dice_coef: 0.4368\n",
            "Epoch 27/40\n",
            "4/5 [=======================>......] - ETA: 0s - loss: 0.3941 - jaccard_index: 0.2991 - dice_coef: 0.4595Epoch 1/40\n",
            "5/5 [==============================] - 1s 170ms/step - loss: 0.6964 - jaccard_index: 0.2786 - dice_coef: 0.4348\n",
            "\n",
            "Epoch 00027: val_jaccard_index did not improve from 0.29274\n",
            "5/5 [==============================] - 4s 786ms/step - loss: 0.3949 - jaccard_index: 0.2990 - dice_coef: 0.4596 - val_loss: 0.6964 - val_jaccard_index: 0.2786 - val_dice_coef: 0.4348\n",
            "Epoch 28/40\n",
            "4/5 [=======================>......] - ETA: 0s - loss: 0.3908 - jaccard_index: 0.2846 - dice_coef: 0.4428Epoch 1/40\n",
            "5/5 [==============================] - 1s 167ms/step - loss: 0.6233 - jaccard_index: 0.2729 - dice_coef: 0.4261\n",
            "\n",
            "Epoch 00028: val_jaccard_index did not improve from 0.29274\n",
            "5/5 [==============================] - 4s 781ms/step - loss: 0.3924 - jaccard_index: 0.2838 - dice_coef: 0.4419 - val_loss: 0.6233 - val_jaccard_index: 0.2729 - val_dice_coef: 0.4261\n",
            "Epoch 29/40\n",
            "4/5 [=======================>......] - ETA: 0s - loss: 0.3845 - jaccard_index: 0.2969 - dice_coef: 0.4573Epoch 1/40\n",
            "5/5 [==============================] - 1s 170ms/step - loss: 0.6445 - jaccard_index: 0.2538 - dice_coef: 0.4043\n",
            "\n",
            "Epoch 00029: val_jaccard_index did not improve from 0.29274\n",
            "5/5 [==============================] - 4s 783ms/step - loss: 0.3823 - jaccard_index: 0.2989 - dice_coef: 0.4597 - val_loss: 0.6445 - val_jaccard_index: 0.2538 - val_dice_coef: 0.4043\n",
            "Epoch 30/40\n",
            "4/5 [=======================>......] - ETA: 0s - loss: 0.3825 - jaccard_index: 0.3030 - dice_coef: 0.4650Epoch 1/40\n",
            "5/5 [==============================] - 1s 172ms/step - loss: 0.5950 - jaccard_index: 0.2162 - dice_coef: 0.3538\n",
            "\n",
            "Epoch 00030: val_jaccard_index did not improve from 0.29274\n",
            "5/5 [==============================] - 4s 785ms/step - loss: 0.3826 - jaccard_index: 0.2972 - dice_coef: 0.4579 - val_loss: 0.5950 - val_jaccard_index: 0.2162 - val_dice_coef: 0.3538\n",
            "Epoch 31/40\n",
            "4/5 [=======================>......] - ETA: 0s - loss: 0.4027 - jaccard_index: 0.2712 - dice_coef: 0.4256Epoch 1/40\n",
            "5/5 [==============================] - 1s 170ms/step - loss: 0.5561 - jaccard_index: 0.1968 - dice_coef: 0.3276\n",
            "\n",
            "Epoch 00031: val_jaccard_index did not improve from 0.29274\n",
            "5/5 [==============================] - 4s 784ms/step - loss: 0.3951 - jaccard_index: 0.2899 - dice_coef: 0.4473 - val_loss: 0.5561 - val_jaccard_index: 0.1968 - val_dice_coef: 0.3276\n",
            "Epoch 32/40\n",
            "4/5 [=======================>......] - ETA: 0s - loss: 0.3890 - jaccard_index: 0.2701 - dice_coef: 0.4250Epoch 1/40\n",
            "5/5 [==============================] - 1s 170ms/step - loss: 0.5878 - jaccard_index: 0.1498 - dice_coef: 0.2600\n",
            "\n",
            "Epoch 00032: val_jaccard_index did not improve from 0.29274\n",
            "5/5 [==============================] - 4s 788ms/step - loss: 0.3887 - jaccard_index: 0.2798 - dice_coef: 0.4366 - val_loss: 0.5878 - val_jaccard_index: 0.1498 - val_dice_coef: 0.2600\n",
            "Epoch 33/40\n",
            "4/5 [=======================>......] - ETA: 0s - loss: 0.3821 - jaccard_index: 0.2912 - dice_coef: 0.4506Epoch 1/40\n",
            "5/5 [==============================] - 1s 169ms/step - loss: 0.5982 - jaccard_index: 0.1942 - dice_coef: 0.3237\n",
            "\n",
            "Epoch 00033: val_jaccard_index did not improve from 0.29274\n",
            "5/5 [==============================] - 4s 783ms/step - loss: 0.3787 - jaccard_index: 0.2968 - dice_coef: 0.4573 - val_loss: 0.5982 - val_jaccard_index: 0.1942 - val_dice_coef: 0.3237\n",
            "Epoch 34/40\n",
            "4/5 [=======================>......] - ETA: 0s - loss: 0.3859 - jaccard_index: 0.2808 - dice_coef: 0.4379Epoch 1/40\n",
            "5/5 [==============================] - 1s 168ms/step - loss: 0.7302 - jaccard_index: 0.1840 - dice_coef: 0.3094\n",
            "\n",
            "Epoch 00034: val_jaccard_index did not improve from 0.29274\n",
            "5/5 [==============================] - 4s 777ms/step - loss: 0.3844 - jaccard_index: 0.2819 - dice_coef: 0.4393 - val_loss: 0.7302 - val_jaccard_index: 0.1840 - val_dice_coef: 0.3094\n",
            "Epoch 35/40\n",
            "4/5 [=======================>......] - ETA: 0s - loss: 0.3772 - jaccard_index: 0.2950 - dice_coef: 0.4540Epoch 1/40\n",
            "5/5 [==============================] - 1s 170ms/step - loss: 0.6998 - jaccard_index: 0.1955 - dice_coef: 0.3261\n",
            "\n",
            "Epoch 00035: val_jaccard_index did not improve from 0.29274\n",
            "5/5 [==============================] - 4s 780ms/step - loss: 0.3779 - jaccard_index: 0.2912 - dice_coef: 0.4498 - val_loss: 0.6998 - val_jaccard_index: 0.1955 - val_dice_coef: 0.3261\n",
            "Epoch 36/40\n",
            "4/5 [=======================>......] - ETA: 0s - loss: 0.3744 - jaccard_index: 0.3184 - dice_coef: 0.4826Epoch 1/40\n",
            "5/5 [==============================] - 1s 171ms/step - loss: 0.6397 - jaccard_index: 0.1917 - dice_coef: 0.3215\n",
            "\n",
            "Epoch 00036: val_jaccard_index did not improve from 0.29274\n",
            "5/5 [==============================] - 4s 780ms/step - loss: 0.3759 - jaccard_index: 0.3080 - dice_coef: 0.4702 - val_loss: 0.6397 - val_jaccard_index: 0.1917 - val_dice_coef: 0.3215\n",
            "Epoch 37/40\n",
            "4/5 [=======================>......] - ETA: 0s - loss: 0.3768 - jaccard_index: 0.2949 - dice_coef: 0.4543Epoch 1/40\n",
            "5/5 [==============================] - 1s 168ms/step - loss: 0.6728 - jaccard_index: 0.1833 - dice_coef: 0.3096\n",
            "\n",
            "Epoch 00037: val_jaccard_index did not improve from 0.29274\n",
            "5/5 [==============================] - 4s 783ms/step - loss: 0.3732 - jaccard_index: 0.2981 - dice_coef: 0.4584 - val_loss: 0.6728 - val_jaccard_index: 0.1833 - val_dice_coef: 0.3096\n",
            "Epoch 38/40\n",
            "4/5 [=======================>......] - ETA: 0s - loss: 0.3786 - jaccard_index: 0.2899 - dice_coef: 0.4481Epoch 1/40\n",
            "5/5 [==============================] - 1s 170ms/step - loss: 0.8162 - jaccard_index: 0.1931 - dice_coef: 0.3217\n",
            "\n",
            "Epoch 00038: val_jaccard_index did not improve from 0.29274\n",
            "5/5 [==============================] - 4s 780ms/step - loss: 0.3759 - jaccard_index: 0.2911 - dice_coef: 0.4498 - val_loss: 0.8162 - val_jaccard_index: 0.1931 - val_dice_coef: 0.3217\n",
            "Epoch 39/40\n",
            "4/5 [=======================>......] - ETA: 0s - loss: 0.3673 - jaccard_index: 0.3193 - dice_coef: 0.4840Epoch 1/40\n",
            "5/5 [==============================] - 1s 170ms/step - loss: 1.0985 - jaccard_index: 0.2067 - dice_coef: 0.3419\n",
            "\n",
            "Epoch 00039: val_jaccard_index did not improve from 0.29274\n",
            "5/5 [==============================] - 4s 785ms/step - loss: 0.3647 - jaccard_index: 0.3200 - dice_coef: 0.4848 - val_loss: 1.0985 - val_jaccard_index: 0.2067 - val_dice_coef: 0.3419\n",
            "Epoch 40/40\n",
            "4/5 [=======================>......] - ETA: 0s - loss: 0.3776 - jaccard_index: 0.2819 - dice_coef: 0.4397Epoch 1/40\n",
            "5/5 [==============================] - 1s 174ms/step - loss: 0.8503 - jaccard_index: 0.2166 - dice_coef: 0.3556\n",
            "\n",
            "Epoch 00040: val_jaccard_index did not improve from 0.29274\n",
            "5/5 [==============================] - 4s 784ms/step - loss: 0.3777 - jaccard_index: 0.2814 - dice_coef: 0.4391 - val_loss: 0.8503 - val_jaccard_index: 0.2166 - val_dice_coef: 0.3556\n"
          ],
          "name": "stdout"
        }
      ]
    },
    {
      "cell_type": "code",
      "metadata": {
        "id": "-XQs6gwumXMO",
        "colab_type": "code",
        "outputId": "a7d28653-3a5b-46c6-91a2-3c1f93726aa3",
        "colab": {
          "base_uri": "https://localhost:8080/",
          "height": 34
        }
      },
      "source": [
        "print(_masks_path)"
      ],
      "execution_count": 67,
      "outputs": [
        {
          "output_type": "stream",
          "text": [
            "drive/My Drive/DCI-Net/Colab_data/Dataset 2/msks\n"
          ],
          "name": "stdout"
        }
      ]
    },
    {
      "cell_type": "code",
      "metadata": {
        "id": "4hIiRaBcRwlE",
        "colab_type": "code",
        "outputId": "5ce6a12e-a7c0-4e0e-e3d1-d74dce7a64e7",
        "colab": {
          "base_uri": "https://localhost:8080/",
          "height": 282
        }
      },
      "source": [
        "_jaccard = history.history['val_jaccard_index']\n",
        "sns.lineplot(list(range(len(_jaccard))), _jaccard)"
      ],
      "execution_count": 68,
      "outputs": [
        {
          "output_type": "execute_result",
          "data": {
            "text/plain": [
              "<matplotlib.axes._subplots.AxesSubplot at 0x7f76fec34668>"
            ]
          },
          "metadata": {
            "tags": []
          },
          "execution_count": 68
        },
        {
          "output_type": "display_data",
          "data": {
            "image/png": "[encoded data removed]",
            "text/plain": [
              "<Figure size 432x288 with 1 Axes>"
            ]
          },
          "metadata": {
            "tags": []
          }
        }
      ]
    },
    {
      "cell_type": "code",
      "metadata": {
        "id": "GMszSInISTtP",
        "colab_type": "code",
        "outputId": "58921d26-b072-426c-d949-359dd79c14b2",
        "colab": {
          "base_uri": "https://localhost:8080/",
          "height": 282
        }
      },
      "source": [
        "_loss = history.history['val_loss']\n",
        "sns.lineplot(list(range(len(_loss))), _loss)"
      ],
      "execution_count": 69,
      "outputs": [
        {
          "output_type": "execute_result",
          "data": {
            "text/plain": [
              "<matplotlib.axes._subplots.AxesSubplot at 0x7f76fcc66160>"
            ]
          },
          "metadata": {
            "tags": []
          },
          "execution_count": 69
        },
        {
          "output_type": "display_data",
          "data": {
            "image/png": "[encoded data removed]",
            "text/plain": [
              "<Figure size 432x288 with 1 Axes>"
            ]
          },
          "metadata": {
            "tags": []
          }
        }
      ]
    },
    {
      "cell_type": "code",
      "metadata": {
        "id": "eauUkdiPfe3f",
        "colab_type": "code",
        "outputId": "b33c289c-d29d-4d64-b1d9-1fdbad60e085",
        "colab": {
          "base_uri": "https://localhost:8080/",
          "height": 1000
        }
      },
      "source": [
        "!cat \"drive/My Drive/DCI-Net/time_logs.jsonl\" | jq"
      ],
      "execution_count": 54,
      "outputs": [
        {
          "output_type": "stream",
          "text": [
            "\u001b[1;39m{\n",
            "  \u001b[0m\u001b[34;1m\"datetimeUTC\"\u001b[0m\u001b[1;39m: \u001b[0m\u001b[0;32m\"2019-10-28 20:46:23.879399\"\u001b[0m\u001b[1;39m,\n",
            "  \u001b[0m\u001b[34;1m\"function\"\u001b[0m\u001b[1;39m: \u001b[0m\u001b[0;32m\"train_segnet\"\u001b[0m\u001b[1;39m,\n",
            "  \u001b[0m\u001b[34;1m\"args\"\u001b[0m\u001b[1;39m: \u001b[0m\u001b[1;39m[\n",
            "    \u001b[0;32m\"<class 'tensorflow.python.keras.engine.training.Model'>\"\u001b[0m\u001b[1;39m,\n",
            "    \u001b[0;32m\"drive/My Drive/DCI-Net/Colab_data/Dataset 1\"\u001b[0m\u001b[1;39m,\n",
            "    \u001b[0;32m\"drive/My Drive/DCI-Net/Colab_data/Dataset 1\"\u001b[0m\u001b[1;39m\n",
            "  \u001b[1;39m]\u001b[0m\u001b[1;39m,\n",
            "  \u001b[0m\u001b[34;1m\"kwargs\"\u001b[0m\u001b[1;39m: \u001b[0m\u001b[1;39m{\n",
            "    \u001b[0m\u001b[34;1m\"batch_size\"\u001b[0m\u001b[1;39m: \u001b[0m\u001b[0;39m8\u001b[0m\u001b[1;39m,\n",
            "    \u001b[0m\u001b[34;1m\"epochs\"\u001b[0m\u001b[1;39m: \u001b[0m\u001b[0;39m50\u001b[0m\u001b[1;39m,\n",
            "    \u001b[0m\u001b[34;1m\"steps_per_epoch\"\u001b[0m\u001b[1;39m: \u001b[0m\u001b[0;39m100\u001b[0m\u001b[1;39m,\n",
            "    \u001b[0m\u001b[34;1m\"model_file\"\u001b[0m\u001b[1;39m: \u001b[0m\u001b[0;32m\"drive/My Drive/DCI-Net/second_mutlires_gpu_WBC.h5\"\u001b[0m\u001b[1;39m\n",
            "  \u001b[1;39m}\u001b[0m\u001b[1;39m,\n",
            "  \u001b[0m\u001b[34;1m\"time\"\u001b[0m\u001b[1;39m: \u001b[0m\u001b[0;39m7054.45720076561\u001b[0m\u001b[1;39m\n",
            "\u001b[1;39m}\u001b[0m\n",
            "\u001b[1;39m{\n",
            "  \u001b[0m\u001b[34;1m\"datetimeUTC\"\u001b[0m\u001b[1;39m: \u001b[0m\u001b[0;32m\"2019-10-29 02:26:33.794570\"\u001b[0m\u001b[1;39m,\n",
            "  \u001b[0m\u001b[34;1m\"function\"\u001b[0m\u001b[1;39m: \u001b[0m\u001b[0;32m\"train_segnet\"\u001b[0m\u001b[1;39m,\n",
            "  \u001b[0m\u001b[34;1m\"args\"\u001b[0m\u001b[1;39m: \u001b[0m\u001b[1;39m[\n",
            "    \u001b[0;32m\"<class 'tensorflow.python.keras.engine.training.Model'>\"\u001b[0m\u001b[1;39m,\n",
            "    \u001b[0;32m\"drive/My Drive/DCI-Net/Colab_data/Dataset 1\"\u001b[0m\u001b[1;39m,\n",
            "    \u001b[0;32m\"drive/My Drive/DCI-Net/Colab_data/Dataset 1\"\u001b[0m\u001b[1;39m\n",
            "  \u001b[1;39m]\u001b[0m\u001b[1;39m,\n",
            "  \u001b[0m\u001b[34;1m\"kwargs\"\u001b[0m\u001b[1;39m: \u001b[0m\u001b[1;39m{\n",
            "    \u001b[0m\u001b[34;1m\"batch_size\"\u001b[0m\u001b[1;39m: \u001b[0m\u001b[0;39m8\u001b[0m\u001b[1;39m,\n",
            "    \u001b[0m\u001b[34;1m\"epochs\"\u001b[0m\u001b[1;39m: \u001b[0m\u001b[0;39m1\u001b[0m\u001b[1;39m,\n",
            "    \u001b[0m\u001b[34;1m\"steps_per_epoch\"\u001b[0m\u001b[1;39m: \u001b[0m\u001b[0;39m10\u001b[0m\u001b[1;39m,\n",
            "    \u001b[0m\u001b[34;1m\"model_file\"\u001b[0m\u001b[1;39m: \u001b[0m\u001b[0;32m\"drive/My Drive/DCI-Net/second_mutlires_gpu_WBC.h5\"\u001b[0m\u001b[1;39m\n",
            "  \u001b[1;39m}\u001b[0m\u001b[1;39m,\n",
            "  \u001b[0m\u001b[34;1m\"time\"\u001b[0m\u001b[1;39m: \u001b[0m\u001b[0;39m90.98878622055054\u001b[0m\u001b[1;39m\n",
            "\u001b[1;39m}\u001b[0m\n",
            "\u001b[1;39m{\n",
            "  \u001b[0m\u001b[34;1m\"datetimeUTC\"\u001b[0m\u001b[1;39m: \u001b[0m\u001b[0;32m\"2019-10-29 02:37:01.130320\"\u001b[0m\u001b[1;39m,\n",
            "  \u001b[0m\u001b[34;1m\"function\"\u001b[0m\u001b[1;39m: \u001b[0m\u001b[0;32m\"_dummy_debug_function\"\u001b[0m\u001b[1;39m,\n",
            "  \u001b[0m\u001b[34;1m\"args\"\u001b[0m\u001b[1;39m: \u001b[0m\u001b[1;39m[\n",
            "    \u001b[0;39m5\u001b[0m\u001b[1;39m,\n",
            "    \u001b[0;32m\"234\"\u001b[0m\u001b[1;39m,\n",
            "    \u001b[0;39m5.2\u001b[0m\u001b[1;39m\n",
            "  \u001b[1;39m]\u001b[0m\u001b[1;39m,\n",
            "  \u001b[0m\u001b[34;1m\"kwargs\"\u001b[0m\u001b[1;39m: \u001b[0m\u001b[1;39m{\n",
            "    \u001b[0m\u001b[34;1m\"hola\"\u001b[0m\u001b[1;39m: \u001b[0m\u001b[0;32m\"pass\"\u001b[0m\u001b[1;39m,\n",
            "    \u001b[0m\u001b[34;1m\"foo\"\u001b[0m\u001b[1;39m: \u001b[0m\u001b[0;32m\"bar\"\u001b[0m\u001b[1;39m\n",
            "  \u001b[1;39m}\u001b[0m\u001b[1;39m,\n",
            "  \u001b[0m\u001b[34;1m\"time\"\u001b[0m\u001b[1;39m: \u001b[0m\u001b[0;39m1.9073486328125e-06\u001b[0m\u001b[1;39m\n",
            "\u001b[1;39m}\u001b[0m\n",
            "\u001b[1;39m{\n",
            "  \u001b[0m\u001b[34;1m\"datetimeUTC\"\u001b[0m\u001b[1;39m: \u001b[0m\u001b[0;32m\"2019-10-29 03:00:45.890538\"\u001b[0m\u001b[1;39m,\n",
            "  \u001b[0m\u001b[34;1m\"function\"\u001b[0m\u001b[1;39m: \u001b[0m\u001b[0;32m\"train_segnet\"\u001b[0m\u001b[1;39m,\n",
            "  \u001b[0m\u001b[34;1m\"args\"\u001b[0m\u001b[1;39m: \u001b[0m\u001b[1;39m[\n",
            "    \u001b[0;32m\"<class 'tensorflow.python.keras.engine.training.Model'>\"\u001b[0m\u001b[1;39m,\n",
            "    \u001b[0;32m\"drive/My Drive/DCI-Net/Colab_data/Dataset 1\"\u001b[0m\u001b[1;39m,\n",
            "    \u001b[0;32m\"drive/My Drive/DCI-Net/Colab_data/Dataset 1\"\u001b[0m\u001b[1;39m\n",
            "  \u001b[1;39m]\u001b[0m\u001b[1;39m,\n",
            "  \u001b[0m\u001b[34;1m\"kwargs\"\u001b[0m\u001b[1;39m: \u001b[0m\u001b[1;39m{\n",
            "    \u001b[0m\u001b[34;1m\"batch_size\"\u001b[0m\u001b[1;39m: \u001b[0m\u001b[0;39m8\u001b[0m\u001b[1;39m,\n",
            "    \u001b[0m\u001b[34;1m\"epochs\"\u001b[0m\u001b[1;39m: \u001b[0m\u001b[0;39m1\u001b[0m\u001b[1;39m,\n",
            "    \u001b[0m\u001b[34;1m\"steps_per_epoch\"\u001b[0m\u001b[1;39m: \u001b[0m\u001b[0;39m2\u001b[0m\u001b[1;39m,\n",
            "    \u001b[0m\u001b[34;1m\"model_file\"\u001b[0m\u001b[1;39m: \u001b[0m\u001b[0;32m\"drive/My Drive/DCI-Net/second_mutlires_gpu_WBC.h5\"\u001b[0m\u001b[1;39m\n",
            "  \u001b[1;39m}\u001b[0m\u001b[1;39m,\n",
            "  \u001b[0m\u001b[34;1m\"time\"\u001b[0m\u001b[1;39m: \u001b[0m\u001b[0;39m83.04236173629761\u001b[0m\u001b[1;39m\n",
            "\u001b[1;39m}\u001b[0m\n",
            "\u001b[1;39m{\n",
            "  \u001b[0m\u001b[34;1m\"datetimeUTC\"\u001b[0m\u001b[1;39m: \u001b[0m\u001b[0;32m\"2019-10-29 03:39:33.098597\"\u001b[0m\u001b[1;39m,\n",
            "  \u001b[0m\u001b[34;1m\"function\"\u001b[0m\u001b[1;39m: \u001b[0m\u001b[0;32m\"train_segnet\"\u001b[0m\u001b[1;39m,\n",
            "  \u001b[0m\u001b[34;1m\"args\"\u001b[0m\u001b[1;39m: \u001b[0m\u001b[1;39m[\n",
            "    \u001b[0;32m\"<class 'tensorflow.python.keras.engine.training.Model'>\"\u001b[0m\u001b[1;39m,\n",
            "    \u001b[0;32m\"drive/My Drive/DCI-Net/Colab_data/Dataset 1\"\u001b[0m\u001b[1;39m,\n",
            "    \u001b[0;32m\"drive/My Drive/DCI-Net/Colab_data/Dataset 1\"\u001b[0m\u001b[1;39m\n",
            "  \u001b[1;39m]\u001b[0m\u001b[1;39m,\n",
            "  \u001b[0m\u001b[34;1m\"kwargs\"\u001b[0m\u001b[1;39m: \u001b[0m\u001b[1;39m{\n",
            "    \u001b[0m\u001b[34;1m\"batch_size\"\u001b[0m\u001b[1;39m: \u001b[0m\u001b[0;39m8\u001b[0m\u001b[1;39m,\n",
            "    \u001b[0m\u001b[34;1m\"epochs\"\u001b[0m\u001b[1;39m: \u001b[0m\u001b[0;39m1\u001b[0m\u001b[1;39m,\n",
            "    \u001b[0m\u001b[34;1m\"steps_per_epoch\"\u001b[0m\u001b[1;39m: \u001b[0m\u001b[0;39m2\u001b[0m\u001b[1;39m,\n",
            "    \u001b[0m\u001b[34;1m\"model_file\"\u001b[0m\u001b[1;39m: \u001b[0m\u001b[0;32m\"drive/My Drive/DCI-Net/ModelSnapshots/MultiResUNet-(2019-10-29 03:29:04).h5\"\u001b[0m\u001b[1;39m\n",
            "  \u001b[1;39m}\u001b[0m\u001b[1;39m,\n",
            "  \u001b[0m\u001b[34;1m\"time\"\u001b[0m\u001b[1;39m: \u001b[0m\u001b[0;39m156.75068426132202\u001b[0m\u001b[1;39m\n",
            "\u001b[1;39m}\u001b[0m\n",
            "\u001b[1;39m{\n",
            "  \u001b[0m\u001b[34;1m\"datetimeUTC\"\u001b[0m\u001b[1;39m: \u001b[0m\u001b[0;32m\"2019-11-04 03:22:21.875093\"\u001b[0m\u001b[1;39m,\n",
            "  \u001b[0m\u001b[34;1m\"function\"\u001b[0m\u001b[1;39m: \u001b[0m\u001b[0;32m\"train_segnet\"\u001b[0m\u001b[1;39m,\n",
            "  \u001b[0m\u001b[34;1m\"args\"\u001b[0m\u001b[1;39m: \u001b[0m\u001b[1;39m[\n",
            "    \u001b[0;32m\"<class 'tensorflow.python.keras.engine.training.Model'>\"\u001b[0m\u001b[1;39m,\n",
            "    \u001b[0;32m\"drive/My Drive/DCI-Net/Colab_data/Dataset 2/imgs\"\u001b[0m\u001b[1;39m,\n",
            "    \u001b[0;32m\"drive/My Drive/DCI-Net/Colab_data/Dataset 2/msks\"\u001b[0m\u001b[1;39m\n",
            "  \u001b[1;39m]\u001b[0m\u001b[1;39m,\n",
            "  \u001b[0m\u001b[34;1m\"kwargs\"\u001b[0m\u001b[1;39m: \u001b[0m\u001b[1;39m{\n",
            "    \u001b[0m\u001b[34;1m\"batch_size\"\u001b[0m\u001b[1;39m: \u001b[0m\u001b[0;39m8\u001b[0m\u001b[1;39m,\n",
            "    \u001b[0m\u001b[34;1m\"epochs\"\u001b[0m\u001b[1;39m: \u001b[0m\u001b[0;39m20\u001b[0m\u001b[1;39m,\n",
            "    \u001b[0m\u001b[34;1m\"steps_per_epoch\"\u001b[0m\u001b[1;39m: \u001b[0m\u001b[0;39m5\u001b[0m\u001b[1;39m,\n",
            "    \u001b[0m\u001b[34;1m\"model_file\"\u001b[0m\u001b[1;39m: \u001b[0m\u001b[0;32m\"drive/My Drive/DCI-Net/ModelSnapshots/MultiResUNet-(2019-11-04 03:14:17).h5\"\u001b[0m\u001b[1;39m,\n",
            "    \u001b[0m\u001b[34;1m\"_comment\"\u001b[0m\u001b[1;39m: \u001b[0m\u001b[0;32m\"Edwin's implementation : models/multiresunet.py\"\u001b[0m\u001b[1;39m\n",
            "  \u001b[1;39m}\u001b[0m\u001b[1;39m,\n",
            "  \u001b[0m\u001b[34;1m\"time\"\u001b[0m\u001b[1;39m: \u001b[0m\u001b[0;39m254.74196553230286\u001b[0m\u001b[1;39m\n",
            "\u001b[1;39m}\u001b[0m\n",
            "\u001b[1;39m{\n",
            "  \u001b[0m\u001b[34;1m\"datetimeUTC\"\u001b[0m\u001b[1;39m: \u001b[0m\u001b[0;32m\"2019-11-04 03:36:19.278533\"\u001b[0m\u001b[1;39m,\n",
            "  \u001b[0m\u001b[34;1m\"function\"\u001b[0m\u001b[1;39m: \u001b[0m\u001b[0;32m\"train_segnet\"\u001b[0m\u001b[1;39m,\n",
            "  \u001b[0m\u001b[34;1m\"args\"\u001b[0m\u001b[1;39m: \u001b[0m\u001b[1;39m[\n",
            "    \u001b[0;32m\"<class 'tensorflow.python.keras.engine.training.Model'>\"\u001b[0m\u001b[1;39m,\n",
            "    \u001b[0;32m\"drive/My Drive/DCI-Net/Colab_data/Dataset 2/imgs\"\u001b[0m\u001b[1;39m,\n",
            "    \u001b[0;32m\"drive/My Drive/DCI-Net/Colab_data/Dataset 2/msks\"\u001b[0m\u001b[1;39m\n",
            "  \u001b[1;39m]\u001b[0m\u001b[1;39m,\n",
            "  \u001b[0m\u001b[34;1m\"kwargs\"\u001b[0m\u001b[1;39m: \u001b[0m\u001b[1;39m{\n",
            "    \u001b[0m\u001b[34;1m\"batch_size\"\u001b[0m\u001b[1;39m: \u001b[0m\u001b[0;39m8\u001b[0m\u001b[1;39m,\n",
            "    \u001b[0m\u001b[34;1m\"epochs\"\u001b[0m\u001b[1;39m: \u001b[0m\u001b[0;39m20\u001b[0m\u001b[1;39m,\n",
            "    \u001b[0m\u001b[34;1m\"steps_per_epoch\"\u001b[0m\u001b[1;39m: \u001b[0m\u001b[0;39m5\u001b[0m\u001b[1;39m,\n",
            "    \u001b[0m\u001b[34;1m\"model_file\"\u001b[0m\u001b[1;39m: \u001b[0m\u001b[0;32m\"drive/My Drive/DCI-Net/ModelSnapshots/MultiResUNet-(2019-11-04 03:30:53).h5\"\u001b[0m\u001b[1;39m,\n",
            "    \u001b[0m\u001b[34;1m\"_comment\"\u001b[0m\u001b[1;39m: \u001b[0m\u001b[0;32m\"Gustavo's implementation : models/multiresunet2.py\"\u001b[0m\u001b[1;39m\n",
            "  \u001b[1;39m}\u001b[0m\u001b[1;39m,\n",
            "  \u001b[0m\u001b[34;1m\"time\"\u001b[0m\u001b[1;39m: \u001b[0m\u001b[0;39m234.89537811279297\u001b[0m\u001b[1;39m\n",
            "\u001b[1;39m}\u001b[0m\n",
            "\u001b[1;39m{\n",
            "  \u001b[0m\u001b[34;1m\"datetimeUTC\"\u001b[0m\u001b[1;39m: \u001b[0m\u001b[0;32m\"2019-11-04 03:44:06.574148\"\u001b[0m\u001b[1;39m,\n",
            "  \u001b[0m\u001b[34;1m\"function\"\u001b[0m\u001b[1;39m: \u001b[0m\u001b[0;32m\"train_segnet\"\u001b[0m\u001b[1;39m,\n",
            "  \u001b[0m\u001b[34;1m\"args\"\u001b[0m\u001b[1;39m: \u001b[0m\u001b[1;39m[\n",
            "    \u001b[0;32m\"<class 'tensorflow.python.keras.engine.training.Model'>\"\u001b[0m\u001b[1;39m,\n",
            "    \u001b[0;32m\"drive/My Drive/DCI-Net/Colab_data/Dataset 2/imgs\"\u001b[0m\u001b[1;39m,\n",
            "    \u001b[0;32m\"drive/My Drive/DCI-Net/Colab_data/Dataset 2/msks\"\u001b[0m\u001b[1;39m\n",
            "  \u001b[1;39m]\u001b[0m\u001b[1;39m,\n",
            "  \u001b[0m\u001b[34;1m\"kwargs\"\u001b[0m\u001b[1;39m: \u001b[0m\u001b[1;39m{\n",
            "    \u001b[0m\u001b[34;1m\"batch_size\"\u001b[0m\u001b[1;39m: \u001b[0m\u001b[0;39m8\u001b[0m\u001b[1;39m,\n",
            "    \u001b[0m\u001b[34;1m\"epochs\"\u001b[0m\u001b[1;39m: \u001b[0m\u001b[0;39m50\u001b[0m\u001b[1;39m,\n",
            "    \u001b[0m\u001b[34;1m\"steps_per_epoch\"\u001b[0m\u001b[1;39m: \u001b[0m\u001b[0;39m100\u001b[0m\u001b[1;39m,\n",
            "    \u001b[0m\u001b[34;1m\"model_file\"\u001b[0m\u001b[1;39m: \u001b[0m\u001b[0;32m\"drive/My Drive/DCI-Net/ModelSnapshots/MultiResUNet-(2019-11-04 01:48:44).h5\"\u001b[0m\u001b[1;39m\n",
            "  \u001b[1;39m}\u001b[0m\u001b[1;39m,\n",
            "  \u001b[0m\u001b[34;1m\"time\"\u001b[0m\u001b[1;39m: \u001b[0m\u001b[0;39m6409.123408794403\u001b[0m\u001b[1;39m\n",
            "\u001b[1;39m}\u001b[0m\n",
            "\u001b[1;39m{\n",
            "  \u001b[0m\u001b[34;1m\"datetimeUTC\"\u001b[0m\u001b[1;39m: \u001b[0m\u001b[0;32m\"2019-11-04 03:50:00.174468\"\u001b[0m\u001b[1;39m,\n",
            "  \u001b[0m\u001b[34;1m\"function\"\u001b[0m\u001b[1;39m: \u001b[0m\u001b[0;32m\"train_segnet\"\u001b[0m\u001b[1;39m,\n",
            "  \u001b[0m\u001b[34;1m\"args\"\u001b[0m\u001b[1;39m: \u001b[0m\u001b[1;39m[\n",
            "    \u001b[0;32m\"<class 'tensorflow.python.keras.engine.training.Model'>\"\u001b[0m\u001b[1;39m,\n",
            "    \u001b[0;32m\"drive/My Drive/DCI-Net/Colab_data/Dataset 2/imgs\"\u001b[0m\u001b[1;39m,\n",
            "    \u001b[0;32m\"drive/My Drive/DCI-Net/Colab_data/Dataset 2/msks\"\u001b[0m\u001b[1;39m\n",
            "  \u001b[1;39m]\u001b[0m\u001b[1;39m,\n",
            "  \u001b[0m\u001b[34;1m\"kwargs\"\u001b[0m\u001b[1;39m: \u001b[0m\u001b[1;39m{\n",
            "    \u001b[0m\u001b[34;1m\"batch_size\"\u001b[0m\u001b[1;39m: \u001b[0m\u001b[0;39m4\u001b[0m\u001b[1;39m,\n",
            "    \u001b[0m\u001b[34;1m\"epochs\"\u001b[0m\u001b[1;39m: \u001b[0m\u001b[0;39m40\u001b[0m\u001b[1;39m,\n",
            "    \u001b[0m\u001b[34;1m\"steps_per_epoch\"\u001b[0m\u001b[1;39m: \u001b[0m\u001b[0;39m5\u001b[0m\u001b[1;39m,\n",
            "    \u001b[0m\u001b[34;1m\"model_file\"\u001b[0m\u001b[1;39m: \u001b[0m\u001b[0;32m\"drive/My Drive/DCI-Net/ModelSnapshots/MultiResUNet-(2019-11-04 03:30:53).h5\"\u001b[0m\u001b[1;39m,\n",
            "    \u001b[0m\u001b[34;1m\"_comment\"\u001b[0m\u001b[1;39m: \u001b[0m\u001b[0;32m\"Gustavo's implementation : models/multiresunet2.py\"\u001b[0m\u001b[1;39m\n",
            "  \u001b[1;39m}\u001b[0m\u001b[1;39m,\n",
            "  \u001b[0m\u001b[34;1m\"time\"\u001b[0m\u001b[1;39m: \u001b[0m\u001b[0;39m293.908887386322\u001b[0m\u001b[1;39m\n",
            "\u001b[1;39m}\u001b[0m\n"
          ],
          "name": "stdout"
        }
      ]
    },
    {
      "cell_type": "code",
      "metadata": {
        "id": "04ibUYVvf47H",
        "colab_type": "code",
        "colab": {}
      },
      "source": [
        "# 1 validación 5 pliegues\n",
        "def "
      ],
      "execution_count": 0,
      "outputs": []
    },
    {
      "cell_type": "code",
      "metadata": {
        "id": "hXwZZTxQkuMy",
        "colab_type": "code",
        "colab": {}
      },
      "source": [
        "@timing.time_log(path_to_logfile=_log_file)\n",
        "def _dummy_debug_function(*args, **kw):\n",
        "  pass\n",
        "  "
      ],
      "execution_count": 0,
      "outputs": []
    },
    {
      "cell_type": "code",
      "metadata": {
        "id": "iJDNCbPfXogz",
        "colab_type": "code",
        "outputId": "fa2d2174-46a3-4785-b7a1-a4460843ba83",
        "colab": {
          "base_uri": "https://localhost:8080/",
          "height": 165
        }
      },
      "source": [
        "log"
      ],
      "execution_count": 0,
      "outputs": [
        {
          "output_type": "error",
          "ename": "NameError",
          "evalue": "ignored",
          "traceback": [
            "\u001b[0;31m---------------------------------------------------------------------------\u001b[0m",
            "\u001b[0;31mNameError\u001b[0m                                 Traceback (most recent call last)",
            "\u001b[0;32m<ipython-input-44-4508c1b19b88>\u001b[0m in \u001b[0;36m<module>\u001b[0;34m()\u001b[0m\n\u001b[0;32m----> 1\u001b[0;31m \u001b[0mlog\u001b[0m\u001b[0;34m\u001b[0m\u001b[0;34m\u001b[0m\u001b[0m\n\u001b[0m",
            "\u001b[0;31mNameError\u001b[0m: name 'log' is not defined"
          ]
        }
      ]
    },
    {
      "cell_type": "code",
      "metadata": {
        "id": "TjdrADboXliJ",
        "colab_type": "code",
        "colab": {}
      },
      "source": [
        "_dummy_debug_function(5, '234', 5.2, hola='pass', foo='bar')"
      ],
      "execution_count": 0,
      "outputs": []
    },
    {
      "cell_type": "code",
      "metadata": {
        "id": "3xYc5_3SX6hJ",
        "colab_type": "code",
        "colab": {}
      },
      "source": [
        ""
      ],
      "execution_count": 0,
      "outputs": []
    }
  ]
}