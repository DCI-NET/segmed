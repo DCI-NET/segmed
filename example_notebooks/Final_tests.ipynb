{
  "nbformat": 4,
  "nbformat_minor": 0,
  "metadata": {
    "colab": {
      "name": "Final_tests.ipynb",
      "provenance": [],
      "collapsed_sections": []
    },
    "kernelspec": {
      "name": "python3",
      "display_name": "Python 3"
    },
    "accelerator": "GPU"
  },
  "cells": [
    {
      "cell_type": "code",
      "metadata": {
        "id": "vit-FBqoCZOO",
        "colab_type": "code",
        "colab": {
          "base_uri": "https://localhost:8080/",
          "height": 35
        },
        "outputId": "e319e71d-7c07-4a5a-b87b-a56b3c7c643c"
      },
      "source": [
        "!ls drive"
      ],
      "execution_count": 1,
      "outputs": [
        {
          "output_type": "stream",
          "text": [
            "ls: cannot access 'drive': No such file or directory\n"
          ],
          "name": "stdout"
        }
      ]
    },
    {
      "cell_type": "code",
      "metadata": {
        "id": "8rMJ4LlXC6-k",
        "colab_type": "code",
        "colab": {
          "base_uri": "https://localhost:8080/",
          "height": 1000
        },
        "outputId": "c992771f-c128-4f73-ca19-e4752ab83bdd"
      },
      "source": [
        "!apt install jq\n",
        "!pip install git+https://github.com/gmagannaDevelop/segnet.git@mru_tests"
      ],
      "execution_count": 1,
      "outputs": [
        {
          "output_type": "stream",
          "text": [
            "Reading package lists... Done\n",
            "Building dependency tree       \n",
            "Reading state information... Done\n",
            "The following package was automatically installed and is no longer required:\n",
            "  libnvidia-common-430\n",
            "Use 'apt autoremove' to remove it.\n",
            "The following additional packages will be installed:\n",
            "  libjq1 libonig4\n",
            "The following NEW packages will be installed:\n",
            "  jq libjq1 libonig4\n",
            "0 upgraded, 3 newly installed, 0 to remove and 7 not upgraded.\n",
            "Need to get 276 kB of archives.\n",
            "After this operation, 930 kB of additional disk space will be used.\n",
            "Get:1 http://archive.ubuntu.com/ubuntu bionic/universe amd64 libonig4 amd64 6.7.0-1 [119 kB]\n",
            "Get:2 http://archive.ubuntu.com/ubuntu bionic/universe amd64 libjq1 amd64 1.5+dfsg-2 [111 kB]\n",
            "Get:3 http://archive.ubuntu.com/ubuntu bionic/universe amd64 jq amd64 1.5+dfsg-2 [45.6 kB]\n",
            "Fetched 276 kB in 1s (379 kB/s)\n",
            "Selecting previously unselected package libonig4:amd64.\n",
            "(Reading database ... 145674 files and directories currently installed.)\n",
            "Preparing to unpack .../libonig4_6.7.0-1_amd64.deb ...\n",
            "Unpacking libonig4:amd64 (6.7.0-1) ...\n",
            "Selecting previously unselected package libjq1:amd64.\n",
            "Preparing to unpack .../libjq1_1.5+dfsg-2_amd64.deb ...\n",
            "Unpacking libjq1:amd64 (1.5+dfsg-2) ...\n",
            "Selecting previously unselected package jq.\n",
            "Preparing to unpack .../jq_1.5+dfsg-2_amd64.deb ...\n",
            "Unpacking jq (1.5+dfsg-2) ...\n",
            "Setting up libonig4:amd64 (6.7.0-1) ...\n",
            "Setting up libjq1:amd64 (1.5+dfsg-2) ...\n",
            "Setting up jq (1.5+dfsg-2) ...\n",
            "Processing triggers for man-db (2.8.3-2ubuntu0.1) ...\n",
            "Processing triggers for libc-bin (2.27-3ubuntu1) ...\n",
            "Collecting git+https://github.com/gmagannaDevelop/segnet.git@mru_tests\n",
            "  Cloning https://github.com/gmagannaDevelop/segnet.git (to revision mru_tests) to /tmp/pip-req-build-cvp5_3_3\n",
            "  Running command git clone -q https://github.com/gmagannaDevelop/segnet.git /tmp/pip-req-build-cvp5_3_3\n",
            "  Running command git checkout -b mru_tests --track origin/mru_tests\n",
            "  Switched to a new branch 'mru_tests'\n",
            "  Branch 'mru_tests' set up to track remote branch 'mru_tests' from 'origin'.\n",
            "Requirement already satisfied: absl-py in /usr/local/lib/python3.6/dist-packages (from segnet==0.4) (0.9.0)\n",
            "Collecting appdirs\n",
            "  Downloading https://files.pythonhosted.org/packages/56/eb/810e700ed1349edde4cbdc1b2a21e28cdf115f9faf263f6bbf8447c1abf3/appdirs-1.4.3-py2.py3-none-any.whl\n",
            "Requirement already satisfied: astor in /usr/local/lib/python3.6/dist-packages (from segnet==0.4) (0.8.1)\n",
            "Collecting astroid\n",
            "\u001b[?25l  Downloading https://files.pythonhosted.org/packages/ad/ae/86734823047962e7b8c8529186a1ac4a7ca19aaf1aa0c7713c022ef593fd/astroid-2.3.3-py3-none-any.whl (205kB)\n",
            "\u001b[K     |████████████████████████████████| 215kB 4.8MB/s \n",
            "\u001b[?25hRequirement already satisfied: atomicwrites in /usr/local/lib/python3.6/dist-packages (from segnet==0.4) (1.3.0)\n",
            "Requirement already satisfied: attrs in /usr/local/lib/python3.6/dist-packages (from segnet==0.4) (19.3.0)\n",
            "Collecting black\n",
            "\u001b[?25l  Downloading https://files.pythonhosted.org/packages/fd/bb/ad34bbc93d1bea3de086d7c59e528d4a503ac8fe318bd1fa48605584c3d2/black-19.10b0-py36-none-any.whl (97kB)\n",
            "\u001b[K     |████████████████████████████████| 102kB 6.7MB/s \n",
            "\u001b[?25hRequirement already satisfied: click in /usr/local/lib/python3.6/dist-packages (from segnet==0.4) (7.0)\n",
            "Requirement already satisfied: cycler in /usr/local/lib/python3.6/dist-packages (from segnet==0.4) (0.10.0)\n",
            "Requirement already satisfied: decorator in /usr/local/lib/python3.6/dist-packages (from segnet==0.4) (4.4.1)\n",
            "Requirement already satisfied: gast in /usr/local/lib/python3.6/dist-packages (from segnet==0.4) (0.2.2)\n",
            "Requirement already satisfied: google-pasta in /usr/local/lib/python3.6/dist-packages (from segnet==0.4) (0.1.8)\n",
            "Requirement already satisfied: grpcio in /usr/local/lib/python3.6/dist-packages (from segnet==0.4) (1.15.0)\n",
            "Requirement already satisfied: h5py in /usr/local/lib/python3.6/dist-packages (from segnet==0.4) (2.8.0)\n",
            "Requirement already satisfied: imageio in /usr/local/lib/python3.6/dist-packages (from segnet==0.4) (2.4.1)\n",
            "Requirement already satisfied: importlib-metadata in /usr/local/lib/python3.6/dist-packages (from segnet==0.4) (1.4.0)\n",
            "Collecting isort\n",
            "\u001b[?25l  Downloading https://files.pythonhosted.org/packages/e5/b0/c121fd1fa3419ea9bfd55c7f9c4fedfec5143208d8c7ad3ce3db6c623c21/isort-4.3.21-py2.py3-none-any.whl (42kB)\n",
            "\u001b[K     |████████████████████████████████| 51kB 7.2MB/s \n",
            "\u001b[?25hRequirement already satisfied: joblib in /usr/local/lib/python3.6/dist-packages (from segnet==0.4) (0.14.1)\n",
            "Requirement already satisfied: kiwisolver in /usr/local/lib/python3.6/dist-packages (from segnet==0.4) (1.1.0)\n",
            "Collecting lazy-object-proxy\n",
            "\u001b[?25l  Downloading https://files.pythonhosted.org/packages/0b/dd/b1e3407e9e6913cf178e506cd0dee818e58694d9a5cd1984e3f6a8b9a10f/lazy_object_proxy-1.4.3-cp36-cp36m-manylinux1_x86_64.whl (55kB)\n",
            "\u001b[K     |████████████████████████████████| 61kB 8.0MB/s \n",
            "\u001b[?25hRequirement already satisfied: markdown in /usr/local/lib/python3.6/dist-packages (from segnet==0.4) (3.1.1)\n",
            "Requirement already satisfied: matplotlib in /usr/local/lib/python3.6/dist-packages (from segnet==0.4) (3.1.2)\n",
            "Collecting mccabe\n",
            "  Downloading https://files.pythonhosted.org/packages/87/89/479dc97e18549e21354893e4ee4ef36db1d237534982482c3681ee6e7b57/mccabe-0.6.1-py2.py3-none-any.whl\n",
            "Requirement already satisfied: more-itertools in /usr/local/lib/python3.6/dist-packages (from segnet==0.4) (8.0.2)\n",
            "Requirement already satisfied: networkx in /usr/local/lib/python3.6/dist-packages (from segnet==0.4) (2.4)\n",
            "Requirement already satisfied: numpy in /usr/local/lib/python3.6/dist-packages (from segnet==0.4) (1.17.5)\n",
            "Requirement already satisfied: opt-einsum in /usr/local/lib/python3.6/dist-packages (from segnet==0.4) (3.1.0)\n",
            "Requirement already satisfied: packaging in /usr/local/lib/python3.6/dist-packages (from segnet==0.4) (20.0)\n",
            "Requirement already satisfied: pandas in /usr/local/lib/python3.6/dist-packages (from segnet==0.4) (0.25.3)\n",
            "Requirement already satisfied: pillow in /usr/local/lib/python3.6/dist-packages (from segnet==0.4) (6.2.2)\n",
            "Requirement already satisfied: pluggy in /usr/local/lib/python3.6/dist-packages (from segnet==0.4) (0.7.1)\n",
            "Requirement already satisfied: protobuf in /usr/local/lib/python3.6/dist-packages (from segnet==0.4) (3.10.0)\n",
            "Requirement already satisfied: py in /usr/local/lib/python3.6/dist-packages (from segnet==0.4) (1.8.1)\n",
            "Collecting pylint\n",
            "\u001b[?25l  Downloading https://files.pythonhosted.org/packages/e9/59/43fc36c5ee316bb9aeb7cf5329cdbdca89e5749c34d5602753827c0aa2dc/pylint-2.4.4-py3-none-any.whl (302kB)\n",
            "\u001b[K     |████████████████████████████████| 307kB 10.8MB/s \n",
            "\u001b[?25hRequirement already satisfied: pyparsing in /usr/local/lib/python3.6/dist-packages (from segnet==0.4) (2.4.6)\n",
            "Requirement already satisfied: pytest in /usr/local/lib/python3.6/dist-packages (from segnet==0.4) (3.6.4)\n",
            "Requirement already satisfied: python-dateutil in /usr/local/lib/python3.6/dist-packages (from segnet==0.4) (2.6.1)\n",
            "Requirement already satisfied: pytz in /usr/local/lib/python3.6/dist-packages (from segnet==0.4) (2018.9)\n",
            "Requirement already satisfied: pywavelets in /usr/local/lib/python3.6/dist-packages (from segnet==0.4) (1.1.1)\n",
            "Requirement already satisfied: pyyaml in /usr/local/lib/python3.6/dist-packages (from segnet==0.4) (3.13)\n",
            "Requirement already satisfied: scikit-image in /usr/local/lib/python3.6/dist-packages (from segnet==0.4) (0.16.2)\n",
            "Requirement already satisfied: scikit-learn in /usr/local/lib/python3.6/dist-packages (from segnet==0.4) (0.22.1)\n",
            "Requirement already satisfied: scipy in /usr/local/lib/python3.6/dist-packages (from segnet==0.4) (1.4.1)\n",
            "Requirement already satisfied: seaborn in /usr/local/lib/python3.6/dist-packages (from segnet==0.4) (0.9.0)\n",
            "Requirement already satisfied: six in /usr/local/lib/python3.6/dist-packages (from segnet==0.4) (1.12.0)\n",
            "Requirement already satisfied: tensorflow in /usr/local/lib/python3.6/dist-packages (from segnet==0.4) (1.15.0)\n",
            "Requirement already satisfied: termcolor in /usr/local/lib/python3.6/dist-packages (from segnet==0.4) (1.1.0)\n",
            "Collecting toml\n",
            "  Downloading https://files.pythonhosted.org/packages/a2/12/ced7105d2de62fa7c8fb5fce92cc4ce66b57c95fb875e9318dba7f8c5db0/toml-0.10.0-py2.py3-none-any.whl\n",
            "Collecting typed-ast\n",
            "\u001b[?25l  Downloading https://files.pythonhosted.org/packages/90/ed/5459080d95eb87a02fe860d447197be63b6e2b5e9ff73c2b0a85622994f4/typed_ast-1.4.1-cp36-cp36m-manylinux1_x86_64.whl (737kB)\n",
            "\u001b[K     |████████████████████████████████| 747kB 18.9MB/s \n",
            "\u001b[?25hRequirement already satisfied: wcwidth in /usr/local/lib/python3.6/dist-packages (from segnet==0.4) (0.1.8)\n",
            "Requirement already satisfied: werkzeug in /usr/local/lib/python3.6/dist-packages (from segnet==0.4) (0.16.0)\n",
            "Requirement already satisfied: wrapt in /usr/local/lib/python3.6/dist-packages (from segnet==0.4) (1.11.2)\n",
            "Requirement already satisfied: zipp in /usr/local/lib/python3.6/dist-packages (from segnet==0.4) (1.0.0)\n",
            "Collecting gputil\n",
            "  Downloading https://files.pythonhosted.org/packages/ed/0e/5c61eedde9f6c87713e89d794f01e378cfd9565847d4576fa627d758c554/GPUtil-1.4.0.tar.gz\n",
            "Requirement already satisfied: regex in /usr/local/lib/python3.6/dist-packages (from black->segnet==0.4) (2019.12.20)\n",
            "Collecting pathspec<1,>=0.6\n",
            "  Downloading https://files.pythonhosted.org/packages/34/fa/c5cc4f796eb954b56fd1f6c7c315647b18b027e0736c9ae87b73bbb1f933/pathspec-0.7.0-py2.py3-none-any.whl\n",
            "Requirement already satisfied: setuptools in /usr/local/lib/python3.6/dist-packages (from kiwisolver->segnet==0.4) (42.0.2)\n",
            "Requirement already satisfied: tensorflow-estimator==1.15.1 in /usr/local/lib/python3.6/dist-packages (from tensorflow->segnet==0.4) (1.15.1)\n",
            "Requirement already satisfied: keras-applications>=1.0.8 in /usr/local/lib/python3.6/dist-packages (from tensorflow->segnet==0.4) (1.0.8)\n",
            "Requirement already satisfied: keras-preprocessing>=1.0.5 in /usr/local/lib/python3.6/dist-packages (from tensorflow->segnet==0.4) (1.1.0)\n",
            "Requirement already satisfied: wheel>=0.26 in /usr/local/lib/python3.6/dist-packages (from tensorflow->segnet==0.4) (0.33.6)\n",
            "Requirement already satisfied: tensorboard<1.16.0,>=1.15.0 in /usr/local/lib/python3.6/dist-packages (from tensorflow->segnet==0.4) (1.15.0)\n",
            "Building wheels for collected packages: segnet, gputil\n",
            "  Building wheel for segnet (setup.py) ... \u001b[?25l\u001b[?25hdone\n",
            "  Created wheel for segnet: filename=segnet-0.4-cp36-none-any.whl size=32930 sha256=2d9438256c7577d6edf0c0b0341033760e0b22a7e35995bff13349fc755eb922\n",
            "  Stored in directory: /tmp/pip-ephem-wheel-cache-upqip9gz/wheels/f1/c1/51/0ee27f445c3a618413714a84d4f5500547456389437a85a87f\n",
            "  Building wheel for gputil (setup.py) ... \u001b[?25l\u001b[?25hdone\n",
            "  Created wheel for gputil: filename=GPUtil-1.4.0-cp36-none-any.whl size=7410 sha256=8b3df990937100195ffc3e53003eeeddf64bc88d5e7cd84c89ce8cc3c0b3ffb9\n",
            "  Stored in directory: /root/.cache/pip/wheels/3d/77/07/80562de4bb0786e5ea186911a2c831fdd0018bda69beab71fd\n",
            "Successfully built segnet gputil\n",
            "Installing collected packages: appdirs, typed-ast, lazy-object-proxy, astroid, toml, pathspec, black, isort, mccabe, pylint, gputil, segnet\n",
            "Successfully installed appdirs-1.4.3 astroid-2.3.3 black-19.10b0 gputil-1.4.0 isort-4.3.21 lazy-object-proxy-1.4.3 mccabe-0.6.1 pathspec-0.7.0 pylint-2.4.4 segnet-0.4 toml-0.10.0 typed-ast-1.4.1\n"
          ],
          "name": "stdout"
        }
      ]
    },
    {
      "cell_type": "code",
      "metadata": {
        "id": "7aA8mMJKDklb",
        "colab_type": "code",
        "colab": {
          "base_uri": "https://localhost:8080/",
          "height": 190
        },
        "outputId": "568b4528-d7f6-4dd9-ca1e-7f2c3779a5f5"
      },
      "source": [
        "\n",
        "import os\n",
        "\n",
        "###############################################################\n",
        "import tensorflow as tf\n",
        "\n",
        "import segnet.metrics as mts\n",
        " \n",
        "from segnet.models import unet\n",
        "from segnet.models import multiresunet as mru\n",
        "from segnet.models import multiresunet2 as mru2\n",
        "from segnet.models import multiresunet3 as mru3\n",
        "from segnet.utils.Segmed import Segmed\n",
        "\n",
        "### Data-related\n",
        "from google.colab import drive, files\n",
        "drive.mount('/content/drive/')\n",
        "###############################################################\n",
        "### Not an import, but mandatory to be defined here :\n",
        "root_dir = \"drive/My Drive/Gus_Servicio_Profesional\"\n",
        "log_dir  = os.path.join(root_dir, \"Logs\")"
      ],
      "execution_count": 2,
      "outputs": [
        {
          "output_type": "display_data",
          "data": {
            "text/html": [
              "<p style=\"color: red;\">\n",
              "The default version of TensorFlow in Colab will soon switch to TensorFlow 2.x.<br>\n",
              "We recommend you <a href=\"https://www.tensorflow.org/guide/migrate\" target=\"_blank\">upgrade</a> now \n",
              "or ensure your notebook will continue to use TensorFlow 1.x via the <code>%tensorflow_version 1.x</code> magic:\n",
              "<a href=\"https://colab.research.google.com/notebooks/tensorflow_version.ipynb\" target=\"_blank\">more info</a>.</p>\n"
            ],
            "text/plain": [
              "<IPython.core.display.HTML object>"
            ]
          },
          "metadata": {
            "tags": []
          }
        },
        {
          "output_type": "stream",
          "text": [
            "Go to this URL in a browser: https://accounts.google.com/o/oauth2/auth?client_id=947318989803-6bn6qk8qdgf4n4g3pfee6491hc0brc4i.apps.googleusercontent.com&redirect_uri=urn%3aietf%3awg%3aoauth%3a2.0%3aoob&response_type=code&scope=email%20https%3a%2f%2fwww.googleapis.com%2fauth%2fdocs.test%20https%3a%2f%2fwww.googleapis.com%2fauth%2fdrive%20https%3a%2f%2fwww.googleapis.com%2fauth%2fdrive.photos.readonly%20https%3a%2f%2fwww.googleapis.com%2fauth%2fpeopleapi.readonly\n",
            "\n",
            "Enter your authorization code:\n",
            "··········\n",
            "Mounted at /content/drive/\n"
          ],
          "name": "stdout"
        }
      ]
    },
    {
      "cell_type": "code",
      "metadata": {
        "id": "TOlK8YvjEVOR",
        "colab_type": "code",
        "colab": {}
      },
      "source": [
        "dataset_paths = { \n",
        "  \"isbi\":          \"drive/My Drive/Gus_Servicio_Profesional/Colab_data/ISBI_neural/structured\", \n",
        "  \"colonoscopy\":   \"drive/My Drive/Gus_Servicio_Profesional/Colab_data/colonoscopy\",   # Full original\n",
        "  \"dermoscopy80\":  \"drive/My Drive/Gus_Servicio_Profesional/Colab_data/dermoscopy80\",  # reduced to 80 images\n",
        "  \"dermoscopy150\": \"drive/My Drive/Gus_Servicio_Profesional/Colab_data/dermoscopy150\", # reduced to 150, \n",
        "  \"chinese1\":      \"drive/My Drive/Gus_Servicio_Profesional/Colab_data/Dataset 2\"      # Chinese dataset\n",
        "} "
      ],
      "execution_count": 0,
      "outputs": []
    },
    {
      "cell_type": "code",
      "metadata": {
        "id": "LIurE6-JF3Rh",
        "colab_type": "code",
        "colab": {}
      },
      "source": [
        "optimizers = {\n",
        "    \"chinese\": tf.keras.optimizers.SGD(learning_rate=0.06, momentum=0.2, nesterov=False),\n",
        "    \"Original Adam\": tf.keras.optimizers.Adam(beta_1=0.9, beta_2=0.999, epsilon=10e-8)\n",
        "}\n",
        "\n",
        "my_compiling_kw = {\n",
        "    'optimizer': optimizers[\"Original Adam\"],\n",
        "    'loss': 'binary_crossentropy',\n",
        "    'metrics': [\n",
        "      mts.jaccard_index, mts.dice_coef,\n",
        "      mts.O_Rate, mts.U_Rate, mts.Err_rate\n",
        "    ]\n",
        "}\n"
      ],
      "execution_count": 0,
      "outputs": []
    },
    {
      "cell_type": "code",
      "metadata": {
        "id": "WE1jeFjjTjEz",
        "colab_type": "code",
        "colab": {}
      },
      "source": [
        "dataset = dataset_paths[\"dermoscopy80\"]"
      ],
      "execution_count": 0,
      "outputs": []
    },
    {
      "cell_type": "code",
      "metadata": {
        "id": "5Sb-0zxYGe6o",
        "colab_type": "code",
        "colab": {
          "base_uri": "https://localhost:8080/",
          "height": 35
        },
        "outputId": "4b8a6f53-4f67-4da1-ab71-24df34fdd4ca"
      },
      "source": [
        "len(os.listdir(os.path.join(dataset, \"msks/masks\")))"
      ],
      "execution_count": 6,
      "outputs": [
        {
          "output_type": "execute_result",
          "data": {
            "text/plain": [
              "81"
            ]
          },
          "metadata": {
            "tags": []
          },
          "execution_count": 6
        }
      ]
    },
    {
      "cell_type": "code",
      "metadata": {
        "id": "D6OEn067Gco0",
        "colab_type": "code",
        "colab": {}
      },
      "source": [
        "my_hyper_params = {\n",
        "    'batch_size': 20,\n",
        "    'epochs': 15,\n",
        "    'steps_per_epoch': 4\n",
        "}"
      ],
      "execution_count": 0,
      "outputs": []
    },
    {
      "cell_type": "code",
      "metadata": {
        "id": "i9S4K_lGHQ4R",
        "colab_type": "code",
        "colab": {
          "base_uri": "https://localhost:8080/",
          "height": 90
        },
        "outputId": "add99965-2eac-41c7-d98e-a6425eab91b9"
      },
      "source": [
        "architectures = {\n",
        "  \"Unet\": unet(),\n",
        "  \"MultiResUNet Edwin\": mru.MultiResUnet(),\n",
        "  \"MultiResUNet Gustavo\": mru2.MultiResUNet(),\n",
        "  \"MultiResUNet Original\": mru3.MultiResUnet()\n",
        "}"
      ],
      "execution_count": 8,
      "outputs": [
        {
          "output_type": "stream",
          "text": [
            "WARNING:tensorflow:From /usr/local/lib/python3.6/dist-packages/tensorflow_core/python/ops/resource_variable_ops.py:1630: calling BaseResourceVariable.__init__ (from tensorflow.python.ops.resource_variable_ops) with constraint is deprecated and will be removed in a future version.\n",
            "Instructions for updating:\n",
            "If using Keras pass *_constraint arguments to layers.\n"
          ],
          "name": "stdout"
        }
      ]
    },
    {
      "cell_type": "code",
      "metadata": {
        "id": "H9Nh0aiCHhOy",
        "colab_type": "code",
        "colab": {}
      },
      "source": [
        "models = {\n",
        "    key: Segmed(\n",
        "        model = architectures[key],\n",
        "        name = key,\n",
        "        base_dir = log_dir,\n",
        "        data_path = dataset_paths[\"dermoscopy80\"],\n",
        "        author = \"Gustavo Magaña\"\n",
        "    )\n",
        "    for key in architectures.keys()\n",
        "}"
      ],
      "execution_count": 0,
      "outputs": []
    },
    {
      "cell_type": "code",
      "metadata": {
        "id": "DJ-7Cc-PH2Gx",
        "colab_type": "code",
        "colab": {
          "base_uri": "https://localhost:8080/",
          "height": 88
        },
        "outputId": "d9f48438-2934-4334-d269-0b3010de4221"
      },
      "source": [
        "models"
      ],
      "execution_count": 11,
      "outputs": [
        {
          "output_type": "execute_result",
          "data": {
            "text/plain": [
              "{'MultiResUNet Edwin': <segnet.utils.Segmed.Segmed at 0x7f4d0c9af5f8>,\n",
              " 'MultiResUNet Gustavo': <segnet.utils.Segmed.Segmed at 0x7f4d0c8458d0>,\n",
              " 'MultiResUNet Original': <segnet.utils.Segmed.Segmed at 0x7f4cb5d9b278>,\n",
              " 'Unet': <segnet.utils.Segmed.Segmed at 0x7f4cb5d9b080>}"
            ]
          },
          "metadata": {
            "tags": []
          },
          "execution_count": 11
        }
      ]
    },
    {
      "cell_type": "code",
      "metadata": {
        "id": "i2GVjgpXIbdR",
        "colab_type": "code",
        "colab": {}
      },
      "source": [
        "for model in models.values():\n",
        "  model.comment(\" Retrying using GPU accelerator, few epochs and the smallest dataset that I have. \")"
      ],
      "execution_count": 0,
      "outputs": []
    },
    {
      "cell_type": "code",
      "metadata": {
        "id": "4A7mDf-VIugU",
        "colab_type": "code",
        "colab": {
          "base_uri": "https://localhost:8080/",
          "height": 1000
        },
        "outputId": "9845c09d-1581-445b-ef4f-297cd20066da"
      },
      "source": [
        "for model in models.values():\n",
        "  model.train(\n",
        "    compiling_kw = my_compiling_kw,\n",
        "    hyper_params = my_hyper_params\n",
        "  )"
      ],
      "execution_count": 13,
      "outputs": [
        {
          "output_type": "stream",
          "text": [
            "WARNING:tensorflow:From /usr/local/lib/python3.6/dist-packages/tensorflow_core/python/ops/nn_impl.py:183: where (from tensorflow.python.ops.array_ops) is deprecated and will be removed in a future version.\n",
            "Instructions for updating:\n",
            "Use tf.where in 2.0, which has the same broadcast rule as np.where\n",
            "Found 64 images belonging to 1 classes.\n",
            "Found 64 images belonging to 1 classes.\n",
            "Found 16 images belonging to 1 classes.\n",
            "Found 16 images belonging to 1 classes.\n",
            "Epoch 1/15\n",
            "3/4 [=====================>........] - ETA: 9s - loss: 4.1070 - jaccard_index: 0.1599 - dice_coef: 0.2578 - O_Rate: 212753008.0000 - U_Rate: 0.0000e+00 - Err_rate: 212753008.0000 Epoch 1/15\n",
            "4/4 [==============================] - 14s 4s/step - loss: 0.5458 - jaccard_index: 0.1870 - dice_coef: 0.3150 - O_Rate: 146970000.0000 - U_Rate: 0.0000e+00 - Err_rate: 146970000.0000\n",
            "\n",
            "Epoch 00001: val_jaccard_index improved from -inf to 0.18697, saving model to drive/My Drive/Gus_Servicio_Profesional/Logs/Unet-(Gustavo Magaña)-(2020-02-01 19:52:46)/Unet-(Gustavo Magaña)-(2020-02-01 19:52:46)-model.h5\n",
            "4/4 [==============================] - 55s 14s/step - loss: 3.3493 - jaccard_index: 0.1718 - dice_coef: 0.2793 - O_Rate: 206482256.0000 - U_Rate: 0.0000e+00 - Err_rate: 206482256.0000 - val_loss: 0.5458 - val_jaccard_index: 0.1870 - val_dice_coef: 0.3150 - val_O_Rate: 146970000.0000 - val_U_Rate: 0.0000e+00 - val_Err_rate: 146970000.0000\n",
            "Epoch 2/15\n",
            "3/4 [=====================>........] - ETA: 1s - loss: 0.5985 - jaccard_index: 0.2347 - dice_coef: 0.3802 - O_Rate: 210215168.0000 - U_Rate: 0.0000e+00 - Err_rate: 210215168.0000Epoch 1/15\n",
            "4/4 [==============================] - 2s 501ms/step - loss: 0.5333 - jaccard_index: 0.1889 - dice_coef: 0.3177 - O_Rate: 146970000.0000 - U_Rate: 0.0000e+00 - Err_rate: 146970000.0000\n",
            "\n",
            "Epoch 00002: val_jaccard_index improved from 0.18697 to 0.18886, saving model to drive/My Drive/Gus_Servicio_Profesional/Logs/Unet-(Gustavo Magaña)-(2020-02-01 19:52:46)/Unet-(Gustavo Magaña)-(2020-02-01 19:52:46)-model.h5\n",
            "4/4 [==============================] - 8s 2s/step - loss: 0.5983 - jaccard_index: 0.2377 - dice_coef: 0.3841 - O_Rate: 214095744.0000 - U_Rate: 0.0000e+00 - Err_rate: 214095744.0000 - val_loss: 0.5333 - val_jaccard_index: 0.1889 - val_dice_coef: 0.3177 - val_O_Rate: 146970000.0000 - val_U_Rate: 0.0000e+00 - val_Err_rate: 146970000.0000\n",
            "Epoch 3/15\n",
            "3/4 [=====================>........] - ETA: 1s - loss: 0.5935 - jaccard_index: 0.2105 - dice_coef: 0.3468 - O_Rate: 210493680.0000 - U_Rate: 0.0000e+00 - Err_rate: 210493680.0000Epoch 1/15\n",
            "4/4 [==============================] - 2s 514ms/step - loss: 0.4819 - jaccard_index: 0.1934 - dice_coef: 0.3241 - O_Rate: 146970000.0000 - U_Rate: 0.0000e+00 - Err_rate: 146970000.0000\n",
            "\n",
            "Epoch 00003: val_jaccard_index improved from 0.18886 to 0.19340, saving model to drive/My Drive/Gus_Servicio_Profesional/Logs/Unet-(Gustavo Magaña)-(2020-02-01 19:52:46)/Unet-(Gustavo Magaña)-(2020-02-01 19:52:46)-model.h5\n",
            "4/4 [==============================] - 8s 2s/step - loss: 0.5877 - jaccard_index: 0.2184 - dice_coef: 0.3575 - O_Rate: 213260256.0000 - U_Rate: 0.0000e+00 - Err_rate: 213260256.0000 - val_loss: 0.4819 - val_jaccard_index: 0.1934 - val_dice_coef: 0.3241 - val_O_Rate: 146970000.0000 - val_U_Rate: 0.0000e+00 - val_Err_rate: 146970000.0000\n",
            "Epoch 4/15\n",
            "3/4 [=====================>........] - ETA: 1s - loss: 0.5455 - jaccard_index: 0.2278 - dice_coef: 0.3710 - O_Rate: 207065520.0000 - U_Rate: 0.0000e+00 - Err_rate: 207065520.0000Epoch 1/15\n",
            "4/4 [==============================] - 2s 519ms/step - loss: 0.4325 - jaccard_index: 0.2066 - dice_coef: 0.3425 - O_Rate: 146970000.0000 - U_Rate: 0.0000e+00 - Err_rate: 146970000.0000\n",
            "\n",
            "Epoch 00004: val_jaccard_index improved from 0.19340 to 0.20663, saving model to drive/My Drive/Gus_Servicio_Profesional/Logs/Unet-(Gustavo Magaña)-(2020-02-01 19:52:46)/Unet-(Gustavo Magaña)-(2020-02-01 19:52:46)-model.h5\n",
            "4/4 [==============================] - 8s 2s/step - loss: 0.5582 - jaccard_index: 0.2380 - dice_coef: 0.3842 - O_Rate: 223544768.0000 - U_Rate: 0.0000e+00 - Err_rate: 223544768.0000 - val_loss: 0.4325 - val_jaccard_index: 0.2066 - val_dice_coef: 0.3425 - val_O_Rate: 146970000.0000 - val_U_Rate: 0.0000e+00 - val_Err_rate: 146970000.0000\n",
            "Epoch 5/15\n",
            "3/4 [=====================>........] - ETA: 1s - loss: 0.5248 - jaccard_index: 0.2437 - dice_coef: 0.3917 - O_Rate: 213586000.0000 - U_Rate: 0.0000e+00 - Err_rate: 213586000.0000Epoch 1/15\n",
            "4/4 [==============================] - 2s 596ms/step - loss: 0.3650 - jaccard_index: 0.2468 - dice_coef: 0.3958 - O_Rate: 146970000.0000 - U_Rate: 0.0000e+00 - Err_rate: 146970000.0000\n",
            "\n",
            "Epoch 00005: val_jaccard_index improved from 0.20663 to 0.24676, saving model to drive/My Drive/Gus_Servicio_Profesional/Logs/Unet-(Gustavo Magaña)-(2020-02-01 19:52:46)/Unet-(Gustavo Magaña)-(2020-02-01 19:52:46)-model.h5\n",
            "4/4 [==============================] - 8s 2s/step - loss: 0.5123 - jaccard_index: 0.2381 - dice_coef: 0.3844 - O_Rate: 203983264.0000 - U_Rate: 0.0000e+00 - Err_rate: 203983264.0000 - val_loss: 0.3650 - val_jaccard_index: 0.2468 - val_dice_coef: 0.3958 - val_O_Rate: 146970000.0000 - val_U_Rate: 0.0000e+00 - val_Err_rate: 146970000.0000\n",
            "Epoch 6/15\n",
            "3/4 [=====================>........] - ETA: 1s - loss: 0.5320 - jaccard_index: 0.2710 - dice_coef: 0.4263 - O_Rate: 214390336.0000 - U_Rate: 0.0000e+00 - Err_rate: 214390336.0000Epoch 1/15\n",
            "4/4 [==============================] - 2s 524ms/step - loss: 0.3510 - jaccard_index: 0.2541 - dice_coef: 0.4052 - O_Rate: 146970000.0000 - U_Rate: 0.0000e+00 - Err_rate: 146970000.0000\n",
            "\n",
            "Epoch 00006: val_jaccard_index improved from 0.24676 to 0.25410, saving model to drive/My Drive/Gus_Servicio_Profesional/Logs/Unet-(Gustavo Magaña)-(2020-02-01 19:52:46)/Unet-(Gustavo Magaña)-(2020-02-01 19:52:46)-model.h5\n",
            "4/4 [==============================] - 8s 2s/step - loss: 0.5121 - jaccard_index: 0.2569 - dice_coef: 0.4081 - O_Rate: 201570256.0000 - U_Rate: 0.0000e+00 - Err_rate: 201570256.0000 - val_loss: 0.3510 - val_jaccard_index: 0.2541 - val_dice_coef: 0.4052 - val_O_Rate: 146970000.0000 - val_U_Rate: 0.0000e+00 - val_Err_rate: 146970000.0000\n",
            "Epoch 7/15\n",
            "3/4 [=====================>........] - ETA: 1s - loss: 0.4905 - jaccard_index: 0.2686 - dice_coef: 0.4231 - O_Rate: 211520848.0000 - U_Rate: 0.0000e+00 - Err_rate: 211520848.0000Epoch 1/15\n",
            "4/4 [==============================] - 2s 515ms/step - loss: 0.3967 - jaccard_index: 0.2515 - dice_coef: 0.4019 - O_Rate: 146970000.0000 - U_Rate: 0.0000e+00 - Err_rate: 146970000.0000\n",
            "\n",
            "Epoch 00007: val_jaccard_index did not improve from 0.25410\n",
            "4/4 [==============================] - 6s 2s/step - loss: 0.5007 - jaccard_index: 0.2595 - dice_coef: 0.4116 - O_Rate: 210178768.0000 - U_Rate: 0.0000e+00 - Err_rate: 210178768.0000 - val_loss: 0.3967 - val_jaccard_index: 0.2515 - val_dice_coef: 0.4019 - val_O_Rate: 146970000.0000 - val_U_Rate: 0.0000e+00 - val_Err_rate: 146970000.0000\n",
            "Epoch 8/15\n",
            "3/4 [=====================>........] - ETA: 1s - loss: 0.4969 - jaccard_index: 0.2843 - dice_coef: 0.4424 - O_Rate: 217159504.0000 - U_Rate: 0.0000e+00 - Err_rate: 217159504.0000Epoch 1/15\n",
            "4/4 [==============================] - 3s 742ms/step - loss: 0.3274 - jaccard_index: 0.2733 - dice_coef: 0.4293 - O_Rate: 146970000.0000 - U_Rate: 0.0000e+00 - Err_rate: 146970000.0000\n",
            "\n",
            "Epoch 00008: val_jaccard_index improved from 0.25410 to 0.27328, saving model to drive/My Drive/Gus_Servicio_Profesional/Logs/Unet-(Gustavo Magaña)-(2020-02-01 19:52:46)/Unet-(Gustavo Magaña)-(2020-02-01 19:52:46)-model.h5\n",
            "4/4 [==============================] - 9s 2s/step - loss: 0.4545 - jaccard_index: 0.2798 - dice_coef: 0.4369 - O_Rate: 193262752.0000 - U_Rate: 0.0000e+00 - Err_rate: 193262752.0000 - val_loss: 0.3274 - val_jaccard_index: 0.2733 - val_dice_coef: 0.4293 - val_O_Rate: 146970000.0000 - val_U_Rate: 0.0000e+00 - val_Err_rate: 146970000.0000\n",
            "Epoch 9/15\n",
            "3/4 [=====================>........] - ETA: 1s - loss: 0.4868 - jaccard_index: 0.2684 - dice_coef: 0.4231 - O_Rate: 208159344.0000 - U_Rate: 0.0000e+00 - Err_rate: 208159344.0000Epoch 1/15\n",
            "4/4 [==============================] - 2s 492ms/step - loss: 0.3088 - jaccard_index: 0.2943 - dice_coef: 0.4547 - O_Rate: 146970000.0000 - U_Rate: 0.0000e+00 - Err_rate: 146970000.0000\n",
            "\n",
            "Epoch 00009: val_jaccard_index improved from 0.27328 to 0.29429, saving model to drive/My Drive/Gus_Servicio_Profesional/Logs/Unet-(Gustavo Magaña)-(2020-02-01 19:52:46)/Unet-(Gustavo Magaña)-(2020-02-01 19:52:46)-model.h5\n",
            "4/4 [==============================] - 8s 2s/step - loss: 0.5069 - jaccard_index: 0.2716 - dice_coef: 0.4271 - O_Rate: 220263264.0000 - U_Rate: 0.0000e+00 - Err_rate: 220263264.0000 - val_loss: 0.3088 - val_jaccard_index: 0.2943 - val_dice_coef: 0.4547 - val_O_Rate: 146970000.0000 - val_U_Rate: 0.0000e+00 - val_Err_rate: 146970000.0000\n",
            "Epoch 10/15\n",
            "3/4 [=====================>........] - ETA: 1s - loss: 0.4554 - jaccard_index: 0.2965 - dice_coef: 0.4573 - O_Rate: 210643184.0000 - U_Rate: 0.0000e+00 - Err_rate: 210643184.0000Epoch 1/15\n",
            "4/4 [==============================] - 2s 522ms/step - loss: 0.3443 - jaccard_index: 0.2815 - dice_coef: 0.4394 - O_Rate: 146970000.0000 - U_Rate: 0.0000e+00 - Err_rate: 146970000.0000\n",
            "\n",
            "Epoch 00010: val_jaccard_index did not improve from 0.29429\n",
            "4/4 [==============================] - 6s 2s/step - loss: 0.4684 - jaccard_index: 0.2907 - dice_coef: 0.4503 - O_Rate: 212811760.0000 - U_Rate: 0.0000e+00 - Err_rate: 212811760.0000 - val_loss: 0.3443 - val_jaccard_index: 0.2815 - val_dice_coef: 0.4394 - val_O_Rate: 146970000.0000 - val_U_Rate: 0.0000e+00 - val_Err_rate: 146970000.0000\n",
            "Epoch 11/15\n",
            "3/4 [=====================>........] - ETA: 1s - loss: 0.4559 - jaccard_index: 0.3025 - dice_coef: 0.4643 - O_Rate: 211267008.0000 - U_Rate: 0.0000e+00 - Err_rate: 211267008.0000Epoch 1/15\n",
            "4/4 [==============================] - 3s 731ms/step - loss: 0.2821 - jaccard_index: 0.3239 - dice_coef: 0.4893 - O_Rate: 146970000.0000 - U_Rate: 0.0000e+00 - Err_rate: 146970000.0000\n",
            "\n",
            "Epoch 00011: val_jaccard_index improved from 0.29429 to 0.32393, saving model to drive/My Drive/Gus_Servicio_Profesional/Logs/Unet-(Gustavo Magaña)-(2020-02-01 19:52:46)/Unet-(Gustavo Magaña)-(2020-02-01 19:52:46)-model.h5\n",
            "4/4 [==============================] - 9s 2s/step - loss: 0.4419 - jaccard_index: 0.3099 - dice_coef: 0.4729 - O_Rate: 210940256.0000 - U_Rate: 0.0000e+00 - Err_rate: 210940256.0000 - val_loss: 0.2821 - val_jaccard_index: 0.3239 - val_dice_coef: 0.4893 - val_O_Rate: 146970000.0000 - val_U_Rate: 0.0000e+00 - val_Err_rate: 146970000.0000\n",
            "Epoch 12/15\n",
            "3/4 [=====================>........] - ETA: 1s - loss: 0.4330 - jaccard_index: 0.3116 - dice_coef: 0.4751 - O_Rate: 209444496.0000 - U_Rate: 0.0000e+00 - Err_rate: 209444496.0000Epoch 1/15\n",
            "4/4 [==============================] - 2s 508ms/step - loss: 0.2919 - jaccard_index: 0.3149 - dice_coef: 0.4790 - O_Rate: 146970000.0000 - U_Rate: 0.0000e+00 - Err_rate: 146970000.0000\n",
            "\n",
            "Epoch 00012: val_jaccard_index did not improve from 0.32393\n",
            "4/4 [==============================] - 6s 2s/step - loss: 0.4460 - jaccard_index: 0.3082 - dice_coef: 0.4711 - O_Rate: 216407744.0000 - U_Rate: 0.0000e+00 - Err_rate: 216407744.0000 - val_loss: 0.2919 - val_jaccard_index: 0.3149 - val_dice_coef: 0.4790 - val_O_Rate: 146970000.0000 - val_U_Rate: 0.0000e+00 - val_Err_rate: 146970000.0000\n",
            "Epoch 13/15\n",
            "3/4 [=====================>........] - ETA: 1s - loss: 0.4317 - jaccard_index: 0.3167 - dice_coef: 0.4808 - O_Rate: 211974992.0000 - U_Rate: 0.0000e+00 - Err_rate: 211974992.0000Epoch 1/15\n",
            "4/4 [==============================] - 3s 694ms/step - loss: 0.2863 - jaccard_index: 0.3235 - dice_coef: 0.4889 - O_Rate: 146970000.0000 - U_Rate: 0.0000e+00 - Err_rate: 146970000.0000\n",
            "\n",
            "Epoch 00013: val_jaccard_index did not improve from 0.32393\n",
            "4/4 [==============================] - 7s 2s/step - loss: 0.4304 - jaccard_index: 0.3136 - dice_coef: 0.4772 - O_Rate: 208816256.0000 - U_Rate: 0.0000e+00 - Err_rate: 208816256.0000 - val_loss: 0.2863 - val_jaccard_index: 0.3235 - val_dice_coef: 0.4889 - val_O_Rate: 146970000.0000 - val_U_Rate: 0.0000e+00 - val_Err_rate: 146970000.0000\n",
            "Epoch 14/15\n",
            "3/4 [=====================>........] - ETA: 1s - loss: 0.4205 - jaccard_index: 0.3202 - dice_coef: 0.4850 - O_Rate: 208391680.0000 - U_Rate: 0.0000e+00 - Err_rate: 208391680.0000Epoch 1/15\n",
            "4/4 [==============================] - 2s 600ms/step - loss: 0.3086 - jaccard_index: 0.3141 - dice_coef: 0.4780 - O_Rate: 146970000.0000 - U_Rate: 0.0000e+00 - Err_rate: 146970000.0000\n",
            "\n",
            "Epoch 00014: val_jaccard_index did not improve from 0.32393\n",
            "4/4 [==============================] - 7s 2s/step - loss: 0.4356 - jaccard_index: 0.3261 - dice_coef: 0.4917 - O_Rate: 219566256.0000 - U_Rate: 0.0000e+00 - Err_rate: 219566256.0000 - val_loss: 0.3086 - val_jaccard_index: 0.3141 - val_dice_coef: 0.4780 - val_O_Rate: 146970000.0000 - val_U_Rate: 0.0000e+00 - val_Err_rate: 146970000.0000\n",
            "Epoch 15/15\n",
            "3/4 [=====================>........] - ETA: 1s - loss: 0.3961 - jaccard_index: 0.3454 - dice_coef: 0.5133 - O_Rate: 210319504.0000 - U_Rate: 0.0000e+00 - Err_rate: 210319504.0000Epoch 1/15\n",
            "4/4 [==============================] - 2s 557ms/step - loss: 0.2872 - jaccard_index: 0.3351 - dice_coef: 0.5020 - O_Rate: 146970000.0000 - U_Rate: 0.0000e+00 - Err_rate: 146970000.0000\n",
            "\n",
            "Epoch 00015: val_jaccard_index improved from 0.32393 to 0.33512, saving model to drive/My Drive/Gus_Servicio_Profesional/Logs/Unet-(Gustavo Magaña)-(2020-02-01 19:52:46)/Unet-(Gustavo Magaña)-(2020-02-01 19:52:46)-model.h5\n",
            "4/4 [==============================] - 9s 2s/step - loss: 0.5073 - jaccard_index: 0.3035 - dice_coef: 0.4605 - O_Rate: 213782752.0000 - U_Rate: 0.0000e+00 - Err_rate: 213782752.0000 - val_loss: 0.2872 - val_jaccard_index: 0.3351 - val_dice_coef: 0.5020 - val_O_Rate: 146970000.0000 - val_U_Rate: 0.0000e+00 - val_Err_rate: 146970000.0000\n",
            "History saved to drive/My Drive/Gus_Servicio_Profesional/Logs/Unet-(Gustavo Magaña)-(2020-02-01 19:52:46)/Unet-(Gustavo Magaña)-(2020-02-01 19:52:46)-history.csv\n",
            "Found 64 images belonging to 1 classes.\n",
            "Found 64 images belonging to 1 classes.\n",
            "Found 16 images belonging to 1 classes.\n",
            "Found 16 images belonging to 1 classes.\n",
            "Epoch 1/15\n"
          ],
          "name": "stdout"
        },
        {
          "output_type": "error",
          "ename": "ResourceExhaustedError",
          "evalue": "ignored",
          "traceback": [
            "\u001b[0;31m---------------------------------------------------------------------------\u001b[0m",
            "\u001b[0;31mResourceExhaustedError\u001b[0m                    Traceback (most recent call last)",
            "\u001b[0;32m<ipython-input-13-6bbedc5341c4>\u001b[0m in \u001b[0;36m<module>\u001b[0;34m()\u001b[0m\n\u001b[1;32m      2\u001b[0m   model.train(\n\u001b[1;32m      3\u001b[0m     \u001b[0mcompiling_kw\u001b[0m \u001b[0;34m=\u001b[0m \u001b[0mmy_compiling_kw\u001b[0m\u001b[0;34m,\u001b[0m\u001b[0;34m\u001b[0m\u001b[0;34m\u001b[0m\u001b[0m\n\u001b[0;32m----> 4\u001b[0;31m     \u001b[0mhyper_params\u001b[0m \u001b[0;34m=\u001b[0m \u001b[0mmy_hyper_params\u001b[0m\u001b[0;34m\u001b[0m\u001b[0;34m\u001b[0m\u001b[0m\n\u001b[0m\u001b[1;32m      5\u001b[0m   )\n",
            "\u001b[0;32m/usr/local/lib/python3.6/dist-packages/segnet/utils/Segmed.py\u001b[0m in \u001b[0;36mtrain\u001b[0;34m(self, compiling_kw, model_checkpoint_kw, data_gen_args, hyper_params, verbose)\u001b[0m\n\u001b[1;32m    510\u001b[0m         \u001b[0msteps_per_epoch\u001b[0m\u001b[0;34m=\u001b[0m\u001b[0mself\u001b[0m\u001b[0;34m.\u001b[0m\u001b[0m_hyper_params\u001b[0m\u001b[0;34m[\u001b[0m\u001b[0;34m\"steps_per_epoch\"\u001b[0m\u001b[0;34m]\u001b[0m\u001b[0;34m,\u001b[0m\u001b[0;34m\u001b[0m\u001b[0;34m\u001b[0m\u001b[0m\n\u001b[1;32m    511\u001b[0m         \u001b[0mepochs\u001b[0m\u001b[0;34m=\u001b[0m\u001b[0mself\u001b[0m\u001b[0;34m.\u001b[0m\u001b[0m_hyper_params\u001b[0m\u001b[0;34m[\u001b[0m\u001b[0;34m\"epochs\"\u001b[0m\u001b[0;34m]\u001b[0m\u001b[0;34m,\u001b[0m\u001b[0;34m\u001b[0m\u001b[0;34m\u001b[0m\u001b[0m\n\u001b[0;32m--> 512\u001b[0;31m         \u001b[0muse_multiprocessing\u001b[0m\u001b[0;34m=\u001b[0m\u001b[0;32mTrue\u001b[0m\u001b[0;34m\u001b[0m\u001b[0;34m\u001b[0m\u001b[0m\n\u001b[0m\u001b[1;32m    513\u001b[0m     )\n\u001b[1;32m    514\u001b[0m \u001b[0;34m\u001b[0m\u001b[0m\n",
            "\u001b[0;32m/usr/local/lib/python3.6/dist-packages/segnet/utils/timing.py\u001b[0m in \u001b[0;36mwrap\u001b[0;34m(*args, **kw)\u001b[0m\n\u001b[1;32m     64\u001b[0m         \u001b[0;32mdef\u001b[0m \u001b[0mwrap\u001b[0m\u001b[0;34m(\u001b[0m\u001b[0;34m*\u001b[0m\u001b[0margs\u001b[0m\u001b[0;34m,\u001b[0m \u001b[0;34m**\u001b[0m\u001b[0mkw\u001b[0m\u001b[0;34m)\u001b[0m\u001b[0;34m:\u001b[0m\u001b[0;34m\u001b[0m\u001b[0;34m\u001b[0m\u001b[0m\n\u001b[1;32m     65\u001b[0m             \u001b[0mts\u001b[0m \u001b[0;34m=\u001b[0m \u001b[0mtime\u001b[0m\u001b[0;34m(\u001b[0m\u001b[0;34m)\u001b[0m\u001b[0;34m\u001b[0m\u001b[0;34m\u001b[0m\u001b[0m\n\u001b[0;32m---> 66\u001b[0;31m             \u001b[0mresult\u001b[0m \u001b[0;34m=\u001b[0m \u001b[0mf\u001b[0m\u001b[0;34m(\u001b[0m\u001b[0;34m*\u001b[0m\u001b[0margs\u001b[0m\u001b[0;34m,\u001b[0m \u001b[0;34m**\u001b[0m\u001b[0mkw\u001b[0m\u001b[0;34m)\u001b[0m\u001b[0;34m\u001b[0m\u001b[0;34m\u001b[0m\u001b[0m\n\u001b[0m\u001b[1;32m     67\u001b[0m             \u001b[0mte\u001b[0m \u001b[0;34m=\u001b[0m \u001b[0mtime\u001b[0m\u001b[0;34m(\u001b[0m\u001b[0;34m)\u001b[0m\u001b[0;34m\u001b[0m\u001b[0;34m\u001b[0m\u001b[0m\n\u001b[1;32m     68\u001b[0m             \u001b[0mexec_time\u001b[0m \u001b[0;34m=\u001b[0m \u001b[0mte\u001b[0m \u001b[0;34m-\u001b[0m \u001b[0mts\u001b[0m\u001b[0;34m\u001b[0m\u001b[0;34m\u001b[0m\u001b[0m\n",
            "\u001b[0;32m/usr/local/lib/python3.6/dist-packages/tensorflow_core/python/keras/engine/training.py\u001b[0m in \u001b[0;36mfit_generator\u001b[0;34m(self, generator, steps_per_epoch, epochs, verbose, callbacks, validation_data, validation_steps, validation_freq, class_weight, max_queue_size, workers, use_multiprocessing, shuffle, initial_epoch)\u001b[0m\n\u001b[1;32m   1294\u001b[0m         \u001b[0mshuffle\u001b[0m\u001b[0;34m=\u001b[0m\u001b[0mshuffle\u001b[0m\u001b[0;34m,\u001b[0m\u001b[0;34m\u001b[0m\u001b[0;34m\u001b[0m\u001b[0m\n\u001b[1;32m   1295\u001b[0m         \u001b[0minitial_epoch\u001b[0m\u001b[0;34m=\u001b[0m\u001b[0minitial_epoch\u001b[0m\u001b[0;34m,\u001b[0m\u001b[0;34m\u001b[0m\u001b[0;34m\u001b[0m\u001b[0m\n\u001b[0;32m-> 1296\u001b[0;31m         steps_name='steps_per_epoch')\n\u001b[0m\u001b[1;32m   1297\u001b[0m \u001b[0;34m\u001b[0m\u001b[0m\n\u001b[1;32m   1298\u001b[0m   def evaluate_generator(self,\n",
            "\u001b[0;32m/usr/local/lib/python3.6/dist-packages/tensorflow_core/python/keras/engine/training_generator.py\u001b[0m in \u001b[0;36mmodel_iteration\u001b[0;34m(model, data, steps_per_epoch, epochs, verbose, callbacks, validation_data, validation_steps, validation_freq, class_weight, max_queue_size, workers, use_multiprocessing, shuffle, initial_epoch, mode, batch_size, steps_name, **kwargs)\u001b[0m\n\u001b[1;32m    263\u001b[0m \u001b[0;34m\u001b[0m\u001b[0m\n\u001b[1;32m    264\u001b[0m       \u001b[0mis_deferred\u001b[0m \u001b[0;34m=\u001b[0m \u001b[0;32mnot\u001b[0m \u001b[0mmodel\u001b[0m\u001b[0;34m.\u001b[0m\u001b[0m_is_compiled\u001b[0m\u001b[0;34m\u001b[0m\u001b[0;34m\u001b[0m\u001b[0m\n\u001b[0;32m--> 265\u001b[0;31m       \u001b[0mbatch_outs\u001b[0m \u001b[0;34m=\u001b[0m \u001b[0mbatch_function\u001b[0m\u001b[0;34m(\u001b[0m\u001b[0;34m*\u001b[0m\u001b[0mbatch_data\u001b[0m\u001b[0;34m)\u001b[0m\u001b[0;34m\u001b[0m\u001b[0;34m\u001b[0m\u001b[0m\n\u001b[0m\u001b[1;32m    266\u001b[0m       \u001b[0;32mif\u001b[0m \u001b[0;32mnot\u001b[0m \u001b[0misinstance\u001b[0m\u001b[0;34m(\u001b[0m\u001b[0mbatch_outs\u001b[0m\u001b[0;34m,\u001b[0m \u001b[0mlist\u001b[0m\u001b[0;34m)\u001b[0m\u001b[0;34m:\u001b[0m\u001b[0;34m\u001b[0m\u001b[0;34m\u001b[0m\u001b[0m\n\u001b[1;32m    267\u001b[0m         \u001b[0mbatch_outs\u001b[0m \u001b[0;34m=\u001b[0m \u001b[0;34m[\u001b[0m\u001b[0mbatch_outs\u001b[0m\u001b[0;34m]\u001b[0m\u001b[0;34m\u001b[0m\u001b[0;34m\u001b[0m\u001b[0m\n",
            "\u001b[0;32m/usr/local/lib/python3.6/dist-packages/tensorflow_core/python/keras/engine/training.py\u001b[0m in \u001b[0;36mtrain_on_batch\u001b[0;34m(self, x, y, sample_weight, class_weight, reset_metrics)\u001b[0m\n\u001b[1;32m   1015\u001b[0m       \u001b[0mself\u001b[0m\u001b[0;34m.\u001b[0m\u001b[0m_update_sample_weight_modes\u001b[0m\u001b[0;34m(\u001b[0m\u001b[0msample_weights\u001b[0m\u001b[0;34m=\u001b[0m\u001b[0msample_weights\u001b[0m\u001b[0;34m)\u001b[0m\u001b[0;34m\u001b[0m\u001b[0;34m\u001b[0m\u001b[0m\n\u001b[1;32m   1016\u001b[0m       \u001b[0mself\u001b[0m\u001b[0;34m.\u001b[0m\u001b[0m_make_train_function\u001b[0m\u001b[0;34m(\u001b[0m\u001b[0;34m)\u001b[0m\u001b[0;34m\u001b[0m\u001b[0;34m\u001b[0m\u001b[0m\n\u001b[0;32m-> 1017\u001b[0;31m       \u001b[0moutputs\u001b[0m \u001b[0;34m=\u001b[0m \u001b[0mself\u001b[0m\u001b[0;34m.\u001b[0m\u001b[0mtrain_function\u001b[0m\u001b[0;34m(\u001b[0m\u001b[0mins\u001b[0m\u001b[0;34m)\u001b[0m  \u001b[0;31m# pylint: disable=not-callable\u001b[0m\u001b[0;34m\u001b[0m\u001b[0;34m\u001b[0m\u001b[0m\n\u001b[0m\u001b[1;32m   1018\u001b[0m \u001b[0;34m\u001b[0m\u001b[0m\n\u001b[1;32m   1019\u001b[0m     \u001b[0;32mif\u001b[0m \u001b[0mreset_metrics\u001b[0m\u001b[0;34m:\u001b[0m\u001b[0;34m\u001b[0m\u001b[0;34m\u001b[0m\u001b[0m\n",
            "\u001b[0;32m/usr/local/lib/python3.6/dist-packages/tensorflow_core/python/keras/backend.py\u001b[0m in \u001b[0;36m__call__\u001b[0;34m(self, inputs)\u001b[0m\n\u001b[1;32m   3474\u001b[0m \u001b[0;34m\u001b[0m\u001b[0m\n\u001b[1;32m   3475\u001b[0m     fetched = self._callable_fn(*array_vals,\n\u001b[0;32m-> 3476\u001b[0;31m                                 run_metadata=self.run_metadata)\n\u001b[0m\u001b[1;32m   3477\u001b[0m     \u001b[0mself\u001b[0m\u001b[0;34m.\u001b[0m\u001b[0m_call_fetch_callbacks\u001b[0m\u001b[0;34m(\u001b[0m\u001b[0mfetched\u001b[0m\u001b[0;34m[\u001b[0m\u001b[0;34m-\u001b[0m\u001b[0mlen\u001b[0m\u001b[0;34m(\u001b[0m\u001b[0mself\u001b[0m\u001b[0;34m.\u001b[0m\u001b[0m_fetches\u001b[0m\u001b[0;34m)\u001b[0m\u001b[0;34m:\u001b[0m\u001b[0;34m]\u001b[0m\u001b[0;34m)\u001b[0m\u001b[0;34m\u001b[0m\u001b[0;34m\u001b[0m\u001b[0m\n\u001b[1;32m   3478\u001b[0m     output_structure = nest.pack_sequence_as(\n",
            "\u001b[0;32m/usr/local/lib/python3.6/dist-packages/tensorflow_core/python/client/session.py\u001b[0m in \u001b[0;36m__call__\u001b[0;34m(self, *args, **kwargs)\u001b[0m\n\u001b[1;32m   1470\u001b[0m         ret = tf_session.TF_SessionRunCallable(self._session._session,\n\u001b[1;32m   1471\u001b[0m                                                \u001b[0mself\u001b[0m\u001b[0;34m.\u001b[0m\u001b[0m_handle\u001b[0m\u001b[0;34m,\u001b[0m \u001b[0margs\u001b[0m\u001b[0;34m,\u001b[0m\u001b[0;34m\u001b[0m\u001b[0;34m\u001b[0m\u001b[0m\n\u001b[0;32m-> 1472\u001b[0;31m                                                run_metadata_ptr)\n\u001b[0m\u001b[1;32m   1473\u001b[0m         \u001b[0;32mif\u001b[0m \u001b[0mrun_metadata\u001b[0m\u001b[0;34m:\u001b[0m\u001b[0;34m\u001b[0m\u001b[0;34m\u001b[0m\u001b[0m\n\u001b[1;32m   1474\u001b[0m           \u001b[0mproto_data\u001b[0m \u001b[0;34m=\u001b[0m \u001b[0mtf_session\u001b[0m\u001b[0;34m.\u001b[0m\u001b[0mTF_GetBuffer\u001b[0m\u001b[0;34m(\u001b[0m\u001b[0mrun_metadata_ptr\u001b[0m\u001b[0;34m)\u001b[0m\u001b[0;34m\u001b[0m\u001b[0;34m\u001b[0m\u001b[0m\n",
            "\u001b[0;31mResourceExhaustedError\u001b[0m: 2 root error(s) found.\n  (0) Resource exhausted: OOM when allocating tensor with shape[20,128,64,64] and type float on /job:localhost/replica:0/task:0/device:GPU:0 by allocator GPU_0_bfc\n\t [[{{node training_2/Adam/gradients/gradients/zeros_198}}]]\nHint: If you want to see a list of allocated tensors when OOM happens, add report_tensor_allocations_upon_oom to RunOptions for current allocation info.\n\n\t [[metrics_2/jaccard_index/Identity/_3459]]\nHint: If you want to see a list of allocated tensors when OOM happens, add report_tensor_allocations_upon_oom to RunOptions for current allocation info.\n\n  (1) Resource exhausted: OOM when allocating tensor with shape[20,128,64,64] and type float on /job:localhost/replica:0/task:0/device:GPU:0 by allocator GPU_0_bfc\n\t [[{{node training_2/Adam/gradients/gradients/zeros_198}}]]\nHint: If you want to see a list of allocated tensors when OOM happens, add report_tensor_allocations_upon_oom to RunOptions for current allocation info.\n\n0 successful operations.\n0 derived errors ignored."
          ]
        }
      ]
    },
    {
      "cell_type": "code",
      "metadata": {
        "id": "xZDH91v1JQcn",
        "colab_type": "code",
        "colab": {}
      },
      "source": [
        ""
      ],
      "execution_count": 0,
      "outputs": []
    }
  ]
}